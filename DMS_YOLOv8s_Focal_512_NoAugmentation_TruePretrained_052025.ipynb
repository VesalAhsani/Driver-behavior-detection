{
  "nbformat": 4,
  "nbformat_minor": 0,
  "metadata": {
    "colab": {
      "provenance": [],
      "gpuType": "L4",
      "authorship_tag": "ABX9TyNNd5Imi1zrNk2zky7JaizX",
      "include_colab_link": true
    },
    "kernelspec": {
      "name": "python3",
      "display_name": "Python 3"
    },
    "language_info": {
      "name": "python"
    },
    "accelerator": "GPU"
  },
  "cells": [
    {
      "cell_type": "markdown",
      "metadata": {
        "id": "view-in-github",
        "colab_type": "text"
      },
      "source": [
        "<a href=\"https://colab.research.google.com/github/VesalAhsani/Driver-behavior-detection/blob/main/DMS_YOLOv8s_Focal_512_NoAugmentation_TruePretrained_052025.ipynb\" target=\"_parent\"><img src=\"https://colab.research.google.com/assets/colab-badge.svg\" alt=\"Open In Colab\"/></a>"
      ]
    },
    {
      "cell_type": "markdown",
      "source": [
        "# YOLOv8-s Classification @ 512px on Colab\n",
        "No Augmentation!\n",
        "\n",
        "REAL Focal with lower alpha and gamma!!\n",
        "\n",
        "Pretrained = True.."
      ],
      "metadata": {
        "id": "iW6zwZTF3z7h"
      }
    },
    {
      "cell_type": "code",
      "execution_count": 1,
      "metadata": {
        "colab": {
          "base_uri": "https://localhost:8080/"
        },
        "id": "hrPoYrop3vZD",
        "outputId": "293e27a2-d789-4362-9862-e4ca8b411c5f"
      },
      "outputs": [
        {
          "output_type": "stream",
          "name": "stdout",
          "text": [
            "\u001b[2K   \u001b[90m━━━━━━━━━━━━━━━━━━━━━━━━━━━━━━━━━━━━━━━━\u001b[0m \u001b[32m1.0/1.0 MB\u001b[0m \u001b[31m28.4 MB/s\u001b[0m eta \u001b[36m0:00:00\u001b[0m\n",
            "\u001b[2K   \u001b[90m━━━━━━━━━━━━━━━━━━━━━━━━━━━━━━━━━━━━━━━━\u001b[0m \u001b[32m363.4/363.4 MB\u001b[0m \u001b[31m2.8 MB/s\u001b[0m eta \u001b[36m0:00:00\u001b[0m\n",
            "\u001b[2K   \u001b[90m━━━━━━━━━━━━━━━━━━━━━━━━━━━━━━━━━━━━━━━━\u001b[0m \u001b[32m13.8/13.8 MB\u001b[0m \u001b[31m97.1 MB/s\u001b[0m eta \u001b[36m0:00:00\u001b[0m\n",
            "\u001b[2K   \u001b[90m━━━━━━━━━━━━━━━━━━━━━━━━━━━━━━━━━━━━━━━━\u001b[0m \u001b[32m24.6/24.6 MB\u001b[0m \u001b[31m82.1 MB/s\u001b[0m eta \u001b[36m0:00:00\u001b[0m\n",
            "\u001b[2K   \u001b[90m━━━━━━━━━━━━━━━━━━━━━━━━━━━━━━━━━━━━━━━━\u001b[0m \u001b[32m883.7/883.7 kB\u001b[0m \u001b[31m36.8 MB/s\u001b[0m eta \u001b[36m0:00:00\u001b[0m\n",
            "\u001b[2K   \u001b[90m━━━━━━━━━━━━━━━━━━━━━━━━━━━━━━━━━━━━━━━━\u001b[0m \u001b[32m664.8/664.8 MB\u001b[0m \u001b[31m1.6 MB/s\u001b[0m eta \u001b[36m0:00:00\u001b[0m\n",
            "\u001b[2K   \u001b[90m━━━━━━━━━━━━━━━━━━━━━━━━━━━━━━━━━━━━━━━━\u001b[0m \u001b[32m211.5/211.5 MB\u001b[0m \u001b[31m4.1 MB/s\u001b[0m eta \u001b[36m0:00:00\u001b[0m\n",
            "\u001b[2K   \u001b[90m━━━━━━━━━━━━━━━━━━━━━━━━━━━━━━━━━━━━━━━━\u001b[0m \u001b[32m56.3/56.3 MB\u001b[0m \u001b[31m40.2 MB/s\u001b[0m eta \u001b[36m0:00:00\u001b[0m\n",
            "\u001b[2K   \u001b[90m━━━━━━━━━━━━━━━━━━━━━━━━━━━━━━━━━━━━━━━━\u001b[0m \u001b[32m127.9/127.9 MB\u001b[0m \u001b[31m17.5 MB/s\u001b[0m eta \u001b[36m0:00:00\u001b[0m\n",
            "\u001b[2K   \u001b[90m━━━━━━━━━━━━━━━━━━━━━━━━━━━━━━━━━━━━━━━━\u001b[0m \u001b[32m207.5/207.5 MB\u001b[0m \u001b[31m4.1 MB/s\u001b[0m eta \u001b[36m0:00:00\u001b[0m\n",
            "\u001b[2K   \u001b[90m━━━━━━━━━━━━━━━━━━━━━━━━━━━━━━━━━━━━━━━━\u001b[0m \u001b[32m21.1/21.1 MB\u001b[0m \u001b[31m108.9 MB/s\u001b[0m eta \u001b[36m0:00:00\u001b[0m\n",
            "\u001b[?25h"
          ]
        }
      ],
      "source": [
        "# @title 1️⃣ Install dependencies\n",
        "# Colab comes with torch+cuda preinstalled, but we upgrade ultralytics.\n",
        "!pip install --upgrade ultralytics --quiet"
      ]
    },
    {
      "cell_type": "code",
      "source": [
        "# @title 2️⃣ Mount Google Drive\n",
        "from google.colab import drive\n",
        "drive.mount('/content/drive')"
      ],
      "metadata": {
        "colab": {
          "base_uri": "https://localhost:8080/"
        },
        "id": "2Ei-ofxw3zml",
        "outputId": "ad5c686f-34fb-4b11-c03c-2aac7e7ad360"
      },
      "execution_count": 2,
      "outputs": [
        {
          "output_type": "stream",
          "name": "stdout",
          "text": [
            "Mounted at /content/drive\n"
          ]
        }
      ]
    },
    {
      "cell_type": "code",
      "source": [
        "# @title 3️⃣ Paths & Unzip Dataset\n",
        "import os, zipfile, glob\n",
        "from pathlib import Path\n",
        "\n",
        "# Adjust these to match where you put your ZIP in Drive:\n",
        "ZIP_PATH     = \"/content/drive/MyDrive/DMS_Mixed_NotAugmented_512.zip\"\n",
        "EXTRACT_DIR  = \"/content/dataset512\"\n",
        "SPLIT_DIR    = os.path.join(EXTRACT_DIR, \"Mixed_SynDD2_100Data_Rearview_grayscale_512\")  # must contain train/ & val/\n",
        "RESULTS_DIR  = \"/content/drive/MyDrive/yolov8s_cls_512_results\"\n",
        "\n",
        "# 3.1 Unzip if needed\n",
        "if not os.path.isdir(SPLIT_DIR):\n",
        "    print(\"📦 Unzipping dataset…\")\n",
        "    with zipfile.ZipFile(ZIP_PATH, 'r') as z:\n",
        "        z.extractall(EXTRACT_DIR)\n",
        "    print(\"✅ Unzipped to\", EXTRACT_DIR)\n",
        "\n",
        "# 🔧 Split the flat folder of 14 classes into train/ and val/ sets\n",
        "import os, random, shutil, glob\n",
        "from pathlib import Path\n",
        "\n",
        "# --- config -----------------------------------------------------------\n",
        "SPLIT_DIR   = Path('/content/dataset512/Mixed_SynDD2_100Data_Rearview_grayscale_512')  # where the 14 class dirs are\n",
        "TRAIN_RATIO = 0.90                                   # 90‑10 split\n",
        "seed        = 42                                     # so it’s repeatable\n",
        "# ----------------------------------------------------------------------\n",
        "\n",
        "random.seed(seed)\n",
        "\n",
        "train_root = SPLIT_DIR / 'train'\n",
        "val_root   = SPLIT_DIR / 'val'\n",
        "train_root.mkdir(exist_ok=True)\n",
        "val_root.mkdir(exist_ok=True)\n",
        "\n",
        "cls_dirs = sorted(\n",
        "   [d for d in SPLIT_DIR.iterdir() if d.is_dir() and d.name not in ('train','val')],\n",
        "   key=lambda d: d.name\n",
        ")\n",
        "assert len(cls_dirs) == 14, f\"Expected 14 class folders, found {len(cls_dirs)}\"\n",
        "\n",
        "for cls_dir in cls_dirs:\n",
        "    images = sorted(glob.glob(str(cls_dir / '*')))        # jpg / png / etc.\n",
        "    random.shuffle(images)\n",
        "    split_idx = int(len(images) * TRAIN_RATIO)\n",
        "\n",
        "    # prepare destination folders\n",
        "    (train_root / cls_dir.name).mkdir(parents=True, exist_ok=True)\n",
        "    (val_root   / cls_dir.name).mkdir(parents=True, exist_ok=True)\n",
        "\n",
        "    # move (or copy) the files\n",
        "    for i, img_path in enumerate(images):\n",
        "        dest_root = train_root if i < split_idx else val_root\n",
        "        shutil.move(img_path, dest_root / cls_dir.name / Path(img_path).name)\n",
        "\n",
        "    # optional: remove the now‑empty original class folder\n",
        "    cls_dir.rmdir()\n",
        "\n",
        "    print(f\"{cls_dir.name:<20} → {split_idx:5d} train | {len(images)-split_idx:5d} val\")\n",
        "\n",
        "print(\"\\n✅  Dataset now has the required .../train/ and .../val/ structure\")\n",
        "\n",
        "\n",
        "# 3.2 Verify\n",
        "assert os.path.isdir(os.path.join(SPLIT_DIR, \"train\")), \"❌ train/ missing!\"\n",
        "assert os.path.isdir(os.path.join(SPLIT_DIR, \"val\"  )), \"❌ val/   missing!\"\n",
        "\n",
        "train_images = glob.glob(os.path.join(SPLIT_DIR, \"train\", \"*\", \"*.jpg\"))\n",
        "val_images   = glob.glob(os.path.join(SPLIT_DIR, \"val\",   \"*\", \"*.jpg\"))\n",
        "print(f\"🧾 Found {len(train_images):,} train and {len(val_images):,} val images\")"
      ],
      "metadata": {
        "colab": {
          "base_uri": "https://localhost:8080/"
        },
        "id": "9XC8lpzH3zju",
        "outputId": "77d942dd-e43b-4900-9b69-bc810828ae88"
      },
      "execution_count": 3,
      "outputs": [
        {
          "output_type": "stream",
          "name": "stdout",
          "text": [
            "📦 Unzipping dataset…\n",
            "✅ Unzipped to /content/dataset512\n",
            "Control_Panel        →  8507 train |   946 val\n",
            "Drinking             →  7790 train |   866 val\n",
            "Eating               →  2159 train |   240 val\n",
            "Makeup               →  6196 train |   689 val\n",
            "Normal               →  7975 train |   887 val\n",
            "Phone_Call_(Left)    →  7125 train |   792 val\n",
            "Phone_Call_(Right)   →  7437 train |   827 val\n",
            "Reaching_Behind      →  4633 train |   515 val\n",
            "Sleep                →  4450 train |   495 val\n",
            "Smoking              → 12368 train |  1375 val\n",
            "Talk_to_passengers   →  5335 train |   593 val\n",
            "Text_(Left)          →  5982 train |   665 val\n",
            "Text_(Right)         →  5780 train |   643 val\n",
            "Yawning              →  3265 train |   363 val\n",
            "\n",
            "✅  Dataset now has the required .../train/ and .../val/ structure\n",
            "🧾 Found 89,002 train and 9,896 val images\n"
          ]
        }
      ]
    },
    {
      "cell_type": "code",
      "source": [
        "# @title 4️⃣ Compute α (class imbalance) for focal loss\n",
        "import torch\n",
        "\n",
        "# original per‑class counts\n",
        "# after splitting, count only train images per class\n",
        "class_counts = {}\n",
        "\n",
        "for cls_folder in sorted((SPLIT_DIR/\"train\").iterdir(), key=lambda d: d.name):\n",
        "    class_counts[cls_folder.name] = len(list(cls_folder.glob('*')))\n",
        "\n",
        "# then compute alpha as before\n",
        "max_n       = max(class_counts.values())\n",
        "raw_alpha   = torch.tensor([max_n / class_counts[c] for c in class_counts], dtype=torch.float32)\n",
        "alpha_clipped = torch.minimum(raw_alpha, torch.tensor(2.2))  # cap at 2.2 if you like\n",
        "alpha       = alpha_clipped.cuda()\n",
        "\n",
        "print(\"α weights (train only):\", alpha)"
      ],
      "metadata": {
        "colab": {
          "base_uri": "https://localhost:8080/"
        },
        "id": "bIFz3caX3zhM",
        "outputId": "11237ef0-4f23-4a8c-a930-297228b97367"
      },
      "execution_count": 4,
      "outputs": [
        {
          "output_type": "stream",
          "name": "stdout",
          "text": [
            "α weights (train only): tensor([1.4539, 1.5877, 2.2000, 1.9961, 1.5508, 1.7359, 1.6630, 2.2000, 2.2000,\n",
            "        1.0000, 2.2000, 2.0675, 2.1398, 2.2000], device='cuda:0')\n"
          ]
        }
      ]
    },
    {
      "cell_type": "code",
      "source": [
        "# @title 5️⃣ Define FocalLoss & Train YOLOv8-s-cls\n",
        "import torch.nn as nn\n",
        "from ultralytics import YOLO\n",
        "\n",
        "# ─── Focal Loss ──────────────────────────\n",
        "class FocalLoss(nn.Module):\n",
        "    def __init__(self, gamma=1.5, alpha=None, reduction='mean'):\n",
        "        super().__init__()\n",
        "        self.gamma, self.alpha, self.reduction = gamma, alpha, reduction\n",
        "\n",
        "    def forward(self, inputs, targets):\n",
        "        logp = torch.nn.functional.log_softmax(inputs, dim=-1)\n",
        "        p    = torch.exp(logp)\n",
        "        t    = targets.long()\n",
        "        pt   = p.gather(-1, t.unsqueeze(-1)).squeeze(-1)\n",
        "        focal = (1 - pt) ** self.gamma\n",
        "        loss = -focal * logp.gather(-1, t.unsqueeze(-1)).squeeze(-1)\n",
        "        if self.alpha is not None:\n",
        "            loss = loss * self.alpha[t]\n",
        "        return loss.mean() if self.reduction=='mean' else loss.sum()\n",
        "\n",
        "# ─── Load & override loss ─────────────────\n",
        "print(\"🚀 Loading YOLOv8s-cls…\")\n",
        "model = YOLO(\"yolov8s-cls.pt\")\n",
        "\n",
        "# model = YOLO('/content/drive/MyDrive/yolov8s_cls_512_results/yolov8s_cls_512_focal/weights/last.pt')             # pretrained backbone\n",
        "\n",
        "model.model.loss_fn = FocalLoss(gamma=1.5, alpha=alpha)\n",
        "print(\"🔍 Active loss_fn:\", model.model.loss_fn)\n",
        "\n",
        "# ─── Train ───────────────────────────────\n",
        "print(\"📚 Training…\")\n",
        "model.train(\n",
        "    data=SPLIT_DIR,          # train/ & val/ subfolders\n",
        "    epochs=50,\n",
        "    batch=32,\n",
        "    imgsz=512,\n",
        "    fliplr=0,         # <-- no left‑right flips for any image\n",
        "    flipud=0,         # <-- no up‑down flips for any image\n",
        "    project=RESULTS_DIR,\n",
        "    name=\"yolov8s_cls_512_focal\",\n",
        "    pretrained=True,\n",
        "    lr0=5e-4,\n",
        "    optimizer=\"Adam\",\n",
        ")\n",
        "\n",
        "# print(\"✅ Training resumed!\")\n",
        "\n",
        "# ─── Validate & copy best.pt ────────────\n",
        "print(\"📊 Validating…\")\n",
        "model.val()\n",
        "\n",
        "src = os.path.join(model.trainer.save_dir, \"weights/best.pt\")\n",
        "dst = os.path.join(RESULTS_DIR, \"yolov8s_cls_512_focal\", \"weights/best.pt\")\n",
        "os.makedirs(os.path.dirname(dst), exist_ok=True)\n",
        "os.system(f\"cp {src} {dst}\")\n",
        "print(\"✅ Best weights saved to:\", dst)"
      ],
      "metadata": {
        "colab": {
          "base_uri": "https://localhost:8080/"
        },
        "id": "mdlUYXD74ADR",
        "outputId": "d09e5e5e-e1c2-46f3-8fa6-4611865c7138"
      },
      "execution_count": 5,
      "outputs": [
        {
          "output_type": "stream",
          "name": "stdout",
          "text": [
            "Creating new Ultralytics Settings v0.0.6 file ✅ \n",
            "View Ultralytics Settings with 'yolo settings' or at '/root/.config/Ultralytics/settings.json'\n",
            "Update Settings with 'yolo settings key=value', i.e. 'yolo settings runs_dir=path/to/dir'. For help see https://docs.ultralytics.com/quickstart/#ultralytics-settings.\n",
            "🚀 Loading YOLOv8s-cls…\n",
            "Downloading https://github.com/ultralytics/assets/releases/download/v8.3.0/yolov8s-cls.pt to 'yolov8s-cls.pt'...\n"
          ]
        },
        {
          "output_type": "stream",
          "name": "stderr",
          "text": [
            "100%|██████████| 12.3M/12.3M [00:00<00:00, 110MB/s] \n"
          ]
        },
        {
          "output_type": "stream",
          "name": "stdout",
          "text": [
            "🔍 Active loss_fn: FocalLoss()\n",
            "📚 Training…\n",
            "Ultralytics 8.3.133 🚀 Python-3.11.12 torch-2.6.0+cu124 CUDA:0 (NVIDIA L4, 22693MiB)\n",
            "\u001b[34m\u001b[1mengine/trainer: \u001b[0magnostic_nms=False, amp=True, augment=False, auto_augment=randaugment, batch=32, bgr=0.0, box=7.5, cache=False, cfg=None, classes=None, close_mosaic=10, cls=0.5, conf=None, copy_paste=0.0, copy_paste_mode=flip, cos_lr=False, cutmix=0.0, data=/content/dataset512/Mixed_SynDD2_100Data_Rearview_grayscale_512, degrees=0.0, deterministic=True, device=None, dfl=1.5, dnn=False, dropout=0.0, dynamic=False, embed=None, epochs=50, erasing=0.4, exist_ok=False, fliplr=0, flipud=0, format=torchscript, fraction=1.0, freeze=None, half=False, hsv_h=0.015, hsv_s=0.7, hsv_v=0.4, imgsz=512, int8=False, iou=0.7, keras=False, kobj=1.0, line_width=None, lr0=0.0005, lrf=0.01, mask_ratio=4, max_det=300, mixup=0.0, mode=train, model=yolov8s-cls.pt, momentum=0.937, mosaic=1.0, multi_scale=False, name=yolov8s_cls_512_focal3, nbs=64, nms=False, opset=None, optimize=False, optimizer=Adam, overlap_mask=True, patience=100, perspective=0.0, plots=True, pose=12.0, pretrained=True, profile=False, project=/content/drive/MyDrive/yolov8s_cls_512_results, rect=False, resume=False, retina_masks=False, save=True, save_conf=False, save_crop=False, save_dir=/content/drive/MyDrive/yolov8s_cls_512_results/yolov8s_cls_512_focal3, save_frames=False, save_json=False, save_period=-1, save_txt=False, scale=0.5, seed=0, shear=0.0, show=False, show_boxes=True, show_conf=True, show_labels=True, simplify=True, single_cls=False, source=None, split=val, stream_buffer=False, task=classify, time=None, tracker=botsort.yaml, translate=0.1, val=True, verbose=True, vid_stride=1, visualize=False, warmup_bias_lr=0.1, warmup_epochs=3.0, warmup_momentum=0.8, weight_decay=0.0005, workers=8, workspace=None\n",
            "\u001b[34m\u001b[1mtrain:\u001b[0m /content/dataset512/Mixed_SynDD2_100Data_Rearview_grayscale_512/train... found 89002 images in 14 classes ✅ \n",
            "\u001b[34m\u001b[1mval:\u001b[0m /content/dataset512/Mixed_SynDD2_100Data_Rearview_grayscale_512/val... found 9896 images in 14 classes ✅ \n",
            "\u001b[34m\u001b[1mtest:\u001b[0m None...\n",
            "Overriding model.yaml nc=1000 with nc=14\n",
            "\n",
            "                   from  n    params  module                                       arguments                     \n",
            "  0                  -1  1       928  ultralytics.nn.modules.conv.Conv             [3, 32, 3, 2]                 \n",
            "  1                  -1  1     18560  ultralytics.nn.modules.conv.Conv             [32, 64, 3, 2]                \n",
            "  2                  -1  1     29056  ultralytics.nn.modules.block.C2f             [64, 64, 1, True]             \n",
            "  3                  -1  1     73984  ultralytics.nn.modules.conv.Conv             [64, 128, 3, 2]               \n",
            "  4                  -1  2    197632  ultralytics.nn.modules.block.C2f             [128, 128, 2, True]           \n",
            "  5                  -1  1    295424  ultralytics.nn.modules.conv.Conv             [128, 256, 3, 2]              \n",
            "  6                  -1  2    788480  ultralytics.nn.modules.block.C2f             [256, 256, 2, True]           \n",
            "  7                  -1  1   1180672  ultralytics.nn.modules.conv.Conv             [256, 512, 3, 2]              \n",
            "  8                  -1  1   1838080  ultralytics.nn.modules.block.C2f             [512, 512, 1, True]           \n",
            "  9                  -1  1    675854  ultralytics.nn.modules.head.Classify         [512, 14]                     \n",
            "YOLOv8s-cls summary: 56 layers, 5,098,670 parameters, 5,098,670 gradients, 12.6 GFLOPs\n",
            "Transferred 156/158 items from pretrained weights\n",
            "\u001b[34m\u001b[1mAMP: \u001b[0mrunning Automatic Mixed Precision (AMP) checks...\n",
            "Downloading https://github.com/ultralytics/assets/releases/download/v8.3.0/yolo11n.pt to 'yolo11n.pt'...\n"
          ]
        },
        {
          "output_type": "stream",
          "name": "stderr",
          "text": [
            "100%|██████████| 5.35M/5.35M [00:00<00:00, 96.7MB/s]\n"
          ]
        },
        {
          "output_type": "stream",
          "name": "stdout",
          "text": [
            "\u001b[34m\u001b[1mAMP: \u001b[0mchecks passed ✅\n",
            "\u001b[34m\u001b[1mtrain: \u001b[0mFast image access ✅ (ping: 0.0±0.0 ms, read: 1619.7±628.2 MB/s, size: 45.2 KB)\n"
          ]
        },
        {
          "output_type": "stream",
          "name": "stderr",
          "text": [
            "\u001b[34m\u001b[1mtrain: \u001b[0mScanning /content/dataset512/Mixed_SynDD2_100Data_Rearview_grayscale_512/train... 89002 images, 0 corrupt: 100%|██████████| 89002/89002 [00:25<00:00, 3531.64it/s]\n"
          ]
        },
        {
          "output_type": "stream",
          "name": "stdout",
          "text": [
            "\u001b[34m\u001b[1mtrain: \u001b[0mNew cache created: /content/dataset512/Mixed_SynDD2_100Data_Rearview_grayscale_512/train.cache\n",
            "\u001b[34m\u001b[1mval: \u001b[0mFast image access ✅ (ping: 0.0±0.0 ms, read: 983.7±531.8 MB/s, size: 45.5 KB)\n"
          ]
        },
        {
          "output_type": "stream",
          "name": "stderr",
          "text": [
            "\u001b[34m\u001b[1mval: \u001b[0mScanning /content/dataset512/Mixed_SynDD2_100Data_Rearview_grayscale_512/val... 9896 images, 0 corrupt: 100%|██████████| 9896/9896 [00:02<00:00, 3725.12it/s]\n"
          ]
        },
        {
          "output_type": "stream",
          "name": "stdout",
          "text": [
            "\u001b[34m\u001b[1mval: \u001b[0mNew cache created: /content/dataset512/Mixed_SynDD2_100Data_Rearview_grayscale_512/val.cache\n",
            "\u001b[34m\u001b[1moptimizer:\u001b[0m Adam(lr=0.0005, momentum=0.937) with parameter groups 26 weight(decay=0.0), 27 weight(decay=0.0005), 27 bias(decay=0.0)\n",
            "Image sizes 512 train, 512 val\n",
            "Using 8 dataloader workers\n",
            "Logging results to \u001b[1m/content/drive/MyDrive/yolov8s_cls_512_results/yolov8s_cls_512_focal3\u001b[0m\n",
            "Starting training for 50 epochs...\n",
            "\n",
            "      Epoch    GPU_mem       loss  Instances       Size\n"
          ]
        },
        {
          "output_type": "stream",
          "name": "stderr",
          "text": [
            "       1/50      2.96G       2.64         32        512:   0%|          | 4/2782 [00:02<20:40,  2.24it/s]"
          ]
        },
        {
          "output_type": "stream",
          "name": "stdout",
          "text": [
            "Downloading https://ultralytics.com/assets/Arial.ttf to '/root/.config/Ultralytics/Arial.ttf'...\n"
          ]
        },
        {
          "output_type": "stream",
          "name": "stderr",
          "text": [
            "       1/50      3.25G      2.626         32        512:   0%|          | 8/2782 [00:03<11:05,  4.17it/s]\n",
            "100%|██████████| 755k/755k [00:00<00:00, 20.6MB/s]\n",
            "       1/50      3.25G      1.124         10        512: 100%|██████████| 2782/2782 [06:02<00:00,  7.66it/s]\n",
            "               classes   top1_acc   top5_acc: 100%|██████████| 155/155 [00:17<00:00,  9.07it/s]"
          ]
        },
        {
          "output_type": "stream",
          "name": "stdout",
          "text": [
            "                   all      0.904      0.994\n"
          ]
        },
        {
          "output_type": "stream",
          "name": "stderr",
          "text": [
            "\n"
          ]
        },
        {
          "output_type": "stream",
          "name": "stdout",
          "text": [
            "\n",
            "      Epoch    GPU_mem       loss  Instances       Size\n"
          ]
        },
        {
          "output_type": "stream",
          "name": "stderr",
          "text": [
            "       2/50      3.76G     0.4694         10        512: 100%|██████████| 2782/2782 [05:59<00:00,  7.73it/s]\n",
            "               classes   top1_acc   top5_acc: 100%|██████████| 155/155 [00:16<00:00,  9.63it/s]\n"
          ]
        },
        {
          "output_type": "stream",
          "name": "stdout",
          "text": [
            "                   all      0.966      0.998\n",
            "\n",
            "      Epoch    GPU_mem       loss  Instances       Size\n"
          ]
        },
        {
          "output_type": "stream",
          "name": "stderr",
          "text": [
            "       3/50      3.78G     0.3637         10        512: 100%|██████████| 2782/2782 [05:59<00:00,  7.74it/s]\n",
            "               classes   top1_acc   top5_acc: 100%|██████████| 155/155 [00:15<00:00,  9.73it/s]"
          ]
        },
        {
          "output_type": "stream",
          "name": "stdout",
          "text": [
            "                   all      0.967      0.998\n"
          ]
        },
        {
          "output_type": "stream",
          "name": "stderr",
          "text": [
            "\n"
          ]
        },
        {
          "output_type": "stream",
          "name": "stdout",
          "text": [
            "\n",
            "      Epoch    GPU_mem       loss  Instances       Size\n"
          ]
        },
        {
          "output_type": "stream",
          "name": "stderr",
          "text": [
            "       4/50      3.79G     0.3323         10        512: 100%|██████████| 2782/2782 [06:01<00:00,  7.69it/s]\n",
            "               classes   top1_acc   top5_acc: 100%|██████████| 155/155 [00:15<00:00,  9.73it/s]"
          ]
        },
        {
          "output_type": "stream",
          "name": "stdout",
          "text": [
            "                   all      0.977      0.999\n"
          ]
        },
        {
          "output_type": "stream",
          "name": "stderr",
          "text": [
            "\n"
          ]
        },
        {
          "output_type": "stream",
          "name": "stdout",
          "text": [
            "\n",
            "      Epoch    GPU_mem       loss  Instances       Size\n"
          ]
        },
        {
          "output_type": "stream",
          "name": "stderr",
          "text": [
            "       5/50       3.8G     0.2992         10        512: 100%|██████████| 2782/2782 [06:03<00:00,  7.66it/s]\n",
            "               classes   top1_acc   top5_acc: 100%|██████████| 155/155 [00:15<00:00,  9.71it/s]\n"
          ]
        },
        {
          "output_type": "stream",
          "name": "stdout",
          "text": [
            "                   all      0.982      0.999\n",
            "\n",
            "      Epoch    GPU_mem       loss  Instances       Size\n"
          ]
        },
        {
          "output_type": "stream",
          "name": "stderr",
          "text": [
            "       6/50      3.81G     0.2823         10        512: 100%|██████████| 2782/2782 [05:59<00:00,  7.73it/s]\n",
            "               classes   top1_acc   top5_acc: 100%|██████████| 155/155 [00:15<00:00,  9.86it/s]"
          ]
        },
        {
          "output_type": "stream",
          "name": "stdout",
          "text": [
            "                   all      0.985      0.999\n"
          ]
        },
        {
          "output_type": "stream",
          "name": "stderr",
          "text": [
            "\n"
          ]
        },
        {
          "output_type": "stream",
          "name": "stdout",
          "text": [
            "\n",
            "      Epoch    GPU_mem       loss  Instances       Size\n"
          ]
        },
        {
          "output_type": "stream",
          "name": "stderr",
          "text": [
            "       7/50      3.82G     0.2742         10        512: 100%|██████████| 2782/2782 [06:00<00:00,  7.72it/s]\n",
            "               classes   top1_acc   top5_acc: 100%|██████████| 155/155 [00:15<00:00,  9.83it/s]"
          ]
        },
        {
          "output_type": "stream",
          "name": "stdout",
          "text": [
            "                   all      0.987          1\n"
          ]
        },
        {
          "output_type": "stream",
          "name": "stderr",
          "text": [
            "\n"
          ]
        },
        {
          "output_type": "stream",
          "name": "stdout",
          "text": [
            "\n",
            "      Epoch    GPU_mem       loss  Instances       Size\n"
          ]
        },
        {
          "output_type": "stream",
          "name": "stderr",
          "text": [
            "       8/50      3.83G     0.2606         10        512: 100%|██████████| 2782/2782 [06:00<00:00,  7.72it/s]\n",
            "               classes   top1_acc   top5_acc: 100%|██████████| 155/155 [00:15<00:00,  9.71it/s]"
          ]
        },
        {
          "output_type": "stream",
          "name": "stdout",
          "text": [
            "                   all      0.988          1\n"
          ]
        },
        {
          "output_type": "stream",
          "name": "stderr",
          "text": [
            "\n"
          ]
        },
        {
          "output_type": "stream",
          "name": "stdout",
          "text": [
            "\n",
            "      Epoch    GPU_mem       loss  Instances       Size\n"
          ]
        },
        {
          "output_type": "stream",
          "name": "stderr",
          "text": [
            "       9/50      3.85G     0.2528         10        512: 100%|██████████| 2782/2782 [05:59<00:00,  7.74it/s]\n",
            "               classes   top1_acc   top5_acc: 100%|██████████| 155/155 [00:16<00:00,  9.48it/s]"
          ]
        },
        {
          "output_type": "stream",
          "name": "stdout",
          "text": [
            "                   all      0.989          1\n"
          ]
        },
        {
          "output_type": "stream",
          "name": "stderr",
          "text": [
            "\n"
          ]
        },
        {
          "output_type": "stream",
          "name": "stdout",
          "text": [
            "\n",
            "      Epoch    GPU_mem       loss  Instances       Size\n"
          ]
        },
        {
          "output_type": "stream",
          "name": "stderr",
          "text": [
            "      10/50      3.86G      0.245         10        512: 100%|██████████| 2782/2782 [06:01<00:00,  7.69it/s]\n",
            "               classes   top1_acc   top5_acc: 100%|██████████| 155/155 [00:15<00:00,  9.88it/s]"
          ]
        },
        {
          "output_type": "stream",
          "name": "stdout",
          "text": [
            "                   all      0.989          1\n"
          ]
        },
        {
          "output_type": "stream",
          "name": "stderr",
          "text": [
            "\n"
          ]
        },
        {
          "output_type": "stream",
          "name": "stdout",
          "text": [
            "\n",
            "      Epoch    GPU_mem       loss  Instances       Size\n"
          ]
        },
        {
          "output_type": "stream",
          "name": "stderr",
          "text": [
            "      11/50      3.87G     0.2374         10        512: 100%|██████████| 2782/2782 [06:01<00:00,  7.71it/s]\n",
            "               classes   top1_acc   top5_acc: 100%|██████████| 155/155 [00:16<00:00,  9.64it/s]"
          ]
        },
        {
          "output_type": "stream",
          "name": "stdout",
          "text": [
            "                   all      0.989          1\n"
          ]
        },
        {
          "output_type": "stream",
          "name": "stderr",
          "text": [
            "\n"
          ]
        },
        {
          "output_type": "stream",
          "name": "stdout",
          "text": [
            "\n",
            "      Epoch    GPU_mem       loss  Instances       Size\n"
          ]
        },
        {
          "output_type": "stream",
          "name": "stderr",
          "text": [
            "      12/50      3.88G     0.2323         10        512: 100%|██████████| 2782/2782 [06:00<00:00,  7.71it/s]\n",
            "               classes   top1_acc   top5_acc: 100%|██████████| 155/155 [00:16<00:00,  9.60it/s]"
          ]
        },
        {
          "output_type": "stream",
          "name": "stdout",
          "text": [
            "                   all       0.99          1\n"
          ]
        },
        {
          "output_type": "stream",
          "name": "stderr",
          "text": [
            "\n"
          ]
        },
        {
          "output_type": "stream",
          "name": "stdout",
          "text": [
            "\n",
            "      Epoch    GPU_mem       loss  Instances       Size\n"
          ]
        },
        {
          "output_type": "stream",
          "name": "stderr",
          "text": [
            "      13/50      3.89G     0.2295         10        512: 100%|██████████| 2782/2782 [06:02<00:00,  7.68it/s]\n",
            "               classes   top1_acc   top5_acc: 100%|██████████| 155/155 [00:15<00:00,  9.69it/s]"
          ]
        },
        {
          "output_type": "stream",
          "name": "stdout",
          "text": [
            "                   all      0.989          1\n"
          ]
        },
        {
          "output_type": "stream",
          "name": "stderr",
          "text": [
            "\n"
          ]
        },
        {
          "output_type": "stream",
          "name": "stdout",
          "text": [
            "\n",
            "      Epoch    GPU_mem       loss  Instances       Size\n"
          ]
        },
        {
          "output_type": "stream",
          "name": "stderr",
          "text": [
            "      14/50       3.9G     0.2222         10        512: 100%|██████████| 2782/2782 [06:01<00:00,  7.70it/s]\n",
            "               classes   top1_acc   top5_acc: 100%|██████████| 155/155 [00:16<00:00,  9.67it/s]"
          ]
        },
        {
          "output_type": "stream",
          "name": "stdout",
          "text": [
            "                   all       0.99          1\n"
          ]
        },
        {
          "output_type": "stream",
          "name": "stderr",
          "text": [
            "\n"
          ]
        },
        {
          "output_type": "stream",
          "name": "stdout",
          "text": [
            "\n",
            "      Epoch    GPU_mem       loss  Instances       Size\n"
          ]
        },
        {
          "output_type": "stream",
          "name": "stderr",
          "text": [
            "      15/50      3.92G     0.2151         10        512: 100%|██████████| 2782/2782 [06:00<00:00,  7.71it/s]\n",
            "               classes   top1_acc   top5_acc: 100%|██████████| 155/155 [00:15<00:00,  9.98it/s]"
          ]
        },
        {
          "output_type": "stream",
          "name": "stdout",
          "text": [
            "                   all       0.99          1\n"
          ]
        },
        {
          "output_type": "stream",
          "name": "stderr",
          "text": [
            "\n"
          ]
        },
        {
          "output_type": "stream",
          "name": "stdout",
          "text": [
            "\n",
            "      Epoch    GPU_mem       loss  Instances       Size\n"
          ]
        },
        {
          "output_type": "stream",
          "name": "stderr",
          "text": [
            "      16/50      3.93G     0.2095         10        512: 100%|██████████| 2782/2782 [05:59<00:00,  7.73it/s]\n",
            "               classes   top1_acc   top5_acc: 100%|██████████| 155/155 [00:16<00:00,  9.51it/s]"
          ]
        },
        {
          "output_type": "stream",
          "name": "stdout",
          "text": [
            "                   all       0.99          1\n"
          ]
        },
        {
          "output_type": "stream",
          "name": "stderr",
          "text": [
            "\n"
          ]
        },
        {
          "output_type": "stream",
          "name": "stdout",
          "text": [
            "\n",
            "      Epoch    GPU_mem       loss  Instances       Size\n"
          ]
        },
        {
          "output_type": "stream",
          "name": "stderr",
          "text": [
            "      17/50      3.94G     0.2091         10        512: 100%|██████████| 2782/2782 [06:01<00:00,  7.69it/s]\n",
            "               classes   top1_acc   top5_acc: 100%|██████████| 155/155 [00:16<00:00,  9.50it/s]"
          ]
        },
        {
          "output_type": "stream",
          "name": "stdout",
          "text": [
            "                   all       0.99          1\n"
          ]
        },
        {
          "output_type": "stream",
          "name": "stderr",
          "text": [
            "\n"
          ]
        },
        {
          "output_type": "stream",
          "name": "stdout",
          "text": [
            "\n",
            "      Epoch    GPU_mem       loss  Instances       Size\n"
          ]
        },
        {
          "output_type": "stream",
          "name": "stderr",
          "text": [
            "      18/50      3.95G     0.2022         10        512: 100%|██████████| 2782/2782 [06:01<00:00,  7.70it/s]\n",
            "               classes   top1_acc   top5_acc: 100%|██████████| 155/155 [00:16<00:00,  9.61it/s]"
          ]
        },
        {
          "output_type": "stream",
          "name": "stdout",
          "text": [
            "                   all      0.991          1\n"
          ]
        },
        {
          "output_type": "stream",
          "name": "stderr",
          "text": [
            "\n"
          ]
        },
        {
          "output_type": "stream",
          "name": "stdout",
          "text": [
            "\n",
            "      Epoch    GPU_mem       loss  Instances       Size\n"
          ]
        },
        {
          "output_type": "stream",
          "name": "stderr",
          "text": [
            "      19/50      3.96G     0.1976         10        512: 100%|██████████| 2782/2782 [06:01<00:00,  7.70it/s]\n",
            "               classes   top1_acc   top5_acc: 100%|██████████| 155/155 [00:15<00:00,  9.69it/s]"
          ]
        },
        {
          "output_type": "stream",
          "name": "stdout",
          "text": [
            "                   all       0.99          1\n"
          ]
        },
        {
          "output_type": "stream",
          "name": "stderr",
          "text": [
            "\n"
          ]
        },
        {
          "output_type": "stream",
          "name": "stdout",
          "text": [
            "\n",
            "      Epoch    GPU_mem       loss  Instances       Size\n"
          ]
        },
        {
          "output_type": "stream",
          "name": "stderr",
          "text": [
            "      20/50      3.97G     0.1939         10        512: 100%|██████████| 2782/2782 [06:00<00:00,  7.71it/s]\n",
            "               classes   top1_acc   top5_acc: 100%|██████████| 155/155 [00:15<00:00,  9.70it/s]"
          ]
        },
        {
          "output_type": "stream",
          "name": "stdout",
          "text": [
            "                   all      0.991          1\n"
          ]
        },
        {
          "output_type": "stream",
          "name": "stderr",
          "text": [
            "\n"
          ]
        },
        {
          "output_type": "stream",
          "name": "stdout",
          "text": [
            "\n",
            "      Epoch    GPU_mem       loss  Instances       Size\n"
          ]
        },
        {
          "output_type": "stream",
          "name": "stderr",
          "text": [
            "      21/50      3.99G     0.1858         10        512: 100%|██████████| 2782/2782 [06:01<00:00,  7.70it/s]\n",
            "               classes   top1_acc   top5_acc: 100%|██████████| 155/155 [00:16<00:00,  9.40it/s]"
          ]
        },
        {
          "output_type": "stream",
          "name": "stdout",
          "text": [
            "                   all      0.991          1\n"
          ]
        },
        {
          "output_type": "stream",
          "name": "stderr",
          "text": [
            "\n"
          ]
        },
        {
          "output_type": "stream",
          "name": "stdout",
          "text": [
            "\n",
            "      Epoch    GPU_mem       loss  Instances       Size\n"
          ]
        },
        {
          "output_type": "stream",
          "name": "stderr",
          "text": [
            "      22/50         4G     0.1809         10        512: 100%|██████████| 2782/2782 [06:01<00:00,  7.69it/s]\n",
            "               classes   top1_acc   top5_acc: 100%|██████████| 155/155 [00:16<00:00,  9.66it/s]"
          ]
        },
        {
          "output_type": "stream",
          "name": "stdout",
          "text": [
            "                   all      0.991          1\n"
          ]
        },
        {
          "output_type": "stream",
          "name": "stderr",
          "text": [
            "\n"
          ]
        },
        {
          "output_type": "stream",
          "name": "stdout",
          "text": [
            "\n",
            "      Epoch    GPU_mem       loss  Instances       Size\n"
          ]
        },
        {
          "output_type": "stream",
          "name": "stderr",
          "text": [
            "      23/50      4.01G       0.18         10        512: 100%|██████████| 2782/2782 [06:01<00:00,  7.70it/s]\n",
            "               classes   top1_acc   top5_acc: 100%|██████████| 155/155 [00:16<00:00,  9.49it/s]"
          ]
        },
        {
          "output_type": "stream",
          "name": "stdout",
          "text": [
            "                   all      0.991          1\n"
          ]
        },
        {
          "output_type": "stream",
          "name": "stderr",
          "text": [
            "\n"
          ]
        },
        {
          "output_type": "stream",
          "name": "stdout",
          "text": [
            "\n",
            "      Epoch    GPU_mem       loss  Instances       Size\n"
          ]
        },
        {
          "output_type": "stream",
          "name": "stderr",
          "text": [
            "      24/50      4.02G     0.1769         10        512: 100%|██████████| 2782/2782 [06:00<00:00,  7.71it/s]\n",
            "               classes   top1_acc   top5_acc: 100%|██████████| 155/155 [00:16<00:00,  9.56it/s]"
          ]
        },
        {
          "output_type": "stream",
          "name": "stdout",
          "text": [
            "                   all      0.991          1\n"
          ]
        },
        {
          "output_type": "stream",
          "name": "stderr",
          "text": [
            "\n"
          ]
        },
        {
          "output_type": "stream",
          "name": "stdout",
          "text": [
            "\n",
            "      Epoch    GPU_mem       loss  Instances       Size\n"
          ]
        },
        {
          "output_type": "stream",
          "name": "stderr",
          "text": [
            "      25/50      4.03G     0.1722         10        512: 100%|██████████| 2782/2782 [05:59<00:00,  7.74it/s]\n",
            "               classes   top1_acc   top5_acc: 100%|██████████| 155/155 [00:16<00:00,  9.53it/s]"
          ]
        },
        {
          "output_type": "stream",
          "name": "stdout",
          "text": [
            "                   all      0.992          1\n"
          ]
        },
        {
          "output_type": "stream",
          "name": "stderr",
          "text": [
            "\n"
          ]
        },
        {
          "output_type": "stream",
          "name": "stdout",
          "text": [
            "\n",
            "      Epoch    GPU_mem       loss  Instances       Size\n"
          ]
        },
        {
          "output_type": "stream",
          "name": "stderr",
          "text": [
            "      26/50      4.04G     0.1655         10        512: 100%|██████████| 2782/2782 [06:00<00:00,  7.71it/s]\n",
            "               classes   top1_acc   top5_acc: 100%|██████████| 155/155 [00:16<00:00,  9.48it/s]"
          ]
        },
        {
          "output_type": "stream",
          "name": "stdout",
          "text": [
            "                   all      0.992          1\n"
          ]
        },
        {
          "output_type": "stream",
          "name": "stderr",
          "text": [
            "\n"
          ]
        },
        {
          "output_type": "stream",
          "name": "stdout",
          "text": [
            "\n",
            "      Epoch    GPU_mem       loss  Instances       Size\n"
          ]
        },
        {
          "output_type": "stream",
          "name": "stderr",
          "text": [
            "      27/50      4.05G     0.1635         10        512: 100%|██████████| 2782/2782 [06:01<00:00,  7.69it/s]\n",
            "               classes   top1_acc   top5_acc: 100%|██████████| 155/155 [00:16<00:00,  9.31it/s]"
          ]
        },
        {
          "output_type": "stream",
          "name": "stdout",
          "text": [
            "                   all      0.992          1\n"
          ]
        },
        {
          "output_type": "stream",
          "name": "stderr",
          "text": [
            "\n"
          ]
        },
        {
          "output_type": "stream",
          "name": "stdout",
          "text": [
            "\n",
            "      Epoch    GPU_mem       loss  Instances       Size\n"
          ]
        },
        {
          "output_type": "stream",
          "name": "stderr",
          "text": [
            "      28/50      4.07G     0.1574         10        512: 100%|██████████| 2782/2782 [06:00<00:00,  7.72it/s]\n",
            "               classes   top1_acc   top5_acc: 100%|██████████| 155/155 [00:15<00:00,  9.76it/s]"
          ]
        },
        {
          "output_type": "stream",
          "name": "stdout",
          "text": [
            "                   all      0.992          1\n"
          ]
        },
        {
          "output_type": "stream",
          "name": "stderr",
          "text": [
            "\n"
          ]
        },
        {
          "output_type": "stream",
          "name": "stdout",
          "text": [
            "\n",
            "      Epoch    GPU_mem       loss  Instances       Size\n"
          ]
        },
        {
          "output_type": "stream",
          "name": "stderr",
          "text": [
            "      29/50      4.08G     0.1541         10        512: 100%|██████████| 2782/2782 [06:01<00:00,  7.70it/s]\n",
            "               classes   top1_acc   top5_acc: 100%|██████████| 155/155 [00:16<00:00,  9.35it/s]"
          ]
        },
        {
          "output_type": "stream",
          "name": "stdout",
          "text": [
            "                   all      0.992          1\n"
          ]
        },
        {
          "output_type": "stream",
          "name": "stderr",
          "text": [
            "\n"
          ]
        },
        {
          "output_type": "stream",
          "name": "stdout",
          "text": [
            "\n",
            "      Epoch    GPU_mem       loss  Instances       Size\n"
          ]
        },
        {
          "output_type": "stream",
          "name": "stderr",
          "text": [
            "      30/50      4.09G     0.1512         10        512: 100%|██████████| 2782/2782 [06:01<00:00,  7.71it/s]\n",
            "               classes   top1_acc   top5_acc: 100%|██████████| 155/155 [00:16<00:00,  9.57it/s]"
          ]
        },
        {
          "output_type": "stream",
          "name": "stdout",
          "text": [
            "                   all      0.992          1\n"
          ]
        },
        {
          "output_type": "stream",
          "name": "stderr",
          "text": [
            "\n"
          ]
        },
        {
          "output_type": "stream",
          "name": "stdout",
          "text": [
            "\n",
            "      Epoch    GPU_mem       loss  Instances       Size\n"
          ]
        },
        {
          "output_type": "stream",
          "name": "stderr",
          "text": [
            "      31/50       4.1G     0.1461         10        512: 100%|██████████| 2782/2782 [06:00<00:00,  7.71it/s]\n",
            "               classes   top1_acc   top5_acc: 100%|██████████| 155/155 [00:16<00:00,  9.33it/s]"
          ]
        },
        {
          "output_type": "stream",
          "name": "stdout",
          "text": [
            "                   all      0.992          1\n"
          ]
        },
        {
          "output_type": "stream",
          "name": "stderr",
          "text": [
            "\n"
          ]
        },
        {
          "output_type": "stream",
          "name": "stdout",
          "text": [
            "\n",
            "      Epoch    GPU_mem       loss  Instances       Size\n"
          ]
        },
        {
          "output_type": "stream",
          "name": "stderr",
          "text": [
            "      32/50      4.12G     0.1404         10        512: 100%|██████████| 2782/2782 [06:00<00:00,  7.73it/s]\n",
            "               classes   top1_acc   top5_acc: 100%|██████████| 155/155 [00:16<00:00,  9.54it/s]"
          ]
        },
        {
          "output_type": "stream",
          "name": "stdout",
          "text": [
            "                   all      0.993          1\n"
          ]
        },
        {
          "output_type": "stream",
          "name": "stderr",
          "text": [
            "\n"
          ]
        },
        {
          "output_type": "stream",
          "name": "stdout",
          "text": [
            "\n",
            "      Epoch    GPU_mem       loss  Instances       Size\n"
          ]
        },
        {
          "output_type": "stream",
          "name": "stderr",
          "text": [
            "      33/50      4.13G     0.1356         10        512: 100%|██████████| 2782/2782 [06:02<00:00,  7.68it/s]\n",
            "               classes   top1_acc   top5_acc: 100%|██████████| 155/155 [00:16<00:00,  9.65it/s]"
          ]
        },
        {
          "output_type": "stream",
          "name": "stdout",
          "text": [
            "                   all      0.993          1\n"
          ]
        },
        {
          "output_type": "stream",
          "name": "stderr",
          "text": [
            "\n"
          ]
        },
        {
          "output_type": "stream",
          "name": "stdout",
          "text": [
            "\n",
            "      Epoch    GPU_mem       loss  Instances       Size\n"
          ]
        },
        {
          "output_type": "stream",
          "name": "stderr",
          "text": [
            "      34/50      4.14G     0.1328         10        512: 100%|██████████| 2782/2782 [06:02<00:00,  7.68it/s]\n",
            "               classes   top1_acc   top5_acc: 100%|██████████| 155/155 [00:16<00:00,  9.62it/s]"
          ]
        },
        {
          "output_type": "stream",
          "name": "stdout",
          "text": [
            "                   all      0.993          1\n"
          ]
        },
        {
          "output_type": "stream",
          "name": "stderr",
          "text": [
            "\n"
          ]
        },
        {
          "output_type": "stream",
          "name": "stdout",
          "text": [
            "\n",
            "      Epoch    GPU_mem       loss  Instances       Size\n"
          ]
        },
        {
          "output_type": "stream",
          "name": "stderr",
          "text": [
            "      35/50      4.15G     0.1283         10        512: 100%|██████████| 2782/2782 [06:02<00:00,  7.68it/s]\n",
            "               classes   top1_acc   top5_acc: 100%|██████████| 155/155 [00:16<00:00,  9.49it/s]"
          ]
        },
        {
          "output_type": "stream",
          "name": "stdout",
          "text": [
            "                   all      0.993          1\n"
          ]
        },
        {
          "output_type": "stream",
          "name": "stderr",
          "text": [
            "\n"
          ]
        },
        {
          "output_type": "stream",
          "name": "stdout",
          "text": [
            "\n",
            "      Epoch    GPU_mem       loss  Instances       Size\n"
          ]
        },
        {
          "output_type": "stream",
          "name": "stderr",
          "text": [
            "      36/50      4.16G     0.1235         10        512: 100%|██████████| 2782/2782 [06:00<00:00,  7.72it/s]\n",
            "               classes   top1_acc   top5_acc: 100%|██████████| 155/155 [00:16<00:00,  9.63it/s]"
          ]
        },
        {
          "output_type": "stream",
          "name": "stdout",
          "text": [
            "                   all      0.993          1\n"
          ]
        },
        {
          "output_type": "stream",
          "name": "stderr",
          "text": [
            "\n"
          ]
        },
        {
          "output_type": "stream",
          "name": "stdout",
          "text": [
            "\n",
            "      Epoch    GPU_mem       loss  Instances       Size\n"
          ]
        },
        {
          "output_type": "stream",
          "name": "stderr",
          "text": [
            "      37/50      4.17G     0.1166         10        512: 100%|██████████| 2782/2782 [06:01<00:00,  7.69it/s]\n",
            "               classes   top1_acc   top5_acc: 100%|██████████| 155/155 [00:16<00:00,  9.67it/s]"
          ]
        },
        {
          "output_type": "stream",
          "name": "stdout",
          "text": [
            "                   all      0.993          1\n"
          ]
        },
        {
          "output_type": "stream",
          "name": "stderr",
          "text": [
            "\n"
          ]
        },
        {
          "output_type": "stream",
          "name": "stdout",
          "text": [
            "\n",
            "      Epoch    GPU_mem       loss  Instances       Size\n"
          ]
        },
        {
          "output_type": "stream",
          "name": "stderr",
          "text": [
            "      38/50      4.19G     0.1155         10        512: 100%|██████████| 2782/2782 [06:02<00:00,  7.68it/s]\n",
            "               classes   top1_acc   top5_acc: 100%|██████████| 155/155 [00:15<00:00,  9.81it/s]"
          ]
        },
        {
          "output_type": "stream",
          "name": "stdout",
          "text": [
            "                   all      0.994          1\n"
          ]
        },
        {
          "output_type": "stream",
          "name": "stderr",
          "text": [
            "\n"
          ]
        },
        {
          "output_type": "stream",
          "name": "stdout",
          "text": [
            "\n",
            "      Epoch    GPU_mem       loss  Instances       Size\n"
          ]
        },
        {
          "output_type": "stream",
          "name": "stderr",
          "text": [
            "      39/50       4.2G     0.1104         10        512: 100%|██████████| 2782/2782 [06:00<00:00,  7.73it/s]\n",
            "               classes   top1_acc   top5_acc: 100%|██████████| 155/155 [00:16<00:00,  9.47it/s]"
          ]
        },
        {
          "output_type": "stream",
          "name": "stdout",
          "text": [
            "                   all      0.994          1\n"
          ]
        },
        {
          "output_type": "stream",
          "name": "stderr",
          "text": [
            "\n"
          ]
        },
        {
          "output_type": "stream",
          "name": "stdout",
          "text": [
            "\n",
            "      Epoch    GPU_mem       loss  Instances       Size\n"
          ]
        },
        {
          "output_type": "stream",
          "name": "stderr",
          "text": [
            "      40/50      4.21G     0.1044         10        512: 100%|██████████| 2782/2782 [06:00<00:00,  7.71it/s]\n",
            "               classes   top1_acc   top5_acc: 100%|██████████| 155/155 [00:16<00:00,  9.62it/s]"
          ]
        },
        {
          "output_type": "stream",
          "name": "stdout",
          "text": [
            "                   all      0.994          1\n"
          ]
        },
        {
          "output_type": "stream",
          "name": "stderr",
          "text": [
            "\n"
          ]
        },
        {
          "output_type": "stream",
          "name": "stdout",
          "text": [
            "\n",
            "      Epoch    GPU_mem       loss  Instances       Size\n"
          ]
        },
        {
          "output_type": "stream",
          "name": "stderr",
          "text": [
            "      41/50      4.22G     0.1027         10        512: 100%|██████████| 2782/2782 [05:58<00:00,  7.76it/s]\n",
            "               classes   top1_acc   top5_acc: 100%|██████████| 155/155 [00:15<00:00,  9.73it/s]"
          ]
        },
        {
          "output_type": "stream",
          "name": "stdout",
          "text": [
            "                   all      0.994          1\n"
          ]
        },
        {
          "output_type": "stream",
          "name": "stderr",
          "text": [
            "\n"
          ]
        },
        {
          "output_type": "stream",
          "name": "stdout",
          "text": [
            "\n",
            "      Epoch    GPU_mem       loss  Instances       Size\n"
          ]
        },
        {
          "output_type": "stream",
          "name": "stderr",
          "text": [
            "      42/50      4.23G    0.09559         10        512: 100%|██████████| 2782/2782 [05:49<00:00,  7.96it/s]\n",
            "               classes   top1_acc   top5_acc: 100%|██████████| 155/155 [00:16<00:00,  9.63it/s]"
          ]
        },
        {
          "output_type": "stream",
          "name": "stdout",
          "text": [
            "                   all      0.994          1\n"
          ]
        },
        {
          "output_type": "stream",
          "name": "stderr",
          "text": [
            "\n"
          ]
        },
        {
          "output_type": "stream",
          "name": "stdout",
          "text": [
            "\n",
            "      Epoch    GPU_mem       loss  Instances       Size\n"
          ]
        },
        {
          "output_type": "stream",
          "name": "stderr",
          "text": [
            "      43/50      4.49G    0.09427         10        512: 100%|██████████| 2782/2782 [05:51<00:00,  7.92it/s]\n",
            "               classes   top1_acc   top5_acc: 100%|██████████| 155/155 [00:16<00:00,  9.59it/s]"
          ]
        },
        {
          "output_type": "stream",
          "name": "stdout",
          "text": [
            "                   all      0.994          1\n"
          ]
        },
        {
          "output_type": "stream",
          "name": "stderr",
          "text": [
            "\n"
          ]
        },
        {
          "output_type": "stream",
          "name": "stdout",
          "text": [
            "\n",
            "      Epoch    GPU_mem       loss  Instances       Size\n"
          ]
        },
        {
          "output_type": "stream",
          "name": "stderr",
          "text": [
            "      44/50      4.51G    0.08819         10        512: 100%|██████████| 2782/2782 [05:49<00:00,  7.97it/s]\n",
            "               classes   top1_acc   top5_acc: 100%|██████████| 155/155 [00:16<00:00,  9.64it/s]"
          ]
        },
        {
          "output_type": "stream",
          "name": "stdout",
          "text": [
            "                   all      0.995          1\n"
          ]
        },
        {
          "output_type": "stream",
          "name": "stderr",
          "text": [
            "\n"
          ]
        },
        {
          "output_type": "stream",
          "name": "stdout",
          "text": [
            "\n",
            "      Epoch    GPU_mem       loss  Instances       Size\n"
          ]
        },
        {
          "output_type": "stream",
          "name": "stderr",
          "text": [
            "      45/50      4.52G    0.08627         10        512: 100%|██████████| 2782/2782 [05:46<00:00,  8.04it/s]\n",
            "               classes   top1_acc   top5_acc: 100%|██████████| 155/155 [00:15<00:00,  9.71it/s]"
          ]
        },
        {
          "output_type": "stream",
          "name": "stdout",
          "text": [
            "                   all      0.995          1\n"
          ]
        },
        {
          "output_type": "stream",
          "name": "stderr",
          "text": [
            "\n"
          ]
        },
        {
          "output_type": "stream",
          "name": "stdout",
          "text": [
            "\n",
            "      Epoch    GPU_mem       loss  Instances       Size\n"
          ]
        },
        {
          "output_type": "stream",
          "name": "stderr",
          "text": [
            "      46/50      4.53G    0.07911         10        512: 100%|██████████| 2782/2782 [05:48<00:00,  7.99it/s]\n",
            "               classes   top1_acc   top5_acc: 100%|██████████| 155/155 [00:16<00:00,  9.35it/s]\n"
          ]
        },
        {
          "output_type": "stream",
          "name": "stdout",
          "text": [
            "                   all      0.995          1\n",
            "\n",
            "      Epoch    GPU_mem       loss  Instances       Size\n"
          ]
        },
        {
          "output_type": "stream",
          "name": "stderr",
          "text": [
            "      47/50      4.54G    0.07696         10        512: 100%|██████████| 2782/2782 [05:50<00:00,  7.94it/s]\n",
            "               classes   top1_acc   top5_acc: 100%|██████████| 155/155 [00:16<00:00,  9.66it/s]"
          ]
        },
        {
          "output_type": "stream",
          "name": "stdout",
          "text": [
            "                   all      0.995          1\n"
          ]
        },
        {
          "output_type": "stream",
          "name": "stderr",
          "text": [
            "\n"
          ]
        },
        {
          "output_type": "stream",
          "name": "stdout",
          "text": [
            "\n",
            "      Epoch    GPU_mem       loss  Instances       Size\n"
          ]
        },
        {
          "output_type": "stream",
          "name": "stderr",
          "text": [
            "      48/50      4.55G    0.07129         10        512: 100%|██████████| 2782/2782 [05:48<00:00,  7.99it/s]\n",
            "               classes   top1_acc   top5_acc: 100%|██████████| 155/155 [00:16<00:00,  9.52it/s]"
          ]
        },
        {
          "output_type": "stream",
          "name": "stdout",
          "text": [
            "                   all      0.995          1\n"
          ]
        },
        {
          "output_type": "stream",
          "name": "stderr",
          "text": [
            "\n"
          ]
        },
        {
          "output_type": "stream",
          "name": "stdout",
          "text": [
            "\n",
            "      Epoch    GPU_mem       loss  Instances       Size\n"
          ]
        },
        {
          "output_type": "stream",
          "name": "stderr",
          "text": [
            "      49/50      4.56G    0.06813         10        512: 100%|██████████| 2782/2782 [05:46<00:00,  8.02it/s]\n",
            "               classes   top1_acc   top5_acc: 100%|██████████| 155/155 [00:16<00:00,  9.49it/s]"
          ]
        },
        {
          "output_type": "stream",
          "name": "stdout",
          "text": [
            "                   all      0.995          1\n"
          ]
        },
        {
          "output_type": "stream",
          "name": "stderr",
          "text": [
            "\n"
          ]
        },
        {
          "output_type": "stream",
          "name": "stdout",
          "text": [
            "\n",
            "      Epoch    GPU_mem       loss  Instances       Size\n"
          ]
        },
        {
          "output_type": "stream",
          "name": "stderr",
          "text": [
            "      50/50      4.58G     0.0659         10        512: 100%|██████████| 2782/2782 [05:49<00:00,  7.96it/s]\n",
            "               classes   top1_acc   top5_acc: 100%|██████████| 155/155 [00:16<00:00,  9.61it/s]"
          ]
        },
        {
          "output_type": "stream",
          "name": "stdout",
          "text": [
            "                   all      0.995          1\n"
          ]
        },
        {
          "output_type": "stream",
          "name": "stderr",
          "text": [
            "\n"
          ]
        },
        {
          "output_type": "stream",
          "name": "stdout",
          "text": [
            "\n",
            "50 epochs completed in 5.214 hours.\n",
            "Optimizer stripped from /content/drive/MyDrive/yolov8s_cls_512_results/yolov8s_cls_512_focal3/weights/last.pt, 10.3MB\n",
            "Optimizer stripped from /content/drive/MyDrive/yolov8s_cls_512_results/yolov8s_cls_512_focal3/weights/best.pt, 10.3MB\n",
            "\n",
            "Validating /content/drive/MyDrive/yolov8s_cls_512_results/yolov8s_cls_512_focal3/weights/best.pt...\n",
            "Ultralytics 8.3.133 🚀 Python-3.11.12 torch-2.6.0+cu124 CUDA:0 (NVIDIA L4, 22693MiB)\n",
            "YOLOv8s-cls summary (fused): 30 layers, 5,093,134 parameters, 0 gradients, 12.5 GFLOPs\n",
            "\u001b[34m\u001b[1mtrain:\u001b[0m /content/dataset512/Mixed_SynDD2_100Data_Rearview_grayscale_512/train... found 89002 images in 14 classes ✅ \n",
            "\u001b[34m\u001b[1mval:\u001b[0m /content/dataset512/Mixed_SynDD2_100Data_Rearview_grayscale_512/val... found 9896 images in 14 classes ✅ \n",
            "\u001b[34m\u001b[1mtest:\u001b[0m None...\n"
          ]
        },
        {
          "output_type": "stream",
          "name": "stderr",
          "text": [
            "               classes   top1_acc   top5_acc: 100%|██████████| 155/155 [00:15<00:00,  9.69it/s]\n"
          ]
        },
        {
          "output_type": "stream",
          "name": "stdout",
          "text": [
            "                   all      0.995          1\n",
            "Speed: 0.3ms preprocess, 0.8ms inference, 0.0ms loss, 0.0ms postprocess per image\n",
            "Results saved to \u001b[1m/content/drive/MyDrive/yolov8s_cls_512_results/yolov8s_cls_512_focal3\u001b[0m\n",
            "📊 Validating…\n",
            "Ultralytics 8.3.133 🚀 Python-3.11.12 torch-2.6.0+cu124 CUDA:0 (NVIDIA L4, 22693MiB)\n",
            "YOLOv8s-cls summary (fused): 30 layers, 5,093,134 parameters, 0 gradients, 12.5 GFLOPs\n",
            "\u001b[34m\u001b[1mtrain:\u001b[0m /content/dataset512/Mixed_SynDD2_100Data_Rearview_grayscale_512/train... found 89002 images in 14 classes ✅ \n",
            "\u001b[34m\u001b[1mval:\u001b[0m /content/dataset512/Mixed_SynDD2_100Data_Rearview_grayscale_512/val... found 9896 images in 14 classes ✅ \n",
            "\u001b[34m\u001b[1mtest:\u001b[0m None...\n",
            "\u001b[34m\u001b[1mval: \u001b[0mFast image access ✅ (ping: 0.0±0.0 ms, read: 1345.5±581.0 MB/s, size: 45.5 KB)\n"
          ]
        },
        {
          "output_type": "stream",
          "name": "stderr",
          "text": [
            "\u001b[34m\u001b[1mval: \u001b[0mScanning /content/dataset512/Mixed_SynDD2_100Data_Rearview_grayscale_512/val... 9896 images, 0 corrupt: 100%|██████████| 9896/9896 [00:00<?, ?it/s]\n",
            "               classes   top1_acc   top5_acc: 100%|██████████| 310/310 [00:18<00:00, 16.70it/s]\n"
          ]
        },
        {
          "output_type": "stream",
          "name": "stdout",
          "text": [
            "                   all      0.995          1\n",
            "Speed: 0.3ms preprocess, 1.4ms inference, 0.0ms loss, 0.0ms postprocess per image\n",
            "Results saved to \u001b[1m/content/drive/MyDrive/yolov8s_cls_512_results/yolov8s_cls_512_focal32\u001b[0m\n",
            "✅ Best weights saved to: /content/drive/MyDrive/yolov8s_cls_512_results/yolov8s_cls_512_focal/weights/best.pt\n"
          ]
        }
      ]
    },
    {
      "cell_type": "code",
      "source": [
        "import os\n",
        "import time\n",
        "from google.colab import runtime\n",
        "\n",
        "# Wait for training to complete before disconnecting\n",
        "print(\"Training completed! Releasing GPU resources...\")\n",
        "time.sleep(20)  # Give some time for final processing\n",
        "\n",
        "# Automatically disconnect the Colab session\n",
        "runtime.unassign()\n",
        "os._exit(0)"
      ],
      "metadata": {
        "colab": {
          "base_uri": "https://localhost:8080/"
        },
        "id": "kgKkqadn4EP0",
        "outputId": "786ebd1a-24e9-459c-e80d-023e28a0a542"
      },
      "execution_count": null,
      "outputs": [
        {
          "output_type": "stream",
          "name": "stdout",
          "text": [
            "Training completed! Releasing GPU resources...\n"
          ]
        }
      ]
    }
  ]
}