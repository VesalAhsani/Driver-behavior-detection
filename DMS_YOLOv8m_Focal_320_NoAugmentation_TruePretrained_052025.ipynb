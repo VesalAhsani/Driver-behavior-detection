{
  "nbformat": 4,
  "nbformat_minor": 0,
  "metadata": {
    "colab": {
      "provenance": [],
      "gpuType": "L4",
      "authorship_tag": "ABX9TyNyZcEv2P7tB0z1T6BRw20h",
      "include_colab_link": true
    },
    "kernelspec": {
      "name": "python3",
      "display_name": "Python 3"
    },
    "language_info": {
      "name": "python"
    },
    "accelerator": "GPU"
  },
  "cells": [
    {
      "cell_type": "markdown",
      "metadata": {
        "id": "view-in-github",
        "colab_type": "text"
      },
      "source": [
        "<a href=\"https://colab.research.google.com/github/VesalAhsani/Driver-behavior-detection/blob/main/DMS_YOLOv8m_Focal_320_NoAugmentation_TruePretrained_052025.ipynb\" target=\"_parent\"><img src=\"https://colab.research.google.com/assets/colab-badge.svg\" alt=\"Open In Colab\"/></a>"
      ]
    },
    {
      "cell_type": "markdown",
      "source": [
        "# YOLOv8-m Classification @ 320px on Colab\n",
        "No Augmentation!\n",
        "\n",
        "REAL Focal with lower alpha and gamma!!\n",
        "\n",
        "Pretrained = True.."
      ],
      "metadata": {
        "id": "4gthVrpTYJyp"
      }
    },
    {
      "cell_type": "code",
      "source": [
        "# @title 1️⃣ Install dependencies\n",
        "# Colab comes with torch+cuda preinstalled, but we upgrade ultralytics.\n",
        "!pip install --upgrade ultralytics --quiet"
      ],
      "metadata": {
        "colab": {
          "base_uri": "https://localhost:8080/"
        },
        "id": "fnUGmGjKUOZe",
        "outputId": "84f52acc-3686-4bf0-9be1-5ac6a1737fd4"
      },
      "execution_count": 1,
      "outputs": [
        {
          "output_type": "stream",
          "name": "stdout",
          "text": [
            "\u001b[2K   \u001b[90m━━━━━━━━━━━━━━━━━━━━━━━━━━━━━━━━━━━━━━━━\u001b[0m \u001b[32m1.0/1.0 MB\u001b[0m \u001b[31m24.3 MB/s\u001b[0m eta \u001b[36m0:00:00\u001b[0m\n",
            "\u001b[2K   \u001b[90m━━━━━━━━━━━━━━━━━━━━━━━━━━━━━━━━━━━━━━━━\u001b[0m \u001b[32m363.4/363.4 MB\u001b[0m \u001b[31m2.9 MB/s\u001b[0m eta \u001b[36m0:00:00\u001b[0m\n",
            "\u001b[2K   \u001b[90m━━━━━━━━━━━━━━━━━━━━━━━━━━━━━━━━━━━━━━━━\u001b[0m \u001b[32m13.8/13.8 MB\u001b[0m \u001b[31m96.5 MB/s\u001b[0m eta \u001b[36m0:00:00\u001b[0m\n",
            "\u001b[2K   \u001b[90m━━━━━━━━━━━━━━━━━━━━━━━━━━━━━━━━━━━━━━━━\u001b[0m \u001b[32m24.6/24.6 MB\u001b[0m \u001b[31m86.1 MB/s\u001b[0m eta \u001b[36m0:00:00\u001b[0m\n",
            "\u001b[2K   \u001b[90m━━━━━━━━━━━━━━━━━━━━━━━━━━━━━━━━━━━━━━━━\u001b[0m \u001b[32m883.7/883.7 kB\u001b[0m \u001b[31m53.2 MB/s\u001b[0m eta \u001b[36m0:00:00\u001b[0m\n",
            "\u001b[2K   \u001b[90m━━━━━━━━━━━━━━━━━━━━━━━━━━━━━━━━━━━━━━━━\u001b[0m \u001b[32m664.8/664.8 MB\u001b[0m \u001b[31m1.7 MB/s\u001b[0m eta \u001b[36m0:00:00\u001b[0m\n",
            "\u001b[2K   \u001b[90m━━━━━━━━━━━━━━━━━━━━━━━━━━━━━━━━━━━━━━━━\u001b[0m \u001b[32m211.5/211.5 MB\u001b[0m \u001b[31m4.0 MB/s\u001b[0m eta \u001b[36m0:00:00\u001b[0m\n",
            "\u001b[2K   \u001b[90m━━━━━━━━━━━━━━━━━━━━━━━━━━━━━━━━━━━━━━━━\u001b[0m \u001b[32m56.3/56.3 MB\u001b[0m \u001b[31m38.1 MB/s\u001b[0m eta \u001b[36m0:00:00\u001b[0m\n",
            "\u001b[2K   \u001b[90m━━━━━━━━━━━━━━━━━━━━━━━━━━━━━━━━━━━━━━━━\u001b[0m \u001b[32m127.9/127.9 MB\u001b[0m \u001b[31m16.9 MB/s\u001b[0m eta \u001b[36m0:00:00\u001b[0m\n",
            "\u001b[2K   \u001b[90m━━━━━━━━━━━━━━━━━━━━━━━━━━━━━━━━━━━━━━━━\u001b[0m \u001b[32m207.5/207.5 MB\u001b[0m \u001b[31m5.2 MB/s\u001b[0m eta \u001b[36m0:00:00\u001b[0m\n",
            "\u001b[2K   \u001b[90m━━━━━━━━━━━━━━━━━━━━━━━━━━━━━━━━━━━━━━━━\u001b[0m \u001b[32m21.1/21.1 MB\u001b[0m \u001b[31m105.5 MB/s\u001b[0m eta \u001b[36m0:00:00\u001b[0m\n",
            "\u001b[?25h"
          ]
        }
      ]
    },
    {
      "cell_type": "code",
      "source": [
        "# @title 2️⃣ Mount Google Drive\n",
        "from google.colab import drive\n",
        "drive.mount('/content/drive')"
      ],
      "metadata": {
        "colab": {
          "base_uri": "https://localhost:8080/"
        },
        "id": "qZQobS7JUOWk",
        "outputId": "f4243a84-031d-4d57-d9e0-b70af5680064"
      },
      "execution_count": 2,
      "outputs": [
        {
          "output_type": "stream",
          "name": "stdout",
          "text": [
            "Mounted at /content/drive\n"
          ]
        }
      ]
    },
    {
      "cell_type": "code",
      "source": [
        "# @title 3️⃣ Paths & Unzip Dataset\n",
        "import os, zipfile, glob\n",
        "from pathlib import Path\n",
        "\n",
        "# Adjust these to match where you put your ZIP in Drive:\n",
        "ZIP_PATH     = \"/content/drive/MyDrive/DMS_Mixed_NotAugmented_320.zip\"\n",
        "EXTRACT_DIR  = \"/content/dataset320\"\n",
        "SPLIT_DIR    = os.path.join(EXTRACT_DIR, \"Mixed_SynDD2_100Data_Rearview_grayscale_320\")  # must contain train/ & val/\n",
        "RESULTS_DIR  = \"/content/drive/MyDrive/yolov8m_cls_320_results\"\n",
        "\n",
        "# 3.1 Unzip if needed\n",
        "if not os.path.isdir(SPLIT_DIR):\n",
        "    print(\"📦 Unzipping dataset…\")\n",
        "    with zipfile.ZipFile(ZIP_PATH, 'r') as z:\n",
        "        z.extractall(EXTRACT_DIR)\n",
        "    print(\"✅ Unzipped to\", EXTRACT_DIR)\n",
        "\n",
        "# 🔧 Split the flat folder of 14 classes into train/ and val/ sets\n",
        "import os, random, shutil, glob\n",
        "from pathlib import Path\n",
        "\n",
        "# --- config -----------------------------------------------------------\n",
        "SPLIT_DIR   = Path('/content/dataset320/Mixed_SynDD2_100Data_Rearview_grayscale_320')  # where the 14 class dirs are\n",
        "TRAIN_RATIO = 0.90                                   # 90‑10 split\n",
        "seed        = 42                                     # so it’s repeatable\n",
        "# ----------------------------------------------------------------------\n",
        "\n",
        "random.seed(seed)\n",
        "\n",
        "train_root = SPLIT_DIR / 'train'\n",
        "val_root   = SPLIT_DIR / 'val'\n",
        "train_root.mkdir(exist_ok=True)\n",
        "val_root.mkdir(exist_ok=True)\n",
        "\n",
        "cls_dirs = sorted(\n",
        "   [d for d in SPLIT_DIR.iterdir() if d.is_dir() and d.name not in ('train','val')],\n",
        "   key=lambda d: d.name\n",
        ")\n",
        "assert len(cls_dirs) == 14, f\"Expected 14 class folders, found {len(cls_dirs)}\"\n",
        "\n",
        "for cls_dir in cls_dirs:\n",
        "    images = sorted(glob.glob(str(cls_dir / '*')))        # jpg / png / etc.\n",
        "    random.shuffle(images)\n",
        "    split_idx = int(len(images) * TRAIN_RATIO)\n",
        "\n",
        "    # prepare destination folders\n",
        "    (train_root / cls_dir.name).mkdir(parents=True, exist_ok=True)\n",
        "    (val_root   / cls_dir.name).mkdir(parents=True, exist_ok=True)\n",
        "\n",
        "    # move (or copy) the files\n",
        "    for i, img_path in enumerate(images):\n",
        "        dest_root = train_root if i < split_idx else val_root\n",
        "        shutil.move(img_path, dest_root / cls_dir.name / Path(img_path).name)\n",
        "\n",
        "    # optional: remove the now‑empty original class folder\n",
        "    cls_dir.rmdir()\n",
        "\n",
        "    print(f\"{cls_dir.name:<20} → {split_idx:5d} train | {len(images)-split_idx:5d} val\")\n",
        "\n",
        "print(\"\\n✅  Dataset now has the required .../train/ and .../val/ structure\")\n",
        "\n",
        "\n",
        "# 3.2 Verify\n",
        "assert os.path.isdir(os.path.join(SPLIT_DIR, \"train\")), \"❌ train/ missing!\"\n",
        "assert os.path.isdir(os.path.join(SPLIT_DIR, \"val\"  )), \"❌ val/   missing!\"\n",
        "\n",
        "train_images = glob.glob(os.path.join(SPLIT_DIR, \"train\", \"*\", \"*.jpg\"))\n",
        "val_images   = glob.glob(os.path.join(SPLIT_DIR, \"val\",   \"*\", \"*.jpg\"))\n",
        "print(f\"🧾 Found {len(train_images):,} train and {len(val_images):,} val images\")"
      ],
      "metadata": {
        "colab": {
          "base_uri": "https://localhost:8080/"
        },
        "id": "z6RqBogqUOTs",
        "outputId": "2c7b8d1e-b5d4-4836-827e-258b34c1b011"
      },
      "execution_count": 3,
      "outputs": [
        {
          "output_type": "stream",
          "name": "stdout",
          "text": [
            "📦 Unzipping dataset…\n",
            "✅ Unzipped to /content/dataset320\n",
            "Control_Panel        →  8507 train |   946 val\n",
            "Drinking             →  7790 train |   866 val\n",
            "Eating               →  2159 train |   240 val\n",
            "Makeup               →  6196 train |   689 val\n",
            "Normal               →  7975 train |   887 val\n",
            "Phone_Call_(Left)    →  7125 train |   792 val\n",
            "Phone_Call_(Right)   →  7437 train |   827 val\n",
            "Reaching_Behind      →  4633 train |   515 val\n",
            "Sleep                →  4450 train |   495 val\n",
            "Smoking              → 12368 train |  1375 val\n",
            "Talk_to_passengers   →  5335 train |   593 val\n",
            "Text_(Left)          →  5982 train |   665 val\n",
            "Text_(Right)         →  5780 train |   643 val\n",
            "Yawning              →  3265 train |   363 val\n",
            "\n",
            "✅  Dataset now has the required .../train/ and .../val/ structure\n",
            "🧾 Found 89,002 train and 9,896 val images\n"
          ]
        }
      ]
    },
    {
      "cell_type": "code",
      "execution_count": 4,
      "metadata": {
        "colab": {
          "base_uri": "https://localhost:8080/"
        },
        "id": "I7mEwBMtUM8M",
        "outputId": "6d1d7f5c-fc5e-4813-d17d-808ba6414b84"
      },
      "outputs": [
        {
          "output_type": "stream",
          "name": "stdout",
          "text": [
            "α weights (train only): tensor([1.4539, 1.5877, 2.2000, 1.9961, 1.5508, 1.7359, 1.6630, 2.2000, 2.2000,\n",
            "        1.0000, 2.2000, 2.0675, 2.1398, 2.2000], device='cuda:0')\n"
          ]
        }
      ],
      "source": [
        "# @title 4️⃣ Compute α (class imbalance) for focal loss\n",
        "import torch\n",
        "\n",
        "# original per‑class counts\n",
        "# after splitting, count only train images per class\n",
        "class_counts = {}\n",
        "\n",
        "for cls_folder in sorted((SPLIT_DIR/\"train\").iterdir(), key=lambda d: d.name):\n",
        "    class_counts[cls_folder.name] = len(list(cls_folder.glob('*')))\n",
        "\n",
        "# then compute alpha as before\n",
        "max_n       = max(class_counts.values())\n",
        "raw_alpha   = torch.tensor([max_n / class_counts[c] for c in class_counts], dtype=torch.float32)\n",
        "alpha_clipped = torch.minimum(raw_alpha, torch.tensor(2.2))  # cap at 2.2 if you like\n",
        "alpha       = alpha_clipped.cuda()\n",
        "\n",
        "print(\"α weights (train only):\", alpha)"
      ]
    },
    {
      "cell_type": "code",
      "source": [
        "# @title 5️⃣ Define FocalLoss & Train YOLOv8-m-cls\n",
        "import torch.nn as nn\n",
        "from ultralytics import YOLO\n",
        "\n",
        "# ─── Focal Loss ──────────────────────────\n",
        "class FocalLoss(nn.Module):\n",
        "    def __init__(self, gamma=1.5, alpha=None, reduction='mean'):\n",
        "        super().__init__()\n",
        "        self.gamma, self.alpha, self.reduction = gamma, alpha, reduction\n",
        "\n",
        "    def forward(self, inputs, targets):\n",
        "        logp = torch.nn.functional.log_softmax(inputs, dim=-1)\n",
        "        p    = torch.exp(logp)\n",
        "        t    = targets.long()\n",
        "        pt   = p.gather(-1, t.unsqueeze(-1)).squeeze(-1)\n",
        "        focal = (1 - pt) ** self.gamma\n",
        "        loss = -focal * logp.gather(-1, t.unsqueeze(-1)).squeeze(-1)\n",
        "        if self.alpha is not None:\n",
        "            loss = loss * self.alpha[t]\n",
        "        return loss.mean() if self.reduction=='mean' else loss.sum()\n",
        "\n",
        "# ─── Load & override loss ─────────────────\n",
        "print(\"🚀 Loading YOLOv8m-cls…\")\n",
        "model = YOLO(\"yolov8m-cls.pt\")\n",
        "\n",
        "# model = YOLO('/content/drive/MyDrive/yolov8m_cls_320_results/yolov8m_cls_320_focal/weights/last.pt')             # pretrained backbone\n",
        "\n",
        "model.model.loss_fn = FocalLoss(gamma=1.5, alpha=alpha)\n",
        "print(\"🔍 Active loss_fn:\", model.model.loss_fn)\n",
        "\n",
        "# ─── Train ───────────────────────────────\n",
        "print(\"📚 Training…\")\n",
        "model.train(\n",
        "    data=SPLIT_DIR,          # train/ & val/ subfolders\n",
        "    epochs=50,\n",
        "    batch=32,\n",
        "    imgsz=320,\n",
        "    fliplr=0,         # <-- no left‑right flips for any image\n",
        "    flipud=0,         # <-- no up‑down flips for any image\n",
        "    project=RESULTS_DIR,\n",
        "    name=\"yolov8m_cls_320_focal\",\n",
        "    pretrained=True,\n",
        "    lr0=5e-4,\n",
        "    optimizer=\"Adam\",\n",
        ")\n",
        "\n",
        "print(\"✅ Training resumed!\")\n",
        "\n",
        "# ─── Validate & copy best.pt ────────────\n",
        "print(\"📊 Validating…\")\n",
        "model.val()\n",
        "\n",
        "src = os.path.join(model.trainer.save_dir, \"weights/best.pt\")\n",
        "dst = os.path.join(RESULTS_DIR, \"yolov8m_cls_320_focal\", \"weights/best.pt\")\n",
        "os.makedirs(os.path.dirname(dst), exist_ok=True)\n",
        "os.system(f\"cp {src} {dst}\")\n",
        "print(\"✅ Best weights saved to:\", dst)"
      ],
      "metadata": {
        "colab": {
          "base_uri": "https://localhost:8080/"
        },
        "id": "fpfnwLhvUtnC",
        "outputId": "a43465a0-b54e-4e6e-bc94-504b7d281127"
      },
      "execution_count": 5,
      "outputs": [
        {
          "output_type": "stream",
          "name": "stdout",
          "text": [
            "Creating new Ultralytics Settings v0.0.6 file ✅ \n",
            "View Ultralytics Settings with 'yolo settings' or at '/root/.config/Ultralytics/settings.json'\n",
            "Update Settings with 'yolo settings key=value', i.e. 'yolo settings runs_dir=path/to/dir'. For help see https://docs.ultralytics.com/quickstart/#ultralytics-settings.\n",
            "🚀 Loading YOLOv8m-cls…\n",
            "Downloading https://github.com/ultralytics/assets/releases/download/v8.3.0/yolov8m-cls.pt to 'yolov8m-cls.pt'...\n"
          ]
        },
        {
          "output_type": "stream",
          "name": "stderr",
          "text": [
            "100%|██████████| 32.7M/32.7M [00:00<00:00, 124MB/s]\n"
          ]
        },
        {
          "output_type": "stream",
          "name": "stdout",
          "text": [
            "🔍 Active loss_fn: FocalLoss()\n",
            "📚 Training…\n",
            "Ultralytics 8.3.132 🚀 Python-3.11.12 torch-2.6.0+cu124 CUDA:0 (NVIDIA L4, 22693MiB)\n",
            "\u001b[34m\u001b[1mengine/trainer: \u001b[0magnostic_nms=False, amp=True, augment=False, auto_augment=randaugment, batch=32, bgr=0.0, box=7.5, cache=False, cfg=None, classes=None, close_mosaic=10, cls=0.5, conf=None, copy_paste=0.0, copy_paste_mode=flip, cos_lr=False, cutmix=0.0, data=/content/dataset320/Mixed_SynDD2_100Data_Rearview_grayscale_320, degrees=0.0, deterministic=True, device=None, dfl=1.5, dnn=False, dropout=0.0, dynamic=False, embed=None, epochs=50, erasing=0.4, exist_ok=False, fliplr=0, flipud=0, format=torchscript, fraction=1.0, freeze=None, half=False, hsv_h=0.015, hsv_s=0.7, hsv_v=0.4, imgsz=320, int8=False, iou=0.7, keras=False, kobj=1.0, line_width=None, lr0=0.0005, lrf=0.01, mask_ratio=4, max_det=300, mixup=0.0, mode=train, model=yolov8m-cls.pt, momentum=0.937, mosaic=1.0, multi_scale=False, name=yolov8m_cls_320_focal, nbs=64, nms=False, opset=None, optimize=False, optimizer=Adam, overlap_mask=True, patience=100, perspective=0.0, plots=True, pose=12.0, pretrained=True, profile=False, project=/content/drive/MyDrive/yolov8m_cls_320_results, rect=False, resume=False, retina_masks=False, save=True, save_conf=False, save_crop=False, save_dir=/content/drive/MyDrive/yolov8m_cls_320_results/yolov8m_cls_320_focal, save_frames=False, save_json=False, save_period=-1, save_txt=False, scale=0.5, seed=0, shear=0.0, show=False, show_boxes=True, show_conf=True, show_labels=True, simplify=True, single_cls=False, source=None, split=val, stream_buffer=False, task=classify, time=None, tracker=botsort.yaml, translate=0.1, val=True, verbose=True, vid_stride=1, visualize=False, warmup_bias_lr=0.1, warmup_epochs=3.0, warmup_momentum=0.8, weight_decay=0.0005, workers=8, workspace=None\n",
            "\u001b[34m\u001b[1mtrain:\u001b[0m /content/dataset320/Mixed_SynDD2_100Data_Rearview_grayscale_320/train... found 89002 images in 14 classes ✅ \n",
            "\u001b[34m\u001b[1mval:\u001b[0m /content/dataset320/Mixed_SynDD2_100Data_Rearview_grayscale_320/val... found 9896 images in 14 classes ✅ \n",
            "\u001b[34m\u001b[1mtest:\u001b[0m None...\n",
            "Overriding model.yaml nc=1000 with nc=14\n",
            "\n",
            "                   from  n    params  module                                       arguments                     \n",
            "  0                  -1  1      1392  ultralytics.nn.modules.conv.Conv             [3, 48, 3, 2]                 \n",
            "  1                  -1  1     41664  ultralytics.nn.modules.conv.Conv             [48, 96, 3, 2]                \n",
            "  2                  -1  2    111360  ultralytics.nn.modules.block.C2f             [96, 96, 2, True]             \n",
            "  3                  -1  1    166272  ultralytics.nn.modules.conv.Conv             [96, 192, 3, 2]               \n",
            "  4                  -1  4    813312  ultralytics.nn.modules.block.C2f             [192, 192, 4, True]           \n",
            "  5                  -1  1    664320  ultralytics.nn.modules.conv.Conv             [192, 384, 3, 2]              \n",
            "  6                  -1  4   3248640  ultralytics.nn.modules.block.C2f             [384, 384, 4, True]           \n",
            "  7                  -1  1   2655744  ultralytics.nn.modules.conv.Conv             [384, 768, 3, 2]              \n",
            "  8                  -1  2   7084032  ultralytics.nn.modules.block.C2f             [768, 768, 2, True]           \n",
            "  9                  -1  1   1003534  ultralytics.nn.modules.head.Classify         [768, 14]                     \n",
            "YOLOv8m-cls summary: 80 layers, 15,790,270 parameters, 15,790,270 gradients, 41.9 GFLOPs\n",
            "Transferred 228/230 items from pretrained weights\n",
            "\u001b[34m\u001b[1mAMP: \u001b[0mrunning Automatic Mixed Precision (AMP) checks...\n",
            "Downloading https://github.com/ultralytics/assets/releases/download/v8.3.0/yolo11n.pt to 'yolo11n.pt'...\n"
          ]
        },
        {
          "output_type": "stream",
          "name": "stderr",
          "text": [
            "100%|██████████| 5.35M/5.35M [00:00<00:00, 98.1MB/s]\n"
          ]
        },
        {
          "output_type": "stream",
          "name": "stdout",
          "text": [
            "\u001b[34m\u001b[1mAMP: \u001b[0mchecks passed ✅\n",
            "\u001b[34m\u001b[1mtrain: \u001b[0mFast image access ✅ (ping: 0.0±0.0 ms, read: 937.9±365.7 MB/s, size: 24.0 KB)\n"
          ]
        },
        {
          "output_type": "stream",
          "name": "stderr",
          "text": [
            "\u001b[34m\u001b[1mtrain: \u001b[0mScanning /content/dataset320/Mixed_SynDD2_100Data_Rearview_grayscale_320/train... 89002 images, 0 corrupt: 100%|██████████| 89002/89002 [00:25<00:00, 3526.00it/s]\n"
          ]
        },
        {
          "output_type": "stream",
          "name": "stdout",
          "text": [
            "\u001b[34m\u001b[1mtrain: \u001b[0mNew cache created: /content/dataset320/Mixed_SynDD2_100Data_Rearview_grayscale_320/train.cache\n",
            "\u001b[34m\u001b[1mval: \u001b[0mFast image access ✅ (ping: 0.0±0.0 ms, read: 806.4±418.2 MB/s, size: 24.2 KB)\n"
          ]
        },
        {
          "output_type": "stream",
          "name": "stderr",
          "text": [
            "\u001b[34m\u001b[1mval: \u001b[0mScanning /content/dataset320/Mixed_SynDD2_100Data_Rearview_grayscale_320/val... 9896 images, 0 corrupt: 100%|██████████| 9896/9896 [00:02<00:00, 3381.60it/s]"
          ]
        },
        {
          "output_type": "stream",
          "name": "stdout",
          "text": [
            "\u001b[34m\u001b[1mval: \u001b[0mNew cache created: /content/dataset320/Mixed_SynDD2_100Data_Rearview_grayscale_320/val.cache\n"
          ]
        },
        {
          "output_type": "stream",
          "name": "stderr",
          "text": [
            "\n"
          ]
        },
        {
          "output_type": "stream",
          "name": "stdout",
          "text": [
            "\u001b[34m\u001b[1moptimizer:\u001b[0m Adam(lr=0.0005, momentum=0.937) with parameter groups 38 weight(decay=0.0), 39 weight(decay=0.0005), 39 bias(decay=0.0)\n",
            "Image sizes 320 train, 320 val\n",
            "Using 8 dataloader workers\n",
            "Logging results to \u001b[1m/content/drive/MyDrive/yolov8m_cls_320_results/yolov8m_cls_320_focal\u001b[0m\n",
            "Starting training for 50 epochs...\n",
            "\n",
            "      Epoch    GPU_mem       loss  Instances       Size\n"
          ]
        },
        {
          "output_type": "stream",
          "name": "stderr",
          "text": [
            "       1/50      2.41G      2.634         32        320:   0%|          | 6/2782 [00:02<09:39,  4.79it/s]"
          ]
        },
        {
          "output_type": "stream",
          "name": "stdout",
          "text": [
            "Downloading https://ultralytics.com/assets/Arial.ttf to '/root/.config/Ultralytics/Arial.ttf'...\n"
          ]
        },
        {
          "output_type": "stream",
          "name": "stderr",
          "text": [
            "       1/50      2.41G      2.604         32        320:   0%|          | 12/2782 [00:02<05:25,  8.51it/s]\n",
            "100%|██████████| 755k/755k [00:00<00:00, 22.5MB/s]\n",
            "       1/50      2.42G     0.9745         10        320: 100%|██████████| 2782/2782 [04:10<00:00, 11.10it/s]\n",
            "               classes   top1_acc   top5_acc: 100%|██████████| 155/155 [00:08<00:00, 17.42it/s]"
          ]
        },
        {
          "output_type": "stream",
          "name": "stdout",
          "text": [
            "                   all      0.906      0.994\n"
          ]
        },
        {
          "output_type": "stream",
          "name": "stderr",
          "text": [
            "\n"
          ]
        },
        {
          "output_type": "stream",
          "name": "stdout",
          "text": [
            "\n",
            "      Epoch    GPU_mem       loss  Instances       Size\n"
          ]
        },
        {
          "output_type": "stream",
          "name": "stderr",
          "text": [
            "       2/50      2.96G     0.4785         10        320: 100%|██████████| 2782/2782 [04:01<00:00, 11.54it/s]\n",
            "               classes   top1_acc   top5_acc: 100%|██████████| 155/155 [00:08<00:00, 17.57it/s]"
          ]
        },
        {
          "output_type": "stream",
          "name": "stdout",
          "text": [
            "                   all      0.944      0.998\n"
          ]
        },
        {
          "output_type": "stream",
          "name": "stderr",
          "text": [
            "\n"
          ]
        },
        {
          "output_type": "stream",
          "name": "stdout",
          "text": [
            "\n",
            "      Epoch    GPU_mem       loss  Instances       Size\n"
          ]
        },
        {
          "output_type": "stream",
          "name": "stderr",
          "text": [
            "       3/50      2.98G     0.3787         10        320: 100%|██████████| 2782/2782 [03:52<00:00, 11.97it/s]\n",
            "               classes   top1_acc   top5_acc: 100%|██████████| 155/155 [00:08<00:00, 17.60it/s]"
          ]
        },
        {
          "output_type": "stream",
          "name": "stdout",
          "text": [
            "                   all      0.964      0.999\n"
          ]
        },
        {
          "output_type": "stream",
          "name": "stderr",
          "text": [
            "\n"
          ]
        },
        {
          "output_type": "stream",
          "name": "stdout",
          "text": [
            "\n",
            "      Epoch    GPU_mem       loss  Instances       Size\n"
          ]
        },
        {
          "output_type": "stream",
          "name": "stderr",
          "text": [
            "       4/50      3.01G     0.3565         10        320: 100%|██████████| 2782/2782 [03:52<00:00, 11.98it/s]\n",
            "               classes   top1_acc   top5_acc: 100%|██████████| 155/155 [00:08<00:00, 17.58it/s]"
          ]
        },
        {
          "output_type": "stream",
          "name": "stdout",
          "text": [
            "                   all      0.969      0.999\n"
          ]
        },
        {
          "output_type": "stream",
          "name": "stderr",
          "text": [
            "\n"
          ]
        },
        {
          "output_type": "stream",
          "name": "stdout",
          "text": [
            "\n",
            "      Epoch    GPU_mem       loss  Instances       Size\n"
          ]
        },
        {
          "output_type": "stream",
          "name": "stderr",
          "text": [
            "       5/50      3.04G     0.3288         10        320: 100%|██████████| 2782/2782 [03:51<00:00, 12.00it/s]\n",
            "               classes   top1_acc   top5_acc: 100%|██████████| 155/155 [00:08<00:00, 17.60it/s]"
          ]
        },
        {
          "output_type": "stream",
          "name": "stdout",
          "text": [
            "                   all      0.974      0.999\n"
          ]
        },
        {
          "output_type": "stream",
          "name": "stderr",
          "text": [
            "\n"
          ]
        },
        {
          "output_type": "stream",
          "name": "stdout",
          "text": [
            "\n",
            "      Epoch    GPU_mem       loss  Instances       Size\n"
          ]
        },
        {
          "output_type": "stream",
          "name": "stderr",
          "text": [
            "       6/50      3.06G     0.3137         10        320: 100%|██████████| 2782/2782 [03:51<00:00, 12.02it/s]\n",
            "               classes   top1_acc   top5_acc: 100%|██████████| 155/155 [00:08<00:00, 17.59it/s]"
          ]
        },
        {
          "output_type": "stream",
          "name": "stdout",
          "text": [
            "                   all       0.98      0.999\n"
          ]
        },
        {
          "output_type": "stream",
          "name": "stderr",
          "text": [
            "\n"
          ]
        },
        {
          "output_type": "stream",
          "name": "stdout",
          "text": [
            "\n",
            "      Epoch    GPU_mem       loss  Instances       Size\n"
          ]
        },
        {
          "output_type": "stream",
          "name": "stderr",
          "text": [
            "       7/50      3.09G     0.3005         10        320: 100%|██████████| 2782/2782 [03:50<00:00, 12.05it/s]\n",
            "               classes   top1_acc   top5_acc: 100%|██████████| 155/155 [00:08<00:00, 17.61it/s]"
          ]
        },
        {
          "output_type": "stream",
          "name": "stdout",
          "text": [
            "                   all      0.981      0.999\n"
          ]
        },
        {
          "output_type": "stream",
          "name": "stderr",
          "text": [
            "\n"
          ]
        },
        {
          "output_type": "stream",
          "name": "stdout",
          "text": [
            "\n",
            "      Epoch    GPU_mem       loss  Instances       Size\n"
          ]
        },
        {
          "output_type": "stream",
          "name": "stderr",
          "text": [
            "       8/50      3.11G     0.2926         10        320: 100%|██████████| 2782/2782 [03:51<00:00, 12.04it/s]\n",
            "               classes   top1_acc   top5_acc: 100%|██████████| 155/155 [00:08<00:00, 17.62it/s]"
          ]
        },
        {
          "output_type": "stream",
          "name": "stdout",
          "text": [
            "                   all      0.984      0.999\n"
          ]
        },
        {
          "output_type": "stream",
          "name": "stderr",
          "text": [
            "\n"
          ]
        },
        {
          "output_type": "stream",
          "name": "stdout",
          "text": [
            "\n",
            "      Epoch    GPU_mem       loss  Instances       Size\n"
          ]
        },
        {
          "output_type": "stream",
          "name": "stderr",
          "text": [
            "       9/50      3.14G     0.2854         10        320: 100%|██████████| 2782/2782 [03:50<00:00, 12.07it/s]\n",
            "               classes   top1_acc   top5_acc: 100%|██████████| 155/155 [00:08<00:00, 17.62it/s]"
          ]
        },
        {
          "output_type": "stream",
          "name": "stdout",
          "text": [
            "                   all      0.986      0.999\n"
          ]
        },
        {
          "output_type": "stream",
          "name": "stderr",
          "text": [
            "\n"
          ]
        },
        {
          "output_type": "stream",
          "name": "stdout",
          "text": [
            "\n",
            "      Epoch    GPU_mem       loss  Instances       Size\n"
          ]
        },
        {
          "output_type": "stream",
          "name": "stderr",
          "text": [
            "      10/50      3.16G     0.2727         10        320: 100%|██████████| 2782/2782 [03:50<00:00, 12.05it/s]\n",
            "               classes   top1_acc   top5_acc: 100%|██████████| 155/155 [00:08<00:00, 17.59it/s]"
          ]
        },
        {
          "output_type": "stream",
          "name": "stdout",
          "text": [
            "                   all      0.986      0.999\n"
          ]
        },
        {
          "output_type": "stream",
          "name": "stderr",
          "text": [
            "\n"
          ]
        },
        {
          "output_type": "stream",
          "name": "stdout",
          "text": [
            "\n",
            "      Epoch    GPU_mem       loss  Instances       Size\n"
          ]
        },
        {
          "output_type": "stream",
          "name": "stderr",
          "text": [
            "      11/50      3.19G     0.2691         10        320: 100%|██████████| 2782/2782 [03:50<00:00, 12.04it/s]\n",
            "               classes   top1_acc   top5_acc: 100%|██████████| 155/155 [00:08<00:00, 17.61it/s]"
          ]
        },
        {
          "output_type": "stream",
          "name": "stdout",
          "text": [
            "                   all      0.986      0.999\n"
          ]
        },
        {
          "output_type": "stream",
          "name": "stderr",
          "text": [
            "\n"
          ]
        },
        {
          "output_type": "stream",
          "name": "stdout",
          "text": [
            "\n",
            "      Epoch    GPU_mem       loss  Instances       Size\n"
          ]
        },
        {
          "output_type": "stream",
          "name": "stderr",
          "text": [
            "      12/50      3.21G     0.2592         10        320: 100%|██████████| 2782/2782 [03:50<00:00, 12.05it/s]\n",
            "               classes   top1_acc   top5_acc: 100%|██████████| 155/155 [00:08<00:00, 17.60it/s]"
          ]
        },
        {
          "output_type": "stream",
          "name": "stdout",
          "text": [
            "                   all      0.987      0.999\n"
          ]
        },
        {
          "output_type": "stream",
          "name": "stderr",
          "text": [
            "\n"
          ]
        },
        {
          "output_type": "stream",
          "name": "stdout",
          "text": [
            "\n",
            "      Epoch    GPU_mem       loss  Instances       Size\n"
          ]
        },
        {
          "output_type": "stream",
          "name": "stderr",
          "text": [
            "      13/50      3.46G     0.2555         10        320: 100%|██████████| 2782/2782 [03:51<00:00, 12.04it/s]\n",
            "               classes   top1_acc   top5_acc: 100%|██████████| 155/155 [00:08<00:00, 17.63it/s]"
          ]
        },
        {
          "output_type": "stream",
          "name": "stdout",
          "text": [
            "                   all      0.987      0.999\n"
          ]
        },
        {
          "output_type": "stream",
          "name": "stderr",
          "text": [
            "\n"
          ]
        },
        {
          "output_type": "stream",
          "name": "stdout",
          "text": [
            "\n",
            "      Epoch    GPU_mem       loss  Instances       Size\n"
          ]
        },
        {
          "output_type": "stream",
          "name": "stderr",
          "text": [
            "      14/50      3.48G      0.246         10        320: 100%|██████████| 2782/2782 [03:50<00:00, 12.06it/s]\n",
            "               classes   top1_acc   top5_acc: 100%|██████████| 155/155 [00:08<00:00, 17.63it/s]"
          ]
        },
        {
          "output_type": "stream",
          "name": "stdout",
          "text": [
            "                   all      0.987      0.999\n"
          ]
        },
        {
          "output_type": "stream",
          "name": "stderr",
          "text": [
            "\n"
          ]
        },
        {
          "output_type": "stream",
          "name": "stdout",
          "text": [
            "\n",
            "      Epoch    GPU_mem       loss  Instances       Size\n"
          ]
        },
        {
          "output_type": "stream",
          "name": "stderr",
          "text": [
            "      15/50      3.51G     0.2416         10        320: 100%|██████████| 2782/2782 [03:50<00:00, 12.07it/s]\n",
            "               classes   top1_acc   top5_acc: 100%|██████████| 155/155 [00:08<00:00, 17.60it/s]"
          ]
        },
        {
          "output_type": "stream",
          "name": "stdout",
          "text": [
            "                   all      0.988      0.999\n"
          ]
        },
        {
          "output_type": "stream",
          "name": "stderr",
          "text": [
            "\n"
          ]
        },
        {
          "output_type": "stream",
          "name": "stdout",
          "text": [
            "\n",
            "      Epoch    GPU_mem       loss  Instances       Size\n"
          ]
        },
        {
          "output_type": "stream",
          "name": "stderr",
          "text": [
            "      16/50      3.53G     0.2413         10        320: 100%|██████████| 2782/2782 [03:50<00:00, 12.07it/s]\n",
            "               classes   top1_acc   top5_acc: 100%|██████████| 155/155 [00:08<00:00, 17.61it/s]"
          ]
        },
        {
          "output_type": "stream",
          "name": "stdout",
          "text": [
            "                   all      0.989      0.999\n"
          ]
        },
        {
          "output_type": "stream",
          "name": "stderr",
          "text": [
            "\n"
          ]
        },
        {
          "output_type": "stream",
          "name": "stdout",
          "text": [
            "\n",
            "      Epoch    GPU_mem       loss  Instances       Size\n"
          ]
        },
        {
          "output_type": "stream",
          "name": "stderr",
          "text": [
            "      17/50      3.61G     0.2302         10        320: 100%|██████████| 2782/2782 [03:50<00:00, 12.07it/s]\n",
            "               classes   top1_acc   top5_acc: 100%|██████████| 155/155 [00:08<00:00, 17.61it/s]"
          ]
        },
        {
          "output_type": "stream",
          "name": "stdout",
          "text": [
            "                   all      0.989      0.999\n"
          ]
        },
        {
          "output_type": "stream",
          "name": "stderr",
          "text": [
            "\n"
          ]
        },
        {
          "output_type": "stream",
          "name": "stdout",
          "text": [
            "\n",
            "      Epoch    GPU_mem       loss  Instances       Size\n"
          ]
        },
        {
          "output_type": "stream",
          "name": "stderr",
          "text": [
            "      18/50      3.71G     0.2246         10        320: 100%|██████████| 2782/2782 [03:51<00:00, 12.03it/s]\n",
            "               classes   top1_acc   top5_acc: 100%|██████████| 155/155 [00:08<00:00, 17.60it/s]"
          ]
        },
        {
          "output_type": "stream",
          "name": "stdout",
          "text": [
            "                   all      0.989      0.999\n"
          ]
        },
        {
          "output_type": "stream",
          "name": "stderr",
          "text": [
            "\n"
          ]
        },
        {
          "output_type": "stream",
          "name": "stdout",
          "text": [
            "\n",
            "      Epoch    GPU_mem       loss  Instances       Size\n"
          ]
        },
        {
          "output_type": "stream",
          "name": "stderr",
          "text": [
            "      19/50      3.79G     0.2202         10        320: 100%|██████████| 2782/2782 [03:50<00:00, 12.06it/s]\n",
            "               classes   top1_acc   top5_acc: 100%|██████████| 155/155 [00:08<00:00, 17.69it/s]"
          ]
        },
        {
          "output_type": "stream",
          "name": "stdout",
          "text": [
            "                   all      0.989      0.999\n"
          ]
        },
        {
          "output_type": "stream",
          "name": "stderr",
          "text": [
            "\n"
          ]
        },
        {
          "output_type": "stream",
          "name": "stdout",
          "text": [
            "\n",
            "      Epoch    GPU_mem       loss  Instances       Size\n"
          ]
        },
        {
          "output_type": "stream",
          "name": "stderr",
          "text": [
            "      20/50      3.89G     0.2181         10        320: 100%|██████████| 2782/2782 [03:51<00:00, 12.01it/s]\n",
            "               classes   top1_acc   top5_acc: 100%|██████████| 155/155 [00:08<00:00, 17.59it/s]"
          ]
        },
        {
          "output_type": "stream",
          "name": "stdout",
          "text": [
            "                   all      0.989      0.999\n"
          ]
        },
        {
          "output_type": "stream",
          "name": "stderr",
          "text": [
            "\n"
          ]
        },
        {
          "output_type": "stream",
          "name": "stdout",
          "text": [
            "\n",
            "      Epoch    GPU_mem       loss  Instances       Size\n"
          ]
        },
        {
          "output_type": "stream",
          "name": "stderr",
          "text": [
            "      21/50      3.97G     0.2103         10        320: 100%|██████████| 2782/2782 [03:50<00:00, 12.05it/s]\n",
            "               classes   top1_acc   top5_acc: 100%|██████████| 155/155 [00:08<00:00, 17.60it/s]"
          ]
        },
        {
          "output_type": "stream",
          "name": "stdout",
          "text": [
            "                   all      0.989      0.999\n"
          ]
        },
        {
          "output_type": "stream",
          "name": "stderr",
          "text": [
            "\n"
          ]
        },
        {
          "output_type": "stream",
          "name": "stdout",
          "text": [
            "\n",
            "      Epoch    GPU_mem       loss  Instances       Size\n"
          ]
        },
        {
          "output_type": "stream",
          "name": "stderr",
          "text": [
            "      22/50      4.07G     0.2056         10        320: 100%|██████████| 2782/2782 [03:51<00:00, 12.03it/s]\n",
            "               classes   top1_acc   top5_acc: 100%|██████████| 155/155 [00:08<00:00, 17.60it/s]"
          ]
        },
        {
          "output_type": "stream",
          "name": "stdout",
          "text": [
            "                   all      0.989          1\n"
          ]
        },
        {
          "output_type": "stream",
          "name": "stderr",
          "text": [
            "\n"
          ]
        },
        {
          "output_type": "stream",
          "name": "stdout",
          "text": [
            "\n",
            "      Epoch    GPU_mem       loss  Instances       Size\n"
          ]
        },
        {
          "output_type": "stream",
          "name": "stderr",
          "text": [
            "      23/50      4.15G     0.2056         10        320: 100%|██████████| 2782/2782 [03:50<00:00, 12.06it/s]\n",
            "               classes   top1_acc   top5_acc: 100%|██████████| 155/155 [00:08<00:00, 17.62it/s]"
          ]
        },
        {
          "output_type": "stream",
          "name": "stdout",
          "text": [
            "                   all      0.989          1\n"
          ]
        },
        {
          "output_type": "stream",
          "name": "stderr",
          "text": [
            "\n"
          ]
        },
        {
          "output_type": "stream",
          "name": "stdout",
          "text": [
            "\n",
            "      Epoch    GPU_mem       loss  Instances       Size\n"
          ]
        },
        {
          "output_type": "stream",
          "name": "stderr",
          "text": [
            "      24/50      4.26G     0.1955         10        320: 100%|██████████| 2782/2782 [03:50<00:00, 12.07it/s]\n",
            "               classes   top1_acc   top5_acc: 100%|██████████| 155/155 [00:08<00:00, 17.64it/s]"
          ]
        },
        {
          "output_type": "stream",
          "name": "stdout",
          "text": [
            "                   all      0.989          1\n"
          ]
        },
        {
          "output_type": "stream",
          "name": "stderr",
          "text": [
            "\n"
          ]
        },
        {
          "output_type": "stream",
          "name": "stdout",
          "text": [
            "\n",
            "      Epoch    GPU_mem       loss  Instances       Size\n"
          ]
        },
        {
          "output_type": "stream",
          "name": "stderr",
          "text": [
            "      25/50      4.33G     0.1911         10        320: 100%|██████████| 2782/2782 [03:51<00:00, 12.04it/s]\n",
            "               classes   top1_acc   top5_acc: 100%|██████████| 155/155 [00:08<00:00, 17.62it/s]"
          ]
        },
        {
          "output_type": "stream",
          "name": "stdout",
          "text": [
            "                   all      0.989          1\n"
          ]
        },
        {
          "output_type": "stream",
          "name": "stderr",
          "text": [
            "\n"
          ]
        },
        {
          "output_type": "stream",
          "name": "stdout",
          "text": [
            "\n",
            "      Epoch    GPU_mem       loss  Instances       Size\n"
          ]
        },
        {
          "output_type": "stream",
          "name": "stderr",
          "text": [
            "      26/50      4.45G     0.1892         10        320: 100%|██████████| 2782/2782 [03:50<00:00, 12.06it/s]\n",
            "               classes   top1_acc   top5_acc: 100%|██████████| 155/155 [00:08<00:00, 17.61it/s]"
          ]
        },
        {
          "output_type": "stream",
          "name": "stdout",
          "text": [
            "                   all       0.99          1\n"
          ]
        },
        {
          "output_type": "stream",
          "name": "stderr",
          "text": [
            "\n"
          ]
        },
        {
          "output_type": "stream",
          "name": "stdout",
          "text": [
            "\n",
            "      Epoch    GPU_mem       loss  Instances       Size\n"
          ]
        },
        {
          "output_type": "stream",
          "name": "stderr",
          "text": [
            "      27/50      4.52G     0.1823         10        320: 100%|██████████| 2782/2782 [03:50<00:00, 12.05it/s]\n",
            "               classes   top1_acc   top5_acc: 100%|██████████| 155/155 [00:08<00:00, 17.66it/s]"
          ]
        },
        {
          "output_type": "stream",
          "name": "stdout",
          "text": [
            "                   all       0.99      0.999\n"
          ]
        },
        {
          "output_type": "stream",
          "name": "stderr",
          "text": [
            "\n"
          ]
        },
        {
          "output_type": "stream",
          "name": "stdout",
          "text": [
            "\n",
            "      Epoch    GPU_mem       loss  Instances       Size\n"
          ]
        },
        {
          "output_type": "stream",
          "name": "stderr",
          "text": [
            "      28/50      4.62G      0.176         10        320: 100%|██████████| 2782/2782 [03:50<00:00, 12.06it/s]\n",
            "               classes   top1_acc   top5_acc: 100%|██████████| 155/155 [00:08<00:00, 17.65it/s]"
          ]
        },
        {
          "output_type": "stream",
          "name": "stdout",
          "text": [
            "                   all      0.991      0.999\n"
          ]
        },
        {
          "output_type": "stream",
          "name": "stderr",
          "text": [
            "\n"
          ]
        },
        {
          "output_type": "stream",
          "name": "stdout",
          "text": [
            "\n",
            "      Epoch    GPU_mem       loss  Instances       Size\n"
          ]
        },
        {
          "output_type": "stream",
          "name": "stderr",
          "text": [
            "      29/50       4.7G     0.1727         10        320: 100%|██████████| 2782/2782 [03:50<00:00, 12.05it/s]\n",
            "               classes   top1_acc   top5_acc: 100%|██████████| 155/155 [00:08<00:00, 17.64it/s]"
          ]
        },
        {
          "output_type": "stream",
          "name": "stdout",
          "text": [
            "                   all      0.991      0.999\n"
          ]
        },
        {
          "output_type": "stream",
          "name": "stderr",
          "text": [
            "\n"
          ]
        },
        {
          "output_type": "stream",
          "name": "stdout",
          "text": [
            "\n",
            "      Epoch    GPU_mem       loss  Instances       Size\n"
          ]
        },
        {
          "output_type": "stream",
          "name": "stderr",
          "text": [
            "      30/50      4.79G     0.1676         10        320: 100%|██████████| 2782/2782 [03:50<00:00, 12.06it/s]\n",
            "               classes   top1_acc   top5_acc: 100%|██████████| 155/155 [00:08<00:00, 17.64it/s]"
          ]
        },
        {
          "output_type": "stream",
          "name": "stdout",
          "text": [
            "                   all      0.991          1\n"
          ]
        },
        {
          "output_type": "stream",
          "name": "stderr",
          "text": [
            "\n"
          ]
        },
        {
          "output_type": "stream",
          "name": "stdout",
          "text": [
            "\n",
            "      Epoch    GPU_mem       loss  Instances       Size\n"
          ]
        },
        {
          "output_type": "stream",
          "name": "stderr",
          "text": [
            "      31/50      4.89G     0.1587         10        320: 100%|██████████| 2782/2782 [03:50<00:00, 12.06it/s]\n",
            "               classes   top1_acc   top5_acc: 100%|██████████| 155/155 [00:08<00:00, 17.64it/s]"
          ]
        },
        {
          "output_type": "stream",
          "name": "stdout",
          "text": [
            "                   all      0.991          1\n"
          ]
        },
        {
          "output_type": "stream",
          "name": "stderr",
          "text": [
            "\n"
          ]
        },
        {
          "output_type": "stream",
          "name": "stdout",
          "text": [
            "\n",
            "      Epoch    GPU_mem       loss  Instances       Size\n"
          ]
        },
        {
          "output_type": "stream",
          "name": "stderr",
          "text": [
            "      32/50      4.99G     0.1608         10        320: 100%|██████████| 2782/2782 [03:50<00:00, 12.06it/s]\n",
            "               classes   top1_acc   top5_acc: 100%|██████████| 155/155 [00:08<00:00, 17.63it/s]"
          ]
        },
        {
          "output_type": "stream",
          "name": "stdout",
          "text": [
            "                   all      0.991          1\n"
          ]
        },
        {
          "output_type": "stream",
          "name": "stderr",
          "text": [
            "\n"
          ]
        },
        {
          "output_type": "stream",
          "name": "stdout",
          "text": [
            "\n",
            "      Epoch    GPU_mem       loss  Instances       Size\n"
          ]
        },
        {
          "output_type": "stream",
          "name": "stderr",
          "text": [
            "      33/50      5.07G     0.1513         10        320: 100%|██████████| 2782/2782 [03:50<00:00, 12.05it/s]\n",
            "               classes   top1_acc   top5_acc: 100%|██████████| 155/155 [00:08<00:00, 17.65it/s]"
          ]
        },
        {
          "output_type": "stream",
          "name": "stdout",
          "text": [
            "                   all      0.991      0.999\n"
          ]
        },
        {
          "output_type": "stream",
          "name": "stderr",
          "text": [
            "\n"
          ]
        },
        {
          "output_type": "stream",
          "name": "stdout",
          "text": [
            "\n",
            "      Epoch    GPU_mem       loss  Instances       Size\n"
          ]
        },
        {
          "output_type": "stream",
          "name": "stderr",
          "text": [
            "      34/50      5.18G     0.1489         10        320: 100%|██████████| 2782/2782 [03:51<00:00, 12.03it/s]\n",
            "               classes   top1_acc   top5_acc: 100%|██████████| 155/155 [00:08<00:00, 17.59it/s]"
          ]
        },
        {
          "output_type": "stream",
          "name": "stdout",
          "text": [
            "                   all      0.991          1\n"
          ]
        },
        {
          "output_type": "stream",
          "name": "stderr",
          "text": [
            "\n"
          ]
        },
        {
          "output_type": "stream",
          "name": "stdout",
          "text": [
            "\n",
            "      Epoch    GPU_mem       loss  Instances       Size\n"
          ]
        },
        {
          "output_type": "stream",
          "name": "stderr",
          "text": [
            "      35/50      5.26G     0.1418         10        320: 100%|██████████| 2782/2782 [03:51<00:00, 12.03it/s]\n",
            "               classes   top1_acc   top5_acc: 100%|██████████| 155/155 [00:08<00:00, 17.65it/s]"
          ]
        },
        {
          "output_type": "stream",
          "name": "stdout",
          "text": [
            "                   all      0.991          1\n"
          ]
        },
        {
          "output_type": "stream",
          "name": "stderr",
          "text": [
            "\n"
          ]
        },
        {
          "output_type": "stream",
          "name": "stdout",
          "text": [
            "\n",
            "      Epoch    GPU_mem       loss  Instances       Size\n"
          ]
        },
        {
          "output_type": "stream",
          "name": "stderr",
          "text": [
            "      36/50      5.35G     0.1381         10        320: 100%|██████████| 2782/2782 [03:50<00:00, 12.06it/s]\n",
            "               classes   top1_acc   top5_acc: 100%|██████████| 155/155 [00:08<00:00, 17.63it/s]"
          ]
        },
        {
          "output_type": "stream",
          "name": "stdout",
          "text": [
            "                   all      0.991          1\n"
          ]
        },
        {
          "output_type": "stream",
          "name": "stderr",
          "text": [
            "\n"
          ]
        },
        {
          "output_type": "stream",
          "name": "stdout",
          "text": [
            "\n",
            "      Epoch    GPU_mem       loss  Instances       Size\n"
          ]
        },
        {
          "output_type": "stream",
          "name": "stderr",
          "text": [
            "      37/50      5.43G     0.1325         10        320: 100%|██████████| 2782/2782 [03:50<00:00, 12.08it/s]\n",
            "               classes   top1_acc   top5_acc: 100%|██████████| 155/155 [00:08<00:00, 17.66it/s]"
          ]
        },
        {
          "output_type": "stream",
          "name": "stdout",
          "text": [
            "                   all      0.991      0.999\n"
          ]
        },
        {
          "output_type": "stream",
          "name": "stderr",
          "text": [
            "\n"
          ]
        },
        {
          "output_type": "stream",
          "name": "stdout",
          "text": [
            "\n",
            "      Epoch    GPU_mem       loss  Instances       Size\n"
          ]
        },
        {
          "output_type": "stream",
          "name": "stderr",
          "text": [
            "      38/50      5.54G     0.1294         10        320: 100%|██████████| 2782/2782 [03:50<00:00, 12.06it/s]\n",
            "               classes   top1_acc   top5_acc: 100%|██████████| 155/155 [00:08<00:00, 17.63it/s]"
          ]
        },
        {
          "output_type": "stream",
          "name": "stdout",
          "text": [
            "                   all      0.992      0.999\n"
          ]
        },
        {
          "output_type": "stream",
          "name": "stderr",
          "text": [
            "\n"
          ]
        },
        {
          "output_type": "stream",
          "name": "stdout",
          "text": [
            "\n",
            "      Epoch    GPU_mem       loss  Instances       Size\n"
          ]
        },
        {
          "output_type": "stream",
          "name": "stderr",
          "text": [
            "      39/50      5.64G     0.1234         10        320: 100%|██████████| 2782/2782 [03:50<00:00, 12.06it/s]\n",
            "               classes   top1_acc   top5_acc: 100%|██████████| 155/155 [00:08<00:00, 17.61it/s]"
          ]
        },
        {
          "output_type": "stream",
          "name": "stdout",
          "text": [
            "                   all      0.992      0.999\n"
          ]
        },
        {
          "output_type": "stream",
          "name": "stderr",
          "text": [
            "\n"
          ]
        },
        {
          "output_type": "stream",
          "name": "stdout",
          "text": [
            "\n",
            "      Epoch    GPU_mem       loss  Instances       Size\n"
          ]
        },
        {
          "output_type": "stream",
          "name": "stderr",
          "text": [
            "      40/50      5.72G     0.1177         10        320: 100%|██████████| 2782/2782 [03:50<00:00, 12.08it/s]\n",
            "               classes   top1_acc   top5_acc: 100%|██████████| 155/155 [00:08<00:00, 17.64it/s]"
          ]
        },
        {
          "output_type": "stream",
          "name": "stdout",
          "text": [
            "                   all      0.992          1\n"
          ]
        },
        {
          "output_type": "stream",
          "name": "stderr",
          "text": [
            "\n"
          ]
        },
        {
          "output_type": "stream",
          "name": "stdout",
          "text": [
            "\n",
            "      Epoch    GPU_mem       loss  Instances       Size\n"
          ]
        },
        {
          "output_type": "stream",
          "name": "stderr",
          "text": [
            "      41/50      5.83G     0.1142         10        320: 100%|██████████| 2782/2782 [03:51<00:00, 12.04it/s]\n",
            "               classes   top1_acc   top5_acc: 100%|██████████| 155/155 [00:08<00:00, 17.64it/s]"
          ]
        },
        {
          "output_type": "stream",
          "name": "stdout",
          "text": [
            "                   all      0.993          1\n"
          ]
        },
        {
          "output_type": "stream",
          "name": "stderr",
          "text": [
            "\n"
          ]
        },
        {
          "output_type": "stream",
          "name": "stdout",
          "text": [
            "\n",
            "      Epoch    GPU_mem       loss  Instances       Size\n"
          ]
        },
        {
          "output_type": "stream",
          "name": "stderr",
          "text": [
            "      42/50       5.9G     0.1089         10        320: 100%|██████████| 2782/2782 [03:50<00:00, 12.07it/s]\n",
            "               classes   top1_acc   top5_acc: 100%|██████████| 155/155 [00:08<00:00, 17.63it/s]"
          ]
        },
        {
          "output_type": "stream",
          "name": "stdout",
          "text": [
            "                   all      0.992          1\n"
          ]
        },
        {
          "output_type": "stream",
          "name": "stderr",
          "text": [
            "\n"
          ]
        },
        {
          "output_type": "stream",
          "name": "stdout",
          "text": [
            "\n",
            "      Epoch    GPU_mem       loss  Instances       Size\n"
          ]
        },
        {
          "output_type": "stream",
          "name": "stderr",
          "text": [
            "      43/50      6.02G      0.105         10        320: 100%|██████████| 2782/2782 [03:51<00:00, 12.04it/s]\n",
            "               classes   top1_acc   top5_acc: 100%|██████████| 155/155 [00:08<00:00, 17.58it/s]"
          ]
        },
        {
          "output_type": "stream",
          "name": "stdout",
          "text": [
            "                   all      0.992          1\n"
          ]
        },
        {
          "output_type": "stream",
          "name": "stderr",
          "text": [
            "\n"
          ]
        },
        {
          "output_type": "stream",
          "name": "stdout",
          "text": [
            "\n",
            "      Epoch    GPU_mem       loss  Instances       Size\n"
          ]
        },
        {
          "output_type": "stream",
          "name": "stderr",
          "text": [
            "      44/50      6.09G    0.09975         10        320: 100%|██████████| 2782/2782 [03:50<00:00, 12.05it/s]\n",
            "               classes   top1_acc   top5_acc: 100%|██████████| 155/155 [00:08<00:00, 17.61it/s]"
          ]
        },
        {
          "output_type": "stream",
          "name": "stdout",
          "text": [
            "                   all      0.993          1\n"
          ]
        },
        {
          "output_type": "stream",
          "name": "stderr",
          "text": [
            "\n"
          ]
        },
        {
          "output_type": "stream",
          "name": "stdout",
          "text": [
            "\n",
            "      Epoch    GPU_mem       loss  Instances       Size\n"
          ]
        },
        {
          "output_type": "stream",
          "name": "stderr",
          "text": [
            "      45/50      6.19G    0.09151         10        320: 100%|██████████| 2782/2782 [03:50<00:00, 12.06it/s]\n",
            "               classes   top1_acc   top5_acc: 100%|██████████| 155/155 [00:08<00:00, 17.65it/s]"
          ]
        },
        {
          "output_type": "stream",
          "name": "stdout",
          "text": [
            "                   all      0.993          1\n"
          ]
        },
        {
          "output_type": "stream",
          "name": "stderr",
          "text": [
            "\n"
          ]
        },
        {
          "output_type": "stream",
          "name": "stdout",
          "text": [
            "\n",
            "      Epoch    GPU_mem       loss  Instances       Size\n"
          ]
        },
        {
          "output_type": "stream",
          "name": "stderr",
          "text": [
            "      46/50      6.29G    0.08757         10        320: 100%|██████████| 2782/2782 [03:51<00:00, 12.04it/s]\n",
            "               classes   top1_acc   top5_acc: 100%|██████████| 155/155 [00:08<00:00, 17.66it/s]"
          ]
        },
        {
          "output_type": "stream",
          "name": "stdout",
          "text": [
            "                   all      0.993          1\n"
          ]
        },
        {
          "output_type": "stream",
          "name": "stderr",
          "text": [
            "\n"
          ]
        },
        {
          "output_type": "stream",
          "name": "stdout",
          "text": [
            "\n",
            "      Epoch    GPU_mem       loss  Instances       Size\n"
          ]
        },
        {
          "output_type": "stream",
          "name": "stderr",
          "text": [
            "      47/50      6.37G    0.08269         10        320: 100%|██████████| 2782/2782 [03:50<00:00, 12.05it/s]\n",
            "               classes   top1_acc   top5_acc: 100%|██████████| 155/155 [00:08<00:00, 17.61it/s]"
          ]
        },
        {
          "output_type": "stream",
          "name": "stdout",
          "text": [
            "                   all      0.993          1\n"
          ]
        },
        {
          "output_type": "stream",
          "name": "stderr",
          "text": [
            "\n"
          ]
        },
        {
          "output_type": "stream",
          "name": "stdout",
          "text": [
            "\n",
            "      Epoch    GPU_mem       loss  Instances       Size\n"
          ]
        },
        {
          "output_type": "stream",
          "name": "stderr",
          "text": [
            "      48/50      6.48G    0.07996         10        320: 100%|██████████| 2782/2782 [03:50<00:00, 12.06it/s]\n",
            "               classes   top1_acc   top5_acc: 100%|██████████| 155/155 [00:08<00:00, 17.62it/s]"
          ]
        },
        {
          "output_type": "stream",
          "name": "stdout",
          "text": [
            "                   all      0.993          1\n"
          ]
        },
        {
          "output_type": "stream",
          "name": "stderr",
          "text": [
            "\n"
          ]
        },
        {
          "output_type": "stream",
          "name": "stdout",
          "text": [
            "\n",
            "      Epoch    GPU_mem       loss  Instances       Size\n"
          ]
        },
        {
          "output_type": "stream",
          "name": "stderr",
          "text": [
            "      49/50      6.55G    0.07485         10        320: 100%|██████████| 2782/2782 [03:50<00:00, 12.09it/s]\n",
            "               classes   top1_acc   top5_acc: 100%|██████████| 155/155 [00:08<00:00, 17.62it/s]"
          ]
        },
        {
          "output_type": "stream",
          "name": "stdout",
          "text": [
            "                   all      0.993          1\n"
          ]
        },
        {
          "output_type": "stream",
          "name": "stderr",
          "text": [
            "\n"
          ]
        },
        {
          "output_type": "stream",
          "name": "stdout",
          "text": [
            "\n",
            "      Epoch    GPU_mem       loss  Instances       Size\n"
          ]
        },
        {
          "output_type": "stream",
          "name": "stderr",
          "text": [
            "      50/50      6.65G    0.07181         10        320: 100%|██████████| 2782/2782 [03:50<00:00, 12.06it/s]\n",
            "               classes   top1_acc   top5_acc: 100%|██████████| 155/155 [00:08<00:00, 17.62it/s]"
          ]
        },
        {
          "output_type": "stream",
          "name": "stdout",
          "text": [
            "                   all      0.993          1\n"
          ]
        },
        {
          "output_type": "stream",
          "name": "stderr",
          "text": [
            "\n"
          ]
        },
        {
          "output_type": "stream",
          "name": "stdout",
          "text": [
            "\n",
            "50 epochs completed in 3.347 hours.\n",
            "Optimizer stripped from /content/drive/MyDrive/yolov8m_cls_320_results/yolov8m_cls_320_focal/weights/last.pt, 31.7MB\n",
            "Optimizer stripped from /content/drive/MyDrive/yolov8m_cls_320_results/yolov8m_cls_320_focal/weights/best.pt, 31.7MB\n",
            "\n",
            "Validating /content/drive/MyDrive/yolov8m_cls_320_results/yolov8m_cls_320_focal/weights/best.pt...\n",
            "Ultralytics 8.3.132 🚀 Python-3.11.12 torch-2.6.0+cu124 CUDA:0 (NVIDIA L4, 22693MiB)\n",
            "YOLOv8m-cls summary (fused): 42 layers, 15,780,590 parameters, 0 gradients, 41.6 GFLOPs\n",
            "\u001b[34m\u001b[1mtrain:\u001b[0m /content/dataset320/Mixed_SynDD2_100Data_Rearview_grayscale_320/train... found 89002 images in 14 classes ✅ \n",
            "\u001b[34m\u001b[1mval:\u001b[0m /content/dataset320/Mixed_SynDD2_100Data_Rearview_grayscale_320/val... found 9896 images in 14 classes ✅ \n",
            "\u001b[34m\u001b[1mtest:\u001b[0m None...\n"
          ]
        },
        {
          "output_type": "stream",
          "name": "stderr",
          "text": [
            "               classes   top1_acc   top5_acc: 100%|██████████| 155/155 [00:08<00:00, 19.05it/s]\n"
          ]
        },
        {
          "output_type": "stream",
          "name": "stdout",
          "text": [
            "                   all      0.993          1\n",
            "Speed: 0.1ms preprocess, 0.7ms inference, 0.0ms loss, 0.0ms postprocess per image\n",
            "Results saved to \u001b[1m/content/drive/MyDrive/yolov8m_cls_320_results/yolov8m_cls_320_focal\u001b[0m\n",
            "✅ Training resumed!\n",
            "📊 Validating…\n",
            "Ultralytics 8.3.132 🚀 Python-3.11.12 torch-2.6.0+cu124 CUDA:0 (NVIDIA L4, 22693MiB)\n",
            "YOLOv8m-cls summary (fused): 42 layers, 15,780,590 parameters, 0 gradients, 41.6 GFLOPs\n",
            "\u001b[34m\u001b[1mtrain:\u001b[0m /content/dataset320/Mixed_SynDD2_100Data_Rearview_grayscale_320/train... found 89002 images in 14 classes ✅ \n",
            "\u001b[34m\u001b[1mval:\u001b[0m /content/dataset320/Mixed_SynDD2_100Data_Rearview_grayscale_320/val... found 9896 images in 14 classes ✅ \n",
            "\u001b[34m\u001b[1mtest:\u001b[0m None...\n",
            "\u001b[34m\u001b[1mval: \u001b[0mFast image access ✅ (ping: 0.0±0.0 ms, read: 746.3±290.5 MB/s, size: 24.2 KB)\n"
          ]
        },
        {
          "output_type": "stream",
          "name": "stderr",
          "text": [
            "\u001b[34m\u001b[1mval: \u001b[0mScanning /content/dataset320/Mixed_SynDD2_100Data_Rearview_grayscale_320/val... 9896 images, 0 corrupt: 100%|██████████| 9896/9896 [00:00<?, ?it/s]\n",
            "               classes   top1_acc   top5_acc: 100%|██████████| 310/310 [00:13<00:00, 22.87it/s]\n"
          ]
        },
        {
          "output_type": "stream",
          "name": "stdout",
          "text": [
            "                   all      0.993          1\n",
            "Speed: 0.1ms preprocess, 1.2ms inference, 0.0ms loss, 0.0ms postprocess per image\n",
            "Results saved to \u001b[1m/content/drive/MyDrive/yolov8m_cls_320_results/yolov8m_cls_320_focal2\u001b[0m\n",
            "✅ Best weights saved to: /content/drive/MyDrive/yolov8m_cls_320_results/yolov8m_cls_320_focal/weights/best.pt\n"
          ]
        }
      ]
    },
    {
      "cell_type": "code",
      "source": [
        "import os\n",
        "import time\n",
        "from google.colab import runtime\n",
        "\n",
        "# Wait for training to complete before disconnecting\n",
        "print(\"Training completed! Releasing GPU resources...\")\n",
        "time.sleep(20)  # Give some time for final processing\n",
        "\n",
        "# Automatically disconnect the Colab session\n",
        "runtime.unassign()\n",
        "os._exit(0)"
      ],
      "metadata": {
        "colab": {
          "base_uri": "https://localhost:8080/"
        },
        "id": "MTQINIYcUtch",
        "outputId": "1a8f5184-2b51-4d92-92f4-b8328df04de4"
      },
      "execution_count": null,
      "outputs": [
        {
          "output_type": "stream",
          "name": "stdout",
          "text": [
            "Training completed! Releasing GPU resources...\n"
          ]
        }
      ]
    },
    {
      "cell_type": "code",
      "source": [],
      "metadata": {
        "id": "Gbjxadlay9Jo"
      },
      "execution_count": null,
      "outputs": []
    }
  ]
}