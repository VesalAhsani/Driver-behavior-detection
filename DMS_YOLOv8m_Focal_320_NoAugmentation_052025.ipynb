{
  "cells": [
    {
      "cell_type": "markdown",
      "metadata": {
        "id": "view-in-github",
        "colab_type": "text"
      },
      "source": [
        "<a href=\"https://colab.research.google.com/github/VesalAhsani/Driver-behavior-detection/blob/main/DMS_YOLOv8m_Focal_320_NoAugmentation_052025.ipynb\" target=\"_parent\"><img src=\"https://colab.research.google.com/assets/colab-badge.svg\" alt=\"Open In Colab\"/></a>"
      ]
    },
    {
      "cell_type": "markdown",
      "metadata": {
        "id": "H-VQLWiA2ne8"
      },
      "source": [
        "# YOLOv8-m Classification @ 320px on Colab\n",
        "No Augmentation, Focal with lower alpha\n",
        "\n",
        "Pretrained = False\n",
        "\n",
        "Make sure you’ve set your Runtime ▶️ “Change runtime type” ▶️ GPU."
      ]
    },
    {
      "cell_type": "code",
      "execution_count": null,
      "metadata": {
        "colab": {
          "base_uri": "https://localhost:8080/"
        },
        "id": "VUDXWut62mCA",
        "outputId": "3c767774-a815-468e-8ccf-22eb063f5ddb"
      },
      "outputs": [
        {
          "output_type": "stream",
          "name": "stdout",
          "text": [
            "\u001b[2K   \u001b[90m━━━━━━━━━━━━━━━━━━━━━━━━━━━━━━━━━━━━━━━━\u001b[0m \u001b[32m1.0/1.0 MB\u001b[0m \u001b[31m45.7 MB/s\u001b[0m eta \u001b[36m0:00:00\u001b[0m\n",
            "\u001b[2K   \u001b[90m━━━━━━━━━━━━━━━━━━━━━━━━━━━━━━━━━━━━━━━━\u001b[0m \u001b[32m363.4/363.4 MB\u001b[0m \u001b[31m2.7 MB/s\u001b[0m eta \u001b[36m0:00:00\u001b[0m\n",
            "\u001b[2K   \u001b[90m━━━━━━━━━━━━━━━━━━━━━━━━━━━━━━━━━━━━━━━━\u001b[0m \u001b[32m13.8/13.8 MB\u001b[0m \u001b[31m36.8 MB/s\u001b[0m eta \u001b[36m0:00:00\u001b[0m\n",
            "\u001b[2K   \u001b[90m━━━━━━━━━━━━━━━━━━━━━━━━━━━━━━━━━━━━━━━━\u001b[0m \u001b[32m24.6/24.6 MB\u001b[0m \u001b[31m88.6 MB/s\u001b[0m eta \u001b[36m0:00:00\u001b[0m\n",
            "\u001b[2K   \u001b[90m━━━━━━━━━━━━━━━━━━━━━━━━━━━━━━━━━━━━━━━━\u001b[0m \u001b[32m883.7/883.7 kB\u001b[0m \u001b[31m58.0 MB/s\u001b[0m eta \u001b[36m0:00:00\u001b[0m\n",
            "\u001b[2K   \u001b[90m━━━━━━━━━━━━━━━━━━━━━━━━━━━━━━━━━━━━━━━━\u001b[0m \u001b[32m664.8/664.8 MB\u001b[0m \u001b[31m1.6 MB/s\u001b[0m eta \u001b[36m0:00:00\u001b[0m\n",
            "\u001b[2K   \u001b[90m━━━━━━━━━━━━━━━━━━━━━━━━━━━━━━━━━━━━━━━━\u001b[0m \u001b[32m211.5/211.5 MB\u001b[0m \u001b[31m5.4 MB/s\u001b[0m eta \u001b[36m0:00:00\u001b[0m\n",
            "\u001b[2K   \u001b[90m━━━━━━━━━━━━━━━━━━━━━━━━━━━━━━━━━━━━━━━━\u001b[0m \u001b[32m56.3/56.3 MB\u001b[0m \u001b[31m39.3 MB/s\u001b[0m eta \u001b[36m0:00:00\u001b[0m\n",
            "\u001b[2K   \u001b[90m━━━━━━━━━━━━━━━━━━━━━━━━━━━━━━━━━━━━━━━━\u001b[0m \u001b[32m127.9/127.9 MB\u001b[0m \u001b[31m17.1 MB/s\u001b[0m eta \u001b[36m0:00:00\u001b[0m\n",
            "\u001b[2K   \u001b[90m━━━━━━━━━━━━━━━━━━━━━━━━━━━━━━━━━━━━━━━━\u001b[0m \u001b[32m207.5/207.5 MB\u001b[0m \u001b[31m3.8 MB/s\u001b[0m eta \u001b[36m0:00:00\u001b[0m\n",
            "\u001b[2K   \u001b[90m━━━━━━━━━━━━━━━━━━━━━━━━━━━━━━━━━━━━━━━━\u001b[0m \u001b[32m21.1/21.1 MB\u001b[0m \u001b[31m107.7 MB/s\u001b[0m eta \u001b[36m0:00:00\u001b[0m\n",
            "\u001b[?25h"
          ]
        }
      ],
      "source": [
        "# @title 1️⃣ Install dependencies\n",
        "# Colab comes with torch+cuda preinstalled, but we upgrade ultralytics.\n",
        "!pip install --upgrade ultralytics --quiet"
      ]
    },
    {
      "cell_type": "code",
      "execution_count": null,
      "metadata": {
        "id": "ylK9XUiW2nJd",
        "colab": {
          "base_uri": "https://localhost:8080/"
        },
        "outputId": "30a8ab37-b381-47cb-8366-91ba2d223fe1"
      },
      "outputs": [
        {
          "output_type": "stream",
          "name": "stdout",
          "text": [
            "Mounted at /content/drive\n"
          ]
        }
      ],
      "source": [
        "# @title 2️⃣ Mount Google Drive\n",
        "from google.colab import drive\n",
        "drive.mount('/content/drive')"
      ]
    },
    {
      "cell_type": "code",
      "execution_count": null,
      "metadata": {
        "colab": {
          "base_uri": "https://localhost:8080/"
        },
        "id": "Gmf7LSJZ2nGT",
        "outputId": "8f15698e-ddc5-4189-ff51-9412dbc4b88c"
      },
      "outputs": [
        {
          "output_type": "stream",
          "name": "stdout",
          "text": [
            "📦 Unzipping dataset…\n",
            "✅ Unzipped to /content/dataset320\n",
            "Control_Panel        →  8507 train |   946 val\n",
            "Makeup               →  6196 train |   689 val\n",
            "Smoking              → 12368 train |  1375 val\n",
            "Text_(Left)          →  5982 train |   665 val\n",
            "Talk_to_passengers   →  5335 train |   593 val\n",
            "Text_(Right)         →  5780 train |   643 val\n",
            "Eating               →  2159 train |   240 val\n",
            "Yawning              →  3265 train |   363 val\n",
            "Phone_Call_(Right)   →  7437 train |   827 val\n",
            "Reaching_Behind      →  4633 train |   515 val\n",
            "Drinking             →  7790 train |   866 val\n",
            "Phone_Call_(Left)    →  7125 train |   792 val\n",
            "Sleep                →  4450 train |   495 val\n",
            "Normal               →  7975 train |   887 val\n",
            "\n",
            "✅  Dataset now has the required .../train/<class> and .../val/<class> structure\n",
            "🧾 Found 89,002 train and 9,896 val images\n"
          ]
        }
      ],
      "source": [
        "# @title 3️⃣ Paths & Unzip Dataset\n",
        "import os, zipfile, glob\n",
        "from pathlib import Path\n",
        "\n",
        "# Adjust these to match where you put your ZIP in Drive:\n",
        "ZIP_PATH     = \"/content/drive/MyDrive/DMS_Mixed_NotAugmented_320.zip\"\n",
        "EXTRACT_DIR  = \"/content/dataset320\"\n",
        "SPLIT_DIR    = os.path.join(EXTRACT_DIR, \"Mixed_SynDD2_100Data_Rearview_grayscale_320\")  # must contain train/ & val/\n",
        "RESULTS_DIR  = \"/content/drive/MyDrive/yolov8m_cls_320_results\"\n",
        "\n",
        "# 3.1 Unzip if needed\n",
        "if not os.path.isdir(SPLIT_DIR):\n",
        "    print(\"📦 Unzipping dataset…\")\n",
        "    with zipfile.ZipFile(ZIP_PATH, 'r') as z:\n",
        "        z.extractall(EXTRACT_DIR)\n",
        "    print(\"✅ Unzipped to\", EXTRACT_DIR)\n",
        "\n",
        "# 🔧 Split the flat folder of 14 classes into train/ and val/ sets\n",
        "import os, random, shutil, glob\n",
        "from pathlib import Path\n",
        "\n",
        "# --- config -----------------------------------------------------------\n",
        "SPLIT_DIR   = Path('/content/dataset320/Mixed_SynDD2_100Data_Rearview_grayscale_320')  # where the 14 class dirs are\n",
        "TRAIN_RATIO = 0.90                                   # 90‑10 split\n",
        "seed        = 42                                     # so it’s repeatable\n",
        "# ----------------------------------------------------------------------\n",
        "\n",
        "random.seed(seed)\n",
        "\n",
        "train_root = SPLIT_DIR / 'train'\n",
        "val_root   = SPLIT_DIR / 'val'\n",
        "train_root.mkdir(exist_ok=True)\n",
        "val_root.mkdir(exist_ok=True)\n",
        "\n",
        "cls_dirs = [d for d in SPLIT_DIR.iterdir() if d.is_dir() and d.name not in ('train','val')]\n",
        "assert len(cls_dirs) == 14, f\"Expected 14 class folders, found {len(cls_dirs)}\"\n",
        "\n",
        "for cls_dir in cls_dirs:\n",
        "    images = sorted(glob.glob(str(cls_dir / '*')))        # jpg / png / etc.\n",
        "    random.shuffle(images)\n",
        "    split_idx = int(len(images) * TRAIN_RATIO)\n",
        "\n",
        "    # prepare destination folders\n",
        "    (train_root / cls_dir.name).mkdir(parents=True, exist_ok=True)\n",
        "    (val_root   / cls_dir.name).mkdir(parents=True, exist_ok=True)\n",
        "\n",
        "    # move (or copy) the files\n",
        "    for i, img_path in enumerate(images):\n",
        "        dest_root = train_root if i < split_idx else val_root\n",
        "        shutil.move(img_path, dest_root / cls_dir.name / Path(img_path).name)\n",
        "\n",
        "    # optional: remove the now‑empty original class folder\n",
        "    cls_dir.rmdir()\n",
        "\n",
        "    print(f\"{cls_dir.name:<20} → {split_idx:5d} train | {len(images)-split_idx:5d} val\")\n",
        "\n",
        "print(\"\\n✅  Dataset now has the required .../train/<class> and .../val/<class> structure\")\n",
        "\n",
        "\n",
        "# 3.2 Verify\n",
        "assert os.path.isdir(os.path.join(SPLIT_DIR, \"train\")), \"❌ train/ missing!\"\n",
        "assert os.path.isdir(os.path.join(SPLIT_DIR, \"val\"  )), \"❌ val/   missing!\"\n",
        "\n",
        "train_images = glob.glob(os.path.join(SPLIT_DIR, \"train\", \"*\", \"*.jpg\"))\n",
        "val_images   = glob.glob(os.path.join(SPLIT_DIR, \"val\",   \"*\", \"*.jpg\"))\n",
        "print(f\"🧾 Found {len(train_images):,} train and {len(val_images):,} val images\")"
      ]
    },
    {
      "cell_type": "code",
      "execution_count": null,
      "metadata": {
        "id": "az_M2alZ2nDY",
        "colab": {
          "base_uri": "https://localhost:8080/"
        },
        "outputId": "d78fc480-1509-4120-d85e-e2551b845e76"
      },
      "outputs": [
        {
          "output_type": "stream",
          "name": "stdout",
          "text": [
            "α weights (capped): tensor([1.4538, 1.5877, 2.0000, 1.9961, 1.5508, 1.7359, 1.6630, 2.0000, 2.0000,\n",
            "        1.0000, 2.0000, 2.0000, 2.0000, 2.0000], device='cuda:0')\n"
          ]
        }
      ],
      "source": [
        "# @title 4️⃣ Compute α (class imbalance) for focal loss\n",
        "import torch\n",
        "\n",
        "# original per‑class counts\n",
        "class_counts = {\n",
        "    \"Control_Panel\":9453, \"Drinking\":8656, \"Eating\":2399, \"Makeup\":6885,\n",
        "    \"Normal\":8862, \"Phone_Call_(Left)\":7917, \"Phone_Call_(Right)\":8264,\n",
        "    \"Reaching_Behind\":5148, \"Sleep\":4945, \"Smoking\":13743,\n",
        "    \"Talk_to_passengers\":5928, \"Text_(Left)\":6647, \"Text_(Right)\":6423,\n",
        "    \"Yawning\":3628,\n",
        "}\n",
        "\n",
        "max_n          = max(class_counts.values())\n",
        "raw_alpha      = torch.tensor([max_n / class_counts[c] for c in class_counts],\n",
        "                              dtype=torch.float32)\n",
        "\n",
        "# --- clip the weights so no class gets more than 2.0 ---\n",
        "alpha_ceiling  = 2.0                       # ← change this if you want a different cap\n",
        "alpha_clipped  = torch.minimum(raw_alpha, torch.tensor(alpha_ceiling))\n",
        "\n",
        "alpha          = alpha_clipped.cuda()      # send to GPU if you’re training there\n",
        "print(\"α weights (capped):\", alpha)"
      ]
    },
    {
      "cell_type": "code",
      "execution_count": null,
      "metadata": {
        "id": "WrE2YBDc2nAX",
        "colab": {
          "base_uri": "https://localhost:8080/"
        },
        "outputId": "0bedca21-b69e-46a2-8fe1-6073f3140c25"
      },
      "outputs": [
        {
          "metadata": {
            "tags": null
          },
          "name": "stdout",
          "output_type": "stream",
          "text": [
            "Creating new Ultralytics Settings v0.0.6 file ✅ \n",
            "View Ultralytics Settings with 'yolo settings' or at '/root/.config/Ultralytics/settings.json'\n",
            "Update Settings with 'yolo settings key=value', i.e. 'yolo settings runs_dir=path/to/dir'. For help see https://docs.ultralytics.com/quickstart/#ultralytics-settings.\n",
            "🚀 Loading YOLOv8m-cls…\n",
            "Downloading https://github.com/ultralytics/assets/releases/download/v8.3.0/yolov8m-cls.pt to 'yolov8m-cls.pt'...\n"
          ]
        },
        {
          "metadata": {
            "tags": null
          },
          "name": "stderr",
          "output_type": "stream",
          "text": [
            "100%|██████████| 32.7M/32.7M [00:00<00:00, 43.0MB/s]\n"
          ]
        },
        {
          "metadata": {
            "tags": null
          },
          "name": "stdout",
          "output_type": "stream",
          "text": [
            "📚 Training…\n",
            "Ultralytics 8.3.131 🚀 Python-3.11.12 torch-2.6.0+cu124 CUDA:0 (NVIDIA L4, 22693MiB)\n",
            "\u001b[34m\u001b[1mengine/trainer: \u001b[0magnostic_nms=False, amp=True, augment=False, auto_augment=randaugment, batch=32, bgr=0.0, box=7.5, cache=False, cfg=None, classes=None, close_mosaic=10, cls=0.5, conf=None, copy_paste=0.0, copy_paste_mode=flip, cos_lr=False, cutmix=0.0, data=/content/dataset320/Mixed_SynDD2_100Data_Rearview_grayscale_320, degrees=0.0, deterministic=True, device=None, dfl=1.5, dnn=False, dropout=0.0, dynamic=False, embed=None, epochs=50, erasing=0.4, exist_ok=False, fliplr=0, flipud=0, format=torchscript, fraction=1.0, freeze=None, half=False, hsv_h=0.015, hsv_s=0.7, hsv_v=0.4, imgsz=320, int8=False, iou=0.7, keras=False, kobj=1.0, line_width=None, lr0=0.0005, lrf=0.01, mask_ratio=4, max_det=300, mixup=0.0, mode=train, model=yolov8m-cls.pt, momentum=0.937, mosaic=1.0, multi_scale=False, name=yolov8m_cls_320_focal, nbs=64, nms=False, opset=None, optimize=False, optimizer=Adam, overlap_mask=True, patience=100, perspective=0.0, plots=True, pose=12.0, pretrained=False, profile=False, project=/content/drive/MyDrive/yolov8m_cls_320_results, rect=False, resume=False, retina_masks=False, save=True, save_conf=False, save_crop=False, save_dir=/content/drive/MyDrive/yolov8m_cls_320_results/yolov8m_cls_320_focal, save_frames=False, save_json=False, save_period=-1, save_txt=False, scale=0.5, seed=0, shear=0.0, show=False, show_boxes=True, show_conf=True, show_labels=True, simplify=True, single_cls=False, source=None, split=val, stream_buffer=False, task=classify, time=None, tracker=botsort.yaml, translate=0.1, val=True, verbose=True, vid_stride=1, visualize=False, warmup_bias_lr=0.1, warmup_epochs=3.0, warmup_momentum=0.8, weight_decay=0.0005, workers=8, workspace=None\n",
            "\u001b[34m\u001b[1mtrain:\u001b[0m /content/dataset320/Mixed_SynDD2_100Data_Rearview_grayscale_320/train... found 89002 images in 14 classes ✅ \n",
            "\u001b[34m\u001b[1mval:\u001b[0m /content/dataset320/Mixed_SynDD2_100Data_Rearview_grayscale_320/val... found 9896 images in 14 classes ✅ \n",
            "\u001b[34m\u001b[1mtest:\u001b[0m None...\n",
            "Overriding model.yaml nc=1000 with nc=14\n",
            "\n",
            "                   from  n    params  module                                       arguments                     \n",
            "  0                  -1  1      1392  ultralytics.nn.modules.conv.Conv             [3, 48, 3, 2]                 \n",
            "  1                  -1  1     41664  ultralytics.nn.modules.conv.Conv             [48, 96, 3, 2]                \n",
            "  2                  -1  2    111360  ultralytics.nn.modules.block.C2f             [96, 96, 2, True]             \n",
            "  3                  -1  1    166272  ultralytics.nn.modules.conv.Conv             [96, 192, 3, 2]               \n",
            "  4                  -1  4    813312  ultralytics.nn.modules.block.C2f             [192, 192, 4, True]           \n",
            "  5                  -1  1    664320  ultralytics.nn.modules.conv.Conv             [192, 384, 3, 2]              \n",
            "  6                  -1  4   3248640  ultralytics.nn.modules.block.C2f             [384, 384, 4, True]           \n",
            "  7                  -1  1   2655744  ultralytics.nn.modules.conv.Conv             [384, 768, 3, 2]              \n",
            "  8                  -1  2   7084032  ultralytics.nn.modules.block.C2f             [768, 768, 2, True]           \n",
            "  9                  -1  1   1003534  ultralytics.nn.modules.head.Classify         [768, 14]                     \n",
            "YOLOv8m-cls summary: 80 layers, 15,790,270 parameters, 15,790,270 gradients, 41.9 GFLOPs\n",
            "Transferred 228/230 items from pretrained weights\n",
            "\u001b[34m\u001b[1mAMP: \u001b[0mrunning Automatic Mixed Precision (AMP) checks...\n",
            "Downloading https://github.com/ultralytics/assets/releases/download/v8.3.0/yolo11n.pt to 'yolo11n.pt'...\n"
          ]
        },
        {
          "metadata": {
            "tags": null
          },
          "name": "stderr",
          "output_type": "stream",
          "text": [
            "100%|██████████| 5.35M/5.35M [00:00<00:00, 419MB/s]\n"
          ]
        },
        {
          "metadata": {
            "tags": null
          },
          "name": "stdout",
          "output_type": "stream",
          "text": [
            "\u001b[34m\u001b[1mAMP: \u001b[0mchecks passed ✅\n",
            "\u001b[34m\u001b[1mtrain: \u001b[0mFast image access ✅ (ping: 0.0±0.0 ms, read: 995.9±380.7 MB/s, size: 24.0 KB)\n"
          ]
        },
        {
          "metadata": {
            "tags": null
          },
          "name": "stderr",
          "output_type": "stream",
          "text": [
            "\u001b[34m\u001b[1mtrain: \u001b[0mScanning /content/dataset320/Mixed_SynDD2_100Data_Rearview_grayscale_320/train... 89002 images, 0 corrupt: 100%|██████████| 89002/89002 [00:25<00:00, 3539.09it/s]\n"
          ]
        },
        {
          "metadata": {
            "tags": null
          },
          "name": "stdout",
          "output_type": "stream",
          "text": [
            "\u001b[34m\u001b[1mtrain: \u001b[0mNew cache created: /content/dataset320/Mixed_SynDD2_100Data_Rearview_grayscale_320/train.cache\n",
            "\u001b[34m\u001b[1mval: \u001b[0mFast image access ✅ (ping: 0.0±0.0 ms, read: 824.1±322.9 MB/s, size: 24.2 KB)\n"
          ]
        },
        {
          "metadata": {
            "tags": null
          },
          "name": "stderr",
          "output_type": "stream",
          "text": [
            "\u001b[34m\u001b[1mval: \u001b[0mScanning /content/dataset320/Mixed_SynDD2_100Data_Rearview_grayscale_320/val... 9896 images, 0 corrupt: 100%|██████████| 9896/9896 [00:02<00:00, 3438.14it/s]\n"
          ]
        },
        {
          "metadata": {
            "tags": null
          },
          "name": "stdout",
          "output_type": "stream",
          "text": [
            "\u001b[34m\u001b[1mval: \u001b[0mNew cache created: /content/dataset320/Mixed_SynDD2_100Data_Rearview_grayscale_320/val.cache\n",
            "\u001b[34m\u001b[1moptimizer:\u001b[0m Adam(lr=0.0005, momentum=0.937) with parameter groups 38 weight(decay=0.0), 39 weight(decay=0.0005), 39 bias(decay=0.0)\n",
            "Image sizes 320 train, 320 val\n",
            "Using 8 dataloader workers\n",
            "Logging results to \u001b[1m/content/drive/MyDrive/yolov8m_cls_320_results/yolov8m_cls_320_focal\u001b[0m\n",
            "Starting training for 50 epochs...\n",
            "\n",
            "      Epoch    GPU_mem       loss  Instances       Size\n"
          ]
        },
        {
          "metadata": {
            "tags": null
          },
          "name": "stderr",
          "output_type": "stream",
          "text": [
            "       1/50      2.41G      2.653         32        320:   0%|          | 11/2782 [00:02<05:43,  8.08it/s]"
          ]
        },
        {
          "metadata": {
            "tags": null
          },
          "name": "stdout",
          "output_type": "stream",
          "text": [
            "Downloading https://ultralytics.com/assets/Arial.ttf to '/root/.config/Ultralytics/Arial.ttf'...\n"
          ]
        },
        {
          "metadata": {
            "tags": null
          },
          "name": "stderr",
          "output_type": "stream",
          "text": [
            "       1/50      2.41G      2.647         32        320:   1%|          | 25/2782 [00:03<04:07, 11.15it/s]\n",
            "100%|██████████| 755k/755k [00:00<00:00, 112MB/s]\n",
            "       1/50      2.42G      2.121         10        320: 100%|██████████| 2782/2782 [04:10<00:00, 11.11it/s]\n",
            "               classes   top1_acc   top5_acc: 100%|██████████| 155/155 [00:08<00:00, 17.38it/s]"
          ]
        },
        {
          "metadata": {
            "tags": null
          },
          "name": "stdout",
          "output_type": "stream",
          "text": [
            "                   all      0.568      0.918\n"
          ]
        },
        {
          "metadata": {
            "tags": null
          },
          "name": "stderr",
          "output_type": "stream",
          "text": [
            "\n"
          ]
        },
        {
          "metadata": {
            "tags": null
          },
          "name": "stdout",
          "output_type": "stream",
          "text": [
            "\n",
            "      Epoch    GPU_mem       loss  Instances       Size\n"
          ]
        },
        {
          "metadata": {
            "tags": null
          },
          "name": "stderr",
          "output_type": "stream",
          "text": [
            "       2/50      2.96G      1.099         10        320: 100%|██████████| 2782/2782 [04:01<00:00, 11.51it/s]\n",
            "               classes   top1_acc   top5_acc: 100%|██████████| 155/155 [00:08<00:00, 17.58it/s]"
          ]
        },
        {
          "metadata": {
            "tags": null
          },
          "name": "stdout",
          "output_type": "stream",
          "text": [
            "                   all      0.842       0.99\n"
          ]
        },
        {
          "metadata": {
            "tags": null
          },
          "name": "stderr",
          "output_type": "stream",
          "text": [
            "\n"
          ]
        },
        {
          "metadata": {
            "tags": null
          },
          "name": "stdout",
          "output_type": "stream",
          "text": [
            "\n",
            "      Epoch    GPU_mem       loss  Instances       Size\n"
          ]
        },
        {
          "metadata": {
            "tags": null
          },
          "name": "stderr",
          "output_type": "stream",
          "text": [
            "       3/50      2.98G     0.7276         10        320: 100%|██████████| 2782/2782 [03:52<00:00, 11.95it/s]\n",
            "               classes   top1_acc   top5_acc: 100%|██████████| 155/155 [00:08<00:00, 17.54it/s]"
          ]
        },
        {
          "metadata": {
            "tags": null
          },
          "name": "stdout",
          "output_type": "stream",
          "text": [
            "                   all      0.902      0.995\n"
          ]
        },
        {
          "metadata": {
            "tags": null
          },
          "name": "stderr",
          "output_type": "stream",
          "text": [
            "\n"
          ]
        },
        {
          "metadata": {
            "tags": null
          },
          "name": "stdout",
          "output_type": "stream",
          "text": [
            "\n",
            "      Epoch    GPU_mem       loss  Instances       Size\n"
          ]
        },
        {
          "output_type": "stream",
          "name": "stderr",
          "text": [
            "       4/50      3.01G     0.5856         10        320: 100%|██████████| 2782/2782 [03:52<00:00, 11.96it/s]\n",
            "               classes   top1_acc   top5_acc: 100%|██████████| 155/155 [00:08<00:00, 17.52it/s]"
          ]
        },
        {
          "output_type": "stream",
          "name": "stdout",
          "text": [
            "                   all      0.938      0.996\n"
          ]
        },
        {
          "output_type": "stream",
          "name": "stderr",
          "text": [
            "\n"
          ]
        },
        {
          "output_type": "stream",
          "name": "stdout",
          "text": [
            "\n",
            "      Epoch    GPU_mem       loss  Instances       Size\n"
          ]
        },
        {
          "output_type": "stream",
          "name": "stderr",
          "text": [
            "       5/50      3.04G     0.5022         10        320: 100%|██████████| 2782/2782 [03:52<00:00, 11.96it/s]\n",
            "               classes   top1_acc   top5_acc: 100%|██████████| 155/155 [00:08<00:00, 17.52it/s]"
          ]
        },
        {
          "output_type": "stream",
          "name": "stdout",
          "text": [
            "                   all      0.956      0.998\n"
          ]
        },
        {
          "output_type": "stream",
          "name": "stderr",
          "text": [
            "\n"
          ]
        },
        {
          "output_type": "stream",
          "name": "stdout",
          "text": [
            "\n",
            "      Epoch    GPU_mem       loss  Instances       Size\n"
          ]
        },
        {
          "output_type": "stream",
          "name": "stderr",
          "text": [
            "       6/50      3.06G      0.455         10        320: 100%|██████████| 2782/2782 [03:51<00:00, 12.00it/s]\n",
            "               classes   top1_acc   top5_acc: 100%|██████████| 155/155 [00:08<00:00, 17.57it/s]"
          ]
        },
        {
          "output_type": "stream",
          "name": "stdout",
          "text": [
            "                   all      0.966      0.998\n"
          ]
        },
        {
          "output_type": "stream",
          "name": "stderr",
          "text": [
            "\n"
          ]
        },
        {
          "output_type": "stream",
          "name": "stdout",
          "text": [
            "\n",
            "      Epoch    GPU_mem       loss  Instances       Size\n"
          ]
        },
        {
          "output_type": "stream",
          "name": "stderr",
          "text": [
            "       7/50      3.09G     0.4199         10        320: 100%|██████████| 2782/2782 [03:52<00:00, 11.99it/s]\n",
            "               classes   top1_acc   top5_acc: 100%|██████████| 155/155 [00:08<00:00, 17.55it/s]"
          ]
        },
        {
          "output_type": "stream",
          "name": "stdout",
          "text": [
            "                   all      0.971      0.998\n"
          ]
        },
        {
          "output_type": "stream",
          "name": "stderr",
          "text": [
            "\n"
          ]
        },
        {
          "output_type": "stream",
          "name": "stdout",
          "text": [
            "\n",
            "      Epoch    GPU_mem       loss  Instances       Size\n"
          ]
        },
        {
          "output_type": "stream",
          "name": "stderr",
          "text": [
            "       8/50      3.11G     0.3886         10        320: 100%|██████████| 2782/2782 [03:51<00:00, 12.02it/s]\n",
            "               classes   top1_acc   top5_acc: 100%|██████████| 155/155 [00:08<00:00, 17.61it/s]"
          ]
        },
        {
          "output_type": "stream",
          "name": "stdout",
          "text": [
            "                   all      0.978      0.999\n"
          ]
        },
        {
          "output_type": "stream",
          "name": "stderr",
          "text": [
            "\n"
          ]
        },
        {
          "output_type": "stream",
          "name": "stdout",
          "text": [
            "\n",
            "      Epoch    GPU_mem       loss  Instances       Size\n"
          ]
        },
        {
          "output_type": "stream",
          "name": "stderr",
          "text": [
            "       9/50      3.14G     0.3714         10        320: 100%|██████████| 2782/2782 [03:52<00:00, 11.99it/s]\n",
            "               classes   top1_acc   top5_acc: 100%|██████████| 155/155 [00:08<00:00, 17.55it/s]"
          ]
        },
        {
          "output_type": "stream",
          "name": "stdout",
          "text": [
            "                   all      0.981      0.999\n"
          ]
        },
        {
          "output_type": "stream",
          "name": "stderr",
          "text": [
            "\n"
          ]
        },
        {
          "output_type": "stream",
          "name": "stdout",
          "text": [
            "\n",
            "      Epoch    GPU_mem       loss  Instances       Size\n"
          ]
        },
        {
          "output_type": "stream",
          "name": "stderr",
          "text": [
            "      10/50      3.16G     0.3525         10        320: 100%|██████████| 2782/2782 [03:52<00:00, 11.98it/s]\n",
            "               classes   top1_acc   top5_acc: 100%|██████████| 155/155 [00:08<00:00, 17.55it/s]"
          ]
        },
        {
          "output_type": "stream",
          "name": "stdout",
          "text": [
            "                   all       0.98      0.999\n"
          ]
        },
        {
          "output_type": "stream",
          "name": "stderr",
          "text": [
            "\n"
          ]
        },
        {
          "output_type": "stream",
          "name": "stdout",
          "text": [
            "\n",
            "      Epoch    GPU_mem       loss  Instances       Size\n"
          ]
        },
        {
          "output_type": "stream",
          "name": "stderr",
          "text": [
            "      11/50      3.19G     0.3324         10        320: 100%|██████████| 2782/2782 [03:52<00:00, 11.98it/s]\n",
            "               classes   top1_acc   top5_acc: 100%|██████████| 155/155 [00:08<00:00, 17.53it/s]"
          ]
        },
        {
          "output_type": "stream",
          "name": "stdout",
          "text": [
            "                   all      0.982      0.999\n"
          ]
        },
        {
          "output_type": "stream",
          "name": "stderr",
          "text": [
            "\n"
          ]
        },
        {
          "output_type": "stream",
          "name": "stdout",
          "text": [
            "\n",
            "      Epoch    GPU_mem       loss  Instances       Size\n"
          ]
        },
        {
          "output_type": "stream",
          "name": "stderr",
          "text": [
            "      12/50      3.21G     0.3191         10        320: 100%|██████████| 2782/2782 [03:52<00:00, 11.98it/s]\n",
            "               classes   top1_acc   top5_acc: 100%|██████████| 155/155 [00:08<00:00, 17.57it/s]"
          ]
        },
        {
          "output_type": "stream",
          "name": "stdout",
          "text": [
            "                   all      0.982      0.999\n"
          ]
        },
        {
          "output_type": "stream",
          "name": "stderr",
          "text": [
            "\n"
          ]
        },
        {
          "output_type": "stream",
          "name": "stdout",
          "text": [
            "\n",
            "      Epoch    GPU_mem       loss  Instances       Size\n"
          ]
        },
        {
          "output_type": "stream",
          "name": "stderr",
          "text": [
            "      13/50      3.24G     0.3112         10        320: 100%|██████████| 2782/2782 [03:51<00:00, 12.00it/s]\n",
            "               classes   top1_acc   top5_acc: 100%|██████████| 155/155 [00:08<00:00, 17.57it/s]"
          ]
        },
        {
          "output_type": "stream",
          "name": "stdout",
          "text": [
            "                   all      0.982      0.999\n"
          ]
        },
        {
          "output_type": "stream",
          "name": "stderr",
          "text": [
            "\n"
          ]
        },
        {
          "output_type": "stream",
          "name": "stdout",
          "text": [
            "\n",
            "      Epoch    GPU_mem       loss  Instances       Size\n"
          ]
        },
        {
          "output_type": "stream",
          "name": "stderr",
          "text": [
            "      14/50      3.33G     0.2972         10        320: 100%|██████████| 2782/2782 [03:52<00:00, 11.97it/s]\n",
            "               classes   top1_acc   top5_acc: 100%|██████████| 155/155 [00:08<00:00, 17.58it/s]"
          ]
        },
        {
          "output_type": "stream",
          "name": "stdout",
          "text": [
            "                   all      0.982      0.999\n"
          ]
        },
        {
          "output_type": "stream",
          "name": "stderr",
          "text": [
            "\n"
          ]
        },
        {
          "output_type": "stream",
          "name": "stdout",
          "text": [
            "\n",
            "      Epoch    GPU_mem       loss  Instances       Size\n"
          ]
        },
        {
          "output_type": "stream",
          "name": "stderr",
          "text": [
            "      15/50      3.43G     0.2914         10        320: 100%|██████████| 2782/2782 [03:51<00:00, 12.00it/s]\n",
            "               classes   top1_acc   top5_acc: 100%|██████████| 155/155 [00:08<00:00, 17.56it/s]"
          ]
        },
        {
          "output_type": "stream",
          "name": "stdout",
          "text": [
            "                   all      0.983      0.999\n"
          ]
        },
        {
          "output_type": "stream",
          "name": "stderr",
          "text": [
            "\n"
          ]
        },
        {
          "output_type": "stream",
          "name": "stdout",
          "text": [
            "\n",
            "      Epoch    GPU_mem       loss  Instances       Size\n"
          ]
        },
        {
          "output_type": "stream",
          "name": "stderr",
          "text": [
            "      16/50      3.68G      0.282         10        320: 100%|██████████| 2782/2782 [03:51<00:00, 12.00it/s]\n",
            "               classes   top1_acc   top5_acc: 100%|██████████| 155/155 [00:08<00:00, 17.58it/s]"
          ]
        },
        {
          "output_type": "stream",
          "name": "stdout",
          "text": [
            "                   all      0.984      0.999\n"
          ]
        },
        {
          "output_type": "stream",
          "name": "stderr",
          "text": [
            "\n"
          ]
        },
        {
          "output_type": "stream",
          "name": "stdout",
          "text": [
            "\n",
            "      Epoch    GPU_mem       loss  Instances       Size\n"
          ]
        },
        {
          "output_type": "stream",
          "name": "stderr",
          "text": [
            "      17/50       3.7G     0.2737         10        320: 100%|██████████| 2782/2782 [03:51<00:00, 12.03it/s]\n",
            "               classes   top1_acc   top5_acc: 100%|██████████| 155/155 [00:08<00:00, 17.59it/s]"
          ]
        },
        {
          "output_type": "stream",
          "name": "stdout",
          "text": [
            "                   all      0.984      0.999\n"
          ]
        },
        {
          "output_type": "stream",
          "name": "stderr",
          "text": [
            "\n"
          ]
        },
        {
          "output_type": "stream",
          "name": "stdout",
          "text": [
            "\n",
            "      Epoch    GPU_mem       loss  Instances       Size\n"
          ]
        },
        {
          "output_type": "stream",
          "name": "stderr",
          "text": [
            "      18/50      3.73G      0.265         10        320: 100%|██████████| 2782/2782 [03:51<00:00, 12.03it/s]\n",
            "               classes   top1_acc   top5_acc: 100%|██████████| 155/155 [00:08<00:00, 17.60it/s]"
          ]
        },
        {
          "output_type": "stream",
          "name": "stdout",
          "text": [
            "                   all      0.985      0.999\n"
          ]
        },
        {
          "output_type": "stream",
          "name": "stderr",
          "text": [
            "\n"
          ]
        },
        {
          "output_type": "stream",
          "name": "stdout",
          "text": [
            "\n",
            "      Epoch    GPU_mem       loss  Instances       Size\n"
          ]
        },
        {
          "output_type": "stream",
          "name": "stderr",
          "text": [
            "      19/50       3.8G     0.2573         10        320: 100%|██████████| 2782/2782 [03:51<00:00, 12.00it/s]\n",
            "               classes   top1_acc   top5_acc: 100%|██████████| 155/155 [00:08<00:00, 17.61it/s]"
          ]
        },
        {
          "output_type": "stream",
          "name": "stdout",
          "text": [
            "                   all      0.985      0.999\n"
          ]
        },
        {
          "output_type": "stream",
          "name": "stderr",
          "text": [
            "\n"
          ]
        },
        {
          "output_type": "stream",
          "name": "stdout",
          "text": [
            "\n",
            "      Epoch    GPU_mem       loss  Instances       Size\n"
          ]
        },
        {
          "output_type": "stream",
          "name": "stderr",
          "text": [
            "      20/50      3.88G     0.2502         10        320: 100%|██████████| 2782/2782 [03:51<00:00, 11.99it/s]\n",
            "               classes   top1_acc   top5_acc: 100%|██████████| 155/155 [00:08<00:00, 17.58it/s]"
          ]
        },
        {
          "output_type": "stream",
          "name": "stdout",
          "text": [
            "                   all      0.985      0.999\n"
          ]
        },
        {
          "output_type": "stream",
          "name": "stderr",
          "text": [
            "\n"
          ]
        },
        {
          "output_type": "stream",
          "name": "stdout",
          "text": [
            "\n",
            "      Epoch    GPU_mem       loss  Instances       Size\n"
          ]
        },
        {
          "output_type": "stream",
          "name": "stderr",
          "text": [
            "      21/50      3.96G     0.2437         10        320: 100%|██████████| 2782/2782 [03:51<00:00, 12.00it/s]\n",
            "               classes   top1_acc   top5_acc: 100%|██████████| 155/155 [00:08<00:00, 17.58it/s]"
          ]
        },
        {
          "output_type": "stream",
          "name": "stdout",
          "text": [
            "                   all      0.986      0.999\n"
          ]
        },
        {
          "output_type": "stream",
          "name": "stderr",
          "text": [
            "\n"
          ]
        },
        {
          "output_type": "stream",
          "name": "stdout",
          "text": [
            "\n",
            "      Epoch    GPU_mem       loss  Instances       Size\n"
          ]
        },
        {
          "output_type": "stream",
          "name": "stderr",
          "text": [
            "      22/50      4.05G     0.2354         10        320: 100%|██████████| 2782/2782 [03:51<00:00, 12.02it/s]\n",
            "               classes   top1_acc   top5_acc: 100%|██████████| 155/155 [00:08<00:00, 17.58it/s]"
          ]
        },
        {
          "output_type": "stream",
          "name": "stdout",
          "text": [
            "                   all      0.986      0.999\n"
          ]
        },
        {
          "output_type": "stream",
          "name": "stderr",
          "text": [
            "\n"
          ]
        },
        {
          "output_type": "stream",
          "name": "stdout",
          "text": [
            "\n",
            "      Epoch    GPU_mem       loss  Instances       Size\n"
          ]
        },
        {
          "output_type": "stream",
          "name": "stderr",
          "text": [
            "      23/50      4.13G     0.2313         10        320: 100%|██████████| 2782/2782 [03:51<00:00, 12.01it/s]\n",
            "               classes   top1_acc   top5_acc: 100%|██████████| 155/155 [00:08<00:00, 17.57it/s]"
          ]
        },
        {
          "output_type": "stream",
          "name": "stdout",
          "text": [
            "                   all      0.986      0.999\n"
          ]
        },
        {
          "output_type": "stream",
          "name": "stderr",
          "text": [
            "\n"
          ]
        },
        {
          "output_type": "stream",
          "name": "stdout",
          "text": [
            "\n",
            "      Epoch    GPU_mem       loss  Instances       Size\n"
          ]
        },
        {
          "output_type": "stream",
          "name": "stderr",
          "text": [
            "      24/50      4.24G     0.2213         10        320: 100%|██████████| 2782/2782 [03:51<00:00, 12.01it/s]\n",
            "               classes   top1_acc   top5_acc: 100%|██████████| 155/155 [00:08<00:00, 17.57it/s]"
          ]
        },
        {
          "output_type": "stream",
          "name": "stdout",
          "text": [
            "                   all      0.987      0.999\n"
          ]
        },
        {
          "output_type": "stream",
          "name": "stderr",
          "text": [
            "\n"
          ]
        },
        {
          "output_type": "stream",
          "name": "stdout",
          "text": [
            "\n",
            "      Epoch    GPU_mem       loss  Instances       Size\n"
          ]
        },
        {
          "output_type": "stream",
          "name": "stderr",
          "text": [
            "      25/50      4.34G     0.2164         10        320: 100%|██████████| 2782/2782 [03:52<00:00, 11.99it/s]\n",
            "               classes   top1_acc   top5_acc: 100%|██████████| 155/155 [00:08<00:00, 17.55it/s]"
          ]
        },
        {
          "output_type": "stream",
          "name": "stdout",
          "text": [
            "                   all      0.987      0.999\n"
          ]
        },
        {
          "output_type": "stream",
          "name": "stderr",
          "text": [
            "\n"
          ]
        },
        {
          "output_type": "stream",
          "name": "stdout",
          "text": [
            "\n",
            "      Epoch    GPU_mem       loss  Instances       Size\n"
          ]
        },
        {
          "output_type": "stream",
          "name": "stderr",
          "text": [
            "      26/50      4.47G     0.2061         10        320: 100%|██████████| 2782/2782 [03:51<00:00, 12.01it/s]\n",
            "               classes   top1_acc   top5_acc: 100%|██████████| 155/155 [00:08<00:00, 17.57it/s]"
          ]
        },
        {
          "output_type": "stream",
          "name": "stdout",
          "text": [
            "                   all      0.988      0.999\n"
          ]
        },
        {
          "output_type": "stream",
          "name": "stderr",
          "text": [
            "\n"
          ]
        },
        {
          "output_type": "stream",
          "name": "stdout",
          "text": [
            "\n",
            "      Epoch    GPU_mem       loss  Instances       Size\n"
          ]
        },
        {
          "output_type": "stream",
          "name": "stderr",
          "text": [
            "      27/50      4.55G     0.2058         10        320: 100%|██████████| 2782/2782 [03:52<00:00, 11.99it/s]\n",
            "               classes   top1_acc   top5_acc: 100%|██████████| 155/155 [00:08<00:00, 17.55it/s]"
          ]
        },
        {
          "output_type": "stream",
          "name": "stdout",
          "text": [
            "                   all      0.989      0.999\n"
          ]
        },
        {
          "output_type": "stream",
          "name": "stderr",
          "text": [
            "\n"
          ]
        },
        {
          "output_type": "stream",
          "name": "stdout",
          "text": [
            "\n",
            "      Epoch    GPU_mem       loss  Instances       Size\n"
          ]
        },
        {
          "output_type": "stream",
          "name": "stderr",
          "text": [
            "      28/50      4.63G     0.1982         10        320: 100%|██████████| 2782/2782 [03:51<00:00, 12.00it/s]\n",
            "               classes   top1_acc   top5_acc: 100%|██████████| 155/155 [00:08<00:00, 17.55it/s]"
          ]
        },
        {
          "output_type": "stream",
          "name": "stdout",
          "text": [
            "                   all      0.989      0.999\n"
          ]
        },
        {
          "output_type": "stream",
          "name": "stderr",
          "text": [
            "\n"
          ]
        },
        {
          "output_type": "stream",
          "name": "stdout",
          "text": [
            "\n",
            "      Epoch    GPU_mem       loss  Instances       Size\n"
          ]
        },
        {
          "output_type": "stream",
          "name": "stderr",
          "text": [
            "      29/50       4.7G     0.1935         10        320: 100%|██████████| 2782/2782 [03:51<00:00, 12.00it/s]\n",
            "               classes   top1_acc   top5_acc: 100%|██████████| 155/155 [00:08<00:00, 17.56it/s]"
          ]
        },
        {
          "output_type": "stream",
          "name": "stdout",
          "text": [
            "                   all      0.989      0.999\n"
          ]
        },
        {
          "output_type": "stream",
          "name": "stderr",
          "text": [
            "\n"
          ]
        },
        {
          "output_type": "stream",
          "name": "stdout",
          "text": [
            "\n",
            "      Epoch    GPU_mem       loss  Instances       Size\n"
          ]
        },
        {
          "output_type": "stream",
          "name": "stderr",
          "text": [
            "      30/50       4.8G     0.1865         10        320: 100%|██████████| 2782/2782 [03:52<00:00, 11.99it/s]\n",
            "               classes   top1_acc   top5_acc: 100%|██████████| 155/155 [00:08<00:00, 17.56it/s]"
          ]
        },
        {
          "output_type": "stream",
          "name": "stdout",
          "text": [
            "                   all      0.989      0.999\n"
          ]
        },
        {
          "output_type": "stream",
          "name": "stderr",
          "text": [
            "\n"
          ]
        },
        {
          "output_type": "stream",
          "name": "stdout",
          "text": [
            "\n",
            "      Epoch    GPU_mem       loss  Instances       Size\n"
          ]
        },
        {
          "output_type": "stream",
          "name": "stderr",
          "text": [
            "      31/50       4.9G       0.18         10        320: 100%|██████████| 2782/2782 [03:52<00:00, 11.99it/s]\n",
            "               classes   top1_acc   top5_acc: 100%|██████████| 155/155 [00:08<00:00, 17.55it/s]"
          ]
        },
        {
          "output_type": "stream",
          "name": "stdout",
          "text": [
            "                   all      0.989      0.999\n"
          ]
        },
        {
          "output_type": "stream",
          "name": "stderr",
          "text": [
            "\n"
          ]
        },
        {
          "output_type": "stream",
          "name": "stdout",
          "text": [
            "\n",
            "      Epoch    GPU_mem       loss  Instances       Size\n"
          ]
        },
        {
          "output_type": "stream",
          "name": "stderr",
          "text": [
            "      32/50      4.98G     0.1779         10        320: 100%|██████████| 2782/2782 [03:51<00:00, 12.01it/s]\n",
            "               classes   top1_acc   top5_acc: 100%|██████████| 155/155 [00:08<00:00, 17.56it/s]"
          ]
        },
        {
          "output_type": "stream",
          "name": "stdout",
          "text": [
            "                   all       0.99      0.999\n"
          ]
        },
        {
          "output_type": "stream",
          "name": "stderr",
          "text": [
            "\n"
          ]
        },
        {
          "output_type": "stream",
          "name": "stdout",
          "text": [
            "\n",
            "      Epoch    GPU_mem       loss  Instances       Size\n"
          ]
        },
        {
          "output_type": "stream",
          "name": "stderr",
          "text": [
            "      33/50      5.09G     0.1701         10        320: 100%|██████████| 2782/2782 [03:51<00:00, 12.00it/s]\n",
            "               classes   top1_acc   top5_acc: 100%|██████████| 155/155 [00:08<00:00, 17.58it/s]"
          ]
        },
        {
          "output_type": "stream",
          "name": "stdout",
          "text": [
            "                   all       0.99          1\n"
          ]
        },
        {
          "output_type": "stream",
          "name": "stderr",
          "text": [
            "\n"
          ]
        },
        {
          "output_type": "stream",
          "name": "stdout",
          "text": [
            "\n",
            "      Epoch    GPU_mem       loss  Instances       Size\n"
          ]
        },
        {
          "output_type": "stream",
          "name": "stderr",
          "text": [
            "      34/50      5.17G     0.1622         10        320: 100%|██████████| 2782/2782 [03:51<00:00, 12.03it/s]\n",
            "               classes   top1_acc   top5_acc: 100%|██████████| 155/155 [00:08<00:00, 17.63it/s]"
          ]
        },
        {
          "output_type": "stream",
          "name": "stdout",
          "text": [
            "                   all      0.991          1\n"
          ]
        },
        {
          "output_type": "stream",
          "name": "stderr",
          "text": [
            "\n"
          ]
        },
        {
          "output_type": "stream",
          "name": "stdout",
          "text": [
            "\n",
            "      Epoch    GPU_mem       loss  Instances       Size\n"
          ]
        },
        {
          "output_type": "stream",
          "name": "stderr",
          "text": [
            "      35/50      5.26G      0.159         10        320: 100%|██████████| 2782/2782 [03:51<00:00, 12.00it/s]\n",
            "               classes   top1_acc   top5_acc: 100%|██████████| 155/155 [00:08<00:00, 17.58it/s]"
          ]
        },
        {
          "output_type": "stream",
          "name": "stdout",
          "text": [
            "                   all      0.992      0.999\n"
          ]
        },
        {
          "output_type": "stream",
          "name": "stderr",
          "text": [
            "\n"
          ]
        },
        {
          "output_type": "stream",
          "name": "stdout",
          "text": [
            "\n",
            "      Epoch    GPU_mem       loss  Instances       Size\n"
          ]
        },
        {
          "output_type": "stream",
          "name": "stderr",
          "text": [
            "      36/50      5.34G      0.153         10        320: 100%|██████████| 2782/2782 [03:52<00:00, 11.98it/s]\n",
            "               classes   top1_acc   top5_acc: 100%|██████████| 155/155 [00:08<00:00, 17.60it/s]"
          ]
        },
        {
          "output_type": "stream",
          "name": "stdout",
          "text": [
            "                   all      0.992      0.999\n"
          ]
        },
        {
          "output_type": "stream",
          "name": "stderr",
          "text": [
            "\n"
          ]
        },
        {
          "output_type": "stream",
          "name": "stdout",
          "text": [
            "\n",
            "      Epoch    GPU_mem       loss  Instances       Size\n"
          ]
        },
        {
          "output_type": "stream",
          "name": "stderr",
          "text": [
            "      37/50      5.45G      0.147         10        320: 100%|██████████| 2782/2782 [03:52<00:00, 11.99it/s]\n",
            "               classes   top1_acc   top5_acc: 100%|██████████| 155/155 [00:08<00:00, 17.56it/s]"
          ]
        },
        {
          "output_type": "stream",
          "name": "stdout",
          "text": [
            "                   all      0.992      0.999\n"
          ]
        },
        {
          "output_type": "stream",
          "name": "stderr",
          "text": [
            "\n"
          ]
        },
        {
          "output_type": "stream",
          "name": "stdout",
          "text": [
            "\n",
            "      Epoch    GPU_mem       loss  Instances       Size\n"
          ]
        },
        {
          "output_type": "stream",
          "name": "stderr",
          "text": [
            "      38/50      5.53G     0.1449         10        320: 100%|██████████| 2782/2782 [03:51<00:00, 12.01it/s]\n",
            "               classes   top1_acc   top5_acc: 100%|██████████| 155/155 [00:08<00:00, 17.61it/s]"
          ]
        },
        {
          "output_type": "stream",
          "name": "stdout",
          "text": [
            "                   all      0.993      0.999\n"
          ]
        },
        {
          "output_type": "stream",
          "name": "stderr",
          "text": [
            "\n"
          ]
        },
        {
          "output_type": "stream",
          "name": "stdout",
          "text": [
            "\n",
            "      Epoch    GPU_mem       loss  Instances       Size\n"
          ]
        },
        {
          "output_type": "stream",
          "name": "stderr",
          "text": [
            "      39/50      5.62G     0.1338         10        320: 100%|██████████| 2782/2782 [03:51<00:00, 12.02it/s]\n",
            "               classes   top1_acc   top5_acc: 100%|██████████| 155/155 [00:08<00:00, 17.59it/s]"
          ]
        },
        {
          "output_type": "stream",
          "name": "stdout",
          "text": [
            "                   all      0.993      0.999\n"
          ]
        },
        {
          "output_type": "stream",
          "name": "stderr",
          "text": [
            "\n"
          ]
        },
        {
          "output_type": "stream",
          "name": "stdout",
          "text": [
            "\n",
            "      Epoch    GPU_mem       loss  Instances       Size\n"
          ]
        },
        {
          "output_type": "stream",
          "name": "stderr",
          "text": [
            "      40/50      5.72G     0.1327         10        320: 100%|██████████| 2782/2782 [03:51<00:00, 12.02it/s]\n",
            "               classes   top1_acc   top5_acc: 100%|██████████| 155/155 [00:08<00:00, 17.59it/s]"
          ]
        },
        {
          "output_type": "stream",
          "name": "stdout",
          "text": [
            "                   all      0.993          1\n"
          ]
        },
        {
          "output_type": "stream",
          "name": "stderr",
          "text": [
            "\n"
          ]
        },
        {
          "output_type": "stream",
          "name": "stdout",
          "text": [
            "\n",
            "      Epoch    GPU_mem       loss  Instances       Size\n"
          ]
        },
        {
          "output_type": "stream",
          "name": "stderr",
          "text": [
            "      41/50       5.8G     0.1244         10        320: 100%|██████████| 2782/2782 [03:52<00:00, 11.96it/s]\n",
            "               classes   top1_acc   top5_acc: 100%|██████████| 155/155 [00:08<00:00, 17.60it/s]"
          ]
        },
        {
          "output_type": "stream",
          "name": "stdout",
          "text": [
            "                   all      0.993          1\n"
          ]
        },
        {
          "output_type": "stream",
          "name": "stderr",
          "text": [
            "\n"
          ]
        },
        {
          "output_type": "stream",
          "name": "stdout",
          "text": [
            "\n",
            "      Epoch    GPU_mem       loss  Instances       Size\n"
          ]
        },
        {
          "output_type": "stream",
          "name": "stderr",
          "text": [
            "      42/50       5.9G     0.1204         10        320: 100%|██████████| 2782/2782 [03:51<00:00, 12.01it/s]\n",
            "               classes   top1_acc   top5_acc: 100%|██████████| 155/155 [00:08<00:00, 17.57it/s]"
          ]
        },
        {
          "output_type": "stream",
          "name": "stdout",
          "text": [
            "                   all      0.994          1\n"
          ]
        },
        {
          "output_type": "stream",
          "name": "stderr",
          "text": [
            "\n"
          ]
        },
        {
          "output_type": "stream",
          "name": "stdout",
          "text": [
            "\n",
            "      Epoch    GPU_mem       loss  Instances       Size\n"
          ]
        },
        {
          "output_type": "stream",
          "name": "stderr",
          "text": [
            "      43/50      5.99G      0.117         10        320: 100%|██████████| 2782/2782 [03:52<00:00, 11.97it/s]\n",
            "               classes   top1_acc   top5_acc: 100%|██████████| 155/155 [00:08<00:00, 17.60it/s]"
          ]
        },
        {
          "output_type": "stream",
          "name": "stdout",
          "text": [
            "                   all      0.994      0.999\n"
          ]
        },
        {
          "output_type": "stream",
          "name": "stderr",
          "text": [
            "\n"
          ]
        },
        {
          "output_type": "stream",
          "name": "stdout",
          "text": [
            "\n",
            "      Epoch    GPU_mem       loss  Instances       Size\n"
          ]
        },
        {
          "output_type": "stream",
          "name": "stderr",
          "text": [
            "      44/50      6.07G     0.1093         10        320: 100%|██████████| 2782/2782 [03:51<00:00, 12.01it/s]\n",
            "               classes   top1_acc   top5_acc: 100%|██████████| 155/155 [00:08<00:00, 17.59it/s]"
          ]
        },
        {
          "output_type": "stream",
          "name": "stdout",
          "text": [
            "                   all      0.994      0.999\n"
          ]
        },
        {
          "output_type": "stream",
          "name": "stderr",
          "text": [
            "\n"
          ]
        },
        {
          "output_type": "stream",
          "name": "stdout",
          "text": [
            "\n",
            "      Epoch    GPU_mem       loss  Instances       Size\n"
          ]
        },
        {
          "output_type": "stream",
          "name": "stderr",
          "text": [
            "      45/50      6.17G    0.09914         10        320: 100%|██████████| 2782/2782 [03:51<00:00, 12.01it/s]\n",
            "               classes   top1_acc   top5_acc: 100%|██████████| 155/155 [00:08<00:00, 17.61it/s]"
          ]
        },
        {
          "output_type": "stream",
          "name": "stdout",
          "text": [
            "                   all      0.994      0.999\n"
          ]
        },
        {
          "output_type": "stream",
          "name": "stderr",
          "text": [
            "\n"
          ]
        },
        {
          "output_type": "stream",
          "name": "stdout",
          "text": [
            "\n",
            "      Epoch    GPU_mem       loss  Instances       Size\n"
          ]
        },
        {
          "output_type": "stream",
          "name": "stderr",
          "text": [
            "      46/50      6.27G    0.09869         10        320: 100%|██████████| 2782/2782 [03:51<00:00, 12.01it/s]\n",
            "               classes   top1_acc   top5_acc: 100%|██████████| 155/155 [00:08<00:00, 17.62it/s]"
          ]
        },
        {
          "output_type": "stream",
          "name": "stdout",
          "text": [
            "                   all      0.994          1\n"
          ]
        },
        {
          "output_type": "stream",
          "name": "stderr",
          "text": [
            "\n"
          ]
        },
        {
          "output_type": "stream",
          "name": "stdout",
          "text": [
            "\n",
            "      Epoch    GPU_mem       loss  Instances       Size\n"
          ]
        },
        {
          "output_type": "stream",
          "name": "stderr",
          "text": [
            "      47/50       6.4G    0.09081         10        320: 100%|██████████| 2782/2782 [03:51<00:00, 12.00it/s]\n",
            "               classes   top1_acc   top5_acc: 100%|██████████| 155/155 [00:08<00:00, 17.58it/s]"
          ]
        },
        {
          "output_type": "stream",
          "name": "stdout",
          "text": [
            "                   all      0.994          1\n"
          ]
        },
        {
          "output_type": "stream",
          "name": "stderr",
          "text": [
            "\n"
          ]
        },
        {
          "output_type": "stream",
          "name": "stdout",
          "text": [
            "\n",
            "      Epoch    GPU_mem       loss  Instances       Size\n"
          ]
        },
        {
          "output_type": "stream",
          "name": "stderr",
          "text": [
            "      48/50      6.47G    0.08803         10        320: 100%|██████████| 2782/2782 [03:51<00:00, 12.00it/s]\n",
            "               classes   top1_acc   top5_acc: 100%|██████████| 155/155 [00:08<00:00, 17.55it/s]"
          ]
        },
        {
          "output_type": "stream",
          "name": "stdout",
          "text": [
            "                   all      0.994          1\n"
          ]
        },
        {
          "output_type": "stream",
          "name": "stderr",
          "text": [
            "\n"
          ]
        },
        {
          "output_type": "stream",
          "name": "stdout",
          "text": [
            "\n",
            "      Epoch    GPU_mem       loss  Instances       Size\n"
          ]
        },
        {
          "output_type": "stream",
          "name": "stderr",
          "text": [
            "      49/50      6.55G    0.08222         10        320: 100%|██████████| 2782/2782 [03:52<00:00, 11.99it/s]\n",
            "               classes   top1_acc   top5_acc: 100%|██████████| 155/155 [00:08<00:00, 17.58it/s]"
          ]
        },
        {
          "output_type": "stream",
          "name": "stdout",
          "text": [
            "                   all      0.994          1\n"
          ]
        },
        {
          "output_type": "stream",
          "name": "stderr",
          "text": [
            "\n"
          ]
        },
        {
          "output_type": "stream",
          "name": "stdout",
          "text": [
            "\n",
            "      Epoch    GPU_mem       loss  Instances       Size\n"
          ]
        },
        {
          "output_type": "stream",
          "name": "stderr",
          "text": [
            "      50/50      6.63G    0.07843         10        320: 100%|██████████| 2782/2782 [03:52<00:00, 11.97it/s]\n",
            "               classes   top1_acc   top5_acc: 100%|██████████| 155/155 [00:08<00:00, 17.60it/s]"
          ]
        },
        {
          "output_type": "stream",
          "name": "stdout",
          "text": [
            "                   all      0.995          1\n"
          ]
        },
        {
          "output_type": "stream",
          "name": "stderr",
          "text": [
            "\n"
          ]
        },
        {
          "output_type": "stream",
          "name": "stdout",
          "text": [
            "\n",
            "50 epochs completed in 3.361 hours.\n",
            "Optimizer stripped from /content/drive/MyDrive/yolov8m_cls_320_results/yolov8m_cls_320_focal/weights/last.pt, 31.7MB\n",
            "Optimizer stripped from /content/drive/MyDrive/yolov8m_cls_320_results/yolov8m_cls_320_focal/weights/best.pt, 31.7MB\n",
            "\n",
            "Validating /content/drive/MyDrive/yolov8m_cls_320_results/yolov8m_cls_320_focal/weights/best.pt...\n",
            "Ultralytics 8.3.131 🚀 Python-3.11.12 torch-2.6.0+cu124 CUDA:0 (NVIDIA L4, 22693MiB)\n",
            "YOLOv8m-cls summary (fused): 42 layers, 15,780,590 parameters, 0 gradients, 41.6 GFLOPs\n",
            "\u001b[34m\u001b[1mtrain:\u001b[0m /content/dataset320/Mixed_SynDD2_100Data_Rearview_grayscale_320/train... found 89002 images in 14 classes ✅ \n",
            "\u001b[34m\u001b[1mval:\u001b[0m /content/dataset320/Mixed_SynDD2_100Data_Rearview_grayscale_320/val... found 9896 images in 14 classes ✅ \n",
            "\u001b[34m\u001b[1mtest:\u001b[0m None...\n"
          ]
        },
        {
          "output_type": "stream",
          "name": "stderr",
          "text": [
            "               classes   top1_acc   top5_acc: 100%|██████████| 155/155 [00:08<00:00, 19.04it/s]\n"
          ]
        },
        {
          "output_type": "stream",
          "name": "stdout",
          "text": [
            "                   all      0.995          1\n",
            "Speed: 0.1ms preprocess, 0.7ms inference, 0.0ms loss, 0.0ms postprocess per image\n",
            "Results saved to \u001b[1m/content/drive/MyDrive/yolov8m_cls_320_results/yolov8m_cls_320_focal\u001b[0m\n",
            "✅ Training resumed!\n",
            "📊 Validating…\n",
            "Ultralytics 8.3.131 🚀 Python-3.11.12 torch-2.6.0+cu124 CUDA:0 (NVIDIA L4, 22693MiB)\n",
            "YOLOv8m-cls summary (fused): 42 layers, 15,780,590 parameters, 0 gradients, 41.6 GFLOPs\n",
            "\u001b[34m\u001b[1mtrain:\u001b[0m /content/dataset320/Mixed_SynDD2_100Data_Rearview_grayscale_320/train... found 89002 images in 14 classes ✅ \n",
            "\u001b[34m\u001b[1mval:\u001b[0m /content/dataset320/Mixed_SynDD2_100Data_Rearview_grayscale_320/val... found 9896 images in 14 classes ✅ \n",
            "\u001b[34m\u001b[1mtest:\u001b[0m None...\n",
            "\u001b[34m\u001b[1mval: \u001b[0mFast image access ✅ (ping: 0.0±0.0 ms, read: 664.3±310.6 MB/s, size: 24.2 KB)\n"
          ]
        },
        {
          "output_type": "stream",
          "name": "stderr",
          "text": [
            "\u001b[34m\u001b[1mval: \u001b[0mScanning /content/dataset320/Mixed_SynDD2_100Data_Rearview_grayscale_320/val... 9896 images, 0 corrupt: 100%|██████████| 9896/9896 [00:00<?, ?it/s]\n",
            "               classes   top1_acc   top5_acc: 100%|██████████| 310/310 [00:13<00:00, 22.78it/s]\n"
          ]
        },
        {
          "output_type": "stream",
          "name": "stdout",
          "text": [
            "                   all      0.995          1\n",
            "Speed: 0.1ms preprocess, 1.2ms inference, 0.0ms loss, 0.0ms postprocess per image\n",
            "Results saved to \u001b[1m/content/drive/MyDrive/yolov8m_cls_320_results/yolov8m_cls_320_focal2\u001b[0m\n",
            "✅ Best weights saved to: /content/drive/MyDrive/yolov8m_cls_320_results/yolov8m_cls_320_focal/weights/best.pt\n"
          ]
        }
      ],
      "source": [
        "# @title 5️⃣ Define FocalLoss & Train YOLOv8-s-cls\n",
        "import torch.nn as nn\n",
        "from ultralytics import YOLO\n",
        "\n",
        "# ─── Focal Loss ──────────────────────────\n",
        "class FocalLoss(nn.Module):\n",
        "    def __init__(self, gamma=1.5, alpha=None, reduction='mean'):\n",
        "        super().__init__()\n",
        "        self.gamma, self.alpha, self.reduction = gamma, alpha, reduction\n",
        "\n",
        "    def forward(self, inputs, targets):\n",
        "        logp = torch.nn.functional.log_softmax(inputs, dim=-1)\n",
        "        p    = torch.exp(logp)\n",
        "        t    = targets.long()\n",
        "        pt   = p.gather(-1, t.unsqueeze(-1)).squeeze(-1)\n",
        "        focal = (1 - pt) ** self.gamma\n",
        "        loss = -focal * logp.gather(-1, t.unsqueeze(-1)).squeeze(-1)\n",
        "        if self.alpha is not None:\n",
        "            loss = loss * self.alpha[t]\n",
        "        return loss.mean() if self.reduction=='mean' else loss.sum()\n",
        "\n",
        "# ─── Load & override loss ─────────────────\n",
        "print(\"🚀 Loading YOLOv8m-cls…\")\n",
        "\n",
        "model = YOLO(\"yolov8m-cls.pt\")\n",
        "\n",
        "# model = YOLO('/content/drive/MyDrive/yolov8m_cls_320_results/yolov8m_cls_320_focal/weights/last.pt')             # pretrained backbone\n",
        "\n",
        "model.loss = FocalLoss(gamma=1.5, alpha=alpha)\n",
        "\n",
        "\n",
        "\n",
        "# ─── Train ───────────────────────────────\n",
        "print(\"📚 Training…\")\n",
        "model.train(\n",
        "    data=SPLIT_DIR,          # train/ & val/ subfolders\n",
        "    epochs=50,\n",
        "    batch=32,\n",
        "    imgsz=320,\n",
        "    fliplr=0,         # <-- no left‑right flips for any image\n",
        "    flipud=0,         # <-- no up‑down flips for any image\n",
        "    project=RESULTS_DIR,\n",
        "    name=\"yolov8m_cls_320_focal\",\n",
        "    pretrained=False,\n",
        "    lr0=5e-4,\n",
        "    optimizer=\"Adam\",\n",
        ")\n",
        "\n",
        "print(\"✅ Training resumed!\")\n",
        "\n",
        "# ─── Validate & copy best.pt ────────────\n",
        "print(\"📊 Validating…\")\n",
        "model.val()\n",
        "\n",
        "src = os.path.join(model.trainer.save_dir, \"weights/best.pt\")\n",
        "dst = os.path.join(RESULTS_DIR, \"yolov8m_cls_320_focal\", \"weights/best.pt\")\n",
        "os.makedirs(os.path.dirname(dst), exist_ok=True)\n",
        "os.system(f\"cp {src} {dst}\")\n",
        "print(\"✅ Best weights saved to:\", dst)"
      ]
    },
    {
      "cell_type": "code",
      "execution_count": null,
      "metadata": {
        "id": "2hxQu7Tv2m9G",
        "colab": {
          "base_uri": "https://localhost:8080/"
        },
        "outputId": "986ae2e8-192b-4883-a8f6-07ce8acc609f"
      },
      "outputs": [
        {
          "output_type": "stream",
          "name": "stdout",
          "text": [
            "Training completed! Releasing GPU resources...\n"
          ]
        }
      ],
      "source": [
        "import os\n",
        "import time\n",
        "from google.colab import runtime\n",
        "\n",
        "# Wait for training to complete before disconnecting\n",
        "print(\"Training completed! Releasing GPU resources...\")\n",
        "time.sleep(20)  # Give some time for final processing\n",
        "\n",
        "# Automatically disconnect the Colab session\n",
        "runtime.unassign()\n",
        "os._exit(0)"
      ]
    }
  ],
  "metadata": {
    "accelerator": "GPU",
    "colab": {
      "gpuType": "L4",
      "provenance": [],
      "authorship_tag": "ABX9TyPLlzsRdbUMGVTOhI5JpTVh",
      "include_colab_link": true
    },
    "kernelspec": {
      "display_name": "Python 3",
      "name": "python3"
    },
    "language_info": {
      "name": "python"
    }
  },
  "nbformat": 4,
  "nbformat_minor": 0
}