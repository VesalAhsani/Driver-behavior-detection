{
  "cells": [
    {
      "cell_type": "markdown",
      "metadata": {
        "id": "view-in-github",
        "colab_type": "text"
      },
      "source": [
        "<a href=\"https://colab.research.google.com/github/VesalAhsani/Driver-behavior-detection/blob/main/Yolov8_cls_Day_imbalancedWeights_1.ipynb\" target=\"_parent\"><img src=\"https://colab.research.google.com/assets/colab-badge.svg\" alt=\"Open In Colab\"/></a>"
      ]
    },
    {
      "cell_type": "markdown",
      "source": [
        "In this model, we trained Day dataset with 6 classes, considering imbalanced weights randomly."
      ],
      "metadata": {
        "id": "jtWlvG6pb8fw"
      }
    },
    {
      "cell_type": "code",
      "execution_count": null,
      "metadata": {
        "colab": {
          "base_uri": "https://localhost:8080/"
        },
        "id": "ykJr43N0lMFI",
        "outputId": "0d6490e8-9ac8-4cf7-c3bb-3589775bb1fb"
      },
      "outputs": [
        {
          "name": "stdout",
          "output_type": "stream",
          "text": [
            "Mounted at /content/drive\n"
          ]
        }
      ],
      "source": [
        "from google.colab import drive\n",
        "drive.mount('/content/drive')"
      ]
    },
    {
      "cell_type": "code",
      "execution_count": null,
      "metadata": {
        "colab": {
          "base_uri": "https://localhost:8080/"
        },
        "id": "H3YzDaC9lNVx",
        "outputId": "558f9860-068b-457b-fa53-bddd1b7b3822"
      },
      "outputs": [
        {
          "name": "stdout",
          "output_type": "stream",
          "text": [
            "True\n"
          ]
        }
      ],
      "source": [
        "import os\n",
        "print(os.path.exists('/content/drive/MyDrive/Day_C123.zip'))"
      ]
    },
    {
      "cell_type": "code",
      "execution_count": null,
      "metadata": {
        "colab": {
          "base_uri": "https://localhost:8080/"
        },
        "id": "x3HCUpEilNNd",
        "outputId": "8050a328-b26e-4232-e50f-8d86a92315dd"
      },
      "outputs": [
        {
          "name": "stdout",
          "output_type": "stream",
          "text": [
            "Dataset unzipped successfully!\n"
          ]
        }
      ],
      "source": [
        "import zipfile\n",
        "zip_path = '/content/drive/MyDrive/Day_C123.zip'  # Adjust the path\n",
        "extract_path = '/content/day-c123'\n",
        "with zipfile.ZipFile(zip_path, 'r') as zip_ref:\n",
        "    zip_ref.extractall(extract_path)\n",
        "print(\"Dataset unzipped successfully!\")"
      ]
    },
    {
      "cell_type": "code",
      "execution_count": null,
      "metadata": {
        "colab": {
          "base_uri": "https://localhost:8080/"
        },
        "id": "NWNKr1ldlNFX",
        "outputId": "00854641-7f65-44ec-810f-a89e39066117"
      },
      "outputs": [
        {
          "name": "stdout",
          "output_type": "stream",
          "text": [
            "Collecting ultralytics\n",
            "  Downloading ultralytics-8.3.58-py3-none-any.whl.metadata (35 kB)\n",
            "Requirement already satisfied: numpy>=1.23.0 in /usr/local/lib/python3.10/dist-packages (from ultralytics) (1.26.4)\n",
            "Requirement already satisfied: matplotlib>=3.3.0 in /usr/local/lib/python3.10/dist-packages (from ultralytics) (3.8.0)\n",
            "Requirement already satisfied: opencv-python>=4.6.0 in /usr/local/lib/python3.10/dist-packages (from ultralytics) (4.10.0.84)\n",
            "Requirement already satisfied: pillow>=7.1.2 in /usr/local/lib/python3.10/dist-packages (from ultralytics) (11.0.0)\n",
            "Requirement already satisfied: pyyaml>=5.3.1 in /usr/local/lib/python3.10/dist-packages (from ultralytics) (6.0.2)\n",
            "Requirement already satisfied: requests>=2.23.0 in /usr/local/lib/python3.10/dist-packages (from ultralytics) (2.32.3)\n",
            "Requirement already satisfied: scipy>=1.4.1 in /usr/local/lib/python3.10/dist-packages (from ultralytics) (1.13.1)\n",
            "Requirement already satisfied: torch>=1.8.0 in /usr/local/lib/python3.10/dist-packages (from ultralytics) (2.5.1+cu121)\n",
            "Requirement already satisfied: torchvision>=0.9.0 in /usr/local/lib/python3.10/dist-packages (from ultralytics) (0.20.1+cu121)\n",
            "Requirement already satisfied: tqdm>=4.64.0 in /usr/local/lib/python3.10/dist-packages (from ultralytics) (4.67.1)\n",
            "Requirement already satisfied: psutil in /usr/local/lib/python3.10/dist-packages (from ultralytics) (5.9.5)\n",
            "Requirement already satisfied: py-cpuinfo in /usr/local/lib/python3.10/dist-packages (from ultralytics) (9.0.0)\n",
            "Requirement already satisfied: pandas>=1.1.4 in /usr/local/lib/python3.10/dist-packages (from ultralytics) (2.2.2)\n",
            "Requirement already satisfied: seaborn>=0.11.0 in /usr/local/lib/python3.10/dist-packages (from ultralytics) (0.13.2)\n",
            "Collecting ultralytics-thop>=2.0.0 (from ultralytics)\n",
            "  Downloading ultralytics_thop-2.0.13-py3-none-any.whl.metadata (9.4 kB)\n",
            "Requirement already satisfied: contourpy>=1.0.1 in /usr/local/lib/python3.10/dist-packages (from matplotlib>=3.3.0->ultralytics) (1.3.1)\n",
            "Requirement already satisfied: cycler>=0.10 in /usr/local/lib/python3.10/dist-packages (from matplotlib>=3.3.0->ultralytics) (0.12.1)\n",
            "Requirement already satisfied: fonttools>=4.22.0 in /usr/local/lib/python3.10/dist-packages (from matplotlib>=3.3.0->ultralytics) (4.55.3)\n",
            "Requirement already satisfied: kiwisolver>=1.0.1 in /usr/local/lib/python3.10/dist-packages (from matplotlib>=3.3.0->ultralytics) (1.4.7)\n",
            "Requirement already satisfied: packaging>=20.0 in /usr/local/lib/python3.10/dist-packages (from matplotlib>=3.3.0->ultralytics) (24.2)\n",
            "Requirement already satisfied: pyparsing>=2.3.1 in /usr/local/lib/python3.10/dist-packages (from matplotlib>=3.3.0->ultralytics) (3.2.0)\n",
            "Requirement already satisfied: python-dateutil>=2.7 in /usr/local/lib/python3.10/dist-packages (from matplotlib>=3.3.0->ultralytics) (2.8.2)\n",
            "Requirement already satisfied: pytz>=2020.1 in /usr/local/lib/python3.10/dist-packages (from pandas>=1.1.4->ultralytics) (2024.2)\n",
            "Requirement already satisfied: tzdata>=2022.7 in /usr/local/lib/python3.10/dist-packages (from pandas>=1.1.4->ultralytics) (2024.2)\n",
            "Requirement already satisfied: charset-normalizer<4,>=2 in /usr/local/lib/python3.10/dist-packages (from requests>=2.23.0->ultralytics) (3.4.0)\n",
            "Requirement already satisfied: idna<4,>=2.5 in /usr/local/lib/python3.10/dist-packages (from requests>=2.23.0->ultralytics) (3.10)\n",
            "Requirement already satisfied: urllib3<3,>=1.21.1 in /usr/local/lib/python3.10/dist-packages (from requests>=2.23.0->ultralytics) (2.2.3)\n",
            "Requirement already satisfied: certifi>=2017.4.17 in /usr/local/lib/python3.10/dist-packages (from requests>=2.23.0->ultralytics) (2024.12.14)\n",
            "Requirement already satisfied: filelock in /usr/local/lib/python3.10/dist-packages (from torch>=1.8.0->ultralytics) (3.16.1)\n",
            "Requirement already satisfied: typing-extensions>=4.8.0 in /usr/local/lib/python3.10/dist-packages (from torch>=1.8.0->ultralytics) (4.12.2)\n",
            "Requirement already satisfied: networkx in /usr/local/lib/python3.10/dist-packages (from torch>=1.8.0->ultralytics) (3.4.2)\n",
            "Requirement already satisfied: jinja2 in /usr/local/lib/python3.10/dist-packages (from torch>=1.8.0->ultralytics) (3.1.4)\n",
            "Requirement already satisfied: fsspec in /usr/local/lib/python3.10/dist-packages (from torch>=1.8.0->ultralytics) (2024.10.0)\n",
            "Requirement already satisfied: sympy==1.13.1 in /usr/local/lib/python3.10/dist-packages (from torch>=1.8.0->ultralytics) (1.13.1)\n",
            "Requirement already satisfied: mpmath<1.4,>=1.1.0 in /usr/local/lib/python3.10/dist-packages (from sympy==1.13.1->torch>=1.8.0->ultralytics) (1.3.0)\n",
            "Requirement already satisfied: six>=1.5 in /usr/local/lib/python3.10/dist-packages (from python-dateutil>=2.7->matplotlib>=3.3.0->ultralytics) (1.17.0)\n",
            "Requirement already satisfied: MarkupSafe>=2.0 in /usr/local/lib/python3.10/dist-packages (from jinja2->torch>=1.8.0->ultralytics) (3.0.2)\n",
            "Downloading ultralytics-8.3.58-py3-none-any.whl (905 kB)\n",
            "\u001b[2K   \u001b[90m━━━━━━━━━━━━━━━━━━━━━━━━━━━━━━━━━━━━━━━━\u001b[0m \u001b[32m905.3/905.3 kB\u001b[0m \u001b[31m49.3 MB/s\u001b[0m eta \u001b[36m0:00:00\u001b[0m\n",
            "\u001b[?25hDownloading ultralytics_thop-2.0.13-py3-none-any.whl (26 kB)\n",
            "Installing collected packages: ultralytics-thop, ultralytics\n",
            "Successfully installed ultralytics-8.3.58 ultralytics-thop-2.0.13\n",
            "Creating new Ultralytics Settings v0.0.6 file ✅ \n",
            "View Ultralytics Settings with 'yolo settings' or at '/root/.config/Ultralytics/settings.json'\n",
            "Update Settings with 'yolo settings key=value', i.e. 'yolo settings runs_dir=path/to/dir'. For help see https://docs.ultralytics.com/quickstart/#ultralytics-settings.\n",
            "Ultralytics library imported successfully!\n",
            "\u001b[34m\u001b[1mtrain:\u001b[0m /content/day-c123/Day_C123/train... found 198748 images in 6 classes ✅ \n",
            "\u001b[34m\u001b[1mval:\u001b[0m /content/day-c123/Day_C123/val... found 17152 images in 6 classes ✅ \n",
            "\u001b[34m\u001b[1mtest:\u001b[0m /content/day-c123/Day_C123/test... found 17156 images in 6 classes ✅ \n",
            "{'train': PosixPath('/content/day-c123/Day_C123/train'), 'val': PosixPath('/content/day-c123/Day_C123/val'), 'test': PosixPath('/content/day-c123/Day_C123/test'), 'nc': 6, 'names': {0: 'Distraction', 1: 'EatingDrinking', 2: 'PhoneUsage', 3: 'SafeDriving', 4: 'Sleepy', 5: 'Smoking'}}\n"
          ]
        }
      ],
      "source": [
        "!pip install ultralytics --upgrade\n",
        "\n",
        "from ultralytics import YOLO\n",
        "print(\"Ultralytics library imported successfully!\")\n",
        "\n",
        "from ultralytics.data.utils import check_cls_dataset\n",
        "\n",
        "# Pass the directory containing the dataset, not the YAML file\n",
        "dataset = check_cls_dataset(\"/content/day-c123/Day_C123\")\n",
        "print(dataset)"
      ]
    },
    {
      "cell_type": "code",
      "execution_count": null,
      "metadata": {
        "colab": {
          "base_uri": "https://localhost:8080/"
        },
        "id": "-r6bzYvQlM95",
        "outputId": "113188cb-5f7a-4b85-915e-9305140607ac"
      },
      "outputs": [
        {
          "name": "stdout",
          "output_type": "stream",
          "text": [
            "Number of training images: 198748\n",
            "Number of validation images: 17152\n"
          ]
        }
      ],
      "source": [
        "import glob\n",
        "\n",
        "train_images = glob.glob(\"/content/day-c123/Day_C123/train/*/*.jpg\")\n",
        "val_images = glob.glob(\"/content/day-c123/Day_C123/val/*/*.jpg\")\n",
        "\n",
        "print(f\"Number of training images: {len(train_images)}\")\n",
        "print(f\"Number of validation images: {len(val_images)}\")"
      ]
    },
    {
      "cell_type": "code",
      "execution_count": null,
      "metadata": {
        "colab": {
          "base_uri": "https://localhost:8080/"
        },
        "id": "p1eU3RoolM0z",
        "outputId": "4ef2e5d9-50d8-40f1-ac43-cf9661904d0e"
      },
      "outputs": [
        {
          "name": "stdout",
          "output_type": "stream",
          "text": [
            "Downloading https://github.com/ultralytics/assets/releases/download/v8.3.0/yolov8n-cls.pt to 'yolov8n-cls.pt'...\n"
          ]
        },
        {
          "name": "stderr",
          "output_type": "stream",
          "text": [
            "100%|██████████| 5.31M/5.31M [00:00<00:00, 372MB/s]\n"
          ]
        },
        {
          "name": "stdout",
          "output_type": "stream",
          "text": [
            "Ultralytics 8.3.58 🚀 Python-3.10.12 torch-2.5.1+cu121 CUDA:0 (NVIDIA L4, 22700MiB)\n",
            "\u001b[34m\u001b[1mengine/trainer: \u001b[0mtask=classify, mode=train, model=yolov8n-cls.pt, data=/content/day-c123/Day_C123, epochs=50, time=None, patience=100, batch=32, imgsz=224, save=True, save_period=1, cache=False, device=0, workers=8, project=None, name=yolov8_day_classification, exist_ok=False, pretrained=True, optimizer=Adam, verbose=True, seed=0, deterministic=True, single_cls=False, rect=False, cos_lr=False, close_mosaic=10, resume=False, amp=True, fraction=1.0, profile=False, freeze=None, multi_scale=False, overlap_mask=True, mask_ratio=4, dropout=0.0, val=True, split=val, save_json=False, save_hybrid=False, conf=None, iou=0.7, max_det=300, half=False, dnn=False, plots=True, source=None, vid_stride=1, stream_buffer=False, visualize=False, augment=False, agnostic_nms=False, classes=None, retina_masks=False, embed=None, show=False, save_frames=False, save_txt=False, save_conf=False, save_crop=False, show_labels=True, show_conf=True, show_boxes=True, line_width=None, format=torchscript, keras=False, optimize=False, int8=False, dynamic=False, simplify=True, opset=None, workspace=None, nms=False, lr0=0.01, lrf=0.01, momentum=0.937, weight_decay=0.0005, warmup_epochs=3.0, warmup_momentum=0.8, warmup_bias_lr=0.1, box=7.5, cls=0.5, dfl=1.5, pose=12.0, kobj=1.0, nbs=64, hsv_h=0.015, hsv_s=0.7, hsv_v=0.4, degrees=0.0, translate=0.1, scale=0.5, shear=0.0, perspective=0.0, flipud=0.0, fliplr=0.5, bgr=0.0, mosaic=1.0, mixup=0.0, copy_paste=0.0, copy_paste_mode=flip, auto_augment=randaugment, erasing=0.4, crop_fraction=1.0, cfg=None, tracker=botsort.yaml, save_dir=runs/classify/yolov8_day_classification\n",
            "\u001b[34m\u001b[1mtrain:\u001b[0m /content/day-c123/Day_C123/train... found 198748 images in 6 classes ✅ \n",
            "\u001b[34m\u001b[1mval:\u001b[0m /content/day-c123/Day_C123/val... found 17152 images in 6 classes ✅ \n",
            "\u001b[34m\u001b[1mtest:\u001b[0m /content/day-c123/Day_C123/test... found 17156 images in 6 classes ✅ \n",
            "Overriding model.yaml nc=1000 with nc=6\n",
            "\n",
            "                   from  n    params  module                                       arguments                     \n",
            "  0                  -1  1       464  ultralytics.nn.modules.conv.Conv             [3, 16, 3, 2]                 \n",
            "  1                  -1  1      4672  ultralytics.nn.modules.conv.Conv             [16, 32, 3, 2]                \n",
            "  2                  -1  1      7360  ultralytics.nn.modules.block.C2f             [32, 32, 1, True]             \n",
            "  3                  -1  1     18560  ultralytics.nn.modules.conv.Conv             [32, 64, 3, 2]                \n",
            "  4                  -1  2     49664  ultralytics.nn.modules.block.C2f             [64, 64, 2, True]             \n",
            "  5                  -1  1     73984  ultralytics.nn.modules.conv.Conv             [64, 128, 3, 2]               \n",
            "  6                  -1  2    197632  ultralytics.nn.modules.block.C2f             [128, 128, 2, True]           \n",
            "  7                  -1  1    295424  ultralytics.nn.modules.conv.Conv             [128, 256, 3, 2]              \n",
            "  8                  -1  1    460288  ultralytics.nn.modules.block.C2f             [256, 256, 1, True]           \n",
            "  9                  -1  1    337926  ultralytics.nn.modules.head.Classify         [256, 6]                      \n",
            "YOLOv8n-cls summary: 99 layers, 1,445,974 parameters, 1,445,974 gradients, 3.4 GFLOPs\n",
            "Transferred 156/158 items from pretrained weights\n",
            "\u001b[34m\u001b[1mTensorBoard: \u001b[0mStart with 'tensorboard --logdir runs/classify/yolov8_day_classification', view at http://localhost:6006/\n",
            "\u001b[34m\u001b[1mAMP: \u001b[0mrunning Automatic Mixed Precision (AMP) checks...\n",
            "Downloading https://github.com/ultralytics/assets/releases/download/v8.3.0/yolo11n.pt to 'yolo11n.pt'...\n"
          ]
        },
        {
          "name": "stderr",
          "output_type": "stream",
          "text": [
            "100%|██████████| 5.35M/5.35M [00:00<00:00, 336MB/s]\n"
          ]
        },
        {
          "name": "stdout",
          "output_type": "stream",
          "text": [
            "\u001b[34m\u001b[1mAMP: \u001b[0mchecks passed ✅\n"
          ]
        },
        {
          "name": "stderr",
          "output_type": "stream",
          "text": [
            "\u001b[34m\u001b[1mtrain: \u001b[0mScanning /content/day-c123/Day_C123/train... 198726 images, 22 corrupt: 100%|██████████| 198748/198748 [01:28<00:00, 2257.89it/s]"
          ]
        },
        {
          "name": "stdout",
          "output_type": "stream",
          "text": [
            "\u001b[34m\u001b[1mtrain: \u001b[0mWARNING ⚠️ /content/day-c123/Day_C123/train/PhoneUsage/P007_V3_S3_0304093.jpg: corrupt JPEG restored and saved\n",
            "\u001b[34m\u001b[1mtrain: \u001b[0mWARNING ⚠️ /content/day-c123/Day_C123/train/PhoneUsage/P007_V3_S3_0307081.jpg: ignoring corrupt image/label: broken data stream when reading image file\n",
            "\u001b[34m\u001b[1mtrain: \u001b[0mWARNING ⚠️ /content/day-c123/Day_C123/train/PhoneUsage/P009_V1_S2_0202851.jpg: ignoring corrupt image/label: cannot identify image file '/content/day-c123/Day_C123/train/PhoneUsage/P009_V1_S2_0202851.jpg'\n",
            "\u001b[34m\u001b[1mtrain: \u001b[0mWARNING ⚠️ /content/day-c123/Day_C123/train/PhoneUsage/P010_V1_S2_0303094.jpg: ignoring corrupt image/label: cannot identify image file '/content/day-c123/Day_C123/train/PhoneUsage/P010_V1_S2_0303094.jpg'\n",
            "\u001b[34m\u001b[1mtrain: \u001b[0mWARNING ⚠️ /content/day-c123/Day_C123/train/PhoneUsage/P015_V1_S1_010245.jpg: ignoring corrupt image/label: cannot identify image file '/content/day-c123/Day_C123/train/PhoneUsage/P015_V1_S1_010245.jpg'\n",
            "\u001b[34m\u001b[1mtrain: \u001b[0mWARNING ⚠️ /content/day-c123/Day_C123/train/PhoneUsage/P016_V1_S1_010217.jpg: corrupt JPEG restored and saved\n",
            "\u001b[34m\u001b[1mtrain: \u001b[0mWARNING ⚠️ /content/day-c123/Day_C123/train/PhoneUsage/P017_V1_S1_0301173.jpg: ignoring corrupt image/label: cannot identify image file '/content/day-c123/Day_C123/train/PhoneUsage/P017_V1_S1_0301173.jpg'\n",
            "\u001b[34m\u001b[1mtrain: \u001b[0mWARNING ⚠️ /content/day-c123/Day_C123/train/PhoneUsage/P020_V1_S2_03031400a.jpg: ignoring corrupt image/label: broken data stream when reading image file\n",
            "\u001b[34m\u001b[1mtrain: \u001b[0mWARNING ⚠️ /content/day-c123/Day_C123/train/PhoneUsage/P021_V1_S1_01033450a.jpg: ignoring corrupt image/label: cannot identify image file '/content/day-c123/Day_C123/train/PhoneUsage/P021_V1_S1_01033450a.jpg'\n",
            "\u001b[34m\u001b[1mtrain: \u001b[0mWARNING ⚠️ /content/day-c123/Day_C123/train/PhoneUsage/P021_V1_S1_0202187.jpg: ignoring corrupt image/label: cannot identify image file '/content/day-c123/Day_C123/train/PhoneUsage/P021_V1_S1_0202187.jpg'\n",
            "\u001b[34m\u001b[1mtrain: \u001b[0mWARNING ⚠️ /content/day-c123/Day_C123/train/PhoneUsage/P024_V1_S1_02090490332.jpg: ignoring corrupt image/label: cannot identify image file '/content/day-c123/Day_C123/train/PhoneUsage/P024_V1_S1_02090490332.jpg'\n",
            "\u001b[34m\u001b[1mtrain: \u001b[0mWARNING ⚠️ /content/day-c123/Day_C123/train/PhoneUsage/P025_V1_S1_0103090102.jpg: ignoring corrupt image/label: broken data stream when reading image file\n",
            "\u001b[34m\u001b[1mtrain: \u001b[0mWARNING ⚠️ /content/day-c123/Day_C123/train/PhoneUsage/P033_V4_S1_0304096.jpg: ignoring corrupt image/label: cannot identify image file '/content/day-c123/Day_C123/train/PhoneUsage/P033_V4_S1_0304096.jpg'\n",
            "\u001b[34m\u001b[1mtrain: \u001b[0mWARNING ⚠️ /content/day-c123/Day_C123/train/PhoneUsage/P033_V4_S1_03070176.jpg: corrupt JPEG restored and saved\n",
            "\u001b[34m\u001b[1mtrain: \u001b[0mWARNING ⚠️ /content/day-c123/Day_C123/train/PhoneUsage/P041_V4_S1_03070132.jpg: corrupt JPEG restored and saved\n",
            "\u001b[34m\u001b[1mtrain: \u001b[0mWARNING ⚠️ /content/day-c123/Day_C123/train/PhoneUsage/P045_V4_S1_03050408.jpg: ignoring corrupt image/label: cannot identify image file '/content/day-c123/Day_C123/train/PhoneUsage/P045_V4_S1_03050408.jpg'\n",
            "\u001b[34m\u001b[1mtrain: \u001b[0mWARNING ⚠️ /content/day-c123/Day_C123/train/PhoneUsage/P047_V4_S1_0207028.jpg: ignoring corrupt image/label: cannot identify image file '/content/day-c123/Day_C123/train/PhoneUsage/P047_V4_S1_0207028.jpg'\n",
            "\u001b[34m\u001b[1mtrain: \u001b[0mWARNING ⚠️ /content/day-c123/Day_C123/train/PhoneUsage/P056_V3_S1_02060128.jpg: ignoring corrupt image/label: cannot identify image file '/content/day-c123/Day_C123/train/PhoneUsage/P056_V3_S1_02060128.jpg'\n",
            "\u001b[34m\u001b[1mtrain: \u001b[0mWARNING ⚠️ /content/day-c123/Day_C123/train/PhoneUsage/P059_V3_S1_02050129.jpg: ignoring corrupt image/label: cannot identify image file '/content/day-c123/Day_C123/train/PhoneUsage/P059_V3_S1_02050129.jpg'\n",
            "\u001b[34m\u001b[1mtrain: \u001b[0mWARNING ⚠️ /content/day-c123/Day_C123/train/PhoneUsage/P060_V3_S1_0305096.jpg: corrupt JPEG restored and saved\n",
            "\u001b[34m\u001b[1mtrain: \u001b[0mWARNING ⚠️ /content/day-c123/Day_C123/train/PhoneUsage/P060_V3_S1_03070114.jpg: ignoring corrupt image/label: cannot identify image file '/content/day-c123/Day_C123/train/PhoneUsage/P060_V3_S1_03070114.jpg'\n",
            "\u001b[34m\u001b[1mtrain: \u001b[0mWARNING ⚠️ /content/day-c123/Day_C123/train/PhoneUsage/P061_V3_S1_01040216.jpg: ignoring corrupt image/label: cannot identify image file '/content/day-c123/Day_C123/train/PhoneUsage/P061_V3_S1_01040216.jpg'\n",
            "\u001b[34m\u001b[1mtrain: \u001b[0mWARNING ⚠️ /content/day-c123/Day_C123/train/PhoneUsage/P061_V3_S1_0106060.jpg: corrupt JPEG restored and saved\n",
            "\u001b[34m\u001b[1mtrain: \u001b[0mWARNING ⚠️ /content/day-c123/Day_C123/train/PhoneUsage/P061_V3_S1_0204016.jpg: corrupt JPEG restored and saved\n",
            "\u001b[34m\u001b[1mtrain: \u001b[0mWARNING ⚠️ /content/day-c123/Day_C123/train/PhoneUsage/P062_V3_S1_0206044.jpg: corrupt JPEG restored and saved\n",
            "\u001b[34m\u001b[1mtrain: \u001b[0mWARNING ⚠️ /content/day-c123/Day_C123/train/PhoneUsage/P090_V1_S1_0206081.jpg: ignoring corrupt image/label: cannot identify image file '/content/day-c123/Day_C123/train/PhoneUsage/P090_V1_S1_0206081.jpg'\n",
            "\u001b[34m\u001b[1mtrain: \u001b[0mWARNING ⚠️ /content/day-c123/Day_C123/train/PhoneUsage/P093_V1_S1_01060145.jpg: corrupt JPEG restored and saved\n",
            "\u001b[34m\u001b[1mtrain: \u001b[0mWARNING ⚠️ /content/day-c123/Day_C123/train/PhoneUsage/P093_V1_S1_02040133.jpg: corrupt JPEG restored and saved\n",
            "\u001b[34m\u001b[1mtrain: \u001b[0mWARNING ⚠️ /content/day-c123/Day_C123/train/PhoneUsage/P094_V1_S1_03070197.jpg: ignoring corrupt image/label: cannot identify image file '/content/day-c123/Day_C123/train/PhoneUsage/P094_V1_S1_03070197.jpg'\n",
            "\u001b[34m\u001b[1mtrain: \u001b[0mWARNING ⚠️ /content/day-c123/Day_C123/train/PhoneUsage/P095_V1_S1_02040153.jpg: corrupt JPEG restored and saved\n",
            "\u001b[34m\u001b[1mtrain: \u001b[0mWARNING ⚠️ /content/day-c123/Day_C123/train/PhoneUsage/P096_V1_S1_0107045.jpg: ignoring corrupt image/label: cannot identify image file '/content/day-c123/Day_C123/train/PhoneUsage/P096_V1_S1_0107045.jpg'\n",
            "\u001b[34m\u001b[1mtrain: \u001b[0mWARNING ⚠️ /content/day-c123/Day_C123/train/PhoneUsage/P096_V1_S1_0304077.jpg: ignoring corrupt image/label: cannot identify image file '/content/day-c123/Day_C123/train/PhoneUsage/P096_V1_S1_0304077.jpg'\n",
            "\u001b[34m\u001b[1mtrain: \u001b[0mWARNING ⚠️ /content/day-c123/Day_C123/train/PhoneUsage/P099_V1_S1_0204077.jpg: ignoring corrupt image/label: broken data stream when reading image file\n",
            "\u001b[34m\u001b[1mtrain: \u001b[0mWARNING ⚠️ /content/day-c123/Day_C123/train/PhoneUsage/P100_V1_S1_0106037.jpg: corrupt JPEG restored and saved\n",
            "\u001b[34m\u001b[1mtrain: \u001b[0mWARNING ⚠️ /content/day-c123/Day_C123/train/PhoneUsage/P100_V1_S1_0304029.jpg: corrupt JPEG restored and saved\n"
          ]
        },
        {
          "name": "stderr",
          "output_type": "stream",
          "text": [
            "\n"
          ]
        },
        {
          "name": "stdout",
          "output_type": "stream",
          "text": [
            "\u001b[34m\u001b[1mtrain: \u001b[0mNew cache created: /content/day-c123/Day_C123/train.cache\n"
          ]
        },
        {
          "name": "stderr",
          "output_type": "stream",
          "text": [
            "\u001b[34m\u001b[1mval: \u001b[0mScanning /content/day-c123/Day_C123/val... 17152 images, 0 corrupt: 100%|██████████| 17152/17152 [00:07<00:00, 2187.36it/s]\n"
          ]
        },
        {
          "name": "stdout",
          "output_type": "stream",
          "text": [
            "\u001b[34m\u001b[1mval: \u001b[0mNew cache created: /content/day-c123/Day_C123/val.cache\n",
            "\u001b[34m\u001b[1moptimizer:\u001b[0m Adam(lr=0.01, momentum=0.937) with parameter groups 26 weight(decay=0.0), 27 weight(decay=0.0005), 27 bias(decay=0.0)\n",
            "\u001b[34m\u001b[1mTensorBoard: \u001b[0mmodel graph visualization added ✅\n",
            "Image sizes 224 train, 224 val\n",
            "Using 8 dataloader workers\n",
            "Logging results to \u001b[1mruns/classify/yolov8_day_classification\u001b[0m\n",
            "Starting training for 50 epochs...\n",
            "\n",
            "      Epoch    GPU_mem       loss  Instances       Size\n"
          ]
        },
        {
          "name": "stderr",
          "output_type": "stream",
          "text": [
            "       1/50     0.457G      1.746         32        224:   0%|          | 31/6211 [00:02<04:38, 22.16it/s]"
          ]
        },
        {
          "name": "stdout",
          "output_type": "stream",
          "text": [
            "Downloading https://ultralytics.com/assets/Arial.ttf to '/root/.config/Ultralytics/Arial.ttf'...\n"
          ]
        },
        {
          "name": "stderr",
          "output_type": "stream",
          "text": [
            "       1/50     0.457G      1.716         32        224:   1%|          | 64/6211 [00:03<04:20, 23.60it/s]\n",
            "100%|██████████| 755k/755k [00:00<00:00, 71.0MB/s]\n",
            "       1/50     0.459G     0.8884          6        224: 100%|██████████| 6211/6211 [04:19<00:00, 23.96it/s]\n",
            "               classes   top1_acc   top5_acc: 100%|██████████| 268/268 [00:06<00:00, 42.84it/s]"
          ]
        },
        {
          "name": "stdout",
          "output_type": "stream",
          "text": [
            "                   all      0.765      0.995\n"
          ]
        },
        {
          "name": "stderr",
          "output_type": "stream",
          "text": [
            "\n"
          ]
        },
        {
          "name": "stdout",
          "output_type": "stream",
          "text": [
            "\n",
            "      Epoch    GPU_mem       loss  Instances       Size\n"
          ]
        },
        {
          "name": "stderr",
          "output_type": "stream",
          "text": [
            "       2/50     0.407G     0.9091          6        224: 100%|██████████| 6211/6211 [04:01<00:00, 25.72it/s]\n",
            "               classes   top1_acc   top5_acc: 100%|██████████| 268/268 [00:06<00:00, 40.13it/s]\n"
          ]
        },
        {
          "name": "stdout",
          "output_type": "stream",
          "text": [
            "                   all      0.816      0.998\n",
            "\n",
            "      Epoch    GPU_mem       loss  Instances       Size\n"
          ]
        },
        {
          "name": "stderr",
          "output_type": "stream",
          "text": [
            "       3/50     0.401G     0.8473          6        224: 100%|██████████| 6211/6211 [03:47<00:00, 27.35it/s]\n",
            "               classes   top1_acc   top5_acc: 100%|██████████| 268/268 [00:06<00:00, 42.52it/s]"
          ]
        },
        {
          "name": "stdout",
          "output_type": "stream",
          "text": [
            "                   all      0.827      0.998\n"
          ]
        },
        {
          "name": "stderr",
          "output_type": "stream",
          "text": [
            "\n"
          ]
        },
        {
          "name": "stdout",
          "output_type": "stream",
          "text": [
            "\n",
            "      Epoch    GPU_mem       loss  Instances       Size\n"
          ]
        },
        {
          "name": "stderr",
          "output_type": "stream",
          "text": [
            "       4/50      0.39G     0.8546          6        224: 100%|██████████| 6211/6211 [03:46<00:00, 27.42it/s]\n",
            "               classes   top1_acc   top5_acc: 100%|██████████| 268/268 [00:06<00:00, 43.69it/s]\n"
          ]
        },
        {
          "name": "stdout",
          "output_type": "stream",
          "text": [
            "                   all       0.83      0.997\n",
            "\n",
            "      Epoch    GPU_mem       loss  Instances       Size\n"
          ]
        },
        {
          "name": "stderr",
          "output_type": "stream",
          "text": [
            "       5/50     0.407G     0.8393          6        224: 100%|██████████| 6211/6211 [03:46<00:00, 27.39it/s]\n",
            "               classes   top1_acc   top5_acc: 100%|██████████| 268/268 [00:06<00:00, 41.03it/s]\n"
          ]
        },
        {
          "name": "stdout",
          "output_type": "stream",
          "text": [
            "                   all      0.822      0.998\n",
            "\n",
            "      Epoch    GPU_mem       loss  Instances       Size\n"
          ]
        },
        {
          "name": "stderr",
          "output_type": "stream",
          "text": [
            "       6/50     0.405G     0.8249          6        224: 100%|██████████| 6211/6211 [03:46<00:00, 27.38it/s]\n",
            "               classes   top1_acc   top5_acc: 100%|██████████| 268/268 [00:06<00:00, 43.37it/s]"
          ]
        },
        {
          "name": "stdout",
          "output_type": "stream",
          "text": [
            "                   all      0.815      0.998\n"
          ]
        },
        {
          "name": "stderr",
          "output_type": "stream",
          "text": [
            "\n"
          ]
        },
        {
          "name": "stdout",
          "output_type": "stream",
          "text": [
            "\n",
            "      Epoch    GPU_mem       loss  Instances       Size\n"
          ]
        },
        {
          "name": "stderr",
          "output_type": "stream",
          "text": [
            "       7/50     0.401G     0.8091          6        224: 100%|██████████| 6211/6211 [03:47<00:00, 27.32it/s]\n",
            "               classes   top1_acc   top5_acc: 100%|██████████| 268/268 [00:06<00:00, 41.50it/s]"
          ]
        },
        {
          "name": "stdout",
          "output_type": "stream",
          "text": [
            "                   all      0.793      0.997\n"
          ]
        },
        {
          "name": "stderr",
          "output_type": "stream",
          "text": [
            "\n"
          ]
        },
        {
          "name": "stdout",
          "output_type": "stream",
          "text": [
            "\n",
            "      Epoch    GPU_mem       loss  Instances       Size\n"
          ]
        },
        {
          "name": "stderr",
          "output_type": "stream",
          "text": [
            "       8/50     0.405G     0.7977          6        224: 100%|██████████| 6211/6211 [03:46<00:00, 27.37it/s]\n",
            "               classes   top1_acc   top5_acc: 100%|██████████| 268/268 [00:06<00:00, 41.32it/s]"
          ]
        },
        {
          "name": "stdout",
          "output_type": "stream",
          "text": [
            "                   all      0.781      0.996\n"
          ]
        },
        {
          "name": "stderr",
          "output_type": "stream",
          "text": [
            "\n"
          ]
        },
        {
          "name": "stdout",
          "output_type": "stream",
          "text": [
            "\n",
            "      Epoch    GPU_mem       loss  Instances       Size\n"
          ]
        },
        {
          "name": "stderr",
          "output_type": "stream",
          "text": [
            "       9/50     0.401G     0.7884          6        224: 100%|██████████| 6211/6211 [03:47<00:00, 27.34it/s]\n",
            "               classes   top1_acc   top5_acc: 100%|██████████| 268/268 [00:06<00:00, 42.29it/s]"
          ]
        },
        {
          "name": "stdout",
          "output_type": "stream",
          "text": [
            "                   all      0.785      0.996\n"
          ]
        },
        {
          "name": "stderr",
          "output_type": "stream",
          "text": [
            "\n"
          ]
        },
        {
          "name": "stdout",
          "output_type": "stream",
          "text": [
            "\n",
            "      Epoch    GPU_mem       loss  Instances       Size\n"
          ]
        },
        {
          "name": "stderr",
          "output_type": "stream",
          "text": [
            "      10/50     0.405G     0.7786          6        224: 100%|██████████| 6211/6211 [03:46<00:00, 27.43it/s]\n",
            "               classes   top1_acc   top5_acc: 100%|██████████| 268/268 [00:06<00:00, 41.36it/s]"
          ]
        },
        {
          "name": "stdout",
          "output_type": "stream",
          "text": [
            "                   all      0.791      0.996\n"
          ]
        },
        {
          "name": "stderr",
          "output_type": "stream",
          "text": [
            "\n"
          ]
        },
        {
          "name": "stdout",
          "output_type": "stream",
          "text": [
            "\n",
            "      Epoch    GPU_mem       loss  Instances       Size\n"
          ]
        },
        {
          "name": "stderr",
          "output_type": "stream",
          "text": [
            "      11/50     0.401G     0.7707          6        224: 100%|██████████| 6211/6211 [03:47<00:00, 27.35it/s]\n",
            "               classes   top1_acc   top5_acc: 100%|██████████| 268/268 [00:06<00:00, 41.00it/s]"
          ]
        },
        {
          "name": "stdout",
          "output_type": "stream",
          "text": [
            "                   all      0.805      0.997\n"
          ]
        },
        {
          "name": "stderr",
          "output_type": "stream",
          "text": [
            "\n"
          ]
        },
        {
          "name": "stdout",
          "output_type": "stream",
          "text": [
            "\n",
            "      Epoch    GPU_mem       loss  Instances       Size\n"
          ]
        },
        {
          "name": "stderr",
          "output_type": "stream",
          "text": [
            "      12/50     0.405G     0.7626          6        224: 100%|██████████| 6211/6211 [03:46<00:00, 27.40it/s]\n",
            "               classes   top1_acc   top5_acc: 100%|██████████| 268/268 [00:06<00:00, 42.86it/s]"
          ]
        },
        {
          "name": "stdout",
          "output_type": "stream",
          "text": [
            "                   all      0.817      0.997\n"
          ]
        },
        {
          "name": "stderr",
          "output_type": "stream",
          "text": [
            "\n"
          ]
        },
        {
          "name": "stdout",
          "output_type": "stream",
          "text": [
            "\n",
            "      Epoch    GPU_mem       loss  Instances       Size\n"
          ]
        },
        {
          "name": "stderr",
          "output_type": "stream",
          "text": [
            "      13/50     0.401G     0.7604          6        224: 100%|██████████| 6211/6211 [03:47<00:00, 27.34it/s]\n",
            "               classes   top1_acc   top5_acc: 100%|██████████| 268/268 [00:06<00:00, 40.35it/s]"
          ]
        },
        {
          "name": "stdout",
          "output_type": "stream",
          "text": [
            "                   all      0.828      0.997\n"
          ]
        },
        {
          "name": "stderr",
          "output_type": "stream",
          "text": [
            "\n"
          ]
        },
        {
          "name": "stdout",
          "output_type": "stream",
          "text": [
            "\n",
            "      Epoch    GPU_mem       loss  Instances       Size\n"
          ]
        },
        {
          "name": "stderr",
          "output_type": "stream",
          "text": [
            "      14/50     0.405G     0.7503          6        224: 100%|██████████| 6211/6211 [03:47<00:00, 27.32it/s]\n",
            "               classes   top1_acc   top5_acc: 100%|██████████| 268/268 [00:06<00:00, 43.30it/s]"
          ]
        },
        {
          "name": "stdout",
          "output_type": "stream",
          "text": [
            "                   all      0.834      0.998\n"
          ]
        },
        {
          "name": "stderr",
          "output_type": "stream",
          "text": [
            "\n"
          ]
        },
        {
          "name": "stdout",
          "output_type": "stream",
          "text": [
            "\n",
            "      Epoch    GPU_mem       loss  Instances       Size\n"
          ]
        },
        {
          "name": "stderr",
          "output_type": "stream",
          "text": [
            "      15/50     0.401G     0.7428          6        224: 100%|██████████| 6211/6211 [03:48<00:00, 27.20it/s]\n",
            "               classes   top1_acc   top5_acc: 100%|██████████| 268/268 [00:06<00:00, 41.63it/s]"
          ]
        },
        {
          "name": "stdout",
          "output_type": "stream",
          "text": [
            "                   all      0.841      0.998\n"
          ]
        },
        {
          "name": "stderr",
          "output_type": "stream",
          "text": [
            "\n"
          ]
        },
        {
          "name": "stdout",
          "output_type": "stream",
          "text": [
            "\n",
            "      Epoch    GPU_mem       loss  Instances       Size\n"
          ]
        },
        {
          "name": "stderr",
          "output_type": "stream",
          "text": [
            "      16/50     0.405G     0.7355          6        224: 100%|██████████| 6211/6211 [03:47<00:00, 27.30it/s]\n",
            "               classes   top1_acc   top5_acc: 100%|██████████| 268/268 [00:06<00:00, 40.71it/s]\n"
          ]
        },
        {
          "name": "stdout",
          "output_type": "stream",
          "text": [
            "                   all      0.847      0.998\n",
            "\n",
            "      Epoch    GPU_mem       loss  Instances       Size\n"
          ]
        },
        {
          "name": "stderr",
          "output_type": "stream",
          "text": [
            "      17/50     0.401G      0.726          6        224: 100%|██████████| 6211/6211 [03:47<00:00, 27.32it/s]\n",
            "               classes   top1_acc   top5_acc: 100%|██████████| 268/268 [00:06<00:00, 42.85it/s]"
          ]
        },
        {
          "name": "stdout",
          "output_type": "stream",
          "text": [
            "                   all      0.855      0.998\n"
          ]
        },
        {
          "name": "stderr",
          "output_type": "stream",
          "text": [
            "\n"
          ]
        },
        {
          "name": "stdout",
          "output_type": "stream",
          "text": [
            "\n",
            "      Epoch    GPU_mem       loss  Instances       Size\n"
          ]
        },
        {
          "name": "stderr",
          "output_type": "stream",
          "text": [
            "      18/50     0.405G     0.7197          6        224: 100%|██████████| 6211/6211 [03:54<00:00, 26.46it/s]\n",
            "               classes   top1_acc   top5_acc: 100%|██████████| 268/268 [00:06<00:00, 39.83it/s]"
          ]
        },
        {
          "name": "stdout",
          "output_type": "stream",
          "text": [
            "                   all      0.861      0.998\n"
          ]
        },
        {
          "name": "stderr",
          "output_type": "stream",
          "text": [
            "\n"
          ]
        },
        {
          "name": "stdout",
          "output_type": "stream",
          "text": [
            "\n",
            "      Epoch    GPU_mem       loss  Instances       Size\n"
          ]
        },
        {
          "name": "stderr",
          "output_type": "stream",
          "text": [
            "      19/50     0.401G     0.7182          6        224: 100%|██████████| 6211/6211 [03:54<00:00, 26.47it/s]\n",
            "               classes   top1_acc   top5_acc: 100%|██████████| 268/268 [00:06<00:00, 40.43it/s]"
          ]
        },
        {
          "name": "stdout",
          "output_type": "stream",
          "text": [
            "                   all      0.863      0.998\n"
          ]
        },
        {
          "name": "stderr",
          "output_type": "stream",
          "text": [
            "\n"
          ]
        },
        {
          "name": "stdout",
          "output_type": "stream",
          "text": [
            "\n",
            "      Epoch    GPU_mem       loss  Instances       Size\n"
          ]
        },
        {
          "name": "stderr",
          "output_type": "stream",
          "text": [
            "      20/50     0.405G     0.7108          6        224: 100%|██████████| 6211/6211 [03:47<00:00, 27.32it/s]\n",
            "               classes   top1_acc   top5_acc: 100%|██████████| 268/268 [00:06<00:00, 42.17it/s]"
          ]
        },
        {
          "name": "stdout",
          "output_type": "stream",
          "text": [
            "                   all      0.865      0.998\n"
          ]
        },
        {
          "name": "stderr",
          "output_type": "stream",
          "text": [
            "\n"
          ]
        },
        {
          "name": "stdout",
          "output_type": "stream",
          "text": [
            "\n",
            "      Epoch    GPU_mem       loss  Instances       Size\n"
          ]
        },
        {
          "name": "stderr",
          "output_type": "stream",
          "text": [
            "      21/50     0.401G     0.7043          6        224: 100%|██████████| 6211/6211 [03:47<00:00, 27.24it/s]\n",
            "               classes   top1_acc   top5_acc: 100%|██████████| 268/268 [00:06<00:00, 42.36it/s]\n"
          ]
        },
        {
          "name": "stdout",
          "output_type": "stream",
          "text": [
            "                   all      0.868      0.998\n",
            "\n",
            "      Epoch    GPU_mem       loss  Instances       Size\n"
          ]
        },
        {
          "name": "stderr",
          "output_type": "stream",
          "text": [
            "      22/50     0.405G     0.6928          6        224: 100%|██████████| 6211/6211 [03:46<00:00, 27.39it/s]\n",
            "               classes   top1_acc   top5_acc: 100%|██████████| 268/268 [00:06<00:00, 41.74it/s]"
          ]
        },
        {
          "name": "stdout",
          "output_type": "stream",
          "text": [
            "                   all       0.87      0.998\n"
          ]
        },
        {
          "name": "stderr",
          "output_type": "stream",
          "text": [
            "\n"
          ]
        },
        {
          "name": "stdout",
          "output_type": "stream",
          "text": [
            "\n",
            "      Epoch    GPU_mem       loss  Instances       Size\n"
          ]
        },
        {
          "name": "stderr",
          "output_type": "stream",
          "text": [
            "      23/50     0.401G     0.6885          6        224: 100%|██████████| 6211/6211 [03:46<00:00, 27.37it/s]\n",
            "               classes   top1_acc   top5_acc: 100%|██████████| 268/268 [00:05<00:00, 44.70it/s]\n"
          ]
        },
        {
          "name": "stdout",
          "output_type": "stream",
          "text": [
            "                   all      0.871      0.998\n",
            "\n",
            "      Epoch    GPU_mem       loss  Instances       Size\n"
          ]
        },
        {
          "name": "stderr",
          "output_type": "stream",
          "text": [
            "      24/50     0.405G       0.68          6        224: 100%|██████████| 6211/6211 [03:46<00:00, 27.41it/s]\n",
            "               classes   top1_acc   top5_acc: 100%|██████████| 268/268 [00:06<00:00, 41.52it/s]"
          ]
        },
        {
          "name": "stdout",
          "output_type": "stream",
          "text": [
            "                   all      0.873      0.998\n"
          ]
        },
        {
          "name": "stderr",
          "output_type": "stream",
          "text": [
            "\n"
          ]
        },
        {
          "name": "stdout",
          "output_type": "stream",
          "text": [
            "\n",
            "      Epoch    GPU_mem       loss  Instances       Size\n"
          ]
        },
        {
          "name": "stderr",
          "output_type": "stream",
          "text": [
            "      25/50     0.401G     0.6736          6        224: 100%|██████████| 6211/6211 [03:47<00:00, 27.35it/s]\n",
            "               classes   top1_acc   top5_acc: 100%|██████████| 268/268 [00:06<00:00, 41.52it/s]"
          ]
        },
        {
          "name": "stdout",
          "output_type": "stream",
          "text": [
            "                   all      0.875      0.998\n"
          ]
        },
        {
          "name": "stderr",
          "output_type": "stream",
          "text": [
            "\n"
          ]
        },
        {
          "name": "stdout",
          "output_type": "stream",
          "text": [
            "\n",
            "      Epoch    GPU_mem       loss  Instances       Size\n"
          ]
        },
        {
          "name": "stderr",
          "output_type": "stream",
          "text": [
            "      26/50     0.405G     0.6673          6        224: 100%|██████████| 6211/6211 [03:47<00:00, 27.33it/s]\n",
            "               classes   top1_acc   top5_acc: 100%|██████████| 268/268 [00:06<00:00, 44.21it/s]"
          ]
        },
        {
          "name": "stdout",
          "output_type": "stream",
          "text": [
            "                   all      0.877      0.998\n"
          ]
        },
        {
          "name": "stderr",
          "output_type": "stream",
          "text": [
            "\n"
          ]
        },
        {
          "name": "stdout",
          "output_type": "stream",
          "text": [
            "\n",
            "      Epoch    GPU_mem       loss  Instances       Size\n"
          ]
        },
        {
          "name": "stderr",
          "output_type": "stream",
          "text": [
            "      27/50     0.401G     0.6597          6        224: 100%|██████████| 6211/6211 [03:47<00:00, 27.35it/s]\n",
            "               classes   top1_acc   top5_acc: 100%|██████████| 268/268 [00:06<00:00, 40.56it/s]"
          ]
        },
        {
          "name": "stdout",
          "output_type": "stream",
          "text": [
            "                   all       0.88      0.998\n"
          ]
        },
        {
          "name": "stderr",
          "output_type": "stream",
          "text": [
            "\n"
          ]
        },
        {
          "name": "stdout",
          "output_type": "stream",
          "text": [
            "\n",
            "      Epoch    GPU_mem       loss  Instances       Size\n"
          ]
        },
        {
          "name": "stderr",
          "output_type": "stream",
          "text": [
            "      28/50     0.405G     0.6529          6        224: 100%|██████████| 6211/6211 [03:47<00:00, 27.24it/s]\n",
            "               classes   top1_acc   top5_acc: 100%|██████████| 268/268 [00:06<00:00, 42.77it/s]"
          ]
        },
        {
          "name": "stdout",
          "output_type": "stream",
          "text": [
            "                   all      0.881      0.998\n"
          ]
        },
        {
          "name": "stderr",
          "output_type": "stream",
          "text": [
            "\n"
          ]
        },
        {
          "name": "stdout",
          "output_type": "stream",
          "text": [
            "\n",
            "      Epoch    GPU_mem       loss  Instances       Size\n"
          ]
        },
        {
          "name": "stderr",
          "output_type": "stream",
          "text": [
            "      29/50     0.401G     0.6481          6        224: 100%|██████████| 6211/6211 [03:47<00:00, 27.29it/s]\n",
            "               classes   top1_acc   top5_acc: 100%|██████████| 268/268 [00:06<00:00, 42.14it/s]"
          ]
        },
        {
          "name": "stdout",
          "output_type": "stream",
          "text": [
            "                   all      0.883      0.998\n"
          ]
        },
        {
          "name": "stderr",
          "output_type": "stream",
          "text": [
            "\n"
          ]
        },
        {
          "name": "stdout",
          "output_type": "stream",
          "text": [
            "\n",
            "      Epoch    GPU_mem       loss  Instances       Size\n"
          ]
        },
        {
          "name": "stderr",
          "output_type": "stream",
          "text": [
            "      30/50     0.405G     0.6349          6        224: 100%|██████████| 6211/6211 [03:47<00:00, 27.34it/s]\n",
            "               classes   top1_acc   top5_acc: 100%|██████████| 268/268 [00:06<00:00, 41.66it/s]"
          ]
        },
        {
          "name": "stdout",
          "output_type": "stream",
          "text": [
            "                   all      0.886      0.998\n"
          ]
        },
        {
          "name": "stderr",
          "output_type": "stream",
          "text": [
            "\n"
          ]
        },
        {
          "name": "stdout",
          "output_type": "stream",
          "text": [
            "\n",
            "      Epoch    GPU_mem       loss  Instances       Size\n"
          ]
        },
        {
          "name": "stderr",
          "output_type": "stream",
          "text": [
            "      31/50     0.401G     0.6294          6        224: 100%|██████████| 6211/6211 [03:47<00:00, 27.34it/s]\n",
            "               classes   top1_acc   top5_acc: 100%|██████████| 268/268 [00:06<00:00, 43.89it/s]"
          ]
        },
        {
          "name": "stdout",
          "output_type": "stream",
          "text": [
            "                   all      0.886      0.998\n"
          ]
        },
        {
          "name": "stderr",
          "output_type": "stream",
          "text": [
            "\n"
          ]
        },
        {
          "name": "stdout",
          "output_type": "stream",
          "text": [
            "\n",
            "      Epoch    GPU_mem       loss  Instances       Size\n"
          ]
        },
        {
          "name": "stderr",
          "output_type": "stream",
          "text": [
            "      32/50     0.405G     0.6204          6        224: 100%|██████████| 6211/6211 [03:46<00:00, 27.37it/s]\n",
            "               classes   top1_acc   top5_acc: 100%|██████████| 268/268 [00:06<00:00, 41.21it/s]"
          ]
        },
        {
          "name": "stdout",
          "output_type": "stream",
          "text": [
            "                   all      0.889      0.998\n"
          ]
        },
        {
          "name": "stderr",
          "output_type": "stream",
          "text": [
            "\n"
          ]
        },
        {
          "name": "stdout",
          "output_type": "stream",
          "text": [
            "\n",
            "      Epoch    GPU_mem       loss  Instances       Size\n"
          ]
        },
        {
          "name": "stderr",
          "output_type": "stream",
          "text": [
            "      33/50     0.401G     0.6137          6        224: 100%|██████████| 6211/6211 [03:47<00:00, 27.30it/s]\n",
            "               classes   top1_acc   top5_acc: 100%|██████████| 268/268 [00:06<00:00, 42.66it/s]"
          ]
        },
        {
          "name": "stdout",
          "output_type": "stream",
          "text": [
            "                   all      0.891      0.998\n"
          ]
        },
        {
          "name": "stderr",
          "output_type": "stream",
          "text": [
            "\n"
          ]
        },
        {
          "name": "stdout",
          "output_type": "stream",
          "text": [
            "\n",
            "      Epoch    GPU_mem       loss  Instances       Size\n"
          ]
        },
        {
          "name": "stderr",
          "output_type": "stream",
          "text": [
            "      34/50     0.405G     0.6064          6        224: 100%|██████████| 6211/6211 [03:47<00:00, 27.28it/s]\n",
            "               classes   top1_acc   top5_acc: 100%|██████████| 268/268 [00:06<00:00, 42.57it/s]\n"
          ]
        },
        {
          "name": "stdout",
          "output_type": "stream",
          "text": [
            "                   all      0.892      0.998\n",
            "\n",
            "      Epoch    GPU_mem       loss  Instances       Size\n"
          ]
        },
        {
          "name": "stderr",
          "output_type": "stream",
          "text": [
            "      35/50     0.401G      0.595          6        224: 100%|██████████| 6211/6211 [03:47<00:00, 27.32it/s]\n",
            "               classes   top1_acc   top5_acc: 100%|██████████| 268/268 [00:06<00:00, 41.21it/s]"
          ]
        },
        {
          "name": "stdout",
          "output_type": "stream",
          "text": [
            "                   all      0.895      0.998\n"
          ]
        },
        {
          "name": "stderr",
          "output_type": "stream",
          "text": [
            "\n"
          ]
        },
        {
          "name": "stdout",
          "output_type": "stream",
          "text": [
            "\n",
            "      Epoch    GPU_mem       loss  Instances       Size\n"
          ]
        },
        {
          "name": "stderr",
          "output_type": "stream",
          "text": [
            "      36/50     0.405G     0.5868          6        224: 100%|██████████| 6211/6211 [03:47<00:00, 27.33it/s]\n",
            "               classes   top1_acc   top5_acc: 100%|██████████| 268/268 [00:06<00:00, 42.11it/s]"
          ]
        },
        {
          "name": "stdout",
          "output_type": "stream",
          "text": [
            "                   all      0.896      0.998\n"
          ]
        },
        {
          "name": "stderr",
          "output_type": "stream",
          "text": [
            "\n"
          ]
        },
        {
          "name": "stdout",
          "output_type": "stream",
          "text": [
            "\n",
            "      Epoch    GPU_mem       loss  Instances       Size\n"
          ]
        },
        {
          "name": "stderr",
          "output_type": "stream",
          "text": [
            "      37/50     0.401G     0.5764          6        224: 100%|██████████| 6211/6211 [03:48<00:00, 27.23it/s]\n",
            "               classes   top1_acc   top5_acc: 100%|██████████| 268/268 [00:06<00:00, 39.98it/s]\n"
          ]
        },
        {
          "name": "stdout",
          "output_type": "stream",
          "text": [
            "                   all      0.896      0.999\n",
            "\n",
            "      Epoch    GPU_mem       loss  Instances       Size\n"
          ]
        },
        {
          "name": "stderr",
          "output_type": "stream",
          "text": [
            "      38/50     0.405G     0.5668          6        224: 100%|██████████| 6211/6211 [03:47<00:00, 27.32it/s]\n",
            "               classes   top1_acc   top5_acc: 100%|██████████| 268/268 [00:06<00:00, 42.14it/s]"
          ]
        },
        {
          "name": "stdout",
          "output_type": "stream",
          "text": [
            "                   all      0.898      0.999\n"
          ]
        },
        {
          "name": "stderr",
          "output_type": "stream",
          "text": [
            "\n"
          ]
        },
        {
          "name": "stdout",
          "output_type": "stream",
          "text": [
            "\n",
            "      Epoch    GPU_mem       loss  Instances       Size\n"
          ]
        },
        {
          "name": "stderr",
          "output_type": "stream",
          "text": [
            "      39/50     0.401G     0.5558          6        224: 100%|██████████| 6211/6211 [03:47<00:00, 27.30it/s]\n",
            "               classes   top1_acc   top5_acc: 100%|██████████| 268/268 [00:06<00:00, 41.13it/s]"
          ]
        },
        {
          "name": "stdout",
          "output_type": "stream",
          "text": [
            "                   all        0.9      0.999\n"
          ]
        },
        {
          "name": "stderr",
          "output_type": "stream",
          "text": [
            "\n"
          ]
        },
        {
          "name": "stdout",
          "output_type": "stream",
          "text": [
            "\n",
            "      Epoch    GPU_mem       loss  Instances       Size\n"
          ]
        },
        {
          "name": "stderr",
          "output_type": "stream",
          "text": [
            "      40/50     0.405G     0.5477          6        224: 100%|██████████| 6211/6211 [03:48<00:00, 27.22it/s]\n",
            "               classes   top1_acc   top5_acc: 100%|██████████| 268/268 [00:06<00:00, 40.99it/s]"
          ]
        },
        {
          "name": "stdout",
          "output_type": "stream",
          "text": [
            "                   all      0.903      0.999\n"
          ]
        },
        {
          "name": "stderr",
          "output_type": "stream",
          "text": [
            "\n"
          ]
        },
        {
          "name": "stdout",
          "output_type": "stream",
          "text": [
            "\n",
            "      Epoch    GPU_mem       loss  Instances       Size\n"
          ]
        },
        {
          "name": "stderr",
          "output_type": "stream",
          "text": [
            "      41/50     0.401G     0.5365          6        224: 100%|██████████| 6211/6211 [03:49<00:00, 27.05it/s]\n",
            "               classes   top1_acc   top5_acc: 100%|██████████| 268/268 [00:06<00:00, 44.02it/s]"
          ]
        },
        {
          "name": "stdout",
          "output_type": "stream",
          "text": [
            "                   all      0.905      0.999\n"
          ]
        },
        {
          "name": "stderr",
          "output_type": "stream",
          "text": [
            "\n"
          ]
        },
        {
          "name": "stdout",
          "output_type": "stream",
          "text": [
            "\n",
            "      Epoch    GPU_mem       loss  Instances       Size\n"
          ]
        },
        {
          "name": "stderr",
          "output_type": "stream",
          "text": [
            "      42/50     0.405G     0.5271          6        224: 100%|██████████| 6211/6211 [03:49<00:00, 27.11it/s]\n",
            "               classes   top1_acc   top5_acc: 100%|██████████| 268/268 [00:06<00:00, 40.25it/s]"
          ]
        },
        {
          "name": "stdout",
          "output_type": "stream",
          "text": [
            "                   all      0.907      0.999\n"
          ]
        },
        {
          "name": "stderr",
          "output_type": "stream",
          "text": [
            "\n"
          ]
        },
        {
          "name": "stdout",
          "output_type": "stream",
          "text": [
            "\n",
            "      Epoch    GPU_mem       loss  Instances       Size\n"
          ]
        },
        {
          "name": "stderr",
          "output_type": "stream",
          "text": [
            "      43/50     0.401G     0.5126          6        224: 100%|██████████| 6211/6211 [03:49<00:00, 27.09it/s]\n",
            "               classes   top1_acc   top5_acc: 100%|██████████| 268/268 [00:06<00:00, 43.05it/s]"
          ]
        },
        {
          "name": "stdout",
          "output_type": "stream",
          "text": [
            "                   all      0.909      0.999\n"
          ]
        },
        {
          "name": "stderr",
          "output_type": "stream",
          "text": [
            "\n"
          ]
        },
        {
          "name": "stdout",
          "output_type": "stream",
          "text": [
            "\n",
            "      Epoch    GPU_mem       loss  Instances       Size\n"
          ]
        },
        {
          "name": "stderr",
          "output_type": "stream",
          "text": [
            "      44/50     0.405G     0.5011          6        224: 100%|██████████| 6211/6211 [03:49<00:00, 27.10it/s]\n",
            "               classes   top1_acc   top5_acc: 100%|██████████| 268/268 [00:06<00:00, 40.62it/s]"
          ]
        },
        {
          "name": "stdout",
          "output_type": "stream",
          "text": [
            "                   all       0.91      0.999\n"
          ]
        },
        {
          "name": "stderr",
          "output_type": "stream",
          "text": [
            "\n"
          ]
        },
        {
          "name": "stdout",
          "output_type": "stream",
          "text": [
            "\n",
            "      Epoch    GPU_mem       loss  Instances       Size\n"
          ]
        },
        {
          "name": "stderr",
          "output_type": "stream",
          "text": [
            "      45/50     0.401G     0.4855          6        224: 100%|██████████| 6211/6211 [03:48<00:00, 27.15it/s]\n",
            "               classes   top1_acc   top5_acc: 100%|██████████| 268/268 [00:06<00:00, 43.20it/s]"
          ]
        },
        {
          "name": "stdout",
          "output_type": "stream",
          "text": [
            "                   all      0.911      0.999\n"
          ]
        },
        {
          "name": "stderr",
          "output_type": "stream",
          "text": [
            "\n"
          ]
        },
        {
          "name": "stdout",
          "output_type": "stream",
          "text": [
            "\n",
            "      Epoch    GPU_mem       loss  Instances       Size\n"
          ]
        },
        {
          "name": "stderr",
          "output_type": "stream",
          "text": [
            "      46/50     0.405G     0.4726          6        224: 100%|██████████| 6211/6211 [03:49<00:00, 27.09it/s]\n",
            "               classes   top1_acc   top5_acc: 100%|██████████| 268/268 [00:06<00:00, 40.54it/s]"
          ]
        },
        {
          "name": "stdout",
          "output_type": "stream",
          "text": [
            "                   all      0.914      0.999\n"
          ]
        },
        {
          "name": "stderr",
          "output_type": "stream",
          "text": [
            "\n"
          ]
        },
        {
          "name": "stdout",
          "output_type": "stream",
          "text": [
            "\n",
            "      Epoch    GPU_mem       loss  Instances       Size\n"
          ]
        },
        {
          "name": "stderr",
          "output_type": "stream",
          "text": [
            "      47/50     0.401G     0.4596          6        224: 100%|██████████| 6211/6211 [03:49<00:00, 27.08it/s]\n",
            "               classes   top1_acc   top5_acc: 100%|██████████| 268/268 [00:06<00:00, 41.46it/s]"
          ]
        },
        {
          "name": "stdout",
          "output_type": "stream",
          "text": [
            "                   all      0.915      0.999\n"
          ]
        },
        {
          "name": "stderr",
          "output_type": "stream",
          "text": [
            "\n"
          ]
        },
        {
          "name": "stdout",
          "output_type": "stream",
          "text": [
            "\n",
            "      Epoch    GPU_mem       loss  Instances       Size\n"
          ]
        },
        {
          "name": "stderr",
          "output_type": "stream",
          "text": [
            "      48/50     0.405G     0.4429          6        224: 100%|██████████| 6211/6211 [03:49<00:00, 27.05it/s]\n",
            "               classes   top1_acc   top5_acc: 100%|██████████| 268/268 [00:06<00:00, 41.33it/s]\n"
          ]
        },
        {
          "name": "stdout",
          "output_type": "stream",
          "text": [
            "                   all      0.918      0.999\n",
            "\n",
            "      Epoch    GPU_mem       loss  Instances       Size\n"
          ]
        },
        {
          "name": "stderr",
          "output_type": "stream",
          "text": [
            "      49/50     0.401G     0.4287          6        224: 100%|██████████| 6211/6211 [03:49<00:00, 27.06it/s]\n",
            "               classes   top1_acc   top5_acc: 100%|██████████| 268/268 [00:06<00:00, 41.80it/s]"
          ]
        },
        {
          "name": "stdout",
          "output_type": "stream",
          "text": [
            "                   all       0.92      0.999\n"
          ]
        },
        {
          "name": "stderr",
          "output_type": "stream",
          "text": [
            "\n"
          ]
        },
        {
          "name": "stdout",
          "output_type": "stream",
          "text": [
            "\n",
            "      Epoch    GPU_mem       loss  Instances       Size\n"
          ]
        },
        {
          "name": "stderr",
          "output_type": "stream",
          "text": [
            "      50/50     0.405G     0.4117          6        224: 100%|██████████| 6211/6211 [03:49<00:00, 27.09it/s]\n",
            "               classes   top1_acc   top5_acc: 100%|██████████| 268/268 [00:06<00:00, 42.43it/s]"
          ]
        },
        {
          "name": "stdout",
          "output_type": "stream",
          "text": [
            "                   all      0.921      0.999\n"
          ]
        },
        {
          "name": "stderr",
          "output_type": "stream",
          "text": [
            "\n"
          ]
        },
        {
          "name": "stdout",
          "output_type": "stream",
          "text": [
            "\n",
            "50 epochs completed in 3.286 hours.\n",
            "Optimizer stripped from runs/classify/yolov8_day_classification/weights/last.pt, 3.0MB\n",
            "Optimizer stripped from runs/classify/yolov8_day_classification/weights/best.pt, 3.0MB\n",
            "\n",
            "Validating runs/classify/yolov8_day_classification/weights/best.pt...\n",
            "Ultralytics 8.3.58 🚀 Python-3.10.12 torch-2.5.1+cu121 CUDA:0 (NVIDIA L4, 22700MiB)\n",
            "YOLOv8n-cls summary (fused): 73 layers, 1,442,566 parameters, 0 gradients, 3.3 GFLOPs\n",
            "\u001b[34m\u001b[1mtrain:\u001b[0m /content/day-c123/Day_C123/train... found 198748 images in 6 classes ✅ \n",
            "\u001b[34m\u001b[1mval:\u001b[0m /content/day-c123/Day_C123/val... found 17152 images in 6 classes ✅ \n",
            "\u001b[34m\u001b[1mtest:\u001b[0m /content/day-c123/Day_C123/test... found 17156 images in 6 classes ✅ \n"
          ]
        },
        {
          "name": "stderr",
          "output_type": "stream",
          "text": [
            "               classes   top1_acc   top5_acc: 100%|██████████| 268/268 [00:06<00:00, 41.86it/s]\n"
          ]
        },
        {
          "name": "stdout",
          "output_type": "stream",
          "text": [
            "                   all      0.921      0.999\n",
            "Speed: 0.1ms preprocess, 0.1ms inference, 0.0ms loss, 0.0ms postprocess per image\n",
            "Results saved to \u001b[1mruns/classify/yolov8_day_classification\u001b[0m\n"
          ]
        },
        {
          "data": {
            "text/plain": [
              "ultralytics.utils.metrics.ClassifyMetrics object with attributes:\n",
              "\n",
              "confusion_matrix: <ultralytics.utils.metrics.ConfusionMatrix object at 0x7ecc9584b850>\n",
              "curves: []\n",
              "curves_results: []\n",
              "fitness: 0.9601795673370361\n",
              "keys: ['metrics/accuracy_top1', 'metrics/accuracy_top5']\n",
              "results_dict: {'metrics/accuracy_top1': 0.9211753606796265, 'metrics/accuracy_top5': 0.9991837739944458, 'fitness': 0.9601795673370361}\n",
              "save_dir: PosixPath('runs/classify/yolov8_day_classification')\n",
              "speed: {'preprocess': 0.05804214960158761, 'inference': 0.10550940937515516, 'loss': 0.00024596646205702824, 'postprocess': 0.00031428661809038757}\n",
              "task: 'classify'\n",
              "top1: 0.9211753606796265\n",
              "top5: 0.9991837739944458"
            ]
          },
          "execution_count": 6,
          "metadata": {},
          "output_type": "execute_result"
        }
      ],
      "source": [
        "import os\n",
        "import torch\n",
        "import torch.nn as nn\n",
        "from ultralytics import YOLO\n",
        "\n",
        "# Define class weights\n",
        "class_weights = torch.tensor([1.0, 3.0, 2.0, 3.0, 3.0, 3.0]).to('cuda')  # Adjust values as needed\n",
        "\n",
        "# Custom weighted loss function\n",
        "def custom_loss(pred, target):\n",
        "    criterion = nn.CrossEntropyLoss(weight=class_weights)\n",
        "    return criterion(pred, target)\n",
        "\n",
        "# Define callback function to copy weights after each epoch\n",
        "def save_weights_callback(trainer):\n",
        "    epoch = trainer.epoch + 1  # Current epoch (1-based index)\n",
        "    save_dir = trainer.save_dir\n",
        "    weights_dir = os.path.join(save_dir, \"weights\")\n",
        "    if os.path.exists(weights_dir):\n",
        "        for weight_file in os.listdir(weights_dir):\n",
        "            if weight_file.endswith(\".pt\"):  # Copy all .pt files\n",
        "                src_path = os.path.join(weights_dir, weight_file)\n",
        "                dest_path = f\"/content/drive/My Drive/YoloWeights/{weight_file}\"\n",
        "                print(f\"Copying {weight_file} to Google Drive...\")\n",
        "                os.makedirs(os.path.dirname(dest_path), exist_ok=True)\n",
        "                os.system(f\"cp {src_path} {dest_path}\")\n",
        "\n",
        "# Load the YOLOv8 model\n",
        "model = YOLO('yolov8n-cls.pt')\n",
        "\n",
        "# Attach the callback to the training process\n",
        "model.add_callback(\"on_epoch_end\", save_weights_callback)\n",
        "\n",
        "# Modify the training pipeline\n",
        "model.model.criterion = custom_loss  # Override the loss function\n",
        "\n",
        "# Train the model\n",
        "model.train(\n",
        "    data='/content/day-c123/Day_C123',  # Dataset path\n",
        "    epochs=50,  # Number of epochs\n",
        "    batch=32,  # Batch size\n",
        "    imgsz=224,  # Image size\n",
        "    name='yolov8_day_classification',  # Run name\n",
        "    optimizer='Adam',  # Optimizer\n",
        "    device=0,  # Use GPU\n",
        "    save_period=1,  # Save weights every epoch\n",
        ")"
      ]
    },
    {
      "cell_type": "code",
      "execution_count": null,
      "metadata": {
        "colab": {
          "base_uri": "https://localhost:8080/",
          "height": 787
        },
        "id": "KmP3crtypbgL",
        "outputId": "256502a3-465c-433c-ad84-51e173ab160e"
      },
      "outputs": [
        {
          "data": {
            "image/png": "[encoded data removed]",
            "text/plain": [
              "<Figure size 1000x500 with 1 Axes>"
            ]
          },
          "metadata": {},
          "output_type": "display_data"
        },
        {
          "data": {
            "image/png": "[encoded data removed]",
            "text/plain": [
              "<Figure size 1000x500 with 1 Axes>"
            ]
          },
          "metadata": {},
          "output_type": "display_data"
        }
      ],
      "source": [
        "import pandas as pd\n",
        "import matplotlib.pyplot as plt\n",
        "\n",
        "\n",
        "# Path to the results.csv generated during training\n",
        "results_path = 'runs/classify/yolov8_day_classification/results.csv'\n",
        "\n",
        "\n",
        "# Load training results\n",
        "results = pd.read_csv(results_path)\n",
        "\n",
        "# Plot training and validation loss\n",
        "plt.figure(figsize=(10, 5))\n",
        "plt.plot(results['epoch'], results['train/loss'], label='Train Loss', marker='o')\n",
        "plt.plot(results['epoch'], results['val/loss'], label='Validation Loss', marker='o')\n",
        "plt.xlabel('Epoch')\n",
        "plt.ylabel('Loss')\n",
        "plt.title('Training and Validation Loss')\n",
        "plt.legend()\n",
        "plt.grid()\n",
        "plt.savefig('runs/classify/yolov8_day_classification/loss_curve.png')\n",
        "plt.show()\n",
        "\n",
        "# Plot top-1 and top-5 accuracies\n",
        "plt.figure(figsize=(10, 5))\n",
        "plt.plot(results['epoch'], results['metrics/accuracy_top1'], label='Top-1 Accuracy', marker='o')\n",
        "plt.plot(results['epoch'], results['metrics/accuracy_top5'], label='Top-5 Accuracy', marker='o')\n",
        "plt.xlabel('Epoch')\n",
        "plt.ylabel('Accuracy')\n",
        "plt.title('Top-1 and Top-5 Accuracy')\n",
        "plt.legend()\n",
        "plt.grid()\n",
        "plt.savefig('runs/classify/yolov8_day_classification/accuracy_curve.png')\n",
        "plt.show()"
      ]
    },
    {
      "cell_type": "code",
      "execution_count": null,
      "metadata": {
        "colab": {
          "base_uri": "https://localhost:8080/"
        },
        "id": "44VXh6ffP2FG",
        "outputId": "70d3d8a3-2b7e-430b-f72b-33a559a03296"
      },
      "outputs": [
        {
          "name": "stdout",
          "output_type": "stream",
          "text": [
            "Available keys in results.results_dict:\n",
            "dict_keys(['metrics/accuracy_top1', 'metrics/accuracy_top5', 'fitness'])\n"
          ]
        }
      ],
      "source": [
        "# Inspect the keys in results.results_dict\n",
        "print(\"Available keys in results.results_dict:\")\n",
        "print(results.results_dict.keys())"
      ]
    },
    {
      "cell_type": "code",
      "execution_count": null,
      "metadata": {
        "colab": {
          "base_uri": "https://localhost:8080/"
        },
        "id": "beGIqDdi3jNO",
        "outputId": "0146b6e6-4653-496a-a66d-1fdbe420b91a"
      },
      "outputs": [
        {
          "name": "stdout",
          "output_type": "stream",
          "text": [
            "Temporary test dataset created at: /content/temp_test_dataset\n"
          ]
        }
      ],
      "source": [
        "import os\n",
        "\n",
        "import shutil\n",
        "\n",
        "\n",
        "\n",
        "test_dataset = '/content/day-c123/Day_C123/test'\n",
        "\n",
        "temp_test_dir = '/content/temp_test_dataset'\n",
        "\n",
        "\n",
        "\n",
        "# Create a temporary directory\n",
        "\n",
        "os.makedirs(temp_test_dir, exist_ok=True)\n",
        "\n",
        "\n",
        "\n",
        "# Copy all images into the temporary directory\n",
        "\n",
        "for class_dir in os.listdir(test_dataset):\n",
        "\n",
        "    class_path = os.path.join(test_dataset, class_dir)\n",
        "\n",
        "    if os.path.isdir(class_path):\n",
        "\n",
        "        for img_file in os.listdir(class_path):\n",
        "\n",
        "            src_path = os.path.join(class_path, img_file)\n",
        "\n",
        "            dest_path = os.path.join(temp_test_dir, img_file)\n",
        "\n",
        "            shutil.copy(src_path, dest_path)\n",
        "\n",
        "\n",
        "\n",
        "print(f\"Temporary test dataset created at: {temp_test_dir}\")"
      ]
    },
    {
      "cell_type": "code",
      "execution_count": null,
      "metadata": {
        "colab": {
          "base_uri": "https://localhost:8080/"
        },
        "id": "MtdCjMc64spH",
        "outputId": "35024daa-6ab8-4be7-a6eb-ddd7cb6c6a13"
      },
      "outputs": [
        {
          "name": "stdout",
          "output_type": "stream",
          "text": [
            "\n",
            "WARNING ⚠️ inference results will accumulate in RAM unless `stream=True` is passed, causing potential out-of-memory\n",
            "errors for large sources or long-running streams and videos. See https://docs.ultralytics.com/modes/predict/ for help.\n",
            "\n",
            "Example:\n",
            "    results = model(source=..., stream=True)  # generator of Results objects\n",
            "    for r in results:\n",
            "        boxes = r.boxes  # Boxes object for bbox outputs\n",
            "        masks = r.masks  # Masks object for segment masks outputs\n",
            "        probs = r.probs  # Class probabilities for classification outputs\n",
            "\n"
          ]
        }
      ],
      "source": [
        "results = model.predict(temp_test_dir, save=False, verbose=False)"
      ]
    },
    {
      "cell_type": "code",
      "source": [
        "from google.colab import files\n",
        "\n",
        "\n",
        "\n",
        "files.download(\"runs/classify/yolov8_day_classification/weights/last.pt\")\n",
        "\n",
        "files.download(\"runs/classify/yolov8_day_classification/weights/best.pt\")"
      ],
      "metadata": {
        "colab": {
          "base_uri": "https://localhost:8080/",
          "height": 17
        },
        "id": "JLcxG5L26_W7",
        "outputId": "d9cda374-ce7b-4f46-93c3-cd74988b9fac"
      },
      "execution_count": null,
      "outputs": [
        {
          "output_type": "display_data",
          "data": {
            "text/plain": [
              "<IPython.core.display.Javascript object>"
            ],
            "application/javascript": [
              "\n",
              "    async function download(id, filename, size) {\n",
              "      if (!google.colab.kernel.accessAllowed) {\n",
              "        return;\n",
              "      }\n",
              "      const div = document.createElement('div');\n",
              "      const label = document.createElement('label');\n",
              "      label.textContent = `Downloading \"${filename}\": `;\n",
              "      div.appendChild(label);\n",
              "      const progress = document.createElement('progress');\n",
              "      progress.max = size;\n",
              "      div.appendChild(progress);\n",
              "      document.body.appendChild(div);\n",
              "\n",
              "      const buffers = [];\n",
              "      let downloaded = 0;\n",
              "\n",
              "      const channel = await google.colab.kernel.comms.open(id);\n",
              "      // Send a message to notify the kernel that we're ready.\n",
              "      channel.send({})\n",
              "\n",
              "      for await (const message of channel.messages) {\n",
              "        // Send a message to notify the kernel that we're ready.\n",
              "        channel.send({})\n",
              "        if (message.buffers) {\n",
              "          for (const buffer of message.buffers) {\n",
              "            buffers.push(buffer);\n",
              "            downloaded += buffer.byteLength;\n",
              "            progress.value = downloaded;\n",
              "          }\n",
              "        }\n",
              "      }\n",
              "      const blob = new Blob(buffers, {type: 'application/binary'});\n",
              "      const a = document.createElement('a');\n",
              "      a.href = window.URL.createObjectURL(blob);\n",
              "      a.download = filename;\n",
              "      div.appendChild(a);\n",
              "      a.click();\n",
              "      div.remove();\n",
              "    }\n",
              "  "
            ]
          },
          "metadata": {}
        },
        {
          "output_type": "display_data",
          "data": {
            "text/plain": [
              "<IPython.core.display.Javascript object>"
            ],
            "application/javascript": [
              "download(\"download_37ebd8f3-d951-4ecb-acac-037ae59bea6d\", \"last.pt\", 2976001)"
            ]
          },
          "metadata": {}
        },
        {
          "output_type": "display_data",
          "data": {
            "text/plain": [
              "<IPython.core.display.Javascript object>"
            ],
            "application/javascript": [
              "\n",
              "    async function download(id, filename, size) {\n",
              "      if (!google.colab.kernel.accessAllowed) {\n",
              "        return;\n",
              "      }\n",
              "      const div = document.createElement('div');\n",
              "      const label = document.createElement('label');\n",
              "      label.textContent = `Downloading \"${filename}\": `;\n",
              "      div.appendChild(label);\n",
              "      const progress = document.createElement('progress');\n",
              "      progress.max = size;\n",
              "      div.appendChild(progress);\n",
              "      document.body.appendChild(div);\n",
              "\n",
              "      const buffers = [];\n",
              "      let downloaded = 0;\n",
              "\n",
              "      const channel = await google.colab.kernel.comms.open(id);\n",
              "      // Send a message to notify the kernel that we're ready.\n",
              "      channel.send({})\n",
              "\n",
              "      for await (const message of channel.messages) {\n",
              "        // Send a message to notify the kernel that we're ready.\n",
              "        channel.send({})\n",
              "        if (message.buffers) {\n",
              "          for (const buffer of message.buffers) {\n",
              "            buffers.push(buffer);\n",
              "            downloaded += buffer.byteLength;\n",
              "            progress.value = downloaded;\n",
              "          }\n",
              "        }\n",
              "      }\n",
              "      const blob = new Blob(buffers, {type: 'application/binary'});\n",
              "      const a = document.createElement('a');\n",
              "      a.href = window.URL.createObjectURL(blob);\n",
              "      a.download = filename;\n",
              "      div.appendChild(a);\n",
              "      a.click();\n",
              "      div.remove();\n",
              "    }\n",
              "  "
            ]
          },
          "metadata": {}
        },
        {
          "output_type": "display_data",
          "data": {
            "text/plain": [
              "<IPython.core.display.Javascript object>"
            ],
            "application/javascript": [
              "download(\"download_6b3e68b3-3422-47fb-9771-0ecc4595ef8b\", \"best.pt\", 2976001)"
            ]
          },
          "metadata": {}
        }
      ]
    },
    {
      "cell_type": "code",
      "source": [
        "import pandas as pd\n",
        "\n",
        "\n",
        "\n",
        "# Load the CSV file\n",
        "\n",
        "results_path = 'runs/classify/yolov8_day_classification/results.csv'\n",
        "\n",
        "results = pd.read_csv(results_path)\n",
        "\n",
        "\n",
        "\n",
        "# Print the column names\n",
        "\n",
        "print(\"Columns in results.csv:\")\n",
        "\n",
        "print(results.columns)"
      ],
      "metadata": {
        "colab": {
          "base_uri": "https://localhost:8080/"
        },
        "id": "IH-KzdeA72Ja",
        "outputId": "a001033a-2969-4a32-f663-43e6bb2cf49e"
      },
      "execution_count": null,
      "outputs": [
        {
          "output_type": "stream",
          "name": "stdout",
          "text": [
            "Columns in results.csv:\n",
            "Index(['epoch', 'time', 'train/loss', 'metrics/accuracy_top1',\n",
            "       'metrics/accuracy_top5', 'val/loss', 'lr/pg0', 'lr/pg1', 'lr/pg2'],\n",
            "      dtype='object')\n"
          ]
        }
      ]
    },
    {
      "cell_type": "code",
      "source": [
        "import matplotlib.pyplot as plt\n",
        "\n",
        "\n",
        "\n",
        "# Plot Training and Validation Loss\n",
        "\n",
        "plt.figure(figsize=(10, 5))\n",
        "\n",
        "plt.plot(results['epoch'], results['train/loss'], label='Train Loss')\n",
        "\n",
        "plt.plot(results['epoch'], results['val/loss'], label='Validation Loss')\n",
        "\n",
        "plt.xlabel('Epoch')\n",
        "\n",
        "plt.ylabel('Loss')\n",
        "\n",
        "plt.title('Training and Validation Loss')\n",
        "\n",
        "plt.legend()\n",
        "\n",
        "plt.grid()\n",
        "\n",
        "plt.tight_layout()\n",
        "\n",
        "plt.savefig('loss_curve.png')\n",
        "\n",
        "plt.show()\n",
        "\n",
        "\n",
        "\n",
        "# Plot Top-1 Accuracy\n",
        "\n",
        "plt.figure(figsize=(10, 5))\n",
        "\n",
        "plt.plot(results['epoch'], results['metrics/accuracy_top1'], label='Top-1 Accuracy')\n",
        "\n",
        "plt.xlabel('Epoch')\n",
        "\n",
        "plt.ylabel('Accuracy')\n",
        "\n",
        "plt.title('Top-1 Accuracy per Epoch')\n",
        "\n",
        "plt.legend()\n",
        "\n",
        "plt.grid()\n",
        "\n",
        "plt.tight_layout()\n",
        "\n",
        "plt.savefig('accuracy_curve.png')\n",
        "\n",
        "plt.show()\n",
        "\n",
        "\n",
        "\n",
        "# Plot Learning Rates\n",
        "\n",
        "plt.figure(figsize=(10, 5))\n",
        "\n",
        "plt.plot(results['epoch'], results['lr/pg0'], label='Learning Rate Group 0')\n",
        "\n",
        "plt.plot(results['epoch'], results['lr/pg1'], label='Learning Rate Group 1')\n",
        "\n",
        "plt.plot(results['epoch'], results['lr/pg2'], label='Learning Rate Group 2')\n",
        "\n",
        "plt.xlabel('Epoch')\n",
        "\n",
        "plt.ylabel('Learning Rate')\n",
        "\n",
        "plt.title('Learning Rates per Epoch')\n",
        "\n",
        "plt.legend()\n",
        "\n",
        "plt.grid()\n",
        "\n",
        "plt.tight_layout()\n",
        "\n",
        "plt.savefig('learning_rate_curve.png')\n",
        "\n",
        "plt.show()"
      ],
      "metadata": {
        "colab": {
          "base_uri": "https://localhost:8080/",
          "height": 1000
        },
        "id": "FbC6Ebct7dKc",
        "outputId": "837671af-7579-4a29-a75b-819ec9904906"
      },
      "execution_count": null,
      "outputs": [
        {
          "output_type": "display_data",
          "data": {
            "text/plain": [
              "<Figure size 1000x500 with 1 Axes>"
            ],
            "image/png": "[encoded data removed]"
          },
          "metadata": {}
        },
        {
          "output_type": "display_data",
          "data": {
            "text/plain": [
              "<Figure size 1000x500 with 1 Axes>"
            ],
            "image/png": "[encoded data removed]"
          },
          "metadata": {}
        },
        {
          "output_type": "display_data",
          "data": {
            "text/plain": [
              "<Figure size 1000x500 with 1 Axes>"
            ],
            "image/png": "[encoded data removed]"
          },
          "metadata": {}
        }
      ]
    },
    {
      "cell_type": "code",
      "source": [
        "from google.colab import files\n",
        "\n",
        "\n",
        "\n",
        "# Download the generated plots\n",
        "\n",
        "files.download('loss_curve.png')\n",
        "\n",
        "files.download('accuracy_curve.png')\n",
        "\n",
        "files.download('learning_rate_curve.png')"
      ],
      "metadata": {
        "colab": {
          "base_uri": "https://localhost:8080/",
          "height": 17
        },
        "id": "B6h02kEQ9dMs",
        "outputId": "4a1b1b6c-9cdd-4018-bcb1-2ddaed56b779"
      },
      "execution_count": null,
      "outputs": [
        {
          "output_type": "display_data",
          "data": {
            "text/plain": [
              "<IPython.core.display.Javascript object>"
            ],
            "application/javascript": [
              "\n",
              "    async function download(id, filename, size) {\n",
              "      if (!google.colab.kernel.accessAllowed) {\n",
              "        return;\n",
              "      }\n",
              "      const div = document.createElement('div');\n",
              "      const label = document.createElement('label');\n",
              "      label.textContent = `Downloading \"${filename}\": `;\n",
              "      div.appendChild(label);\n",
              "      const progress = document.createElement('progress');\n",
              "      progress.max = size;\n",
              "      div.appendChild(progress);\n",
              "      document.body.appendChild(div);\n",
              "\n",
              "      const buffers = [];\n",
              "      let downloaded = 0;\n",
              "\n",
              "      const channel = await google.colab.kernel.comms.open(id);\n",
              "      // Send a message to notify the kernel that we're ready.\n",
              "      channel.send({})\n",
              "\n",
              "      for await (const message of channel.messages) {\n",
              "        // Send a message to notify the kernel that we're ready.\n",
              "        channel.send({})\n",
              "        if (message.buffers) {\n",
              "          for (const buffer of message.buffers) {\n",
              "            buffers.push(buffer);\n",
              "            downloaded += buffer.byteLength;\n",
              "            progress.value = downloaded;\n",
              "          }\n",
              "        }\n",
              "      }\n",
              "      const blob = new Blob(buffers, {type: 'application/binary'});\n",
              "      const a = document.createElement('a');\n",
              "      a.href = window.URL.createObjectURL(blob);\n",
              "      a.download = filename;\n",
              "      div.appendChild(a);\n",
              "      a.click();\n",
              "      div.remove();\n",
              "    }\n",
              "  "
            ]
          },
          "metadata": {}
        },
        {
          "output_type": "display_data",
          "data": {
            "text/plain": [
              "<IPython.core.display.Javascript object>"
            ],
            "application/javascript": [
              "download(\"download_def5c494-13b2-43f7-ae85-31e9396de9bd\", \"loss_curve.png\", 45645)"
            ]
          },
          "metadata": {}
        },
        {
          "output_type": "display_data",
          "data": {
            "text/plain": [
              "<IPython.core.display.Javascript object>"
            ],
            "application/javascript": [
              "\n",
              "    async function download(id, filename, size) {\n",
              "      if (!google.colab.kernel.accessAllowed) {\n",
              "        return;\n",
              "      }\n",
              "      const div = document.createElement('div');\n",
              "      const label = document.createElement('label');\n",
              "      label.textContent = `Downloading \"${filename}\": `;\n",
              "      div.appendChild(label);\n",
              "      const progress = document.createElement('progress');\n",
              "      progress.max = size;\n",
              "      div.appendChild(progress);\n",
              "      document.body.appendChild(div);\n",
              "\n",
              "      const buffers = [];\n",
              "      let downloaded = 0;\n",
              "\n",
              "      const channel = await google.colab.kernel.comms.open(id);\n",
              "      // Send a message to notify the kernel that we're ready.\n",
              "      channel.send({})\n",
              "\n",
              "      for await (const message of channel.messages) {\n",
              "        // Send a message to notify the kernel that we're ready.\n",
              "        channel.send({})\n",
              "        if (message.buffers) {\n",
              "          for (const buffer of message.buffers) {\n",
              "            buffers.push(buffer);\n",
              "            downloaded += buffer.byteLength;\n",
              "            progress.value = downloaded;\n",
              "          }\n",
              "        }\n",
              "      }\n",
              "      const blob = new Blob(buffers, {type: 'application/binary'});\n",
              "      const a = document.createElement('a');\n",
              "      a.href = window.URL.createObjectURL(blob);\n",
              "      a.download = filename;\n",
              "      div.appendChild(a);\n",
              "      a.click();\n",
              "      div.remove();\n",
              "    }\n",
              "  "
            ]
          },
          "metadata": {}
        },
        {
          "output_type": "display_data",
          "data": {
            "text/plain": [
              "<IPython.core.display.Javascript object>"
            ],
            "application/javascript": [
              "download(\"download_28c75be8-f113-4979-81a7-52bde8f88d63\", \"accuracy_curve.png\", 36721)"
            ]
          },
          "metadata": {}
        },
        {
          "output_type": "display_data",
          "data": {
            "text/plain": [
              "<IPython.core.display.Javascript object>"
            ],
            "application/javascript": [
              "\n",
              "    async function download(id, filename, size) {\n",
              "      if (!google.colab.kernel.accessAllowed) {\n",
              "        return;\n",
              "      }\n",
              "      const div = document.createElement('div');\n",
              "      const label = document.createElement('label');\n",
              "      label.textContent = `Downloading \"${filename}\": `;\n",
              "      div.appendChild(label);\n",
              "      const progress = document.createElement('progress');\n",
              "      progress.max = size;\n",
              "      div.appendChild(progress);\n",
              "      document.body.appendChild(div);\n",
              "\n",
              "      const buffers = [];\n",
              "      let downloaded = 0;\n",
              "\n",
              "      const channel = await google.colab.kernel.comms.open(id);\n",
              "      // Send a message to notify the kernel that we're ready.\n",
              "      channel.send({})\n",
              "\n",
              "      for await (const message of channel.messages) {\n",
              "        // Send a message to notify the kernel that we're ready.\n",
              "        channel.send({})\n",
              "        if (message.buffers) {\n",
              "          for (const buffer of message.buffers) {\n",
              "            buffers.push(buffer);\n",
              "            downloaded += buffer.byteLength;\n",
              "            progress.value = downloaded;\n",
              "          }\n",
              "        }\n",
              "      }\n",
              "      const blob = new Blob(buffers, {type: 'application/binary'});\n",
              "      const a = document.createElement('a');\n",
              "      a.href = window.URL.createObjectURL(blob);\n",
              "      a.download = filename;\n",
              "      div.appendChild(a);\n",
              "      a.click();\n",
              "      div.remove();\n",
              "    }\n",
              "  "
            ]
          },
          "metadata": {}
        },
        {
          "output_type": "display_data",
          "data": {
            "text/plain": [
              "<IPython.core.display.Javascript object>"
            ],
            "application/javascript": [
              "download(\"download_97f5bd34-94aa-4aee-aa8c-1a725f5ebf05\", \"learning_rate_curve.png\", 35760)"
            ]
          },
          "metadata": {}
        }
      ]
    },
    {
      "cell_type": "code",
      "source": [],
      "metadata": {
        "id": "aCpgg_up9oYH"
      },
      "execution_count": null,
      "outputs": []
    }
  ],
  "metadata": {
    "colab": {
      "provenance": [],
      "authorship_tag": "ABX9TyMBMntfPc0EKgywFI6IXYDK",
      "include_colab_link": true
    },
    "kernelspec": {
      "display_name": "Python 3",
      "name": "python3"
    },
    "language_info": {
      "name": "python"
    }
  },
  "nbformat": 4,
  "nbformat_minor": 0
}