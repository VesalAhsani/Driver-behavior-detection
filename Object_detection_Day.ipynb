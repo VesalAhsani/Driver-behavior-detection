{
  "nbformat": 4,
  "nbformat_minor": 0,
  "metadata": {
    "colab": {
      "provenance": [],
      "authorship_tag": "ABX9TyOarzcuAXPXV1m9AY/RB8WO",
      "include_colab_link": true
    },
    "kernelspec": {
      "name": "python3",
      "display_name": "Python 3"
    },
    "language_info": {
      "name": "python"
    }
  },
  "cells": [
    {
      "cell_type": "markdown",
      "metadata": {
        "id": "view-in-github",
        "colab_type": "text"
      },
      "source": [
        "<a href=\"https://colab.research.google.com/github/VesalAhsani/Driver-behavior-detection/blob/main/Object_detection_Day.ipynb\" target=\"_parent\"><img src=\"https://colab.research.google.com/assets/colab-badge.svg\" alt=\"Open In Colab\"/></a>"
      ]
    },
    {
      "cell_type": "code",
      "source": [
        "!pip install ultralytics roboflow"
      ],
      "metadata": {
        "colab": {
          "base_uri": "https://localhost:8080/"
        },
        "id": "A1Yb_DYvGxDY",
        "outputId": "9ff00256-d0e3-43ac-d077-52ce13309437"
      },
      "execution_count": 1,
      "outputs": [
        {
          "output_type": "stream",
          "name": "stdout",
          "text": [
            "Collecting ultralytics\n",
            "  Downloading ultralytics-8.3.59-py3-none-any.whl.metadata (35 kB)\n",
            "Collecting roboflow\n",
            "  Downloading roboflow-1.1.50-py3-none-any.whl.metadata (9.7 kB)\n",
            "Requirement already satisfied: numpy>=1.23.0 in /usr/local/lib/python3.10/dist-packages (from ultralytics) (1.26.4)\n",
            "Requirement already satisfied: matplotlib>=3.3.0 in /usr/local/lib/python3.10/dist-packages (from ultralytics) (3.10.0)\n",
            "Requirement already satisfied: opencv-python>=4.6.0 in /usr/local/lib/python3.10/dist-packages (from ultralytics) (4.10.0.84)\n",
            "Requirement already satisfied: pillow>=7.1.2 in /usr/local/lib/python3.10/dist-packages (from ultralytics) (11.1.0)\n",
            "Requirement already satisfied: pyyaml>=5.3.1 in /usr/local/lib/python3.10/dist-packages (from ultralytics) (6.0.2)\n",
            "Requirement already satisfied: requests>=2.23.0 in /usr/local/lib/python3.10/dist-packages (from ultralytics) (2.32.3)\n",
            "Requirement already satisfied: scipy>=1.4.1 in /usr/local/lib/python3.10/dist-packages (from ultralytics) (1.13.1)\n",
            "Requirement already satisfied: torch>=1.8.0 in /usr/local/lib/python3.10/dist-packages (from ultralytics) (2.5.1+cu121)\n",
            "Requirement already satisfied: torchvision>=0.9.0 in /usr/local/lib/python3.10/dist-packages (from ultralytics) (0.20.1+cu121)\n",
            "Requirement already satisfied: tqdm>=4.64.0 in /usr/local/lib/python3.10/dist-packages (from ultralytics) (4.67.1)\n",
            "Requirement already satisfied: psutil in /usr/local/lib/python3.10/dist-packages (from ultralytics) (5.9.5)\n",
            "Requirement already satisfied: py-cpuinfo in /usr/local/lib/python3.10/dist-packages (from ultralytics) (9.0.0)\n",
            "Requirement already satisfied: pandas>=1.1.4 in /usr/local/lib/python3.10/dist-packages (from ultralytics) (2.2.2)\n",
            "Requirement already satisfied: seaborn>=0.11.0 in /usr/local/lib/python3.10/dist-packages (from ultralytics) (0.13.2)\n",
            "Collecting ultralytics-thop>=2.0.0 (from ultralytics)\n",
            "  Downloading ultralytics_thop-2.0.13-py3-none-any.whl.metadata (9.4 kB)\n",
            "Requirement already satisfied: certifi in /usr/local/lib/python3.10/dist-packages (from roboflow) (2024.12.14)\n",
            "Collecting idna==3.7 (from roboflow)\n",
            "  Downloading idna-3.7-py3-none-any.whl.metadata (9.9 kB)\n",
            "Requirement already satisfied: cycler in /usr/local/lib/python3.10/dist-packages (from roboflow) (0.12.1)\n",
            "Requirement already satisfied: kiwisolver>=1.3.1 in /usr/local/lib/python3.10/dist-packages (from roboflow) (1.4.8)\n",
            "Requirement already satisfied: opencv-python-headless==4.10.0.84 in /usr/local/lib/python3.10/dist-packages (from roboflow) (4.10.0.84)\n",
            "Requirement already satisfied: python-dateutil in /usr/local/lib/python3.10/dist-packages (from roboflow) (2.8.2)\n",
            "Collecting python-dotenv (from roboflow)\n",
            "  Downloading python_dotenv-1.0.1-py3-none-any.whl.metadata (23 kB)\n",
            "Requirement already satisfied: six in /usr/local/lib/python3.10/dist-packages (from roboflow) (1.17.0)\n",
            "Requirement already satisfied: urllib3>=1.26.6 in /usr/local/lib/python3.10/dist-packages (from roboflow) (2.3.0)\n",
            "Requirement already satisfied: requests-toolbelt in /usr/local/lib/python3.10/dist-packages (from roboflow) (1.0.0)\n",
            "Collecting filetype (from roboflow)\n",
            "  Downloading filetype-1.2.0-py2.py3-none-any.whl.metadata (6.5 kB)\n",
            "Requirement already satisfied: contourpy>=1.0.1 in /usr/local/lib/python3.10/dist-packages (from matplotlib>=3.3.0->ultralytics) (1.3.1)\n",
            "Requirement already satisfied: fonttools>=4.22.0 in /usr/local/lib/python3.10/dist-packages (from matplotlib>=3.3.0->ultralytics) (4.55.3)\n",
            "Requirement already satisfied: packaging>=20.0 in /usr/local/lib/python3.10/dist-packages (from matplotlib>=3.3.0->ultralytics) (24.2)\n",
            "Requirement already satisfied: pyparsing>=2.3.1 in /usr/local/lib/python3.10/dist-packages (from matplotlib>=3.3.0->ultralytics) (3.2.1)\n",
            "Requirement already satisfied: pytz>=2020.1 in /usr/local/lib/python3.10/dist-packages (from pandas>=1.1.4->ultralytics) (2024.2)\n",
            "Requirement already satisfied: tzdata>=2022.7 in /usr/local/lib/python3.10/dist-packages (from pandas>=1.1.4->ultralytics) (2024.2)\n",
            "Requirement already satisfied: charset-normalizer<4,>=2 in /usr/local/lib/python3.10/dist-packages (from requests>=2.23.0->ultralytics) (3.4.1)\n",
            "Requirement already satisfied: filelock in /usr/local/lib/python3.10/dist-packages (from torch>=1.8.0->ultralytics) (3.16.1)\n",
            "Requirement already satisfied: typing-extensions>=4.8.0 in /usr/local/lib/python3.10/dist-packages (from torch>=1.8.0->ultralytics) (4.12.2)\n",
            "Requirement already satisfied: networkx in /usr/local/lib/python3.10/dist-packages (from torch>=1.8.0->ultralytics) (3.4.2)\n",
            "Requirement already satisfied: jinja2 in /usr/local/lib/python3.10/dist-packages (from torch>=1.8.0->ultralytics) (3.1.5)\n",
            "Requirement already satisfied: fsspec in /usr/local/lib/python3.10/dist-packages (from torch>=1.8.0->ultralytics) (2024.10.0)\n",
            "Requirement already satisfied: sympy==1.13.1 in /usr/local/lib/python3.10/dist-packages (from torch>=1.8.0->ultralytics) (1.13.1)\n",
            "Requirement already satisfied: mpmath<1.4,>=1.1.0 in /usr/local/lib/python3.10/dist-packages (from sympy==1.13.1->torch>=1.8.0->ultralytics) (1.3.0)\n",
            "Requirement already satisfied: MarkupSafe>=2.0 in /usr/local/lib/python3.10/dist-packages (from jinja2->torch>=1.8.0->ultralytics) (3.0.2)\n",
            "Downloading ultralytics-8.3.59-py3-none-any.whl (906 kB)\n",
            "\u001b[2K   \u001b[90m━━━━━━━━━━━━━━━━━━━━━━━━━━━━━━━━━━━━━━━━\u001b[0m \u001b[32m906.8/906.8 kB\u001b[0m \u001b[31m24.5 MB/s\u001b[0m eta \u001b[36m0:00:00\u001b[0m\n",
            "\u001b[?25hDownloading roboflow-1.1.50-py3-none-any.whl (81 kB)\n",
            "\u001b[2K   \u001b[90m━━━━━━━━━━━━━━━━━━━━━━━━━━━━━━━━━━━━━━━━\u001b[0m \u001b[32m81.5/81.5 kB\u001b[0m \u001b[31m8.3 MB/s\u001b[0m eta \u001b[36m0:00:00\u001b[0m\n",
            "\u001b[?25hDownloading idna-3.7-py3-none-any.whl (66 kB)\n",
            "\u001b[2K   \u001b[90m━━━━━━━━━━━━━━━━━━━━━━━━━━━━━━━━━━━━━━━━\u001b[0m \u001b[32m66.8/66.8 kB\u001b[0m \u001b[31m6.5 MB/s\u001b[0m eta \u001b[36m0:00:00\u001b[0m\n",
            "\u001b[?25hDownloading ultralytics_thop-2.0.13-py3-none-any.whl (26 kB)\n",
            "Downloading filetype-1.2.0-py2.py3-none-any.whl (19 kB)\n",
            "Downloading python_dotenv-1.0.1-py3-none-any.whl (19 kB)\n",
            "Installing collected packages: filetype, python-dotenv, idna, ultralytics-thop, ultralytics, roboflow\n",
            "  Attempting uninstall: idna\n",
            "    Found existing installation: idna 3.10\n",
            "    Uninstalling idna-3.10:\n",
            "      Successfully uninstalled idna-3.10\n",
            "Successfully installed filetype-1.2.0 idna-3.7 python-dotenv-1.0.1 roboflow-1.1.50 ultralytics-8.3.59 ultralytics-thop-2.0.13\n"
          ]
        }
      ]
    },
    {
      "cell_type": "code",
      "execution_count": 2,
      "metadata": {
        "colab": {
          "base_uri": "https://localhost:8080/"
        },
        "id": "2Uh9OPrPAWjO",
        "outputId": "e5346d59-9edb-4311-8434-48cfc564e8e2"
      },
      "outputs": [
        {
          "output_type": "stream",
          "name": "stdout",
          "text": [
            "loading Roboflow workspace...\n",
            "loading Roboflow project...\n"
          ]
        },
        {
          "output_type": "stream",
          "name": "stderr",
          "text": [
            "Downloading Dataset Version Zip in DMD-7 to yolov8:: 100%|██████████| 311746/311746 [00:06<00:00, 51051.09it/s]"
          ]
        },
        {
          "output_type": "stream",
          "name": "stdout",
          "text": [
            "\n"
          ]
        },
        {
          "output_type": "stream",
          "name": "stderr",
          "text": [
            "\n",
            "Extracting Dataset Version Zip to DMD-7 in yolov8:: 100%|██████████| 29710/29710 [00:03<00:00, 9291.86it/s] \n"
          ]
        },
        {
          "output_type": "stream",
          "name": "stdout",
          "text": [
            "Creating new Ultralytics Settings v0.0.6 file ✅ \n",
            "View Ultralytics Settings with 'yolo settings' or at '/root/.config/Ultralytics/settings.json'\n",
            "Update Settings with 'yolo settings key=value', i.e. 'yolo settings runs_dir=path/to/dir'. For help see https://docs.ultralytics.com/quickstart/#ultralytics-settings.\n"
          ]
        }
      ],
      "source": [
        "from roboflow import Roboflow\n",
        "rf = Roboflow(api_key=\"00eDdINIeXhaRNIyP5Nn\")  # Use your API key\n",
        "project = rf.workspace(\"driver-monitoring\").project(\"dmd-tfiw0\")\n",
        "version = project.version(7)\n",
        "dataset = version.download(\"yolov8\")"
      ]
    },
    {
      "cell_type": "code",
      "source": [
        "# Verify the dataset folder\n",
        "!ls DMD-7"
      ],
      "metadata": {
        "colab": {
          "base_uri": "https://localhost:8080/"
        },
        "id": "-nu12LMiHO5F",
        "outputId": "7f47e087-c178-4582-b5ad-ad754493a46c"
      },
      "execution_count": 3,
      "outputs": [
        {
          "output_type": "stream",
          "name": "stdout",
          "text": [
            "data.yaml  README.dataset.txt  README.roboflow.txt  test  train  valid\n"
          ]
        }
      ]
    },
    {
      "cell_type": "code",
      "source": [
        "# Modify the data.yaml file\n",
        "yaml_path = \"DMD-7/data.yaml\"\n",
        "\n",
        "# Replace unwanted classes with relevant ones\n",
        "updated_yaml_content = \"\"\"\n",
        "names:\n",
        "  0: Drinking\n",
        "  1: SleepyDriving\n",
        "  2: Yawn\n",
        "nc: 3\n",
        "roboflow:\n",
        "  license: CC BY 4.0\n",
        "  project: dmd-tfiw0\n",
        "  url: https://universe.roboflow.com/driver-monitoring/dmd-tfiw0\n",
        "  version: 7\n",
        "  workspace: driver-monitoring\n",
        "test: /content/DMD-7/test/images\n",
        "train: /content/DMD-7/train/images\n",
        "val: /content/DMD-7/valid/images\n",
        "\"\"\"\n",
        "\n",
        "# Write the updated content to the file\n",
        "with open(yaml_path, \"w\") as yaml_file:\n",
        "    yaml_file.write(updated_yaml_content)\n",
        "\n",
        "print(\"Updated data.yaml:\")\n",
        "!cat DMD-7/data.yaml"
      ],
      "metadata": {
        "colab": {
          "base_uri": "https://localhost:8080/"
        },
        "id": "WioHIOipBeg_",
        "outputId": "52fa65e6-ac00-4592-f0a9-148e9d7d99a1"
      },
      "execution_count": 4,
      "outputs": [
        {
          "output_type": "stream",
          "name": "stdout",
          "text": [
            "Updated data.yaml:\n",
            "\n",
            "names:\n",
            "  0: Drinking\n",
            "  1: SleepyDriving\n",
            "  2: Yawn\n",
            "nc: 3\n",
            "roboflow:\n",
            "  license: CC BY 4.0\n",
            "  project: dmd-tfiw0\n",
            "  url: https://universe.roboflow.com/driver-monitoring/dmd-tfiw0\n",
            "  version: 7\n",
            "  workspace: driver-monitoring\n",
            "test: /content/DMD-7/test/images\n",
            "train: /content/DMD-7/train/images\n",
            "val: /content/DMD-7/valid/images\n"
          ]
        }
      ]
    },
    {
      "cell_type": "code",
      "source": [
        "import os\n",
        "\n",
        "# Define mapping from old class IDs to new class IDs\n",
        "class_mapping = {\n",
        "    2: 0,  # Drinking -> 0\n",
        "    5: 1,  # SleepyDriving -> 1\n",
        "    6: 2   # Yawn -> 2\n",
        "}\n",
        "\n",
        "# Directories for label files\n",
        "label_dirs = [\"DMD-7/train/labels\", \"DMD-7/valid/labels\"]\n",
        "\n",
        "for label_dir in label_dirs:\n",
        "    for label_file in os.listdir(label_dir):\n",
        "        file_path = os.path.join(label_dir, label_file)\n",
        "        with open(file_path, \"r\") as f:\n",
        "            lines = f.readlines()\n",
        "\n",
        "        # Rewrite the label file with remapped classes\n",
        "        new_lines = []\n",
        "        for line in lines:\n",
        "            class_id, x_center, y_center, width, height = map(float, line.split())\n",
        "            class_id = int(class_id)\n",
        "            if class_id in class_mapping:\n",
        "                new_class_id = class_mapping[class_id]\n",
        "                new_lines.append(f\"{new_class_id} {x_center} {y_center} {width} {height}\\n\")\n",
        "\n",
        "        # Overwrite the file with updated labels\n",
        "        with open(file_path, \"w\") as f:\n",
        "            f.writelines(new_lines)\n",
        "\n",
        "print(\"Label files updated successfully.\")"
      ],
      "metadata": {
        "colab": {
          "base_uri": "https://localhost:8080/"
        },
        "id": "7tNe0BXWKdTT",
        "outputId": "8b0390c1-e36f-47f5-8775-dcdc68d6ef56"
      },
      "execution_count": 5,
      "outputs": [
        {
          "output_type": "stream",
          "name": "stdout",
          "text": [
            "Label files updated successfully.\n"
          ]
        }
      ]
    },
    {
      "cell_type": "code",
      "source": [
        "import os\n",
        "\n",
        "# Define the paths to label files for train, validation, and test sets\n",
        "label_dirs = [\n",
        "    \"/content/DMD-7/train/labels\",\n",
        "    \"/content/DMD-7/valid/labels\",\n",
        "    \"/content/DMD-7/test/labels\"\n",
        "]\n",
        "\n",
        "# Define the expected classes\n",
        "expected_classes = {0: \"Drinking\", 1: \"SleepyDriving\", 2: \"Yawn\"}\n",
        "\n",
        "# Function to fix incorrect labels\n",
        "def fix_labels(label_dir, expected_classes):\n",
        "    if not os.path.exists(label_dir):\n",
        "        print(f\"Label directory not found: {label_dir}\")\n",
        "        return\n",
        "\n",
        "    print(f\"\\nProcessing labels in directory: {label_dir}\")\n",
        "    label_files = [f for f in os.listdir(label_dir) if f.endswith(\".txt\")]\n",
        "\n",
        "    for label_file in label_files:\n",
        "        label_path = os.path.join(label_dir, label_file)\n",
        "        with open(label_path, \"r\") as file:\n",
        "            lines = file.readlines()\n",
        "\n",
        "        updated_lines = []\n",
        "        for line in lines:\n",
        "            parts = line.strip().split()\n",
        "            class_id = int(parts[0])\n",
        "            if class_id in expected_classes:\n",
        "                updated_lines.append(line)  # Keep valid labels\n",
        "            else:\n",
        "                print(f\"Removed invalid class ID {class_id} in {label_file}\")\n",
        "\n",
        "        # Overwrite the file with only valid labels\n",
        "        with open(label_path, \"w\") as file:\n",
        "            file.writelines(updated_lines)\n",
        "\n",
        "# Fix labels in all directories\n",
        "for label_dir in label_dirs:\n",
        "    fix_labels(label_dir, expected_classes)\n",
        "\n",
        "print(\"\\nLabel correction complete.\")"
      ],
      "metadata": {
        "colab": {
          "base_uri": "https://localhost:8080/"
        },
        "id": "kH_jJieAcihM",
        "outputId": "744a7efa-2686-470b-aa97-9995bffe2125"
      },
      "execution_count": 6,
      "outputs": [
        {
          "output_type": "stream",
          "name": "stdout",
          "text": [
            "\n",
            "Processing labels in directory: /content/DMD-7/train/labels\n",
            "\n",
            "Processing labels in directory: /content/DMD-7/valid/labels\n",
            "\n",
            "Processing labels in directory: /content/DMD-7/test/labels\n",
            "Removed invalid class ID 3 in gA_4_s1_ir_face_mp4-176_jpg.rf.9cffb1a0efc0f0f5cf118601449d44e8.txt\n",
            "Removed invalid class ID 3 in gA_2_s1_ir_face_mp4-131_jpg.rf.8dfb9c08e4c0d8292e7359d33d56370b.txt\n",
            "Removed invalid class ID 3 in gA_4_s1_ir_face_mp4-183_jpg.rf.20cd37d4a7121585dab8e6175ba5718a.txt\n",
            "Removed invalid class ID 3 in gA_2_s1_ir_face_mp4-165_jpg.rf.6dbe206e900d61cd8748537515b64c20.txt\n",
            "Removed invalid class ID 4 in gA_1_s5_ir_face_mp4-345_jpg.rf.889d23c649e1e252109c73825faac77d.txt\n",
            "Removed invalid class ID 4 in gB_10_s5_2019-03-12T10-35-2001-00_ir_face_mp4-348_jpg.rf.2c3b66032262684cd5e5616acb7c405a.txt\n",
            "Removed invalid class ID 4 in gA_5_s5_ir_face_mp4-68_jpg.rf.5b2fc433f4c32ace772f8a53dee36ca5.txt\n",
            "Removed invalid class ID 3 in gA_4_s1_ir_face_mp4-162_jpg.rf.78e4f16d82d9603cb855ccb374c9afb1.txt\n",
            "Removed invalid class ID 5 in gB_10_s5_2019-03-12T10-35-2001-00_ir_face_mp4-160_jpg.rf.69b0141cc33ef65e6faeffd0183cfd63.txt\n",
            "Removed invalid class ID 5 in gA_3_s5_ir_face_mp4-115_jpg.rf.0bf1474e285868b085d64a6ae9675725.txt\n",
            "Removed invalid class ID 3 in gB_6_s1_2019-03-11T13-55-14-01-00_ir_face_mp4-318_jpg.rf.c102fd3bacb4338cd7f2bd773eb9c76e.txt\n",
            "Removed invalid class ID 3 in gA_5_s1_ir_face_mp4-114_jpg.rf.4cb96500b3e5941d4b328e61268dbe12.txt\n",
            "Removed invalid class ID 4 in gA_4_s5_ir_face_mp4-47_jpg.rf.4691782bd4499f94a0104ac822eb4fc0.txt\n",
            "Removed invalid class ID 3 in gA_3_s2_ir_face_mp4-386_jpg.rf.c4e767e63d7d0728a0aab1cc3939640c.txt\n",
            "Removed invalid class ID 3 in gA_1_s2_ir_face_mp4-308_jpg.rf.8e4a441906337d1dbccbf22a496cedee.txt\n",
            "Removed invalid class ID 3 in gB_7_s2_2019-03-11T14-12-25-01-00_ir_face_mp4-439_jpg.rf.710aee05012688f1ccd7e92cb659ee7f.txt\n",
            "Removed invalid class ID 3 in gB_6_s1_2019-03-11T13-55-14-01-00_ir_face_mp4-298_jpg.rf.aadab3147edf391e8bc938ed2299c70b.txt\n",
            "Removed invalid class ID 3 in gB_6_s2_2019-03-11T13-46-14-01-00_ir_face_mp4-488_jpg.rf.82dad63fc8faf64385941f058a8204db.txt\n",
            "Removed invalid class ID 4 in gA_5_s5_ir_face_mp4-74_jpg.rf.36665cf0b7476b52d0d6f8e7460f0288.txt\n",
            "Removed invalid class ID 3 in gA_3_s2_ir_face_mp4-90_jpg.rf.5346fddf70fa17535a4711a215ea411c.txt\n",
            "Removed invalid class ID 3 in gB_7_s1_2019-03-11T14-22-01-01-00_ir_face_mp4-156_jpg.rf.338a2c416504db6f4cdb0ba425e9475b.txt\n",
            "Removed invalid class ID 3 in gB_9_s1_2019-03-07T16-36-24-01-00_ir_face_mp4-426_jpg.rf.814be2c0ab6af92d174f98bc7e967898.txt\n",
            "Removed invalid class ID 3 in gB_7_s1_2019-03-11T14-22-01-01-00_ir_face_mp4-139_jpg.rf.78cd4c10925b86b7ebfd27eb733a154b.txt\n",
            "Removed invalid class ID 3 in gA_2_s2_ir_face_mp4-42_jpg.rf.1a90c6a4d83eee027b52edb80adf1870.txt\n",
            "Removed invalid class ID 3 in gB_6_s1_2019-03-11T13-55-14-01-00_ir_face_mp4-256_jpg.rf.bc90bcd764162e18c70cebe44e992744.txt\n",
            "Removed invalid class ID 3 in gB_6_s2_2019-03-11T13-46-14-01-00_ir_face_mp4-285_jpg.rf.e4a8f7308feca284947100d85153de0b.txt\n",
            "Removed invalid class ID 3 in gA_5_s2_ir_face_mp4-287_jpg.rf.0c081c482081c4effe271a74e3819678.txt\n",
            "Removed invalid class ID 3 in gB_6_s1_2019-03-11T13-55-14-01-00_ir_face_mp4-253_jpg.rf.d53cbdd23b7356b00cb05e76dac3dfcc.txt\n",
            "Removed invalid class ID 3 in gA_3_s1_ir_face_mp4-213_jpg.rf.c4fda83f68f02f8dfe472b92b2d4721f.txt\n",
            "Removed invalid class ID 3 in gB_6_s1_2019-03-11T13-55-14-01-00_ir_face_mp4-195_jpg.rf.689e1228588dbfba5409b8b76376aecf.txt\n",
            "Removed invalid class ID 4 in gA_3_s5_ir_face_mp4-53_jpg.rf.8fba9ac3f3b5c54a3452993765a533ac.txt\n",
            "Removed invalid class ID 4 in gB_9_s5_2019-03-07T16-31-4801-00_ir_face_mp4-184_jpg.rf.36f6ddf505c306b9dac32091a5e9341a.txt\n",
            "Removed invalid class ID 3 in gA_3_s1_ir_face_mp4-126_jpg.rf.a972f3f540b056305c6f42306f034923.txt\n",
            "Removed invalid class ID 3 in gB_8_s1_2019-03-11T15-01-33-01-00_ir_face_mp4-177_jpg.rf.abd21fe4f94fe42f45acad875fe22f39.txt\n",
            "Removed invalid class ID 3 in gA_5_s2_ir_face_mp4-8_jpg.rf.089fe3d7c061794711b7a1751d87a202.txt\n",
            "Removed invalid class ID 3 in gA_2_s2_ir_face_mp4-461_jpg.rf.1a9b0f008cdd5521956f322be4cd5af0.txt\n",
            "Removed invalid class ID 3 in gA_2_s2_ir_face_mp4-282_jpg.rf.4c6f8f2a84010ce289a9e0f940441ad4.txt\n",
            "Removed invalid class ID 3 in gB_7_s5_2019-03-13T13-55-5201-00_ir_face_mp4-168_jpg.rf.a84973472a1076466c69cbfbf36d60bc.txt\n",
            "Removed invalid class ID 4 in gB_7_s5_2019-03-13T13-55-5201-00_ir_face_mp4-262_jpg.rf.732e56189d02a9708c8e0cf5036f6daf.txt\n",
            "Removed invalid class ID 3 in gA_1_s1_ir_face_mp4-132_jpg.rf.4d5787b967842a9c284abf6e0ef69037.txt\n",
            "Removed invalid class ID 3 in gA_1_s1_ir_face_mp4-151_jpg.rf.66868c4a75c2ab889a25ebc02ba6bcc8.txt\n",
            "Removed invalid class ID 4 in gA_1_s5_ir_face_mp4-219_jpg.rf.3856fac9e22d4420099d1d53189205d5.txt\n",
            "Removed invalid class ID 3 in gB_10_s1_2019-03-11T15-24-54-01-00_ir_face_mp4-139_jpg.rf.c0bc1c94e33f86fc37f61c8dde3bc745.txt\n",
            "Removed invalid class ID 3 in gB_6_s5_2019-03-13T13-37-1101-00_ir_face_mp4-179_jpg.rf.8a48dbfe626f9662141a362f145506ea.txt\n",
            "Removed invalid class ID 3 in gB_7_s1_2019-03-11T14-22-01-01-00_ir_face_mp4-256_jpg.rf.18eb83fb7f5393789dc3505684086066.txt\n",
            "Removed invalid class ID 4 in gA_5_s5_ir_face_mp4-246_jpg.rf.97f937fda9d54f547ab6abbd61ee082d.txt\n",
            "Removed invalid class ID 3 in gA_3_s1_ir_face_mp4-135_jpg.rf.458efaa253c49d6c94c7e18bd5749622.txt\n",
            "Removed invalid class ID 3 in gA_1_s1_ir_face_mp4-152_jpg.rf.fff4cf9b5e9f18d30b48424d323ba2f4.txt\n",
            "Removed invalid class ID 3 in gB_7_s1_2019-03-11T14-22-01-01-00_ir_face_mp4-107_jpg.rf.dd3b9574461de74c0ea678fe326c47c7.txt\n",
            "Removed invalid class ID 3 in gA_4_s2_ir_face_mp4-418_jpg.rf.4d92e500865af2deeab35ec4dde0ddb9.txt\n",
            "Removed invalid class ID 3 in gB_6_s1_2019-03-11T13-55-14-01-00_ir_face_mp4-271_jpg.rf.3df4e9a9276b4b6b48c6f8d6bfff4699.txt\n",
            "Removed invalid class ID 3 in gB_8_s1_2019-03-11T15-01-33-01-00_ir_face_mp4-406_jpg.rf.20a3370ae51a8a0d151ba9ed0cad01ff.txt\n",
            "Removed invalid class ID 4 in gA_2_s5_ir_face_mp4-182_jpg.rf.0734253f485ba611dca0fa1ceaff4935.txt\n",
            "Removed invalid class ID 3 in gA_5_s2_ir_face_mp4-370_jpg.rf.5ae0b4cd7e617e80419aeeded23bc20d.txt\n",
            "Removed invalid class ID 4 in gA_4_s5_ir_face_mp4-303_jpg.rf.dfe3c5e581831875bc868eae79727cef.txt\n",
            "Removed invalid class ID 5 in gA_4_s5_ir_face_mp4-79_jpg.rf.d18da51bfca2b443875bed99e8d7d415.txt\n",
            "Removed invalid class ID 3 in gB_7_s5_2019-03-13T13-55-5201-00_ir_face_mp4-165_jpg.rf.79404901d8af42b5540435a58f5b9938.txt\n",
            "Removed invalid class ID 3 in gA_4_s2_ir_face_mp4-109_jpg.rf.7af02fe86c1c2493ef9e087108ddec1a.txt\n",
            "Removed invalid class ID 3 in gA_3_s2_ir_face_mp4-189_jpg.rf.ef4dd2247665fb9fef85fde2f2568ca7.txt\n",
            "Removed invalid class ID 3 in gB_9_s5_2019-03-07T16-31-4801-00_ir_face_mp4-109_jpg.rf.f2616512683bed6bc6ca3ced3a241ff4.txt\n",
            "Removed invalid class ID 3 in gB_7_s2_2019-03-11T14-12-25-01-00_ir_face_mp4-103_jpg.rf.14c2e51bab5809daeeb5d23d16b1d360.txt\n",
            "Removed invalid class ID 3 in gA_2_s2_ir_face_mp4-393_jpg.rf.e782a650bd6e52b4076300e85e60df0f.txt\n",
            "Removed invalid class ID 3 in gB_7_s1_2019-03-11T14-22-01-01-00_ir_face_mp4-217_jpg.rf.1b4b2fa8a86ffb9bcd17311d5a4fecc9.txt\n",
            "Removed invalid class ID 3 in gB_8_s1_2019-03-11T15-01-33-01-00_ir_face_mp4-365_jpg.rf.e7fc953b8a00b7e55beb62d6d52a690c.txt\n",
            "Removed invalid class ID 3 in gB_8_s1_2019-03-11T15-01-33-01-00_ir_face_mp4-193_jpg.rf.28f54786d0306438d4fb94e8e91cd5ef.txt\n",
            "Removed invalid class ID 3 in gA_1_s2_ir_face_mp4-253_jpg.rf.69010059f1489c026c4992786ed63299.txt\n",
            "Removed invalid class ID 3 in gA_2_s1_ir_face_mp4-72_jpg.rf.5e12f98e73f4f00e475a1b299c3ef1a8.txt\n",
            "Removed invalid class ID 3 in gB_8_s2_2019-03-11T14-38-44-01-00_ir_face_mp4-195_jpg.rf.c9a4eac681422ec2ae6344f81ca08443.txt\n",
            "Removed invalid class ID 3 in gA_3_s1_ir_face_mp4-114_jpg.rf.b78804a6da373a0511fadd13526a3d02.txt\n",
            "Removed invalid class ID 3 in gA_4_s2_ir_face_mp4-449_jpg.rf.1c536644b246aea7f9bc88c2837f89db.txt\n",
            "Removed invalid class ID 3 in gA_3_s2_ir_face_mp4-208_jpg.rf.64288a80f7dcf86b210ab0a83d56f3e3.txt\n",
            "Removed invalid class ID 5 in gA_5_s5_ir_face_mp4-207_jpg.rf.55209467533ff50e7f6862e961b2538b.txt\n",
            "Removed invalid class ID 3 in gA_4_s1_ir_face_mp4-38_jpg.rf.755d4f57abf132567cb60f5891145ce8.txt\n",
            "Removed invalid class ID 3 in gA_5_s2_ir_face_mp4-361_jpg.rf.486d8dab0f5dbc7595faf1b22dd9a044.txt\n",
            "Removed invalid class ID 3 in gA_5_s1_ir_face_mp4-75_jpg.rf.5b3e064e95ca25532806bd9b12aaabc7.txt\n",
            "Removed invalid class ID 3 in gA_4_s2_ir_face_mp4-41_jpg.rf.4ba056095a933d3feba518594cad55e2.txt\n",
            "Removed invalid class ID 3 in gB_7_s5_2019-03-13T13-55-5201-00_ir_face_mp4-171_jpg.rf.4b788df78332cffa15b3ac30a2d0dce3.txt\n",
            "Removed invalid class ID 3 in gA_2_s2_ir_face_mp4-129_jpg.rf.32b2942324e771f7f20ed71b64ffddf7.txt\n",
            "Removed invalid class ID 3 in gB_8_s2_2019-03-11T14-38-44-01-00_ir_face_mp4-906_jpg.rf.00e06915201418de29d28be565588537.txt\n",
            "Removed invalid class ID 3 in gA_2_s2_ir_face_mp4-283_jpg.rf.111f5d277ca781343d48278d3769ec4a.txt\n",
            "Removed invalid class ID 4 in gB_10_s5_2019-03-12T10-35-2001-00_ir_face_mp4-329_jpg.rf.c3ab4156cd4d141fa627254f3a07adef.txt\n",
            "Removed invalid class ID 3 in gB_9_s1_2019-03-07T16-36-24-01-00_ir_face_mp4-410_jpg.rf.ce62909614c6120cb51f71d476e848a6.txt\n",
            "Removed invalid class ID 3 in gB_8_s1_2019-03-11T15-01-33-01-00_ir_face_mp4-348_jpg.rf.0b7feb0f01b3325d572092566d887f56.txt\n",
            "Removed invalid class ID 3 in gB_7_s1_2019-03-11T14-22-01-01-00_ir_face_mp4-349_jpg.rf.363f34707f0344646d60a95a4380d7d6.txt\n",
            "Removed invalid class ID 3 in gB_6_s2_2019-03-11T13-46-14-01-00_ir_face_mp4-245_jpg.rf.2f3b9b54d6e114981bf4beb9455bafc8.txt\n",
            "Removed invalid class ID 4 in gB_8_s5_2019-03-13T14-10-0901-00_ir_face_mp4-25_jpg.rf.8413f87de242ce85364d7bb83a03ac9f.txt\n",
            "Removed invalid class ID 3 in gB_6_s1_2019-03-11T13-55-14-01-00_ir_face_mp4-340_jpg.rf.c1573fff4661822494ee634e12acad2b.txt\n",
            "Removed invalid class ID 3 in gB_9_s1_2019-03-07T16-36-24-01-00_ir_face_mp4-191_jpg.rf.43967887f8cf837421778a2bc7ff3c5c.txt\n",
            "Removed invalid class ID 3 in gB_9_s1_2019-03-07T16-36-24-01-00_ir_face_mp4-115_jpg.rf.574d2f9d2a8d16e4f50c5a814959ab5d.txt\n",
            "Removed invalid class ID 3 in gB_9_s5_2019-03-07T16-31-4801-00_ir_face_mp4-141_jpg.rf.874d73737b6c79764556a822fa842dc9.txt\n",
            "Removed invalid class ID 4 in gA_4_s5_ir_face_mp4-111_jpg.rf.a28d8309e7d78c1c2cafaf0853094fb8.txt\n",
            "Removed invalid class ID 3 in gA_3_s1_ir_face_mp4-172_jpg.rf.ec223102413b31c05e9fe659baf6bfac.txt\n",
            "Removed invalid class ID 3 in gA_1_s2_ir_face_mp4-234_jpg.rf.2293e786798f182c6b60370e5f29ac4e.txt\n",
            "Removed invalid class ID 3 in gA_4_s2_ir_face_mp4-115_jpg.rf.5ae99d7a3de29bb1ef919135351792ee.txt\n",
            "Removed invalid class ID 3 in gA_2_s2_ir_face_mp4-296_jpg.rf.6bbda205dd3f753d3c93e8be54f5f43f.txt\n",
            "Removed invalid class ID 3 in gB_7_s5_2019-03-13T13-55-5201-00_ir_face_mp4-27_jpg.rf.ef4e9e531e4cfcf26b075740454ae196.txt\n",
            "Removed invalid class ID 3 in gB_7_s1_2019-03-11T14-22-01-01-00_ir_face_mp4-138_jpg.rf.b2806b9016873ac7b60119491cbdabf8.txt\n",
            "Removed invalid class ID 3 in gA_1_s1_ir_face_mp4-89_jpg.rf.bf073e3d679f91e926049aad58bd249e.txt\n",
            "Removed invalid class ID 5 in gA_4_s5_ir_face_mp4-133_jpg.rf.488060c53dfa5ab64b9f9fc63ccfe5e6.txt\n",
            "Removed invalid class ID 3 in gB_6_s2_2019-03-11T13-46-14-01-00_ir_face_mp4-486_jpg.rf.66110ad7fb8d8aaca08a41c21d0add8b.txt\n",
            "Removed invalid class ID 4 in gA_5_s5_ir_face_mp4-333_jpg.rf.3dd54e694aea7215f164388c571e0cbf.txt\n",
            "Removed invalid class ID 3 in gA_3_s1_ir_face_mp4-44_jpg.rf.c0b6bcfd265e301ace61e9dfaf8af505.txt\n",
            "Removed invalid class ID 4 in gB_8_s5_2019-03-13T14-10-0901-00_ir_face_mp4-109_jpg.rf.34935cb1cefc60d1a0caa23560a0ad53.txt\n",
            "Removed invalid class ID 3 in gA_5_s1_ir_face_mp4-44_jpg.rf.edb02953974500e8ed4c9a5a36757784.txt\n",
            "Removed invalid class ID 3 in gA_3_s1_ir_face_mp4-220_jpg.rf.362d9b8dea84021358a8398a3c82ae3b.txt\n",
            "Removed invalid class ID 3 in gA_2_s2_ir_face_mp4-11_jpg.rf.8d384fdc81af0e1ce35a792059a9db99.txt\n",
            "Removed invalid class ID 3 in gA_1_s2_ir_face_mp4-316_jpg.rf.ea42c80887e075de2d33784d7886e694.txt\n",
            "Removed invalid class ID 4 in gA_1_s5_ir_face_mp4-135_jpg.rf.ad5762f28a37cd572ac963adb4b53335.txt\n",
            "Removed invalid class ID 3 in gA_3_s2_ir_face_mp4-239_jpg.rf.a15fccf43192c253e8d7dcf86bdebfd2.txt\n",
            "Removed invalid class ID 3 in gB_9_s1_2019-03-07T16-36-24-01-00_ir_face_mp4-189_jpg.rf.f066a40569c777b4579e7bd5e56a0bb3.txt\n",
            "Removed invalid class ID 3 in gA_5_s2_ir_face_mp4-362_jpg.rf.87df1bb3347a9a4ac049bfd50620f1b1.txt\n",
            "Removed invalid class ID 3 in gB_8_s2_2019-03-11T14-38-44-01-00_ir_face_mp4-649_jpg.rf.7ab5439dd6614ac9d958d4a7bfaddc35.txt\n",
            "Removed invalid class ID 3 in gA_4_s1_ir_face_mp4-154_jpg.rf.ead81f40130a5cc8788dfb42043de4e4.txt\n",
            "Removed invalid class ID 3 in gB_8_s2_2019-03-11T14-38-44-01-00_ir_face_mp4-865_jpg.rf.77ab7cb1f58dc65612e79caf4fc84d47.txt\n",
            "Removed invalid class ID 3 in gA_1_s1_ir_face_mp4-198_jpg.rf.0f34b057905d9bea628747b5cd76d79f.txt\n",
            "Removed invalid class ID 3 in gA_3_s2_ir_face_mp4-98_jpg.rf.7be6a84b3d5f4e6a17bbf010a12b8d94.txt\n",
            "Removed invalid class ID 4 in gB_7_s5_2019-03-13T13-55-5201-00_ir_face_mp4-129_jpg.rf.aab08b5b6bcf9d14877e43589c5cf507.txt\n",
            "Removed invalid class ID 3 in gB_7_s1_2019-03-11T14-22-01-01-00_ir_face_mp4-379_jpg.rf.1288c5d7cb99dd068baa58ba302d0adc.txt\n",
            "Removed invalid class ID 3 in gB_7_s2_2019-03-11T14-12-25-01-00_ir_face_mp4-438_jpg.rf.8c72a50918b4972e3b909b9c8c622dfe.txt\n",
            "Removed invalid class ID 3 in gA_1_s2_ir_face_mp4-132_jpg.rf.8c9c3183ae80a03977c35ad2b39dbfbe.txt\n",
            "Removed invalid class ID 4 in gB_7_s1_2019-03-11T14-22-01-01-00_ir_face_mp4-397_jpg.rf.7ebfb5ecc4ca3a470b1d2dfca74c680a.txt\n",
            "Removed invalid class ID 3 in gA_4_s1_ir_face_mp4-101_jpg.rf.b84f83bfa3cae9dc7c6e9a92833456a5.txt\n",
            "Removed invalid class ID 3 in gB_6_s1_2019-03-11T13-55-14-01-00_ir_face_mp4-94_jpg.rf.cede6d9130fb9c2f4907658b4c5a70de.txt\n",
            "Removed invalid class ID 3 in gB_7_s1_2019-03-11T14-22-01-01-00_ir_face_mp4-210_jpg.rf.fc8dfbe48ed6bb7c4ee1667ce446a43c.txt\n",
            "Removed invalid class ID 3 in gA_2_s1_ir_face_mp4-41_jpg.rf.53d1fd761021ce705f1b2f93fb4eeb9c.txt\n",
            "Removed invalid class ID 3 in gB_7_s1_2019-03-11T14-22-01-01-00_ir_face_mp4-180_jpg.rf.cd9f814637f603d0e21a8396e76c6080.txt\n",
            "Removed invalid class ID 3 in gB_10_s2_2019-03-11T15-15-21-01-00_ir_face_mp4-785_jpg.rf.7bce4dd4e106bc3aaf374f1d47918fc0.txt\n",
            "Removed invalid class ID 3 in gB_8_s1_2019-03-11T15-01-33-01-00_ir_face_mp4-204_jpg.rf.fdab2364a875456ed895b53b3a54ac71.txt\n",
            "Removed invalid class ID 3 in gB_7_s1_2019-03-11T14-22-01-01-00_ir_face_mp4-42_jpg.rf.d007bd464eb4f736335fb4b861f2facf.txt\n",
            "Removed invalid class ID 3 in gB_8_s1_2019-03-11T15-01-33-01-00_ir_face_mp4-13_jpg.rf.ec89cf67ef3ea1da640cb6408215e187.txt\n",
            "Removed invalid class ID 3 in gA_5_s2_ir_face_mp4-193_jpg.rf.d9eee3e34780da6a31e6394982c4d884.txt\n",
            "Removed invalid class ID 3 in gB_7_s1_2019-03-11T14-22-01-01-00_ir_face_mp4-163_jpg.rf.2a1cdcc44cf179fc8ee656f4c2c587b6.txt\n",
            "Removed invalid class ID 3 in gB_7_s1_2019-03-11T14-22-01-01-00_ir_face_mp4-382_jpg.rf.e5173c1a5f32c0186a8169a92fe3332a.txt\n",
            "Removed invalid class ID 4 in gB_9_s5_2019-03-07T16-31-4801-00_ir_face_mp4-57_jpg.rf.601295fd6b675320549d73d6050be26b.txt\n",
            "Removed invalid class ID 4 in gB_8_s5_2019-03-13T14-10-0901-00_ir_face_mp4-112_jpg.rf.81fad9f94968ddd80e02a45fd06767da.txt\n",
            "Removed invalid class ID 3 in gA_5_s5_ir_face_mp4-116_jpg.rf.d349abecd853cbbae216fd5909afd673.txt\n",
            "Removed invalid class ID 3 in gB_6_s5_2019-03-13T13-37-1101-00_ir_face_mp4-277_jpg.rf.b39966e8c523ee40aa77616057a92f6c.txt\n",
            "Removed invalid class ID 3 in gB_6_s1_2019-03-11T13-55-14-01-00_ir_face_mp4-362_jpg.rf.738041cad30b9361023d1f38c68885ea.txt\n",
            "Removed invalid class ID 5 in gA_4_s5_ir_face_mp4-129_jpg.rf.2e126f5347e1528db78505505e5da7d1.txt\n",
            "Removed invalid class ID 3 in gB_9_s1_2019-03-07T16-36-24-01-00_ir_face_mp4-390_jpg.rf.2fef0aaa452916b3f18e039231d3416b.txt\n",
            "Removed invalid class ID 3 in gB_8_s2_2019-03-11T14-38-44-01-00_ir_face_mp4-377_jpg.rf.48a7e42f6cf6f850f7ebe37ebf46014c.txt\n",
            "Removed invalid class ID 5 in gB_9_s5_2019-03-07T16-31-4801-00_ir_face_mp4-261_jpg.rf.21f50725c8e742201251b67e1dcffb2f.txt\n",
            "Removed invalid class ID 3 in gB_7_s5_2019-03-13T13-55-5201-00_ir_face_mp4-196_jpg.rf.7099140ed30e9b4770f8355546b1de60.txt\n",
            "Removed invalid class ID 3 in gB_6_s2_2019-03-11T13-46-14-01-00_ir_face_mp4-413_jpg.rf.773b51868694ba18e7ae65286c1bc11d.txt\n",
            "Removed invalid class ID 3 in gB_10_s1_2019-03-11T15-24-54-01-00_ir_face_mp4-351_jpg.rf.01892d8d1d73f5e1f0671110d6690e24.txt\n",
            "Removed invalid class ID 3 in gA_4_s2_ir_face_mp4-245_jpg.rf.e7e59abcc867c4cdcf4dd38f7b942b7c.txt\n",
            "Removed invalid class ID 4 in gB_10_s5_2019-03-12T10-35-2001-00_ir_face_mp4-129_jpg.rf.0251a82bf807799a66291e07e1ed0cba.txt\n",
            "Removed invalid class ID 3 in gB_8_s2_2019-03-11T14-38-44-01-00_ir_face_mp4-209_jpg.rf.93577cdc59715db9b17128c52939b9e9.txt\n",
            "Removed invalid class ID 3 in gB_8_s1_2019-03-11T15-01-33-01-00_ir_face_mp4-222_jpg.rf.59cc73af253fc61a6e926be1e6cbff70.txt\n",
            "Removed invalid class ID 3 in gA_2_s2_ir_face_mp4-259_jpg.rf.9b524829c1f613bb09cd7e8541e610a4.txt\n",
            "Removed invalid class ID 3 in gB_7_s1_2019-03-11T14-22-01-01-00_ir_face_mp4-351_jpg.rf.d521fc48af6d6b87da9518bfcb3e3d38.txt\n",
            "Removed invalid class ID 4 in gA_3_s5_ir_face_mp4-103_jpg.rf.5d2695c434d152be89d105b216aa2608.txt\n",
            "Removed invalid class ID 3 in gB_6_s2_2019-03-11T13-46-14-01-00_ir_face_mp4-405_jpg.rf.9e7cd49d5472a14b67c2924b4ea102ca.txt\n",
            "Removed invalid class ID 4 in gB_9_s2_2019-03-07T16-21-20-01-00_ir_face_mp4-606_jpg.rf.3d86424a6819e7cd64485ce5d2b9298f.txt\n",
            "Removed invalid class ID 3 in gA_3_s1_ir_face_mp4-203_jpg.rf.479de731f61eaa36c0cbdf0434d06660.txt\n",
            "Removed invalid class ID 3 in gA_5_s1_ir_face_mp4-133_jpg.rf.08c5c573afd6f164064c0edc0e4957b7.txt\n",
            "Removed invalid class ID 5 in gB_6_s5_2019-03-13T13-37-1101-00_ir_face_mp4-166_jpg.rf.91a9fdb4fcb84c6613c1d04a761c3a12.txt\n",
            "Removed invalid class ID 3 in gA_1_s2_ir_face_mp4-203_jpg.rf.4df17884425c9d2be2bf6ee8348a312b.txt\n",
            "Removed invalid class ID 3 in gA_1_s1_ir_face_mp4-144_jpg.rf.55abb2767be9e647f135cea71e7e760d.txt\n",
            "Removed invalid class ID 3 in gB_8_s2_2019-03-11T14-38-44-01-00_ir_face_mp4-815_jpg.rf.3ee5139e78036679057b7b166ee6c047.txt\n",
            "Removed invalid class ID 3 in gB_10_s5_2019-03-12T10-35-2001-00_ir_face_mp4-301_jpg.rf.937cb74a8acbb98eadab2a76dbcdeda5.txt\n",
            "Removed invalid class ID 3 in gA_5_s1_ir_face_mp4-148_jpg.rf.9ae6fd0d9250306fd05cc6005780082b.txt\n",
            "Removed invalid class ID 3 in gB_7_s1_2019-03-11T14-22-01-01-00_ir_face_mp4-5_jpg.rf.fbceccd24d9d0ac0f7fb5f673ac080a6.txt\n",
            "Removed invalid class ID 3 in gB_7_s5_2019-03-13T13-55-5201-00_ir_face_mp4-290_jpg.rf.d67859cff702f2651313321e9801449b.txt\n",
            "Removed invalid class ID 3 in gB_8_s1_2019-03-11T15-01-33-01-00_ir_face_mp4-303_jpg.rf.3fe617a05017e149a722faa3f478c3d9.txt\n",
            "Removed invalid class ID 3 in gA_2_s1_ir_face_mp4-54_jpg.rf.3447f575abc70b4ebb4f720282c7280e.txt\n",
            "Removed invalid class ID 5 in gA_1_s5_ir_face_mp4-94_jpg.rf.2c5dc734cfeca1df558a28261e592c86.txt\n",
            "Removed invalid class ID 4 in gA_5_s5_ir_face_mp4-175_jpg.rf.706941efc8b3dc052318ab8d81b3c386.txt\n",
            "Removed invalid class ID 3 in gA_5_s1_ir_face_mp4-188_jpg.rf.6ef8008b2dd6c2aba4e6c18c31081fcb.txt\n",
            "Removed invalid class ID 3 in gA_3_s1_ir_face_mp4-226_jpg.rf.9f4b3d207f3fd5c2e41ae7f23c34d00e.txt\n",
            "Removed invalid class ID 3 in gB_8_s2_2019-03-11T14-38-44-01-00_ir_face_mp4-370_jpg.rf.96c1cc91619f2d64130d6990f4af6dc3.txt\n",
            "Removed invalid class ID 3 in gB_7_s5_2019-03-13T13-55-5201-00_ir_face_mp4-102_jpg.rf.a703d9a74d96cf5a59ba31f846603ffc.txt\n",
            "Removed invalid class ID 3 in gB_7_s5_2019-03-13T13-55-5201-00_ir_face_mp4-101_jpg.rf.d91ce19ec3cc483d8244c9d7890a3a42.txt\n",
            "Removed invalid class ID 3 in gB_6_s2_2019-03-11T13-46-14-01-00_ir_face_mp4-71_jpg.rf.0e353cdfb02a56c1392a25e6d8a117b1.txt\n",
            "Removed invalid class ID 3 in gB_6_s5_2019-03-13T13-37-1101-00_ir_face_mp4-245_jpg.rf.f69170de5f7828e4d7b30e7424e22119.txt\n",
            "Removed invalid class ID 3 in gB_6_s5_2019-03-13T13-37-1101-00_ir_face_mp4-230_jpg.rf.0be4128f5ed0342ad9414e6a93da72b9.txt\n",
            "Removed invalid class ID 4 in gB_10_s1_2019-03-11T15-24-54-01-00_ir_face_mp4-198_jpg.rf.cb8b114b754858181229acf5f0d3c364.txt\n",
            "Removed invalid class ID 3 in gB_7_s5_2019-03-13T13-55-5201-00_ir_face_mp4-63_jpg.rf.676bb051a38bb787e2f2c7d04ed495fa.txt\n",
            "Removed invalid class ID 3 in gA_1_s1_ir_face_mp4-68_jpg.rf.7a613b99c9d2622740c80d0e1339ac0f.txt\n",
            "Removed invalid class ID 3 in gB_6_s1_2019-03-11T13-55-14-01-00_ir_face_mp4-38_jpg.rf.29b6ae793c6cbcacc0ec1e445c40321c.txt\n",
            "Removed invalid class ID 3 in gA_4_s1_ir_face_mp4-223_jpg.rf.3b43aae650cbf936d1b9675137a97c19.txt\n",
            "Removed invalid class ID 3 in gB_8_s1_2019-03-11T15-01-33-01-00_ir_face_mp4-431_jpg.rf.6dbb22d74bd67923929814aada917163.txt\n",
            "Removed invalid class ID 3 in gB_9_s1_2019-03-07T16-36-24-01-00_ir_face_mp4-16_jpg.rf.1fc01629da920ac4f914e1a865a9b5f8.txt\n",
            "Removed invalid class ID 4 in gA_2_s5_ir_face_mp4-342_jpg.rf.70769a94179a351cb3df4fa868b688f8.txt\n",
            "Removed invalid class ID 3 in gA_2_s2_ir_face_mp4-478_jpg.rf.e18597a446b3a9e3e63930a8fafff142.txt\n",
            "Removed invalid class ID 3 in gA_3_s2_ir_face_mp4-126_jpg.rf.d4361d91edf4fcf7bb538f35165d42d3.txt\n",
            "Removed invalid class ID 3 in gB_6_s2_2019-03-11T13-46-14-01-00_ir_face_mp4-478_jpg.rf.9272d7ae3842ac3b8f1d198200185932.txt\n",
            "Removed invalid class ID 3 in gA_3_s2_ir_face_mp4-209_jpg.rf.6a02be5cbf3d01e60ac95de16d15c015.txt\n",
            "Removed invalid class ID 3 in gB_7_s1_2019-03-11T14-22-01-01-00_ir_face_mp4-267_jpg.rf.db78c4a9842fde8218b330d7c3f818e0.txt\n",
            "Removed invalid class ID 3 in gA_5_s5_ir_face_mp4-124_jpg.rf.00e1ccef676fdfaa1c20bf75dc7abf23.txt\n",
            "Removed invalid class ID 3 in gB_6_s1_2019-03-11T13-55-14-01-00_ir_face_mp4-205_jpg.rf.a8651def5bfc18fdd903525415f9f66d.txt\n",
            "Removed invalid class ID 3 in gA_1_s1_ir_face_mp4-109_jpg.rf.7ec2cd873a1abc3217838016f4024db0.txt\n",
            "Removed invalid class ID 3 in gA_5_s1_ir_face_mp4-59_jpg.rf.dd55474d2222182b9a2deea539bc48b2.txt\n",
            "Removed invalid class ID 3 in gB_7_s5_2019-03-13T13-55-5201-00_ir_face_mp4-219_jpg.rf.1f0b07e666784edc18027eb760decd12.txt\n",
            "Removed invalid class ID 3 in gB_7_s2_2019-03-11T14-12-25-01-00_ir_face_mp4-849_jpg.rf.027e663721dae31c352fda504a8540a0.txt\n",
            "Removed invalid class ID 3 in gB_10_s1_2019-03-11T15-24-54-01-00_ir_face_mp4-138_jpg.rf.9850ab19786c3218f4ef264b9a3e72ab.txt\n",
            "Removed invalid class ID 4 in gA_2_s5_ir_face_mp4-322_jpg.rf.6e93f0174cab2cb0ce58d982e10070f9.txt\n",
            "Removed invalid class ID 4 in gA_1_s5_ir_face_mp4-280_jpg.rf.887da2d710b8f80ca78d7db92ad0ba73.txt\n",
            "Removed invalid class ID 3 in gA_5_s1_ir_face_mp4-55_jpg.rf.a99c65fd65b887066d4e2dacc01a50e6.txt\n",
            "Removed invalid class ID 3 in gB_7_s1_2019-03-11T14-22-01-01-00_ir_face_mp4-54_jpg.rf.c18b21a85f39be65f0e000622dd66749.txt\n",
            "Removed invalid class ID 3 in gA_3_s2_ir_face_mp4-1_jpg.rf.90d8aaa05dcb3324c1fe46e2abb50cda.txt\n",
            "Removed invalid class ID 3 in gA_3_s1_ir_face_mp4-131_jpg.rf.5efc5c55e73c47a79c24c0850140988f.txt\n",
            "Removed invalid class ID 3 in gB_6_s1_2019-03-11T13-55-14-01-00_ir_face_mp4-3_jpg.rf.e59a8d642c4604f50d9d58523d13c9f3.txt\n",
            "Removed invalid class ID 4 in gB_8_s5_2019-03-13T14-10-0901-00_ir_face_mp4-330_jpg.rf.db36c67eefa11e1bb5b6e100d6927d4d.txt\n",
            "Removed invalid class ID 3 in gA_5_s1_ir_face_mp4-232_jpg.rf.455519762def56cc3ef9be7f0255ae5b.txt\n",
            "Removed invalid class ID 3 in gB_9_s5_2019-03-07T16-31-4801-00_ir_face_mp4-134_jpg.rf.02d82ef261c1f658bc557bc10df3fedf.txt\n",
            "Removed invalid class ID 5 in gB_7_s5_2019-03-13T13-55-5201-00_ir_face_mp4-48_jpg.rf.06f86aec18b2983ae775993891e2a0a3.txt\n",
            "Removed invalid class ID 3 in gA_4_s1_ir_face_mp4-197_jpg.rf.627f23f575e65be858c9eca42b1e367f.txt\n",
            "Removed invalid class ID 3 in gB_6_s1_2019-03-11T13-55-14-01-00_ir_face_mp4-200_jpg.rf.f26b7f37fefa3068b8e8f4f1249a0c92.txt\n",
            "Removed invalid class ID 3 in gA_5_s2_ir_face_mp4-393_jpg.rf.49fcf55f2cf96227b426f01e9c15006d.txt\n",
            "Removed invalid class ID 3 in gB_8_s1_2019-03-11T15-01-33-01-00_ir_face_mp4-207_jpg.rf.b2a8a11ae5e0cbf43a93a0a7c296596f.txt\n",
            "Removed invalid class ID 3 in gB_6_s1_2019-03-11T13-55-14-01-00_ir_face_mp4-165_jpg.rf.2862f6a68b00b3e3c6a950bcdf5d5a0d.txt\n",
            "Removed invalid class ID 3 in gA_1_s2_ir_face_mp4-218_jpg.rf.07b3207e846a99ef2a01a3c31b637a03.txt\n",
            "Removed invalid class ID 3 in gA_4_s2_ir_face_mp4-122_jpg.rf.ac42506778f276db9acb25f3ed6d6863.txt\n",
            "Removed invalid class ID 3 in gB_9_s1_2019-03-07T16-36-24-01-00_ir_face_mp4-249_jpg.rf.cebd6001fb3f0690bffe781d4d84cd91.txt\n",
            "Removed invalid class ID 3 in gB_8_s1_2019-03-11T15-01-33-01-00_ir_face_mp4-249_jpg.rf.ec56fb206cd62b718a5e8be520a36c5a.txt\n",
            "Removed invalid class ID 4 in gB_6_s5_2019-03-13T13-37-1101-00_ir_face_mp4-150_jpg.rf.ca04124f68ed1a59c5bcd2194a3a6993.txt\n",
            "Removed invalid class ID 3 in gB_8_s2_2019-03-11T14-38-44-01-00_ir_face_mp4-279_jpg.rf.851ddf6099b57317d04733615540db74.txt\n",
            "Removed invalid class ID 3 in gA_2_s1_ir_face_mp4-194_jpg.rf.41fe6d8089978f95815ce311ef019b93.txt\n",
            "Removed invalid class ID 3 in gA_1_s2_ir_face_mp4-102_jpg.rf.6fce7801a44176445188e199c298509e.txt\n",
            "Removed invalid class ID 3 in gB_6_s2_2019-03-11T13-46-14-01-00_ir_face_mp4-505_jpg.rf.ee22bc7351b1d098b75dc31d976f2692.txt\n",
            "Removed invalid class ID 3 in gA_4_s2_ir_face_mp4-399_jpg.rf.8a879ff20bba89b669a7a2a246842350.txt\n",
            "Removed invalid class ID 3 in gB_6_s1_2019-03-11T13-55-14-01-00_ir_face_mp4-313_jpg.rf.f3b67bae878aee2776893b8fb0919ca4.txt\n",
            "Removed invalid class ID 3 in gB_8_s2_2019-03-11T14-38-44-01-00_ir_face_mp4-775_jpg.rf.1f132338e4896ef88f2a5b86758ce315.txt\n",
            "Removed invalid class ID 3 in gA_4_s2_ir_face_mp4-395_jpg.rf.2b32b115e8372b39f564f1f9c410db9e.txt\n",
            "Removed invalid class ID 3 in gB_6_s1_2019-03-11T13-55-14-01-00_ir_face_mp4-128_jpg.rf.b7f26cf916c6dfc1c000e95e62f9d6a4.txt\n",
            "Removed invalid class ID 3 in gB_10_s5_2019-03-12T10-35-2001-00_ir_face_mp4-21_jpg.rf.a2b7736a40b69b64df0df6b543f28f0d.txt\n",
            "Removed invalid class ID 3 in gA_5_s1_ir_face_mp4-226_jpg.rf.af773e074c40a59b1c9faf241693cd76.txt\n",
            "Removed invalid class ID 3 in gB_6_s2_2019-03-11T13-46-14-01-00_ir_face_mp4-667_jpg.rf.8e3b31dce4cefcacbc71417a28132f7d.txt\n",
            "Removed invalid class ID 3 in gB_8_s1_2019-03-11T15-01-33-01-00_ir_face_mp4-246_jpg.rf.3cf4be95dafab61bad2711c05a0b8836.txt\n",
            "Removed invalid class ID 3 in gA_3_s2_ir_face_mp4-28_jpg.rf.e60e40ae8d4d29db1b18bb69b984054a.txt\n",
            "Removed invalid class ID 3 in gA_3_s2_ir_face_mp4-185_jpg.rf.9ca69bfe61298a4dc364c8bb697c8f75.txt\n",
            "Removed invalid class ID 3 in gA_5_s2_ir_face_mp4-71_jpg.rf.1f45d76952e695d4705589036fe9478c.txt\n",
            "Removed invalid class ID 3 in gA_5_s2_ir_face_mp4-76_jpg.rf.a2a7d7bd2bacc875b2519c353f2e1b55.txt\n",
            "Removed invalid class ID 4 in gA_5_s5_ir_face_mp4-101_jpg.rf.3aafbcd6d1d0a9cf438b71391b9524cc.txt\n",
            "Removed invalid class ID 3 in gB_6_s1_2019-03-11T13-55-14-01-00_ir_face_mp4-309_jpg.rf.6bbaba0431b0913d38c450e5c2aa1a2e.txt\n",
            "Removed invalid class ID 3 in gA_2_s1_ir_face_mp4-226_jpg.rf.c9a0e1457200768696be673a5419d92c.txt\n",
            "Removed invalid class ID 4 in gA_1_s5_ir_face_mp4-357_jpg.rf.02a640bacb2699370d7ff205af230088.txt\n",
            "Removed invalid class ID 3 in gA_2_s1_ir_face_mp4-206_jpg.rf.c5ff6880ee3bfe98c55b5b11329c8858.txt\n",
            "Removed invalid class ID 3 in gA_4_s2_ir_face_mp4-153_jpg.rf.bc63425c1b47e49a38bafb3c37b72ada.txt\n",
            "Removed invalid class ID 3 in gB_7_s1_2019-03-11T14-22-01-01-00_ir_face_mp4-202_jpg.rf.2917a73375071f0ce7946cd03547d3de.txt\n",
            "Removed invalid class ID 3 in gB_7_s1_2019-03-11T14-22-01-01-00_ir_face_mp4-41_jpg.rf.57a200c8ff9d2de2ef05627cecbc9379.txt\n",
            "Removed invalid class ID 3 in gA_5_s1_ir_face_mp4-154_jpg.rf.d408f1e12aff8bad4c694ac2cc099b8c.txt\n",
            "Removed invalid class ID 3 in gA_2_s1_ir_face_mp4-227_jpg.rf.74a104d9584a48b6f26750e05cef0357.txt\n",
            "Removed invalid class ID 3 in gA_3_s1_ir_face_mp4-104_jpg.rf.a13ce5f32a744e8427a40189ec104d31.txt\n",
            "Removed invalid class ID 4 in gB_7_s1_2019-03-11T14-22-01-01-00_ir_face_mp4-364_jpg.rf.70e3a384e43e116e8b6ee2cb9f28d160.txt\n",
            "Removed invalid class ID 3 in gA_4_s2_ir_face_mp4-151_jpg.rf.bdece4319d58a46abd5a3a3b6e95c294.txt\n",
            "Removed invalid class ID 3 in gA_4_s2_ir_face_mp4-46_jpg.rf.c24438c207c70e62beb1916ec658bb15.txt\n",
            "Removed invalid class ID 3 in gB_7_s1_2019-03-11T14-22-01-01-00_ir_face_mp4-281_jpg.rf.0a22fbf42a4f93fd8e2700ca5092f5e0.txt\n",
            "Removed invalid class ID 3 in gA_1_s1_ir_face_mp4-98_jpg.rf.c1e7d12dd1c8cdd92e4d44b32ebe2c6c.txt\n",
            "Removed invalid class ID 4 in gB_10_s5_2019-03-12T10-35-2001-00_ir_face_mp4-381_jpg.rf.fe905b8c698e93b98e41f977ef8dd631.txt\n",
            "Removed invalid class ID 3 in gB_8_s1_2019-03-11T15-01-33-01-00_ir_face_mp4-79_jpg.rf.70c4a07fb0a0811ef9626ee185574d89.txt\n",
            "Removed invalid class ID 3 in gB_7_s1_2019-03-11T14-22-01-01-00_ir_face_mp4-228_jpg.rf.7a964c4574772579b6d3e813407a201f.txt\n",
            "Removed invalid class ID 5 in gA_4_s5_ir_face_mp4-132_jpg.rf.d8952addb925539a263d5dc371f70b7d.txt\n",
            "Removed invalid class ID 3 in gB_8_s1_2019-03-11T15-01-33-01-00_ir_face_mp4-286_jpg.rf.70465d20e5a4571d9ce1baee835eb27a.txt\n",
            "Removed invalid class ID 3 in gB_7_s5_2019-03-13T13-55-5201-00_ir_face_mp4-62_jpg.rf.1b504700f36a5861dbf9012521482ba4.txt\n",
            "Removed invalid class ID 3 in gB_7_s1_2019-03-11T14-22-01-01-00_ir_face_mp4-81_jpg.rf.0256c3ea7a529457e8e5cc585c9c5f75.txt\n",
            "Removed invalid class ID 3 in gA_1_s1_ir_face_mp4-104_jpg.rf.1e8e21d81f54de71ec7f1e014565f7a2.txt\n",
            "Removed invalid class ID 4 in gB_9_s5_2019-03-07T16-31-4801-00_ir_face_mp4-81_jpg.rf.cf2520f2d904a9a17921c8f1cb145de2.txt\n",
            "Removed invalid class ID 3 in gA_5_s2_ir_face_mp4-171_jpg.rf.e15dc2ece9d87a6c56733a3b356238e4.txt\n",
            "Removed invalid class ID 3 in gA_2_s1_ir_face_mp4-173_jpg.rf.24b8b521975e445db12156670424c898.txt\n",
            "Removed invalid class ID 3 in gB_8_s1_2019-03-11T15-01-33-01-00_ir_face_mp4-335_jpg.rf.052313ae5027d6391f7bdb26b4b8ac8f.txt\n",
            "Removed invalid class ID 3 in gB_6_s5_2019-03-13T13-37-1101-00_ir_face_mp4-0_jpg.rf.58ca20465a84d63b009110d2fee0a702.txt\n",
            "Removed invalid class ID 3 in gB_6_s1_2019-03-11T13-55-14-01-00_ir_face_mp4-86_jpg.rf.8652e771f0010196f1d913bf346fe656.txt\n",
            "Removed invalid class ID 3 in gA_1_s2_ir_face_mp4-125_jpg.rf.2e316b61fc6678651c53f1643bae0899.txt\n",
            "Removed invalid class ID 3 in gA_4_s1_ir_face_mp4-218_jpg.rf.d5c5c458439c859b44f8fb35a5ff7621.txt\n",
            "Removed invalid class ID 3 in gB_7_s5_2019-03-13T13-55-5201-00_ir_face_mp4-264_jpg.rf.dc14db25c93b0e021f2bf02883f3f747.txt\n",
            "Removed invalid class ID 3 in gA_3_s2_ir_face_mp4-231_jpg.rf.6299e86e1e8448c49d51446834c54353.txt\n",
            "Removed invalid class ID 3 in gB_8_s1_2019-03-11T15-01-33-01-00_ir_face_mp4-4_jpg.rf.94c053a0b458a541fe60cadfee8209ee.txt\n",
            "Removed invalid class ID 3 in gB_6_s2_2019-03-11T13-46-14-01-00_ir_face_mp4-520_jpg.rf.ad838354cd575f0d5e565c5c85062bdf.txt\n",
            "Removed invalid class ID 4 in gA_1_s5_ir_face_mp4-82_jpg.rf.0f8af95e5f4b9736abb0955b34f1e91b.txt\n",
            "Removed invalid class ID 3 in gB_7_s5_2019-03-13T13-55-5201-00_ir_face_mp4-110_jpg.rf.03640898c742e77f95212939e97e75a2.txt\n",
            "Removed invalid class ID 3 in gB_8_s1_2019-03-11T15-01-33-01-00_ir_face_mp4-287_jpg.rf.958a19d0e9d993a745b02f58add2c158.txt\n",
            "Removed invalid class ID 4 in gA_4_s5_ir_face_mp4-316_jpg.rf.e67bfd459bdae68f1f675c388120c49e.txt\n",
            "Removed invalid class ID 3 in gA_4_s1_ir_face_mp4-192_jpg.rf.79a616632157135b721b9547e8984597.txt\n",
            "Removed invalid class ID 3 in gB_6_s1_2019-03-11T13-55-14-01-00_ir_face_mp4-214_jpg.rf.ab944a47a871d49ef9ddfcbdd332200e.txt\n",
            "Removed invalid class ID 3 in gA_3_s2_ir_face_mp4-177_jpg.rf.27c894bfae1efa4627db7ce6d26e869c.txt\n",
            "Removed invalid class ID 3 in gA_3_s2_ir_face_mp4-389_jpg.rf.c84449b348a1f7311cd89f49a79fc63f.txt\n",
            "Removed invalid class ID 3 in gA_5_s2_ir_face_mp4-177_jpg.rf.da65499432975fb9e610bb987026c67a.txt\n",
            "Removed invalid class ID 3 in gB_8_s2_2019-03-11T14-38-44-01-00_ir_face_mp4-213_jpg.rf.20a78b60a2112c6cb14785fbf8252dac.txt\n",
            "Removed invalid class ID 5 in gA_2_s5_ir_face_mp4-297_jpg.rf.901badf24168bed3e2daaed7a6b01811.txt\n",
            "Removed invalid class ID 4 in gB_9_s5_2019-03-07T16-31-4801-00_ir_face_mp4-278_jpg.rf.5bc53d533d24f8e96e87b80c21b57222.txt\n",
            "Removed invalid class ID 3 in gB_8_s1_2019-03-11T15-01-33-01-00_ir_face_mp4-44_jpg.rf.0520178095e47c2d9423661ede0825aa.txt\n",
            "Removed invalid class ID 3 in gA_4_s1_ir_face_mp4-173_jpg.rf.f00fad405b5ebecba520f47c64fd59d1.txt\n",
            "Removed invalid class ID 3 in gA_5_s2_ir_face_mp4-286_jpg.rf.1add1404ad4712d9eede01602fee9c6a.txt\n",
            "Removed invalid class ID 3 in gA_5_s1_ir_face_mp4-202_jpg.rf.1dce6a120c796a3067f37389148b0135.txt\n",
            "Removed invalid class ID 5 in gA_1_s5_ir_face_mp4-297_jpg.rf.c559a1734d799143a2acf72fc7f4b71a.txt\n",
            "Removed invalid class ID 3 in gA_2_s2_ir_face_mp4-15_jpg.rf.f1a7a364307547b859499e631be18b05.txt\n",
            "Removed invalid class ID 3 in gB_8_s2_2019-03-11T14-38-44-01-00_ir_face_mp4-369_jpg.rf.589dd6dfea6e420214a88804e637c706.txt\n",
            "Removed invalid class ID 3 in gB_6_s1_2019-03-11T13-55-14-01-00_ir_face_mp4-138_jpg.rf.43f218fed36bf4f8f7815a43f0e67710.txt\n",
            "Removed invalid class ID 3 in gB_10_s1_2019-03-11T15-24-54-01-00_ir_face_mp4-344_jpg.rf.a6065a28f29269e0448b133528ff6e69.txt\n",
            "Removed invalid class ID 3 in gB_9_s2_2019-03-07T16-21-20-01-00_ir_face_mp4-50_jpg.rf.048c51995dbbd9d91a17e0dfad6a2ca0.txt\n",
            "Removed invalid class ID 3 in gA_1_s1_ir_face_mp4-48_jpg.rf.89f6c212a9b05edb666e5876c508a456.txt\n",
            "Removed invalid class ID 3 in gA_5_s1_ir_face_mp4-68_jpg.rf.0d693c6220686fceebc9756ac6a4a34f.txt\n",
            "Removed invalid class ID 3 in gA_5_s2_ir_face_mp4-161_jpg.rf.ac5d378376140363104cdacbf45a70eb.txt\n",
            "Removed invalid class ID 3 in gB_6_s1_2019-03-11T13-55-14-01-00_ir_face_mp4-277_jpg.rf.f486611e53294a7c0407b457c951ca8d.txt\n",
            "Removed invalid class ID 3 in gA_5_s2_ir_face_mp4-289_jpg.rf.e36da28537308bf443657326086db7cf.txt\n",
            "Removed invalid class ID 3 in gA_5_s1_ir_face_mp4-225_jpg.rf.d9d0bd1b0603c13c3e39d9b51de34fcf.txt\n",
            "Removed invalid class ID 3 in gB_7_s1_2019-03-11T14-22-01-01-00_ir_face_mp4-227_jpg.rf.9cfcca584746e231f6a610ea0676ade4.txt\n",
            "Removed invalid class ID 3 in gB_8_s1_2019-03-11T15-01-33-01-00_ir_face_mp4-146_jpg.rf.cda024d02ec9509d3f2c40385e5e7cef.txt\n",
            "Removed invalid class ID 3 in gB_6_s5_2019-03-13T13-37-1101-00_ir_face_mp4-341_jpg.rf.f8711177acba506e17311f9bf575a9df.txt\n",
            "Removed invalid class ID 3 in gA_3_s2_ir_face_mp4-111_jpg.rf.e2b753f835ad18cce8ee6fdbdf302db4.txt\n",
            "Removed invalid class ID 3 in gA_5_s1_ir_face_mp4-208_jpg.rf.31b3a037ef48f3f451a3e738558f8101.txt\n",
            "Removed invalid class ID 3 in gA_2_s2_ir_face_mp4-457_jpg.rf.3d4972a2a9c7e9c76ca2bcc8289d0d4d.txt\n",
            "Removed invalid class ID 3 in gB_8_s1_2019-03-11T15-01-33-01-00_ir_face_mp4-336_jpg.rf.b7fefc9f37e80ed0cea8bfe6be7ccc23.txt\n",
            "Removed invalid class ID 3 in gA_5_s2_ir_face_mp4-75_jpg.rf.51010c44e61e4c1050cb0d6f367a3784.txt\n",
            "Removed invalid class ID 3 in gB_6_s1_2019-03-11T13-55-14-01-00_ir_face_mp4-219_jpg.rf.96be46925dd40a9f7445754a49b95774.txt\n",
            "Removed invalid class ID 3 in gA_3_s1_ir_face_mp4-202_jpg.rf.9e80bcdad382251f0242782f9859bde2.txt\n",
            "Removed invalid class ID 4 in gB_8_s5_2019-03-13T14-10-0901-00_ir_face_mp4-263_jpg.rf.4c076ac634726ddb77cd57ca69c4bb3e.txt\n",
            "Removed invalid class ID 3 in gA_3_s2_ir_face_mp4-94_jpg.rf.92054639c7cf8692fc3ae59891d1db47.txt\n",
            "Removed invalid class ID 5 in gB_9_s5_2019-03-07T16-31-4801-00_ir_face_mp4-233_jpg.rf.e8154bb56d50cc19c2906149b5c47755.txt\n",
            "Removed invalid class ID 3 in gA_5_s1_ir_face_mp4-8_jpg.rf.9e5c27c607b89696081052576b53baf3.txt\n",
            "Removed invalid class ID 3 in gA_2_s2_ir_face_mp4-50_jpg.rf.059cc33b2b70b6ff58df73f66aa73056.txt\n",
            "Removed invalid class ID 4 in gA_1_s5_ir_face_mp4-281_jpg.rf.0d993feffd6d66cca7edee75679f04d8.txt\n",
            "Removed invalid class ID 5 in gB_7_s5_2019-03-13T13-55-5201-00_ir_face_mp4-153_jpg.rf.73cbe0a3a63fc0726fcce1643c8dc738.txt\n",
            "Removed invalid class ID 3 in gB_7_s1_2019-03-11T14-22-01-01-00_ir_face_mp4-322_jpg.rf.b7824b8a180fdb17076e4348dfa7e58d.txt\n",
            "Removed invalid class ID 3 in gA_3_s2_ir_face_mp4-119_jpg.rf.6c1019d4343f9937084b83a841c9e391.txt\n",
            "Removed invalid class ID 3 in gB_7_s5_2019-03-13T13-55-5201-00_ir_face_mp4-41_jpg.rf.77eccf350e509924441005ba09ccaf36.txt\n",
            "Removed invalid class ID 3 in gA_4_s2_ir_face_mp4-353_jpg.rf.ae45b13014d99a47c8c45b291aab39b9.txt\n",
            "Removed invalid class ID 3 in gA_1_s2_ir_face_mp4-440_jpg.rf.f102ccab292682bf65b3f45e9fd84807.txt\n",
            "Removed invalid class ID 3 in gA_2_s5_ir_face_mp4-156_jpg.rf.fa74ff813da2f3e159a02922cd4a4768.txt\n",
            "Removed invalid class ID 3 in gA_4_s2_ir_face_mp4-43_jpg.rf.0f9410f7a9efe7a7417b8e817dee0610.txt\n",
            "Removed invalid class ID 4 in gB_9_s5_2019-03-07T16-31-4801-00_ir_face_mp4-198_jpg.rf.8a33a9a5d7d655cadb619e8024a54b47.txt\n",
            "Removed invalid class ID 3 in gB_6_s1_2019-03-11T13-55-14-01-00_ir_face_mp4-85_jpg.rf.069e94518a07cee9e9309d670b5f5592.txt\n",
            "Removed invalid class ID 3 in gA_5_s2_ir_face_mp4-313_jpg.rf.d1267d7aa5d0bc4ba77e4fe9f77e26cb.txt\n",
            "Removed invalid class ID 3 in gB_7_s5_2019-03-13T13-55-5201-00_ir_face_mp4-349_jpg.rf.ce9205e31cdc9c20fd8224c1b427fd04.txt\n",
            "Removed invalid class ID 3 in gB_8_s1_2019-03-11T15-01-33-01-00_ir_face_mp4-159_jpg.rf.79b5b63fd3e7b68c60cbe373fd14ce22.txt\n",
            "Removed invalid class ID 3 in gB_6_s1_2019-03-11T13-55-14-01-00_ir_face_mp4-285_jpg.rf.65a5378a940d9bc253fffd905e226906.txt\n",
            "Removed invalid class ID 3 in gA_5_s2_ir_face_mp4-417_jpg.rf.789e31c3707fc6da8893b9b649f4471f.txt\n",
            "Removed invalid class ID 3 in gB_8_s1_2019-03-11T15-01-33-01-00_ir_face_mp4-310_jpg.rf.73670f59b9f067b39f4143bd42ae0adb.txt\n",
            "Removed invalid class ID 3 in gA_2_s2_ir_face_mp4-456_jpg.rf.a4bfce4eb74b9896d42fc728bf4a4ce6.txt\n",
            "Removed invalid class ID 3 in gA_3_s2_ir_face_mp4-41_jpg.rf.e17f00bc5debc96e4fab00ea3c7f2b1b.txt\n",
            "Removed invalid class ID 3 in gA_5_s1_ir_face_mp4-4_jpg.rf.f2bba6e4a1ebaf3280f74898e67d1480.txt\n",
            "Removed invalid class ID 3 in gA_2_s2_ir_face_mp4-164_jpg.rf.d904228e22232cfc7348d2f1e85304f6.txt\n",
            "Removed invalid class ID 3 in gA_4_s2_ir_face_mp4-111_jpg.rf.bb6cdb6a5f65540e5ff46c5efadd6f28.txt\n",
            "Removed invalid class ID 5 in gB_8_s5_2019-03-13T14-10-0901-00_ir_face_mp4-84_jpg.rf.4bd66fb6b7f894bfc5a707c69784a279.txt\n",
            "Removed invalid class ID 5 in gB_10_s5_2019-03-12T10-35-2001-00_ir_face_mp4-82_jpg.rf.b8fc77b66e81a520c171b3cdfe3bfe7f.txt\n",
            "Removed invalid class ID 3 in gB_8_s1_2019-03-11T15-01-33-01-00_ir_face_mp4-393_jpg.rf.9f2df06060ecc1973f7338e59c707125.txt\n",
            "Removed invalid class ID 3 in gA_5_s5_ir_face_mp4-30_jpg.rf.a0ed7a5dd4d74e2bcb0b5832500a1bf8.txt\n",
            "Removed invalid class ID 3 in gB_8_s1_2019-03-11T15-01-33-01-00_ir_face_mp4-342_jpg.rf.c3b301c8b23b718419ede2a5090a9f21.txt\n",
            "Removed invalid class ID 4 in gA_5_s5_ir_face_mp4-230_jpg.rf.e886582bc222db92260116bba94497f4.txt\n",
            "Removed invalid class ID 4 in gB_9_s5_2019-03-07T16-31-4801-00_ir_face_mp4-277_jpg.rf.03d4a516963379ae0b28b5f81ad5fd19.txt\n",
            "Removed invalid class ID 4 in gB_7_s5_2019-03-13T13-55-5201-00_ir_face_mp4-226_jpg.rf.6c8c8a441a4f64c7d73cf34fe525bfba.txt\n",
            "Removed invalid class ID 3 in gA_1_s2_ir_face_mp4-320_jpg.rf.edecebfd5c7b53f3b3c2e66eda1dd395.txt\n",
            "Removed invalid class ID 3 in gB_7_s1_2019-03-11T14-22-01-01-00_ir_face_mp4-198_jpg.rf.f949385bdcf425656587eb17be4d04b6.txt\n",
            "Removed invalid class ID 3 in gA_3_s1_ir_face_mp4-207_jpg.rf.6d3aaf79d8acccf15c4e7e3c4e2662c5.txt\n",
            "Removed invalid class ID 3 in gB_6_s1_2019-03-11T13-55-14-01-00_ir_face_mp4-152_jpg.rf.e269a0ebd366e4c5d73cd660bc29d41a.txt\n",
            "Removed invalid class ID 3 in gB_6_s2_2019-03-11T13-46-14-01-00_ir_face_mp4-960_jpg.rf.9a784ba2083ed570d055a4986f72f514.txt\n",
            "Removed invalid class ID 3 in gA_3_s2_ir_face_mp4-88_jpg.rf.289bc728692b6ae380d7330355baba59.txt\n",
            "Removed invalid class ID 3 in gA_4_s2_ir_face_mp4-230_jpg.rf.fe2b625779d315728ac0ed5e28767977.txt\n",
            "Removed invalid class ID 3 in gB_6_s1_2019-03-11T13-55-14-01-00_ir_face_mp4-419_jpg.rf.9a846ead787ba326f0308e18c33f1f12.txt\n",
            "Removed invalid class ID 3 in gB_6_s2_2019-03-11T13-46-14-01-00_ir_face_mp4-14_jpg.rf.e9ec6bc2484731ca9974f7bd776c185f.txt\n",
            "Removed invalid class ID 5 in gA_1_s5_ir_face_mp4-93_jpg.rf.649be7bc6a9cc3ee2b4b429424b5e9bf.txt\n",
            "Removed invalid class ID 3 in gA_2_s2_ir_face_mp4-152_jpg.rf.3bc9ec8e05e772cf556cd7cf072ac65d.txt\n",
            "Removed invalid class ID 3 in gB_8_s1_2019-03-11T15-01-33-01-00_ir_face_mp4-367_jpg.rf.43dd2237a62e194896559346e0a3dbbd.txt\n",
            "Removed invalid class ID 3 in gA_2_s5_ir_face_mp4-134_jpg.rf.454e1335b8ceffe729db0e197e664607.txt\n",
            "Removed invalid class ID 3 in gB_8_s1_2019-03-11T15-01-33-01-00_ir_face_mp4-137_jpg.rf.05e1c22b672e5cbb9a8b83c3b5541ec8.txt\n",
            "Removed invalid class ID 3 in gA_3_s1_ir_face_mp4-158_jpg.rf.30583a406c494e1ac5d0e41c3116ecf6.txt\n",
            "Removed invalid class ID 3 in gA_2_s1_ir_face_mp4-113_jpg.rf.fbdf9b8999599b733fa954a087bb8242.txt\n",
            "Removed invalid class ID 3 in gA_4_s1_ir_face_mp4-103_jpg.rf.6d44996dce7d5681c4d3b81ba41d2521.txt\n",
            "Removed invalid class ID 3 in gB_10_s5_2019-03-12T10-35-2001-00_ir_face_mp4-390_jpg.rf.754fcfd262bbb5201eb0153647907da9.txt\n",
            "Removed invalid class ID 3 in gB_6_s2_2019-03-11T13-46-14-01-00_ir_face_mp4-490_jpg.rf.80498ff3172077f7bf05c05b7143318b.txt\n",
            "Removed invalid class ID 5 in gA_5_s5_ir_face_mp4-260_jpg.rf.34071a958ec7b80d4e3b41ebe3f35611.txt\n",
            "Removed invalid class ID 3 in gB_7_s5_2019-03-13T13-55-5201-00_ir_face_mp4-140_jpg.rf.42ad1a07b1c37555f7f3dfbbcbadc24e.txt\n",
            "Removed invalid class ID 3 in gB_6_s1_2019-03-11T13-55-14-01-00_ir_face_mp4-203_jpg.rf.4da6fd0e0593bea9349ed8ff235844d3.txt\n",
            "Removed invalid class ID 3 in gA_4_s1_ir_face_mp4-177_jpg.rf.461bd4989b5f5a9953b44f74ce6d797c.txt\n",
            "Removed invalid class ID 4 in gB_9_s5_2019-03-07T16-31-4801-00_ir_face_mp4-80_jpg.rf.5b6ad59e8d0957bb24ecb744a1af0702.txt\n",
            "Removed invalid class ID 3 in gA_3_s1_ir_face_mp4-180_jpg.rf.e53ddb196b56de9f58eea3bd668ba5ef.txt\n",
            "Removed invalid class ID 3 in gA_2_s2_ir_face_mp4-153_jpg.rf.6a70e27c172aedbf6f690aacd2fc1454.txt\n",
            "Removed invalid class ID 3 in gB_10_s1_2019-03-11T15-24-54-01-00_ir_face_mp4-19_jpg.rf.daf6005ef781913f28b68664aa62bd06.txt\n",
            "Removed invalid class ID 3 in gA_2_s1_ir_face_mp4-209_jpg.rf.03d1ef232d9e212b6a7aa72b70bfbb7b.txt\n",
            "Removed invalid class ID 3 in gB_7_s5_2019-03-13T13-55-5201-00_ir_face_mp4-75_jpg.rf.a45cac4125c0383455080a6767f87e42.txt\n",
            "Removed invalid class ID 4 in gA_5_s5_ir_face_mp4-235_jpg.rf.2709d319f06373753a1290f33ba50de6.txt\n",
            "Removed invalid class ID 3 in gB_10_s1_2019-03-11T15-24-54-01-00_ir_face_mp4-125_jpg.rf.a512e4a7f2545e708e468208370dd726.txt\n",
            "Removed invalid class ID 3 in gB_8_s1_2019-03-11T15-01-33-01-00_ir_face_mp4-304_jpg.rf.672eb93c386548c1da3c9a86246bb38c.txt\n",
            "Removed invalid class ID 3 in gB_7_s1_2019-03-11T14-22-01-01-00_ir_face_mp4-225_jpg.rf.ab24503d67bfc4092b19ebfa42e72e0d.txt\n",
            "Removed invalid class ID 3 in gA_3_s1_ir_face_mp4-110_jpg.rf.28a9fc4d5aac50d9a666a88bac9231cf.txt\n",
            "Removed invalid class ID 3 in gA_4_s1_ir_face_mp4-97_jpg.rf.974d4d6a97983d5ffb90e27822325a96.txt\n",
            "Removed invalid class ID 3 in gB_7_s5_2019-03-13T13-55-5201-00_ir_face_mp4-325_jpg.rf.3dda76cec85335b7afae9dc1a37f9e93.txt\n",
            "Removed invalid class ID 5 in gB_9_s5_2019-03-07T16-31-4801-00_ir_face_mp4-132_jpg.rf.aee47a469dcc40db1a028fc6017b8062.txt\n",
            "Removed invalid class ID 3 in gA_1_s2_ir_face_mp4-184_jpg.rf.569e932e1f159e82a569935b798f4364.txt\n",
            "Removed invalid class ID 3 in gB_8_s1_2019-03-11T15-01-33-01-00_ir_face_mp4-427_jpg.rf.3754edffe18476777d130ab5df0ae615.txt\n",
            "Removed invalid class ID 3 in gA_3_s2_ir_face_mp4-117_jpg.rf.3551d4bbd71ef9f942042d057d3cad22.txt\n",
            "Removed invalid class ID 3 in gB_7_s1_2019-03-11T14-22-01-01-00_ir_face_mp4-424_jpg.rf.a73b2e50592957a51f8106050123f257.txt\n",
            "Removed invalid class ID 3 in gB_8_s2_2019-03-11T14-38-44-01-00_ir_face_mp4-806_jpg.rf.163d9e0023dd2c464292cd6fdfc3461b.txt\n",
            "Removed invalid class ID 3 in gB_6_s1_2019-03-11T13-55-14-01-00_ir_face_mp4-56_jpg.rf.133900c6b6285c3bf34db001fe0f0ea9.txt\n",
            "Removed invalid class ID 3 in gB_9_s1_2019-03-07T16-36-24-01-00_ir_face_mp4-383_jpg.rf.c1dadbb926a116bb0e9fbc280c06e466.txt\n",
            "Removed invalid class ID 3 in gB_7_s5_2019-03-13T13-55-5201-00_ir_face_mp4-121_jpg.rf.f87709986cdc897312264b418bbcd59d.txt\n",
            "Removed invalid class ID 3 in gA_4_s1_ir_face_mp4-87_jpg.rf.51da4c2549cb4a83b96be972974f5bf7.txt\n",
            "Removed invalid class ID 4 in gB_6_s5_2019-03-13T13-37-1101-00_ir_face_mp4-158_jpg.rf.2776dd00160886074eedfada080b98d0.txt\n",
            "Removed invalid class ID 3 in gB_6_s1_2019-03-11T13-55-14-01-00_ir_face_mp4-149_jpg.rf.410220adf38828631065ddb23198096e.txt\n",
            "Removed invalid class ID 3 in gA_5_s2_ir_face_mp4-389_jpg.rf.fdd1f89aea49c0155128a4d4e46a7d41.txt\n",
            "Removed invalid class ID 3 in gB_6_s5_2019-03-13T13-37-1101-00_ir_face_mp4-18_jpg.rf.adc841640debc2f70a44529a09834367.txt\n",
            "Removed invalid class ID 3 in gA_1_s2_ir_face_mp4-121_jpg.rf.af15ac2863390f72c995299a0f58aefd.txt\n",
            "Removed invalid class ID 3 in gA_2_s2_ir_face_mp4-251_jpg.rf.70f310a70f18d8feb6b541dfb4f44582.txt\n",
            "Removed invalid class ID 3 in gA_2_s1_ir_face_mp4-104_jpg.rf.ea0876fd1af33290fa6f3e00db2503fd.txt\n",
            "Removed invalid class ID 3 in gB_6_s1_2019-03-11T13-55-14-01-00_ir_face_mp4-136_jpg.rf.09de61ae9a5c45c199772bb3ee282516.txt\n",
            "Removed invalid class ID 3 in gA_3_s2_ir_face_mp4-93_jpg.rf.181441b46c9740f4da30d3f6a9024b6e.txt\n",
            "Removed invalid class ID 4 in gA_2_s5_ir_face_mp4-154_jpg.rf.ee218e865b4b5c9471280d04ad324ba9.txt\n",
            "Removed invalid class ID 3 in gA_1_s1_ir_face_mp4-171_jpg.rf.4b2932393883918af5485da591afb034.txt\n",
            "Removed invalid class ID 3 in gB_6_s1_2019-03-11T13-55-14-01-00_ir_face_mp4-102_jpg.rf.ede09d50df428d70fbd942992e0eb6c8.txt\n",
            "Removed invalid class ID 3 in gB_7_s5_2019-03-13T13-55-5201-00_ir_face_mp4-55_jpg.rf.baa0b19d1f30a28d954f247f34178b05.txt\n",
            "Removed invalid class ID 3 in gB_6_s5_2019-03-13T13-37-1101-00_ir_face_mp4-10_jpg.rf.f4040c61a700f9a3de8c4f441b4af3fb.txt\n",
            "Removed invalid class ID 3 in gB_7_s5_2019-03-13T13-55-5201-00_ir_face_mp4-338_jpg.rf.dd837ae04cd05069736397d556e8b00a.txt\n",
            "Removed invalid class ID 3 in gA_2_s1_ir_face_mp4-98_jpg.rf.bf93de8feed76d0734dc19cc604fc93b.txt\n",
            "Removed invalid class ID 4 in gB_10_s5_2019-03-12T10-35-2001-00_ir_face_mp4-379_jpg.rf.ea92263506674a6bcc884561b597cf5e.txt\n",
            "Removed invalid class ID 3 in gA_3_s1_ir_face_mp4-74_jpg.rf.85b75ab340145c7e2fbba2f9c04a26e6.txt\n",
            "Removed invalid class ID 3 in gA_3_s2_ir_face_mp4-27_jpg.rf.4cba9acc567dfea550f51a12c007a19a.txt\n",
            "Removed invalid class ID 3 in gA_4_s1_ir_face_mp4-241_jpg.rf.8408e60cf84cf46bccbe28b0604c2185.txt\n",
            "Removed invalid class ID 3 in gA_1_s2_ir_face_mp4-349_jpg.rf.58a00dc6730b1c2acd036dd3b2450d16.txt\n",
            "Removed invalid class ID 3 in gB_7_s1_2019-03-11T14-22-01-01-00_ir_face_mp4-50_jpg.rf.89d5ccd3ac832817add40a004fd748f4.txt\n",
            "Removed invalid class ID 4 in gA_2_s5_ir_face_mp4-259_jpg.rf.5fbba5a91992c592c0e6071455ee503b.txt\n",
            "Removed invalid class ID 4 in gA_4_s5_ir_face_mp4-268_jpg.rf.8bb9ad69d9cdfda05478cc120d2ae812.txt\n",
            "Removed invalid class ID 3 in gA_3_s1_ir_face_mp4-177_jpg.rf.60c64f03eb3a37e159bf44baeecfd432.txt\n",
            "Removed invalid class ID 3 in gA_4_s2_ir_face_mp4-365_jpg.rf.28342d4049dce3ea6130797db1033573.txt\n",
            "Removed invalid class ID 3 in gB_6_s1_2019-03-11T13-55-14-01-00_ir_face_mp4-58_jpg.rf.c6e218b18b6d7a94c6b64b6332ffe6e3.txt\n",
            "Removed invalid class ID 3 in gB_6_s1_2019-03-11T13-55-14-01-00_ir_face_mp4-104_jpg.rf.a223c42fb31e45bdf3483d44cc754249.txt\n",
            "Removed invalid class ID 3 in gA_3_s1_ir_face_mp4-174_jpg.rf.0fc224030d657b82c2073b21b2d9352b.txt\n",
            "Removed invalid class ID 3 in gA_1_s1_ir_face_mp4-225_jpg.rf.5d05b7088915dc0dab59114eedfc0038.txt\n",
            "Removed invalid class ID 3 in gA_2_s1_ir_face_mp4-18_jpg.rf.65508e27d2e73de8958a94dfc2725e22.txt\n",
            "Removed invalid class ID 3 in gB_6_s2_2019-03-11T13-46-14-01-00_ir_face_mp4-507_jpg.rf.8a24b82722c8cd9b3f1388382de00281.txt\n",
            "Removed invalid class ID 3 in gA_1_s1_ir_face_mp4-176_jpg.rf.9ff16eb3aa35b2d30b354768f1a12970.txt\n",
            "Removed invalid class ID 3 in gB_7_s1_2019-03-11T14-22-01-01-00_ir_face_mp4-286_jpg.rf.96396a68f6d69408103552bc23741b93.txt\n",
            "Removed invalid class ID 4 in gB_9_s5_2019-03-07T16-31-4801-00_ir_face_mp4-145_jpg.rf.8161112403f79f6180810bbb587b1cfd.txt\n",
            "Removed invalid class ID 5 in gB_7_s5_2019-03-13T13-55-5201-00_ir_face_mp4-244_jpg.rf.6e24e1da75660d251fa33ca4cebc63b5.txt\n",
            "Removed invalid class ID 3 in gB_8_s1_2019-03-11T15-01-33-01-00_ir_face_mp4-121_jpg.rf.bead7075c85c7335ce1c684e8b6d052e.txt\n",
            "Removed invalid class ID 3 in gA_3_s2_ir_face_mp4-131_jpg.rf.446213de5f95f16a326cc7459cc6fd0a.txt\n",
            "Removed invalid class ID 3 in gB_6_s5_2019-03-13T13-37-1101-00_ir_face_mp4-105_jpg.rf.ae099c719d02e5c34f0102dceb00e2a7.txt\n",
            "Removed invalid class ID 4 in gB_7_s5_2019-03-13T13-55-5201-00_ir_face_mp4-222_jpg.rf.5f2aa6553496d1d4757ac58ff58f3408.txt\n",
            "Removed invalid class ID 3 in gB_7_s1_2019-03-11T14-22-01-01-00_ir_face_mp4-36_jpg.rf.c6f8b57f97db66fc9a3b36e3035c4757.txt\n",
            "Removed invalid class ID 3 in gA_4_s1_ir_face_mp4-135_jpg.rf.886666b9b33f2ccf635c0e5e44c8f2e6.txt\n",
            "Removed invalid class ID 3 in gB_8_s1_2019-03-11T15-01-33-01-00_ir_face_mp4-391_jpg.rf.479d9bb48d0e4a4aea15437d25cee373.txt\n",
            "Removed invalid class ID 3 in gB_6_s1_2019-03-11T13-55-14-01-00_ir_face_mp4-258_jpg.rf.6c59da5413391442209c33b988196a2f.txt\n",
            "Removed invalid class ID 3 in gB_8_s2_2019-03-11T14-38-44-01-00_ir_face_mp4-31_jpg.rf.7dec6802cccb60fc8c2039a848250f28.txt\n",
            "Removed invalid class ID 3 in gB_6_s2_2019-03-11T13-46-14-01-00_ir_face_mp4-426_jpg.rf.64c0866f0bc7c680e56decfa5bc621a5.txt\n",
            "Removed invalid class ID 5 in gB_8_s5_2019-03-13T14-10-0901-00_ir_face_mp4-291_jpg.rf.a08fb5f3c643bebfd5dc5fc6ee005d27.txt\n",
            "Removed invalid class ID 4 in gA_4_s5_ir_face_mp4-167_jpg.rf.d5746cd42656e891a311a151ebb54403.txt\n",
            "Removed invalid class ID 3 in gB_9_s5_2019-03-07T16-31-4801-00_ir_face_mp4-144_jpg.rf.da5f2e2e891b1fd23ac2424e3d4f3411.txt\n",
            "Removed invalid class ID 3 in gA_3_s1_ir_face_mp4-216_jpg.rf.51aacf10eb047b940f70e70b7eb4009f.txt\n",
            "Removed invalid class ID 3 in gB_6_s5_2019-03-13T13-37-1101-00_ir_face_mp4-285_jpg.rf.1a8e5948464c0932f7c0f037ab3f2008.txt\n",
            "Removed invalid class ID 3 in gB_6_s1_2019-03-11T13-55-14-01-00_ir_face_mp4-34_jpg.rf.840233f04bdecf39c82d353b91b3ff6e.txt\n",
            "Removed invalid class ID 3 in gA_4_s2_ir_face_mp4-319_jpg.rf.84bbb61ff78bb8bf23561dcf7a312f2f.txt\n",
            "Removed invalid class ID 3 in gB_10_s1_2019-03-11T15-24-54-01-00_ir_face_mp4-159_jpg.rf.df2ecf44b55ad8609dce69af1d1597f9.txt\n",
            "Removed invalid class ID 3 in gB_6_s5_2019-03-13T13-37-1101-00_ir_face_mp4-41_jpg.rf.a984265182be10f7c290fa8df5b17518.txt\n",
            "Removed invalid class ID 3 in gB_10_s1_2019-03-11T15-24-54-01-00_ir_face_mp4-352_jpg.rf.2f04dcb24a983539c20abd58c1fcdf06.txt\n",
            "Removed invalid class ID 4 in gB_7_s5_2019-03-13T13-55-5201-00_ir_face_mp4-201_jpg.rf.58ef3468e9cd24291a8e9cffd2c7278e.txt\n",
            "Removed invalid class ID 3 in gA_2_s2_ir_face_mp4-454_jpg.rf.46d6885137119772aef4ce12191de055.txt\n",
            "Removed invalid class ID 3 in gA_2_s2_ir_face_mp4-387_jpg.rf.37237d9857917227044a929870ac4d62.txt\n",
            "Removed invalid class ID 4 in gB_8_s5_2019-03-13T14-10-0901-00_ir_face_mp4-198_jpg.rf.b48f7b3a038c5c822ed99442049afab8.txt\n",
            "Removed invalid class ID 3 in gB_7_s5_2019-03-13T13-55-5201-00_ir_face_mp4-72_jpg.rf.f92c80d9b776cf4a7220fdae316acf72.txt\n",
            "Removed invalid class ID 3 in gB_7_s2_2019-03-11T14-12-25-01-00_ir_face_mp4-892_jpg.rf.49e3818443a1defa366f980633ef1f7b.txt\n",
            "Removed invalid class ID 3 in gB_9_s1_2019-03-07T16-36-24-01-00_ir_face_mp4-340_jpg.rf.6b822e78b1dcdbfd5e3f5f00e2c79183.txt\n",
            "Removed invalid class ID 4 in gA_5_s5_ir_face_mp4-326_jpg.rf.c3b667513d7e1e28762331a1250ff746.txt\n",
            "Removed invalid class ID 5 in gB_7_s5_2019-03-13T13-55-5201-00_ir_face_mp4-308_jpg.rf.c26cc851e8811a97f8699e5c954f801d.txt\n",
            "Removed invalid class ID 3 in gB_6_s1_2019-03-11T13-55-14-01-00_ir_face_mp4-391_jpg.rf.858376691f123b59ae3379bcee44ba19.txt\n",
            "Removed invalid class ID 3 in gB_6_s5_2019-03-13T13-37-1101-00_ir_face_mp4-288_jpg.rf.45a91e82c852fad4dcfc0c094aaeb368.txt\n",
            "Removed invalid class ID 4 in gB_8_s5_2019-03-13T14-10-0901-00_ir_face_mp4-57_jpg.rf.e6d065c51bd04cce0153812b3b03eb45.txt\n",
            "Removed invalid class ID 4 in gB_10_s5_2019-03-12T10-35-2001-00_ir_face_mp4-185_jpg.rf.4b4a0d0c40ad05f870566f4171c5c750.txt\n",
            "Removed invalid class ID 3 in gB_7_s1_2019-03-11T14-22-01-01-00_ir_face_mp4-269_jpg.rf.67f32ec209f548745d543d8fc70d3695.txt\n",
            "Removed invalid class ID 3 in gA_3_s1_ir_face_mp4-229_jpg.rf.af78c1276540581a895053c9aeaee1b7.txt\n",
            "Removed invalid class ID 3 in gA_5_s1_ir_face_mp4-83_jpg.rf.711e038bf08d8a5621548c05ea225e4e.txt\n",
            "Removed invalid class ID 4 in gA_4_s5_ir_face_mp4-110_jpg.rf.d1f2eb77272ac1275e6a1589d8104236.txt\n",
            "Removed invalid class ID 3 in gA_4_s2_ir_face_mp4-2_jpg.rf.ea0da5d2385b9b3e9b501f3f2ee9fa1e.txt\n",
            "Removed invalid class ID 3 in gB_6_s2_2019-03-11T13-46-14-01-00_ir_face_mp4-699_jpg.rf.87b963578db55a6e1c790f88a22fac52.txt\n",
            "Removed invalid class ID 3 in gB_9_s5_2019-03-07T16-31-4801-00_ir_face_mp4-77_jpg.rf.2c5dea0eba520905c4e6edf9d1be7e52.txt\n",
            "Removed invalid class ID 3 in gA_2_s2_ir_face_mp4-290_jpg.rf.c2f784dedf223705c15e07c25b1edaf3.txt\n",
            "Removed invalid class ID 3 in gA_5_s1_ir_face_mp4-10_jpg.rf.39cd877cc1a1a59eed93788d76a8045e.txt\n",
            "Removed invalid class ID 3 in gB_10_s2_2019-03-11T15-15-21-01-00_ir_face_mp4-12_jpg.rf.c8df6224c0da8494ce0a3f4c4c7b06f0.txt\n",
            "Removed invalid class ID 3 in gA_1_s1_ir_face_mp4-130_jpg.rf.cee21518b5c9fd209240d2154216dda7.txt\n",
            "Removed invalid class ID 3 in gA_4_s1_ir_face_mp4-128_jpg.rf.f625bb9bc8b942e6932772b68585d147.txt\n",
            "Removed invalid class ID 3 in gA_1_s1_ir_face_mp4-200_jpg.rf.49eb9dc83ba08f7766c43573c099e78d.txt\n",
            "Removed invalid class ID 5 in gA_1_s5_ir_face_mp4-162_jpg.rf.686e2484249b449aebc02713058f8e5c.txt\n",
            "Removed invalid class ID 3 in gA_1_s2_ir_face_mp4-110_jpg.rf.c7e98cee537750854e5341e0ea277ec6.txt\n",
            "Removed invalid class ID 3 in gA_3_s2_ir_face_mp4-383_jpg.rf.7859561fb8be953d8dd82bece02a673e.txt\n",
            "Removed invalid class ID 3 in gA_4_s2_ir_face_mp4-12_jpg.rf.095ad1f5e1bc66b007f07491c485f6f6.txt\n",
            "Removed invalid class ID 3 in gA_3_s2_ir_face_mp4-125_jpg.rf.4e8895db657794759c5382ed25d5a30b.txt\n",
            "Removed invalid class ID 3 in gB_6_s5_2019-03-13T13-37-1101-00_ir_face_mp4-36_jpg.rf.5efdded5a1d737d6039c7368016f285c.txt\n",
            "Removed invalid class ID 3 in gB_10_s1_2019-03-11T15-24-54-01-00_ir_face_mp4-253_jpg.rf.7c1a683dda99928cf39ca5251edc1391.txt\n",
            "Removed invalid class ID 3 in gB_9_s1_2019-03-07T16-36-24-01-00_ir_face_mp4-0_jpg.rf.f50eb07a42ab693609cb91f9af0048c4.txt\n",
            "Removed invalid class ID 3 in gB_8_s1_2019-03-11T15-01-33-01-00_ir_face_mp4-83_jpg.rf.6f6506e10ea72419acee1849d0f66925.txt\n",
            "Removed invalid class ID 3 in gB_8_s2_2019-03-11T14-38-44-01-00_ir_face_mp4-846_jpg.rf.6801021d62b6da394718cfd698ff2be0.txt\n",
            "Removed invalid class ID 3 in gB_7_s1_2019-03-11T14-22-01-01-00_ir_face_mp4-179_jpg.rf.acd3716518821060776b8bc08ad197b5.txt\n",
            "Removed invalid class ID 3 in gB_8_s2_2019-03-11T14-38-44-01-00_ir_face_mp4-861_jpg.rf.f3fa55d9f9b45ae2ebdfed5146365bbf.txt\n",
            "Removed invalid class ID 3 in gB_7_s5_2019-03-13T13-55-5201-00_ir_face_mp4-334_jpg.rf.069dc99cae8a207f0906ab4fac7a09f8.txt\n",
            "Removed invalid class ID 3 in gB_7_s5_2019-03-13T13-55-5201-00_ir_face_mp4-206_jpg.rf.ed65d63130ccf00fc9e94c18cd137242.txt\n",
            "Removed invalid class ID 3 in gB_6_s5_2019-03-13T13-37-1101-00_ir_face_mp4-39_jpg.rf.aa8d601f2e4e7da8c051dcc7b6bea409.txt\n",
            "Removed invalid class ID 5 in gA_4_s5_ir_face_mp4-266_jpg.rf.9ed37c392abd74ebcfafcee693c80e3d.txt\n",
            "Removed invalid class ID 3 in gA_5_s1_ir_face_mp4-151_jpg.rf.7158157542a8b5e88c0364e14c32780c.txt\n",
            "Removed invalid class ID 3 in gA_4_s1_ir_face_mp4-80_jpg.rf.5d08d456ee4ae44bd7c19d30d77b6464.txt\n",
            "Removed invalid class ID 4 in gB_7_s5_2019-03-13T13-55-5201-00_ir_face_mp4-136_jpg.rf.a96310ce0fbca873da59d2e60e0c0d5d.txt\n",
            "Removed invalid class ID 4 in gA_3_s5_ir_face_mp4-33_jpg.rf.9eae9e9e7fc6552cfa17ece82075efb7.txt\n",
            "Removed invalid class ID 3 in gA_5_s1_ir_face_mp4-157_jpg.rf.84af0a6e7086e6314b7316ad5cb5ecc6.txt\n",
            "Removed invalid class ID 4 in gA_1_s5_ir_face_mp4-134_jpg.rf.a19932d0530d9296927756517b783133.txt\n",
            "Removed invalid class ID 3 in gA_5_s1_ir_face_mp4-156_jpg.rf.8bc8a475b6125d71da0da7764ca2335f.txt\n",
            "Removed invalid class ID 3 in gB_6_s1_2019-03-11T13-55-14-01-00_ir_face_mp4-133_jpg.rf.c37a158641704746f88b6997f2d0cef3.txt\n",
            "Removed invalid class ID 3 in gA_2_s1_ir_face_mp4-80_jpg.rf.9dac7cf02682fc9af4fa363e277fbc77.txt\n",
            "Removed invalid class ID 4 in gA_3_s5_ir_face_mp4-82_jpg.rf.ae2572b28e252cc63ffacdaf03ecbef0.txt\n",
            "Removed invalid class ID 3 in gB_7_s5_2019-03-13T13-55-5201-00_ir_face_mp4-279_jpg.rf.698c256ebbc59a333171f838dcbb8595.txt\n",
            "Removed invalid class ID 4 in gA_4_s5_ir_face_mp4-284_jpg.rf.2ae291062bd16e706e55e08acf3540ef.txt\n",
            "Removed invalid class ID 3 in gB_8_s1_2019-03-11T15-01-33-01-00_ir_face_mp4-28_jpg.rf.427c8298b9b91402973f2a4954cb28ed.txt\n",
            "Removed invalid class ID 5 in gB_7_s5_2019-03-13T13-55-5201-00_ir_face_mp4-242_jpg.rf.3f47077884f443869a1f4c7a76afe844.txt\n",
            "Removed invalid class ID 3 in gA_4_s2_ir_face_mp4-5_jpg.rf.91532d0ace21cba89f5a3764d14bb1fb.txt\n",
            "Removed invalid class ID 4 in gB_7_s5_2019-03-13T13-55-5201-00_ir_face_mp4-228_jpg.rf.aeaa4f059ec7d6e1d7ef3759bf90f65a.txt\n",
            "Removed invalid class ID 4 in gA_5_s5_ir_face_mp4-151_jpg.rf.e412f88f523436b0e60c00599723c1c1.txt\n",
            "Removed invalid class ID 3 in gA_4_s2_ir_face_mp4-39_jpg.rf.9358cf68b763d4f1dfbeb2f90a564f31.txt\n",
            "Removed invalid class ID 3 in gA_3_s5_ir_face_mp4-94_jpg.rf.d92bcebb1bc28f6dc60879800f511a58.txt\n",
            "Removed invalid class ID 3 in gA_1_s1_ir_face_mp4-87_jpg.rf.cbb536a7529972e134de612ea453957e.txt\n",
            "\n",
            "Label correction complete.\n"
          ]
        }
      ]
    },
    {
      "cell_type": "code",
      "source": [
        "import os\n",
        "\n",
        "# Define the paths to label files for train, validation, and test sets\n",
        "label_dirs = [\n",
        "    \"/content/DMD-7/train/labels\",  # Path to train labels\n",
        "    \"/content/DMD-7/valid/labels\",  # Path to validation labels\n",
        "    \"/content/DMD-7/test/labels\"    # Path to test labels (optional)\n",
        "]\n",
        "\n",
        "# Define the expected number of classes\n",
        "expected_classes = {0: \"Drinking\", 1: \"SleepyDriving\", 2: \"Yawn\"}\n",
        "\n",
        "# Function to verify labels\n",
        "def verify_labels(label_dir, expected_classes):\n",
        "    if not os.path.exists(label_dir):\n",
        "        print(f\"Label directory not found: {label_dir}\")\n",
        "        return\n",
        "\n",
        "    print(f\"\\nVerifying labels in directory: {label_dir}\")\n",
        "    label_files = [f for f in os.listdir(label_dir) if f.endswith(\".txt\")]\n",
        "\n",
        "    for label_file in label_files:\n",
        "        label_path = os.path.join(label_dir, label_file)\n",
        "        with open(label_path, \"r\") as file:\n",
        "            lines = file.readlines()\n",
        "\n",
        "        for line in lines:\n",
        "            parts = line.strip().split()\n",
        "            class_id = int(parts[0])  # First column is the class ID\n",
        "            if class_id not in expected_classes:\n",
        "                print(f\"Error in {label_file}: Unexpected class ID {class_id}\")\n",
        "            else:\n",
        "                print(f\"{label_file}: Class {class_id} ({expected_classes[class_id]}) is valid.\")\n",
        "\n",
        "# Verify labels in all directories\n",
        "for label_dir in label_dirs:\n",
        "    verify_labels(label_dir, expected_classes)"
      ],
      "metadata": {
        "colab": {
          "base_uri": "https://localhost:8080/"
        },
        "id": "PgnFyX5KbIiU",
        "outputId": "fe2efa86-4052-4947-c39f-aa6cd3885750"
      },
      "execution_count": 7,
      "outputs": [
        {
          "output_type": "stream",
          "name": "stdout",
          "text": [
            "\n",
            "Verifying labels in directory: /content/DMD-7/train/labels\n",
            "gB_8_s1_2019-03-11T15-01-33-01-00_ir_face_mp4-439_jpg.rf.a5bb17fdc913fd20ec83ba89067a13ba.txt: Class 0 (Drinking) is valid.\n",
            "gB_10_s1_2019-03-11T15-24-54-01-00_ir_face_mp4-93_jpg.rf.c2b4e34a39cbed915e583902754f2a3a.txt: Class 0 (Drinking) is valid.\n",
            "gB_6_s1_2019-03-11T13-55-14-01-00_ir_face_mp4-122_jpg.rf.27f180485dca1082a215ecbb010b9be5.txt: Class 0 (Drinking) is valid.\n",
            "gA_3_s5_ir_face_mp4-114_jpg.rf.d3646f8e7046597fd2361d25e09b8325.txt: Class 1 (SleepyDriving) is valid.\n",
            "gB_8_s1_2019-03-11T15-01-33-01-00_ir_face_mp4-327_jpg.rf.da26055a093aa3b0eb36966588eea92e.txt: Class 0 (Drinking) is valid.\n",
            "gA_4_s1_ir_face_mp4-148_jpg.rf.4df641a0418fec65ca244d40a1499a36.txt: Class 0 (Drinking) is valid.\n",
            "gB_7_s1_2019-03-11T14-22-01-01-00_ir_face_mp4-223_jpg.rf.70566675542e3d4c4e394bbb4d35a4fd.txt: Class 0 (Drinking) is valid.\n",
            "gB_6_s1_2019-03-11T13-55-14-01-00_ir_face_mp4-123_jpg.rf.6c750ff0ff8426a6b752359256158886.txt: Class 0 (Drinking) is valid.\n",
            "gB_7_s5_2019-03-13T13-55-5201-00_ir_face_mp4-155_jpg.rf.7286dd541550af1b9f124b79e53763da.txt: Class 1 (SleepyDriving) is valid.\n",
            "gB_8_s1_2019-03-11T15-01-33-01-00_ir_face_mp4-328_jpg.rf.6787defe80d9eceb824536546528eca1.txt: Class 0 (Drinking) is valid.\n",
            "gB_6_s1_2019-03-11T13-55-14-01-00_ir_face_mp4-237_jpg.rf.2c803aceda21855a8439e7ef9c5052ed.txt: Class 0 (Drinking) is valid.\n",
            "gA_5_s1_ir_face_mp4-212_jpg.rf.223735010de29d7a7c635accd2ba4796.txt: Class 0 (Drinking) is valid.\n",
            "gA_2_s5_ir_face_mp4-290_jpg.rf.5e9dc1af3dc412779341689269906169.txt: Class 1 (SleepyDriving) is valid.\n",
            "gB_6_s5_2019-03-13T13-37-1101-00_ir_face_mp4-94_jpg.rf.03ce3750f9e2b1c642a391eab38199af.txt: Class 1 (SleepyDriving) is valid.\n",
            "gB_6_s5_2019-03-13T13-37-1101-00_ir_face_mp4-320_jpg.rf.c56e12d0d89a678bfbdf1d5ac350da78.txt: Class 1 (SleepyDriving) is valid.\n",
            "gA_2_s5_ir_face_mp4-225_jpg.rf.08e4894132f00e759bdf081d39764127.txt: Class 1 (SleepyDriving) is valid.\n",
            "gA_1_s1_ir_face_mp4-50_jpg.rf.8cc01243ddb8af51f717828be418b16e.txt: Class 0 (Drinking) is valid.\n",
            "gB_8_s5_2019-03-13T14-10-0901-00_ir_face_mp4-86_jpg.rf.fbf239abc09156f0f72d9530ef2f1f02.txt: Class 1 (SleepyDriving) is valid.\n",
            "gB_8_s5_2019-03-13T14-10-0901-00_ir_face_mp4-237_jpg.rf.9b65e1b7933e709f98d1d8e9556cb022.txt: Class 1 (SleepyDriving) is valid.\n",
            "gA_1_s5_ir_face_mp4-158_jpg.rf.2f2a6bb6b36023c84effa509506a34bf.txt: Class 1 (SleepyDriving) is valid.\n",
            "gB_6_s5_2019-03-13T13-37-1101-00_ir_face_mp4-318_jpg.rf.887a631b957c20b923d6ea1c1c8df719.txt: Class 1 (SleepyDriving) is valid.\n",
            "gA_1_s1_ir_face_mp4-146_jpg.rf.8e2331d702719129d7cf94b88e05d553.txt: Class 0 (Drinking) is valid.\n",
            "gB_10_s1_2019-03-11T15-24-54-01-00_ir_face_mp4-89_jpg.rf.917275fcb6ef0e71747fd563721883c8.txt: Class 0 (Drinking) is valid.\n",
            "gB_10_s1_2019-03-11T15-24-54-01-00_ir_face_mp4-278_jpg.rf.c07345a05e4d05b4b0dcb1c1023ff4e6.txt: Class 0 (Drinking) is valid.\n",
            "gB_8_s5_2019-03-13T14-10-0901-00_ir_face_mp4-296_jpg.rf.8f30db63c761514d3c2f91c6410311d3.txt: Class 1 (SleepyDriving) is valid.\n",
            "gB_9_s1_2019-03-07T16-36-24-01-00_ir_face_mp4-293_jpg.rf.8ae8a361af391639b4a4f6ce69451f50.txt: Class 0 (Drinking) is valid.\n",
            "gA_2_s5_ir_face_mp4-292_jpg.rf.13c45c7e1e8cb50570844e7fd1d52cd2.txt: Class 1 (SleepyDriving) is valid.\n",
            "gB_10_s1_2019-03-11T15-24-54-01-00_ir_face_mp4-188_jpg.rf.5c6c3a75d355555cc752ef1064f61a66.txt: Class 0 (Drinking) is valid.\n",
            "gB_8_s5_2019-03-13T14-10-0901-00_ir_face_mp4-296_jpg.rf.eef032cfeaa2093eb8045074543c69f9.txt: Class 1 (SleepyDriving) is valid.\n",
            "gA_5_s5_ir_face_mp4-263_jpg.rf.daf3e26e0d33fe0a660dec992858fad8.txt: Class 1 (SleepyDriving) is valid.\n",
            "gA_5_s1_ir_face_mp4-98_jpg.rf.c320d31f79b7194df5a8aa8fdc952d2b.txt: Class 0 (Drinking) is valid.\n",
            "gB_10_s1_2019-03-11T15-24-54-01-00_ir_face_mp4-89_jpg.rf.92048d9ccee624a63a12b6021011d88e.txt: Class 0 (Drinking) is valid.\n",
            "gB_6_s5_2019-03-13T13-37-1101-00_ir_face_mp4-95_jpg.rf.942271aa082da38ffeb50bf35f0ac196.txt: Class 1 (SleepyDriving) is valid.\n",
            "gA_2_s1_ir_face_mp4-63_jpg.rf.8c5a34a9e5864409c0deb3027399816a.txt: Class 0 (Drinking) is valid.\n",
            "gA_1_s1_ir_face_mp4-218_jpg.rf.5f8e49425c3e4f017f268d5a1e886bf1.txt: Class 0 (Drinking) is valid.\n",
            "gA_2_s5_ir_face_mp4-218_jpg.rf.d023d46d33ec9ea37569e121b514ad29.txt: Class 1 (SleepyDriving) is valid.\n",
            "gA_2_s5_ir_face_mp4-288_jpg.rf.4209a2532f5b7375c1591e0245e9a26a.txt: Class 1 (SleepyDriving) is valid.\n",
            "gB_8_s1_2019-03-11T15-01-33-01-00_ir_face_mp4-443_jpg.rf.a3e7ca09fb81cbc77f4896d128624a82.txt: Class 0 (Drinking) is valid.\n",
            "gB_6_s5_2019-03-13T13-37-1101-00_ir_face_mp4-97_jpg.rf.25fff199ae4b096fde178834aea37e0f.txt: Class 1 (SleepyDriving) is valid.\n",
            "gA_2_s5_ir_face_mp4-131_jpg.rf.f81564bbf10aa57b4f6157bc82ab3d42.txt: Class 1 (SleepyDriving) is valid.\n",
            "gB_7_s5_2019-03-13T13-55-5201-00_ir_face_mp4-307_jpg.rf.5740507f7a7efe7c898dfb1a9140c20a.txt: Class 1 (SleepyDriving) is valid.\n",
            "gB_9_s1_2019-03-07T16-36-24-01-00_ir_face_mp4-295_jpg.rf.e22bc5132be2b16ecba8dfe6b90c3dfa.txt: Class 0 (Drinking) is valid.\n",
            "gB_7_s5_2019-03-13T13-55-5201-00_ir_face_mp4-87_jpg.rf.e9603c839a19d9a109030ceeeef5ab84.txt: Class 1 (SleepyDriving) is valid.\n",
            "gB_10_s5_2019-03-12T10-35-2001-00_ir_face_mp4-86_jpg.rf.84cc0178904f7607de9d405686b2fc9d.txt: Class 1 (SleepyDriving) is valid.\n",
            "gB_6_s1_2019-03-11T13-55-14-01-00_ir_face_mp4-119_jpg.rf.faa824919f61686df4374c791ee05387.txt: Class 0 (Drinking) is valid.\n",
            "gB_8_s1_2019-03-11T15-01-33-01-00_ir_face_mp4-322_jpg.rf.839e505eb11365f82971b97be8278c67.txt: Class 0 (Drinking) is valid.\n",
            "gA_4_s5_ir_face_mp4-128_jpg.rf.98c2404cc2ca8976343ea3bc7ce278aa.txt: Class 1 (SleepyDriving) is valid.\n",
            "gA_3_s5_ir_face_mp4-77_jpg.rf.e45aaa377f39409c68510746906c841c.txt: Class 1 (SleepyDriving) is valid.\n",
            "gB_8_s5_2019-03-13T14-10-0901-00_ir_face_mp4-158_jpg.rf.a45700bddb4f038507f72ffdf97296bb.txt: Class 1 (SleepyDriving) is valid.\n",
            "gA_1_s5_ir_face_mp4-301_jpg.rf.f574a8f65d1e34c35796671b57cb7ccb.txt: Class 1 (SleepyDriving) is valid.\n",
            "gB_7_s1_2019-03-11T14-22-01-01-00_ir_face_mp4-291_jpg.rf.03121b4e611b7b36fe680a6fc8996f7d.txt: Class 0 (Drinking) is valid.\n",
            "gB_10_s5_2019-03-12T10-35-2001-00_ir_face_mp4-324_jpg.rf.4b86298eb4955c864c466fc03e1023f0.txt: Class 1 (SleepyDriving) is valid.\n",
            "gB_8_s1_2019-03-11T15-01-33-01-00_ir_face_mp4-441_jpg.rf.f813846fd7b02d90df2e62f6f169770e.txt: Class 0 (Drinking) is valid.\n",
            "gA_1_s5_ir_face_mp4-235_jpg.rf.1aa8ef8f0e73aaab51963303a9eaa04b.txt: Class 1 (SleepyDriving) is valid.\n",
            "gB_7_s5_2019-03-13T13-55-5201-00_ir_face_mp4-243_jpg.rf.25b3202a0158ba73a463efd11b036d3e.txt: Class 1 (SleepyDriving) is valid.\n",
            "gB_6_s1_2019-03-11T13-55-14-01-00_ir_face_mp4-329_jpg.rf.366dc43e397a7f5a718344af18e9df58.txt: Class 0 (Drinking) is valid.\n",
            "gB_6_s1_2019-03-11T13-55-14-01-00_ir_face_mp4-121_jpg.rf.522260e82c72c5a27713cdbdea806b1e.txt: Class 0 (Drinking) is valid.\n",
            "gB_9_s1_2019-03-07T16-36-24-01-00_ir_face_mp4-294_jpg.rf.38345ec45ca310dde56a20dcdb4473d4.txt: Class 0 (Drinking) is valid.\n",
            "gB_8_s1_2019-03-11T15-01-33-01-00_ir_face_mp4-324_jpg.rf.0b29360665f76850e672a60fc70de9ca.txt: Class 0 (Drinking) is valid.\n",
            "gB_8_s1_2019-03-11T15-01-33-01-00_ir_face_mp4-230_jpg.rf.a278a29b911c8dced774b1e99f473e7b.txt: Class 0 (Drinking) is valid.\n",
            "gB_10_s1_2019-03-11T15-24-54-01-00_ir_face_mp4-182_jpg.rf.cbd87d9417679b12fef4a4261cdb6f1e.txt: Class 0 (Drinking) is valid.\n",
            "gA_2_s5_ir_face_mp4-87_jpg.rf.0fd467df2c4a138b3c9904bd7b557d95.txt: Class 1 (SleepyDriving) is valid.\n",
            "gB_9_s1_2019-03-07T16-36-24-01-00_ir_face_mp4-297_jpg.rf.0db9a09851a6a7d4af6403587c70620d.txt: Class 0 (Drinking) is valid.\n",
            "gB_10_s1_2019-03-11T15-24-54-01-00_ir_face_mp4-101_jpg.rf.718829b8993b7faff5fbec50be12f29c.txt: Class 0 (Drinking) is valid.\n",
            "gA_2_s1_ir_face_mp4-162_jpg.rf.e766ab032fb945a10b862863ef597ada.txt: Class 0 (Drinking) is valid.\n",
            "gB_6_s1_2019-03-11T13-55-14-01-00_ir_face_mp4-427_jpg.rf.3ae4c5574143214cc21a102b12430725.txt: Class 0 (Drinking) is valid.\n",
            "gB_7_s5_2019-03-13T13-55-5201-00_ir_face_mp4-86_jpg.rf.fc7a9c8ed651cf526897cf120e41c47b.txt: Class 1 (SleepyDriving) is valid.\n",
            "gA_2_s5_ir_face_mp4-123_jpg.rf.0358797a394027ef3bff917c26299d21.txt: Class 1 (SleepyDriving) is valid.\n",
            "gB_9_s1_2019-03-07T16-36-24-01-00_ir_face_mp4-449_jpg.rf.6a093c352fb5a1073ff27492ae676345.txt: Class 0 (Drinking) is valid.\n",
            "gA_5_s5_ir_face_mp4-263_jpg.rf.0d3ae98eec821e003aad0e55af49ace6.txt: Class 1 (SleepyDriving) is valid.\n",
            "gB_6_s1_2019-03-11T13-55-14-01-00_ir_face_mp4-426_jpg.rf.13fb309a391df9e83980349595ee4400.txt: Class 0 (Drinking) is valid.\n",
            "gB_6_s1_2019-03-11T13-55-14-01-00_ir_face_mp4-331_jpg.rf.bf1fb37655b08239b742b5e1f6de7e01.txt: Class 0 (Drinking) is valid.\n",
            "gB_10_s5_2019-03-12T10-35-2001-00_ir_face_mp4-250_jpg.rf.4f80b9f839da8ef9a57826e55917fbfd.txt: Class 1 (SleepyDriving) is valid.\n",
            "gB_8_s1_2019-03-11T15-01-33-01-00_ir_face_mp4-324_jpg.rf.87819bc2327144c9f340fc33e756db90.txt: Class 0 (Drinking) is valid.\n",
            "gB_6_s5_2019-03-13T13-37-1101-00_ir_face_mp4-260_jpg.rf.bbf752fa28ca6d248ea1768cfd54be2a.txt: Class 1 (SleepyDriving) is valid.\n",
            "gB_7_s1_2019-03-11T14-22-01-01-00_ir_face_mp4-112_jpg.rf.212c5a8b858feb6be7db2db77aa1dfa9.txt: Class 0 (Drinking) is valid.\n",
            "gB_10_s5_2019-03-12T10-35-2001-00_ir_face_mp4-375_jpg.rf.eb930106267df1f7fdefdf6a78f77cc1.txt: Class 1 (SleepyDriving) is valid.\n",
            "gB_8_s1_2019-03-11T15-01-33-01-00_ir_face_mp4-109_jpg.rf.703985ec6d92a2cd0a46432578a33291.txt: Class 0 (Drinking) is valid.\n",
            "gA_4_s1_ir_face_mp4-150_jpg.rf.2c84ca5ca26f92debb210ab896408324.txt: Class 0 (Drinking) is valid.\n",
            "gB_6_s5_2019-03-13T13-37-1101-00_ir_face_mp4-96_jpg.rf.dc91e85aaf15452e942f78133449f4ba.txt: Class 1 (SleepyDriving) is valid.\n",
            "gB_10_s5_2019-03-12T10-35-2001-00_ir_face_mp4-371_jpg.rf.d1b66645ae9e33a8509dce4487d7e03a.txt: Class 1 (SleepyDriving) is valid.\n",
            "gB_7_s1_2019-03-11T14-22-01-01-00_ir_face_mp4-292_jpg.rf.e6ea7b74114ab98fd4caddff706d0c75.txt: Class 0 (Drinking) is valid.\n",
            "gB_7_s5_2019-03-13T13-55-5201-00_ir_face_mp4-241_jpg.rf.3199cb612cffbb0dd48f206eacf8d67d.txt: Class 1 (SleepyDriving) is valid.\n",
            "gA_5_s1_ir_face_mp4-49_jpg.rf.531426855ebc15778a997833f84c0cdd.txt: Class 0 (Drinking) is valid.\n",
            "gA_2_s5_ir_face_mp4-293_jpg.rf.de32b1318678a99865e6f885135c2970.txt: Class 1 (SleepyDriving) is valid.\n",
            "gB_7_s5_2019-03-13T13-55-5201-00_ir_face_mp4-84_jpg.rf.a2eff8286963504db47548ddd7148e36.txt: Class 1 (SleepyDriving) is valid.\n",
            "gB_7_s5_2019-03-13T13-55-5201-00_ir_face_mp4-148_jpg.rf.5da943bad980dd18d1ed135d5fd02563.txt: Class 1 (SleepyDriving) is valid.\n",
            "gA_1_s1_ir_face_mp4-105_jpg.rf.962864dc1e884f5ab685cc428ed072f7.txt: Class 0 (Drinking) is valid.\n",
            "gA_3_s5_ir_face_mp4-151_jpg.rf.9ee7ac3a23c3fda738cc0467fb63722c.txt: Class 1 (SleepyDriving) is valid.\n",
            "gA_4_s1_ir_face_mp4-232_jpg.rf.568f29bf2b78d55385be27c37d96cfeb.txt: Class 0 (Drinking) is valid.\n",
            "gB_10_s1_2019-03-11T15-24-54-01-00_ir_face_mp4-276_jpg.rf.25c72c660c04cd1b44a16fb05af139c8.txt: Class 0 (Drinking) is valid.\n",
            "gB_10_s1_2019-03-11T15-24-54-01-00_ir_face_mp4-95_jpg.rf.f2e89778ac2b043afc3806429dd8c1c1.txt: Class 0 (Drinking) is valid.\n",
            "gB_7_s5_2019-03-13T13-55-5201-00_ir_face_mp4-46_jpg.rf.dc44eb7cca0144eaa872d9bbe4cce391.txt: Class 1 (SleepyDriving) is valid.\n",
            "gA_2_s5_ir_face_mp4-87_jpg.rf.725980d5fdfbc2b615ab3e24876a2e16.txt: Class 1 (SleepyDriving) is valid.\n",
            "gA_3_s5_ir_face_mp4-113_jpg.rf.c578f401170034b9229da834d61876e1.txt: Class 1 (SleepyDriving) is valid.\n",
            "gB_8_s5_2019-03-13T14-10-0901-00_ir_face_mp4-229_jpg.rf.8b271b4fd7b39dc7422729870f459d7a.txt: Class 1 (SleepyDriving) is valid.\n",
            "gB_10_s5_2019-03-12T10-35-2001-00_ir_face_mp4-256_jpg.rf.1f3d5688ff76bacd94140e5707a96515.txt: Class 1 (SleepyDriving) is valid.\n",
            "gB_7_s1_2019-03-11T14-22-01-01-00_ir_face_mp4-398_jpg.rf.9e68c27d4f36d29cdbbcff062e2fda50.txt: Class 0 (Drinking) is valid.\n",
            "gA_5_s5_ir_face_mp4-129_jpg.rf.df13777b5cb31e63958e23ad9e020f03.txt: Class 1 (SleepyDriving) is valid.\n",
            "gB_6_s5_2019-03-13T13-37-1101-00_ir_face_mp4-92_jpg.rf.d034bf69ecb7ceafac7326a4543444ba.txt: Class 1 (SleepyDriving) is valid.\n",
            "gB_6_s5_2019-03-13T13-37-1101-00_ir_face_mp4-320_jpg.rf.cf447cf8a5f43f2fd40a2726e3c34fdb.txt: Class 1 (SleepyDriving) is valid.\n",
            "gB_6_s5_2019-03-13T13-37-1101-00_ir_face_mp4-264_jpg.rf.6c898c8220dfe86b8de894ec1234a7b2.txt: Class 1 (SleepyDriving) is valid.\n",
            "gA_1_s1_ir_face_mp4-215_jpg.rf.01fba9bcfdf497d54530e63f0ab41e01.txt: Class 0 (Drinking) is valid.\n",
            "gB_6_s5_2019-03-13T13-37-1101-00_ir_face_mp4-98_jpg.rf.e6e8ab6749de8f6fda774cba11ede136.txt: Class 1 (SleepyDriving) is valid.\n",
            "gB_8_s5_2019-03-13T14-10-0901-00_ir_face_mp4-159_jpg.rf.6b896e3ff1541adf4eb4fb589a97f3d2.txt: Class 1 (SleepyDriving) is valid.\n",
            "gB_8_s1_2019-03-11T15-01-33-01-00_ir_face_mp4-223_jpg.rf.199d3013142942b1474548d3036f7796.txt: Class 0 (Drinking) is valid.\n",
            "gA_1_s1_ir_face_mp4-51_jpg.rf.4d646fcf84661f9fcf59a3c5bc290bdb.txt: Class 0 (Drinking) is valid.\n",
            "gA_5_s5_ir_face_mp4-264_jpg.rf.32043b0a059516b58edc0d45f37a4cb5.txt: Class 1 (SleepyDriving) is valid.\n",
            "gA_5_s5_ir_face_mp4-205_jpg.rf.4cd2443ec5fe56e1f4f2f850464a68d4.txt: Class 1 (SleepyDriving) is valid.\n",
            "gB_8_s5_2019-03-13T14-10-0901-00_ir_face_mp4-231_jpg.rf.824b0002117f6f8512942570c88edadb.txt: Class 1 (SleepyDriving) is valid.\n",
            "gB_7_s5_2019-03-13T13-55-5201-00_ir_face_mp4-302_jpg.rf.7640067a2294f2e0df5707a3f931017a.txt: Class 1 (SleepyDriving) is valid.\n",
            "gB_10_s5_2019-03-12T10-35-2001-00_ir_face_mp4-321_jpg.rf.6dc8d8507d077875ce44079fab9ce4f5.txt: Class 1 (SleepyDriving) is valid.\n",
            "gB_8_s1_2019-03-11T15-01-33-01-00_ir_face_mp4-444_jpg.rf.e285290447ce4829df11a38b688709c2.txt: Class 0 (Drinking) is valid.\n",
            "gA_3_s5_ir_face_mp4-113_jpg.rf.5d43f3445d941835acd59224e43d4169.txt: Class 1 (SleepyDriving) is valid.\n",
            "gB_6_s5_2019-03-13T13-37-1101-00_ir_face_mp4-173_jpg.rf.a4e9ed9f98ecf6d36da2e9b1aa2405ee.txt: Class 1 (SleepyDriving) is valid.\n",
            "gB_8_s1_2019-03-11T15-01-33-01-00_ir_face_mp4-106_jpg.rf.750824cd32002a99a2b4d3d521cd9cd8.txt: Class 0 (Drinking) is valid.\n",
            "gB_10_s5_2019-03-12T10-35-2001-00_ir_face_mp4-377_jpg.rf.9c0fcf3392d13fb2d4690e92593989f1.txt: Class 1 (SleepyDriving) is valid.\n",
            "gA_5_s5_ir_face_mp4-80_jpg.rf.d7fd76a2c07988a3915925348e6f8e94.txt: Class 1 (SleepyDriving) is valid.\n",
            "gB_10_s1_2019-03-11T15-24-54-01-00_ir_face_mp4-393_jpg.rf.04e0542981860d40579632fc85dae271.txt: Class 0 (Drinking) is valid.\n",
            "gA_4_s1_ir_face_mp4-152_jpg.rf.3eec7ac5487b4d0a32a11b261cccce7b.txt: Class 0 (Drinking) is valid.\n",
            "gB_7_s5_2019-03-13T13-55-5201-00_ir_face_mp4-83_jpg.rf.767140f7832904f2db839b632499bab6.txt: Class 1 (SleepyDriving) is valid.\n",
            "gA_1_s1_ir_face_mp4-146_jpg.rf.99d3193ec78be527d72949af075259a2.txt: Class 0 (Drinking) is valid.\n",
            "gB_6_s5_2019-03-13T13-37-1101-00_ir_face_mp4-172_jpg.rf.02e972ef0f2faf92543b56962ad45067.txt: Class 1 (SleepyDriving) is valid.\n",
            "gA_4_s5_ir_face_mp4-77_jpg.rf.6760914298de38e2a1cdec840c829763.txt: Class 1 (SleepyDriving) is valid.\n",
            "gB_7_s5_2019-03-13T13-55-5201-00_ir_face_mp4-50_jpg.rf.61c4f33a20fbe2b963e4ba02992f816e.txt: Class 1 (SleepyDriving) is valid.\n",
            "gA_1_s1_ir_face_mp4-216_jpg.rf.1b9487aaf9ff3abe98f5f1981c5377c0.txt: Class 0 (Drinking) is valid.\n",
            "gA_4_s5_ir_face_mp4-78_jpg.rf.351241a2ec722f4cdff06d3fa2da4707.txt: Class 1 (SleepyDriving) is valid.\n",
            "gB_9_s5_2019-03-07T16-31-4801-00_ir_face_mp4-266_jpg.rf.f2aca89faee7c3c98faee1b3426b639a.txt: Class 1 (SleepyDriving) is valid.\n",
            "gA_5_s1_ir_face_mp4-147_jpg.rf.6d326d70675f4dcd899d388496c08150.txt: Class 0 (Drinking) is valid.\n",
            "gA_1_s1_ir_face_mp4-56_jpg.rf.49487623ca3699d9dcd84542fcc454b7.txt: Class 0 (Drinking) is valid.\n",
            "gB_7_s5_2019-03-13T13-55-5201-00_ir_face_mp4-85_jpg.rf.9965dae94d359adc39f09c5b02f8659f.txt: Class 1 (SleepyDriving) is valid.\n",
            "gB_10_s5_2019-03-12T10-35-2001-00_ir_face_mp4-374_jpg.rf.5f054acfcc78586428dc94e5f82db6f0.txt: Class 1 (SleepyDriving) is valid.\n",
            "gB_6_s1_2019-03-11T13-55-14-01-00_ir_face_mp4-227_jpg.rf.417dcc229e6e1f01c8b1ea99340db5ed.txt: Class 0 (Drinking) is valid.\n",
            "gA_5_s5_ir_face_mp4-134_jpg.rf.af767ad57e4d4009697e22547a347622.txt: Class 1 (SleepyDriving) is valid.\n",
            "gB_9_s5_2019-03-07T16-31-4801-00_ir_face_mp4-127_jpg.rf.484564a7f0e08df8231ad688826f9124.txt: Class 1 (SleepyDriving) is valid.\n",
            "gB_10_s1_2019-03-11T15-24-54-01-00_ir_face_mp4-396_jpg.rf.800015b1794ba0f99f5c56cc7221275a.txt: Class 0 (Drinking) is valid.\n",
            "gB_8_s5_2019-03-13T14-10-0901-00_ir_face_mp4-160_jpg.rf.1b3c9953146b897895707f152cd21678.txt: Class 1 (SleepyDriving) is valid.\n",
            "gB_10_s5_2019-03-12T10-35-2001-00_ir_face_mp4-328_jpg.rf.b6c469dc4980cb48c2f579e6b2a81e90.txt: Class 1 (SleepyDriving) is valid.\n",
            "gA_2_s1_ir_face_mp4-63_jpg.rf.f06f2ce7f2d8cfee9f1e71bc67da7f1f.txt: Class 0 (Drinking) is valid.\n",
            "gB_7_s5_2019-03-13T13-55-5201-00_ir_face_mp4-47_jpg.rf.802466704ae43ea31e89f0579c442ecd.txt: Class 1 (SleepyDriving) is valid.\n",
            "gA_4_s1_ir_face_mp4-59_jpg.rf.07707e9e574c3d8b4a951bbd8d834978.txt: Class 0 (Drinking) is valid.\n",
            "gB_10_s1_2019-03-11T15-24-54-01-00_ir_face_mp4-394_jpg.rf.ee7002c079883f815f9599da6e6ccdbd.txt: Class 0 (Drinking) is valid.\n",
            "gB_7_s1_2019-03-11T14-22-01-01-00_ir_face_mp4-400_jpg.rf.21d80377c5233f199376fefcf2dbfbd9.txt: Class 0 (Drinking) is valid.\n",
            "gB_6_s5_2019-03-13T13-37-1101-00_ir_face_mp4-168_jpg.rf.0774e7bf16ea60e7f44366ac6d2f0c1b.txt: Class 1 (SleepyDriving) is valid.\n",
            "gA_5_s1_ir_face_mp4-215_jpg.rf.b238f48d780f44b2dd0c2eecb25cb3de.txt: Class 0 (Drinking) is valid.\n",
            "gA_1_s1_ir_face_mp4-148_jpg.rf.57a877df7fbcf2c7a3d253be84436400.txt: Class 0 (Drinking) is valid.\n",
            "gB_8_s5_2019-03-13T14-10-0901-00_ir_face_mp4-90_jpg.rf.40306eb4231f0eb9bf7cab2a8a3e08d5.txt: Class 1 (SleepyDriving) is valid.\n",
            "gB_6_s1_2019-03-11T13-55-14-01-00_ir_face_mp4-331_jpg.rf.f394b5f799551435cb0411e64c7a7063.txt: Class 0 (Drinking) is valid.\n",
            "gB_10_s5_2019-03-12T10-35-2001-00_ir_face_mp4-254_jpg.rf.96cdc4211254d2f7f9f7a2e287e967f7.txt: Class 1 (SleepyDriving) is valid.\n",
            "gA_4_s1_ir_face_mp4-54_jpg.rf.17c06a19d92ee6089f10254484460754.txt: Class 0 (Drinking) is valid.\n",
            "gA_4_s5_ir_face_mp4-263_jpg.rf.5a658df402b38ac4213e27bf7e20f727.txt: Class 1 (SleepyDriving) is valid.\n",
            "gA_2_s5_ir_face_mp4-91_jpg.rf.de8b284a272ce613fc8df9eb396e9a60.txt: Class 1 (SleepyDriving) is valid.\n",
            "gA_3_s1_ir_face_mp4-195_jpg.rf.8681c16f7ccb5ebdcfecbcf8a4420025.txt: Class 0 (Drinking) is valid.\n",
            "gA_4_s5_ir_face_mp4-206_jpg.rf.3cf3804dd2ad9a4011df04811c8b72af.txt: Class 1 (SleepyDriving) is valid.\n",
            "gB_9_s5_2019-03-07T16-31-4801-00_ir_face_mp4-265_jpg.rf.f0c5e709018d4f5caaa5db41a78b3c08.txt: Class 1 (SleepyDriving) is valid.\n",
            "gB_9_s1_2019-03-07T16-36-24-01-00_ir_face_mp4-297_jpg.rf.e523beac89b0bfce36d02959f6918701.txt: Class 0 (Drinking) is valid.\n",
            "gB_7_s5_2019-03-13T13-55-5201-00_ir_face_mp4-303_jpg.rf.3f30e1ff819bec3629e3bf9f20806107.txt: Class 1 (SleepyDriving) is valid.\n",
            "gA_2_s1_ir_face_mp4-164_jpg.rf.9ff8be6476237cd68563306103a4d5f6.txt: Class 0 (Drinking) is valid.\n",
            "gB_6_s5_2019-03-13T13-37-1101-00_ir_face_mp4-314_jpg.rf.5036176d34fb7a21a2609cfba5d20da4.txt: Class 1 (SleepyDriving) is valid.\n",
            "gB_8_s1_2019-03-11T15-01-33-01-00_ir_face_mp4-447_jpg.rf.c637802174bfb5bcd9328e4fb59d4d75.txt: Class 0 (Drinking) is valid.\n",
            "gB_7_s1_2019-03-11T14-22-01-01-00_ir_face_mp4-296_jpg.rf.28edd27221e5f24855ab4298a2f744ee.txt: Class 0 (Drinking) is valid.\n",
            "gB_7_s5_2019-03-13T13-55-5201-00_ir_face_mp4-88_jpg.rf.7e0269006091a4ef2f5a1c62bd63395a.txt: Class 1 (SleepyDriving) is valid.\n",
            "gB_10_s5_2019-03-12T10-35-2001-00_ir_face_mp4-327_jpg.rf.b90ee7f94388dcebed5ef8157c8b9bb6.txt: Class 1 (SleepyDriving) is valid.\n",
            "gB_10_s1_2019-03-11T15-24-54-01-00_ir_face_mp4-393_jpg.rf.6ed849c2806ea38476f8589bffdb89d4.txt: Class 0 (Drinking) is valid.\n",
            "gA_2_s5_ir_face_mp4-288_jpg.rf.55941d5756fc18fd2d6f35ee5feee28b.txt: Class 1 (SleepyDriving) is valid.\n",
            "gA_3_s1_ir_face_mp4-198_jpg.rf.62e3bb88650c4480e5ea369737485e43.txt: Class 0 (Drinking) is valid.\n",
            "gB_10_s1_2019-03-11T15-24-54-01-00_ir_face_mp4-397_jpg.rf.e7b057c1bfbe10fa108626a764a307b0.txt: Class 0 (Drinking) is valid.\n",
            "gB_7_s5_2019-03-13T13-55-5201-00_ir_face_mp4-91_jpg.rf.7199d791ccaf84bbc581bbbadf7703a4.txt: Class 1 (SleepyDriving) is valid.\n",
            "gA_2_s1_ir_face_mp4-64_jpg.rf.ffefbaea9c67de6bb12259d6518e806d.txt: Class 0 (Drinking) is valid.\n",
            "gB_10_s5_2019-03-12T10-35-2001-00_ir_face_mp4-320_jpg.rf.313ca6f66569f54fe72a3f23ec1dadbc.txt: Class 1 (SleepyDriving) is valid.\n",
            "gB_10_s5_2019-03-12T10-35-2001-00_ir_face_mp4-163_jpg.rf.ce1872f0dc55d4ab26fbc4b9e1c6e793.txt: Class 1 (SleepyDriving) is valid.\n",
            "gB_9_s1_2019-03-07T16-36-24-01-00_ir_face_mp4-92_jpg.rf.72ff9d804bf5d40ec8d1ef81eae0a3f1.txt: Class 0 (Drinking) is valid.\n",
            "gB_8_s1_2019-03-11T15-01-33-01-00_ir_face_mp4-444_jpg.rf.cd2fc2ae1951e099f093790ae145a302.txt: Class 0 (Drinking) is valid.\n",
            "gB_8_s5_2019-03-13T14-10-0901-00_ir_face_mp4-285_jpg.rf.69ef400db6d15924bdbddd673772eecc.txt: Class 1 (SleepyDriving) is valid.\n",
            "gB_10_s5_2019-03-12T10-35-2001-00_ir_face_mp4-250_jpg.rf.59dd5922bbcda25b4114f4c4ad6dcfab.txt: Class 1 (SleepyDriving) is valid.\n",
            "gB_8_s5_2019-03-13T14-10-0901-00_ir_face_mp4-289_jpg.rf.0f5237de7d5a6b7e76733a89c146619f.txt: Class 1 (SleepyDriving) is valid.\n",
            "gB_7_s5_2019-03-13T13-55-5201-00_ir_face_mp4-304_jpg.rf.32d0144c5010931b3236e7d5c6c1cf54.txt: Class 1 (SleepyDriving) is valid.\n",
            "gB_10_s5_2019-03-12T10-35-2001-00_ir_face_mp4-85_jpg.rf.a6fa08ea259397cb6af6a2dfd6870274.txt: Class 1 (SleepyDriving) is valid.\n",
            "gB_10_s5_2019-03-12T10-35-2001-00_ir_face_mp4-87_jpg.rf.dfcb5df043f10a8d83bc33ea08fcf075.txt: Class 1 (SleepyDriving) is valid.\n",
            "gA_2_s5_ir_face_mp4-299_jpg.rf.1ad013b49f2aeca9dd5234c4eed36ccb.txt: Class 1 (SleepyDriving) is valid.\n",
            "gB_9_s5_2019-03-07T16-31-4801-00_ir_face_mp4-103_jpg.rf.5be34fc69ec5413c82a57c3a3e927a5d.txt: Class 1 (SleepyDriving) is valid.\n",
            "gA_3_s1_ir_face_mp4-198_jpg.rf.4e4d3bc1421ecc9e7e57bc079f6cc3aa.txt: Class 0 (Drinking) is valid.\n",
            "gB_9_s5_2019-03-07T16-31-4801-00_ir_face_mp4-128_jpg.rf.2cd5893458854ad4eff76c2a8bfd998e.txt: Class 1 (SleepyDriving) is valid.\n",
            "gB_6_s1_2019-03-11T13-55-14-01-00_ir_face_mp4-323_jpg.rf.a5428a5378c460bbb8c10fd13deae44a.txt: Class 0 (Drinking) is valid.\n",
            "gB_10_s1_2019-03-11T15-24-54-01-00_ir_face_mp4-182_jpg.rf.e1bac253c30cc45bcc77e11d4af158c2.txt: Class 0 (Drinking) is valid.\n",
            "gB_9_s1_2019-03-07T16-36-24-01-00_ir_face_mp4-450_jpg.rf.aa319fbfd5842f3ed473a9fef73ac25b.txt: Class 0 (Drinking) is valid.\n",
            "gA_3_s5_ir_face_mp4-148_jpg.rf.e9f87b666ecc7561cb1c2fe5b943b7d5.txt: Class 1 (SleepyDriving) is valid.\n",
            "gB_7_s1_2019-03-11T14-22-01-01-00_ir_face_mp4-112_jpg.rf.da918146c931c943ecf471156c4a2007.txt: Class 0 (Drinking) is valid.\n",
            "gB_7_s5_2019-03-13T13-55-5201-00_ir_face_mp4-245_jpg.rf.41e7657c8822e5a8c82825e37ea88152.txt: Class 1 (SleepyDriving) is valid.\n",
            "gA_2_s1_ir_face_mp4-65_jpg.rf.d49b5ccbc05da74be32ceefd40a3e9e3.txt: Class 0 (Drinking) is valid.\n",
            "gA_5_s5_ir_face_mp4-81_jpg.rf.2f75f3c205e48be72bdbde34e28856a2.txt: Class 1 (SleepyDriving) is valid.\n",
            "gA_2_s5_ir_face_mp4-226_jpg.rf.e8c67c11b150a66b903353ed58187ce1.txt: Class 1 (SleepyDriving) is valid.\n",
            "gB_8_s5_2019-03-13T14-10-0901-00_ir_face_mp4-237_jpg.rf.c4caaf867e5228df7fa6f92a37da238f.txt: Class 1 (SleepyDriving) is valid.\n",
            "gB_10_s5_2019-03-12T10-35-2001-00_ir_face_mp4-158_jpg.rf.fc952d18b8fe3a6241648768df8ea228.txt: Class 1 (SleepyDriving) is valid.\n",
            "gA_3_s5_ir_face_mp4-78_jpg.rf.48dba1bd770dbceb3bbf9dbc1f6ecf59.txt: Class 1 (SleepyDriving) is valid.\n",
            "gB_6_s1_2019-03-11T13-55-14-01-00_ir_face_mp4-231_jpg.rf.15dbd210c076dafdae14ca778a1b3a01.txt: Class 0 (Drinking) is valid.\n",
            "gB_8_s5_2019-03-13T14-10-0901-00_ir_face_mp4-86_jpg.rf.d7934e26038b82b239b75320bd8e3b6d.txt: Class 1 (SleepyDriving) is valid.\n",
            "gB_6_s1_2019-03-11T13-55-14-01-00_ir_face_mp4-229_jpg.rf.7bfe614f1102c193d8cb89d8e0866b95.txt: Class 0 (Drinking) is valid.\n",
            "gA_4_s1_ir_face_mp4-189_jpg.rf.14e454b5c7a818c9f246f24edf0b3d5f.txt: Class 0 (Drinking) is valid.\n",
            "gB_7_s1_2019-03-11T14-22-01-01-00_ir_face_mp4-400_jpg.rf.a70afcc17b88f6117cb10ece16bb36f1.txt: Class 0 (Drinking) is valid.\n",
            "gA_5_s5_ir_face_mp4-83_jpg.rf.0f92ba3c74943141d8c34be082dca38c.txt: Class 1 (SleepyDriving) is valid.\n",
            "gA_5_s5_ir_face_mp4-205_jpg.rf.fc18adc7ae6eac8d15de215ca1616784.txt: Class 1 (SleepyDriving) is valid.\n",
            "gB_10_s5_2019-03-12T10-35-2001-00_ir_face_mp4-370_jpg.rf.0d44e24c1d9600ae9e4713f7d3362f01.txt: Class 1 (SleepyDriving) is valid.\n",
            "gA_1_s5_ir_face_mp4-155_jpg.rf.85e3b6d87226eb1a157aacc334d69503.txt: Class 1 (SleepyDriving) is valid.\n",
            "gA_2_s5_ir_face_mp4-224_jpg.rf.bbb1e6fa936ffda62224e53b5cecca90.txt: Class 1 (SleepyDriving) is valid.\n",
            "gA_2_s5_ir_face_mp4-127_jpg.rf.999d8f2db1be0b056d3339a1f708cf69.txt: Class 1 (SleepyDriving) is valid.\n",
            "gA_1_s5_ir_face_mp4-230_jpg.rf.07cac34321280af9d96c6a5c1c90453b.txt: Class 1 (SleepyDriving) is valid.\n",
            "gA_1_s5_ir_face_mp4-293_jpg.rf.d9824d349033a7d4e5d204b3072161ca.txt: Class 1 (SleepyDriving) is valid.\n",
            "gB_7_s5_2019-03-13T13-55-5201-00_ir_face_mp4-246_jpg.rf.2a4845afa5dfd4dd90f9bd630cb96958.txt: Class 1 (SleepyDriving) is valid.\n",
            "gB_7_s5_2019-03-13T13-55-5201-00_ir_face_mp4-303_jpg.rf.56cb3563430a90e2d10cb1a866af9e92.txt: Class 1 (SleepyDriving) is valid.\n",
            "gB_6_s1_2019-03-11T13-55-14-01-00_ir_face_mp4-120_jpg.rf.06d57a501670528d7f761d27ed69d047.txt: Class 0 (Drinking) is valid.\n",
            "gB_6_s5_2019-03-13T13-37-1101-00_ir_face_mp4-319_jpg.rf.16324f945562213a118594afcf34c06f.txt: Class 1 (SleepyDriving) is valid.\n",
            "gA_2_s5_ir_face_mp4-126_jpg.rf.6f571a0821112d46329fdb7093ec4426.txt: Class 1 (SleepyDriving) is valid.\n",
            "gB_7_s1_2019-03-11T14-22-01-01-00_ir_face_mp4-398_jpg.rf.2ecfe7e570a16c54ec95d766597b5913.txt: Class 0 (Drinking) is valid.\n",
            "gB_8_s1_2019-03-11T15-01-33-01-00_ir_face_mp4-441_jpg.rf.0ad2ac355f93745120fce9497f0eae0d.txt: Class 0 (Drinking) is valid.\n",
            "gB_9_s1_2019-03-07T16-36-24-01-00_ir_face_mp4-296_jpg.rf.62de4b5e49d42848a98b31ebabd7fe8b.txt: Class 0 (Drinking) is valid.\n",
            "gB_10_s1_2019-03-11T15-24-54-01-00_ir_face_mp4-277_jpg.rf.42b53bb5b37afe950af00da91e597f66.txt: Class 0 (Drinking) is valid.\n",
            "gB_7_s5_2019-03-13T13-55-5201-00_ir_face_mp4-241_jpg.rf.e27b198cc6947ba46065e13851eec00c.txt: Class 1 (SleepyDriving) is valid.\n",
            "gB_6_s1_2019-03-11T13-55-14-01-00_ir_face_mp4-428_jpg.rf.3c996650b15339f584a2d42681a32e1e.txt: Class 0 (Drinking) is valid.\n",
            "gB_10_s5_2019-03-12T10-35-2001-00_ir_face_mp4-254_jpg.rf.8d3a0a06423e3b3cee84f7f67be65f21.txt: Class 1 (SleepyDriving) is valid.\n",
            "gB_10_s1_2019-03-11T15-24-54-01-00_ir_face_mp4-277_jpg.rf.72914ce6b4e38c1dd26d721d42e87631.txt: Class 0 (Drinking) is valid.\n",
            "gB_7_s5_2019-03-13T13-55-5201-00_ir_face_mp4-304_jpg.rf.4b095287bf4e4deaa658e907085403ec.txt: Class 1 (SleepyDriving) is valid.\n",
            "gB_6_s5_2019-03-13T13-37-1101-00_ir_face_mp4-260_jpg.rf.27d0ee4f33a765c8407b963211a7011a.txt: Class 1 (SleepyDriving) is valid.\n",
            "gA_2_s5_ir_face_mp4-124_jpg.rf.54b9842e0993f14b09346deae196c0e3.txt: Class 1 (SleepyDriving) is valid.\n",
            "gA_4_s5_ir_face_mp4-262_jpg.rf.5abd7fb930240a646ca466629693d2bf.txt: Class 1 (SleepyDriving) is valid.\n",
            "gB_9_s1_2019-03-07T16-36-24-01-00_ir_face_mp4-92_jpg.rf.36c2dc76232f216ea33d38fe28a5adb0.txt: Class 0 (Drinking) is valid.\n",
            "gB_7_s5_2019-03-13T13-55-5201-00_ir_face_mp4-51_jpg.rf.244f38d5853ea40ac953a60816fbc473.txt: Class 1 (SleepyDriving) is valid.\n",
            "gB_10_s5_2019-03-12T10-35-2001-00_ir_face_mp4-374_jpg.rf.10c0ea53d96b4dfe803280681e408c0a.txt: Class 1 (SleepyDriving) is valid.\n",
            "gB_9_s1_2019-03-07T16-36-24-01-00_ir_face_mp4-293_jpg.rf.da9f54d3b1a5adab79fec76ed18cc4c0.txt: Class 0 (Drinking) is valid.\n",
            "gB_6_s5_2019-03-13T13-37-1101-00_ir_face_mp4-172_jpg.rf.3115c8477cea8fd973acfd828ff89902.txt: Class 1 (SleepyDriving) is valid.\n",
            "gB_8_s5_2019-03-13T14-10-0901-00_ir_face_mp4-160_jpg.rf.f503712f35c3075b015b853113680c00.txt: Class 1 (SleepyDriving) is valid.\n",
            "gB_10_s1_2019-03-11T15-24-54-01-00_ir_face_mp4-401_jpg.rf.ecdc120af88a0a5d12a997019a6797d8.txt: Class 0 (Drinking) is valid.\n",
            "gA_5_s5_ir_face_mp4-135_jpg.rf.07e44256977bd3bace979aea9a4485c0.txt: Class 1 (SleepyDriving) is valid.\n",
            "gB_8_s1_2019-03-11T15-01-33-01-00_ir_face_mp4-223_jpg.rf.f63368bb499e7e70c6dacd9264fe13db.txt: Class 0 (Drinking) is valid.\n",
            "gB_10_s5_2019-03-12T10-35-2001-00_ir_face_mp4-158_jpg.rf.7a44193eb7c68bcebbf171426ec7f109.txt: Class 1 (SleepyDriving) is valid.\n",
            "gB_7_s1_2019-03-11T14-22-01-01-00_ir_face_mp4-295_jpg.rf.b20b2c4521c9bfe1435402611b8146c6.txt: Class 0 (Drinking) is valid.\n",
            "gB_6_s1_2019-03-11T13-55-14-01-00_ir_face_mp4-227_jpg.rf.16881d8de2d8cd88fc153c4a0501656c.txt: Class 0 (Drinking) is valid.\n",
            "gB_6_s1_2019-03-11T13-55-14-01-00_ir_face_mp4-229_jpg.rf.ce7d9ef738d68ed192276be9d9243f8b.txt: Class 0 (Drinking) is valid.\n",
            "gB_10_s1_2019-03-11T15-24-54-01-00_ir_face_mp4-95_jpg.rf.ea23b022127d87b09ff1e6ccf180b213.txt: Class 0 (Drinking) is valid.\n",
            "gB_7_s5_2019-03-13T13-55-5201-00_ir_face_mp4-151_jpg.rf.8896e46926dd57e1fb54285082b5726a.txt: Class 1 (SleepyDriving) is valid.\n",
            "gB_9_s1_2019-03-07T16-36-24-01-00_ir_face_mp4-91_jpg.rf.b15b81373f8439541b3163c413022251.txt: Class 0 (Drinking) is valid.\n",
            "gA_2_s5_ir_face_mp4-127_jpg.rf.7afe17785c7199c8d89d9f7d1bc102eb.txt: Class 1 (SleepyDriving) is valid.\n",
            "gA_1_s1_ir_face_mp4-106_jpg.rf.78b0bf09c5e22818d1d90289e41fc5f9.txt: Class 0 (Drinking) is valid.\n",
            "gB_8_s1_2019-03-11T15-01-33-01-00_ir_face_mp4-440_jpg.rf.9fdc6685200e1e70705c37c675baf89d.txt: Class 0 (Drinking) is valid.\n",
            "gB_9_s1_2019-03-07T16-36-24-01-00_ir_face_mp4-207_jpg.rf.3ea4339a994794dcd23be2a319149306.txt: Class 0 (Drinking) is valid.\n",
            "gA_4_s5_ir_face_mp4-136_jpg.rf.9dbad1c188c182cfa4eed2652294f950.txt: Class 1 (SleepyDriving) is valid.\n",
            "gB_9_s1_2019-03-07T16-36-24-01-00_ir_face_mp4-89_jpg.rf.6827048d7c0afadf616e8f69e54ea1b0.txt: Class 0 (Drinking) is valid.\n",
            "gB_7_s1_2019-03-11T14-22-01-01-00_ir_face_mp4-222_jpg.rf.80d196e4b6d139d4597afe344d1f701e.txt: Class 0 (Drinking) is valid.\n",
            "gB_6_s1_2019-03-11T13-55-14-01-00_ir_face_mp4-427_jpg.rf.4b67a5c9eeecc9b7ed612fa47745bbc5.txt: Class 0 (Drinking) is valid.\n",
            "gA_3_s1_ir_face_mp4-239_jpg.rf.a24af63f7dbec3dc001d7a9d3b1dec88.txt: Class 0 (Drinking) is valid.\n",
            "gA_2_s5_ir_face_mp4-290_jpg.rf.e1e8764f2800a93240709b9c6f39ab74.txt: Class 1 (SleepyDriving) is valid.\n",
            "gB_6_s5_2019-03-13T13-37-1101-00_ir_face_mp4-171_jpg.rf.a3c6a7674b40a4b068e4153c3c3be72a.txt: Class 1 (SleepyDriving) is valid.\n",
            "gB_8_s5_2019-03-13T14-10-0901-00_ir_face_mp4-229_jpg.rf.3eca04fd4739a0d32450297719f5c1ed.txt: Class 1 (SleepyDriving) is valid.\n",
            "gB_10_s1_2019-03-11T15-24-54-01-00_ir_face_mp4-398_jpg.rf.a4c03d6354bb8584f17d9bcdb49410fe.txt: Class 0 (Drinking) is valid.\n",
            "gA_2_s1_ir_face_mp4-161_jpg.rf.ed60b6d2c2f6ce4efdf35ffffccd94d7.txt: Class 0 (Drinking) is valid.\n",
            "gB_10_s5_2019-03-12T10-35-2001-00_ir_face_mp4-320_jpg.rf.3012b2e604a598742580651079086bad.txt: Class 1 (SleepyDriving) is valid.\n",
            "gB_7_s5_2019-03-13T13-55-5201-00_ir_face_mp4-85_jpg.rf.6edf54123822ee0ac7b99afd85f7cb31.txt: Class 1 (SleepyDriving) is valid.\n",
            "gA_2_s5_ir_face_mp4-123_jpg.rf.c8652665aca9f29cb551af7b6e4bf642.txt: Class 1 (SleepyDriving) is valid.\n",
            "gB_10_s1_2019-03-11T15-24-54-01-00_ir_face_mp4-278_jpg.rf.0a4991de93d8e9d43f8e775befeb22e1.txt: Class 0 (Drinking) is valid.\n",
            "gA_2_s5_ir_face_mp4-229_jpg.rf.7910b9644a43b8b30c3e8b38098b80bc.txt: Class 1 (SleepyDriving) is valid.\n",
            "gA_1_s5_ir_face_mp4-240_jpg.rf.a1a00c9f8a5fbd56bac857ef3fc38e63.txt: Class 1 (SleepyDriving) is valid.\n",
            "gA_3_s5_ir_face_mp4-76_jpg.rf.59bbb7e5d238d6bb64618a9c668d7ac5.txt: Class 1 (SleepyDriving) is valid.\n",
            "gA_3_s5_ir_face_mp4-116_jpg.rf.46286f32ed7bbad9b065ca88ba88ee47.txt: Class 1 (SleepyDriving) is valid.\n",
            "gB_10_s1_2019-03-11T15-24-54-01-00_ir_face_mp4-269_jpg.rf.c115f505a33d0195d36201edf2ddf2d2.txt: Class 0 (Drinking) is valid.\n",
            "gB_7_s5_2019-03-13T13-55-5201-00_ir_face_mp4-150_jpg.rf.55fde0800d030933321adc72de0c78cc.txt: Class 1 (SleepyDriving) is valid.\n",
            "gB_6_s5_2019-03-13T13-37-1101-00_ir_face_mp4-264_jpg.rf.35cb16f90db1d22fb98bbdd0c74612e1.txt: Class 1 (SleepyDriving) is valid.\n",
            "gB_8_s5_2019-03-13T14-10-0901-00_ir_face_mp4-155_jpg.rf.48c7360689404892742648e2aa1d6bc2.txt: Class 1 (SleepyDriving) is valid.\n",
            "gB_7_s5_2019-03-13T13-55-5201-00_ir_face_mp4-237_jpg.rf.61b17a30341b9fe8275ef5f44c5f19a8.txt: Class 1 (SleepyDriving) is valid.\n",
            "gA_5_s5_ir_face_mp4-83_jpg.rf.71b546976fd18dbd9d9725ed114a065e.txt: Class 1 (SleepyDriving) is valid.\n",
            "gA_2_s5_ir_face_mp4-88_jpg.rf.333ad584c2b20e6bf78782bf6fa1e100.txt: Class 1 (SleepyDriving) is valid.\n",
            "gB_7_s5_2019-03-13T13-55-5201-00_ir_face_mp4-246_jpg.rf.d69b29e9833ca79be9bbccbe50c29db8.txt: Class 1 (SleepyDriving) is valid.\n",
            "gB_8_s5_2019-03-13T14-10-0901-00_ir_face_mp4-286_jpg.rf.c8004c916005a2de3eea4155a59f623d.txt: Class 1 (SleepyDriving) is valid.\n",
            "gA_1_s5_ir_face_mp4-296_jpg.rf.571f170e36037f024c1568fd7762ae69.txt: Class 1 (SleepyDriving) is valid.\n",
            "gB_7_s1_2019-03-11T14-22-01-01-00_ir_face_mp4-399_jpg.rf.8f111e3bf161686e1a2ad031380621ad.txt: Class 0 (Drinking) is valid.\n",
            "gB_9_s5_2019-03-07T16-31-4801-00_ir_face_mp4-263_jpg.rf.108f16092c37649854f5d8a0dd79f55a.txt: Class 1 (SleepyDriving) is valid.\n",
            "gA_5_s5_ir_face_mp4-82_jpg.rf.7bd177c979bc47e8f0885e81fdea90fc.txt: Class 1 (SleepyDriving) is valid.\n",
            "gA_2_s5_ir_face_mp4-228_jpg.rf.477f66bd0fa67175fad7ffb70cb7c2e0.txt: Class 1 (SleepyDriving) is valid.\n",
            "gB_8_s5_2019-03-13T14-10-0901-00_ir_face_mp4-151_jpg.rf.46c008cf03cc477b27983d32e80e0384.txt: Class 1 (SleepyDriving) is valid.\n",
            "gA_2_s5_ir_face_mp4-126_jpg.rf.13a5e1ccca03b49fb44b888a1ce44c2c.txt: Class 1 (SleepyDriving) is valid.\n",
            "gB_10_s1_2019-03-11T15-24-54-01-00_ir_face_mp4-325_jpg.rf.ed8266293b557edd761f8ac49df9dbf7.txt: Class 0 (Drinking) is valid.\n",
            "gA_3_s1_ir_face_mp4-190_jpg.rf.9bc77a47174044de3b334ca0b64841d9.txt: Class 0 (Drinking) is valid.\n",
            "gB_6_s5_2019-03-13T13-37-1101-00_ir_face_mp4-97_jpg.rf.e6b1435f2b563ac6da926cc677281ff1.txt: Class 1 (SleepyDriving) is valid.\n",
            "gB_9_s5_2019-03-07T16-31-4801-00_ir_face_mp4-99_jpg.rf.8681879170695a7c322420f4275d76ff.txt: Class 1 (SleepyDriving) is valid.\n",
            "gB_6_s5_2019-03-13T13-37-1101-00_ir_face_mp4-98_jpg.rf.e579af08dce949bb56852cec5346cf58.txt: Class 1 (SleepyDriving) is valid.\n",
            "gB_7_s2_2019-03-11T14-12-25-01-00_ir_face_mp4-893_jpg.rf.a5015a45c821826c25eb6d4c1cb3a853.txt: Class 0 (Drinking) is valid.\n",
            "gB_10_s1_2019-03-11T15-24-54-01-00_ir_face_mp4-269_jpg.rf.1ab2642c0937eb84e0738ee80e58be3a.txt: Class 0 (Drinking) is valid.\n",
            "gB_10_s5_2019-03-12T10-35-2001-00_ir_face_mp4-321_jpg.rf.6e16dae89af62ae09364a9e3d86976d5.txt: Class 1 (SleepyDriving) is valid.\n",
            "gB_9_s5_2019-03-07T16-31-4801-00_ir_face_mp4-130_jpg.rf.a89374f36fbadc227a297b832a59b171.txt: Class 1 (SleepyDriving) is valid.\n",
            "gB_10_s5_2019-03-12T10-35-2001-00_ir_face_mp4-372_jpg.rf.917639ccff3797bf962a8b925d44d7e9.txt: Class 1 (SleepyDriving) is valid.\n",
            "gA_2_s5_ir_face_mp4-299_jpg.rf.42f945c2db72afe9e85f798d9db62efe.txt: Class 1 (SleepyDriving) is valid.\n",
            "gA_2_s5_ir_face_mp4-224_jpg.rf.3f6319c271a8ef071aaaff829d583c82.txt: Class 1 (SleepyDriving) is valid.\n",
            "gB_7_s5_2019-03-13T13-55-5201-00_ir_face_mp4-53_jpg.rf.64a863aa5a9ceecad044376faff44556.txt: Class 1 (SleepyDriving) is valid.\n",
            "gA_1_s1_ir_face_mp4-147_jpg.rf.a3fdaa9ae9a45415644ecf5efdc12edb.txt: Class 0 (Drinking) is valid.\n",
            "gA_1_s1_ir_face_mp4-53_jpg.rf.727caf61f45b4f1f3f4d72cc0a532f07.txt: Class 0 (Drinking) is valid.\n",
            "gB_10_s1_2019-03-11T15-24-54-01-00_ir_face_mp4-91_jpg.rf.9900061d6fc78183d42954410d7312e1.txt: Class 0 (Drinking) is valid.\n",
            "gB_8_s5_2019-03-13T14-10-0901-00_ir_face_mp4-151_jpg.rf.3cfe17d90c6b07754662c8d6e640334e.txt: Class 1 (SleepyDriving) is valid.\n",
            "gA_2_s5_ir_face_mp4-300_jpg.rf.01aec61aebdf63c2414d975be6dd8289.txt: Class 1 (SleepyDriving) is valid.\n",
            "gA_2_s5_ir_face_mp4-292_jpg.rf.6618671184e51d7d995c42c56479b7d4.txt: Class 1 (SleepyDriving) is valid.\n",
            "gB_10_s1_2019-03-11T15-24-54-01-00_ir_face_mp4-194_jpg.rf.af48c71324f95cb5e5156df4538f6077.txt: Class 0 (Drinking) is valid.\n",
            "gB_9_s5_2019-03-07T16-31-4801-00_ir_face_mp4-262_jpg.rf.0b7172920fb4017b8dc8e5916768e2c8.txt: Class 1 (SleepyDriving) is valid.\n",
            "gA_1_s1_ir_face_mp4-147_jpg.rf.4a6cedf92b0171efa0f0eb376820db5b.txt: Class 0 (Drinking) is valid.\n",
            "gA_1_s5_ir_face_mp4-157_jpg.rf.3d86d640ba2bd320f2547512e859efb7.txt: Class 1 (SleepyDriving) is valid.\n",
            "gA_4_s1_ir_face_mp4-56_jpg.rf.38e6ada28d75222f7005ce8ba0213853.txt: Class 0 (Drinking) is valid.\n",
            "gA_2_s5_ir_face_mp4-133_jpg.rf.73c818c6a3aae1208370d2402c92bf5b.txt: Class 1 (SleepyDriving) is valid.\n",
            "gB_7_s1_2019-03-11T14-22-01-01-00_ir_face_mp4-221_jpg.rf.4d98a9c0448e682aa367e87c0d083274.txt: Class 0 (Drinking) is valid.\n",
            "gA_4_s1_ir_face_mp4-54_jpg.rf.8442c120e7f770efde9dd863a93a0be4.txt: Class 0 (Drinking) is valid.\n",
            "gB_6_s1_2019-03-11T13-55-14-01-00_ir_face_mp4-113_jpg.rf.5a99dadd392d244e4ac3cfe0b9608492.txt: Class 0 (Drinking) is valid.\n",
            "gA_1_s5_ir_face_mp4-303_jpg.rf.5d8ea7944cdc4c086ce44ec3e61eec33.txt: Class 1 (SleepyDriving) is valid.\n",
            "gA_2_s1_ir_face_mp4-65_jpg.rf.1d0f206b84816cadeb37f6b91815898d.txt: Class 0 (Drinking) is valid.\n",
            "gB_8_s1_2019-03-11T15-01-33-01-00_ir_face_mp4-321_jpg.rf.cea7396380def983536c68ac7992de1b.txt: Class 0 (Drinking) is valid.\n",
            "gA_2_s5_ir_face_mp4-128_jpg.rf.5cbdb58493755ff99cd15eb87d081ae5.txt: Class 1 (SleepyDriving) is valid.\n",
            "gA_2_s5_ir_face_mp4-89_jpg.rf.b0d40912d29d15c5095c0adff73bd5a4.txt: Class 1 (SleepyDriving) is valid.\n",
            "gA_2_s5_ir_face_mp4-132_jpg.rf.543a58a43a03603e766b21ebd471d184.txt: Class 1 (SleepyDriving) is valid.\n",
            "gA_5_s5_ir_face_mp4-264_jpg.rf.61edef6a0337b0cac23e393ade47fc2c.txt: Class 1 (SleepyDriving) is valid.\n",
            "gB_7_s5_2019-03-13T13-55-5201-00_ir_face_mp4-237_jpg.rf.d458640d1780cf2da2f7f245a31fd263.txt: Class 1 (SleepyDriving) is valid.\n",
            "gB_8_s5_2019-03-13T14-10-0901-00_ir_face_mp4-285_jpg.rf.e3e0fe6437593b1b76ea747aa363db37.txt: Class 1 (SleepyDriving) is valid.\n",
            "gA_1_s1_ir_face_mp4-57_jpg.rf.da2ccd933bd4063734516e737235a80a.txt: Class 0 (Drinking) is valid.\n",
            "gA_4_s1_ir_face_mp4-148_jpg.rf.b897762454dcccd1b3b43cced88cb094.txt: Class 0 (Drinking) is valid.\n",
            "gA_2_s5_ir_face_mp4-291_jpg.rf.532c0c074df1a4c8a9cd68b5662c92ed.txt: Class 1 (SleepyDriving) is valid.\n",
            "gB_8_s5_2019-03-13T14-10-0901-00_ir_face_mp4-88_jpg.rf.fabb8da4173fd52de3730569582a3505.txt: Class 1 (SleepyDriving) is valid.\n",
            "gA_5_s1_ir_face_mp4-146_jpg.rf.ea6470c81dc17ad7a322dfe6abf304b0.txt: Class 0 (Drinking) is valid.\n",
            "gB_6_s1_2019-03-11T13-55-14-01-00_ir_face_mp4-234_jpg.rf.fbc0da8ace891ef48a82fd79ab43e6c3.txt: Class 0 (Drinking) is valid.\n",
            "gB_6_s1_2019-03-11T13-55-14-01-00_ir_face_mp4-231_jpg.rf.89f86fc9ccd4a768a721a2f320c9e539.txt: Class 0 (Drinking) is valid.\n",
            "gA_4_s5_ir_face_mp4-77_jpg.rf.768145138acf2e70af56c91fb95b51a8.txt: Class 1 (SleepyDriving) is valid.\n",
            "gB_7_s1_2019-03-11T14-22-01-01-00_ir_face_mp4-116_jpg.rf.20d83a71149b31db326b1c13fa165147.txt: Class 0 (Drinking) is valid.\n",
            "gB_6_s1_2019-03-11T13-55-14-01-00_ir_face_mp4-324_jpg.rf.a616fffb7f9e33a3651eb7d635bfa6d7.txt: Class 0 (Drinking) is valid.\n",
            "gB_8_s5_2019-03-13T14-10-0901-00_ir_face_mp4-154_jpg.rf.593fa8cce1b8c7d38ca278ea0849302b.txt: Class 1 (SleepyDriving) is valid.\n",
            "gB_10_s5_2019-03-12T10-35-2001-00_ir_face_mp4-162_jpg.rf.35ca165708409ffdfbae9ca76742fc54.txt: Class 1 (SleepyDriving) is valid.\n",
            "gA_1_s1_ir_face_mp4-50_jpg.rf.d6348bb05d526c58e2546c6f7e801cff.txt: Class 0 (Drinking) is valid.\n",
            "gA_2_s5_ir_face_mp4-298_jpg.rf.9f5a23d986a57b74460d92b854edfd0a.txt: Class 1 (SleepyDriving) is valid.\n",
            "gA_3_s5_ir_face_mp4-114_jpg.rf.01ad5dfa7624a752ac15b72b9ff8902a.txt: Class 1 (SleepyDriving) is valid.\n",
            "gB_6_s1_2019-03-11T13-55-14-01-00_ir_face_mp4-326_jpg.rf.d702b82b6c64dfcd16dca9cafcda2d48.txt: Class 0 (Drinking) is valid.\n",
            "gA_4_s5_ir_face_mp4-260_jpg.rf.2449d465f2fdc7b0b0ff8da69d08e286.txt: Class 1 (SleepyDriving) is valid.\n",
            "gB_7_s5_2019-03-13T13-55-5201-00_ir_face_mp4-310_jpg.rf.3b47d87d0e405cd78f3a9c05ef27e368.txt: Class 1 (SleepyDriving) is valid.\n",
            "gB_8_s1_2019-03-11T15-01-33-01-00_ir_face_mp4-327_jpg.rf.cd2ce934ce280d47ec511ddb94280ae3.txt: Class 0 (Drinking) is valid.\n",
            "gA_2_s5_ir_face_mp4-89_jpg.rf.d270c66e2ad9b38febba4d42b96ec792.txt: Class 1 (SleepyDriving) is valid.\n",
            "gB_10_s1_2019-03-11T15-24-54-01-00_ir_face_mp4-400_jpg.rf.16ba3f12804170b74b2be7600ce51581.txt: Class 0 (Drinking) is valid.\n",
            "gA_3_s1_ir_face_mp4-54_jpg.rf.e0bc270b7a837b588281a7d0d75b643a.txt: Class 0 (Drinking) is valid.\n",
            "gA_1_s1_ir_face_mp4-219_jpg.rf.f736562bd4a03c87f82543ad32420087.txt: Class 0 (Drinking) is valid.\n",
            "gB_7_s5_2019-03-13T13-55-5201-00_ir_face_mp4-52_jpg.rf.0e6d2ac3a6285c39414bd858cd0c0323.txt: Class 1 (SleepyDriving) is valid.\n",
            "gA_4_s5_ir_face_mp4-206_jpg.rf.669980c56eacc2f4735d3197c470d50a.txt: Class 1 (SleepyDriving) is valid.\n",
            "gA_2_s5_ir_face_mp4-298_jpg.rf.53de56150513ec85e895660522d86787.txt: Class 1 (SleepyDriving) is valid.\n",
            "gB_8_s5_2019-03-13T14-10-0901-00_ir_face_mp4-232_jpg.rf.780740e27745b2b99c4ef7809b2e9bac.txt: Class 1 (SleepyDriving) is valid.\n",
            "gA_3_s5_ir_face_mp4-77_jpg.rf.b77b768a83c12b9f36da9d96023b4075.txt: Class 1 (SleepyDriving) is valid.\n",
            "gA_4_s5_ir_face_mp4-136_jpg.rf.542886903cbd7b6244b92ba52c7fb4d5.txt: Class 1 (SleepyDriving) is valid.\n",
            "gA_2_s5_ir_face_mp4-124_jpg.rf.d3ad8c4d3d7ca32b9af6ed94ee26694f.txt: Class 1 (SleepyDriving) is valid.\n",
            "gA_3_s1_ir_face_mp4-238_jpg.rf.a556d46eaf29fde217e527aed1e809d1.txt: Class 0 (Drinking) is valid.\n",
            "gB_8_s5_2019-03-13T14-10-0901-00_ir_face_mp4-153_jpg.rf.8d29e9f8a982a45624069448eef41f4e.txt: Class 1 (SleepyDriving) is valid.\n",
            "gA_5_s5_ir_face_mp4-130_jpg.rf.cc718d85947679eaaac72eb12fdc21f1.txt: Class 1 (SleepyDriving) is valid.\n",
            "gB_10_s5_2019-03-12T10-35-2001-00_ir_face_mp4-256_jpg.rf.772b9d666e013369227aae8532bf1b31.txt: Class 1 (SleepyDriving) is valid.\n",
            "gA_3_s1_ir_face_mp4-241_jpg.rf.b8576f6f753019354fef21402d0b584e.txt: Class 0 (Drinking) is valid.\n",
            "gB_9_s1_2019-03-07T16-36-24-01-00_ir_face_mp4-200_jpg.rf.f3ebfa45222062526e019df38549c216.txt: Class 0 (Drinking) is valid.\n",
            "gB_8_s5_2019-03-13T14-10-0901-00_ir_face_mp4-290_jpg.rf.ea44a22de2fa6b9901ab324221df0b6b.txt: Class 1 (SleepyDriving) is valid.\n",
            "gB_9_s1_2019-03-07T16-36-24-01-00_ir_face_mp4-90_jpg.rf.5ae0a9a5a7a4c1f0bad535c5c9267be1.txt: Class 0 (Drinking) is valid.\n",
            "gB_8_s5_2019-03-13T14-10-0901-00_ir_face_mp4-292_jpg.rf.25231650e277644c2c5d2930365315fd.txt: Class 1 (SleepyDriving) is valid.\n",
            "gB_8_s1_2019-03-11T15-01-33-01-00_ir_face_mp4-321_jpg.rf.37801468dae08cbd60d3cebadc8da425.txt: Class 0 (Drinking) is valid.\n",
            "gB_9_s1_2019-03-07T16-36-24-01-00_ir_face_mp4-206_jpg.rf.db69580853e5d038777e3eab41ae4679.txt: Class 0 (Drinking) is valid.\n",
            "gB_7_s5_2019-03-13T13-55-5201-00_ir_face_mp4-238_jpg.rf.46e3be37e7291183b2ec9ce26dff0eb6.txt: Class 1 (SleepyDriving) is valid.\n",
            "gB_10_s1_2019-03-11T15-24-54-01-00_ir_face_mp4-401_jpg.rf.6a82fb2667c92988c17e3f729e6d5bee.txt: Class 0 (Drinking) is valid.\n",
            "gA_1_s5_ir_face_mp4-160_jpg.rf.c2ddf1a659d3124b648ffb31bd31ddbe.txt: Class 1 (SleepyDriving) is valid.\n",
            "gB_9_s1_2019-03-07T16-36-24-01-00_ir_face_mp4-89_jpg.rf.5db021950f867510843d112f95abde67.txt: Class 0 (Drinking) is valid.\n",
            "gA_2_s5_ir_face_mp4-219_jpg.rf.5a1dd074c3cdf44a661e42c0aadc7dbf.txt: Class 1 (SleepyDriving) is valid.\n",
            "gB_6_s1_2019-03-11T13-55-14-01-00_ir_face_mp4-122_jpg.rf.796388e4a9d75b6c228d2c166be968a2.txt: Class 0 (Drinking) is valid.\n",
            "gB_6_s5_2019-03-13T13-37-1101-00_ir_face_mp4-93_jpg.rf.54304093b9910132a38775a71e16e220.txt: Class 1 (SleepyDriving) is valid.\n",
            "gB_10_s5_2019-03-12T10-35-2001-00_ir_face_mp4-255_jpg.rf.cb6d923e76fc2bd28c42d98732703c92.txt: Class 1 (SleepyDriving) is valid.\n",
            "gB_9_s5_2019-03-07T16-31-4801-00_ir_face_mp4-262_jpg.rf.5bad092e59f31bec47a426ab7f0d3f9d.txt: Class 1 (SleepyDriving) is valid.\n",
            "gB_6_s1_2019-03-11T13-55-14-01-00_ir_face_mp4-425_jpg.rf.be98652a5228c4907a744dc88074017d.txt: Class 0 (Drinking) is valid.\n",
            "gA_5_s1_ir_face_mp4-51_jpg.rf.cdeaf8385f684d32ed813e942d936585.txt: Class 0 (Drinking) is valid.\n",
            "gB_10_s1_2019-03-11T15-24-54-01-00_ir_face_mp4-396_jpg.rf.0ac06c9ad0f4ad7e6c1a166f516c3a27.txt: Class 0 (Drinking) is valid.\n",
            "gA_2_s1_ir_face_mp4-64_jpg.rf.0d93afb11aa01abe05b5fdc35be880de.txt: Class 0 (Drinking) is valid.\n",
            "gB_7_s1_2019-03-11T14-22-01-01-00_ir_face_mp4-290_jpg.rf.d7c098a2a96042f0a7d7e2fea96bdbd9.txt: Class 0 (Drinking) is valid.\n",
            "gA_2_s5_ir_face_mp4-132_jpg.rf.ce7d37206201f3de3a753c208940afeb.txt: Class 1 (SleepyDriving) is valid.\n",
            "gA_5_s5_ir_face_mp4-209_jpg.rf.c288ebde84007b789758d12fe8df8f80.txt: Class 1 (SleepyDriving) is valid.\n",
            "gA_4_s1_ir_face_mp4-151_jpg.rf.81a8bf41b65e63eaf6d42752f43ac307.txt: Class 0 (Drinking) is valid.\n",
            "gB_8_s1_2019-03-11T15-01-33-01-00_ir_face_mp4-228_jpg.rf.c57203951bf1b400b437aefc4bad34ac.txt: Class 0 (Drinking) is valid.\n",
            "gB_10_s5_2019-03-12T10-35-2001-00_ir_face_mp4-378_jpg.rf.f6d1cfaea6f068e7ec9569fb52903961.txt: Class 1 (SleepyDriving) is valid.\n",
            "gB_6_s1_2019-03-11T13-55-14-01-00_ir_face_mp4-322_jpg.rf.805089e8d88eb539e9faf3127db19cf5.txt: Class 0 (Drinking) is valid.\n",
            "gA_5_s1_ir_face_mp4-98_jpg.rf.dbb78fc7373606323b65a7ba125bb696.txt: Class 0 (Drinking) is valid.\n",
            "gB_7_s5_2019-03-13T13-55-5201-00_ir_face_mp4-245_jpg.rf.66983e53448529859f7929b123e60b95.txt: Class 1 (SleepyDriving) is valid.\n",
            "gB_6_s5_2019-03-13T13-37-1101-00_ir_face_mp4-261_jpg.rf.b46d79d7d7af4869cd508c995794aeff.txt: Class 1 (SleepyDriving) is valid.\n",
            "gA_5_s5_ir_face_mp4-261_jpg.rf.8eec621ae827182dd93f39a9034cf623.txt: Class 1 (SleepyDriving) is valid.\n",
            "gA_5_s5_ir_face_mp4-79_jpg.rf.fe58581b71d8e6e44a5adcdd1af6b41a.txt: Class 1 (SleepyDriving) is valid.\n",
            "gB_10_s5_2019-03-12T10-35-2001-00_ir_face_mp4-370_jpg.rf.a8b3c47ae702d695dbe5c8219ab1134d.txt: Class 1 (SleepyDriving) is valid.\n",
            "gA_1_s1_ir_face_mp4-215_jpg.rf.25350d6a41c7bdf8a3d0311796ec8720.txt: Class 0 (Drinking) is valid.\n",
            "gA_5_s1_ir_face_mp4-211_jpg.rf.986650d38efa440fa1a8e1f44c5a6214.txt: Class 0 (Drinking) is valid.\n",
            "gB_7_s5_2019-03-13T13-55-5201-00_ir_face_mp4-54_jpg.rf.cf36a83c06f3cc1be69fd19aa80e85b3.txt: Class 1 (SleepyDriving) is valid.\n",
            "gA_4_s5_ir_face_mp4-209_jpg.rf.ad3e37b7d5b375bde8059e5afb3d2fc7.txt: Class 1 (SleepyDriving) is valid.\n",
            "gB_6_s5_2019-03-13T13-37-1101-00_ir_face_mp4-314_jpg.rf.91037944f6c45d0af6d6dd559098d84e.txt: Class 1 (SleepyDriving) is valid.\n",
            "gB_6_s1_2019-03-11T13-55-14-01-00_ir_face_mp4-429_jpg.rf.edbda8a378abd0d89e369a890045a0eb.txt: Class 0 (Drinking) is valid.\n",
            "gB_7_s1_2019-03-11T14-22-01-01-00_ir_face_mp4-114_jpg.rf.00832d99b604f98d353b9172009e02d0.txt: Class 0 (Drinking) is valid.\n",
            "gB_9_s5_2019-03-07T16-31-4801-00_ir_face_mp4-100_jpg.rf.df43656169ec4380c2bb06b78f1c280d.txt: Class 1 (SleepyDriving) is valid.\n",
            "gB_8_s1_2019-03-11T15-01-33-01-00_ir_face_mp4-447_jpg.rf.d0d756ea7884d632bd3dd74e03ce0f97.txt: Class 0 (Drinking) is valid.\n",
            "gB_10_s5_2019-03-12T10-35-2001-00_ir_face_mp4-163_jpg.rf.f3db2838b5e64df8e8c7de2f94d1b7cf.txt: Class 1 (SleepyDriving) is valid.\n",
            "gA_4_s1_ir_face_mp4-234_jpg.rf.ac163d2c202a51145cb20366fd0b0d35.txt: Class 0 (Drinking) is valid.\n",
            "gB_9_s1_2019-03-07T16-36-24-01-00_ir_face_mp4-294_jpg.rf.30574e3f4783242f3ce6448a3c8bea93.txt: Class 0 (Drinking) is valid.\n",
            "gB_9_s1_2019-03-07T16-36-24-01-00_ir_face_mp4-450_jpg.rf.3026090f5dd14131319e27b71ba13fc7.txt: Class 0 (Drinking) is valid.\n",
            "gA_4_s1_ir_face_mp4-56_jpg.rf.383d3fcb0f0b33a7c7c8b08f76d0eaaf.txt: Class 0 (Drinking) is valid.\n",
            "gA_1_s5_ir_face_mp4-89_jpg.rf.83fb5ba4063cf6fe9f1b802120079e33.txt: Class 1 (SleepyDriving) is valid.\n",
            "gA_3_s1_ir_face_mp4-117_jpg.rf.d1aed6dc5de6546d6a50eb699437cf46.txt: Class 0 (Drinking) is valid.\n",
            "gB_10_s5_2019-03-12T10-35-2001-00_ir_face_mp4-319_jpg.rf.6981cbf0d246dc96a9307a988c7f0b83.txt: Class 1 (SleepyDriving) is valid.\n",
            "gB_8_s1_2019-03-11T15-01-33-01-00_ir_face_mp4-439_jpg.rf.c690a2d9fc168f396dee45e1a9a5b133.txt: Class 0 (Drinking) is valid.\n",
            "gA_5_s5_ir_face_mp4-79_jpg.rf.2096deb022cf83114a60875bb13f64e6.txt: Class 1 (SleepyDriving) is valid.\n",
            "gA_3_s1_ir_face_mp4-190_jpg.rf.9f5cf5b95930784dcc3a0c155bef088c.txt: Class 0 (Drinking) is valid.\n",
            "gB_7_s1_2019-03-11T14-22-01-01-00_ir_face_mp4-220_jpg.rf.90963be7ca870c85392dc13aa393cc13.txt: Class 0 (Drinking) is valid.\n",
            "gB_7_s1_2019-03-11T14-22-01-01-00_ir_face_mp4-296_jpg.rf.af394fc929eea5233275565f52e166f5.txt: Class 0 (Drinking) is valid.\n",
            "gB_7_s5_2019-03-13T13-55-5201-00_ir_face_mp4-152_jpg.rf.c0ba9aad91f378c406e030f29396798b.txt: Class 1 (SleepyDriving) is valid.\n",
            "gB_6_s5_2019-03-13T13-37-1101-00_ir_face_mp4-313_jpg.rf.2d67246b30813e55f437665e58d25f08.txt: Class 1 (SleepyDriving) is valid.\n",
            "gA_1_s5_ir_face_mp4-230_jpg.rf.67e95844af6efb4a0b5a239d6fbc28c1.txt: Class 1 (SleepyDriving) is valid.\n",
            "gB_7_s1_2019-03-11T14-22-01-01-00_ir_face_mp4-401_jpg.rf.7e67dd52c8a9114d2f4e6cb59247fbe6.txt: Class 0 (Drinking) is valid.\n",
            "gB_6_s1_2019-03-11T13-55-14-01-00_ir_face_mp4-127_jpg.rf.ad45b351fb602d7b54a7acfef1ffe6ca.txt: Class 0 (Drinking) is valid.\n",
            "gA_1_s1_ir_face_mp4-148_jpg.rf.e6be12f8ede0e9f3d86856e9e1dc5397.txt: Class 0 (Drinking) is valid.\n",
            "gA_5_s5_ir_face_mp4-84_jpg.rf.ab92a67bb88b6e7eeed666221e548115.txt: Class 1 (SleepyDriving) is valid.\n",
            "gA_5_s1_ir_face_mp4-100_jpg.rf.c6c1ec114586cae66056bc7be2842338.txt: Class 0 (Drinking) is valid.\n",
            "gB_10_s1_2019-03-11T15-24-54-01-00_ir_face_mp4-271_jpg.rf.6dcb47e83ad20c1f12399e513eb5af96.txt: Class 0 (Drinking) is valid.\n",
            "gA_2_s5_ir_face_mp4-129_jpg.rf.526a00de8803d0e0f4b1456bdaca2e30.txt: Class 1 (SleepyDriving) is valid.\n",
            "gA_1_s5_ir_face_mp4-299_jpg.rf.f5b9555dbb2ea7180b1d63ddbf18b096.txt: Class 1 (SleepyDriving) is valid.\n",
            "gA_4_s1_ir_face_mp4-150_jpg.rf.7a403ad7e6a1e933cad38dab2169ea7f.txt: Class 0 (Drinking) is valid.\n",
            "gA_1_s5_ir_face_mp4-234_jpg.rf.3097d5e0b83cdc8f31b6a7abdc9e5cf1.txt: Class 1 (SleepyDriving) is valid.\n",
            "gB_8_s5_2019-03-13T14-10-0901-00_ir_face_mp4-156_jpg.rf.e83392a08866e40cdb7fbf26e2f97029.txt: Class 1 (SleepyDriving) is valid.\n",
            "gA_1_s5_ir_face_mp4-294_jpg.rf.a81cd1e6384b8e32e8618edad417520f.txt: Class 1 (SleepyDriving) is valid.\n",
            "gA_5_s5_ir_face_mp4-258_jpg.rf.3bbc3d48bb7c24a0455f5a38266f992f.txt: Class 1 (SleepyDriving) is valid.\n",
            "gB_10_s5_2019-03-12T10-35-2001-00_ir_face_mp4-162_jpg.rf.f0dae041e9f6978d1c1b4d63c0e005b1.txt: Class 1 (SleepyDriving) is valid.\n",
            "gB_10_s1_2019-03-11T15-24-54-01-00_ir_face_mp4-325_jpg.rf.8252b38868593bbd204d5698b0735132.txt: Class 0 (Drinking) is valid.\n",
            "gA_3_s1_ir_face_mp4-194_jpg.rf.c39bef95d6ac7bedcd82cde6493036fb.txt: Class 0 (Drinking) is valid.\n",
            "gB_10_s1_2019-03-11T15-24-54-01-00_ir_face_mp4-190_jpg.rf.92c41cb6c3b51a41f07361e7e8797299.txt: Class 0 (Drinking) is valid.\n",
            "gA_5_s5_ir_face_mp4-135_jpg.rf.7869b610fc19d4f102446a1d9db3f6ad.txt: Class 1 (SleepyDriving) is valid.\n",
            "gA_2_s5_ir_face_mp4-130_jpg.rf.7740b7b44156bd6078d90653acc67a30.txt: Class 1 (SleepyDriving) is valid.\n",
            "gB_6_s1_2019-03-11T13-55-14-01-00_ir_face_mp4-426_jpg.rf.6da431f06f89f964128d889895c6cc0d.txt: Class 0 (Drinking) is valid.\n",
            "gB_6_s1_2019-03-11T13-55-14-01-00_ir_face_mp4-323_jpg.rf.aeddcdaf2f1310dc95068e21606dd579.txt: Class 0 (Drinking) is valid.\n",
            "gB_9_s1_2019-03-07T16-36-24-01-00_ir_face_mp4-93_jpg.rf.46f59b2e2619570fe3f1789393417c3e.txt: Class 0 (Drinking) is valid.\n",
            "gB_9_s1_2019-03-07T16-36-24-01-00_ir_face_mp4-202_jpg.rf.31e3ff3fe2d41c992b29840455e91201.txt: Class 0 (Drinking) is valid.\n",
            "gA_1_s1_ir_face_mp4-149_jpg.rf.4332a52fbd58f1dde7e3cf189f89b5b9.txt: Class 0 (Drinking) is valid.\n",
            "gB_7_s1_2019-03-11T14-22-01-01-00_ir_face_mp4-292_jpg.rf.6f14feb8841c5ed3c7411adbe062b9b1.txt: Class 0 (Drinking) is valid.\n",
            "gB_6_s5_2019-03-13T13-37-1101-00_ir_face_mp4-169_jpg.rf.188c104e765888c3a08ca1684b928b84.txt: Class 1 (SleepyDriving) is valid.\n",
            "gA_5_s5_ir_face_mp4-209_jpg.rf.df8dd7748e1c6e8330f2fca7f83d5d87.txt: Class 1 (SleepyDriving) is valid.\n",
            "gA_4_s5_ir_face_mp4-205_jpg.rf.f95a579010e3af4d7b3696eaa0165036.txt: Class 1 (SleepyDriving) is valid.\n",
            "gB_7_s1_2019-03-11T14-22-01-01-00_ir_face_mp4-293_jpg.rf.c8c349df45ae54e041e098c3bb6ddbf8.txt: Class 0 (Drinking) is valid.\n",
            "gA_4_s5_ir_face_mp4-80_jpg.rf.6b4399d420777616f416405fe555544f.txt: Class 1 (SleepyDriving) is valid.\n",
            "gA_2_s5_ir_face_mp4-228_jpg.rf.189fcedb3c067ffc6d3caca84930b495.txt: Class 1 (SleepyDriving) is valid.\n",
            "gB_6_s1_2019-03-11T13-55-14-01-00_ir_face_mp4-333_jpg.rf.6a9ba428653f7b9308c920c5390e6807.txt: Class 0 (Drinking) is valid.\n",
            "gA_2_s5_ir_face_mp4-291_jpg.rf.e010d7b0dbbe4e353d1e90c0ea36b006.txt: Class 1 (SleepyDriving) is valid.\n",
            "gA_3_s1_ir_face_mp4-237_jpg.rf.602804d952d88f404845c40aeea9baf2.txt: Class 0 (Drinking) is valid.\n",
            "gB_6_s1_2019-03-11T13-55-14-01-00_ir_face_mp4-431_jpg.rf.22b9fd16637ad3b38bd97ef0c9612b55.txt: Class 0 (Drinking) is valid.\n",
            "gB_9_s1_2019-03-07T16-36-24-01-00_ir_face_mp4-201_jpg.rf.a8f4df5187f356a6f2fad28729a35567.txt: Class 0 (Drinking) is valid.\n",
            "gB_9_s1_2019-03-07T16-36-24-01-00_ir_face_mp4-197_jpg.rf.7bb5d3b910cdf74565c9137b7cb73755.txt: Class 0 (Drinking) is valid.\n",
            "gB_6_s5_2019-03-13T13-37-1101-00_ir_face_mp4-316_jpg.rf.0b4eed6305b87f7ae77e4009388f2ab4.txt: Class 1 (SleepyDriving) is valid.\n",
            "gB_8_s1_2019-03-11T15-01-33-01-00_ir_face_mp4-104_jpg.rf.5c12f66401ee9528f9b322967e4bcd27.txt: Class 0 (Drinking) is valid.\n",
            "gB_10_s1_2019-03-11T15-24-54-01-00_ir_face_mp4-190_jpg.rf.5a0bf0654b12520ece31df8255940564.txt: Class 0 (Drinking) is valid.\n",
            "gA_1_s1_ir_face_mp4-51_jpg.rf.409308f982d39453e128886b6f514ea2.txt: Class 0 (Drinking) is valid.\n",
            "gA_3_s1_ir_face_mp4-189_jpg.rf.185767cba85d3b1f56400e11a91debe9.txt: Class 0 (Drinking) is valid.\n",
            "gA_3_s1_ir_face_mp4-196_jpg.rf.f21e2ff9553aa6ea5adfed3fdac3cc86.txt: Class 0 (Drinking) is valid.\n",
            "gA_2_s5_ir_face_mp4-130_jpg.rf.c41051273e384297e2a1a53898243edd.txt: Class 1 (SleepyDriving) is valid.\n",
            "gA_1_s1_ir_face_mp4-56_jpg.rf.35f17303a904cc4de45bc45d4cc1ea0c.txt: Class 0 (Drinking) is valid.\n",
            "gB_8_s1_2019-03-11T15-01-33-01-00_ir_face_mp4-225_jpg.rf.696d731be9df4c40f66e3f013120e530.txt: Class 0 (Drinking) is valid.\n",
            "gB_8_s5_2019-03-13T14-10-0901-00_ir_face_mp4-290_jpg.rf.96243f566622cbeb0461d15944cd07b5.txt: Class 1 (SleepyDriving) is valid.\n",
            "gA_3_s1_ir_face_mp4-54_jpg.rf.c2ae5d91b1dd205ea025a2aeadef0b49.txt: Class 0 (Drinking) is valid.\n",
            "gB_9_s5_2019-03-07T16-31-4801-00_ir_face_mp4-99_jpg.rf.ed57f2e134c24453b4280b8eadd082c1.txt: Class 1 (SleepyDriving) is valid.\n",
            "gA_1_s5_ir_face_mp4-97_jpg.rf.684a097c216e6a2693923e2efba819ec.txt: Class 1 (SleepyDriving) is valid.\n",
            "gA_2_s5_ir_face_mp4-83_jpg.rf.0a1f1550039a6114c1e91ff996ea8400.txt: Class 1 (SleepyDriving) is valid.\n",
            "gB_9_s1_2019-03-07T16-36-24-01-00_ir_face_mp4-291_jpg.rf.91d9dd109f4466631d2f8f9e6b4a2851.txt: Class 0 (Drinking) is valid.\n",
            "gB_8_s5_2019-03-13T14-10-0901-00_ir_face_mp4-295_jpg.rf.081a06e3b3611e757fcd3ba96743dec2.txt: Class 1 (SleepyDriving) is valid.\n",
            "gA_2_s5_ir_face_mp4-287_jpg.rf.0a94ed453802ba1ba9fd6aa650841c70.txt: Class 1 (SleepyDriving) is valid.\n",
            "gA_2_s5_ir_face_mp4-295_jpg.rf.73547a088f5dbeb8c4d4f276db418657.txt: Class 1 (SleepyDriving) is valid.\n",
            "gB_8_s1_2019-03-11T15-01-33-01-00_ir_face_mp4-446_jpg.rf.695ee33e5b3f05cc82d0cfdbd969c52b.txt: Class 0 (Drinking) is valid.\n",
            "gA_4_s5_ir_face_mp4-263_jpg.rf.24aa98922422dbaceaee6537815a0048.txt: Class 1 (SleepyDriving) is valid.\n",
            "gB_7_s1_2019-03-11T14-22-01-01-00_ir_face_mp4-295_jpg.rf.a2f444ca02adbc034e9b9211c383e7a9.txt: Class 0 (Drinking) is valid.\n",
            "gB_6_s5_2019-03-13T13-37-1101-00_ir_face_mp4-318_jpg.rf.b66ad398d8f6c2c07f89f6c7dd389c1d.txt: Class 1 (SleepyDriving) is valid.\n",
            "gB_8_s5_2019-03-13T14-10-0901-00_ir_face_mp4-292_jpg.rf.996637aee5a150c8958bcfa417403500.txt: Class 1 (SleepyDriving) is valid.\n",
            "gA_2_s5_ir_face_mp4-223_jpg.rf.a1978493c8b6ebd8bfd10e088c66edb5.txt: Class 1 (SleepyDriving) is valid.\n",
            "gB_6_s5_2019-03-13T13-37-1101-00_ir_face_mp4-317_jpg.rf.f141fb9708060d23a16062d4842fcb9b.txt: Class 1 (SleepyDriving) is valid.\n",
            "gA_5_s1_ir_face_mp4-212_jpg.rf.4832174cc93bb74674f503bf09bb5838.txt: Class 0 (Drinking) is valid.\n",
            "gA_4_s5_ir_face_mp4-258_jpg.rf.070260971a87342121534a829afa862d.txt: Class 1 (SleepyDriving) is valid.\n",
            "gA_1_s5_ir_face_mp4-157_jpg.rf.6802b64e70cf49a20f79c48554d18128.txt: Class 1 (SleepyDriving) is valid.\n",
            "gB_8_s5_2019-03-13T14-10-0901-00_ir_face_mp4-158_jpg.rf.c619625d034ae482a78b8e7d459f2a18.txt: Class 1 (SleepyDriving) is valid.\n",
            "gB_6_s1_2019-03-11T13-55-14-01-00_ir_face_mp4-431_jpg.rf.de68268a0745e021cfca828b8a4e601f.txt: Class 0 (Drinking) is valid.\n",
            "gA_2_s1_ir_face_mp4-162_jpg.rf.bad65ddb2850ffa7b570b59085773389.txt: Class 0 (Drinking) is valid.\n",
            "gA_3_s5_ir_face_mp4-75_jpg.rf.93491df3e81449c03b2f82763d9c8573.txt: Class 1 (SleepyDriving) is valid.\n",
            "gB_9_s1_2019-03-07T16-36-24-01-00_ir_face_mp4-454_jpg.rf.46b3e28ed1a0eef313544d5ae835508d.txt: Class 0 (Drinking) is valid.\n",
            "gB_6_s1_2019-03-11T13-55-14-01-00_ir_face_mp4-126_jpg.rf.f628274b588c6385da329d9af5f91afc.txt: Class 0 (Drinking) is valid.\n",
            "gB_9_s1_2019-03-07T16-36-24-01-00_ir_face_mp4-453_jpg.rf.e9eb7665f8121ee99a72108a30b593d4.txt: Class 0 (Drinking) is valid.\n",
            "gA_2_s5_ir_face_mp4-220_jpg.rf.0fbfdf7ab37fbbc952f94d38417b5d0c.txt: Class 1 (SleepyDriving) is valid.\n",
            "gB_7_s5_2019-03-13T13-55-5201-00_ir_face_mp4-309_jpg.rf.b7508304e793a4c496c7747cf078089f.txt: Class 1 (SleepyDriving) is valid.\n",
            "gA_1_s5_ir_face_mp4-89_jpg.rf.ae193df3a7e247071c13a56a4b032dcb.txt: Class 1 (SleepyDriving) is valid.\n",
            "gB_7_s5_2019-03-13T13-55-5201-00_ir_face_mp4-157_jpg.rf.3a60336d36403da54ecf65ae0e1c38af.txt: Class 1 (SleepyDriving) is valid.\n",
            "gB_6_s1_2019-03-11T13-55-14-01-00_ir_face_mp4-428_jpg.rf.5ed055421bd108bab5b6c374736636d9.txt: Class 0 (Drinking) is valid.\n",
            "gA_5_s1_ir_face_mp4-146_jpg.rf.b441e844178134267764639f04fde826.txt: Class 0 (Drinking) is valid.\n",
            "gB_7_s5_2019-03-13T13-55-5201-00_ir_face_mp4-51_jpg.rf.3be9ae90383d3f3dfef43430dc725dce.txt: Class 1 (SleepyDriving) is valid.\n",
            "gB_9_s1_2019-03-07T16-36-24-01-00_ir_face_mp4-196_jpg.rf.a3cf599c2abf64084f80fad047764e87.txt: Class 0 (Drinking) is valid.\n",
            "gA_5_s5_ir_face_mp4-81_jpg.rf.868674f669bea8317f8ccc3e128bfa2b.txt: Class 1 (SleepyDriving) is valid.\n",
            "gB_9_s5_2019-03-07T16-31-4801-00_ir_face_mp4-100_jpg.rf.f1379e0bead9ddf9976cb9dd552243da.txt: Class 1 (SleepyDriving) is valid.\n",
            "gB_10_s5_2019-03-12T10-35-2001-00_ir_face_mp4-84_jpg.rf.ffb8db1cd985bab117604a4b5899e767.txt: Class 1 (SleepyDriving) is valid.\n",
            "gB_8_s1_2019-03-11T15-01-33-01-00_ir_face_mp4-443_jpg.rf.bdeb3bc28d83cedc6edfd0e9d0bfa605.txt: Class 0 (Drinking) is valid.\n",
            "gB_7_s5_2019-03-13T13-55-5201-00_ir_face_mp4-309_jpg.rf.bb7db4e04bfa09c7a62cac47222e63e7.txt: Class 1 (SleepyDriving) is valid.\n",
            "gA_2_s5_ir_face_mp4-223_jpg.rf.c6dbfcbc02347297e7fb093c5b40f3c1.txt: Class 1 (SleepyDriving) is valid.\n",
            "gB_7_s5_2019-03-13T13-55-5201-00_ir_face_mp4-247_jpg.rf.06b01294e3262ca5288a41c3e09f0780.txt: Class 1 (SleepyDriving) is valid.\n",
            "gA_2_s5_ir_face_mp4-129_jpg.rf.6fb3b4b54e98d3888b5fa903964d7e16.txt: Class 1 (SleepyDriving) is valid.\n",
            "gA_4_s5_ir_face_mp4-130_jpg.rf.033b03557da647413141c3a918b172c3.txt: Class 1 (SleepyDriving) is valid.\n",
            "gB_9_s1_2019-03-07T16-36-24-01-00_ir_face_mp4-202_jpg.rf.06b2e2b9e07957500abcbaacb5145648.txt: Class 0 (Drinking) is valid.\n",
            "gB_7_s1_2019-03-11T14-22-01-01-00_ir_face_mp4-109_jpg.rf.5dea0c5cb30163d625e84a81478d8cac.txt: Class 0 (Drinking) is valid.\n",
            "gA_3_s1_ir_face_mp4-241_jpg.rf.600cb2b76790293c7637a785f417571e.txt: Class 0 (Drinking) is valid.\n",
            "gA_1_s1_ir_face_mp4-219_jpg.rf.ee61e032d56b7a6b25f7e1e97ffc9803.txt: Class 0 (Drinking) is valid.\n",
            "gB_6_s5_2019-03-13T13-37-1101-00_ir_face_mp4-261_jpg.rf.3675b7478e579223b0444fd79ee65d9e.txt: Class 1 (SleepyDriving) is valid.\n",
            "gB_8_s1_2019-03-11T15-01-33-01-00_ir_face_mp4-440_jpg.rf.8cbb1a3c067b3b45aca325de82489369.txt: Class 0 (Drinking) is valid.\n",
            "gA_2_s5_ir_face_mp4-84_jpg.rf.a53eed1f403315aa8b647a3ecac4bfaa.txt: Class 1 (SleepyDriving) is valid.\n",
            "gB_10_s1_2019-03-11T15-24-54-01-00_ir_face_mp4-394_jpg.rf.e886d7356a78a5cb1a4c142a598b7051.txt: Class 0 (Drinking) is valid.\n",
            "gB_10_s5_2019-03-12T10-35-2001-00_ir_face_mp4-249_jpg.rf.62e0435f1ab51e979bae82a783271bb9.txt: Class 1 (SleepyDriving) is valid.\n",
            "gA_5_s5_ir_face_mp4-204_jpg.rf.377bafe2e9414a4eda75b91e15c78657.txt: Class 1 (SleepyDriving) is valid.\n",
            "gB_7_s5_2019-03-13T13-55-5201-00_ir_face_mp4-83_jpg.rf.f7d2eed6ae8ef93611c9b34a58132220.txt: Class 1 (SleepyDriving) is valid.\n",
            "gA_3_s1_ir_face_mp4-115_jpg.rf.a4ba73f28560b719461ce4e69b8d3eda.txt: Class 0 (Drinking) is valid.\n",
            "gA_2_s5_ir_face_mp4-91_jpg.rf.1c5feb8f18d7eedd4b3a4c491b8ac0d0.txt: Class 1 (SleepyDriving) is valid.\n",
            "gB_10_s5_2019-03-12T10-35-2001-00_ir_face_mp4-156_jpg.rf.54839b865b83521dd81931f12d9fed1a.txt: Class 1 (SleepyDriving) is valid.\n",
            "gB_6_s1_2019-03-11T13-55-14-01-00_ir_face_mp4-425_jpg.rf.e9c906253955f73339394efc6436bcc9.txt: Class 0 (Drinking) is valid.\n",
            "gB_6_s1_2019-03-11T13-55-14-01-00_ir_face_mp4-429_jpg.rf.5f1deff363791e3cbbc0784179cb938c.txt: Class 0 (Drinking) is valid.\n",
            "gA_1_s1_ir_face_mp4-54_jpg.rf.a1beedf16a3c003211344cbc0be8ffc8.txt: Class 0 (Drinking) is valid.\n",
            "gA_2_s1_ir_face_mp4-246_jpg.rf.bad4eaaf86de8ade27fc35c7da39fb7e.txt: Class 0 (Drinking) is valid.\n",
            "gA_1_s5_ir_face_mp4-159_jpg.rf.a0cfea1cbe2fc75e54d0b390dff9865d.txt: Class 1 (SleepyDriving) is valid.\n",
            "gA_1_s5_ir_face_mp4-158_jpg.rf.a9ddf3fb1e63157f46b6a626b8096039.txt: Class 1 (SleepyDriving) is valid.\n",
            "gA_2_s5_ir_face_mp4-125_jpg.rf.222d7e4b144cbae410ea80060102e007.txt: Class 1 (SleepyDriving) is valid.\n",
            "gB_7_s5_2019-03-13T13-55-5201-00_ir_face_mp4-87_jpg.rf.3f447ef4b53b3aa289c0f6e2cd2b1bd5.txt: Class 1 (SleepyDriving) is valid.\n",
            "gB_6_s5_2019-03-13T13-37-1101-00_ir_face_mp4-96_jpg.rf.231c8d96ae1a71a5c50af8ef8d08c42d.txt: Class 1 (SleepyDriving) is valid.\n",
            "gB_6_s5_2019-03-13T13-37-1101-00_ir_face_mp4-313_jpg.rf.dc7ad129af227cc9da812e7988ad00bf.txt: Class 1 (SleepyDriving) is valid.\n",
            "gA_1_s5_ir_face_mp4-231_jpg.rf.1c33a7095b30b85b0fbd593c93edf0e3.txt: Class 1 (SleepyDriving) is valid.\n",
            "gB_6_s1_2019-03-11T13-55-14-01-00_ir_face_mp4-322_jpg.rf.22565720456173aee6d5e939276f2076.txt: Class 0 (Drinking) is valid.\n",
            "gA_1_s5_ir_face_mp4-163_jpg.rf.a06b86b339b680c5e37ca2c69d2e05d8.txt: Class 1 (SleepyDriving) is valid.\n",
            "gB_10_s1_2019-03-11T15-24-54-01-00_ir_face_mp4-391_jpg.rf.251c631146416a6de494257313037d0f.txt: Class 0 (Drinking) is valid.\n",
            "gA_1_s5_ir_face_mp4-236_jpg.rf.972ecf8d210e22a49d50944c2b778ede.txt: Class 1 (SleepyDriving) is valid.\n",
            "gA_3_s5_ir_face_mp4-76_jpg.rf.4fa84415b51b0bd4908e785b79bc0e37.txt: Class 1 (SleepyDriving) is valid.\n",
            "gA_5_s5_ir_face_mp4-262_jpg.rf.b79b7e79f7234219cf9692918127c3c9.txt: Class 1 (SleepyDriving) is valid.\n",
            "gB_8_s1_2019-03-11T15-01-33-01-00_ir_face_mp4-229_jpg.rf.446d6ccbcd5d1e05701d9d78eedd0cbd.txt: Class 0 (Drinking) is valid.\n",
            "gA_2_s5_ir_face_mp4-287_jpg.rf.4158fbaccd2dc07a41234f80e5127f4c.txt: Class 1 (SleepyDriving) is valid.\n",
            "gA_5_s5_ir_face_mp4-131_jpg.rf.669f2aef8ea0a7f8ef09436c280c8c0f.txt: Class 1 (SleepyDriving) is valid.\n",
            "gA_5_s5_ir_face_mp4-84_jpg.rf.8e945dd75b1a99dee8e0536a4b5c1405.txt: Class 1 (SleepyDriving) is valid.\n",
            "gB_8_s1_2019-03-11T15-01-33-01-00_ir_face_mp4-229_jpg.rf.1a6a034ed3c034494960eb46dd4b5099.txt: Class 0 (Drinking) is valid.\n",
            "gB_7_s5_2019-03-13T13-55-5201-00_ir_face_mp4-156_jpg.rf.f797080d4dab78db264a9be541f4d6d0.txt: Class 1 (SleepyDriving) is valid.\n",
            "gB_7_s1_2019-03-11T14-22-01-01-00_ir_face_mp4-290_jpg.rf.b2b24aebd510767260968cb5b96bd54a.txt: Class 0 (Drinking) is valid.\n",
            "gB_10_s1_2019-03-11T15-24-54-01-00_ir_face_mp4-92_jpg.rf.319756de42828426c4f50e7c95769e2f.txt: Class 0 (Drinking) is valid.\n",
            "gB_6_s1_2019-03-11T13-55-14-01-00_ir_face_mp4-113_jpg.rf.3c1f19cd7ff290a249ffcc1987c42dc3.txt: Class 0 (Drinking) is valid.\n",
            "gA_2_s5_ir_face_mp4-295_jpg.rf.4a5d9a7ab518a5c2309be83af6b557e0.txt: Class 1 (SleepyDriving) is valid.\n",
            "gA_3_s1_ir_face_mp4-238_jpg.rf.08222c760bdbe1cfe34050162c07ed27.txt: Class 0 (Drinking) is valid.\n",
            "gA_1_s5_ir_face_mp4-240_jpg.rf.bf63a865f099a6750bc7f00087f592a4.txt: Class 1 (SleepyDriving) is valid.\n",
            "gB_10_s1_2019-03-11T15-24-54-01-00_ir_face_mp4-101_jpg.rf.84c18b1a0ba0239f65263477c59b4bb5.txt: Class 0 (Drinking) is valid.\n",
            "gB_7_s5_2019-03-13T13-55-5201-00_ir_face_mp4-46_jpg.rf.7447e7980d7272fd31a281ebe84f9f3d.txt: Class 1 (SleepyDriving) is valid.\n",
            "gA_3_s1_ir_face_mp4-194_jpg.rf.9434a9f05b6162aa0c1b0d2d8d5b692d.txt: Class 0 (Drinking) is valid.\n",
            "gA_1_s5_ir_face_mp4-159_jpg.rf.7678a36d3c210464a8eaa13142489d3f.txt: Class 1 (SleepyDriving) is valid.\n",
            "gB_8_s5_2019-03-13T14-10-0901-00_ir_face_mp4-236_jpg.rf.c0e2984876164c4e36d32106d9fad967.txt: Class 1 (SleepyDriving) is valid.\n",
            "gA_3_s1_ir_face_mp4-115_jpg.rf.1b2dc7facd4d96746c9235042232af01.txt: Class 0 (Drinking) is valid.\n",
            "gA_4_s5_ir_face_mp4-128_jpg.rf.f71aab3873ad37df34541910f5a99d35.txt: Class 1 (SleepyDriving) is valid.\n",
            "gA_3_s5_ir_face_mp4-116_jpg.rf.e63ee96eeed2025a0195a8e237f2129b.txt: Class 1 (SleepyDriving) is valid.\n",
            "gA_2_s5_ir_face_mp4-227_jpg.rf.37b3acc78c8b7aa25b9323eb2784b324.txt: Class 1 (SleepyDriving) is valid.\n",
            "gA_3_s5_ir_face_mp4-39_jpg.rf.a9911e6f68c2b0d2253882d8170698c2.txt: Class 1 (SleepyDriving) is valid.\n",
            "gA_1_s5_ir_face_mp4-236_jpg.rf.e49279168cbc3de0fd2c129d4aff20e2.txt: Class 1 (SleepyDriving) is valid.\n",
            "gB_10_s5_2019-03-12T10-35-2001-00_ir_face_mp4-377_jpg.rf.0e404d58c0d4a3ec636791950d67b505.txt: Class 1 (SleepyDriving) is valid.\n",
            "gA_4_s5_ir_face_mp4-264_jpg.rf.3828a3247652b6c6968f9765a83f333c.txt: Class 1 (SleepyDriving) is valid.\n",
            "gA_3_s1_ir_face_mp4-242_jpg.rf.6c3bf2c3a6bb59d6adb8bb03c7ce9f12.txt: Class 0 (Drinking) is valid.\n",
            "gA_5_s1_ir_face_mp4-211_jpg.rf.b70e4f9cce9e727ea491a6bd9fb3d938.txt: Class 0 (Drinking) is valid.\n",
            "gB_7_s5_2019-03-13T13-55-5201-00_ir_face_mp4-302_jpg.rf.91fba7f034e4629e38700d1bbb3ff18e.txt: Class 1 (SleepyDriving) is valid.\n",
            "gB_7_s1_2019-03-11T14-22-01-01-00_ir_face_mp4-401_jpg.rf.089133af46add3c320714ef7364a0044.txt: Class 0 (Drinking) is valid.\n",
            "gB_10_s5_2019-03-12T10-35-2001-00_ir_face_mp4-247_jpg.rf.b7135b8d5b91bf03bc98e1d2bc71d305.txt: Class 1 (SleepyDriving) is valid.\n",
            "gB_8_s5_2019-03-13T14-10-0901-00_ir_face_mp4-232_jpg.rf.0fe1836d1ca185786210ab65fa43d646.txt: Class 1 (SleepyDriving) is valid.\n",
            "gB_7_s1_2019-03-11T14-22-01-01-00_ir_face_mp4-113_jpg.rf.2cd47337e9f412bd478704ce41704346.txt: Class 0 (Drinking) is valid.\n",
            "gA_3_s1_ir_face_mp4-196_jpg.rf.a97e5bee9a7f7dc4152fdaea5fce4d32.txt: Class 0 (Drinking) is valid.\n",
            "gA_4_s1_ir_face_mp4-152_jpg.rf.5507beb95e57611b801ffcceb0ab0737.txt: Class 0 (Drinking) is valid.\n",
            "gB_10_s1_2019-03-11T15-24-54-01-00_ir_face_mp4-92_jpg.rf.e83c95c2efba0d682baedb2cba57a665.txt: Class 0 (Drinking) is valid.\n",
            "gB_9_s1_2019-03-07T16-36-24-01-00_ir_face_mp4-291_jpg.rf.feb9dfb99948fc954a232b8869b8f16e.txt: Class 0 (Drinking) is valid.\n",
            "gB_9_s1_2019-03-07T16-36-24-01-00_ir_face_mp4-452_jpg.rf.ae913c92c7a5af2341f8205b97a03361.txt: Class 0 (Drinking) is valid.\n",
            "gB_7_s5_2019-03-13T13-55-5201-00_ir_face_mp4-88_jpg.rf.a631e91c2b5d7262f8958be818b455bd.txt: Class 1 (SleepyDriving) is valid.\n",
            "gB_6_s5_2019-03-13T13-37-1101-00_ir_face_mp4-92_jpg.rf.23512a542b3c18267ce9101f6f0f690e.txt: Class 1 (SleepyDriving) is valid.\n",
            "gB_8_s5_2019-03-13T14-10-0901-00_ir_face_mp4-156_jpg.rf.b9976e85703793abf9d6a65db7a74e34.txt: Class 1 (SleepyDriving) is valid.\n",
            "gB_6_s5_2019-03-13T13-37-1101-00_ir_face_mp4-167_jpg.rf.c6e04ba14c80e38e9f8b183d409ad4e1.txt: Class 1 (SleepyDriving) is valid.\n",
            "gB_6_s1_2019-03-11T13-55-14-01-00_ir_face_mp4-329_jpg.rf.e8239b850b6ed692fcafc3d3bea64381.txt: Class 0 (Drinking) is valid.\n",
            "gA_5_s1_ir_face_mp4-215_jpg.rf.e3fce233da37c9e818027240f56983d5.txt: Class 0 (Drinking) is valid.\n",
            "gB_10_s5_2019-03-12T10-35-2001-00_ir_face_mp4-255_jpg.rf.c90c0c73adeb7e7d8acbd0a44c9aaecb.txt: Class 1 (SleepyDriving) is valid.\n",
            "gB_10_s5_2019-03-12T10-35-2001-00_ir_face_mp4-373_jpg.rf.17fd101ccead434fb2ab617344326a24.txt: Class 1 (SleepyDriving) is valid.\n",
            "gB_9_s1_2019-03-07T16-36-24-01-00_ir_face_mp4-207_jpg.rf.fb760e6c4cc9dc1809851770e41db219.txt: Class 0 (Drinking) is valid.\n",
            "gA_1_s5_ir_face_mp4-302_jpg.rf.0af50989b60082688b3d538fcc9227f8.txt: Class 1 (SleepyDriving) is valid.\n",
            "gA_2_s5_ir_face_mp4-133_jpg.rf.30ce2539ac9680c94cf0b06021073d93.txt: Class 1 (SleepyDriving) is valid.\n",
            "gB_8_s1_2019-03-11T15-01-33-01-00_ir_face_mp4-225_jpg.rf.0e64e141d058abb277cd12b5d533d694.txt: Class 0 (Drinking) is valid.\n",
            "gB_8_s5_2019-03-13T14-10-0901-00_ir_face_mp4-155_jpg.rf.2fb98438bb6b4ece7e3376f012438ff9.txt: Class 1 (SleepyDriving) is valid.\n",
            "gA_5_s5_ir_face_mp4-261_jpg.rf.a7b309e26be37f621570bd6cd575c84b.txt: Class 1 (SleepyDriving) is valid.\n",
            "gB_10_s5_2019-03-12T10-35-2001-00_ir_face_mp4-375_jpg.rf.b9d632f5741619dada00ad12ef532564.txt: Class 1 (SleepyDriving) is valid.\n",
            "gB_6_s1_2019-03-11T13-55-14-01-00_ir_face_mp4-124_jpg.rf.0ac910235d3b9f066095cabb812f034c.txt: Class 0 (Drinking) is valid.\n",
            "gB_9_s5_2019-03-07T16-31-4801-00_ir_face_mp4-101_jpg.rf.2d71f16c777e672aabe0fad2e50c6a2c.txt: Class 1 (SleepyDriving) is valid.\n",
            "gB_6_s1_2019-03-11T13-55-14-01-00_ir_face_mp4-326_jpg.rf.cb7f7394668abb3cb252c8b2d0e6e4e6.txt: Class 0 (Drinking) is valid.\n",
            "gA_5_s5_ir_face_mp4-80_jpg.rf.32ba7f4515265f93f1622c7f69e1e0e8.txt: Class 1 (SleepyDriving) is valid.\n",
            "gA_3_s5_ir_face_mp4-147_jpg.rf.a96d76a100b6fb36dadf1b3297ae0739.txt: Class 1 (SleepyDriving) is valid.\n",
            "gB_10_s5_2019-03-12T10-35-2001-00_ir_face_mp4-248_jpg.rf.468cb6023d23941d80e610b88188592d.txt: Class 1 (SleepyDriving) is valid.\n",
            "gB_10_s5_2019-03-12T10-35-2001-00_ir_face_mp4-367_jpg.rf.0d32193f2c7df26e1f0147e6e4df1787.txt: Class 1 (SleepyDriving) is valid.\n",
            "gB_6_s1_2019-03-11T13-55-14-01-00_ir_face_mp4-328_jpg.rf.b6e578c2d563fb518e28f8866913795e.txt: Class 0 (Drinking) is valid.\n",
            "gB_10_s1_2019-03-11T15-24-54-01-00_ir_face_mp4-276_jpg.rf.29eead5788098e5d3ed355946b39c85f.txt: Class 0 (Drinking) is valid.\n",
            "gA_4_s1_ir_face_mp4-189_jpg.rf.eae710112414dd578926ef18228e8a33.txt: Class 0 (Drinking) is valid.\n",
            "gA_4_s5_ir_face_mp4-209_jpg.rf.fe295ae26509d8017f0c60350dbf6fa4.txt: Class 1 (SleepyDriving) is valid.\n",
            "gA_3_s1_ir_face_mp4-51_jpg.rf.a2705e07d45931221f46f4ef8c84f316.txt: Class 0 (Drinking) is valid.\n",
            "gB_6_s5_2019-03-13T13-37-1101-00_ir_face_mp4-258_jpg.rf.c4a0be0eb2d51c8d82c00b1412d623d0.txt: Class 1 (SleepyDriving) is valid.\n",
            "gA_3_s5_ir_face_mp4-151_jpg.rf.30480f1da20bbc1a9e473ade81d57ac2.txt: Class 1 (SleepyDriving) is valid.\n",
            "gB_9_s1_2019-03-07T16-36-24-01-00_ir_face_mp4-197_jpg.rf.f3838fbe5637c60914be16eae8462c92.txt: Class 0 (Drinking) is valid.\n",
            "gB_10_s1_2019-03-11T15-24-54-01-00_ir_face_mp4-102_jpg.rf.524654b88eead6a1411855e52b82fe8a.txt: Class 0 (Drinking) is valid.\n",
            "gB_7_s1_2019-03-11T14-22-01-01-00_ir_face_mp4-116_jpg.rf.b49c65d6432b8991bf74640829e5c437.txt: Class 0 (Drinking) is valid.\n",
            "gB_10_s5_2019-03-12T10-35-2001-00_ir_face_mp4-249_jpg.rf.e73ad84c6d0ece65b31890f3f2729daf.txt: Class 1 (SleepyDriving) is valid.\n",
            "gA_4_s5_ir_face_mp4-130_jpg.rf.ec552673fc3cb6a50564bc5dcce5bfc0.txt: Class 1 (SleepyDriving) is valid.\n",
            "gA_4_s5_ir_face_mp4-265_jpg.rf.53da26762590a6533b36f706c2b20424.txt: Class 1 (SleepyDriving) is valid.\n",
            "gA_1_s5_ir_face_mp4-298_jpg.rf.ce5ca0774df570ba265524d3798099b4.txt: Class 1 (SleepyDriving) is valid.\n",
            "gA_1_s5_ir_face_mp4-235_jpg.rf.f6432a3d0efbfe8688e997d05587833a.txt: Class 1 (SleepyDriving) is valid.\n",
            "gB_6_s1_2019-03-11T13-55-14-01-00_ir_face_mp4-123_jpg.rf.970658abd27ae5e25a78792049d4381d.txt: Class 0 (Drinking) is valid.\n",
            "gB_9_s1_2019-03-07T16-36-24-01-00_ir_face_mp4-196_jpg.rf.a23f8aa68d0200be4fb358c17da5e312.txt: Class 0 (Drinking) is valid.\n",
            "gA_2_s5_ir_face_mp4-296_jpg.rf.d99f5afdaf6b924b10cd15d80c5b5b00.txt: Class 1 (SleepyDriving) is valid.\n",
            "gB_9_s1_2019-03-07T16-36-24-01-00_ir_face_mp4-90_jpg.rf.07d8897c0b1130d372dcefbef300f51e.txt: Class 0 (Drinking) is valid.\n",
            "gB_8_s1_2019-03-11T15-01-33-01-00_ir_face_mp4-328_jpg.rf.c14b9235b54836460e06968234444c39.txt: Class 0 (Drinking) is valid.\n",
            "gB_6_s1_2019-03-11T13-55-14-01-00_ir_face_mp4-228_jpg.rf.62c9b4e47b7cabc32c51440328360548.txt: Class 0 (Drinking) is valid.\n",
            "gA_3_s1_ir_face_mp4-118_jpg.rf.8f4b879a8b8be941a1b8157d3549e329.txt: Class 0 (Drinking) is valid.\n",
            "gB_7_s5_2019-03-13T13-55-5201-00_ir_face_mp4-310_jpg.rf.f808a9e36c2ddee55a0e6908fd79dc9a.txt: Class 1 (SleepyDriving) is valid.\n",
            "gB_8_s1_2019-03-11T15-01-33-01-00_ir_face_mp4-230_jpg.rf.3903546de16d38cd9bf7fc804425c25c.txt: Class 0 (Drinking) is valid.\n",
            "gA_3_s1_ir_face_mp4-240_jpg.rf.f193d9e51074e323dcde73d70226edfd.txt: Class 0 (Drinking) is valid.\n",
            "gB_7_s5_2019-03-13T13-55-5201-00_ir_face_mp4-148_jpg.rf.39da7ef851859adce45941c2b1849075.txt: Class 1 (SleepyDriving) is valid.\n",
            "gB_8_s5_2019-03-13T14-10-0901-00_ir_face_mp4-159_jpg.rf.6e5a9b5fc838e4d7cfefb7b7971f6cfb.txt: Class 1 (SleepyDriving) is valid.\n",
            "gB_6_s5_2019-03-13T13-37-1101-00_ir_face_mp4-317_jpg.rf.6728a74c6c08e96622a11fa0dfc39e86.txt: Class 1 (SleepyDriving) is valid.\n",
            "gB_8_s5_2019-03-13T14-10-0901-00_ir_face_mp4-153_jpg.rf.46cd683eb156a20323897f17bb899662.txt: Class 1 (SleepyDriving) is valid.\n",
            "gB_9_s5_2019-03-07T16-31-4801-00_ir_face_mp4-101_jpg.rf.4fe4154b59d09a47d910df1d8abecd7c.txt: Class 1 (SleepyDriving) is valid.\n",
            "gA_2_s1_ir_face_mp4-161_jpg.rf.68797afd1a1734b66097b6eee6a2f012.txt: Class 0 (Drinking) is valid.\n",
            "gB_7_s5_2019-03-13T13-55-5201-00_ir_face_mp4-52_jpg.rf.5ca2a067a2dcdaade9f7c53ffb6e0f26.txt: Class 1 (SleepyDriving) is valid.\n",
            "gA_4_s5_ir_face_mp4-205_jpg.rf.8e6a70d66892abf2376e633f193c6dff.txt: Class 1 (SleepyDriving) is valid.\n",
            "gB_9_s1_2019-03-07T16-36-24-01-00_ir_face_mp4-203_jpg.rf.09390854b1f42197195965544f8c3442.txt: Class 0 (Drinking) is valid.\n",
            "gA_1_s5_ir_face_mp4-237_jpg.rf.a279a8324a2228ba8e5c9d466be0b810.txt: Class 1 (SleepyDriving) is valid.\n",
            "gB_7_s1_2019-03-11T14-22-01-01-00_ir_face_mp4-399_jpg.rf.786cb7bdc3223b28cb9a73175ea9e00e.txt: Class 0 (Drinking) is valid.\n",
            "gA_5_s1_ir_face_mp4-50_jpg.rf.e183aa9ed6583ee992fdbc452db4bc83.txt: Class 0 (Drinking) is valid.\n",
            "gB_7_s5_2019-03-13T13-55-5201-00_ir_face_mp4-306_jpg.rf.2f48a1112f5f4d101534a6975eb897ae.txt: Class 1 (SleepyDriving) is valid.\n",
            "gA_1_s5_ir_face_mp4-231_jpg.rf.e2efb6a1d20fbd340eb85cbc04929ea0.txt: Class 1 (SleepyDriving) is valid.\n",
            "gA_5_s5_ir_face_mp4-131_jpg.rf.a840e999728007256c6d06ad2eb2e745.txt: Class 1 (SleepyDriving) is valid.\n",
            "gB_10_s1_2019-03-11T15-24-54-01-00_ir_face_mp4-103_jpg.rf.a9a3b2091281a5d6b5d468adbfc287b1.txt: Class 0 (Drinking) is valid.\n",
            "gA_1_s5_ir_face_mp4-298_jpg.rf.c9a931193eee2f74d172545ae6eff6af.txt: Class 1 (SleepyDriving) is valid.\n",
            "gB_7_s5_2019-03-13T13-55-5201-00_ir_face_mp4-154_jpg.rf.7ffd9a71e4c20d6b09865a3bc082283b.txt: Class 1 (SleepyDriving) is valid.\n",
            "gB_8_s5_2019-03-13T14-10-0901-00_ir_face_mp4-289_jpg.rf.653f29fdaa377f76a4cefd938eca3b0c.txt: Class 1 (SleepyDriving) is valid.\n",
            "gB_7_s5_2019-03-13T13-55-5201-00_ir_face_mp4-84_jpg.rf.1454a3b06c9c7b1e1a6501d078230391.txt: Class 1 (SleepyDriving) is valid.\n",
            "gB_10_s5_2019-03-12T10-35-2001-00_ir_face_mp4-376_jpg.rf.2cdfce9d8fcbd0b3ad572084dec6d8c3.txt: Class 1 (SleepyDriving) is valid.\n",
            "gB_7_s5_2019-03-13T13-55-5201-00_ir_face_mp4-82_jpg.rf.6af7d4bec85fe9189b70940048077795.txt: Class 1 (SleepyDriving) is valid.\n",
            "gB_6_s1_2019-03-11T13-55-14-01-00_ir_face_mp4-228_jpg.rf.939f169fd39dc9b777e1861a19f33714.txt: Class 0 (Drinking) is valid.\n",
            "gA_3_s1_ir_face_mp4-118_jpg.rf.f11d2883f20340272832de77a81db1fc.txt: Class 0 (Drinking) is valid.\n",
            "gB_10_s5_2019-03-12T10-35-2001-00_ir_face_mp4-369_jpg.rf.fd1da2fb33a8e2fc1e54d869d9563b26.txt: Class 1 (SleepyDriving) is valid.\n",
            "gB_8_s1_2019-03-11T15-01-33-01-00_ir_face_mp4-320_jpg.rf.8ccb742c376164ef23b3a681208432e0.txt: Class 0 (Drinking) is valid.\n",
            "gA_5_s1_ir_face_mp4-147_jpg.rf.622ed099d759b7ded34085f12c63f830.txt: Class 0 (Drinking) is valid.\n",
            "gB_6_s5_2019-03-13T13-37-1101-00_ir_face_mp4-319_jpg.rf.235c35059e58a69cb87f641bf66c7713.txt: Class 1 (SleepyDriving) is valid.\n",
            "gB_6_s5_2019-03-13T13-37-1101-00_ir_face_mp4-312_jpg.rf.748a37d0d8912bd1b866a818a74064a4.txt: Class 1 (SleepyDriving) is valid.\n",
            "gB_8_s5_2019-03-13T14-10-0901-00_ir_face_mp4-91_jpg.rf.66a80e4bb556c54a7a9538ac024b78a7.txt: Class 1 (SleepyDriving) is valid.\n",
            "gA_2_s5_ir_face_mp4-131_jpg.rf.71a04905cd6f08700b0c42a8727df3a0.txt: Class 1 (SleepyDriving) is valid.\n",
            "gA_1_s1_ir_face_mp4-150_jpg.rf.e65979fe51b68be241ed4815e6b1ec58.txt: Class 0 (Drinking) is valid.\n",
            "gB_6_s5_2019-03-13T13-37-1101-00_ir_face_mp4-171_jpg.rf.c170ba6e98ef50c69b38e0685c78e915.txt: Class 1 (SleepyDriving) is valid.\n",
            "gB_10_s1_2019-03-11T15-24-54-01-00_ir_face_mp4-184_jpg.rf.ca41b678e0c3c771ab9988f3cf103699.txt: Class 0 (Drinking) is valid.\n",
            "gB_10_s5_2019-03-12T10-35-2001-00_ir_face_mp4-327_jpg.rf.8053a2895234b09036ad5bcbc3d09e3e.txt: Class 1 (SleepyDriving) is valid.\n",
            "gA_5_s5_ir_face_mp4-262_jpg.rf.2030f888367fa582bbdaf9f3bb15f612.txt: Class 1 (SleepyDriving) is valid.\n",
            "gA_1_s5_ir_face_mp4-293_jpg.rf.b9a2d3708d00a4a90c5f85c7e46cdcc9.txt: Class 1 (SleepyDriving) is valid.\n",
            "gB_9_s5_2019-03-07T16-31-4801-00_ir_face_mp4-263_jpg.rf.54b1e5db6c5332a3fb60680d468ef292.txt: Class 1 (SleepyDriving) is valid.\n",
            "gA_5_s1_ir_face_mp4-100_jpg.rf.8c985522fecb7aeeaf70452d43c1b967.txt: Class 0 (Drinking) is valid.\n",
            "gB_9_s5_2019-03-07T16-31-4801-00_ir_face_mp4-133_jpg.rf.390d56cb85f5a8b76d87d0facff1fdb5.txt: Class 1 (SleepyDriving) is valid.\n",
            "gA_1_s1_ir_face_mp4-54_jpg.rf.79c70bf99fab15a235864d3581ffde73.txt: Class 0 (Drinking) is valid.\n",
            "gB_6_s5_2019-03-13T13-37-1101-00_ir_face_mp4-94_jpg.rf.4205beb98793e90c07c43f23b5297a34.txt: Class 1 (SleepyDriving) is valid.\n",
            "gA_1_s1_ir_face_mp4-216_jpg.rf.2c97e7fb1f5e09dd7bc3386e22773adb.txt: Class 0 (Drinking) is valid.\n",
            "gA_4_s5_ir_face_mp4-134_jpg.rf.62a648e979bb1853b38a1f6a5168e8f2.txt: Class 1 (SleepyDriving) is valid.\n",
            "gB_10_s5_2019-03-12T10-35-2001-00_ir_face_mp4-319_jpg.rf.25538ccf48c158d5a1d1c151e7837292.txt: Class 1 (SleepyDriving) is valid.\n",
            "gA_4_s5_ir_face_mp4-81_jpg.rf.b1122befaf46c6c8b4e8a234dec1e398.txt: Class 1 (SleepyDriving) is valid.\n",
            "gB_6_s5_2019-03-13T13-37-1101-00_ir_face_mp4-169_jpg.rf.905701aab918a988e72ffc9ed1492b1a.txt: Class 1 (SleepyDriving) is valid.\n",
            "gB_10_s5_2019-03-12T10-35-2001-00_ir_face_mp4-86_jpg.rf.60bba4b6bb548edb7a4dca8494904005.txt: Class 1 (SleepyDriving) is valid.\n",
            "gB_6_s1_2019-03-11T13-55-14-01-00_ir_face_mp4-333_jpg.rf.a030ecf7ef2732f1eb630beeff97a266.txt: Class 0 (Drinking) is valid.\n",
            "gA_3_s1_ir_face_mp4-244_jpg.rf.05c85a13c1b698c24e1b9615101dbca5.txt: Class 0 (Drinking) is valid.\n",
            "gA_4_s1_ir_face_mp4-184_jpg.rf.83f1c5723efd6688a1f6b7a1f2a0c1fc.txt: Class 0 (Drinking) is valid.\n",
            "gA_1_s5_ir_face_mp4-294_jpg.rf.3b07c4b210ca4a8a89e2827b1c43f7da.txt: Class 1 (SleepyDriving) is valid.\n",
            "gB_10_s1_2019-03-11T15-24-54-01-00_ir_face_mp4-194_jpg.rf.6a9e6b98a21c80b264211aaf3bbc0cf5.txt: Class 0 (Drinking) is valid.\n",
            "gA_3_s5_ir_face_mp4-147_jpg.rf.a32d863a778264247b0bafe9ef8dc123.txt: Class 1 (SleepyDriving) is valid.\n",
            "gB_9_s5_2019-03-07T16-31-4801-00_ir_face_mp4-266_jpg.rf.4cd191cc82cb23bae0c24e9343a87b25.txt: Class 1 (SleepyDriving) is valid.\n",
            "gA_5_s5_ir_face_mp4-130_jpg.rf.9a8af102d76a80b0b78fb06bb98777d6.txt: Class 1 (SleepyDriving) is valid.\n",
            "gB_8_s1_2019-03-11T15-01-33-01-00_ir_face_mp4-446_jpg.rf.2152bd885065904f90123664b7f8e7e6.txt: Class 0 (Drinking) is valid.\n",
            "gB_9_s1_2019-03-07T16-36-24-01-00_ir_face_mp4-200_jpg.rf.ce88e0499962464159202ff6f93964ac.txt: Class 0 (Drinking) is valid.\n",
            "gB_9_s5_2019-03-07T16-31-4801-00_ir_face_mp4-127_jpg.rf.4654730fb97b16cf81e51668f5ab42f8.txt: Class 1 (SleepyDriving) is valid.\n",
            "gB_8_s1_2019-03-11T15-01-33-01-00_ir_face_mp4-228_jpg.rf.15af33b2c744604eb77ae6db03392cc5.txt: Class 0 (Drinking) is valid.\n",
            "gA_2_s1_ir_face_mp4-246_jpg.rf.5e1bdcca696e81bb45d2de4213feb345.txt: Class 0 (Drinking) is valid.\n",
            "gA_2_s5_ir_face_mp4-218_jpg.rf.0393d7c8f01edb982c85ae0f4c498757.txt: Class 1 (SleepyDriving) is valid.\n",
            "gB_7_s2_2019-03-11T14-12-25-01-00_ir_face_mp4-893_jpg.rf.c9ca025e11a8c9a26d9bac00f91f552d.txt: Class 0 (Drinking) is valid.\n",
            "gB_10_s5_2019-03-12T10-35-2001-00_ir_face_mp4-328_jpg.rf.8b20c8e4d9f09ad46313cc5fbe4e7af5.txt: Class 1 (SleepyDriving) is valid.\n",
            "gB_8_s5_2019-03-13T14-10-0901-00_ir_face_mp4-154_jpg.rf.95cbd20374cf81fbc958c34edcd744c5.txt: Class 1 (SleepyDriving) is valid.\n",
            "gA_4_s5_ir_face_mp4-131_jpg.rf.15c7550958f4494a52f8ed05e07aea7b.txt: Class 1 (SleepyDriving) is valid.\n",
            "gA_4_s1_ir_face_mp4-232_jpg.rf.dc3d234f7bd8595fd9873e9872850e42.txt: Class 0 (Drinking) is valid.\n",
            "gB_8_s5_2019-03-13T14-10-0901-00_ir_face_mp4-234_jpg.rf.7555ef163177dc7fa7b69e4126d4e71b.txt: Class 1 (SleepyDriving) is valid.\n",
            "gB_7_s5_2019-03-13T13-55-5201-00_ir_face_mp4-238_jpg.rf.6c2314f390f2398ffed9e7bcd1b5c8e2.txt: Class 1 (SleepyDriving) is valid.\n",
            "gB_10_s5_2019-03-12T10-35-2001-00_ir_face_mp4-369_jpg.rf.d10a0e86b4d8d9dd8a592c049c6e38fe.txt: Class 1 (SleepyDriving) is valid.\n",
            "gB_7_s5_2019-03-13T13-55-5201-00_ir_face_mp4-150_jpg.rf.8e103fff51c1bfa384d3687b6fa56910.txt: Class 1 (SleepyDriving) is valid.\n",
            "gA_3_s1_ir_face_mp4-195_jpg.rf.cef65a53b465479f3cc8c16fd089ac3d.txt: Class 0 (Drinking) is valid.\n",
            "gA_4_s1_ir_face_mp4-55_jpg.rf.3ed96cca1fb1c92bf4fc9c6ec605560b.txt: Class 0 (Drinking) is valid.\n",
            "gA_4_s1_ir_face_mp4-234_jpg.rf.65aa6a844c26c15b8cf9fef05b6fbe08.txt: Class 0 (Drinking) is valid.\n",
            "gA_3_s5_ir_face_mp4-148_jpg.rf.2a425d4f7750d6884de49e0a6b5f33ea.txt: Class 1 (SleepyDriving) is valid.\n",
            "gA_1_s5_ir_face_mp4-234_jpg.rf.466d818cf736e55b2985bb5a44bdf085.txt: Class 1 (SleepyDriving) is valid.\n",
            "gB_7_s1_2019-03-11T14-22-01-01-00_ir_face_mp4-223_jpg.rf.af3ceb8f807658ff72dada496c868953.txt: Class 0 (Drinking) is valid.\n",
            "gA_2_s5_ir_face_mp4-85_jpg.rf.c5ff247cd4aa5843eb8c10fb2ecf9267.txt: Class 1 (SleepyDriving) is valid.\n",
            "gA_1_s5_ir_face_mp4-296_jpg.rf.e9432975eca229ecd8d09a7fcc047efe.txt: Class 1 (SleepyDriving) is valid.\n",
            "gB_9_s1_2019-03-07T16-36-24-01-00_ir_face_mp4-91_jpg.rf.a91864ae38dc5be175e90138c9151a9d.txt: Class 0 (Drinking) is valid.\n",
            "gB_7_s5_2019-03-13T13-55-5201-00_ir_face_mp4-154_jpg.rf.e104f714071f25842c31ccca2a1ba33a.txt: Class 1 (SleepyDriving) is valid.\n",
            "gA_2_s5_ir_face_mp4-227_jpg.rf.2ec22f9eae55a0502966d5f5350b977c.txt: Class 1 (SleepyDriving) is valid.\n",
            "gB_9_s1_2019-03-07T16-36-24-01-00_ir_face_mp4-451_jpg.rf.2cc6acd81053ecd760f5f49048f207c5.txt: Class 0 (Drinking) is valid.\n",
            "gA_4_s5_ir_face_mp4-259_jpg.rf.77d9f34546f003af0c61ce20a28938b8.txt: Class 1 (SleepyDriving) is valid.\n",
            "gB_10_s5_2019-03-12T10-35-2001-00_ir_face_mp4-81_jpg.rf.2ddae87a0758925bd45d35dd69a82bc5.txt: Class 1 (SleepyDriving) is valid.\n",
            "gA_3_s1_ir_face_mp4-192_jpg.rf.714b4fa57c364451b3362b03e2953d61.txt: Class 0 (Drinking) is valid.\n",
            "gA_1_s5_ir_face_mp4-156_jpg.rf.c0a9c078d97242791a6014b0f4c61a4a.txt: Class 1 (SleepyDriving) is valid.\n",
            "gB_9_s1_2019-03-07T16-36-24-01-00_ir_face_mp4-296_jpg.rf.40ec15f82686ef0d98716024e6face84.txt: Class 0 (Drinking) is valid.\n",
            "gB_7_s1_2019-03-11T14-22-01-01-00_ir_face_mp4-220_jpg.rf.e57a25180305190bc76b3e176ab4cfab.txt: Class 0 (Drinking) is valid.\n",
            "gB_9_s1_2019-03-07T16-36-24-01-00_ir_face_mp4-452_jpg.rf.e9afada1d327c96317399f95511f8529.txt: Class 0 (Drinking) is valid.\n",
            "gA_2_s5_ir_face_mp4-229_jpg.rf.0ea0fdbe0af87eaba5dfb84eed0b44f9.txt: Class 1 (SleepyDriving) is valid.\n",
            "gB_7_s5_2019-03-13T13-55-5201-00_ir_face_mp4-152_jpg.rf.180ce6a493f7aea6465f029e29ff7c02.txt: Class 1 (SleepyDriving) is valid.\n",
            "gA_3_s1_ir_face_mp4-117_jpg.rf.9f46a694f2384191adff2286fca30c15.txt: Class 0 (Drinking) is valid.\n",
            "gB_7_s1_2019-03-11T14-22-01-01-00_ir_face_mp4-402_jpg.rf.538427608d020ba0b12f11a35e059f70.txt: Class 0 (Drinking) is valid.\n",
            "gA_3_s1_ir_face_mp4-244_jpg.rf.46e768d4676faa6b5ef04e05ff0db0d0.txt: Class 0 (Drinking) is valid.\n",
            "gB_6_s5_2019-03-13T13-37-1101-00_ir_face_mp4-170_jpg.rf.6c9bca96b7bad358f7d41090e784969c.txt: Class 1 (SleepyDriving) is valid.\n",
            "gB_9_s1_2019-03-07T16-36-24-01-00_ir_face_mp4-204_jpg.rf.ace438ff06a9c732d102bf8779c67209.txt: Class 0 (Drinking) is valid.\n",
            "gB_7_s5_2019-03-13T13-55-5201-00_ir_face_mp4-91_jpg.rf.747e77518e98ded683f2fa7ed1fea827.txt: Class 1 (SleepyDriving) is valid.\n",
            "gB_9_s5_2019-03-07T16-31-4801-00_ir_face_mp4-234_jpg.rf.244a45e4db1c63280a58930c148066d2.txt: Class 1 (SleepyDriving) is valid.\n",
            "gB_10_s5_2019-03-12T10-35-2001-00_ir_face_mp4-87_jpg.rf.f3cd9b3d202c3702512d3c8933818dfc.txt: Class 1 (SleepyDriving) is valid.\n",
            "gB_6_s1_2019-03-11T13-55-14-01-00_ir_face_mp4-234_jpg.rf.c1a7f87dc4f177203315257511bfcc34.txt: Class 0 (Drinking) is valid.\n",
            "gA_5_s5_ir_face_mp4-129_jpg.rf.1f21588c7ee060b991281c6a57084c2f.txt: Class 1 (SleepyDriving) is valid.\n",
            "gA_4_s5_ir_face_mp4-258_jpg.rf.132e855850f714dc80e4d9db4c29da59.txt: Class 1 (SleepyDriving) is valid.\n",
            "gB_10_s1_2019-03-11T15-24-54-01-00_ir_face_mp4-103_jpg.rf.01e4470075a0bbcf0089ee93b32a7363.txt: Class 0 (Drinking) is valid.\n",
            "gB_6_s5_2019-03-13T13-37-1101-00_ir_face_mp4-173_jpg.rf.0d3b3e2e09b947d36f3b946885b739fb.txt: Class 1 (SleepyDriving) is valid.\n",
            "gB_8_s1_2019-03-11T15-01-33-01-00_ir_face_mp4-224_jpg.rf.27b99bf8b65e25fbab1dc3edef72656b.txt: Class 0 (Drinking) is valid.\n",
            "gB_8_s5_2019-03-13T14-10-0901-00_ir_face_mp4-236_jpg.rf.bb4b3345a001d1388a73854723e0a386.txt: Class 1 (SleepyDriving) is valid.\n",
            "gB_7_s5_2019-03-13T13-55-5201-00_ir_face_mp4-306_jpg.rf.17ac84e699afa8b51280be209d74e9de.txt: Class 1 (SleepyDriving) is valid.\n",
            "gB_6_s1_2019-03-11T13-55-14-01-00_ir_face_mp4-328_jpg.rf.bad7eb20c961f18cbfaa05beb4267b36.txt: Class 0 (Drinking) is valid.\n",
            "gB_6_s5_2019-03-13T13-37-1101-00_ir_face_mp4-168_jpg.rf.104434be94c6560340e2974e198a8e9b.txt: Class 1 (SleepyDriving) is valid.\n",
            "gA_4_s5_ir_face_mp4-260_jpg.rf.5f4c87516a4f40c3658c2242374de213.txt: Class 1 (SleepyDriving) is valid.\n",
            "gA_2_s5_ir_face_mp4-225_jpg.rf.1245de0b262ff7ad80e3149339bf5d12.txt: Class 1 (SleepyDriving) is valid.\n",
            "gB_10_s1_2019-03-11T15-24-54-01-00_ir_face_mp4-184_jpg.rf.26a7d20c264ac4fdaaa0e6207d27ba71.txt: Class 0 (Drinking) is valid.\n",
            "gA_2_s5_ir_face_mp4-85_jpg.rf.4c417f3378199a8048aea03e179c9d42.txt: Class 1 (SleepyDriving) is valid.\n",
            "gA_1_s5_ir_face_mp4-156_jpg.rf.5bd64ff03f85976938c245c9e04cc805.txt: Class 1 (SleepyDriving) is valid.\n",
            "gB_8_s5_2019-03-13T14-10-0901-00_ir_face_mp4-295_jpg.rf.0326f3044e5c0234e6f52837fa62e7bf.txt: Class 1 (SleepyDriving) is valid.\n",
            "gB_9_s1_2019-03-07T16-36-24-01-00_ir_face_mp4-201_jpg.rf.64211af3683f24ed7eddbd992f277d02.txt: Class 0 (Drinking) is valid.\n",
            "gA_4_s5_ir_face_mp4-78_jpg.rf.406f7d1ac513299c25e27f3895e46e84.txt: Class 1 (SleepyDriving) is valid.\n",
            "gB_8_s1_2019-03-11T15-01-33-01-00_ir_face_mp4-224_jpg.rf.795acc2260b6454b88c4abe76b36ad11.txt: Class 0 (Drinking) is valid.\n",
            "gA_4_s1_ir_face_mp4-147_jpg.rf.32a48ee2cbaaaec0a15bb88ed4807cb4.txt: Class 0 (Drinking) is valid.\n",
            "gA_2_s5_ir_face_mp4-293_jpg.rf.518c9d3b1717d3145c77d28bab9cab1a.txt: Class 1 (SleepyDriving) is valid.\n",
            "gB_9_s5_2019-03-07T16-31-4801-00_ir_face_mp4-264_jpg.rf.d7109f8a2855749aa051ceb2475af72d.txt: Class 1 (SleepyDriving) is valid.\n",
            "gB_10_s5_2019-03-12T10-35-2001-00_ir_face_mp4-252_jpg.rf.55a33a8230feb44d54d6d3510ac939e1.txt: Class 1 (SleepyDriving) is valid.\n",
            "gA_1_s5_ir_face_mp4-92_jpg.rf.52b6381924de0ff06451d912f5a7a11f.txt: Class 1 (SleepyDriving) is valid.\n",
            "gA_3_s1_ir_face_mp4-239_jpg.rf.b88dd74f2ca55b4945d05067fefd0344.txt: Class 0 (Drinking) is valid.\n",
            "gA_2_s5_ir_face_mp4-128_jpg.rf.ce7e82c54d3c045c8fca82c7f7bcbcbc.txt: Class 1 (SleepyDriving) is valid.\n",
            "gB_10_s1_2019-03-11T15-24-54-01-00_ir_face_mp4-185_jpg.rf.9e9cf7aa98ea7badd6da84a6c656104c.txt: Class 0 (Drinking) is valid.\n",
            "gB_10_s1_2019-03-11T15-24-54-01-00_ir_face_mp4-102_jpg.rf.ec7bdcf8816192d2f8759b257b05366e.txt: Class 0 (Drinking) is valid.\n",
            "gB_8_s5_2019-03-13T14-10-0901-00_ir_face_mp4-88_jpg.rf.24b72a768d7e5d2ad8567d3c435fa8b6.txt: Class 1 (SleepyDriving) is valid.\n",
            "gA_4_s5_ir_face_mp4-131_jpg.rf.c5f03040128c4be76ed8c925a834e4ee.txt: Class 1 (SleepyDriving) is valid.\n",
            "gB_8_s1_2019-03-11T15-01-33-01-00_ir_face_mp4-442_jpg.rf.5d464b6da2969ebd7891fb29b0e03713.txt: Class 0 (Drinking) is valid.\n",
            "gA_5_s1_ir_face_mp4-49_jpg.rf.021d6fdbba0d23623ec5e0a9d8ceb66c.txt: Class 0 (Drinking) is valid.\n",
            "gA_2_s5_ir_face_mp4-84_jpg.rf.736be224bc87de31983e412f1448bf36.txt: Class 1 (SleepyDriving) is valid.\n",
            "gB_10_s5_2019-03-12T10-35-2001-00_ir_face_mp4-371_jpg.rf.7289a9da866abc218374fd0ec1465876.txt: Class 1 (SleepyDriving) is valid.\n",
            "gB_10_s1_2019-03-11T15-24-54-01-00_ir_face_mp4-193_jpg.rf.cf3cb3d5988f9b17eda49ac849d690f3.txt: Class 0 (Drinking) is valid.\n",
            "gB_8_s1_2019-03-11T15-01-33-01-00_ir_face_mp4-322_jpg.rf.62b5b8b1d6393c79fcb683f42c0578f0.txt: Class 0 (Drinking) is valid.\n",
            "gA_1_s5_ir_face_mp4-303_jpg.rf.f34f7930601b8c256c80ffb435e12a26.txt: Class 1 (SleepyDriving) is valid.\n",
            "gB_10_s1_2019-03-11T15-24-54-01-00_ir_face_mp4-90_jpg.rf.ee5e29e894825f640a26e9c6198fd46d.txt: Class 0 (Drinking) is valid.\n",
            "gA_4_s5_ir_face_mp4-80_jpg.rf.d36d4420784787ba2384d75cb43be85c.txt: Class 1 (SleepyDriving) is valid.\n",
            "gA_1_s1_ir_face_mp4-107_jpg.rf.f882c2ade547eb3ef91c3a672d86fa0e.txt: Class 0 (Drinking) is valid.\n",
            "gB_9_s5_2019-03-07T16-31-4801-00_ir_face_mp4-103_jpg.rf.614945fecf25df083b7110adaf7b9baf.txt: Class 1 (SleepyDriving) is valid.\n",
            "gB_10_s1_2019-03-11T15-24-54-01-00_ir_face_mp4-400_jpg.rf.ce33ba403f9bf485ca100a35fc13a3b9.txt: Class 0 (Drinking) is valid.\n",
            "gB_9_s5_2019-03-07T16-31-4801-00_ir_face_mp4-265_jpg.rf.73a91870d46c5c84c39d8c45be829d2f.txt: Class 1 (SleepyDriving) is valid.\n",
            "gB_7_s5_2019-03-13T13-55-5201-00_ir_face_mp4-157_jpg.rf.70cc0b3c0b4c22ceb5b7364e0e8e59bf.txt: Class 1 (SleepyDriving) is valid.\n",
            "gA_4_s1_ir_face_mp4-184_jpg.rf.bc95b997a8718f769e092cbda4144289.txt: Class 0 (Drinking) is valid.\n",
            "gB_9_s1_2019-03-07T16-36-24-01-00_ir_face_mp4-449_jpg.rf.5468ead5aec7104d28cb5743ddadaaa1.txt: Class 0 (Drinking) is valid.\n",
            "gB_9_s5_2019-03-07T16-31-4801-00_ir_face_mp4-232_jpg.rf.380b0d96204354af22561e17c0790b02.txt: Class 1 (SleepyDriving) is valid.\n",
            "gA_3_s1_ir_face_mp4-116_jpg.rf.bab66ab3f43db181981295c5e094a729.txt: Class 0 (Drinking) is valid.\n",
            "gB_7_s1_2019-03-11T14-22-01-01-00_ir_face_mp4-297_jpg.rf.aedc1d47957ecbbdeca3f65db555bfeb.txt: Class 0 (Drinking) is valid.\n",
            "gB_10_s1_2019-03-11T15-24-54-01-00_ir_face_mp4-91_jpg.rf.0fad2f8760470a10f978582e28cb3a88.txt: Class 0 (Drinking) is valid.\n",
            "gA_1_s5_ir_face_mp4-233_jpg.rf.8329f729053a66f3827e0f6420d551c1.txt: Class 1 (SleepyDriving) is valid.\n",
            "gB_6_s1_2019-03-11T13-55-14-01-00_ir_face_mp4-119_jpg.rf.2cae41a7c8acdb300c30b853948470ca.txt: Class 0 (Drinking) is valid.\n",
            "gB_8_s5_2019-03-13T14-10-0901-00_ir_face_mp4-90_jpg.rf.4da0167e10abe06ab96b09bf107b2665.txt: Class 1 (SleepyDriving) is valid.\n",
            "gB_6_s1_2019-03-11T13-55-14-01-00_ir_face_mp4-430_jpg.rf.5be71e8ee06c9fcd1b4fa73d2ebff49c.txt: Class 0 (Drinking) is valid.\n",
            "gB_9_s1_2019-03-07T16-36-24-01-00_ir_face_mp4-454_jpg.rf.1666b90dcdec85fdea2bb93fe148d2d8.txt: Class 0 (Drinking) is valid.\n",
            "gB_9_s5_2019-03-07T16-31-4801-00_ir_face_mp4-133_jpg.rf.3ff25ec439cccd63c468696bab2d62fa.txt: Class 1 (SleepyDriving) is valid.\n",
            "gA_2_s5_ir_face_mp4-125_jpg.rf.181a644f10b8d3cab4995d8c0c0bb08e.txt: Class 1 (SleepyDriving) is valid.\n",
            "gB_10_s5_2019-03-12T10-35-2001-00_ir_face_mp4-372_jpg.rf.5d0b555b77c8eec4e7e812eb8650f427.txt: Class 1 (SleepyDriving) is valid.\n",
            "gA_4_s5_ir_face_mp4-264_jpg.rf.00d77798d37820089ecb5f90193f95e8.txt: Class 1 (SleepyDriving) is valid.\n",
            "gB_10_s1_2019-03-11T15-24-54-01-00_ir_face_mp4-193_jpg.rf.972cab6afca39cb97e00cae0b902466d.txt: Class 0 (Drinking) is valid.\n",
            "gB_10_s5_2019-03-12T10-35-2001-00_ir_face_mp4-324_jpg.rf.8370c5ffa92dd6f11e096e6126f7867d.txt: Class 1 (SleepyDriving) is valid.\n",
            "gB_8_s1_2019-03-11T15-01-33-01-00_ir_face_mp4-442_jpg.rf.d443ac943df5e719e17bcdf5b578efe2.txt: Class 0 (Drinking) is valid.\n",
            "gB_7_s5_2019-03-13T13-55-5201-00_ir_face_mp4-54_jpg.rf.dd4259f6dc7e18749cf5e515f3edc87f.txt: Class 1 (SleepyDriving) is valid.\n",
            "gB_10_s1_2019-03-11T15-24-54-01-00_ir_face_mp4-271_jpg.rf.d4b33fa8dc808e4efa398015a48a6271.txt: Class 0 (Drinking) is valid.\n",
            "gB_9_s1_2019-03-07T16-36-24-01-00_ir_face_mp4-295_jpg.rf.e7f5174290f50ea1a0bd877034deb10d.txt: Class 0 (Drinking) is valid.\n",
            "gA_5_s5_ir_face_mp4-204_jpg.rf.c77374c8f858f4e259952936eb800b81.txt: Class 1 (SleepyDriving) is valid.\n",
            "gA_1_s1_ir_face_mp4-107_jpg.rf.cf0d30de3a944256621f194b8ef94164.txt: Class 0 (Drinking) is valid.\n",
            "gB_6_s5_2019-03-13T13-37-1101-00_ir_face_mp4-170_jpg.rf.f64415c7412fc52c734fe8c180a7ee52.txt: Class 1 (SleepyDriving) is valid.\n",
            "gA_2_s5_ir_face_mp4-220_jpg.rf.d2fe92bb75a0613016d8a4ae3e02ec1e.txt: Class 1 (SleepyDriving) is valid.\n",
            "gB_10_s5_2019-03-12T10-35-2001-00_ir_face_mp4-85_jpg.rf.0c02e4914353a43cccff4ab73e5fafd3.txt: Class 1 (SleepyDriving) is valid.\n",
            "gA_1_s5_ir_face_mp4-301_jpg.rf.f60b8de6e384bcd8c2c632c58742f76e.txt: Class 1 (SleepyDriving) is valid.\n",
            "gB_7_s1_2019-03-11T14-22-01-01-00_ir_face_mp4-114_jpg.rf.f3604f5bc3607f927eda545516c91c35.txt: Class 0 (Drinking) is valid.\n",
            "gA_3_s5_ir_face_mp4-39_jpg.rf.b19346a80aebf782c849db7416fe82f0.txt: Class 1 (SleepyDriving) is valid.\n",
            "gB_9_s1_2019-03-07T16-36-24-01-00_ir_face_mp4-453_jpg.rf.09f7c099262df20794f728f081571cff.txt: Class 0 (Drinking) is valid.\n",
            "gB_6_s1_2019-03-11T13-55-14-01-00_ir_face_mp4-430_jpg.rf.89398a598c193c79105e1e93f1ae9372.txt: Class 0 (Drinking) is valid.\n",
            "gB_6_s5_2019-03-13T13-37-1101-00_ir_face_mp4-167_jpg.rf.b36d2528b8c1d6e08f2465abc61bade4.txt: Class 1 (SleepyDriving) is valid.\n",
            "gA_3_s1_ir_face_mp4-51_jpg.rf.d94beb7dbcc4ea5218a20f57d2fcd28b.txt: Class 0 (Drinking) is valid.\n",
            "gB_6_s1_2019-03-11T13-55-14-01-00_ir_face_mp4-237_jpg.rf.db7e4f49a70281edb14680c417aa4000.txt: Class 0 (Drinking) is valid.\n",
            "gA_1_s1_ir_face_mp4-106_jpg.rf.1542b60a15693065ae98c4ab04ebd347.txt: Class 0 (Drinking) is valid.\n",
            "gB_9_s1_2019-03-07T16-36-24-01-00_ir_face_mp4-451_jpg.rf.c707bbe249e63f2607cdcf688f43897e.txt: Class 0 (Drinking) is valid.\n",
            "gB_10_s1_2019-03-11T15-24-54-01-00_ir_face_mp4-397_jpg.rf.3ade2369f172d889b7b84efaf6969b81.txt: Class 0 (Drinking) is valid.\n",
            "gA_5_s1_ir_face_mp4-51_jpg.rf.68f3d57f100bd0c0bdc21ebd670961e5.txt: Class 0 (Drinking) is valid.\n",
            "gB_10_s1_2019-03-11T15-24-54-01-00_ir_face_mp4-100_jpg.rf.792e4378017011818b0f35fcb37e30d3.txt: Class 0 (Drinking) is valid.\n",
            "gB_7_s5_2019-03-13T13-55-5201-00_ir_face_mp4-151_jpg.rf.26245bb1cdb5c753525e8009b8149a6e.txt: Class 1 (SleepyDriving) is valid.\n",
            "gA_1_s5_ir_face_mp4-302_jpg.rf.ee250382dcb6f77505041e7bbc74edbe.txt: Class 1 (SleepyDriving) is valid.\n",
            "gA_3_s5_ir_face_mp4-78_jpg.rf.db99622b519f622e96b959bf75326866.txt: Class 1 (SleepyDriving) is valid.\n",
            "\n",
            "Verifying labels in directory: /content/DMD-7/valid/labels\n",
            "gA_3_s1_ir_face_mp4-197_jpg.rf.756756f3f1ee42799cc8ae31a149ef1d.txt: Class 0 (Drinking) is valid.\n",
            "gB_10_s5_2019-03-12T10-35-2001-00_ir_face_mp4-326_jpg.rf.4f0171b7ae7ddc252d857b10e17a2737.txt: Class 1 (SleepyDriving) is valid.\n",
            "gB_7_s1_2019-03-11T14-22-01-01-00_ir_face_mp4-115_jpg.rf.469fa69c1f3aa7e1edf07347b045ff01.txt: Class 0 (Drinking) is valid.\n",
            "gB_9_s5_2019-03-07T16-31-4801-00_ir_face_mp4-131_jpg.rf.638512dd49315a5581fcfd97dabec89b.txt: Class 1 (SleepyDriving) is valid.\n",
            "gB_10_s5_2019-03-12T10-35-2001-00_ir_face_mp4-83_jpg.rf.48b2e46e47c516e5fce2d0715a72b88c.txt: Class 1 (SleepyDriving) is valid.\n",
            "gA_1_s1_ir_face_mp4-52_jpg.rf.9144eecec9cb2d9f7243b9be07861362.txt: Class 0 (Drinking) is valid.\n",
            "gA_4_s1_ir_face_mp4-58_jpg.rf.68d1c6d980ff0fdeadbb5203a7253052.txt: Class 0 (Drinking) is valid.\n",
            "gB_10_s5_2019-03-12T10-35-2001-00_ir_face_mp4-368_jpg.rf.9532b9ee233b1332a248d804fce62c60.txt: Class 1 (SleepyDriving) is valid.\n",
            "gA_1_s1_ir_face_mp4-217_jpg.rf.7304bff29d0e5ec9f053a57724bc204e.txt: Class 0 (Drinking) is valid.\n",
            "gA_4_s5_ir_face_mp4-135_jpg.rf.b3967582a3fa5b5d401de875cdbb4e6a.txt: Class 1 (SleepyDriving) is valid.\n",
            "gB_8_s5_2019-03-13T14-10-0901-00_ir_face_mp4-85_jpg.rf.b8c6550701c362002a0ad5609cfaca6a.txt: Class 1 (SleepyDriving) is valid.\n",
            "gA_1_s5_ir_face_mp4-91_jpg.rf.82c696b3b636fda3e16e75861b822759.txt: Class 1 (SleepyDriving) is valid.\n",
            "gB_10_s1_2019-03-11T15-24-54-01-00_ir_face_mp4-275_jpg.rf.21ddaa19f24d8889a00c988d5ca9e8a1.txt: Class 0 (Drinking) is valid.\n",
            "gB_10_s5_2019-03-12T10-35-2001-00_ir_face_mp4-159_jpg.rf.0f2bc8ce68f4089f36fc9ee97f15eaa6.txt: Class 1 (SleepyDriving) is valid.\n",
            "gA_2_s5_ir_face_mp4-289_jpg.rf.9f314a5ca9a018aa8b659f609b2e1fc4.txt: Class 1 (SleepyDriving) is valid.\n",
            "gB_10_s1_2019-03-11T15-24-54-01-00_ir_face_mp4-272_jpg.rf.1c8db7263c96391ea46c509bbf37ad95.txt: Class 0 (Drinking) is valid.\n",
            "gA_2_s5_ir_face_mp4-86_jpg.rf.2f1fc47d85728cf4aa596417c355fc1a.txt: Class 1 (SleepyDriving) is valid.\n",
            "gA_5_s5_ir_face_mp4-132_jpg.rf.b56d4f4888277b44ef98a3037cbea7e0.txt: Class 1 (SleepyDriving) is valid.\n",
            "gB_8_s5_2019-03-13T14-10-0901-00_ir_face_mp4-150_jpg.rf.ee198ed132f0b855a5acd4c8d035ec19.txt: Class 1 (SleepyDriving) is valid.\n",
            "gA_5_s1_ir_face_mp4-47_jpg.rf.863b9cbb0d3c77b94b999049a0a8fa64.txt: Class 0 (Drinking) is valid.\n",
            "gA_3_s5_ir_face_mp4-150_jpg.rf.25a80eae6e3acc3d6d6e1baf1f91fe85.txt: Class 1 (SleepyDriving) is valid.\n",
            "gA_4_s1_ir_face_mp4-233_jpg.rf.d39a6653eb5251f3629799f15ec1ddb6.txt: Class 0 (Drinking) is valid.\n",
            "gB_8_s5_2019-03-13T14-10-0901-00_ir_face_mp4-89_jpg.rf.0af44a74d48a5271598c5a6160fc4c8f.txt: Class 1 (SleepyDriving) is valid.\n",
            "gB_8_s1_2019-03-11T15-01-33-01-00_ir_face_mp4-448_jpg.rf.978c12e13acb0ec39a18a2e68cd29672.txt: Class 0 (Drinking) is valid.\n",
            "gA_2_s5_ir_face_mp4-221_jpg.rf.b973e77e6c088c1fedac5913f0004812.txt: Class 1 (SleepyDriving) is valid.\n",
            "gB_6_s5_2019-03-13T13-37-1101-00_ir_face_mp4-259_jpg.rf.0a68fc4664ca4494e91d0af9b5799d27.txt: Class 1 (SleepyDriving) is valid.\n",
            "gB_8_s1_2019-03-11T15-01-33-01-00_ir_face_mp4-323_jpg.rf.8f0f9895774dbbb59e6344c96a99f001.txt: Class 0 (Drinking) is valid.\n",
            "gA_3_s1_ir_face_mp4-243_jpg.rf.1e4d73577e33155cc15cb835a4867122.txt: Class 0 (Drinking) is valid.\n",
            "gB_10_s1_2019-03-11T15-24-54-01-00_ir_face_mp4-187_jpg.rf.cae79a3fd43aa5491858573ed6aed1ee.txt: Class 0 (Drinking) is valid.\n",
            "gB_8_s1_2019-03-11T15-01-33-01-00_ir_face_mp4-226_jpg.rf.47010323c2363ceb0e3b52fd691b85a9.txt: Class 0 (Drinking) is valid.\n",
            "gB_7_s5_2019-03-13T13-55-5201-00_ir_face_mp4-89_jpg.rf.f632cf2598f602d6334028de71d39658.txt: Class 1 (SleepyDriving) is valid.\n",
            "gB_6_s1_2019-03-11T13-55-14-01-00_ir_face_mp4-330_jpg.rf.a1b83ddf039725d0ef28ed97ebaa309e.txt: Class 0 (Drinking) is valid.\n",
            "gB_9_s5_2019-03-07T16-31-4801-00_ir_face_mp4-230_jpg.rf.9e7dcc14c8a1b00ded510f0add2e03d2.txt: Class 1 (SleepyDriving) is valid.\n",
            "gB_10_s1_2019-03-11T15-24-54-01-00_ir_face_mp4-98_jpg.rf.611c589c7e780d4c63902e8b57cd8315.txt: Class 0 (Drinking) is valid.\n",
            "gA_2_s1_ir_face_mp4-60_jpg.rf.d261c3f1b150002455e1f283f29f3e48.txt: Class 0 (Drinking) is valid.\n",
            "gB_7_s5_2019-03-13T13-55-5201-00_ir_face_mp4-299_jpg.rf.65ff1f808c980611667f937e9afc3f8e.txt: Class 1 (SleepyDriving) is valid.\n",
            "gB_9_s5_2019-03-07T16-31-4801-00_ir_face_mp4-102_jpg.rf.10446339e7717decc8d484d82790cc36.txt: Class 1 (SleepyDriving) is valid.\n",
            "gB_8_s5_2019-03-13T14-10-0901-00_ir_face_mp4-235_jpg.rf.e5c54bbaf0d86843bfd60b889d7384cf.txt: Class 1 (SleepyDriving) is valid.\n",
            "gA_1_s5_ir_face_mp4-154_jpg.rf.4c2243247ca67c3dd98dc0cff0229f32.txt: Class 1 (SleepyDriving) is valid.\n",
            "gA_5_s1_ir_face_mp4-216_jpg.rf.50d63dcc97afa8d111e3ce7e1b4ce53f.txt: Class 0 (Drinking) is valid.\n",
            "gB_9_s5_2019-03-07T16-31-4801-00_ir_face_mp4-129_jpg.rf.134cd1f4592286acf5deb8d01cdf0b60.txt: Class 1 (SleepyDriving) is valid.\n",
            "gA_3_s1_ir_face_mp4-52_jpg.rf.1a60a74033b3df336d3f883d60bba788.txt: Class 0 (Drinking) is valid.\n",
            "gA_3_s5_ir_face_mp4-40_jpg.rf.cdc7e278369b63a8b39730e2377b9f1e.txt: Class 1 (SleepyDriving) is valid.\n",
            "gA_5_s5_ir_face_mp4-265_jpg.rf.6eec146984a0891610c7d74db386f803.txt: Class 1 (SleepyDriving) is valid.\n",
            "gA_4_s1_ir_face_mp4-188_jpg.rf.a38abe27dbf1800a806bbc91a8f4e2e9.txt: Class 0 (Drinking) is valid.\n",
            "gB_6_s1_2019-03-11T13-55-14-01-00_ir_face_mp4-230_jpg.rf.b239527ddfab4bdc70b50034d4bd0b65.txt: Class 0 (Drinking) is valid.\n",
            "gB_7_s1_2019-03-11T14-22-01-01-00_ir_face_mp4-224_jpg.rf.1f9e0c90d46b277743f9a938d46f9529.txt: Class 0 (Drinking) is valid.\n",
            "gB_8_s5_2019-03-13T14-10-0901-00_ir_face_mp4-87_jpg.rf.1492e066074eb8deac59580eb0d0a14e.txt: Class 1 (SleepyDriving) is valid.\n",
            "gB_8_s5_2019-03-13T14-10-0901-00_ir_face_mp4-230_jpg.rf.df8f0f388901ff535b0525ef52778eae.txt: Class 1 (SleepyDriving) is valid.\n",
            "gB_8_s1_2019-03-11T15-01-33-01-00_ir_face_mp4-438_jpg.rf.62b4b80cc78825565b05d310a6393915.txt: Class 0 (Drinking) is valid.\n",
            "gB_9_s5_2019-03-07T16-31-4801-00_ir_face_mp4-104_jpg.rf.4a22e2e32cb5c8b8ba729c30e96c59f7.txt: Class 1 (SleepyDriving) is valid.\n",
            "gB_10_s1_2019-03-11T15-24-54-01-00_ir_face_mp4-191_jpg.rf.0954416d325bed1ec1ccf0e4039c8d45.txt: Class 0 (Drinking) is valid.\n",
            "gB_8_s5_2019-03-13T14-10-0901-00_ir_face_mp4-293_jpg.rf.831f77990250f3791ea94a1ea3ed0162.txt: Class 1 (SleepyDriving) is valid.\n",
            "gA_1_s5_ir_face_mp4-88_jpg.rf.47edbcb846642028a5894e4b28ac9bac.txt: Class 1 (SleepyDriving) is valid.\n",
            "gA_3_s5_ir_face_mp4-149_jpg.rf.3fb8c00e4c62fdd860cf159d6942a62a.txt: Class 1 (SleepyDriving) is valid.\n",
            "gB_8_s5_2019-03-13T14-10-0901-00_ir_face_mp4-287_jpg.rf.598c6b49e6a48f9a0c9ae6dd56db5d0f.txt: Class 1 (SleepyDriving) is valid.\n",
            "gB_7_s5_2019-03-13T13-55-5201-00_ir_face_mp4-149_jpg.rf.860342b84850b6694eaecd0a00ee2cc0.txt: Class 1 (SleepyDriving) is valid.\n",
            "gB_8_s5_2019-03-13T14-10-0901-00_ir_face_mp4-233_jpg.rf.75c9201e2671cf054dacf4fa88c6bd07.txt: Class 1 (SleepyDriving) is valid.\n",
            "gA_5_s5_ir_face_mp4-206_jpg.rf.6334d4f5c45155a1c81d2beec2735fc7.txt: Class 1 (SleepyDriving) is valid.\n",
            "gB_8_s5_2019-03-13T14-10-0901-00_ir_face_mp4-288_jpg.rf.9765cdd6fe5d5ec573dda8b7b0936e53.txt: Class 1 (SleepyDriving) is valid.\n",
            "gA_2_s5_ir_face_mp4-92_jpg.rf.c2be71c091643d8c4180c7a7b3df9d0c.txt: Class 1 (SleepyDriving) is valid.\n",
            "gA_3_s1_ir_face_mp4-49_jpg.rf.51e98bc2d091c2ea7970918d53807c74.txt: Class 0 (Drinking) is valid.\n",
            "gA_5_s1_ir_face_mp4-214_jpg.rf.24c568df0072d630e3abb2c760938bd9.txt: Class 0 (Drinking) is valid.\n",
            "gB_6_s1_2019-03-11T13-55-14-01-00_ir_face_mp4-125_jpg.rf.5e03dba582835fb753cd77da6b208323.txt: Class 0 (Drinking) is valid.\n",
            "gB_8_s5_2019-03-13T14-10-0901-00_ir_face_mp4-92_jpg.rf.fa7bdbbb80aa47bacb270420f6974c74.txt: Class 1 (SleepyDriving) is valid.\n",
            "gB_6_s5_2019-03-13T13-37-1101-00_ir_face_mp4-262_jpg.rf.63bd993f1810bdc69c0ba9dc21a8d556.txt: Class 1 (SleepyDriving) is valid.\n",
            "gA_2_s5_ir_face_mp4-294_jpg.rf.9b4acad3b30ca4100b16015562546ad9.txt: Class 1 (SleepyDriving) is valid.\n",
            "gA_5_s1_ir_face_mp4-144_jpg.rf.7cd428dcfeee264c12ce2e53d0588cad.txt: Class 0 (Drinking) is valid.\n",
            "gB_6_s5_2019-03-13T13-37-1101-00_ir_face_mp4-265_jpg.rf.d04dd682401acf690dcee44490684eac.txt: Class 1 (SleepyDriving) is valid.\n",
            "gB_10_s1_2019-03-11T15-24-54-01-00_ir_face_mp4-392_jpg.rf.1f75c551c6b1cfd9492890d7cd4cd936.txt: Class 0 (Drinking) is valid.\n",
            "gB_9_s5_2019-03-07T16-31-4801-00_ir_face_mp4-235_jpg.rf.3e1f65ef820e9cb023cebbd09c4583a8.txt: Class 1 (SleepyDriving) is valid.\n",
            "gB_7_s1_2019-03-11T14-22-01-01-00_ir_face_mp4-294_jpg.rf.019c4d9e85a497d4852452a8c0369b45.txt: Class 0 (Drinking) is valid.\n",
            "gB_10_s5_2019-03-12T10-35-2001-00_ir_face_mp4-323_jpg.rf.6b802adbf89bb96089bad26eaf436f40.txt: Class 1 (SleepyDriving) is valid.\n",
            "gA_3_s1_ir_face_mp4-53_jpg.rf.52517ffa0abfeee3252dea5f23dc1fa4.txt: Class 0 (Drinking) is valid.\n",
            "gB_10_s5_2019-03-12T10-35-2001-00_ir_face_mp4-251_jpg.rf.74e4f2d4014ef8532d4c70d0332087ba.txt: Class 1 (SleepyDriving) is valid.\n",
            "gA_5_s5_ir_face_mp4-133_jpg.rf.614e051ce6302f3e9b2661758d4f1210.txt: Class 1 (SleepyDriving) is valid.\n",
            "gA_1_s5_ir_face_mp4-161_jpg.rf.bcf7da8709d9f817caf1a586d096f9d2.txt: Class 1 (SleepyDriving) is valid.\n",
            "gB_6_s1_2019-03-11T13-55-14-01-00_ir_face_mp4-327_jpg.rf.7f2b60c9555821c3077e17d528541e7d.txt: Class 0 (Drinking) is valid.\n",
            "gA_1_s5_ir_face_mp4-295_jpg.rf.4c823f8e06f335cf91d3520a3aba22f1.txt: Class 1 (SleepyDriving) is valid.\n",
            "gA_5_s5_ir_face_mp4-208_jpg.rf.d62743433d12725f0db6c0db3496c3c6.txt: Class 1 (SleepyDriving) is valid.\n",
            "gB_8_s1_2019-03-11T15-01-33-01-00_ir_face_mp4-449_jpg.rf.a03d50bfc0c8d8c4abb23a498558d8ba.txt: Class 0 (Drinking) is valid.\n",
            "gB_6_s5_2019-03-13T13-37-1101-00_ir_face_mp4-91_jpg.rf.bb5688b564d59464d0a972c34efc9ea8.txt: Class 1 (SleepyDriving) is valid.\n",
            "gB_10_s5_2019-03-12T10-35-2001-00_ir_face_mp4-253_jpg.rf.b67703d959f957c64870c09dc1f7c8bd.txt: Class 1 (SleepyDriving) is valid.\n",
            "gB_7_s1_2019-03-11T14-22-01-01-00_ir_face_mp4-110_jpg.rf.003816b40667b1a9ad2b1c21dd7496c0.txt: Class 0 (Drinking) is valid.\n",
            "gA_5_s1_ir_face_mp4-52_jpg.rf.4e535f2f006ebda5985cad0d56974a20.txt: Class 0 (Drinking) is valid.\n",
            "gA_4_s1_ir_face_mp4-185_jpg.rf.8c24fd28bfd652a4cb158bff72a3789d.txt: Class 0 (Drinking) is valid.\n",
            "gB_7_s5_2019-03-13T13-55-5201-00_ir_face_mp4-90_jpg.rf.8a60209b0db363c2aa9094f4c92deb16.txt: Class 1 (SleepyDriving) is valid.\n",
            "gA_1_s5_ir_face_mp4-96_jpg.rf.c553251f649b4018a464dd131246ba9a.txt: Class 1 (SleepyDriving) is valid.\n",
            "gA_1_s5_ir_face_mp4-232_jpg.rf.e8e21d3a1c6bca1430b129ff58b687eb.txt: Class 1 (SleepyDriving) is valid.\n",
            "gB_7_s5_2019-03-13T13-55-5201-00_ir_face_mp4-305_jpg.rf.6928d2f3645493320e590b7ec0b56e91.txt: Class 1 (SleepyDriving) is valid.\n",
            "gB_8_s5_2019-03-13T14-10-0901-00_ir_face_mp4-294_jpg.rf.c0c875f1fb612589eeaf012a53f765ef.txt: Class 1 (SleepyDriving) is valid.\n",
            "gB_10_s1_2019-03-11T15-24-54-01-00_ir_face_mp4-273_jpg.rf.d92998e5f5239d68bacdfb8cb31650ee.txt: Class 0 (Drinking) is valid.\n",
            "gB_10_s1_2019-03-11T15-24-54-01-00_ir_face_mp4-270_jpg.rf.3533662570c960d270f39d6bca827d40.txt: Class 0 (Drinking) is valid.\n",
            "gB_6_s1_2019-03-11T13-55-14-01-00_ir_face_mp4-233_jpg.rf.5ead5d5a9d4e307976b9a60a0f1f85cf.txt: Class 0 (Drinking) is valid.\n",
            "gB_6_s5_2019-03-13T13-37-1101-00_ir_face_mp4-315_jpg.rf.5f49774ca68483e91530d9c1aef5928a.txt: Class 1 (SleepyDriving) is valid.\n",
            "gA_2_s5_ir_face_mp4-90_jpg.rf.de3826792a54cc1721db99b00f561229.txt: Class 1 (SleepyDriving) is valid.\n",
            "gA_1_s5_ir_face_mp4-95_jpg.rf.2faa59e68953f980a1adca0ba824de8d.txt: Class 1 (SleepyDriving) is valid.\n",
            "gB_8_s1_2019-03-11T15-01-33-01-00_ir_face_mp4-325_jpg.rf.63c8b9c2be46e427f9fee57b2373682d.txt: Class 0 (Drinking) is valid.\n",
            "gB_10_s1_2019-03-11T15-24-54-01-00_ir_face_mp4-94_jpg.rf.499b406d7cb45566831bfdae94e50966.txt: Class 0 (Drinking) is valid.\n",
            "gA_4_s5_ir_face_mp4-210_jpg.rf.f547a000f52230ba085a88bb37dec037.txt: Class 1 (SleepyDriving) is valid.\n",
            "gB_8_s1_2019-03-11T15-01-33-01-00_ir_face_mp4-105_jpg.rf.242196fa1ca60241d3f598642a37a4af.txt: Class 0 (Drinking) is valid.\n",
            "gA_3_s1_ir_face_mp4-191_jpg.rf.046485c83d9b5392725f73dd013049b9.txt: Class 0 (Drinking) is valid.\n",
            "gB_9_s5_2019-03-07T16-31-4801-00_ir_face_mp4-231_jpg.rf.1d6d05bf964d2de3fb44e52536c6db48.txt: Class 1 (SleepyDriving) is valid.\n",
            "gB_7_s5_2019-03-13T13-55-5201-00_ir_face_mp4-240_jpg.rf.660af276ed8395f2335acc293532e313.txt: Class 1 (SleepyDriving) is valid.\n",
            "gA_1_s5_ir_face_mp4-90_jpg.rf.37f3cd2106e2966e86a0e04f4821fcbc.txt: Class 1 (SleepyDriving) is valid.\n",
            "gB_10_s1_2019-03-11T15-24-54-01-00_ir_face_mp4-183_jpg.rf.03a69159ed009a05eefaf81f47c9411e.txt: Class 0 (Drinking) is valid.\n",
            "gB_7_s5_2019-03-13T13-55-5201-00_ir_face_mp4-49_jpg.rf.5f76c13a8644ec096f9a19481276d225.txt: Class 1 (SleepyDriving) is valid.\n",
            "gB_7_s5_2019-03-13T13-55-5201-00_ir_face_mp4-239_jpg.rf.c74f49f43c522d0236ef8bb91e201d36.txt: Class 1 (SleepyDriving) is valid.\n",
            "gB_7_s5_2019-03-13T13-55-5201-00_ir_face_mp4-301_jpg.rf.937f6bb595e22af8f5b0829d1eb8e9a5.txt: Class 1 (SleepyDriving) is valid.\n",
            "gB_8_s1_2019-03-11T15-01-33-01-00_ir_face_mp4-227_jpg.rf.ed1b8b3548fc3cf571d8afafd880e9e2.txt: Class 0 (Drinking) is valid.\n",
            "gB_6_s1_2019-03-11T13-55-14-01-00_ir_face_mp4-235_jpg.rf.68f2f8ecdd99c620e923bdb7a860a834.txt: Class 0 (Drinking) is valid.\n",
            "gB_10_s1_2019-03-11T15-24-54-01-00_ir_face_mp4-192_jpg.rf.caee534d1e77d7f66ff9faa18cf315e4.txt: Class 0 (Drinking) is valid.\n",
            "gB_8_s5_2019-03-13T14-10-0901-00_ir_face_mp4-161_jpg.rf.611fb0ffb36fa8365d3e5c229267d972.txt: Class 1 (SleepyDriving) is valid.\n",
            "gB_6_s5_2019-03-13T13-37-1101-00_ir_face_mp4-263_jpg.rf.493b3b0de368551307a8cfa68a7219e0.txt: Class 1 (SleepyDriving) is valid.\n",
            "gA_5_s5_ir_face_mp4-259_jpg.rf.3271053b89b31a2230e2a790eac9da04.txt: Class 1 (SleepyDriving) is valid.\n",
            "gB_10_s1_2019-03-11T15-24-54-01-00_ir_face_mp4-399_jpg.rf.ba2d2affbf2600dc4798abcfca0df2cc.txt: Class 0 (Drinking) is valid.\n",
            "gA_2_s5_ir_face_mp4-222_jpg.rf.e6bf74428107bd727dd497ef6ffd5f56.txt: Class 1 (SleepyDriving) is valid.\n",
            "gB_10_s5_2019-03-12T10-35-2001-00_ir_face_mp4-157_jpg.rf.eb58d66f8399549c1e399852fc766417.txt: Class 1 (SleepyDriving) is valid.\n",
            "gB_6_s1_2019-03-11T13-55-14-01-00_ir_face_mp4-131_jpg.rf.5a3a031e86510af44566849e96ab02f2.txt: Class 0 (Drinking) is valid.\n",
            "gB_9_s1_2019-03-07T16-36-24-01-00_ir_face_mp4-88_jpg.rf.c94524bbeee2d613d76a4c42281d3677.txt: Class 0 (Drinking) is valid.\n",
            "gB_10_s5_2019-03-12T10-35-2001-00_ir_face_mp4-325_jpg.rf.534078ccc2e5a368d0263c3774b58dab.txt: Class 1 (SleepyDriving) is valid.\n",
            "gB_8_s5_2019-03-13T14-10-0901-00_ir_face_mp4-157_jpg.rf.b97273112342b0a72619afdb059009f5.txt: Class 1 (SleepyDriving) is valid.\n",
            "gB_10_s1_2019-03-11T15-24-54-01-00_ir_face_mp4-390_jpg.rf.a7382311873ccf90339c1cad7b0676ea.txt: Class 0 (Drinking) is valid.\n",
            "gB_10_s5_2019-03-12T10-35-2001-00_ir_face_mp4-322_jpg.rf.aa1d9b3efb2f8caca12aec2a421e04fc.txt: Class 1 (SleepyDriving) is valid.\n",
            "gB_9_s5_2019-03-07T16-31-4801-00_ir_face_mp4-267_jpg.rf.ba60c624ece44d575f578ae5df1b3810.txt: Class 1 (SleepyDriving) is valid.\n",
            "gB_8_s5_2019-03-13T14-10-0901-00_ir_face_mp4-152_jpg.rf.b07a6b1c0b58c15411ae05fa65b5cf59.txt: Class 1 (SleepyDriving) is valid.\n",
            "gA_1_s5_ir_face_mp4-300_jpg.rf.39b447d8141eced86275766f28da045f.txt: Class 1 (SleepyDriving) is valid.\n",
            "gA_4_s5_ir_face_mp4-261_jpg.rf.4b9c11f72163f2e8d94835b3078ac68b.txt: Class 1 (SleepyDriving) is valid.\n",
            "gB_10_s1_2019-03-11T15-24-54-01-00_ir_face_mp4-274_jpg.rf.c81fe0bc9a576a084dcfc69d460111b3.txt: Class 0 (Drinking) is valid.\n",
            "gA_4_s1_ir_face_mp4-146_jpg.rf.315e6f0adb416a497be9cb31fdb7c5bc.txt: Class 0 (Drinking) is valid.\n",
            "gA_2_s1_ir_face_mp4-115_jpg.rf.9fc7e78538bf19712704524a85816eab.txt: Class 0 (Drinking) is valid.\n",
            "gB_10_s5_2019-03-12T10-35-2001-00_ir_face_mp4-161_jpg.rf.b040c4ee5e17dd6c08fc153b140868be.txt: Class 1 (SleepyDriving) is valid.\n",
            "gA_4_s5_ir_face_mp4-208_jpg.rf.b1724f9baf9929754aae47686ecc6f4f.txt: Class 1 (SleepyDriving) is valid.\n",
            "gA_4_s5_ir_face_mp4-207_jpg.rf.7cf5dcfc4cb36f634320e2c937e784e7.txt: Class 1 (SleepyDriving) is valid.\n",
            "gB_7_s5_2019-03-13T13-55-5201-00_ir_face_mp4-300_jpg.rf.708f09f2f088659cce40a62ef9ca4ce9.txt: Class 1 (SleepyDriving) is valid.\n",
            "gA_5_s1_ir_face_mp4-48_jpg.rf.d230b3445a2b5d5d8db9423dddda2d14.txt: Class 0 (Drinking) is valid.\n",
            "gA_5_s1_ir_face_mp4-99_jpg.rf.4f56664345e1ba57f1e89ca56b01ada1.txt: Class 0 (Drinking) is valid.\n",
            "\n",
            "Verifying labels in directory: /content/DMD-7/test/labels\n",
            "gA_1_s2_ir_face_mp4-443_jpg.rf.a3de7196c1ec2c63304b9f37d8a66e4f.txt: Class 0 (Drinking) is valid.\n",
            "gB_9_s2_2019-03-07T16-21-20-01-00_ir_face_mp4-131_jpg.rf.6d9847bdc2b13c130993d7f86f9a5ae3.txt: Class 0 (Drinking) is valid.\n",
            "gB_10_s1_2019-03-11T15-24-54-01-00_ir_face_mp4-241_jpg.rf.79147927fb2b20d66be3776e72a08740.txt: Class 1 (SleepyDriving) is valid.\n",
            "gB_10_s2_2019-03-11T15-15-21-01-00_ir_face_mp4-282_jpg.rf.522a32e21fc3349c56e03f911da6ea28.txt: Class 1 (SleepyDriving) is valid.\n",
            "gB_7_s2_2019-03-11T14-12-25-01-00_ir_face_mp4-577_jpg.rf.0d36f4db2c85411090059b65f25dd402.txt: Class 0 (Drinking) is valid.\n",
            "gB_9_s2_2019-03-07T16-21-20-01-00_ir_face_mp4-472_jpg.rf.bb49efc04817d223e83d9945c5e75fb0.txt: Class 0 (Drinking) is valid.\n",
            "gB_9_s2_2019-03-07T16-21-20-01-00_ir_face_mp4-668_jpg.rf.e365b83578dd05be52f6679da8314d54.txt: Class 0 (Drinking) is valid.\n",
            "gB_6_s2_2019-03-11T13-46-14-01-00_ir_face_mp4-52_jpg.rf.bcda2295349e879bfb0ab0d7b6c3f0b6.txt: Class 0 (Drinking) is valid.\n",
            "gB_7_s2_2019-03-11T14-12-25-01-00_ir_face_mp4-578_jpg.rf.65db5be6050a6e94636adb71314029de.txt: Class 0 (Drinking) is valid.\n",
            "gB_7_s2_2019-03-11T14-12-25-01-00_ir_face_mp4-191_jpg.rf.4c8c0001ef986dd0827acc68a67f6e0b.txt: Class 1 (SleepyDriving) is valid.\n",
            "gB_10_s2_2019-03-11T15-15-21-01-00_ir_face_mp4-598_jpg.rf.cc84e5f4a65e081304511ec4228d819a.txt: Class 0 (Drinking) is valid.\n",
            "gB_7_s2_2019-03-11T14-12-25-01-00_ir_face_mp4-342_jpg.rf.cdcb8c55041f05a1ec0cd015f8fe3237.txt: Class 0 (Drinking) is valid.\n",
            "gA_4_s2_ir_face_mp4-167_jpg.rf.286c8b3a54a9f9497e59a8a68c868481.txt: Class 0 (Drinking) is valid.\n",
            "gB_10_s2_2019-03-11T15-15-21-01-00_ir_face_mp4-575_jpg.rf.cd65a0360f1c6a9b1e26111a4792b916.txt: Class 0 (Drinking) is valid.\n",
            "gB_7_s2_2019-03-11T14-12-25-01-00_ir_face_mp4-480_jpg.rf.624f4c67a96f6425bc6821d2e703ffaf.txt: Class 1 (SleepyDriving) is valid.\n",
            "gB_6_s1_2019-03-11T13-55-14-01-00_ir_face_mp4-232_jpg.rf.9def3b8e25fd523aa371e068fbd5f4c0.txt: Class 2 (Yawn) is valid.\n",
            "gB_7_s1_2019-03-11T14-22-01-01-00_ir_face_mp4-111_jpg.rf.9b082387fa8b96943f217ecd40257e06.txt: Class 2 (Yawn) is valid.\n",
            "gB_6_s2_2019-03-11T13-46-14-01-00_ir_face_mp4-720_jpg.rf.cc77e3cd0838d5bf0a1d2b9e0d2ca321.txt: Class 1 (SleepyDriving) is valid.\n",
            "gA_5_s2_ir_face_mp4-83_jpg.rf.9483009ff25e1ace14c7186ec88b72c2.txt: Class 1 (SleepyDriving) is valid.\n",
            "gB_10_s2_2019-03-11T15-15-21-01-00_ir_face_mp4-336_jpg.rf.8f635af1520dc2b4c2689aa85fbb900b.txt: Class 0 (Drinking) is valid.\n",
            "gB_7_s2_2019-03-11T14-12-25-01-00_ir_face_mp4-873_jpg.rf.0d3da8ccf750abf701c9e095c272d4c2.txt: Class 0 (Drinking) is valid.\n",
            "gB_6_s2_2019-03-11T13-46-14-01-00_ir_face_mp4-822_jpg.rf.18f2a5a9d3ba3d74e1dbce1af23e4401.txt: Class 0 (Drinking) is valid.\n",
            "gB_6_s2_2019-03-11T13-46-14-01-00_ir_face_mp4-363_jpg.rf.9ff17cdd3b1210ee63b012cb6a57743b.txt: Class 0 (Drinking) is valid.\n",
            "gB_7_s2_2019-03-11T14-12-25-01-00_ir_face_mp4-754_jpg.rf.b22fc83c15bc0ac5fc7c43986916c645.txt: Class 0 (Drinking) is valid.\n",
            "gB_10_s2_2019-03-11T15-15-21-01-00_ir_face_mp4-962_jpg.rf.29cbbe6d93ef5a8bdfcba635eb929fbe.txt: Class 1 (SleepyDriving) is valid.\n",
            "gB_8_s2_2019-03-11T14-38-44-01-00_ir_face_mp4-327_jpg.rf.02a605dc5c6380e73dd400dd47525526.txt: Class 0 (Drinking) is valid.\n",
            "gB_9_s1_2019-03-07T16-36-24-01-00_ir_face_mp4-83_jpg.rf.066d864f78f7d49be26ef8947601ce95.txt: Class 1 (SleepyDriving) is valid.\n",
            "gB_7_s1_2019-03-11T14-22-01-01-00_ir_face_mp4-29_jpg.rf.bc8028d4f73acddcc9b1ce386ccb8a8e.txt: Class 1 (SleepyDriving) is valid.\n",
            "gB_10_s2_2019-03-11T15-15-21-01-00_ir_face_mp4-741_jpg.rf.9b507d3ee184ff0e9a087d87b8d8244f.txt: Class 1 (SleepyDriving) is valid.\n",
            "gB_7_s2_2019-03-11T14-12-25-01-00_ir_face_mp4-418_jpg.rf.0ac085584e250fce4c73267f5c21dc0e.txt: Class 0 (Drinking) is valid.\n",
            "gB_6_s2_2019-03-11T13-46-14-01-00_ir_face_mp4-742_jpg.rf.d18c222215ca6e35641df43a93835613.txt: Class 0 (Drinking) is valid.\n",
            "gB_6_s2_2019-03-11T13-46-14-01-00_ir_face_mp4-199_jpg.rf.b1111812a63b80ebd16ffb9b4eb67375.txt: Class 0 (Drinking) is valid.\n",
            "gB_9_s2_2019-03-07T16-21-20-01-00_ir_face_mp4-176_jpg.rf.e08f60227aff5214b54f9f19eb076a16.txt: Class 1 (SleepyDriving) is valid.\n",
            "gB_9_s2_2019-03-07T16-21-20-01-00_ir_face_mp4-728_jpg.rf.3d84d859c48ff5db09c3cf6cd003e0da.txt: Class 1 (SleepyDriving) is valid.\n",
            "gB_6_s1_2019-03-11T13-55-14-01-00_ir_face_mp4-151_jpg.rf.1683afd5a88c3362b6f0a38b524505c2.txt: Class 1 (SleepyDriving) is valid.\n",
            "gB_9_s2_2019-03-07T16-21-20-01-00_ir_face_mp4-572_jpg.rf.345b97eaf7d1ed1431f69fedb5e8bb20.txt: Class 1 (SleepyDriving) is valid.\n",
            "gB_6_s2_2019-03-11T13-46-14-01-00_ir_face_mp4-741_jpg.rf.e077479ad78ca1d1395b1d26b2ef939e.txt: Class 0 (Drinking) is valid.\n",
            "gB_8_s2_2019-03-11T14-38-44-01-00_ir_face_mp4-702_jpg.rf.38c247031e5905e74b355d12bb170ae3.txt: Class 0 (Drinking) is valid.\n",
            "gB_8_s2_2019-03-11T14-38-44-01-00_ir_face_mp4-828_jpg.rf.846ae6a9f6001614377e4fc9c6c8e426.txt: Class 1 (SleepyDriving) is valid.\n",
            "gB_9_s2_2019-03-07T16-21-20-01-00_ir_face_mp4-343_jpg.rf.a55b113a87047af46dac2dd6f410d0fd.txt: Class 1 (SleepyDriving) is valid.\n",
            "gA_5_s5_ir_face_mp4-6_jpg.rf.56277b94c9f80f2c51a1774b4e502c32.txt: Class 1 (SleepyDriving) is valid.\n",
            "gA_1_s2_ir_face_mp4-262_jpg.rf.1565cf2cf42001d582b6cb1f0a277cfc.txt: Class 0 (Drinking) is valid.\n",
            "gB_7_s2_2019-03-11T14-12-25-01-00_ir_face_mp4-539_jpg.rf.eb90d6c294426e469bbbf5944784a2c2.txt: Class 0 (Drinking) is valid.\n",
            "gA_3_s1_ir_face_mp4-50_jpg.rf.1e060de8c08dcf7380fb37cb845bbad2.txt: Class 2 (Yawn) is valid.\n",
            "gB_6_s2_2019-03-11T13-46-14-01-00_ir_face_mp4-399_jpg.rf.5cc3df9fad67451c5f3f263378434af1.txt: Class 0 (Drinking) is valid.\n",
            "gB_10_s2_2019-03-11T15-15-21-01-00_ir_face_mp4-642_jpg.rf.6c2a8197e559203edd84ff5597163c56.txt: Class 0 (Drinking) is valid.\n",
            "gB_7_s2_2019-03-11T14-12-25-01-00_ir_face_mp4-855_jpg.rf.331d391308d1049c9d50bb218c09122e.txt: Class 1 (SleepyDriving) is valid.\n",
            "gB_7_s2_2019-03-11T14-12-25-01-00_ir_face_mp4-210_jpg.rf.ac8c2d3e3ea670286856919992affaf8.txt: Class 1 (SleepyDriving) is valid.\n",
            "gB_6_s2_2019-03-11T13-46-14-01-00_ir_face_mp4-246_jpg.rf.9796ba6d34ff70c19bbe502047dd3b3f.txt: Class 1 (SleepyDriving) is valid.\n",
            "gB_7_s2_2019-03-11T14-12-25-01-00_ir_face_mp4-872_jpg.rf.40a80fef167eb5763bbe48f87408959c.txt: Class 0 (Drinking) is valid.\n",
            "gB_6_s2_2019-03-11T13-46-14-01-00_ir_face_mp4-323_jpg.rf.b23804513353f6340b2d8d6097c7ec80.txt: Class 0 (Drinking) is valid.\n",
            "gA_4_s2_ir_face_mp4-96_jpg.rf.4959e33eee0a7b12ec5c3dfe95db92cd.txt: Class 0 (Drinking) is valid.\n",
            "gB_6_s2_2019-03-11T13-46-14-01-00_ir_face_mp4-434_jpg.rf.b16c05e02a2e567bec0153e47a42b6a6.txt: Class 1 (SleepyDriving) is valid.\n",
            "gA_3_s2_ir_face_mp4-406_jpg.rf.5a6c431ba6b0161252fe1519234667cf.txt: Class 1 (SleepyDriving) is valid.\n",
            "gB_6_s2_2019-03-11T13-46-14-01-00_ir_face_mp4-348_jpg.rf.96d6c673ce4408951e47aaad4a6b256f.txt: Class 0 (Drinking) is valid.\n",
            "gB_8_s2_2019-03-11T14-38-44-01-00_ir_face_mp4-67_jpg.rf.50ae26c8268327408c407ee425ef09f8.txt: Class 0 (Drinking) is valid.\n",
            "gB_10_s1_2019-03-11T15-24-54-01-00_ir_face_mp4-34_jpg.rf.b1c6a92eeff742da2b1029fe027230b1.txt: Class 1 (SleepyDriving) is valid.\n",
            "gB_7_s2_2019-03-11T14-12-25-01-00_ir_face_mp4-485_jpg.rf.856b3ccf616e6fda3be61ee327cc2b6f.txt: Class 1 (SleepyDriving) is valid.\n",
            "gB_8_s2_2019-03-11T14-38-44-01-00_ir_face_mp4-134_jpg.rf.502f7b07850545f2c4adc97c404161e4.txt: Class 0 (Drinking) is valid.\n",
            "gB_10_s2_2019-03-11T15-15-21-01-00_ir_face_mp4-860_jpg.rf.e852c9cb08651860bfc96d80c776ab15.txt: Class 0 (Drinking) is valid.\n",
            "gB_6_s2_2019-03-11T13-46-14-01-00_ir_face_mp4-810_jpg.rf.780520f83ce024838a0162c447dbaa39.txt: Class 0 (Drinking) is valid.\n",
            "gA_2_s1_ir_face_mp4-116_jpg.rf.f4b083e52a139eb54890c29322de9ac0.txt: Class 2 (Yawn) is valid.\n",
            "gB_8_s2_2019-03-11T14-38-44-01-00_ir_face_mp4-735_jpg.rf.b52689df2413c00cb11a081fc112a19d.txt: Class 0 (Drinking) is valid.\n",
            "gB_8_s2_2019-03-11T14-38-44-01-00_ir_face_mp4-48_jpg.rf.903c90b0d5f96c4d54a00fa587497f02.txt: Class 0 (Drinking) is valid.\n",
            "gB_10_s2_2019-03-11T15-15-21-01-00_ir_face_mp4-286_jpg.rf.93132cf4fc8a5b37dddfdb582e801499.txt: Class 0 (Drinking) is valid.\n",
            "gB_6_s1_2019-03-11T13-55-14-01-00_ir_face_mp4-236_jpg.rf.efb217655015b5774ef5b02e9f65f6fa.txt: Class 2 (Yawn) is valid.\n",
            "gB_6_s2_2019-03-11T13-46-14-01-00_ir_face_mp4-897_jpg.rf.54e35228ca01fdb7237c0e08274b3a7c.txt: Class 1 (SleepyDriving) is valid.\n",
            "gB_8_s1_2019-03-11T15-01-33-01-00_ir_face_mp4-134_jpg.rf.ce3c518af89968ab3cf07b710d78b900.txt: Class 1 (SleepyDriving) is valid.\n",
            "gB_6_s2_2019-03-11T13-46-14-01-00_ir_face_mp4-814_jpg.rf.48478360b395b2bd7f368eb03aa0599f.txt: Class 0 (Drinking) is valid.\n",
            "gB_7_s1_2019-03-11T14-22-01-01-00_ir_face_mp4-117_jpg.rf.aa2543cb025d4c4d73b7e4df64474a6b.txt: Class 2 (Yawn) is valid.\n",
            "gA_1_s2_ir_face_mp4-211_jpg.rf.074a3bbc55479cc608a52323744865a9.txt: Class 0 (Drinking) is valid.\n",
            "gB_10_s2_2019-03-11T15-15-21-01-00_ir_face_mp4-615_jpg.rf.7c20380d9ec412107428cfda6cf9f012.txt: Class 0 (Drinking) is valid.\n",
            "gB_10_s2_2019-03-11T15-15-21-01-00_ir_face_mp4-133_jpg.rf.6c5a9c98e1baf544f3ef83f0e5e6e4c9.txt: Class 0 (Drinking) is valid.\n",
            "gA_3_s2_ir_face_mp4-366_jpg.rf.7a7a14c6b4c3091236978b985bdf7849.txt: Class 0 (Drinking) is valid.\n",
            "gB_6_s2_2019-03-11T13-46-14-01-00_ir_face_mp4-385_jpg.rf.b5fb11571d05b6b4343abd589bf9fb03.txt: Class 0 (Drinking) is valid.\n",
            "gA_4_s2_ir_face_mp4-273_jpg.rf.08dff58b16162c455b34b2dfc219dd15.txt: Class 0 (Drinking) is valid.\n",
            "gB_7_s2_2019-03-11T14-12-25-01-00_ir_face_mp4-337_jpg.rf.7971fe1895d9381d7f29185f8911d215.txt: Class 1 (SleepyDriving) is valid.\n",
            "gB_8_s1_2019-03-11T15-01-33-01-00_ir_face_mp4-445_jpg.rf.e8c4e949122abaec9264a4226f7fa00c.txt: Class 2 (Yawn) is valid.\n",
            "gB_6_s1_2019-03-11T13-55-14-01-00_ir_face_mp4-291_jpg.rf.05c19f9c45707ea541b0482b86f73968.txt: Class 1 (SleepyDriving) is valid.\n",
            "gA_2_s2_ir_face_mp4-181_jpg.rf.ffe7e529c1c5b7042c2d5b1a2f6be686.txt: Class 0 (Drinking) is valid.\n",
            "gB_10_s2_2019-03-11T15-15-21-01-00_ir_face_mp4-995_jpg.rf.2d47b1a45f8547d9ecd90bf891f28bee.txt: Class 0 (Drinking) is valid.\n",
            "gB_9_s2_2019-03-07T16-21-20-01-00_ir_face_mp4-81_jpg.rf.1f1efe4b8c396b27fd65e3301d0b464f.txt: Class 0 (Drinking) is valid.\n",
            "gB_8_s1_2019-03-11T15-01-33-01-00_ir_face_mp4-110_jpg.rf.4dd9c8c1c1f10f39525fc353fed8907e.txt: Class 1 (SleepyDriving) is valid.\n",
            "gB_7_s2_2019-03-11T14-12-25-01-00_ir_face_mp4-461_jpg.rf.41e1bf15c9607f32cdf6acd39b3e0281.txt: Class 1 (SleepyDriving) is valid.\n",
            "gB_10_s1_2019-03-11T15-24-54-01-00_ir_face_mp4-45_jpg.rf.5c85790f7403359174fe15138bbe0292.txt: Class 1 (SleepyDriving) is valid.\n",
            "gB_9_s2_2019-03-07T16-21-20-01-00_ir_face_mp4-796_jpg.rf.7f45424ddf2aeef4a0aeb23c9a82f6e9.txt: Class 1 (SleepyDriving) is valid.\n",
            "gB_6_s2_2019-03-11T13-46-14-01-00_ir_face_mp4-317_jpg.rf.0caacbd7b9d6a1ece90f281de07199e0.txt: Class 0 (Drinking) is valid.\n",
            "gB_7_s1_2019-03-11T14-22-01-01-00_ir_face_mp4-56_jpg.rf.0724e6c3d7b2d21984d5a751c5eda62c.txt: Class 1 (SleepyDriving) is valid.\n",
            "gB_9_s2_2019-03-07T16-21-20-01-00_ir_face_mp4-236_jpg.rf.60e871e0aceab6b701a466261f8dd1fd.txt: Class 0 (Drinking) is valid.\n",
            "gB_10_s2_2019-03-11T15-15-21-01-00_ir_face_mp4-363_jpg.rf.ca65b8068ba83f8d6c91237ed6fc848d.txt: Class 0 (Drinking) is valid.\n",
            "gB_8_s2_2019-03-11T14-38-44-01-00_ir_face_mp4-131_jpg.rf.25908cd5d2015b568d37dd6042961332.txt: Class 0 (Drinking) is valid.\n",
            "gA_4_s2_ir_face_mp4-192_jpg.rf.0b9a3ba58330b423a7ca32139b5bb7ef.txt: Class 0 (Drinking) is valid.\n",
            "gB_6_s2_2019-03-11T13-46-14-01-00_ir_face_mp4-887_jpg.rf.f1a43afe651f4749b7bc9035e39c566c.txt: Class 1 (SleepyDriving) is valid.\n",
            "gA_2_s2_ir_face_mp4-222_jpg.rf.fb86e34403454674b83fde1913aa1485.txt: Class 0 (Drinking) is valid.\n",
            "gA_4_s2_ir_face_mp4-343_jpg.rf.0dca63bdeca6950abf5c075c7ddc289b.txt: Class 1 (SleepyDriving) is valid.\n",
            "gB_8_s2_2019-03-11T14-38-44-01-00_ir_face_mp4-404_jpg.rf.3eac0e4ebc1aead015514fdce93b8afb.txt: Class 1 (SleepyDriving) is valid.\n",
            "gB_7_s2_2019-03-11T14-12-25-01-00_ir_face_mp4-487_jpg.rf.2dbc426f2bd2b5d39bceea27d85f519f.txt: Class 1 (SleepyDriving) is valid.\n",
            "gB_8_s2_2019-03-11T14-38-44-01-00_ir_face_mp4-300_jpg.rf.bec11bbea40706d530c065541a88deb6.txt: Class 0 (Drinking) is valid.\n",
            "gB_9_s2_2019-03-07T16-21-20-01-00_ir_face_mp4-28_jpg.rf.03b75ceb2109cd1611886bf8d00bcc68.txt: Class 1 (SleepyDriving) is valid.\n",
            "gA_2_s2_ir_face_mp4-193_jpg.rf.d7709400f098408d24a7f629c484573c.txt: Class 0 (Drinking) is valid.\n",
            "gA_2_s2_ir_face_mp4-331_jpg.rf.68adf90a6f7ef891bd8ead11ed5df7d2.txt: Class 0 (Drinking) is valid.\n",
            "gA_1_s2_ir_face_mp4-397_jpg.rf.daa1d2781c433c73dadd774fd49a37ee.txt: Class 0 (Drinking) is valid.\n",
            "gB_10_s2_2019-03-11T15-15-21-01-00_ir_face_mp4-638_jpg.rf.4bae83498857fbca97be6e2c13ee18ba.txt: Class 0 (Drinking) is valid.\n",
            "gB_10_s2_2019-03-11T15-15-21-01-00_ir_face_mp4-349_jpg.rf.557bdcff7a923849ff5e3ffcb04decda.txt: Class 0 (Drinking) is valid.\n",
            "gA_1_s2_ir_face_mp4-177_jpg.rf.90757b6a11c5b68a1f5a166919f34047.txt: Class 0 (Drinking) is valid.\n",
            "gB_8_s1_2019-03-11T15-01-33-01-00_ir_face_mp4-174_jpg.rf.910c444fd518532bcc0516ee18fedd29.txt: Class 1 (SleepyDriving) is valid.\n",
            "gB_7_s2_2019-03-11T14-12-25-01-00_ir_face_mp4-531_jpg.rf.8ed1e5331df39b8e20c943149c959e08.txt: Class 0 (Drinking) is valid.\n",
            "gA_4_s1_ir_face_mp4-190_jpg.rf.bcf5ca2cb260cbbc412804c5cc68308b.txt: Class 2 (Yawn) is valid.\n",
            "gA_5_s1_ir_face_mp4-218_jpg.rf.acde8bbda38d15aaa84180df58be8bd2.txt: Class 1 (SleepyDriving) is valid.\n",
            "gA_5_s5_ir_face_mp4-16_jpg.rf.947f3fdbb644326d68cfebd65e68f0ea.txt: Class 1 (SleepyDriving) is valid.\n",
            "gB_7_s2_2019-03-11T14-12-25-01-00_ir_face_mp4-307_jpg.rf.46f6c09ee0bc3f2ccc5cac933a5267a5.txt: Class 0 (Drinking) is valid.\n",
            "gB_9_s2_2019-03-07T16-21-20-01-00_ir_face_mp4-520_jpg.rf.6b11174043000d7c80fa7099170a5745.txt: Class 0 (Drinking) is valid.\n",
            "gB_10_s2_2019-03-11T15-15-21-01-00_ir_face_mp4-671_jpg.rf.2aadd1e6633ceb1852ed88b34af11f64.txt: Class 0 (Drinking) is valid.\n",
            "gB_6_s2_2019-03-11T13-46-14-01-00_ir_face_mp4-598_jpg.rf.66139ee7b3bc5748f879a18793f99d34.txt: Class 0 (Drinking) is valid.\n",
            "gB_9_s2_2019-03-07T16-21-20-01-00_ir_face_mp4-525_jpg.rf.002f2a7563ae5f71a20a5ecbd50dbb47.txt: Class 1 (SleepyDriving) is valid.\n",
            "gA_1_s2_ir_face_mp4-423_jpg.rf.bbe5b6cf09e2001a0a0262400a432ea5.txt: Class 1 (SleepyDriving) is valid.\n",
            "gA_4_s2_ir_face_mp4-297_jpg.rf.c509fa52c00fb43eb9d235286b8f3bd8.txt: Class 0 (Drinking) is valid.\n",
            "gB_7_s2_2019-03-11T14-12-25-01-00_ir_face_mp4-197_jpg.rf.2788948609f727ade49be531cf32c8fe.txt: Class 1 (SleepyDriving) is valid.\n",
            "gB_10_s1_2019-03-11T15-24-54-01-00_ir_face_mp4-99_jpg.rf.e2a7b0a54bde4f193cc7b807b7cca210.txt: Class 2 (Yawn) is valid.\n",
            "gB_8_s2_2019-03-11T14-38-44-01-00_ir_face_mp4-125_jpg.rf.f7631ac9363c85224ba20fcbc55ec887.txt: Class 0 (Drinking) is valid.\n",
            "gB_9_s2_2019-03-07T16-21-20-01-00_ir_face_mp4-105_jpg.rf.8b773e7c98d7417f708848e33bc084ed.txt: Class 0 (Drinking) is valid.\n",
            "gB_7_s2_2019-03-11T14-12-25-01-00_ir_face_mp4-219_jpg.rf.4052dbe9b43d1cd6d984e5ab1921cd66.txt: Class 1 (SleepyDriving) is valid.\n",
            "gA_5_s2_ir_face_mp4-210_jpg.rf.97a234e79ec8235b69e8dd4053f963e9.txt: Class 0 (Drinking) is valid.\n",
            "gB_7_s2_2019-03-11T14-12-25-01-00_ir_face_mp4-558_jpg.rf.66a1301f51abaf50c53bf44f16de9641.txt: Class 0 (Drinking) is valid.\n",
            "gA_3_s2_ir_face_mp4-86_jpg.rf.5d997712844432bccae8ceed6a569cc7.txt: Class 1 (SleepyDriving) is valid.\n",
            "gB_6_s2_2019-03-11T13-46-14-01-00_ir_face_mp4-797_jpg.rf.30fa12f86c6679bdc576c45ce79ec8ce.txt: Class 0 (Drinking) is valid.\n",
            "gB_6_s2_2019-03-11T13-46-14-01-00_ir_face_mp4-829_jpg.rf.b4103e5e85c8165df6f0871d91e94587.txt: Class 0 (Drinking) is valid.\n",
            "gB_8_s2_2019-03-11T14-38-44-01-00_ir_face_mp4-61_jpg.rf.89904ecca7c529b8c034fdc94b4c30ed.txt: Class 0 (Drinking) is valid.\n",
            "gA_1_s2_ir_face_mp4-86_jpg.rf.a67c483cf59816fb641353c79b6514ca.txt: Class 0 (Drinking) is valid.\n",
            "gB_7_s2_2019-03-11T14-12-25-01-00_ir_face_mp4-280_jpg.rf.51a1a1e10ed96ac73426db31615bcda2.txt: Class 0 (Drinking) is valid.\n",
            "gA_5_s2_ir_face_mp4-62_jpg.rf.1d0a83579090bc98cd9f895b0c123c63.txt: Class 0 (Drinking) is valid.\n",
            "gB_8_s2_2019-03-11T14-38-44-01-00_ir_face_mp4-617_jpg.rf.df536901cfeae3cc3ff1116e5dae5451.txt: Class 1 (SleepyDriving) is valid.\n",
            "gB_6_s2_2019-03-11T13-46-14-01-00_ir_face_mp4-180_jpg.rf.a25c4261fb18b514b3b814cf59fd6bdb.txt: Class 0 (Drinking) is valid.\n",
            "gA_4_s2_ir_face_mp4-131_jpg.rf.18292b0da4cbc1a89b6fe83a3267c698.txt: Class 1 (SleepyDriving) is valid.\n",
            "gA_2_s1_ir_face_mp4-163_jpg.rf.9201ab516de0e7b871074545e0fc7987.txt: Class 2 (Yawn) is valid.\n",
            "gB_8_s1_2019-03-11T15-01-33-01-00_ir_face_mp4-269_jpg.rf.c925daa5bd0a4caa148c509e3e6a26ef.txt: Class 1 (SleepyDriving) is valid.\n",
            "gA_2_s2_ir_face_mp4-176_jpg.rf.1a4e6dccb31d3c27c2d6f878792d4010.txt: Class 0 (Drinking) is valid.\n",
            "gB_8_s2_2019-03-11T14-38-44-01-00_ir_face_mp4-468_jpg.rf.081b7aefa917446af381f3980d96d4be.txt: Class 0 (Drinking) is valid.\n",
            "gA_1_s2_ir_face_mp4-289_jpg.rf.cfd341a938348591935f298513515379.txt: Class 0 (Drinking) is valid.\n",
            "gB_10_s2_2019-03-11T15-15-21-01-00_ir_face_mp4-579_jpg.rf.d6f50b17730327c8a42734b3a5d3cec4.txt: Class 0 (Drinking) is valid.\n",
            "gA_3_s2_ir_face_mp4-396_jpg.rf.a39035a3eed283119513aecc9e3df5f9.txt: Class 1 (SleepyDriving) is valid.\n",
            "gB_10_s2_2019-03-11T15-15-21-01-00_ir_face_mp4-406_jpg.rf.e112ea1d169b266c51b5b74e1568bcf7.txt: Class 1 (SleepyDriving) is valid.\n",
            "gA_2_s2_ir_face_mp4-58_jpg.rf.a376b9e18fb794742fa91ea7311eba73.txt: Class 0 (Drinking) is valid.\n",
            "gB_9_s2_2019-03-07T16-21-20-01-00_ir_face_mp4-656_jpg.rf.17091f76582eb4901d101349e114d74c.txt: Class 0 (Drinking) is valid.\n",
            "gA_3_s2_ir_face_mp4-289_jpg.rf.0567293591fa115b3197ed99a41e8f06.txt: Class 0 (Drinking) is valid.\n",
            "gB_9_s2_2019-03-07T16-21-20-01-00_ir_face_mp4-704_jpg.rf.4b7d0d7e40c5bf07ea52c24713064acb.txt: Class 1 (SleepyDriving) is valid.\n",
            "gA_3_s2_ir_face_mp4-351_jpg.rf.893225b07a0ede908a34e53f811beda3.txt: Class 0 (Drinking) is valid.\n",
            "gA_1_s2_ir_face_mp4-401_jpg.rf.91c8bbb81f63e1e8e8cfd9c4be65e870.txt: Class 0 (Drinking) is valid.\n",
            "gB_9_s1_2019-03-07T16-36-24-01-00_ir_face_mp4-87_jpg.rf.682f0293528c7679a22473efb9706363.txt: Class 2 (Yawn) is valid.\n",
            "gB_9_s1_2019-03-07T16-36-24-01-00_ir_face_mp4-42_jpg.rf.3fe0b4e223ba9fef1923a195109d28ef.txt: Class 1 (SleepyDriving) is valid.\n",
            "gB_6_s2_2019-03-11T13-46-14-01-00_ir_face_mp4-337_jpg.rf.8f64e3f40694d50eea967172d69a1144.txt: Class 0 (Drinking) is valid.\n",
            "gA_5_s2_ir_face_mp4-402_jpg.rf.2624f1ddf84787062b70f83063809daf.txt: Class 0 (Drinking) is valid.\n",
            "gA_2_s2_ir_face_mp4-324_jpg.rf.4110760a2c80248d7f0af59d124434b2.txt: Class 0 (Drinking) is valid.\n",
            "gB_10_s2_2019-03-11T15-15-21-01-00_ir_face_mp4-945_jpg.rf.8aa71a34f7393de1d767c8ce9be37af2.txt: Class 1 (SleepyDriving) is valid.\n",
            "gB_10_s2_2019-03-11T15-15-21-01-00_ir_face_mp4-893_jpg.rf.e417dbfaa43908ec3a1a5985f8cfd684.txt: Class 0 (Drinking) is valid.\n",
            "gB_9_s2_2019-03-07T16-21-20-01-00_ir_face_mp4-326_jpg.rf.45e05f2d099827e1fa29bf73bd023604.txt: Class 1 (SleepyDriving) is valid.\n",
            "gA_2_s2_ir_face_mp4-55_jpg.rf.3c527b201aee2bd9730289278d4aedb5.txt: Class 0 (Drinking) is valid.\n",
            "gB_7_s2_2019-03-11T14-12-25-01-00_ir_face_mp4-254_jpg.rf.d52ffe6653e8a5a05068bc80c08e7441.txt: Class 0 (Drinking) is valid.\n",
            "gB_10_s2_2019-03-11T15-15-21-01-00_ir_face_mp4-186_jpg.rf.c9f1112e633d96eb05b6069d91eedb6c.txt: Class 0 (Drinking) is valid.\n",
            "gB_8_s2_2019-03-11T14-38-44-01-00_ir_face_mp4-547_jpg.rf.c8e99c8029c26ac39d056132571ccc5c.txt: Class 0 (Drinking) is valid.\n",
            "gB_6_s2_2019-03-11T13-46-14-01-00_ir_face_mp4-444_jpg.rf.30d7c6b07bbe887a5013dc33ac259a28.txt: Class 1 (SleepyDriving) is valid.\n",
            "gB_6_s2_2019-03-11T13-46-14-01-00_ir_face_mp4-888_jpg.rf.3c979a5c7e5bb1c774b77a504565420a.txt: Class 1 (SleepyDriving) is valid.\n",
            "gA_1_s1_ir_face_mp4-131_jpg.rf.7aeb4541fa71cae76e17279cea242bbe.txt: Class 1 (SleepyDriving) is valid.\n",
            "gA_1_s2_ir_face_mp4-390_jpg.rf.a2210c46e42ad9f9b53d490f792f9e02.txt: Class 0 (Drinking) is valid.\n",
            "gA_5_s2_ir_face_mp4-121_jpg.rf.cf991efc1196ae067df7b8e98bfda61e.txt: Class 0 (Drinking) is valid.\n",
            "gB_9_s2_2019-03-07T16-21-20-01-00_ir_face_mp4-457_jpg.rf.3c2945e19cf3dc8a7f4cd71e5a1c5f73.txt: Class 0 (Drinking) is valid.\n",
            "gB_10_s2_2019-03-11T15-15-21-01-00_ir_face_mp4-643_jpg.rf.a9fac26c7b4294b9f2cdbd5343afdfab.txt: Class 0 (Drinking) is valid.\n",
            "gB_10_s2_2019-03-11T15-15-21-01-00_ir_face_mp4-864_jpg.rf.790a004a626081fd496e051ff51c2397.txt: Class 0 (Drinking) is valid.\n",
            "gA_3_s1_ir_face_mp4-193_jpg.rf.c8ad30caaabe833cac14e9654756fe7c.txt: Class 2 (Yawn) is valid.\n",
            "gA_4_s2_ir_face_mp4-287_jpg.rf.b11b8fdc5b796d319c9a85a7e54e0d67.txt: Class 0 (Drinking) is valid.\n",
            "gB_10_s2_2019-03-11T15-15-21-01-00_ir_face_mp4-298_jpg.rf.82e8738b4131703e23d25529a0d5af00.txt: Class 0 (Drinking) is valid.\n",
            "gB_6_s2_2019-03-11T13-46-14-01-00_ir_face_mp4-125_jpg.rf.cb76645e83c8fc86a7e9acba2f2ca1a1.txt: Class 0 (Drinking) is valid.\n",
            "gB_10_s2_2019-03-11T15-15-21-01-00_ir_face_mp4-626_jpg.rf.d2bb184702418c8a6228f5bfba2b315d.txt: Class 0 (Drinking) is valid.\n",
            "gB_6_s1_2019-03-11T13-55-14-01-00_ir_face_mp4-332_jpg.rf.fbe7324ad6dadb7ed4c7c85bdf81c880.txt: Class 2 (Yawn) is valid.\n",
            "gA_3_s2_ir_face_mp4-257_jpg.rf.0bcdd36ee5f9f89483c4aec33688d531.txt: Class 0 (Drinking) is valid.\n",
            "gB_10_s2_2019-03-11T15-15-21-01-00_ir_face_mp4-585_jpg.rf.d8062cabb4309893cf36053249c41e49.txt: Class 0 (Drinking) is valid.\n",
            "gA_5_s2_ir_face_mp4-252_jpg.rf.40f2c302c41ef70fc08a824cde822347.txt: Class 0 (Drinking) is valid.\n",
            "gB_7_s1_2019-03-11T14-22-01-01-00_ir_face_mp4-264_jpg.rf.be4ab8b39d87ca7dda983aea53fda4dc.txt: Class 1 (SleepyDriving) is valid.\n",
            "gB_6_s2_2019-03-11T13-46-14-01-00_ir_face_mp4-800_jpg.rf.d4a42de234679a7f273cdfaa33e093b5.txt: Class 0 (Drinking) is valid.\n",
            "gB_8_s2_2019-03-11T14-38-44-01-00_ir_face_mp4-322_jpg.rf.9abf6a8aa35baea9d7565d2f36582d38.txt: Class 0 (Drinking) is valid.\n",
            "gB_8_s2_2019-03-11T14-38-44-01-00_ir_face_mp4-504_jpg.rf.d6190fd10ea1504c56c1e9c17dbc0cc9.txt: Class 1 (SleepyDriving) is valid.\n",
            "gB_6_s2_2019-03-11T13-46-14-01-00_ir_face_mp4-342_jpg.rf.7901846476d61c313ed65df3219b7cc9.txt: Class 0 (Drinking) is valid.\n",
            "gA_5_s2_ir_face_mp4-342_jpg.rf.8cdcd925291b0cd900cbe2bf173765f8.txt: Class 0 (Drinking) is valid.\n",
            "gB_7_s2_2019-03-11T14-12-25-01-00_ir_face_mp4-124_jpg.rf.81c9f84b02e265a405d069423b1cffbf.txt: Class 0 (Drinking) is valid.\n",
            "gB_8_s2_2019-03-11T14-38-44-01-00_ir_face_mp4-143_jpg.rf.6fecd550b6e7f634d3c147b99350a40c.txt: Class 0 (Drinking) is valid.\n",
            "gB_7_s1_2019-03-11T14-22-01-01-00_ir_face_mp4-403_jpg.rf.1d2da8f67d62248b07aa0adb8f9d2771.txt: Class 2 (Yawn) is valid.\n",
            "gB_10_s2_2019-03-11T15-15-21-01-00_ir_face_mp4-312_jpg.rf.225cac37fb633f5c0e2c0c489d41f3bb.txt: Class 0 (Drinking) is valid.\n",
            "gA_2_s2_ir_face_mp4-102_jpg.rf.b772a9771f9fe622053e9be4b0873d51.txt: Class 0 (Drinking) is valid.\n",
            "gB_8_s2_2019-03-11T14-38-44-01-00_ir_face_mp4-350_jpg.rf.99b049a96294ac56b2da83139e92eba0.txt: Class 0 (Drinking) is valid.\n",
            "gA_2_s2_ir_face_mp4-77_jpg.rf.2a05c4924d6611273047dab9f98611d9.txt: Class 0 (Drinking) is valid.\n",
            "gB_6_s1_2019-03-11T13-55-14-01-00_ir_face_mp4-275_jpg.rf.95c747f6311a4aba583a3c46b11a7aaa.txt: Class 1 (SleepyDriving) is valid.\n",
            "gB_10_s2_2019-03-11T15-15-21-01-00_ir_face_mp4-471_jpg.rf.a2495583585872882780d5fecf5f5ccb.txt: Class 0 (Drinking) is valid.\n",
            "gB_10_s2_2019-03-11T15-15-21-01-00_ir_face_mp4-665_jpg.rf.ce8776f0168ff4a455c1798d38a37a4b.txt: Class 0 (Drinking) is valid.\n",
            "gB_6_s2_2019-03-11T13-46-14-01-00_ir_face_mp4-608_jpg.rf.901d44e84217c93d73abba8ea8b67080.txt: Class 0 (Drinking) is valid.\n",
            "gB_6_s2_2019-03-11T13-46-14-01-00_ir_face_mp4-273_jpg.rf.f41979ff8db07db7f09ade1cfdba0c86.txt: Class 1 (SleepyDriving) is valid.\n",
            "gB_9_s2_2019-03-07T16-21-20-01-00_ir_face_mp4-345_jpg.rf.15f45b8ca1691420bfa96c0e377c47da.txt: Class 1 (SleepyDriving) is valid.\n",
            "gB_8_s1_2019-03-11T15-01-33-01-00_ir_face_mp4-326_jpg.rf.e00cd0c83e47ee112a3580553c8b2cd0.txt: Class 2 (Yawn) is valid.\n",
            "gB_10_s2_2019-03-11T15-15-21-01-00_ir_face_mp4-687_jpg.rf.fb227664eff234b5fa230db06b43da4f.txt: Class 0 (Drinking) is valid.\n",
            "gB_6_s2_2019-03-11T13-46-14-01-00_ir_face_mp4-256_jpg.rf.0fd25aea431b38290464eeb4d1f691c6.txt: Class 1 (SleepyDriving) is valid.\n",
            "gB_7_s1_2019-03-11T14-22-01-01-00_ir_face_mp4-153_jpg.rf.3f2081d555a83e5dc5337abca43461d0.txt: Class 1 (SleepyDriving) is valid.\n",
            "gB_7_s2_2019-03-11T14-12-25-01-00_ir_face_mp4-299_jpg.rf.43782f2d58ceb431cbd6b95c767f1aec.txt: Class 0 (Drinking) is valid.\n",
            "gB_10_s2_2019-03-11T15-15-21-01-00_ir_face_mp4-139_jpg.rf.e0cdeee2ec0fd835414684853d84d8d3.txt: Class 0 (Drinking) is valid.\n",
            "gA_1_s2_ir_face_mp4-352_jpg.rf.f45abb23edd46a454005891448f6f89f.txt: Class 0 (Drinking) is valid.\n",
            "gA_4_s2_ir_face_mp4-223_jpg.rf.1952f9e6689893684288107ceb93c80c.txt: Class 1 (SleepyDriving) is valid.\n",
            "gB_10_s2_2019-03-11T15-15-21-01-00_ir_face_mp4-965_jpg.rf.9dd7c199dfd72756622e1129c75a692e.txt: Class 1 (SleepyDriving) is valid.\n",
            "gB_8_s2_2019-03-11T14-38-44-01-00_ir_face_mp4-885_jpg.rf.ffeee6ad31d60fd018c1de188a66c2d1.txt: Class 0 (Drinking) is valid.\n",
            "gB_8_s2_2019-03-11T14-38-44-01-00_ir_face_mp4-418_jpg.rf.f3b08c38db98cd81547487f90cc2388b.txt: Class 1 (SleepyDriving) is valid.\n",
            "gB_8_s2_2019-03-11T14-38-44-01-00_ir_face_mp4-346_jpg.rf.c43ca9f1986d6cf98728cd7b22438024.txt: Class 0 (Drinking) is valid.\n",
            "gB_8_s2_2019-03-11T14-38-44-01-00_ir_face_mp4-333_jpg.rf.162ef31c62d313ab717cbb0b2185f8ae.txt: Class 0 (Drinking) is valid.\n",
            "gB_9_s2_2019-03-07T16-21-20-01-00_ir_face_mp4-241_jpg.rf.2ab67d119f15f58c63e2f73a72bc1957.txt: Class 0 (Drinking) is valid.\n",
            "gB_10_s1_2019-03-11T15-24-54-01-00_ir_face_mp4-395_jpg.rf.d445415b63bb9b734558aed113a8caba.txt: Class 2 (Yawn) is valid.\n",
            "gB_10_s2_2019-03-11T15-15-21-01-00_ir_face_mp4-610_jpg.rf.47884beba94c83f2cbe102337f06714d.txt: Class 0 (Drinking) is valid.\n",
            "gB_9_s2_2019-03-07T16-21-20-01-00_ir_face_mp4-620_jpg.rf.1d9e5f5671bb236adecacd0b3325c064.txt: Class 1 (SleepyDriving) is valid.\n",
            "gA_1_s2_ir_face_mp4-278_jpg.rf.d08e1cd77984e14a497b4e6acf928c63.txt: Class 0 (Drinking) is valid.\n",
            "gA_1_s1_ir_face_mp4-108_jpg.rf.576abe192932fb88dd328318014c80a8.txt: Class 2 (Yawn) is valid.\n",
            "gA_4_s2_ir_face_mp4-394_jpg.rf.23d7324973d28612944658f2623033c3.txt: Class 1 (SleepyDriving) is valid.\n",
            "gB_7_s1_2019-03-11T14-22-01-01-00_ir_face_mp4-66_jpg.rf.04f81a0ee17a8553a3c49e60c3022723.txt: Class 1 (SleepyDriving) is valid.\n",
            "gB_9_s2_2019-03-07T16-21-20-01-00_ir_face_mp4-285_jpg.rf.f527e559e7fa79d02cfbc5b3e94164fc.txt: Class 0 (Drinking) is valid.\n",
            "gB_9_s1_2019-03-07T16-36-24-01-00_ir_face_mp4-30_jpg.rf.0f61e2155cddb137c4e152b9e9fc34c2.txt: Class 1 (SleepyDriving) is valid.\n",
            "gB_9_s2_2019-03-07T16-21-20-01-00_ir_face_mp4-595_jpg.rf.27aa38b26f9d56451b8dae9c5fc031a0.txt: Class 1 (SleepyDriving) is valid.\n",
            "gA_1_s2_ir_face_mp4-444_jpg.rf.a0a0c422d2cdb4db8e78f3b9b0e59503.txt: Class 0 (Drinking) is valid.\n",
            "gA_4_s2_ir_face_mp4-258_jpg.rf.80d9a339c4e6191cbc296171251f3702.txt: Class 0 (Drinking) is valid.\n",
            "gB_10_s2_2019-03-11T15-15-21-01-00_ir_face_mp4-159_jpg.rf.21fcc77a1fe9cd3e7232ed00c6c6c950.txt: Class 0 (Drinking) is valid.\n",
            "gB_7_s2_2019-03-11T14-12-25-01-00_ir_face_mp4-671_jpg.rf.f11f935dd1883b7247d76ec78dd2409d.txt: Class 1 (SleepyDriving) is valid.\n",
            "gB_6_s2_2019-03-11T13-46-14-01-00_ir_face_mp4-801_jpg.rf.d7e1bcc7a72498fcd1b763c5095a09fe.txt: Class 0 (Drinking) is valid.\n",
            "gB_8_s2_2019-03-11T14-38-44-01-00_ir_face_mp4-389_jpg.rf.65b880c12b4070e03a54ce37cde53efe.txt: Class 1 (SleepyDriving) is valid.\n",
            "gA_2_s2_ir_face_mp4-410_jpg.rf.976d48390f0e200fff10e97c5b2eabb5.txt: Class 0 (Drinking) is valid.\n",
            "gA_2_s2_ir_face_mp4-96_jpg.rf.d4a649aa513858b36a53069fe25a94c7.txt: Class 0 (Drinking) is valid.\n",
            "gB_6_s2_2019-03-11T13-46-14-01-00_ir_face_mp4-852_jpg.rf.d4a30d08cc66f498d327a4f417369f39.txt: Class 0 (Drinking) is valid.\n",
            "gB_8_s2_2019-03-11T14-38-44-01-00_ir_face_mp4-321_jpg.rf.86e429e0ebc7bc266f84be00b7a47ac7.txt: Class 0 (Drinking) is valid.\n",
            "gA_4_s2_ir_face_mp4-169_jpg.rf.75089db6a54f19236d1d05e77a9f4d45.txt: Class 0 (Drinking) is valid.\n",
            "gB_8_s2_2019-03-11T14-38-44-01-00_ir_face_mp4-395_jpg.rf.941b053dfe2e4c4d54b610d9b964add0.txt: Class 1 (SleepyDriving) is valid.\n",
            "gB_9_s2_2019-03-07T16-21-20-01-00_ir_face_mp4-260_jpg.rf.0c27cecc49bcb58663a06d2ae1b8a432.txt: Class 0 (Drinking) is valid.\n",
            "gB_9_s1_2019-03-07T16-36-24-01-00_ir_face_mp4-205_jpg.rf.6db618e7af49a1affbad1fbd8fec31a0.txt: Class 2 (Yawn) is valid.\n",
            "gB_7_s2_2019-03-11T14-12-25-01-00_ir_face_mp4-247_jpg.rf.f3d15299759759319cfb0859a56a7482.txt: Class 0 (Drinking) is valid.\n",
            "gA_3_s2_ir_face_mp4-359_jpg.rf.efd34d8cdc8666649bdd41b438aa0d97.txt: Class 0 (Drinking) is valid.\n",
            "gB_9_s2_2019-03-07T16-21-20-01-00_ir_face_mp4-439_jpg.rf.c932ceadc36392032a653967c904fb98.txt: Class 0 (Drinking) is valid.\n",
            "gB_7_s2_2019-03-11T14-12-25-01-00_ir_face_mp4-524_jpg.rf.3eee62c6362b75d48aef4258b97f323e.txt: Class 0 (Drinking) is valid.\n",
            "gB_8_s2_2019-03-11T14-38-44-01-00_ir_face_mp4-820_jpg.rf.abde8b822b8cb24cc5b69a91d4720ec8.txt: Class 1 (SleepyDriving) is valid.\n",
            "gB_7_s2_2019-03-11T14-12-25-01-00_ir_face_mp4-3_jpg.rf.9081b8db1cb235910a5d7ec793c171b9.txt: Class 1 (SleepyDriving) is valid.\n",
            "gB_7_s2_2019-03-11T14-12-25-01-00_ir_face_mp4-62_jpg.rf.c2c50594bef99920d192646d77969b3d.txt: Class 0 (Drinking) is valid.\n",
            "gB_10_s2_2019-03-11T15-15-21-01-00_ir_face_mp4-319_jpg.rf.cc8ab7cb5a1a316c94f19aae05deebc8.txt: Class 0 (Drinking) is valid.\n",
            "gB_10_s2_2019-03-11T15-15-21-01-00_ir_face_mp4-130_jpg.rf.61c8210eae0896324fedc2f9f269771b.txt: Class 0 (Drinking) is valid.\n",
            "gB_8_s1_2019-03-11T15-01-33-01-00_ir_face_mp4-259_jpg.rf.9dfc06f5ec9307ac16981583a82af42e.txt: Class 1 (SleepyDriving) is valid.\n",
            "gB_6_s2_2019-03-11T13-46-14-01-00_ir_face_mp4-565_jpg.rf.ae51feda3419c4047a6cffeb6326d35f.txt: Class 0 (Drinking) is valid.\n",
            "gB_10_s2_2019-03-11T15-15-21-01-00_ir_face_mp4-699_jpg.rf.75d85ad45d96451936f7bb12f7e094d2.txt: Class 0 (Drinking) is valid.\n",
            "gB_10_s2_2019-03-11T15-15-21-01-00_ir_face_mp4-104_jpg.rf.27c9a127aed284c0352757078be63635.txt: Class 0 (Drinking) is valid.\n",
            "gB_6_s2_2019-03-11T13-46-14-01-00_ir_face_mp4-354_jpg.rf.37105fa79734aa3ad1724836764cbc6f.txt: Class 0 (Drinking) is valid.\n",
            "gB_10_s2_2019-03-11T15-15-21-01-00_ir_face_mp4-341_jpg.rf.1e397fc5cad4149e9abe63969f112b1c.txt: Class 0 (Drinking) is valid.\n",
            "gA_1_s2_ir_face_mp4-402_jpg.rf.34c64898eb37ea33d9af22c7aab48734.txt: Class 0 (Drinking) is valid.\n",
            "gA_2_s2_ir_face_mp4-143_jpg.rf.220f6c49f23d63a45290e386f49979ff.txt: Class 1 (SleepyDriving) is valid.\n",
            "gB_7_s2_2019-03-11T14-12-25-01-00_ir_face_mp4-623_jpg.rf.229ffdc26ecc1545ce30b206ad6ff220.txt: Class 0 (Drinking) is valid.\n",
            "gB_7_s2_2019-03-11T14-12-25-01-00_ir_face_mp4-75_jpg.rf.8a012d29add621990d48292d8e2ce75b.txt: Class 1 (SleepyDriving) is valid.\n",
            "gB_7_s2_2019-03-11T14-12-25-01-00_ir_face_mp4-464_jpg.rf.d797ad61052a04c15b90c209213d9fbe.txt: Class 1 (SleepyDriving) is valid.\n",
            "gB_10_s2_2019-03-11T15-15-21-01-00_ir_face_mp4-323_jpg.rf.def35a1ab30c8792a2d4ed2c26a4d66f.txt: Class 0 (Drinking) is valid.\n",
            "gB_7_s2_2019-03-11T14-12-25-01-00_ir_face_mp4-58_jpg.rf.5a943f5e1091cc4269676af8e726e946.txt: Class 0 (Drinking) is valid.\n",
            "gB_9_s2_2019-03-07T16-21-20-01-00_ir_face_mp4-671_jpg.rf.a8d65e653f658055de8a725a48658dda.txt: Class 0 (Drinking) is valid.\n",
            "gA_3_s1_ir_face_mp4-25_jpg.rf.9db1241d3a95838e910ce52f17781b4f.txt: Class 1 (SleepyDriving) is valid.\n",
            "gB_6_s2_2019-03-11T13-46-14-01-00_ir_face_mp4-620_jpg.rf.dd51296f5c35eaef4107cd6f9868a9e7.txt: Class 0 (Drinking) is valid.\n",
            "gA_2_s2_ir_face_mp4-206_jpg.rf.132f804b1968e6f316a014c866df5641.txt: Class 0 (Drinking) is valid.\n",
            "gB_10_s2_2019-03-11T15-15-21-01-00_ir_face_mp4-664_jpg.rf.c7653d8d484ac82807b634d3fc362c41.txt: Class 0 (Drinking) is valid.\n",
            "gB_10_s2_2019-03-11T15-15-21-01-00_ir_face_mp4-706_jpg.rf.088b0cf6b765e93ef8132050d462af67.txt: Class 0 (Drinking) is valid.\n",
            "gB_9_s2_2019-03-07T16-21-20-01-00_ir_face_mp4-426_jpg.rf.52a54b173a3b30a78680e26046a5b930.txt: Class 1 (SleepyDriving) is valid.\n",
            "gA_5_s2_ir_face_mp4-235_jpg.rf.ce6e5f27995147acad6b26c4bb8625b9.txt: Class 1 (SleepyDriving) is valid.\n",
            "gB_9_s2_2019-03-07T16-21-20-01-00_ir_face_mp4-488_jpg.rf.dfb828199aed3445d89e2c12aec83bab.txt: Class 0 (Drinking) is valid.\n",
            "gB_8_s2_2019-03-11T14-38-44-01-00_ir_face_mp4-767_jpg.rf.ae90255448b6438c18f861acafc84b33.txt: Class 0 (Drinking) is valid.\n",
            "gA_4_s2_ir_face_mp4-408_jpg.rf.05c88bd2cb373ecd56f54265da9ecd5d.txt: Class 1 (SleepyDriving) is valid.\n",
            "gA_2_s2_ir_face_mp4-411_jpg.rf.55e91cc61d5b51284eb5cfcea4753531.txt: Class 0 (Drinking) is valid.\n",
            "gA_4_s2_ir_face_mp4-65_jpg.rf.ea5633d634173b76e726356beadca685.txt: Class 0 (Drinking) is valid.\n",
            "gB_7_s2_2019-03-11T14-12-25-01-00_ir_face_mp4-160_jpg.rf.84769fec5a60288ec9e71e64cb296281.txt: Class 1 (SleepyDriving) is valid.\n",
            "gB_10_s2_2019-03-11T15-15-21-01-00_ir_face_mp4-639_jpg.rf.437d1f5eda255186c46faf30d5a09ddf.txt: Class 0 (Drinking) is valid.\n",
            "gB_8_s1_2019-03-11T15-01-33-01-00_ir_face_mp4-59_jpg.rf.5af2a4b5ea15173312ef33e6497ace18.txt: Class 1 (SleepyDriving) is valid.\n",
            "gA_3_s2_ir_face_mp4-85_jpg.rf.1bdf8646781cceed184ec0238d6e7aca.txt: Class 0 (Drinking) is valid.\n",
            "gA_1_s2_ir_face_mp4-448_jpg.rf.32816207abf8a37ccd9705030fd274b7.txt: Class 0 (Drinking) is valid.\n",
            "gA_3_s2_ir_face_mp4-254_jpg.rf.d25311c48fa37e5097017d90ea5113d6.txt: Class 0 (Drinking) is valid.\n",
            "gB_10_s2_2019-03-11T15-15-21-01-00_ir_face_mp4-617_jpg.rf.77e12ff76e4f8d4d1b0624b2751a0329.txt: Class 0 (Drinking) is valid.\n",
            "gA_5_s2_ir_face_mp4-298_jpg.rf.e675e652e6a65bfcc0944936e9d116a8.txt: Class 1 (SleepyDriving) is valid.\n",
            "gB_9_s2_2019-03-07T16-21-20-01-00_ir_face_mp4-76_jpg.rf.8eab7f9522f49ace264ed73f6b6ae4e8.txt: Class 0 (Drinking) is valid.\n",
            "gB_9_s2_2019-03-07T16-21-20-01-00_ir_face_mp4-264_jpg.rf.f5318f28c62dc241b0611b9236884cac.txt: Class 0 (Drinking) is valid.\n",
            "gA_3_s1_ir_face_mp4-55_jpg.rf.06f7efbeb535dfbbd0f619a20bbebd00.txt: Class 2 (Yawn) is valid.\n",
            "gB_8_s2_2019-03-11T14-38-44-01-00_ir_face_mp4-612_jpg.rf.7ab75376eede3f7537529759481dd9a1.txt: Class 1 (SleepyDriving) is valid.\n",
            "gB_6_s2_2019-03-11T13-46-14-01-00_ir_face_mp4-830_jpg.rf.94246c366104f6c4ea2196dd2fe30fb2.txt: Class 0 (Drinking) is valid.\n",
            "gA_4_s2_ir_face_mp4-372_jpg.rf.448fec2e90c845fb001e846cae384df8.txt: Class 0 (Drinking) is valid.\n",
            "gA_2_s1_ir_face_mp4-11_jpg.rf.9e7ef1e40f9609128ec59cb45c329e57.txt: Class 1 (SleepyDriving) is valid.\n",
            "gB_10_s2_2019-03-11T15-15-21-01-00_ir_face_mp4-554_jpg.rf.4828a6ff05331a1b89ab46e9197c71c1.txt: Class 0 (Drinking) is valid.\n",
            "gB_8_s2_2019-03-11T14-38-44-01-00_ir_face_mp4-242_jpg.rf.eb0ccaea39b237dcfa68e2f9108819cd.txt: Class 1 (SleepyDriving) is valid.\n",
            "gB_10_s2_2019-03-11T15-15-21-01-00_ir_face_mp4-359_jpg.rf.69cf0ea23cb1b9771ccf88871c98620e.txt: Class 0 (Drinking) is valid.\n",
            "gB_10_s2_2019-03-11T15-15-21-01-00_ir_face_mp4-334_jpg.rf.06271846f5aebcd30b519833b46f73ef.txt: Class 0 (Drinking) is valid.\n",
            "gB_7_s2_2019-03-11T14-12-25-01-00_ir_face_mp4-136_jpg.rf.58205bd5dc1214d66e2c8295f5a8c0ed.txt: Class 0 (Drinking) is valid.\n",
            "gA_3_s5_ir_face_mp4-157_jpg.rf.b8e9f1429d00d0f04ef45b4607f1ecd1.txt: Class 1 (SleepyDriving) is valid.\n",
            "gB_9_s2_2019-03-07T16-21-20-01-00_ir_face_mp4-573_jpg.rf.0aeb92e828c232d4c2bbfe47810f998a.txt: Class 1 (SleepyDriving) is valid.\n",
            "gB_8_s2_2019-03-11T14-38-44-01-00_ir_face_mp4-222_jpg.rf.05dcb04b52a6fd717fb5eec8903c03fc.txt: Class 1 (SleepyDriving) is valid.\n",
            "gB_7_s2_2019-03-11T14-12-25-01-00_ir_face_mp4-612_jpg.rf.df83a824b63f8cdb3c1cc7a8cc04da65.txt: Class 0 (Drinking) is valid.\n",
            "gB_7_s2_2019-03-11T14-12-25-01-00_ir_face_mp4-414_jpg.rf.05f5ede5cdb65ef1a940b12188f1d382.txt: Class 0 (Drinking) is valid.\n",
            "gB_9_s2_2019-03-07T16-21-20-01-00_ir_face_mp4-436_jpg.rf.bde4816fc975b41feb44498be916f351.txt: Class 0 (Drinking) is valid.\n",
            "gB_10_s2_2019-03-11T15-15-21-01-00_ir_face_mp4-837_jpg.rf.f1d8b849eaac72d19b44b868ac92be9a.txt: Class 0 (Drinking) is valid.\n",
            "gB_10_s2_2019-03-11T15-15-21-01-00_ir_face_mp4-805_jpg.rf.f1848f9244c812cbc075a02a5bf255f3.txt: Class 0 (Drinking) is valid.\n",
            "gA_5_s1_ir_face_mp4-149_jpg.rf.b4e7b7633c4dc7e74a5d6381674d1eb9.txt: Class 1 (SleepyDriving) is valid.\n",
            "gA_5_s2_ir_face_mp4-268_jpg.rf.4ab7d741725303d83ebb2f0154f2e64c.txt: Class 0 (Drinking) is valid.\n",
            "gB_6_s2_2019-03-11T13-46-14-01-00_ir_face_mp4-817_jpg.rf.c98e05b844be013af7a9699e28d02f99.txt: Class 0 (Drinking) is valid.\n",
            "gB_10_s2_2019-03-11T15-15-21-01-00_ir_face_mp4-248_jpg.rf.2b6e0deb4e0adf1264bb1e92d7ec6b68.txt: Class 1 (SleepyDriving) is valid.\n",
            "gB_9_s2_2019-03-07T16-21-20-01-00_ir_face_mp4-23_jpg.rf.d7611b6bd621cf17e660ea987361f884.txt: Class 1 (SleepyDriving) is valid.\n",
            "gA_5_s5_ir_face_mp4-10_jpg.rf.8f4c280b6fc773474c01fc40ada43e2f.txt: Class 1 (SleepyDriving) is valid.\n",
            "gA_4_s2_ir_face_mp4-392_jpg.rf.c870585eea427bc48080cdda0dc60521.txt: Class 0 (Drinking) is valid.\n",
            "gA_2_s2_ir_face_mp4-301_jpg.rf.4cbbf54c74ced3893dba74541e5abff6.txt: Class 0 (Drinking) is valid.\n",
            "gB_10_s2_2019-03-11T15-15-21-01-00_ir_face_mp4-51_jpg.rf.85d090da99c4abc6fb3f6d8fe66f94c2.txt: Class 0 (Drinking) is valid.\n",
            "gB_10_s2_2019-03-11T15-15-21-01-00_ir_face_mp4-292_jpg.rf.c991b0ecedea901931e0d135d66314b1.txt: Class 0 (Drinking) is valid.\n",
            "gA_4_s2_ir_face_mp4-224_jpg.rf.c8059825b81d79eca63878a6b630cfb3.txt: Class 1 (SleepyDriving) is valid.\n",
            "gB_10_s2_2019-03-11T15-15-21-01-00_ir_face_mp4-618_jpg.rf.c8b245363e10ad4b2f09475bad008091.txt: Class 0 (Drinking) is valid.\n",
            "gB_9_s2_2019-03-07T16-21-20-01-00_ir_face_mp4-380_jpg.rf.fd2aaa1f37f449d7fbc424b9b97697a8.txt: Class 1 (SleepyDriving) is valid.\n",
            "gA_3_s2_ir_face_mp4-256_jpg.rf.2874b720d2c65b2f7264cc5190df1672.txt: Class 0 (Drinking) is valid.\n",
            "gB_10_s2_2019-03-11T15-15-21-01-00_ir_face_mp4-683_jpg.rf.5b77b125cbcd34d341e5c40df920f720.txt: Class 0 (Drinking) is valid.\n",
            "gB_6_s2_2019-03-11T13-46-14-01-00_ir_face_mp4-356_jpg.rf.27a6694985fb4f063203808e9f190fbd.txt: Class 0 (Drinking) is valid.\n",
            "gB_9_s2_2019-03-07T16-21-20-01-00_ir_face_mp4-503_jpg.rf.3bbf86c4465d2b96093d028dfae91c58.txt: Class 0 (Drinking) is valid.\n",
            "gA_4_s2_ir_face_mp4-134_jpg.rf.9942f4398c350c95fa034b6e67498340.txt: Class 1 (SleepyDriving) is valid.\n",
            "gB_10_s2_2019-03-11T15-15-21-01-00_ir_face_mp4-92_jpg.rf.f3dd0106b033b428dda8b7e6106e3858.txt: Class 0 (Drinking) is valid.\n",
            "gB_9_s2_2019-03-07T16-21-20-01-00_ir_face_mp4-117_jpg.rf.4ea78f51de1108493bb8fe153a0c4e23.txt: Class 0 (Drinking) is valid.\n",
            "gA_5_s2_ir_face_mp4-127_jpg.rf.daa8f152070ff2c0d9c67945614f558a.txt: Class 0 (Drinking) is valid.\n",
            "gB_8_s2_2019-03-11T14-38-44-01-00_ir_face_mp4-872_jpg.rf.adf2c6207de61ef67aa0a26aecd5b2ef.txt: Class 0 (Drinking) is valid.\n",
            "gA_1_s2_ir_face_mp4-269_jpg.rf.dc8754a83fed74470dd18b9490e884ac.txt: Class 0 (Drinking) is valid.\n",
            "gB_8_s2_2019-03-11T14-38-44-01-00_ir_face_mp4-260_jpg.rf.d65e6096241683009a4e40e74c9df0fc.txt: Class 1 (SleepyDriving) is valid.\n",
            "gA_5_s2_ir_face_mp4-260_jpg.rf.cf858552e571f2c47005d26c14ed0632.txt: Class 0 (Drinking) is valid.\n",
            "gB_6_s2_2019-03-11T13-46-14-01-00_ir_face_mp4-35_jpg.rf.4ea04077445c9754dcf2e4f8be5ac2f6.txt: Class 1 (SleepyDriving) is valid.\n",
            "gA_3_s2_ir_face_mp4-163_jpg.rf.a4ecdef208fdf4225a77abcf22288996.txt: Class 0 (Drinking) is valid.\n",
            "gA_5_s2_ir_face_mp4-237_jpg.rf.133f38b6a09d494fa775b7d1bccd1488.txt: Class 0 (Drinking) is valid.\n",
            "gB_7_s2_2019-03-11T14-12-25-01-00_ir_face_mp4-767_jpg.rf.c898df04d477c1593c3a83ffdb9003bb.txt: Class 0 (Drinking) is valid.\n",
            "gB_9_s2_2019-03-07T16-21-20-01-00_ir_face_mp4-658_jpg.rf.aa0818d4ae968265a84fc7138001019b.txt: Class 0 (Drinking) is valid.\n",
            "gB_10_s2_2019-03-11T15-15-21-01-00_ir_face_mp4-199_jpg.rf.b1332b77ec53b27d6117527db45728ce.txt: Class 1 (SleepyDriving) is valid.\n",
            "gB_8_s2_2019-03-11T14-38-44-01-00_ir_face_mp4-324_jpg.rf.aa01c653d448e0aed9fe38f9fa1003a7.txt: Class 0 (Drinking) is valid.\n",
            "gB_9_s2_2019-03-07T16-21-20-01-00_ir_face_mp4-293_jpg.rf.4255da0f2b76a6ed14f93ca3823866b3.txt: Class 0 (Drinking) is valid.\n",
            "gB_7_s2_2019-03-11T14-12-25-01-00_ir_face_mp4-479_jpg.rf.b1e8195af5ff47d08a40b5fa942fd3b0.txt: Class 1 (SleepyDriving) is valid.\n",
            "gA_5_s2_ir_face_mp4-180_jpg.rf.e70f2d1f3bf3134311fc8a747b07aa56.txt: Class 1 (SleepyDriving) is valid.\n",
            "gA_2_s1_ir_face_mp4-127_jpg.rf.1115cc313bec58b07c3afa1d7a2e7933.txt: Class 1 (SleepyDriving) is valid.\n",
            "gA_3_s2_ir_face_mp4-332_jpg.rf.28dc61f48c882415ee9eb2c9581e65fb.txt: Class 1 (SleepyDriving) is valid.\n",
            "gB_9_s1_2019-03-07T16-36-24-01-00_ir_face_mp4-171_jpg.rf.8f62d57a316a5c3bdab796e0331a7b20.txt: Class 1 (SleepyDriving) is valid.\n",
            "gB_10_s2_2019-03-11T15-15-21-01-00_ir_face_mp4-886_jpg.rf.60fa477bb0919f085aa37c6f906b087f.txt: Class 0 (Drinking) is valid.\n",
            "gB_8_s1_2019-03-11T15-01-33-01-00_ir_face_mp4-88_jpg.rf.ddbdf28934fef446e7c093a10aba0ec0.txt: Class 1 (SleepyDriving) is valid.\n",
            "gA_2_s2_ir_face_mp4-220_jpg.rf.e4150435621641faf294de507a4b1f21.txt: Class 0 (Drinking) is valid.\n",
            "gA_2_s2_ir_face_mp4-294_jpg.rf.aea0d7da5397a3956456362ae1e25b50.txt: Class 1 (SleepyDriving) is valid.\n",
            "gA_2_s1_ir_face_mp4-160_jpg.rf.87f811a1864da9e7cd18ef5646c04f0f.txt: Class 2 (Yawn) is valid.\n",
            "gA_1_s1_ir_face_mp4-55_jpg.rf.cee00fa1b3588bf4896b85db15a7032c.txt: Class 2 (Yawn) is valid.\n",
            "gB_6_s2_2019-03-11T13-46-14-01-00_ir_face_mp4-750_jpg.rf.a5e1abf8ddc9ba9ed28bfb6d90977845.txt: Class 0 (Drinking) is valid.\n",
            "gB_10_s2_2019-03-11T15-15-21-01-00_ir_face_mp4-158_jpg.rf.b6d62299d7fc4d927f952905a90c9319.txt: Class 0 (Drinking) is valid.\n",
            "gA_1_s2_ir_face_mp4-171_jpg.rf.adf3cc307acd02634e4f667c3a263f89.txt: Class 0 (Drinking) is valid.\n",
            "gB_8_s2_2019-03-11T14-38-44-01-00_ir_face_mp4-325_jpg.rf.219f130c36b01bbea35b51ecbc44c5ff.txt: Class 0 (Drinking) is valid.\n",
            "gB_8_s2_2019-03-11T14-38-44-01-00_ir_face_mp4-511_jpg.rf.866fc71ab0d9063758e235e51234f784.txt: Class 1 (SleepyDriving) is valid.\n",
            "gA_4_s2_ir_face_mp4-20_jpg.rf.291438a7b2807d3c03aa4118d1eaa7ea.txt: Class 1 (SleepyDriving) is valid.\n",
            "gB_8_s1_2019-03-11T15-01-33-01-00_ir_face_mp4-103_jpg.rf.c608bb93b4a070df19bdd00f7e265d01.txt: Class 2 (Yawn) is valid.\n",
            "gB_7_s2_2019-03-11T14-12-25-01-00_ir_face_mp4-829_jpg.rf.084836be25d9289aa030946ee0631322.txt: Class 0 (Drinking) is valid.\n",
            "gA_2_s2_ir_face_mp4-173_jpg.rf.921504b45dabe28f88a483ada80210c6.txt: Class 0 (Drinking) is valid.\n",
            "gA_2_s2_ir_face_mp4-75_jpg.rf.55e56ce4c8da6307b4bab6bcbca28cad.txt: Class 0 (Drinking) is valid.\n",
            "gB_10_s2_2019-03-11T15-15-21-01-00_ir_face_mp4-644_jpg.rf.44b470e22b2e47f7bbc19b5e95b679df.txt: Class 0 (Drinking) is valid.\n",
            "gB_7_s2_2019-03-11T14-12-25-01-00_ir_face_mp4-221_jpg.rf.6d011de16fe0d8a6a85aa8399858b390.txt: Class 1 (SleepyDriving) is valid.\n",
            "gA_2_s2_ir_face_mp4-192_jpg.rf.6208b4bf90d7e60a01294140de596668.txt: Class 0 (Drinking) is valid.\n",
            "gB_10_s2_2019-03-11T15-15-21-01-00_ir_face_mp4-431_jpg.rf.3abbc2b203d25a25e7069703089a98e8.txt: Class 1 (SleepyDriving) is valid.\n",
            "gB_10_s2_2019-03-11T15-15-21-01-00_ir_face_mp4-611_jpg.rf.4433dd962d979c6e6a9b0c817415acf5.txt: Class 0 (Drinking) is valid.\n",
            "gB_10_s2_2019-03-11T15-15-21-01-00_ir_face_mp4-289_jpg.rf.49c69daf78a8f843cf56b0f0d157a4e6.txt: Class 0 (Drinking) is valid.\n",
            "gB_10_s2_2019-03-11T15-15-21-01-00_ir_face_mp4-715_jpg.rf.dea3bf269bcac810d5f0020eab36365d.txt: Class 0 (Drinking) is valid.\n",
            "gA_5_s1_ir_face_mp4-25_jpg.rf.9a7a472b256f3cc70a0f6fbbbdfdc5e7.txt: Class 1 (SleepyDriving) is valid.\n",
            "gB_10_s1_2019-03-11T15-24-54-01-00_ir_face_mp4-239_jpg.rf.9e8db9e4c4ec9b7d3b9c0c2d04b903d8.txt: Class 1 (SleepyDriving) is valid.\n",
            "gB_10_s2_2019-03-11T15-15-21-01-00_ir_face_mp4-873_jpg.rf.7abfd4f16747e29bf93e38ce698398bf.txt: Class 0 (Drinking) is valid.\n",
            "gA_2_s2_ir_face_mp4-85_jpg.rf.0db955402145b528bd08f099fb72e693.txt: Class 0 (Drinking) is valid.\n",
            "gB_10_s2_2019-03-11T15-15-21-01-00_ir_face_mp4-997_jpg.rf.2b5c5dcfa142f417c325af61c349be68.txt: Class 0 (Drinking) is valid.\n",
            "gB_10_s1_2019-03-11T15-24-54-01-00_ir_face_mp4-186_jpg.rf.53c9dad29c87fa43d9c712f7d9c954ca.txt: Class 2 (Yawn) is valid.\n",
            "gB_8_s2_2019-03-11T14-38-44-01-00_ir_face_mp4-179_jpg.rf.bbf1acf797174eae90d7e5e4a3146f60.txt: Class 0 (Drinking) is valid.\n",
            "gB_9_s2_2019-03-07T16-21-20-01-00_ir_face_mp4-643_jpg.rf.d8f51dafd10e1cfee096042d72dd99a9.txt: Class 0 (Drinking) is valid.\n",
            "gB_6_s2_2019-03-11T13-46-14-01-00_ir_face_mp4-748_jpg.rf.f2b52f89f84e2419b386ad3cd0b8f6d0.txt: Class 0 (Drinking) is valid.\n",
            "gB_9_s2_2019-03-07T16-21-20-01-00_ir_face_mp4-787_jpg.rf.68453272676b1712d5bdfeeecca2b268.txt: Class 0 (Drinking) is valid.\n",
            "gA_2_s2_ir_face_mp4-325_jpg.rf.e791988e845b2584ab263636b12636f2.txt: Class 0 (Drinking) is valid.\n",
            "gB_6_s2_2019-03-11T13-46-14-01-00_ir_face_mp4-788_jpg.rf.fcc09afea28395240a12e1b2787a13af.txt: Class 0 (Drinking) is valid.\n",
            "gB_9_s2_2019-03-07T16-21-20-01-00_ir_face_mp4-89_jpg.rf.e9799ede3d55b805e735ddb7eaf0cc7d.txt: Class 0 (Drinking) is valid.\n",
            "gB_10_s2_2019-03-11T15-15-21-01-00_ir_face_mp4-866_jpg.rf.2dba559ae001e6ccc6de038df8c1e0ca.txt: Class 0 (Drinking) is valid.\n",
            "gB_6_s2_2019-03-11T13-46-14-01-00_ir_face_mp4-847_jpg.rf.b04db2e19f2d97f1185b07e12b5192fa.txt: Class 0 (Drinking) is valid.\n",
            "gB_6_s2_2019-03-11T13-46-14-01-00_ir_face_mp4-258_jpg.rf.0c044a48e2a6e07cd951da2730a59938.txt: Class 1 (SleepyDriving) is valid.\n",
            "gB_9_s2_2019-03-07T16-21-20-01-00_ir_face_mp4-691_jpg.rf.fd1c7a70794f55ab13f4e9728f0130ee.txt: Class 0 (Drinking) is valid.\n",
            "gA_3_s2_ir_face_mp4-352_jpg.rf.1ff719951fec7b347083a87ad08a7fec.txt: Class 0 (Drinking) is valid.\n",
            "gB_8_s2_2019-03-11T14-38-44-01-00_ir_face_mp4-444_jpg.rf.7e69d2ce84a5810bd86e74d3c2b6ceba.txt: Class 1 (SleepyDriving) is valid.\n",
            "gB_7_s2_2019-03-11T14-12-25-01-00_ir_face_mp4-309_jpg.rf.a7f82c8a2fcd1ba47d97caab112e0de0.txt: Class 0 (Drinking) is valid.\n",
            "gA_2_s2_ir_face_mp4-138_jpg.rf.11df4c88e75f90874c55f63c714a00f1.txt: Class 1 (SleepyDriving) is valid.\n",
            "gA_3_s2_ir_face_mp4-262_jpg.rf.0293836a9da5c17c7c8b140a80d7818f.txt: Class 0 (Drinking) is valid.\n",
            "gB_7_s2_2019-03-11T14-12-25-01-00_ir_face_mp4-137_jpg.rf.73fac95fc4f77a6354126694b08d8734.txt: Class 0 (Drinking) is valid.\n",
            "gB_8_s2_2019-03-11T14-38-44-01-00_ir_face_mp4-439_jpg.rf.698ca4086551d915a8f8562f4ec204bc.txt: Class 1 (SleepyDriving) is valid.\n",
            "gB_8_s2_2019-03-11T14-38-44-01-00_ir_face_mp4-693_jpg.rf.aedbf0ad6b3c89dba12ea491443e8dd1.txt: Class 0 (Drinking) is valid.\n",
            "gB_9_s2_2019-03-07T16-21-20-01-00_ir_face_mp4-114_jpg.rf.f4cb7ebe9ce6d9cfe812eecdb7d8af9c.txt: Class 0 (Drinking) is valid.\n",
            "gB_9_s2_2019-03-07T16-21-20-01-00_ir_face_mp4-398_jpg.rf.2eb01c57eeecd16855bac5d48a1eccce.txt: Class 0 (Drinking) is valid.\n",
            "gB_10_s2_2019-03-11T15-15-21-01-00_ir_face_mp4-89_jpg.rf.c05756d4eeb784394f5d05d797adcee4.txt: Class 0 (Drinking) is valid.\n",
            "gB_9_s2_2019-03-07T16-21-20-01-00_ir_face_mp4-248_jpg.rf.4c25d72b35a7caedd2268d5041dde80f.txt: Class 0 (Drinking) is valid.\n",
            "gA_1_s2_ir_face_mp4-217_jpg.rf.6eb51a55d97bf23a3bfd992f34dc0b74.txt: Class 1 (SleepyDriving) is valid.\n",
            "gB_9_s2_2019-03-07T16-21-20-01-00_ir_face_mp4-292_jpg.rf.05825d0d3453050cde7d6e48c68917c5.txt: Class 0 (Drinking) is valid.\n",
            "gB_9_s2_2019-03-07T16-21-20-01-00_ir_face_mp4-788_jpg.rf.1a7ce88c34f11b35a3cb31451b77099c.txt: Class 0 (Drinking) is valid.\n",
            "gB_9_s1_2019-03-07T16-36-24-01-00_ir_face_mp4-292_jpg.rf.f8477fbcf137385da359e153562dcd28.txt: Class 2 (Yawn) is valid.\n",
            "gB_10_s2_2019-03-11T15-15-21-01-00_ir_face_mp4-145_jpg.rf.780c9ce498a9b7b8ae5bce36e4885b23.txt: Class 0 (Drinking) is valid.\n",
            "gA_1_s2_ir_face_mp4-449_jpg.rf.ff5c6372e7697483a3997ecfe309ba6b.txt: Class 0 (Drinking) is valid.\n",
            "gA_1_s2_ir_face_mp4-378_jpg.rf.5cf0e6576218d1fdfe6e6cbe769af6dd.txt: Class 0 (Drinking) is valid.\n",
            "gB_6_s2_2019-03-11T13-46-14-01-00_ir_face_mp4-146_jpg.rf.aacb8808f220f37e97ba6fb353efbcb5.txt: Class 0 (Drinking) is valid.\n",
            "gB_7_s2_2019-03-11T14-12-25-01-00_ir_face_mp4-128_jpg.rf.95657648180fc029e0687bebb246beee.txt: Class 0 (Drinking) is valid.\n",
            "gB_9_s2_2019-03-07T16-21-20-01-00_ir_face_mp4-402_jpg.rf.6bb0fa1ba1adeb41d7c07d25da48c8ff.txt: Class 1 (SleepyDriving) is valid.\n",
            "gB_8_s2_2019-03-11T14-38-44-01-00_ir_face_mp4-555_jpg.rf.d56a5b268cd2edcf3f7d198d7569dd75.txt: Class 0 (Drinking) is valid.\n",
            "gB_9_s2_2019-03-07T16-21-20-01-00_ir_face_mp4-571_jpg.rf.a24c7e5f5996b5606bf596a158affcd1.txt: Class 1 (SleepyDriving) is valid.\n",
            "gB_6_s2_2019-03-11T13-46-14-01-00_ir_face_mp4-312_jpg.rf.8aa65232b96021a189b91cd9203990d0.txt: Class 0 (Drinking) is valid.\n",
            "gB_10_s2_2019-03-11T15-15-21-01-00_ir_face_mp4-563_jpg.rf.dc37ccc905b1efaf33e93e7b2e501be2.txt: Class 0 (Drinking) is valid.\n",
            "gB_10_s2_2019-03-11T15-15-21-01-00_ir_face_mp4-904_jpg.rf.8a29597876ec2df95994587dc6f3dbbd.txt: Class 0 (Drinking) is valid.\n",
            "gB_6_s2_2019-03-11T13-46-14-01-00_ir_face_mp4-684_jpg.rf.239852fa4bf4c0c03a7dd9d6c5265000.txt: Class 1 (SleepyDriving) is valid.\n",
            "gB_6_s2_2019-03-11T13-46-14-01-00_ir_face_mp4-95_jpg.rf.7e9c7ad1c121f9973af79c540d3dd5f2.txt: Class 0 (Drinking) is valid.\n",
            "gB_9_s2_2019-03-07T16-21-20-01-00_ir_face_mp4-286_jpg.rf.eb093f48539c2e6821199df7d53ea32e.txt: Class 0 (Drinking) is valid.\n",
            "gB_6_s2_2019-03-11T13-46-14-01-00_ir_face_mp4-112_jpg.rf.86937b5360f0db3169987cc94008a1cc.txt: Class 0 (Drinking) is valid.\n",
            "gB_10_s2_2019-03-11T15-15-21-01-00_ir_face_mp4-239_jpg.rf.c001ccd3081c26acd88238eab9ce13e0.txt: Class 1 (SleepyDriving) is valid.\n",
            "gB_8_s2_2019-03-11T14-38-44-01-00_ir_face_mp4-280_jpg.rf.69cba4a8eccdafca546b0d5671602434.txt: Class 1 (SleepyDriving) is valid.\n",
            "gA_4_s2_ir_face_mp4-184_jpg.rf.a7d37afac8f6eb640aa2e7d8f9f55f8e.txt: Class 0 (Drinking) is valid.\n",
            "gB_10_s2_2019-03-11T15-15-21-01-00_ir_face_mp4-90_jpg.rf.7c274737e78c18be311b7f869a0c53f7.txt: Class 0 (Drinking) is valid.\n",
            "gB_8_s1_2019-03-11T15-01-33-01-00_ir_face_mp4-19_jpg.rf.713e0310c386b3354e335f8316f07a22.txt: Class 1 (SleepyDriving) is valid.\n",
            "gB_7_s2_2019-03-11T14-12-25-01-00_ir_face_mp4-673_jpg.rf.3f257a0f82685629428005a5f61eec4f.txt: Class 1 (SleepyDriving) is valid.\n",
            "gA_4_s2_ir_face_mp4-78_jpg.rf.38d06153e7145a61a00462a211d82252.txt: Class 0 (Drinking) is valid.\n",
            "gB_6_s2_2019-03-11T13-46-14-01-00_ir_face_mp4-109_jpg.rf.2ec5138d49f43da55b63834a1732fe86.txt: Class 0 (Drinking) is valid.\n",
            "gA_2_s2_ir_face_mp4-321_jpg.rf.0884b611def8a627b83a2e9141585d52.txt: Class 0 (Drinking) is valid.\n",
            "gB_10_s2_2019-03-11T15-15-21-01-00_ir_face_mp4-47_jpg.rf.be6fe2ed856e484db6c15dad1d94913e.txt: Class 0 (Drinking) is valid.\n",
            "gA_1_s1_ir_face_mp4-26_jpg.rf.5e784edef85fddaa6360eed4b2cb73ec.txt: Class 1 (SleepyDriving) is valid.\n",
            "gA_4_s2_ir_face_mp4-437_jpg.rf.14db58f49ab35c0fd571bc5868811ffb.txt: Class 0 (Drinking) is valid.\n",
            "gB_10_s2_2019-03-11T15-15-21-01-00_ir_face_mp4-621_jpg.rf.e3977514ce0d866309dc7746355d0424.txt: Class 0 (Drinking) is valid.\n",
            "gB_10_s2_2019-03-11T15-15-21-01-00_ir_face_mp4-927_jpg.rf.94eab93e0f3007b8e9451c069485bae9.txt: Class 0 (Drinking) is valid.\n",
            "gB_9_s2_2019-03-07T16-21-20-01-00_ir_face_mp4-27_jpg.rf.dc00871ccdbc3489858a6925ab99f6b7.txt: Class 1 (SleepyDriving) is valid.\n",
            "gB_9_s2_2019-03-07T16-21-20-01-00_ir_face_mp4-527_jpg.rf.dccac866f81b92a84e04ffca4fee8899.txt: Class 1 (SleepyDriving) is valid.\n",
            "gB_6_s2_2019-03-11T13-46-14-01-00_ir_face_mp4-678_jpg.rf.bad2f50471f375f964d3f2d6b14587bb.txt: Class 1 (SleepyDriving) is valid.\n",
            "gB_9_s2_2019-03-07T16-21-20-01-00_ir_face_mp4-43_jpg.rf.3c76ba7ee24d45eecf643c8a3cc8a987.txt: Class 0 (Drinking) is valid.\n",
            "gB_7_s1_2019-03-11T14-22-01-01-00_ir_face_mp4-76_jpg.rf.046d77db817429a275d8e32df3212dc2.txt: Class 1 (SleepyDriving) is valid.\n",
            "gA_3_s2_ir_face_mp4-248_jpg.rf.069136e7905f039bdd73c998e39daf44.txt: Class 0 (Drinking) is valid.\n",
            "gB_9_s2_2019-03-07T16-21-20-01-00_ir_face_mp4-657_jpg.rf.43f53489c5521dbe6d04b7a82440e471.txt: Class 0 (Drinking) is valid.\n",
            "gA_1_s2_ir_face_mp4-151_jpg.rf.1a7a7e040efb51c30196923c0b748ded.txt: Class 0 (Drinking) is valid.\n",
            "gA_1_s2_ir_face_mp4-111_jpg.rf.390bcbe47c6552d9eddd91738714d314.txt: Class 1 (SleepyDriving) is valid.\n",
            "gA_4_s2_ir_face_mp4-80_jpg.rf.945fdc5ca590f1594de91bb60544feab.txt: Class 0 (Drinking) is valid.\n",
            "gB_6_s2_2019-03-11T13-46-14-01-00_ir_face_mp4-785_jpg.rf.fbd4f1f387cd25400846b6583cf5dc21.txt: Class 0 (Drinking) is valid.\n",
            "gB_6_s2_2019-03-11T13-46-14-01-00_ir_face_mp4-154_jpg.rf.bd71de549f89717f4dbaa5c388406b44.txt: Class 0 (Drinking) is valid.\n",
            "gB_6_s2_2019-03-11T13-46-14-01-00_ir_face_mp4-517_jpg.rf.5455ea341faf5dd298054143d221bef5.txt: Class 0 (Drinking) is valid.\n",
            "gB_6_s2_2019-03-11T13-46-14-01-00_ir_face_mp4-734_jpg.rf.528f9085f523ffee097633871308755a.txt: Class 0 (Drinking) is valid.\n",
            "gB_10_s2_2019-03-11T15-15-21-01-00_ir_face_mp4-833_jpg.rf.4ca27405af701b3f0c299ef3496bdda2.txt: Class 0 (Drinking) is valid.\n",
            "gB_6_s2_2019-03-11T13-46-14-01-00_ir_face_mp4-105_jpg.rf.35cc974e18127f2a2b82f3088f3afa2c.txt: Class 0 (Drinking) is valid.\n",
            "gA_2_s1_ir_face_mp4-243_jpg.rf.98fb605279a98636845bb1d9ddde9f6f.txt: Class 2 (Yawn) is valid.\n",
            "gB_9_s2_2019-03-07T16-21-20-01-00_ir_face_mp4-112_jpg.rf.d48035361ef93f046a63f084f57c3a42.txt: Class 0 (Drinking) is valid.\n",
            "gB_10_s1_2019-03-11T15-24-54-01-00_ir_face_mp4-56_jpg.rf.3542a51982331f646244ee08345a0f4f.txt: Class 1 (SleepyDriving) is valid.\n",
            "gB_9_s2_2019-03-07T16-21-20-01-00_ir_face_mp4-777_jpg.rf.7e7052f7aec5681625e12dd64a9c5dbe.txt: Class 1 (SleepyDriving) is valid.\n",
            "gB_7_s2_2019-03-11T14-12-25-01-00_ir_face_mp4-618_jpg.rf.c5859ed3bed6522176b7b69397a031fc.txt: Class 0 (Drinking) is valid.\n",
            "gA_5_s2_ir_face_mp4-243_jpg.rf.585e27db9e769c3de7b727a6eee5f165.txt: Class 0 (Drinking) is valid.\n",
            "gB_9_s2_2019-03-07T16-21-20-01-00_ir_face_mp4-382_jpg.rf.aa10476801374132392523501dc30ac9.txt: Class 1 (SleepyDriving) is valid.\n",
            "gA_1_s2_ir_face_mp4-169_jpg.rf.acf7cc91459e9ee4303063a7edf1a224.txt: Class 0 (Drinking) is valid.\n",
            "gB_10_s2_2019-03-11T15-15-21-01-00_ir_face_mp4-135_jpg.rf.a4d542c725bcacf67c88a044c678888e.txt: Class 0 (Drinking) is valid.\n",
            "gB_10_s1_2019-03-11T15-24-54-01-00_ir_face_mp4-222_jpg.rf.17132ec7768241df47b1c962d3178829.txt: Class 1 (SleepyDriving) is valid.\n",
            "gA_4_s2_ir_face_mp4-173_jpg.rf.d2668abf05b869f211341cca9501ca52.txt: Class 0 (Drinking) is valid.\n",
            "gA_3_s1_ir_face_mp4-169_jpg.rf.a6267b32a9f25878d41ee3c301aef252.txt: Class 1 (SleepyDriving) is valid.\n",
            "gB_10_s2_2019-03-11T15-15-21-01-00_ir_face_mp4-67_jpg.rf.46843d9fd6a46545b7f147dc78a0c073.txt: Class 1 (SleepyDriving) is valid.\n",
            "gB_6_s1_2019-03-11T13-55-14-01-00_ir_face_mp4-294_jpg.rf.52c7386fa751b08f3211b338cb27b701.txt: Class 1 (SleepyDriving) is valid.\n",
            "gA_2_s2_ir_face_mp4-179_jpg.rf.105ce4482b61460cc526fd29e51ddfc8.txt: Class 0 (Drinking) is valid.\n",
            "gB_7_s2_2019-03-11T14-12-25-01-00_ir_face_mp4-551_jpg.rf.a8c13ba49566b5a60365a59cfe0fb29a.txt: Class 0 (Drinking) is valid.\n",
            "gB_9_s2_2019-03-07T16-21-20-01-00_ir_face_mp4-97_jpg.rf.6a7092db41e19d0bf21023638a044078.txt: Class 0 (Drinking) is valid.\n",
            "gA_1_s2_ir_face_mp4-236_jpg.rf.e8a882b7a8f06894156148127a092a72.txt: Class 1 (SleepyDriving) is valid.\n",
            "gB_6_s1_2019-03-11T13-55-14-01-00_ir_face_mp4-278_jpg.rf.083e32722085fc702dcb49d9f82657f0.txt: Class 1 (SleepyDriving) is valid.\n",
            "gB_8_s2_2019-03-11T14-38-44-01-00_ir_face_mp4-773_jpg.rf.2c3191ef3ef166427f1689a58c9a9024.txt: Class 1 (SleepyDriving) is valid.\n",
            "gB_9_s2_2019-03-07T16-21-20-01-00_ir_face_mp4-670_jpg.rf.44865ffc26a8797d6d54667f1f7d2f80.txt: Class 0 (Drinking) is valid.\n",
            "gA_1_s2_ir_face_mp4-375_jpg.rf.f2f4cf02c53f84b3f23cd7b2b90e77eb.txt: Class 0 (Drinking) is valid.\n",
            "gA_4_s2_ir_face_mp4-276_jpg.rf.31debf05969f2e07b4a428d21ba78db6.txt: Class 0 (Drinking) is valid.\n",
            "gB_9_s2_2019-03-07T16-21-20-01-00_ir_face_mp4-288_jpg.rf.0d57eb2608de54c4a4f2c6a9a47bfd2e.txt: Class 0 (Drinking) is valid.\n",
            "gB_10_s2_2019-03-11T15-15-21-01-00_ir_face_mp4-307_jpg.rf.a1c1d9df87cbaf99cda5edfffd558d50.txt: Class 0 (Drinking) is valid.\n",
            "gB_9_s2_2019-03-07T16-21-20-01-00_ir_face_mp4-378_jpg.rf.d6e058de404a0586fd01c707e83b3398.txt: Class 1 (SleepyDriving) is valid.\n",
            "gA_4_s2_ir_face_mp4-405_jpg.rf.087db4546612fc87de04cd1b43ab692e.txt: Class 1 (SleepyDriving) is valid.\n",
            "gA_3_s1_ir_face_mp4-166_jpg.rf.1d32ff573d1dd2a7630c1d9cec1d0687.txt: Class 1 (SleepyDriving) is valid.\n",
            "gA_5_s2_ir_face_mp4-259_jpg.rf.07882c285c687949f550e5145280a01c.txt: Class 0 (Drinking) is valid.\n",
            "gA_3_s2_ir_face_mp4-81_jpg.rf.5124081024c10a811ea49c13d27647a2.txt: Class 0 (Drinking) is valid.\n",
            "gB_6_s2_2019-03-11T13-46-14-01-00_ir_face_mp4-763_jpg.rf.2762d00e2ea8243c402b6e38a0acc04e.txt: Class 0 (Drinking) is valid.\n",
            "gB_8_s2_2019-03-11T14-38-44-01-00_ir_face_mp4-759_jpg.rf.a27a97deaa79e395b8f005b198f0ca8b.txt: Class 0 (Drinking) is valid.\n",
            "gB_6_s2_2019-03-11T13-46-14-01-00_ir_face_mp4-603_jpg.rf.a50edc16fe661d8d14452da055b702ed.txt: Class 0 (Drinking) is valid.\n",
            "gB_9_s1_2019-03-07T16-36-24-01-00_ir_face_mp4-299_jpg.rf.3c041db05d35f5f3b59c82653c7727bc.txt: Class 1 (SleepyDriving) is valid.\n",
            "gB_6_s2_2019-03-11T13-46-14-01-00_ir_face_mp4-114_jpg.rf.2357ce22fbc350686ff3be1b0a691223.txt: Class 0 (Drinking) is valid.\n",
            "gA_4_s2_ir_face_mp4-444_jpg.rf.31fa023ed8dcd029456e668a7dcdd244.txt: Class 0 (Drinking) is valid.\n",
            "gA_4_s2_ir_face_mp4-391_jpg.rf.226752bf3a5a3c355f90148b9ed67e60.txt: Class 0 (Drinking) is valid.\n",
            "gB_9_s2_2019-03-07T16-21-20-01-00_ir_face_mp4-328_jpg.rf.8d4a7eb60b9648fe826ecfcf0098b03a.txt: Class 1 (SleepyDriving) is valid.\n",
            "gA_3_s2_ir_face_mp4-247_jpg.rf.0d41ab8c55454d2c60677f60898567d5.txt: Class 0 (Drinking) is valid.\n",
            "gB_8_s2_2019-03-11T14-38-44-01-00_ir_face_mp4-686_jpg.rf.d5f4c23e2f34c635e6152c4c41602b8c.txt: Class 0 (Drinking) is valid.\n",
            "gB_8_s1_2019-03-11T15-01-33-01-00_ir_face_mp4-66_jpg.rf.96a45a14898bbf98527410647c497d58.txt: Class 1 (SleepyDriving) is valid.\n",
            "gA_1_s2_ir_face_mp4-263_jpg.rf.8b96ca633080f48ca49225a1449161d0.txt: Class 0 (Drinking) is valid.\n"
          ]
        }
      ]
    },
    {
      "cell_type": "code",
      "source": [
        "import torch.nn as nn\n",
        "from ultralytics import YOLO\n",
        "\n",
        "# Step 1: Load the pretrained classification model\n",
        "classification_model = YOLO('best.pt')  # Replace with the path to your best.pt\n",
        "\n",
        "# Step 2: Load YOLOv8 detection model\n",
        "multitask_model = YOLO('yolov8n.pt')  # Use YOLOv8n as the base model\n",
        "\n",
        "# Step 3: Transfer the backbone from the classification model to the multitask model\n",
        "multitask_model.model.model = classification_model.model.model  # Use the backbone from best.pt\n",
        "\n",
        "# Step 4: Define a custom classification head\n",
        "class ClassificationHead(nn.Module):\n",
        "    def __init__(self, input_dim, num_classes):\n",
        "        super(ClassificationHead, self).__init__()\n",
        "        self.fc = nn.Linear(input_dim, num_classes)  # Fully connected layer for classification\n",
        "\n",
        "    def forward(self, x):\n",
        "        x = x.mean([2, 3])  # Global Average Pooling\n",
        "        return self.fc(x)\n",
        "\n",
        "# Step 5: Dynamically fetch the input dimension from the backbone\n",
        "input_dim = 1280  # Based on the `in_features` of the backbone\n",
        "num_classes = 5  # Number of behavior classes (Distraction, Eating/Drinking, etc.)\n",
        "\n",
        "# Step 6: Add the classification head\n",
        "multitask_model.model.classification_head = ClassificationHead(input_dim, num_classes)\n",
        "\n",
        "# Verify the model structure\n",
        "print(\"Updated Multitask Model with Classification Head and Pretrained Backbone:\")\n",
        "print(multitask_model.model)\n",
        "\n",
        "# Step 7: Save the multitask model (optional)\n",
        "multitask_model.save(\"multitask_model_with_best.pt\")"
      ],
      "metadata": {
        "colab": {
          "base_uri": "https://localhost:8080/"
        },
        "id": "_P9vr2cHBS8U",
        "outputId": "225485c2-7724-49ed-a72b-e465d18e22e4"
      },
      "execution_count": 8,
      "outputs": [
        {
          "output_type": "stream",
          "name": "stdout",
          "text": [
            "Downloading https://github.com/ultralytics/assets/releases/download/v8.3.0/yolov8n.pt to 'yolov8n.pt'...\n"
          ]
        },
        {
          "output_type": "stream",
          "name": "stderr",
          "text": [
            "100%|██████████| 6.25M/6.25M [00:00<00:00, 97.5MB/s]"
          ]
        },
        {
          "output_type": "stream",
          "name": "stdout",
          "text": [
            "Updated Multitask Model with Classification Head and Pretrained Backbone:\n",
            "DetectionModel(\n",
            "  (model): Sequential(\n",
            "    (0): Conv(\n",
            "      (conv): Conv2d(3, 16, kernel_size=(3, 3), stride=(2, 2), padding=(1, 1), bias=False)\n",
            "      (bn): BatchNorm2d(16, eps=1e-05, momentum=0.1, affine=True, track_running_stats=True)\n",
            "      (act): SiLU(inplace=True)\n",
            "    )\n",
            "    (1): Conv(\n",
            "      (conv): Conv2d(16, 32, kernel_size=(3, 3), stride=(2, 2), padding=(1, 1), bias=False)\n",
            "      (bn): BatchNorm2d(32, eps=1e-05, momentum=0.1, affine=True, track_running_stats=True)\n",
            "      (act): SiLU(inplace=True)\n",
            "    )\n",
            "    (2): C2f(\n",
            "      (cv1): Conv(\n",
            "        (conv): Conv2d(32, 32, kernel_size=(1, 1), stride=(1, 1), bias=False)\n",
            "        (bn): BatchNorm2d(32, eps=1e-05, momentum=0.1, affine=True, track_running_stats=True)\n",
            "        (act): SiLU(inplace=True)\n",
            "      )\n",
            "      (cv2): Conv(\n",
            "        (conv): Conv2d(48, 32, kernel_size=(1, 1), stride=(1, 1), bias=False)\n",
            "        (bn): BatchNorm2d(32, eps=1e-05, momentum=0.1, affine=True, track_running_stats=True)\n",
            "        (act): SiLU(inplace=True)\n",
            "      )\n",
            "      (m): ModuleList(\n",
            "        (0): Bottleneck(\n",
            "          (cv1): Conv(\n",
            "            (conv): Conv2d(16, 16, kernel_size=(3, 3), stride=(1, 1), padding=(1, 1), bias=False)\n",
            "            (bn): BatchNorm2d(16, eps=1e-05, momentum=0.1, affine=True, track_running_stats=True)\n",
            "            (act): SiLU(inplace=True)\n",
            "          )\n",
            "          (cv2): Conv(\n",
            "            (conv): Conv2d(16, 16, kernel_size=(3, 3), stride=(1, 1), padding=(1, 1), bias=False)\n",
            "            (bn): BatchNorm2d(16, eps=1e-05, momentum=0.1, affine=True, track_running_stats=True)\n",
            "            (act): SiLU(inplace=True)\n",
            "          )\n",
            "        )\n",
            "      )\n",
            "    )\n",
            "    (3): Conv(\n",
            "      (conv): Conv2d(32, 64, kernel_size=(3, 3), stride=(2, 2), padding=(1, 1), bias=False)\n",
            "      (bn): BatchNorm2d(64, eps=1e-05, momentum=0.1, affine=True, track_running_stats=True)\n",
            "      (act): SiLU(inplace=True)\n",
            "    )\n",
            "    (4): C2f(\n",
            "      (cv1): Conv(\n",
            "        (conv): Conv2d(64, 64, kernel_size=(1, 1), stride=(1, 1), bias=False)\n",
            "        (bn): BatchNorm2d(64, eps=1e-05, momentum=0.1, affine=True, track_running_stats=True)\n",
            "        (act): SiLU(inplace=True)\n",
            "      )\n",
            "      (cv2): Conv(\n",
            "        (conv): Conv2d(128, 64, kernel_size=(1, 1), stride=(1, 1), bias=False)\n",
            "        (bn): BatchNorm2d(64, eps=1e-05, momentum=0.1, affine=True, track_running_stats=True)\n",
            "        (act): SiLU(inplace=True)\n",
            "      )\n",
            "      (m): ModuleList(\n",
            "        (0-1): 2 x Bottleneck(\n",
            "          (cv1): Conv(\n",
            "            (conv): Conv2d(32, 32, kernel_size=(3, 3), stride=(1, 1), padding=(1, 1), bias=False)\n",
            "            (bn): BatchNorm2d(32, eps=1e-05, momentum=0.1, affine=True, track_running_stats=True)\n",
            "            (act): SiLU(inplace=True)\n",
            "          )\n",
            "          (cv2): Conv(\n",
            "            (conv): Conv2d(32, 32, kernel_size=(3, 3), stride=(1, 1), padding=(1, 1), bias=False)\n",
            "            (bn): BatchNorm2d(32, eps=1e-05, momentum=0.1, affine=True, track_running_stats=True)\n",
            "            (act): SiLU(inplace=True)\n",
            "          )\n",
            "        )\n",
            "      )\n",
            "    )\n",
            "    (5): Conv(\n",
            "      (conv): Conv2d(64, 128, kernel_size=(3, 3), stride=(2, 2), padding=(1, 1), bias=False)\n",
            "      (bn): BatchNorm2d(128, eps=1e-05, momentum=0.1, affine=True, track_running_stats=True)\n",
            "      (act): SiLU(inplace=True)\n",
            "    )\n",
            "    (6): C2f(\n",
            "      (cv1): Conv(\n",
            "        (conv): Conv2d(128, 128, kernel_size=(1, 1), stride=(1, 1), bias=False)\n",
            "        (bn): BatchNorm2d(128, eps=1e-05, momentum=0.1, affine=True, track_running_stats=True)\n",
            "        (act): SiLU(inplace=True)\n",
            "      )\n",
            "      (cv2): Conv(\n",
            "        (conv): Conv2d(256, 128, kernel_size=(1, 1), stride=(1, 1), bias=False)\n",
            "        (bn): BatchNorm2d(128, eps=1e-05, momentum=0.1, affine=True, track_running_stats=True)\n",
            "        (act): SiLU(inplace=True)\n",
            "      )\n",
            "      (m): ModuleList(\n",
            "        (0-1): 2 x Bottleneck(\n",
            "          (cv1): Conv(\n",
            "            (conv): Conv2d(64, 64, kernel_size=(3, 3), stride=(1, 1), padding=(1, 1), bias=False)\n",
            "            (bn): BatchNorm2d(64, eps=1e-05, momentum=0.1, affine=True, track_running_stats=True)\n",
            "            (act): SiLU(inplace=True)\n",
            "          )\n",
            "          (cv2): Conv(\n",
            "            (conv): Conv2d(64, 64, kernel_size=(3, 3), stride=(1, 1), padding=(1, 1), bias=False)\n",
            "            (bn): BatchNorm2d(64, eps=1e-05, momentum=0.1, affine=True, track_running_stats=True)\n",
            "            (act): SiLU(inplace=True)\n",
            "          )\n",
            "        )\n",
            "      )\n",
            "    )\n",
            "    (7): Conv(\n",
            "      (conv): Conv2d(128, 256, kernel_size=(3, 3), stride=(2, 2), padding=(1, 1), bias=False)\n",
            "      (bn): BatchNorm2d(256, eps=1e-05, momentum=0.1, affine=True, track_running_stats=True)\n",
            "      (act): SiLU(inplace=True)\n",
            "    )\n",
            "    (8): C2f(\n",
            "      (cv1): Conv(\n",
            "        (conv): Conv2d(256, 256, kernel_size=(1, 1), stride=(1, 1), bias=False)\n",
            "        (bn): BatchNorm2d(256, eps=1e-05, momentum=0.1, affine=True, track_running_stats=True)\n",
            "        (act): SiLU(inplace=True)\n",
            "      )\n",
            "      (cv2): Conv(\n",
            "        (conv): Conv2d(384, 256, kernel_size=(1, 1), stride=(1, 1), bias=False)\n",
            "        (bn): BatchNorm2d(256, eps=1e-05, momentum=0.1, affine=True, track_running_stats=True)\n",
            "        (act): SiLU(inplace=True)\n",
            "      )\n",
            "      (m): ModuleList(\n",
            "        (0): Bottleneck(\n",
            "          (cv1): Conv(\n",
            "            (conv): Conv2d(128, 128, kernel_size=(3, 3), stride=(1, 1), padding=(1, 1), bias=False)\n",
            "            (bn): BatchNorm2d(128, eps=1e-05, momentum=0.1, affine=True, track_running_stats=True)\n",
            "            (act): SiLU(inplace=True)\n",
            "          )\n",
            "          (cv2): Conv(\n",
            "            (conv): Conv2d(128, 128, kernel_size=(3, 3), stride=(1, 1), padding=(1, 1), bias=False)\n",
            "            (bn): BatchNorm2d(128, eps=1e-05, momentum=0.1, affine=True, track_running_stats=True)\n",
            "            (act): SiLU(inplace=True)\n",
            "          )\n",
            "        )\n",
            "      )\n",
            "    )\n",
            "    (9): Classify(\n",
            "      (conv): Conv(\n",
            "        (conv): Conv2d(256, 1280, kernel_size=(1, 1), stride=(1, 1), bias=False)\n",
            "        (bn): BatchNorm2d(1280, eps=1e-05, momentum=0.1, affine=True, track_running_stats=True)\n",
            "        (act): SiLU(inplace=True)\n",
            "      )\n",
            "      (pool): AdaptiveAvgPool2d(output_size=1)\n",
            "      (drop): Dropout(p=0.0, inplace=True)\n",
            "      (linear): Linear(in_features=1280, out_features=5, bias=True)\n",
            "    )\n",
            "  )\n",
            "  (classification_head): ClassificationHead(\n",
            "    (fc): Linear(in_features=1280, out_features=5, bias=True)\n",
            "  )\n",
            ")\n"
          ]
        },
        {
          "output_type": "stream",
          "name": "stderr",
          "text": [
            "\n"
          ]
        }
      ]
    },
    {
      "cell_type": "code",
      "source": [
        "# Train the multitask model with advanced settings\n",
        "multitask_model.train(\n",
        "    data=\"/content/DMD-7/data.yaml\",  # Path to the corrected YAML file\n",
        "    epochs=50,                        # Number of epochs\n",
        "    imgsz=640,                        # Image size for training\n",
        "    batch=16,                         # Batch size\n",
        "    optimizer=\"Adam\",                 # Optimizer\n",
        "    lr0=0.001,                        # Initial learning rate\n",
        "    lrf=0.01,                         # Final learning rate (affects cosine decay range)\n",
        "    device=0,                         # Specify GPU (0 means the first GPU)\n",
        "    project=\"driver_multitask\",       # Project folder name\n",
        "    name=\"multitask_learning\",        # Experiment name\n",
        "    pretrained=True                   # Use pretrained weights from YOLOv8\n",
        ")"
      ],
      "metadata": {
        "colab": {
          "base_uri": "https://localhost:8080/"
        },
        "id": "Opz-24-FVFni",
        "outputId": "477d4dd6-9339-4cf5-c08c-61792a3b3974"
      },
      "execution_count": 10,
      "outputs": [
        {
          "output_type": "stream",
          "name": "stdout",
          "text": [
            "Ultralytics 8.3.59 🚀 Python-3.10.12 torch-2.5.1+cu121 CUDA:0 (NVIDIA L4, 22700MiB)\n",
            "\u001b[34m\u001b[1mengine/trainer: \u001b[0mtask=detect, mode=train, model=yolov8n.pt, data=/content/DMD-7/data.yaml, epochs=50, time=None, patience=100, batch=16, imgsz=640, save=True, save_period=-1, cache=False, device=0, workers=8, project=driver_multitask, name=multitask_learning, exist_ok=False, pretrained=True, optimizer=Adam, verbose=True, seed=0, deterministic=True, single_cls=False, rect=False, cos_lr=False, close_mosaic=10, resume=False, amp=True, fraction=1.0, profile=False, freeze=None, multi_scale=False, overlap_mask=True, mask_ratio=4, dropout=0.0, val=True, split=val, save_json=False, save_hybrid=False, conf=None, iou=0.7, max_det=300, half=False, dnn=False, plots=True, source=None, vid_stride=1, stream_buffer=False, visualize=False, augment=False, agnostic_nms=False, classes=None, retina_masks=False, embed=None, show=False, save_frames=False, save_txt=False, save_conf=False, save_crop=False, show_labels=True, show_conf=True, show_boxes=True, line_width=None, format=torchscript, keras=False, optimize=False, int8=False, dynamic=False, simplify=True, opset=None, workspace=None, nms=False, lr0=0.001, lrf=0.01, momentum=0.937, weight_decay=0.0005, warmup_epochs=3.0, warmup_momentum=0.8, warmup_bias_lr=0.1, box=7.5, cls=0.5, dfl=1.5, pose=12.0, kobj=1.0, nbs=64, hsv_h=0.015, hsv_s=0.7, hsv_v=0.4, degrees=0.0, translate=0.1, scale=0.5, shear=0.0, perspective=0.0, flipud=0.0, fliplr=0.5, bgr=0.0, mosaic=1.0, mixup=0.0, copy_paste=0.0, copy_paste_mode=flip, auto_augment=randaugment, erasing=0.4, crop_fraction=1.0, cfg=None, tracker=botsort.yaml, save_dir=driver_multitask/multitask_learning\n",
            "Downloading https://ultralytics.com/assets/Arial.ttf to '/root/.config/Ultralytics/Arial.ttf'...\n"
          ]
        },
        {
          "output_type": "stream",
          "name": "stderr",
          "text": [
            "100%|██████████| 755k/755k [00:00<00:00, 25.0MB/s]\n"
          ]
        },
        {
          "output_type": "stream",
          "name": "stdout",
          "text": [
            "Overriding model.yaml nc=80 with nc=3\n",
            "\n",
            "                   from  n    params  module                                       arguments                     \n",
            "  0                  -1  1       464  ultralytics.nn.modules.conv.Conv             [3, 16, 3, 2]                 \n",
            "  1                  -1  1      4672  ultralytics.nn.modules.conv.Conv             [16, 32, 3, 2]                \n",
            "  2                  -1  1      7360  ultralytics.nn.modules.block.C2f             [32, 32, 1, True]             \n",
            "  3                  -1  1     18560  ultralytics.nn.modules.conv.Conv             [32, 64, 3, 2]                \n",
            "  4                  -1  2     49664  ultralytics.nn.modules.block.C2f             [64, 64, 2, True]             \n",
            "  5                  -1  1     73984  ultralytics.nn.modules.conv.Conv             [64, 128, 3, 2]               \n",
            "  6                  -1  2    197632  ultralytics.nn.modules.block.C2f             [128, 128, 2, True]           \n",
            "  7                  -1  1    295424  ultralytics.nn.modules.conv.Conv             [128, 256, 3, 2]              \n",
            "  8                  -1  1    460288  ultralytics.nn.modules.block.C2f             [256, 256, 1, True]           \n",
            "  9                  -1  1    164608  ultralytics.nn.modules.block.SPPF            [256, 256, 5]                 \n",
            " 10                  -1  1         0  torch.nn.modules.upsampling.Upsample         [None, 2, 'nearest']          \n",
            " 11             [-1, 6]  1         0  ultralytics.nn.modules.conv.Concat           [1]                           \n",
            " 12                  -1  1    148224  ultralytics.nn.modules.block.C2f             [384, 128, 1]                 \n",
            " 13                  -1  1         0  torch.nn.modules.upsampling.Upsample         [None, 2, 'nearest']          \n",
            " 14             [-1, 4]  1         0  ultralytics.nn.modules.conv.Concat           [1]                           \n",
            " 15                  -1  1     37248  ultralytics.nn.modules.block.C2f             [192, 64, 1]                  \n",
            " 16                  -1  1     36992  ultralytics.nn.modules.conv.Conv             [64, 64, 3, 2]                \n",
            " 17            [-1, 12]  1         0  ultralytics.nn.modules.conv.Concat           [1]                           \n",
            " 18                  -1  1    123648  ultralytics.nn.modules.block.C2f             [192, 128, 1]                 \n",
            " 19                  -1  1    147712  ultralytics.nn.modules.conv.Conv             [128, 128, 3, 2]              \n",
            " 20             [-1, 9]  1         0  ultralytics.nn.modules.conv.Concat           [1]                           \n",
            " 21                  -1  1    493056  ultralytics.nn.modules.block.C2f             [384, 256, 1]                 \n",
            " 22        [15, 18, 21]  1    751897  ultralytics.nn.modules.head.Detect           [3, [64, 128, 256]]           \n",
            "Model summary: 225 layers, 3,011,433 parameters, 3,011,417 gradients, 8.2 GFLOPs\n",
            "\n",
            "Transferred 150/355 items from pretrained weights\n",
            "\u001b[34m\u001b[1mTensorBoard: \u001b[0mStart with 'tensorboard --logdir driver_multitask/multitask_learning', view at http://localhost:6006/\n",
            "Freezing layer 'model.22.dfl.conv.weight'\n",
            "\u001b[34m\u001b[1mAMP: \u001b[0mrunning Automatic Mixed Precision (AMP) checks...\n",
            "Downloading https://github.com/ultralytics/assets/releases/download/v8.3.0/yolo11n.pt to 'yolo11n.pt'...\n"
          ]
        },
        {
          "output_type": "stream",
          "name": "stderr",
          "text": [
            "100%|██████████| 5.35M/5.35M [00:00<00:00, 114MB/s]\n"
          ]
        },
        {
          "output_type": "stream",
          "name": "stdout",
          "text": [
            "\u001b[34m\u001b[1mAMP: \u001b[0mchecks passed ✅\n"
          ]
        },
        {
          "output_type": "stream",
          "name": "stderr",
          "text": [
            "\u001b[34m\u001b[1mtrain: \u001b[0mScanning /content/DMD-7/train/labels... 11942 images, 11144 backgrounds, 0 corrupt: 100%|██████████| 11942/11942 [00:06<00:00, 1975.66it/s]\n"
          ]
        },
        {
          "output_type": "stream",
          "name": "stdout",
          "text": [
            "\u001b[34m\u001b[1mtrain: \u001b[0mNew cache created: /content/DMD-7/train/labels.cache\n",
            "\u001b[34m\u001b[1malbumentations: \u001b[0mBlur(p=0.01, blur_limit=(3, 7)), MedianBlur(p=0.01, blur_limit=(3, 7)), ToGray(p=0.01, num_output_channels=3, method='weighted_average'), CLAHE(p=0.01, clip_limit=(1.0, 4.0), tile_grid_size=(8, 8))\n"
          ]
        },
        {
          "output_type": "stream",
          "name": "stderr",
          "text": [
            "A new version of Albumentations is available: 2.0.0 (you have 1.4.20). Upgrade using: pip install -U albumentations. To disable automatic update checks, set the environment variable NO_ALBUMENTATIONS_UPDATE to 1.\n",
            "\u001b[34m\u001b[1mval: \u001b[0mScanning /content/DMD-7/valid/labels... 1922 images, 1785 backgrounds, 0 corrupt: 100%|██████████| 1922/1922 [00:01<00:00, 1586.92it/s]"
          ]
        },
        {
          "output_type": "stream",
          "name": "stdout",
          "text": [
            "\u001b[34m\u001b[1mval: \u001b[0mNew cache created: /content/DMD-7/valid/labels.cache\n"
          ]
        },
        {
          "output_type": "stream",
          "name": "stderr",
          "text": [
            "\n"
          ]
        },
        {
          "output_type": "stream",
          "name": "stdout",
          "text": [
            "Plotting labels to driver_multitask/multitask_learning/labels.jpg... \n",
            "\u001b[34m\u001b[1moptimizer:\u001b[0m Adam(lr=0.001, momentum=0.937) with parameter groups 57 weight(decay=0.0), 64 weight(decay=0.0005), 63 bias(decay=0.0)\n",
            "\u001b[34m\u001b[1mTensorBoard: \u001b[0mmodel graph visualization added ✅\n",
            "Image sizes 640 train, 640 val\n",
            "Using 8 dataloader workers\n",
            "Logging results to \u001b[1mdriver_multitask/multitask_learning\u001b[0m\n",
            "Starting training for 50 epochs...\n",
            "\n",
            "      Epoch    GPU_mem   box_loss   cls_loss   dfl_loss  Instances       Size\n"
          ]
        },
        {
          "output_type": "stream",
          "name": "stderr",
          "text": [
            "       1/50       2.2G      2.249       4.32      2.738          1        640: 100%|██████████| 747/747 [01:16<00:00,  9.78it/s]\n",
            "                 Class     Images  Instances      Box(P          R      mAP50  mAP50-95): 100%|██████████| 61/61 [00:05<00:00, 10.45it/s]"
          ]
        },
        {
          "output_type": "stream",
          "name": "stdout",
          "text": [
            "                   all       1922        137      0.302      0.313      0.271       0.14\n"
          ]
        },
        {
          "output_type": "stream",
          "name": "stderr",
          "text": [
            "\n"
          ]
        },
        {
          "output_type": "stream",
          "name": "stdout",
          "text": [
            "\n",
            "      Epoch    GPU_mem   box_loss   cls_loss   dfl_loss  Instances       Size\n"
          ]
        },
        {
          "output_type": "stream",
          "name": "stderr",
          "text": [
            "       2/50      2.08G      1.002       2.32      1.587          1        640: 100%|██████████| 747/747 [01:11<00:00, 10.46it/s]\n",
            "                 Class     Images  Instances      Box(P          R      mAP50  mAP50-95): 100%|██████████| 61/61 [00:04<00:00, 14.77it/s]"
          ]
        },
        {
          "output_type": "stream",
          "name": "stdout",
          "text": [
            "                   all       1922        137      0.869      0.693      0.834      0.678\n"
          ]
        },
        {
          "output_type": "stream",
          "name": "stderr",
          "text": [
            "\n"
          ]
        },
        {
          "output_type": "stream",
          "name": "stdout",
          "text": [
            "\n",
            "      Epoch    GPU_mem   box_loss   cls_loss   dfl_loss  Instances       Size\n"
          ]
        },
        {
          "output_type": "stream",
          "name": "stderr",
          "text": [
            "       3/50      2.07G     0.6743      1.973      1.216          1        640: 100%|██████████| 747/747 [01:09<00:00, 10.79it/s]\n",
            "                 Class     Images  Instances      Box(P          R      mAP50  mAP50-95): 100%|██████████| 61/61 [00:05<00:00, 12.13it/s]"
          ]
        },
        {
          "output_type": "stream",
          "name": "stdout",
          "text": [
            "                   all       1922        137      0.714      0.709      0.787      0.717\n"
          ]
        },
        {
          "output_type": "stream",
          "name": "stderr",
          "text": [
            "\n"
          ]
        },
        {
          "output_type": "stream",
          "name": "stdout",
          "text": [
            "\n",
            "      Epoch    GPU_mem   box_loss   cls_loss   dfl_loss  Instances       Size\n"
          ]
        },
        {
          "output_type": "stream",
          "name": "stderr",
          "text": [
            "       4/50      2.07G     0.5666      1.832      1.108          1        640: 100%|██████████| 747/747 [01:08<00:00, 10.88it/s]\n",
            "                 Class     Images  Instances      Box(P          R      mAP50  mAP50-95): 100%|██████████| 61/61 [00:04<00:00, 12.90it/s]"
          ]
        },
        {
          "output_type": "stream",
          "name": "stdout",
          "text": [
            "                   all       1922        137      0.946       0.88      0.959       0.89\n"
          ]
        },
        {
          "output_type": "stream",
          "name": "stderr",
          "text": [
            "\n"
          ]
        },
        {
          "output_type": "stream",
          "name": "stdout",
          "text": [
            "\n",
            "      Epoch    GPU_mem   box_loss   cls_loss   dfl_loss  Instances       Size\n"
          ]
        },
        {
          "output_type": "stream",
          "name": "stderr",
          "text": [
            "       5/50      2.08G     0.4643      1.641      1.048          1        640: 100%|██████████| 747/747 [01:09<00:00, 10.82it/s]\n",
            "                 Class     Images  Instances      Box(P          R      mAP50  mAP50-95): 100%|██████████| 61/61 [00:04<00:00, 13.51it/s]"
          ]
        },
        {
          "output_type": "stream",
          "name": "stdout",
          "text": [
            "                   all       1922        137      0.882      0.851      0.937       0.91\n"
          ]
        },
        {
          "output_type": "stream",
          "name": "stderr",
          "text": [
            "\n"
          ]
        },
        {
          "output_type": "stream",
          "name": "stdout",
          "text": [
            "\n",
            "      Epoch    GPU_mem   box_loss   cls_loss   dfl_loss  Instances       Size\n"
          ]
        },
        {
          "output_type": "stream",
          "name": "stderr",
          "text": [
            "       6/50      2.07G     0.4373      1.629      1.012          0        640: 100%|██████████| 747/747 [01:08<00:00, 10.87it/s]\n",
            "                 Class     Images  Instances      Box(P          R      mAP50  mAP50-95): 100%|██████████| 61/61 [00:03<00:00, 15.63it/s]"
          ]
        },
        {
          "output_type": "stream",
          "name": "stdout",
          "text": [
            "                   all       1922        137      0.936      0.919      0.968      0.936\n"
          ]
        },
        {
          "output_type": "stream",
          "name": "stderr",
          "text": [
            "\n"
          ]
        },
        {
          "output_type": "stream",
          "name": "stdout",
          "text": [
            "\n",
            "      Epoch    GPU_mem   box_loss   cls_loss   dfl_loss  Instances       Size\n"
          ]
        },
        {
          "output_type": "stream",
          "name": "stderr",
          "text": [
            "       7/50      2.07G     0.3949      1.555     0.9767          0        640: 100%|██████████| 747/747 [01:08<00:00, 10.87it/s]\n",
            "                 Class     Images  Instances      Box(P          R      mAP50  mAP50-95): 100%|██████████| 61/61 [00:04<00:00, 13.32it/s]"
          ]
        },
        {
          "output_type": "stream",
          "name": "stdout",
          "text": [
            "                   all       1922        137       0.88      0.899      0.977      0.972\n"
          ]
        },
        {
          "output_type": "stream",
          "name": "stderr",
          "text": [
            "\n"
          ]
        },
        {
          "output_type": "stream",
          "name": "stdout",
          "text": [
            "\n",
            "      Epoch    GPU_mem   box_loss   cls_loss   dfl_loss  Instances       Size\n"
          ]
        },
        {
          "output_type": "stream",
          "name": "stderr",
          "text": [
            "       8/50      2.07G      0.346      1.412     0.9543          0        640: 100%|██████████| 747/747 [01:08<00:00, 10.89it/s]\n",
            "                 Class     Images  Instances      Box(P          R      mAP50  mAP50-95): 100%|██████████| 61/61 [00:03<00:00, 16.11it/s]\n"
          ]
        },
        {
          "output_type": "stream",
          "name": "stdout",
          "text": [
            "                   all       1922        137      0.973      0.912      0.972      0.962\n",
            "\n",
            "      Epoch    GPU_mem   box_loss   cls_loss   dfl_loss  Instances       Size\n"
          ]
        },
        {
          "output_type": "stream",
          "name": "stderr",
          "text": [
            "       9/50      2.07G     0.3302      1.348     0.9495          2        640: 100%|██████████| 747/747 [01:09<00:00, 10.80it/s]\n",
            "                 Class     Images  Instances      Box(P          R      mAP50  mAP50-95): 100%|██████████| 61/61 [00:04<00:00, 13.40it/s]"
          ]
        },
        {
          "output_type": "stream",
          "name": "stdout",
          "text": [
            "                   all       1922        137      0.978      0.948      0.984      0.976\n"
          ]
        },
        {
          "output_type": "stream",
          "name": "stderr",
          "text": [
            "\n"
          ]
        },
        {
          "output_type": "stream",
          "name": "stdout",
          "text": [
            "\n",
            "      Epoch    GPU_mem   box_loss   cls_loss   dfl_loss  Instances       Size\n"
          ]
        },
        {
          "output_type": "stream",
          "name": "stderr",
          "text": [
            "      10/50      2.07G     0.3205      1.396     0.9341          0        640: 100%|██████████| 747/747 [01:08<00:00, 10.96it/s]\n",
            "                 Class     Images  Instances      Box(P          R      mAP50  mAP50-95): 100%|██████████| 61/61 [00:03<00:00, 15.73it/s]"
          ]
        },
        {
          "output_type": "stream",
          "name": "stdout",
          "text": [
            "                   all       1922        137      0.938      0.883      0.975      0.975\n"
          ]
        },
        {
          "output_type": "stream",
          "name": "stderr",
          "text": [
            "\n"
          ]
        },
        {
          "output_type": "stream",
          "name": "stdout",
          "text": [
            "\n",
            "      Epoch    GPU_mem   box_loss   cls_loss   dfl_loss  Instances       Size\n"
          ]
        },
        {
          "output_type": "stream",
          "name": "stderr",
          "text": [
            "      11/50      2.07G     0.3167      1.255     0.9495          3        640: 100%|██████████| 747/747 [01:08<00:00, 10.90it/s]\n",
            "                 Class     Images  Instances      Box(P          R      mAP50  mAP50-95): 100%|██████████| 61/61 [00:03<00:00, 15.38it/s]"
          ]
        },
        {
          "output_type": "stream",
          "name": "stdout",
          "text": [
            "                   all       1922        137      0.981      0.948      0.984      0.961\n"
          ]
        },
        {
          "output_type": "stream",
          "name": "stderr",
          "text": [
            "\n"
          ]
        },
        {
          "output_type": "stream",
          "name": "stdout",
          "text": [
            "\n",
            "      Epoch    GPU_mem   box_loss   cls_loss   dfl_loss  Instances       Size\n"
          ]
        },
        {
          "output_type": "stream",
          "name": "stderr",
          "text": [
            "      12/50      2.07G     0.2829      1.334     0.9013          1        640: 100%|██████████| 747/747 [01:08<00:00, 10.89it/s]\n",
            "                 Class     Images  Instances      Box(P          R      mAP50  mAP50-95): 100%|██████████| 61/61 [00:03<00:00, 16.28it/s]"
          ]
        },
        {
          "output_type": "stream",
          "name": "stdout",
          "text": [
            "                   all       1922        137      0.988       0.97      0.989      0.988\n"
          ]
        },
        {
          "output_type": "stream",
          "name": "stderr",
          "text": [
            "\n"
          ]
        },
        {
          "output_type": "stream",
          "name": "stdout",
          "text": [
            "\n",
            "      Epoch    GPU_mem   box_loss   cls_loss   dfl_loss  Instances       Size\n"
          ]
        },
        {
          "output_type": "stream",
          "name": "stderr",
          "text": [
            "      13/50      2.08G     0.2837      1.208     0.9113          4        640: 100%|██████████| 747/747 [01:08<00:00, 10.87it/s]\n",
            "                 Class     Images  Instances      Box(P          R      mAP50  mAP50-95): 100%|██████████| 61/61 [00:04<00:00, 14.28it/s]"
          ]
        },
        {
          "output_type": "stream",
          "name": "stdout",
          "text": [
            "                   all       1922        137      0.959      0.953      0.988      0.979\n"
          ]
        },
        {
          "output_type": "stream",
          "name": "stderr",
          "text": [
            "\n"
          ]
        },
        {
          "output_type": "stream",
          "name": "stdout",
          "text": [
            "\n",
            "      Epoch    GPU_mem   box_loss   cls_loss   dfl_loss  Instances       Size\n"
          ]
        },
        {
          "output_type": "stream",
          "name": "stderr",
          "text": [
            "      14/50      2.07G     0.2777      1.099     0.9265          0        640: 100%|██████████| 747/747 [01:08<00:00, 10.86it/s]\n",
            "                 Class     Images  Instances      Box(P          R      mAP50  mAP50-95): 100%|██████████| 61/61 [00:03<00:00, 16.25it/s]"
          ]
        },
        {
          "output_type": "stream",
          "name": "stdout",
          "text": [
            "                   all       1922        137      0.983       0.97      0.991      0.991\n"
          ]
        },
        {
          "output_type": "stream",
          "name": "stderr",
          "text": [
            "\n"
          ]
        },
        {
          "output_type": "stream",
          "name": "stdout",
          "text": [
            "\n",
            "      Epoch    GPU_mem   box_loss   cls_loss   dfl_loss  Instances       Size\n"
          ]
        },
        {
          "output_type": "stream",
          "name": "stderr",
          "text": [
            "      15/50      2.07G     0.2453      1.188     0.8922          1        640: 100%|██████████| 747/747 [01:09<00:00, 10.80it/s]\n",
            "                 Class     Images  Instances      Box(P          R      mAP50  mAP50-95): 100%|██████████| 61/61 [00:04<00:00, 14.27it/s]"
          ]
        },
        {
          "output_type": "stream",
          "name": "stdout",
          "text": [
            "                   all       1922        137      0.965      0.967      0.992      0.992\n"
          ]
        },
        {
          "output_type": "stream",
          "name": "stderr",
          "text": [
            "\n"
          ]
        },
        {
          "output_type": "stream",
          "name": "stdout",
          "text": [
            "\n",
            "      Epoch    GPU_mem   box_loss   cls_loss   dfl_loss  Instances       Size\n"
          ]
        },
        {
          "output_type": "stream",
          "name": "stderr",
          "text": [
            "      16/50      2.07G     0.2456      1.074       0.91          2        640: 100%|██████████| 747/747 [01:08<00:00, 10.85it/s]\n",
            "                 Class     Images  Instances      Box(P          R      mAP50  mAP50-95): 100%|██████████| 61/61 [00:03<00:00, 16.97it/s]"
          ]
        },
        {
          "output_type": "stream",
          "name": "stdout",
          "text": [
            "                   all       1922        137      0.983      0.976      0.989      0.989\n"
          ]
        },
        {
          "output_type": "stream",
          "name": "stderr",
          "text": [
            "\n"
          ]
        },
        {
          "output_type": "stream",
          "name": "stdout",
          "text": [
            "\n",
            "      Epoch    GPU_mem   box_loss   cls_loss   dfl_loss  Instances       Size\n"
          ]
        },
        {
          "output_type": "stream",
          "name": "stderr",
          "text": [
            "      17/50      2.07G     0.2318      1.063      0.896          2        640: 100%|██████████| 747/747 [01:09<00:00, 10.82it/s]\n",
            "                 Class     Images  Instances      Box(P          R      mAP50  mAP50-95): 100%|██████████| 61/61 [00:03<00:00, 15.64it/s]"
          ]
        },
        {
          "output_type": "stream",
          "name": "stdout",
          "text": [
            "                   all       1922        137      0.962      0.983       0.99       0.99\n"
          ]
        },
        {
          "output_type": "stream",
          "name": "stderr",
          "text": [
            "\n"
          ]
        },
        {
          "output_type": "stream",
          "name": "stdout",
          "text": [
            "\n",
            "      Epoch    GPU_mem   box_loss   cls_loss   dfl_loss  Instances       Size\n"
          ]
        },
        {
          "output_type": "stream",
          "name": "stderr",
          "text": [
            "      18/50      2.07G     0.2262     0.9909      0.887          4        640: 100%|██████████| 747/747 [01:08<00:00, 10.86it/s]\n",
            "                 Class     Images  Instances      Box(P          R      mAP50  mAP50-95): 100%|██████████| 61/61 [00:03<00:00, 16.18it/s]"
          ]
        },
        {
          "output_type": "stream",
          "name": "stdout",
          "text": [
            "                   all       1922        137      0.962      0.972       0.99       0.99\n"
          ]
        },
        {
          "output_type": "stream",
          "name": "stderr",
          "text": [
            "\n"
          ]
        },
        {
          "output_type": "stream",
          "name": "stdout",
          "text": [
            "\n",
            "      Epoch    GPU_mem   box_loss   cls_loss   dfl_loss  Instances       Size\n"
          ]
        },
        {
          "output_type": "stream",
          "name": "stderr",
          "text": [
            "      19/50      2.07G      0.234      1.043     0.8875          1        640: 100%|██████████| 747/747 [01:08<00:00, 10.89it/s]\n",
            "                 Class     Images  Instances      Box(P          R      mAP50  mAP50-95): 100%|██████████| 61/61 [00:03<00:00, 15.31it/s]"
          ]
        },
        {
          "output_type": "stream",
          "name": "stdout",
          "text": [
            "                   all       1922        137      0.988      0.983      0.994      0.994\n"
          ]
        },
        {
          "output_type": "stream",
          "name": "stderr",
          "text": [
            "\n"
          ]
        },
        {
          "output_type": "stream",
          "name": "stdout",
          "text": [
            "\n",
            "      Epoch    GPU_mem   box_loss   cls_loss   dfl_loss  Instances       Size\n"
          ]
        },
        {
          "output_type": "stream",
          "name": "stderr",
          "text": [
            "      20/50      2.07G     0.2321     0.9545     0.9033          1        640: 100%|██████████| 747/747 [01:08<00:00, 10.89it/s]\n",
            "                 Class     Images  Instances      Box(P          R      mAP50  mAP50-95): 100%|██████████| 61/61 [00:04<00:00, 15.22it/s]"
          ]
        },
        {
          "output_type": "stream",
          "name": "stdout",
          "text": [
            "                   all       1922        137      0.958      0.991      0.993      0.993\n"
          ]
        },
        {
          "output_type": "stream",
          "name": "stderr",
          "text": [
            "\n"
          ]
        },
        {
          "output_type": "stream",
          "name": "stdout",
          "text": [
            "\n",
            "      Epoch    GPU_mem   box_loss   cls_loss   dfl_loss  Instances       Size\n"
          ]
        },
        {
          "output_type": "stream",
          "name": "stderr",
          "text": [
            "      21/50      2.07G     0.2195     0.9324     0.8843          1        640: 100%|██████████| 747/747 [01:08<00:00, 10.87it/s]\n",
            "                 Class     Images  Instances      Box(P          R      mAP50  mAP50-95): 100%|██████████| 61/61 [00:04<00:00, 14.59it/s]"
          ]
        },
        {
          "output_type": "stream",
          "name": "stdout",
          "text": [
            "                   all       1922        137      0.967      0.986      0.986      0.986\n"
          ]
        },
        {
          "output_type": "stream",
          "name": "stderr",
          "text": [
            "\n"
          ]
        },
        {
          "output_type": "stream",
          "name": "stdout",
          "text": [
            "\n",
            "      Epoch    GPU_mem   box_loss   cls_loss   dfl_loss  Instances       Size\n"
          ]
        },
        {
          "output_type": "stream",
          "name": "stderr",
          "text": [
            "      22/50      2.07G     0.1906     0.9573     0.8717          1        640: 100%|██████████| 747/747 [01:08<00:00, 10.87it/s]\n",
            "                 Class     Images  Instances      Box(P          R      mAP50  mAP50-95): 100%|██████████| 61/61 [00:04<00:00, 15.18it/s]"
          ]
        },
        {
          "output_type": "stream",
          "name": "stdout",
          "text": [
            "                   all       1922        137      0.962      0.994      0.987      0.987\n"
          ]
        },
        {
          "output_type": "stream",
          "name": "stderr",
          "text": [
            "\n"
          ]
        },
        {
          "output_type": "stream",
          "name": "stdout",
          "text": [
            "\n",
            "      Epoch    GPU_mem   box_loss   cls_loss   dfl_loss  Instances       Size\n"
          ]
        },
        {
          "output_type": "stream",
          "name": "stderr",
          "text": [
            "      23/50      2.07G     0.2083     0.9148      0.883          3        640: 100%|██████████| 747/747 [01:08<00:00, 10.88it/s]\n",
            "                 Class     Images  Instances      Box(P          R      mAP50  mAP50-95): 100%|██████████| 61/61 [00:03<00:00, 16.00it/s]"
          ]
        },
        {
          "output_type": "stream",
          "name": "stdout",
          "text": [
            "                   all       1922        137      0.967      0.988      0.985      0.985\n"
          ]
        },
        {
          "output_type": "stream",
          "name": "stderr",
          "text": [
            "\n"
          ]
        },
        {
          "output_type": "stream",
          "name": "stdout",
          "text": [
            "\n",
            "      Epoch    GPU_mem   box_loss   cls_loss   dfl_loss  Instances       Size\n"
          ]
        },
        {
          "output_type": "stream",
          "name": "stderr",
          "text": [
            "      24/50      2.07G     0.1889     0.8076     0.8691          0        640: 100%|██████████| 747/747 [01:08<00:00, 10.86it/s]\n",
            "                 Class     Images  Instances      Box(P          R      mAP50  mAP50-95): 100%|██████████| 61/61 [00:03<00:00, 16.87it/s]"
          ]
        },
        {
          "output_type": "stream",
          "name": "stdout",
          "text": [
            "                   all       1922        137      0.991      0.984      0.994      0.994\n"
          ]
        },
        {
          "output_type": "stream",
          "name": "stderr",
          "text": [
            "\n"
          ]
        },
        {
          "output_type": "stream",
          "name": "stdout",
          "text": [
            "\n",
            "      Epoch    GPU_mem   box_loss   cls_loss   dfl_loss  Instances       Size\n"
          ]
        },
        {
          "output_type": "stream",
          "name": "stderr",
          "text": [
            "      25/50      2.07G     0.1845     0.8524     0.8682          0        640: 100%|██████████| 747/747 [01:09<00:00, 10.78it/s]\n",
            "                 Class     Images  Instances      Box(P          R      mAP50  mAP50-95): 100%|██████████| 61/61 [00:03<00:00, 16.52it/s]"
          ]
        },
        {
          "output_type": "stream",
          "name": "stdout",
          "text": [
            "                   all       1922        137      0.979      0.976      0.993      0.993\n"
          ]
        },
        {
          "output_type": "stream",
          "name": "stderr",
          "text": [
            "\n"
          ]
        },
        {
          "output_type": "stream",
          "name": "stdout",
          "text": [
            "\n",
            "      Epoch    GPU_mem   box_loss   cls_loss   dfl_loss  Instances       Size\n"
          ]
        },
        {
          "output_type": "stream",
          "name": "stderr",
          "text": [
            "      26/50      2.07G     0.1854     0.8137     0.8798          0        640: 100%|██████████| 747/747 [01:08<00:00, 10.84it/s]\n",
            "                 Class     Images  Instances      Box(P          R      mAP50  mAP50-95): 100%|██████████| 61/61 [00:04<00:00, 14.48it/s]\n"
          ]
        },
        {
          "output_type": "stream",
          "name": "stdout",
          "text": [
            "                   all       1922        137      0.938          1       0.97       0.97\n",
            "\n",
            "      Epoch    GPU_mem   box_loss   cls_loss   dfl_loss  Instances       Size\n"
          ]
        },
        {
          "output_type": "stream",
          "name": "stderr",
          "text": [
            "      27/50      2.07G     0.1833     0.8432     0.8739          0        640: 100%|██████████| 747/747 [01:08<00:00, 10.95it/s]\n",
            "                 Class     Images  Instances      Box(P          R      mAP50  mAP50-95): 100%|██████████| 61/61 [00:03<00:00, 16.70it/s]"
          ]
        },
        {
          "output_type": "stream",
          "name": "stdout",
          "text": [
            "                   all       1922        137      0.964      0.991      0.992      0.992\n"
          ]
        },
        {
          "output_type": "stream",
          "name": "stderr",
          "text": [
            "\n"
          ]
        },
        {
          "output_type": "stream",
          "name": "stdout",
          "text": [
            "\n",
            "      Epoch    GPU_mem   box_loss   cls_loss   dfl_loss  Instances       Size\n"
          ]
        },
        {
          "output_type": "stream",
          "name": "stderr",
          "text": [
            "      28/50      2.07G     0.1853     0.8335     0.8864          0        640: 100%|██████████| 747/747 [01:09<00:00, 10.81it/s]\n",
            "                 Class     Images  Instances      Box(P          R      mAP50  mAP50-95): 100%|██████████| 61/61 [00:03<00:00, 16.48it/s]"
          ]
        },
        {
          "output_type": "stream",
          "name": "stdout",
          "text": [
            "                   all       1922        137      0.966      0.991      0.993      0.993\n"
          ]
        },
        {
          "output_type": "stream",
          "name": "stderr",
          "text": [
            "\n"
          ]
        },
        {
          "output_type": "stream",
          "name": "stdout",
          "text": [
            "\n",
            "      Epoch    GPU_mem   box_loss   cls_loss   dfl_loss  Instances       Size\n"
          ]
        },
        {
          "output_type": "stream",
          "name": "stderr",
          "text": [
            "      29/50      2.07G     0.1728     0.7637     0.8706          1        640: 100%|██████████| 747/747 [01:08<00:00, 10.87it/s]\n",
            "                 Class     Images  Instances      Box(P          R      mAP50  mAP50-95): 100%|██████████| 61/61 [00:03<00:00, 17.16it/s]"
          ]
        },
        {
          "output_type": "stream",
          "name": "stdout",
          "text": [
            "                   all       1922        137      0.991      0.981      0.994      0.989\n"
          ]
        },
        {
          "output_type": "stream",
          "name": "stderr",
          "text": [
            "\n"
          ]
        },
        {
          "output_type": "stream",
          "name": "stdout",
          "text": [
            "\n",
            "      Epoch    GPU_mem   box_loss   cls_loss   dfl_loss  Instances       Size\n"
          ]
        },
        {
          "output_type": "stream",
          "name": "stderr",
          "text": [
            "      30/50      2.07G     0.1629     0.6825     0.8623          1        640: 100%|██████████| 747/747 [01:08<00:00, 10.87it/s]\n",
            "                 Class     Images  Instances      Box(P          R      mAP50  mAP50-95): 100%|██████████| 61/61 [00:03<00:00, 16.68it/s]"
          ]
        },
        {
          "output_type": "stream",
          "name": "stdout",
          "text": [
            "                   all       1922        137      0.964      0.985      0.993      0.993\n"
          ]
        },
        {
          "output_type": "stream",
          "name": "stderr",
          "text": [
            "\n"
          ]
        },
        {
          "output_type": "stream",
          "name": "stdout",
          "text": [
            "\n",
            "      Epoch    GPU_mem   box_loss   cls_loss   dfl_loss  Instances       Size\n"
          ]
        },
        {
          "output_type": "stream",
          "name": "stderr",
          "text": [
            "      31/50      2.07G     0.1562     0.7716     0.8547          2        640: 100%|██████████| 747/747 [01:08<00:00, 10.84it/s]\n",
            "                 Class     Images  Instances      Box(P          R      mAP50  mAP50-95): 100%|██████████| 61/61 [00:03<00:00, 17.05it/s]"
          ]
        },
        {
          "output_type": "stream",
          "name": "stdout",
          "text": [
            "                   all       1922        137      0.979      0.985      0.991      0.991\n"
          ]
        },
        {
          "output_type": "stream",
          "name": "stderr",
          "text": [
            "\n"
          ]
        },
        {
          "output_type": "stream",
          "name": "stdout",
          "text": [
            "\n",
            "      Epoch    GPU_mem   box_loss   cls_loss   dfl_loss  Instances       Size\n"
          ]
        },
        {
          "output_type": "stream",
          "name": "stderr",
          "text": [
            "      32/50      2.07G      0.147     0.7205      0.857          2        640: 100%|██████████| 747/747 [01:08<00:00, 10.87it/s]\n",
            "                 Class     Images  Instances      Box(P          R      mAP50  mAP50-95): 100%|██████████| 61/61 [00:03<00:00, 16.59it/s]"
          ]
        },
        {
          "output_type": "stream",
          "name": "stdout",
          "text": [
            "                   all       1922        137      0.975      0.985      0.992      0.992\n"
          ]
        },
        {
          "output_type": "stream",
          "name": "stderr",
          "text": [
            "\n"
          ]
        },
        {
          "output_type": "stream",
          "name": "stdout",
          "text": [
            "\n",
            "      Epoch    GPU_mem   box_loss   cls_loss   dfl_loss  Instances       Size\n"
          ]
        },
        {
          "output_type": "stream",
          "name": "stderr",
          "text": [
            "      33/50      2.07G     0.1594     0.7507     0.8533          0        640: 100%|██████████| 747/747 [01:08<00:00, 10.91it/s]\n",
            "                 Class     Images  Instances      Box(P          R      mAP50  mAP50-95): 100%|██████████| 61/61 [00:03<00:00, 16.80it/s]"
          ]
        },
        {
          "output_type": "stream",
          "name": "stdout",
          "text": [
            "                   all       1922        137      0.982      0.999      0.989      0.989\n"
          ]
        },
        {
          "output_type": "stream",
          "name": "stderr",
          "text": [
            "\n"
          ]
        },
        {
          "output_type": "stream",
          "name": "stdout",
          "text": [
            "\n",
            "      Epoch    GPU_mem   box_loss   cls_loss   dfl_loss  Instances       Size\n"
          ]
        },
        {
          "output_type": "stream",
          "name": "stderr",
          "text": [
            "      34/50      2.07G     0.1445     0.6872     0.8559          3        640: 100%|██████████| 747/747 [01:08<00:00, 10.86it/s]\n",
            "                 Class     Images  Instances      Box(P          R      mAP50  mAP50-95): 100%|██████████| 61/61 [00:03<00:00, 17.12it/s]"
          ]
        },
        {
          "output_type": "stream",
          "name": "stdout",
          "text": [
            "                   all       1922        137      0.965      0.994      0.993      0.993\n"
          ]
        },
        {
          "output_type": "stream",
          "name": "stderr",
          "text": [
            "\n"
          ]
        },
        {
          "output_type": "stream",
          "name": "stdout",
          "text": [
            "\n",
            "      Epoch    GPU_mem   box_loss   cls_loss   dfl_loss  Instances       Size\n"
          ]
        },
        {
          "output_type": "stream",
          "name": "stderr",
          "text": [
            "      35/50      2.07G     0.1437      0.688     0.8639          2        640: 100%|██████████| 747/747 [01:09<00:00, 10.80it/s]\n",
            "                 Class     Images  Instances      Box(P          R      mAP50  mAP50-95): 100%|██████████| 61/61 [00:03<00:00, 17.43it/s]"
          ]
        },
        {
          "output_type": "stream",
          "name": "stdout",
          "text": [
            "                   all       1922        137       0.98      0.991      0.991      0.991\n"
          ]
        },
        {
          "output_type": "stream",
          "name": "stderr",
          "text": [
            "\n"
          ]
        },
        {
          "output_type": "stream",
          "name": "stdout",
          "text": [
            "\n",
            "      Epoch    GPU_mem   box_loss   cls_loss   dfl_loss  Instances       Size\n"
          ]
        },
        {
          "output_type": "stream",
          "name": "stderr",
          "text": [
            "      36/50      2.07G     0.1326     0.6576     0.8515          2        640: 100%|██████████| 747/747 [01:09<00:00, 10.82it/s]\n",
            "                 Class     Images  Instances      Box(P          R      mAP50  mAP50-95): 100%|██████████| 61/61 [00:03<00:00, 16.64it/s]"
          ]
        },
        {
          "output_type": "stream",
          "name": "stdout",
          "text": [
            "                   all       1922        137      0.982      0.982      0.994      0.994\n"
          ]
        },
        {
          "output_type": "stream",
          "name": "stderr",
          "text": [
            "\n"
          ]
        },
        {
          "output_type": "stream",
          "name": "stdout",
          "text": [
            "\n",
            "      Epoch    GPU_mem   box_loss   cls_loss   dfl_loss  Instances       Size\n"
          ]
        },
        {
          "output_type": "stream",
          "name": "stderr",
          "text": [
            "      37/50      2.07G     0.1328     0.6267     0.8417          0        640: 100%|██████████| 747/747 [01:08<00:00, 10.89it/s]\n",
            "                 Class     Images  Instances      Box(P          R      mAP50  mAP50-95): 100%|██████████| 61/61 [00:03<00:00, 17.02it/s]"
          ]
        },
        {
          "output_type": "stream",
          "name": "stdout",
          "text": [
            "                   all       1922        137      0.981      0.985      0.994      0.994\n"
          ]
        },
        {
          "output_type": "stream",
          "name": "stderr",
          "text": [
            "\n"
          ]
        },
        {
          "output_type": "stream",
          "name": "stdout",
          "text": [
            "\n",
            "      Epoch    GPU_mem   box_loss   cls_loss   dfl_loss  Instances       Size\n"
          ]
        },
        {
          "output_type": "stream",
          "name": "stderr",
          "text": [
            "      38/50      2.07G     0.1221     0.6087     0.8434          1        640: 100%|██████████| 747/747 [01:09<00:00, 10.82it/s]\n",
            "                 Class     Images  Instances      Box(P          R      mAP50  mAP50-95): 100%|██████████| 61/61 [00:03<00:00, 16.85it/s]"
          ]
        },
        {
          "output_type": "stream",
          "name": "stdout",
          "text": [
            "                   all       1922        137      0.975      0.994      0.991      0.991\n"
          ]
        },
        {
          "output_type": "stream",
          "name": "stderr",
          "text": [
            "\n"
          ]
        },
        {
          "output_type": "stream",
          "name": "stdout",
          "text": [
            "\n",
            "      Epoch    GPU_mem   box_loss   cls_loss   dfl_loss  Instances       Size\n"
          ]
        },
        {
          "output_type": "stream",
          "name": "stderr",
          "text": [
            "      39/50      2.07G     0.1284     0.6348     0.8438          4        640: 100%|██████████| 747/747 [01:08<00:00, 10.86it/s]\n",
            "                 Class     Images  Instances      Box(P          R      mAP50  mAP50-95): 100%|██████████| 61/61 [00:03<00:00, 16.63it/s]"
          ]
        },
        {
          "output_type": "stream",
          "name": "stdout",
          "text": [
            "                   all       1922        137      0.983      0.983      0.991      0.991\n"
          ]
        },
        {
          "output_type": "stream",
          "name": "stderr",
          "text": [
            "\n"
          ]
        },
        {
          "output_type": "stream",
          "name": "stdout",
          "text": [
            "\n",
            "      Epoch    GPU_mem   box_loss   cls_loss   dfl_loss  Instances       Size\n"
          ]
        },
        {
          "output_type": "stream",
          "name": "stderr",
          "text": [
            "      40/50      2.07G     0.1197     0.6055     0.8583          0        640: 100%|██████████| 747/747 [01:08<00:00, 10.90it/s]\n",
            "                 Class     Images  Instances      Box(P          R      mAP50  mAP50-95): 100%|██████████| 61/61 [00:03<00:00, 16.73it/s]"
          ]
        },
        {
          "output_type": "stream",
          "name": "stdout",
          "text": [
            "                   all       1922        137      0.983      0.985      0.989      0.989\n"
          ]
        },
        {
          "output_type": "stream",
          "name": "stderr",
          "text": [
            "\n"
          ]
        },
        {
          "output_type": "stream",
          "name": "stdout",
          "text": [
            "Closing dataloader mosaic\n",
            "\u001b[34m\u001b[1malbumentations: \u001b[0mBlur(p=0.01, blur_limit=(3, 7)), MedianBlur(p=0.01, blur_limit=(3, 7)), ToGray(p=0.01, num_output_channels=3, method='weighted_average'), CLAHE(p=0.01, clip_limit=(1.0, 4.0), tile_grid_size=(8, 8))\n",
            "\n",
            "      Epoch    GPU_mem   box_loss   cls_loss   dfl_loss  Instances       Size\n"
          ]
        },
        {
          "output_type": "stream",
          "name": "stderr",
          "text": [
            "      41/50      2.24G    0.07242     0.1632     0.5907          0        640: 100%|██████████| 747/747 [01:05<00:00, 11.35it/s]\n",
            "                 Class     Images  Instances      Box(P          R      mAP50  mAP50-95): 100%|██████████| 61/61 [00:03<00:00, 16.75it/s]"
          ]
        },
        {
          "output_type": "stream",
          "name": "stdout",
          "text": [
            "                   all       1922        137      0.988      0.992      0.992      0.992\n"
          ]
        },
        {
          "output_type": "stream",
          "name": "stderr",
          "text": [
            "\n"
          ]
        },
        {
          "output_type": "stream",
          "name": "stdout",
          "text": [
            "\n",
            "      Epoch    GPU_mem   box_loss   cls_loss   dfl_loss  Instances       Size\n"
          ]
        },
        {
          "output_type": "stream",
          "name": "stderr",
          "text": [
            "      42/50      2.07G    0.06387     0.1305     0.5806          0        640: 100%|██████████| 747/747 [01:05<00:00, 11.49it/s]\n",
            "                 Class     Images  Instances      Box(P          R      mAP50  mAP50-95): 100%|██████████| 61/61 [00:03<00:00, 17.24it/s]"
          ]
        },
        {
          "output_type": "stream",
          "name": "stdout",
          "text": [
            "                   all       1922        137      0.981      0.991      0.991      0.991\n"
          ]
        },
        {
          "output_type": "stream",
          "name": "stderr",
          "text": [
            "\n"
          ]
        },
        {
          "output_type": "stream",
          "name": "stdout",
          "text": [
            "\n",
            "      Epoch    GPU_mem   box_loss   cls_loss   dfl_loss  Instances       Size\n"
          ]
        },
        {
          "output_type": "stream",
          "name": "stderr",
          "text": [
            "      43/50      2.07G    0.05732     0.1186     0.5913          1        640: 100%|██████████| 747/747 [01:05<00:00, 11.46it/s]\n",
            "                 Class     Images  Instances      Box(P          R      mAP50  mAP50-95): 100%|██████████| 61/61 [00:03<00:00, 17.42it/s]"
          ]
        },
        {
          "output_type": "stream",
          "name": "stdout",
          "text": [
            "                   all       1922        137      0.986      0.985      0.992      0.992\n"
          ]
        },
        {
          "output_type": "stream",
          "name": "stderr",
          "text": [
            "\n"
          ]
        },
        {
          "output_type": "stream",
          "name": "stdout",
          "text": [
            "\n",
            "      Epoch    GPU_mem   box_loss   cls_loss   dfl_loss  Instances       Size\n"
          ]
        },
        {
          "output_type": "stream",
          "name": "stderr",
          "text": [
            "      44/50      2.07G    0.05101    0.09558     0.5809          0        640: 100%|██████████| 747/747 [01:05<00:00, 11.43it/s]\n",
            "                 Class     Images  Instances      Box(P          R      mAP50  mAP50-95): 100%|██████████| 61/61 [00:03<00:00, 16.81it/s]"
          ]
        },
        {
          "output_type": "stream",
          "name": "stdout",
          "text": [
            "                   all       1922        137      0.965      0.997      0.993      0.993\n"
          ]
        },
        {
          "output_type": "stream",
          "name": "stderr",
          "text": [
            "\n"
          ]
        },
        {
          "output_type": "stream",
          "name": "stdout",
          "text": [
            "\n",
            "      Epoch    GPU_mem   box_loss   cls_loss   dfl_loss  Instances       Size\n"
          ]
        },
        {
          "output_type": "stream",
          "name": "stderr",
          "text": [
            "      45/50      2.07G    0.04652    0.09563      0.577          0        640: 100%|██████████| 747/747 [01:05<00:00, 11.46it/s]\n",
            "                 Class     Images  Instances      Box(P          R      mAP50  mAP50-95): 100%|██████████| 61/61 [00:03<00:00, 17.53it/s]"
          ]
        },
        {
          "output_type": "stream",
          "name": "stdout",
          "text": [
            "                   all       1922        137      0.986      0.985      0.993      0.993\n"
          ]
        },
        {
          "output_type": "stream",
          "name": "stderr",
          "text": [
            "\n"
          ]
        },
        {
          "output_type": "stream",
          "name": "stdout",
          "text": [
            "\n",
            "      Epoch    GPU_mem   box_loss   cls_loss   dfl_loss  Instances       Size\n"
          ]
        },
        {
          "output_type": "stream",
          "name": "stderr",
          "text": [
            "      46/50      2.07G    0.04302    0.09474     0.5512          0        640: 100%|██████████| 747/747 [01:04<00:00, 11.55it/s]\n",
            "                 Class     Images  Instances      Box(P          R      mAP50  mAP50-95): 100%|██████████| 61/61 [00:03<00:00, 17.47it/s]"
          ]
        },
        {
          "output_type": "stream",
          "name": "stdout",
          "text": [
            "                   all       1922        137      0.986      0.985       0.99       0.99\n"
          ]
        },
        {
          "output_type": "stream",
          "name": "stderr",
          "text": [
            "\n"
          ]
        },
        {
          "output_type": "stream",
          "name": "stdout",
          "text": [
            "\n",
            "      Epoch    GPU_mem   box_loss   cls_loss   dfl_loss  Instances       Size\n"
          ]
        },
        {
          "output_type": "stream",
          "name": "stderr",
          "text": [
            "      47/50      2.07G    0.03861    0.08903     0.5589          1        640: 100%|██████████| 747/747 [01:04<00:00, 11.50it/s]\n",
            "                 Class     Images  Instances      Box(P          R      mAP50  mAP50-95): 100%|██████████| 61/61 [00:03<00:00, 17.05it/s]"
          ]
        },
        {
          "output_type": "stream",
          "name": "stdout",
          "text": [
            "                   all       1922        137      0.985      0.985      0.992      0.992\n"
          ]
        },
        {
          "output_type": "stream",
          "name": "stderr",
          "text": [
            "\n"
          ]
        },
        {
          "output_type": "stream",
          "name": "stdout",
          "text": [
            "\n",
            "      Epoch    GPU_mem   box_loss   cls_loss   dfl_loss  Instances       Size\n"
          ]
        },
        {
          "output_type": "stream",
          "name": "stderr",
          "text": [
            "      48/50      2.07G    0.03521    0.07903      0.573          0        640: 100%|██████████| 747/747 [01:04<00:00, 11.51it/s]\n",
            "                 Class     Images  Instances      Box(P          R      mAP50  mAP50-95): 100%|██████████| 61/61 [00:03<00:00, 17.85it/s]"
          ]
        },
        {
          "output_type": "stream",
          "name": "stdout",
          "text": [
            "                   all       1922        137      0.985      0.985      0.994      0.994\n"
          ]
        },
        {
          "output_type": "stream",
          "name": "stderr",
          "text": [
            "\n"
          ]
        },
        {
          "output_type": "stream",
          "name": "stdout",
          "text": [
            "\n",
            "      Epoch    GPU_mem   box_loss   cls_loss   dfl_loss  Instances       Size\n"
          ]
        },
        {
          "output_type": "stream",
          "name": "stderr",
          "text": [
            "      49/50      2.07G    0.03269    0.07756     0.5552          0        640: 100%|██████████| 747/747 [01:04<00:00, 11.54it/s]\n",
            "                 Class     Images  Instances      Box(P          R      mAP50  mAP50-95): 100%|██████████| 61/61 [00:03<00:00, 17.69it/s]"
          ]
        },
        {
          "output_type": "stream",
          "name": "stdout",
          "text": [
            "                   all       1922        137      0.986      0.985      0.991      0.991\n"
          ]
        },
        {
          "output_type": "stream",
          "name": "stderr",
          "text": [
            "\n"
          ]
        },
        {
          "output_type": "stream",
          "name": "stdout",
          "text": [
            "\n",
            "      Epoch    GPU_mem   box_loss   cls_loss   dfl_loss  Instances       Size\n"
          ]
        },
        {
          "output_type": "stream",
          "name": "stderr",
          "text": [
            "      50/50      2.07G    0.03185    0.07044     0.5881          0        640: 100%|██████████| 747/747 [01:05<00:00, 11.49it/s]\n",
            "                 Class     Images  Instances      Box(P          R      mAP50  mAP50-95): 100%|██████████| 61/61 [00:03<00:00, 17.22it/s]"
          ]
        },
        {
          "output_type": "stream",
          "name": "stdout",
          "text": [
            "                   all       1922        137      0.986      0.985      0.991      0.991\n"
          ]
        },
        {
          "output_type": "stream",
          "name": "stderr",
          "text": [
            "\n"
          ]
        },
        {
          "output_type": "stream",
          "name": "stdout",
          "text": [
            "\n",
            "50 epochs completed in 1.012 hours.\n",
            "Optimizer stripped from driver_multitask/multitask_learning/weights/last.pt, 6.2MB\n",
            "Optimizer stripped from driver_multitask/multitask_learning/weights/best.pt, 6.2MB\n",
            "\n",
            "Validating driver_multitask/multitask_learning/weights/best.pt...\n",
            "Ultralytics 8.3.59 🚀 Python-3.10.12 torch-2.5.1+cu121 CUDA:0 (NVIDIA L4, 22700MiB)\n",
            "Model summary (fused): 168 layers, 3,006,233 parameters, 0 gradients, 8.1 GFLOPs\n"
          ]
        },
        {
          "output_type": "stream",
          "name": "stderr",
          "text": [
            "                 Class     Images  Instances      Box(P          R      mAP50  mAP50-95): 100%|██████████| 61/61 [00:03<00:00, 18.71it/s]\n"
          ]
        },
        {
          "output_type": "stream",
          "name": "stdout",
          "text": [
            "                   all       1922        137      0.991      0.984      0.994      0.994\n",
            "              Drinking         56         56          1       0.98      0.994      0.994\n",
            "         SleepyDriving         81         81      0.982      0.988      0.994      0.994\n",
            "Speed: 0.1ms preprocess, 0.7ms inference, 0.0ms loss, 0.2ms postprocess per image\n",
            "Results saved to \u001b[1mdriver_multitask/multitask_learning\u001b[0m\n"
          ]
        },
        {
          "output_type": "execute_result",
          "data": {
            "text/plain": [
              "ultralytics.utils.metrics.DetMetrics object with attributes:\n",
              "\n",
              "ap_class_index: array([0, 1])\n",
              "box: ultralytics.utils.metrics.Metric object\n",
              "confusion_matrix: <ultralytics.utils.metrics.ConfusionMatrix object at 0x78ca64710280>\n",
              "curves: ['Precision-Recall(B)', 'F1-Confidence(B)', 'Precision-Confidence(B)', 'Recall-Confidence(B)']\n",
              "curves_results: [[array([          0,    0.001001,    0.002002,    0.003003,    0.004004,    0.005005,    0.006006,    0.007007,    0.008008,    0.009009,     0.01001,    0.011011,    0.012012,    0.013013,    0.014014,    0.015015,    0.016016,    0.017017,    0.018018,    0.019019,     0.02002,    0.021021,    0.022022,    0.023023,\n",
              "          0.024024,    0.025025,    0.026026,    0.027027,    0.028028,    0.029029,     0.03003,    0.031031,    0.032032,    0.033033,    0.034034,    0.035035,    0.036036,    0.037037,    0.038038,    0.039039,     0.04004,    0.041041,    0.042042,    0.043043,    0.044044,    0.045045,    0.046046,    0.047047,\n",
              "          0.048048,    0.049049,     0.05005,    0.051051,    0.052052,    0.053053,    0.054054,    0.055055,    0.056056,    0.057057,    0.058058,    0.059059,     0.06006,    0.061061,    0.062062,    0.063063,    0.064064,    0.065065,    0.066066,    0.067067,    0.068068,    0.069069,     0.07007,    0.071071,\n",
              "          0.072072,    0.073073,    0.074074,    0.075075,    0.076076,    0.077077,    0.078078,    0.079079,     0.08008,    0.081081,    0.082082,    0.083083,    0.084084,    0.085085,    0.086086,    0.087087,    0.088088,    0.089089,     0.09009,    0.091091,    0.092092,    0.093093,    0.094094,    0.095095,\n",
              "          0.096096,    0.097097,    0.098098,    0.099099,      0.1001,      0.1011,      0.1021,      0.1031,      0.1041,     0.10511,     0.10611,     0.10711,     0.10811,     0.10911,     0.11011,     0.11111,     0.11211,     0.11311,     0.11411,     0.11512,     0.11612,     0.11712,     0.11812,     0.11912,\n",
              "           0.12012,     0.12112,     0.12212,     0.12312,     0.12412,     0.12513,     0.12613,     0.12713,     0.12813,     0.12913,     0.13013,     0.13113,     0.13213,     0.13313,     0.13413,     0.13514,     0.13614,     0.13714,     0.13814,     0.13914,     0.14014,     0.14114,     0.14214,     0.14314,\n",
              "           0.14414,     0.14515,     0.14615,     0.14715,     0.14815,     0.14915,     0.15015,     0.15115,     0.15215,     0.15315,     0.15415,     0.15516,     0.15616,     0.15716,     0.15816,     0.15916,     0.16016,     0.16116,     0.16216,     0.16316,     0.16416,     0.16517,     0.16617,     0.16717,\n",
              "           0.16817,     0.16917,     0.17017,     0.17117,     0.17217,     0.17317,     0.17417,     0.17518,     0.17618,     0.17718,     0.17818,     0.17918,     0.18018,     0.18118,     0.18218,     0.18318,     0.18418,     0.18519,     0.18619,     0.18719,     0.18819,     0.18919,     0.19019,     0.19119,\n",
              "           0.19219,     0.19319,     0.19419,      0.1952,      0.1962,      0.1972,      0.1982,      0.1992,      0.2002,      0.2012,      0.2022,      0.2032,      0.2042,     0.20521,     0.20621,     0.20721,     0.20821,     0.20921,     0.21021,     0.21121,     0.21221,     0.21321,     0.21421,     0.21522,\n",
              "           0.21622,     0.21722,     0.21822,     0.21922,     0.22022,     0.22122,     0.22222,     0.22322,     0.22422,     0.22523,     0.22623,     0.22723,     0.22823,     0.22923,     0.23023,     0.23123,     0.23223,     0.23323,     0.23423,     0.23524,     0.23624,     0.23724,     0.23824,     0.23924,\n",
              "           0.24024,     0.24124,     0.24224,     0.24324,     0.24424,     0.24525,     0.24625,     0.24725,     0.24825,     0.24925,     0.25025,     0.25125,     0.25225,     0.25325,     0.25425,     0.25526,     0.25626,     0.25726,     0.25826,     0.25926,     0.26026,     0.26126,     0.26226,     0.26326,\n",
              "           0.26426,     0.26527,     0.26627,     0.26727,     0.26827,     0.26927,     0.27027,     0.27127,     0.27227,     0.27327,     0.27427,     0.27528,     0.27628,     0.27728,     0.27828,     0.27928,     0.28028,     0.28128,     0.28228,     0.28328,     0.28428,     0.28529,     0.28629,     0.28729,\n",
              "           0.28829,     0.28929,     0.29029,     0.29129,     0.29229,     0.29329,     0.29429,      0.2953,      0.2963,      0.2973,      0.2983,      0.2993,      0.3003,      0.3013,      0.3023,      0.3033,      0.3043,     0.30531,     0.30631,     0.30731,     0.30831,     0.30931,     0.31031,     0.31131,\n",
              "           0.31231,     0.31331,     0.31431,     0.31532,     0.31632,     0.31732,     0.31832,     0.31932,     0.32032,     0.32132,     0.32232,     0.32332,     0.32432,     0.32533,     0.32633,     0.32733,     0.32833,     0.32933,     0.33033,     0.33133,     0.33233,     0.33333,     0.33433,     0.33534,\n",
              "           0.33634,     0.33734,     0.33834,     0.33934,     0.34034,     0.34134,     0.34234,     0.34334,     0.34434,     0.34535,     0.34635,     0.34735,     0.34835,     0.34935,     0.35035,     0.35135,     0.35235,     0.35335,     0.35435,     0.35536,     0.35636,     0.35736,     0.35836,     0.35936,\n",
              "           0.36036,     0.36136,     0.36236,     0.36336,     0.36436,     0.36537,     0.36637,     0.36737,     0.36837,     0.36937,     0.37037,     0.37137,     0.37237,     0.37337,     0.37437,     0.37538,     0.37638,     0.37738,     0.37838,     0.37938,     0.38038,     0.38138,     0.38238,     0.38338,\n",
              "           0.38438,     0.38539,     0.38639,     0.38739,     0.38839,     0.38939,     0.39039,     0.39139,     0.39239,     0.39339,     0.39439,      0.3954,      0.3964,      0.3974,      0.3984,      0.3994,      0.4004,      0.4014,      0.4024,      0.4034,      0.4044,     0.40541,     0.40641,     0.40741,\n",
              "           0.40841,     0.40941,     0.41041,     0.41141,     0.41241,     0.41341,     0.41441,     0.41542,     0.41642,     0.41742,     0.41842,     0.41942,     0.42042,     0.42142,     0.42242,     0.42342,     0.42442,     0.42543,     0.42643,     0.42743,     0.42843,     0.42943,     0.43043,     0.43143,\n",
              "           0.43243,     0.43343,     0.43443,     0.43544,     0.43644,     0.43744,     0.43844,     0.43944,     0.44044,     0.44144,     0.44244,     0.44344,     0.44444,     0.44545,     0.44645,     0.44745,     0.44845,     0.44945,     0.45045,     0.45145,     0.45245,     0.45345,     0.45445,     0.45546,\n",
              "           0.45646,     0.45746,     0.45846,     0.45946,     0.46046,     0.46146,     0.46246,     0.46346,     0.46446,     0.46547,     0.46647,     0.46747,     0.46847,     0.46947,     0.47047,     0.47147,     0.47247,     0.47347,     0.47447,     0.47548,     0.47648,     0.47748,     0.47848,     0.47948,\n",
              "           0.48048,     0.48148,     0.48248,     0.48348,     0.48448,     0.48549,     0.48649,     0.48749,     0.48849,     0.48949,     0.49049,     0.49149,     0.49249,     0.49349,     0.49449,      0.4955,      0.4965,      0.4975,      0.4985,      0.4995,      0.5005,      0.5015,      0.5025,      0.5035,\n",
              "            0.5045,     0.50551,     0.50651,     0.50751,     0.50851,     0.50951,     0.51051,     0.51151,     0.51251,     0.51351,     0.51451,     0.51552,     0.51652,     0.51752,     0.51852,     0.51952,     0.52052,     0.52152,     0.52252,     0.52352,     0.52452,     0.52553,     0.52653,     0.52753,\n",
              "           0.52853,     0.52953,     0.53053,     0.53153,     0.53253,     0.53353,     0.53453,     0.53554,     0.53654,     0.53754,     0.53854,     0.53954,     0.54054,     0.54154,     0.54254,     0.54354,     0.54454,     0.54555,     0.54655,     0.54755,     0.54855,     0.54955,     0.55055,     0.55155,\n",
              "           0.55255,     0.55355,     0.55455,     0.55556,     0.55656,     0.55756,     0.55856,     0.55956,     0.56056,     0.56156,     0.56256,     0.56356,     0.56456,     0.56557,     0.56657,     0.56757,     0.56857,     0.56957,     0.57057,     0.57157,     0.57257,     0.57357,     0.57457,     0.57558,\n",
              "           0.57658,     0.57758,     0.57858,     0.57958,     0.58058,     0.58158,     0.58258,     0.58358,     0.58458,     0.58559,     0.58659,     0.58759,     0.58859,     0.58959,     0.59059,     0.59159,     0.59259,     0.59359,     0.59459,      0.5956,      0.5966,      0.5976,      0.5986,      0.5996,\n",
              "            0.6006,      0.6016,      0.6026,      0.6036,      0.6046,     0.60561,     0.60661,     0.60761,     0.60861,     0.60961,     0.61061,     0.61161,     0.61261,     0.61361,     0.61461,     0.61562,     0.61662,     0.61762,     0.61862,     0.61962,     0.62062,     0.62162,     0.62262,     0.62362,\n",
              "           0.62462,     0.62563,     0.62663,     0.62763,     0.62863,     0.62963,     0.63063,     0.63163,     0.63263,     0.63363,     0.63463,     0.63564,     0.63664,     0.63764,     0.63864,     0.63964,     0.64064,     0.64164,     0.64264,     0.64364,     0.64464,     0.64565,     0.64665,     0.64765,\n",
              "           0.64865,     0.64965,     0.65065,     0.65165,     0.65265,     0.65365,     0.65465,     0.65566,     0.65666,     0.65766,     0.65866,     0.65966,     0.66066,     0.66166,     0.66266,     0.66366,     0.66466,     0.66567,     0.66667,     0.66767,     0.66867,     0.66967,     0.67067,     0.67167,\n",
              "           0.67267,     0.67367,     0.67467,     0.67568,     0.67668,     0.67768,     0.67868,     0.67968,     0.68068,     0.68168,     0.68268,     0.68368,     0.68468,     0.68569,     0.68669,     0.68769,     0.68869,     0.68969,     0.69069,     0.69169,     0.69269,     0.69369,     0.69469,      0.6957,\n",
              "            0.6967,      0.6977,      0.6987,      0.6997,      0.7007,      0.7017,      0.7027,      0.7037,      0.7047,     0.70571,     0.70671,     0.70771,     0.70871,     0.70971,     0.71071,     0.71171,     0.71271,     0.71371,     0.71471,     0.71572,     0.71672,     0.71772,     0.71872,     0.71972,\n",
              "           0.72072,     0.72172,     0.72272,     0.72372,     0.72472,     0.72573,     0.72673,     0.72773,     0.72873,     0.72973,     0.73073,     0.73173,     0.73273,     0.73373,     0.73473,     0.73574,     0.73674,     0.73774,     0.73874,     0.73974,     0.74074,     0.74174,     0.74274,     0.74374,\n",
              "           0.74474,     0.74575,     0.74675,     0.74775,     0.74875,     0.74975,     0.75075,     0.75175,     0.75275,     0.75375,     0.75475,     0.75576,     0.75676,     0.75776,     0.75876,     0.75976,     0.76076,     0.76176,     0.76276,     0.76376,     0.76476,     0.76577,     0.76677,     0.76777,\n",
              "           0.76877,     0.76977,     0.77077,     0.77177,     0.77277,     0.77377,     0.77477,     0.77578,     0.77678,     0.77778,     0.77878,     0.77978,     0.78078,     0.78178,     0.78278,     0.78378,     0.78478,     0.78579,     0.78679,     0.78779,     0.78879,     0.78979,     0.79079,     0.79179,\n",
              "           0.79279,     0.79379,     0.79479,      0.7958,      0.7968,      0.7978,      0.7988,      0.7998,      0.8008,      0.8018,      0.8028,      0.8038,      0.8048,     0.80581,     0.80681,     0.80781,     0.80881,     0.80981,     0.81081,     0.81181,     0.81281,     0.81381,     0.81481,     0.81582,\n",
              "           0.81682,     0.81782,     0.81882,     0.81982,     0.82082,     0.82182,     0.82282,     0.82382,     0.82482,     0.82583,     0.82683,     0.82783,     0.82883,     0.82983,     0.83083,     0.83183,     0.83283,     0.83383,     0.83483,     0.83584,     0.83684,     0.83784,     0.83884,     0.83984,\n",
              "           0.84084,     0.84184,     0.84284,     0.84384,     0.84484,     0.84585,     0.84685,     0.84785,     0.84885,     0.84985,     0.85085,     0.85185,     0.85285,     0.85385,     0.85485,     0.85586,     0.85686,     0.85786,     0.85886,     0.85986,     0.86086,     0.86186,     0.86286,     0.86386,\n",
              "           0.86486,     0.86587,     0.86687,     0.86787,     0.86887,     0.86987,     0.87087,     0.87187,     0.87287,     0.87387,     0.87487,     0.87588,     0.87688,     0.87788,     0.87888,     0.87988,     0.88088,     0.88188,     0.88288,     0.88388,     0.88488,     0.88589,     0.88689,     0.88789,\n",
              "           0.88889,     0.88989,     0.89089,     0.89189,     0.89289,     0.89389,     0.89489,      0.8959,      0.8969,      0.8979,      0.8989,      0.8999,      0.9009,      0.9019,      0.9029,      0.9039,      0.9049,     0.90591,     0.90691,     0.90791,     0.90891,     0.90991,     0.91091,     0.91191,\n",
              "           0.91291,     0.91391,     0.91491,     0.91592,     0.91692,     0.91792,     0.91892,     0.91992,     0.92092,     0.92192,     0.92292,     0.92392,     0.92492,     0.92593,     0.92693,     0.92793,     0.92893,     0.92993,     0.93093,     0.93193,     0.93293,     0.93393,     0.93493,     0.93594,\n",
              "           0.93694,     0.93794,     0.93894,     0.93994,     0.94094,     0.94194,     0.94294,     0.94394,     0.94494,     0.94595,     0.94695,     0.94795,     0.94895,     0.94995,     0.95095,     0.95195,     0.95295,     0.95395,     0.95495,     0.95596,     0.95696,     0.95796,     0.95896,     0.95996,\n",
              "           0.96096,     0.96196,     0.96296,     0.96396,     0.96496,     0.96597,     0.96697,     0.96797,     0.96897,     0.96997,     0.97097,     0.97197,     0.97297,     0.97397,     0.97497,     0.97598,     0.97698,     0.97798,     0.97898,     0.97998,     0.98098,     0.98198,     0.98298,     0.98398,\n",
              "           0.98498,     0.98599,     0.98699,     0.98799,     0.98899,     0.98999,     0.99099,     0.99199,     0.99299,     0.99399,     0.99499,       0.996,       0.997,       0.998,       0.999,           1]), array([[          1,           1,           1, ...,     0.91803,     0.91803,           0],\n",
              "       [          1,           1,           1, ...,     0.92045,     0.92045,           0]]), 'Recall', 'Precision'], [array([          0,    0.001001,    0.002002,    0.003003,    0.004004,    0.005005,    0.006006,    0.007007,    0.008008,    0.009009,     0.01001,    0.011011,    0.012012,    0.013013,    0.014014,    0.015015,    0.016016,    0.017017,    0.018018,    0.019019,     0.02002,    0.021021,    0.022022,    0.023023,\n",
              "          0.024024,    0.025025,    0.026026,    0.027027,    0.028028,    0.029029,     0.03003,    0.031031,    0.032032,    0.033033,    0.034034,    0.035035,    0.036036,    0.037037,    0.038038,    0.039039,     0.04004,    0.041041,    0.042042,    0.043043,    0.044044,    0.045045,    0.046046,    0.047047,\n",
              "          0.048048,    0.049049,     0.05005,    0.051051,    0.052052,    0.053053,    0.054054,    0.055055,    0.056056,    0.057057,    0.058058,    0.059059,     0.06006,    0.061061,    0.062062,    0.063063,    0.064064,    0.065065,    0.066066,    0.067067,    0.068068,    0.069069,     0.07007,    0.071071,\n",
              "          0.072072,    0.073073,    0.074074,    0.075075,    0.076076,    0.077077,    0.078078,    0.079079,     0.08008,    0.081081,    0.082082,    0.083083,    0.084084,    0.085085,    0.086086,    0.087087,    0.088088,    0.089089,     0.09009,    0.091091,    0.092092,    0.093093,    0.094094,    0.095095,\n",
              "          0.096096,    0.097097,    0.098098,    0.099099,      0.1001,      0.1011,      0.1021,      0.1031,      0.1041,     0.10511,     0.10611,     0.10711,     0.10811,     0.10911,     0.11011,     0.11111,     0.11211,     0.11311,     0.11411,     0.11512,     0.11612,     0.11712,     0.11812,     0.11912,\n",
              "           0.12012,     0.12112,     0.12212,     0.12312,     0.12412,     0.12513,     0.12613,     0.12713,     0.12813,     0.12913,     0.13013,     0.13113,     0.13213,     0.13313,     0.13413,     0.13514,     0.13614,     0.13714,     0.13814,     0.13914,     0.14014,     0.14114,     0.14214,     0.14314,\n",
              "           0.14414,     0.14515,     0.14615,     0.14715,     0.14815,     0.14915,     0.15015,     0.15115,     0.15215,     0.15315,     0.15415,     0.15516,     0.15616,     0.15716,     0.15816,     0.15916,     0.16016,     0.16116,     0.16216,     0.16316,     0.16416,     0.16517,     0.16617,     0.16717,\n",
              "           0.16817,     0.16917,     0.17017,     0.17117,     0.17217,     0.17317,     0.17417,     0.17518,     0.17618,     0.17718,     0.17818,     0.17918,     0.18018,     0.18118,     0.18218,     0.18318,     0.18418,     0.18519,     0.18619,     0.18719,     0.18819,     0.18919,     0.19019,     0.19119,\n",
              "           0.19219,     0.19319,     0.19419,      0.1952,      0.1962,      0.1972,      0.1982,      0.1992,      0.2002,      0.2012,      0.2022,      0.2032,      0.2042,     0.20521,     0.20621,     0.20721,     0.20821,     0.20921,     0.21021,     0.21121,     0.21221,     0.21321,     0.21421,     0.21522,\n",
              "           0.21622,     0.21722,     0.21822,     0.21922,     0.22022,     0.22122,     0.22222,     0.22322,     0.22422,     0.22523,     0.22623,     0.22723,     0.22823,     0.22923,     0.23023,     0.23123,     0.23223,     0.23323,     0.23423,     0.23524,     0.23624,     0.23724,     0.23824,     0.23924,\n",
              "           0.24024,     0.24124,     0.24224,     0.24324,     0.24424,     0.24525,     0.24625,     0.24725,     0.24825,     0.24925,     0.25025,     0.25125,     0.25225,     0.25325,     0.25425,     0.25526,     0.25626,     0.25726,     0.25826,     0.25926,     0.26026,     0.26126,     0.26226,     0.26326,\n",
              "           0.26426,     0.26527,     0.26627,     0.26727,     0.26827,     0.26927,     0.27027,     0.27127,     0.27227,     0.27327,     0.27427,     0.27528,     0.27628,     0.27728,     0.27828,     0.27928,     0.28028,     0.28128,     0.28228,     0.28328,     0.28428,     0.28529,     0.28629,     0.28729,\n",
              "           0.28829,     0.28929,     0.29029,     0.29129,     0.29229,     0.29329,     0.29429,      0.2953,      0.2963,      0.2973,      0.2983,      0.2993,      0.3003,      0.3013,      0.3023,      0.3033,      0.3043,     0.30531,     0.30631,     0.30731,     0.30831,     0.30931,     0.31031,     0.31131,\n",
              "           0.31231,     0.31331,     0.31431,     0.31532,     0.31632,     0.31732,     0.31832,     0.31932,     0.32032,     0.32132,     0.32232,     0.32332,     0.32432,     0.32533,     0.32633,     0.32733,     0.32833,     0.32933,     0.33033,     0.33133,     0.33233,     0.33333,     0.33433,     0.33534,\n",
              "           0.33634,     0.33734,     0.33834,     0.33934,     0.34034,     0.34134,     0.34234,     0.34334,     0.34434,     0.34535,     0.34635,     0.34735,     0.34835,     0.34935,     0.35035,     0.35135,     0.35235,     0.35335,     0.35435,     0.35536,     0.35636,     0.35736,     0.35836,     0.35936,\n",
              "           0.36036,     0.36136,     0.36236,     0.36336,     0.36436,     0.36537,     0.36637,     0.36737,     0.36837,     0.36937,     0.37037,     0.37137,     0.37237,     0.37337,     0.37437,     0.37538,     0.37638,     0.37738,     0.37838,     0.37938,     0.38038,     0.38138,     0.38238,     0.38338,\n",
              "           0.38438,     0.38539,     0.38639,     0.38739,     0.38839,     0.38939,     0.39039,     0.39139,     0.39239,     0.39339,     0.39439,      0.3954,      0.3964,      0.3974,      0.3984,      0.3994,      0.4004,      0.4014,      0.4024,      0.4034,      0.4044,     0.40541,     0.40641,     0.40741,\n",
              "           0.40841,     0.40941,     0.41041,     0.41141,     0.41241,     0.41341,     0.41441,     0.41542,     0.41642,     0.41742,     0.41842,     0.41942,     0.42042,     0.42142,     0.42242,     0.42342,     0.42442,     0.42543,     0.42643,     0.42743,     0.42843,     0.42943,     0.43043,     0.43143,\n",
              "           0.43243,     0.43343,     0.43443,     0.43544,     0.43644,     0.43744,     0.43844,     0.43944,     0.44044,     0.44144,     0.44244,     0.44344,     0.44444,     0.44545,     0.44645,     0.44745,     0.44845,     0.44945,     0.45045,     0.45145,     0.45245,     0.45345,     0.45445,     0.45546,\n",
              "           0.45646,     0.45746,     0.45846,     0.45946,     0.46046,     0.46146,     0.46246,     0.46346,     0.46446,     0.46547,     0.46647,     0.46747,     0.46847,     0.46947,     0.47047,     0.47147,     0.47247,     0.47347,     0.47447,     0.47548,     0.47648,     0.47748,     0.47848,     0.47948,\n",
              "           0.48048,     0.48148,     0.48248,     0.48348,     0.48448,     0.48549,     0.48649,     0.48749,     0.48849,     0.48949,     0.49049,     0.49149,     0.49249,     0.49349,     0.49449,      0.4955,      0.4965,      0.4975,      0.4985,      0.4995,      0.5005,      0.5015,      0.5025,      0.5035,\n",
              "            0.5045,     0.50551,     0.50651,     0.50751,     0.50851,     0.50951,     0.51051,     0.51151,     0.51251,     0.51351,     0.51451,     0.51552,     0.51652,     0.51752,     0.51852,     0.51952,     0.52052,     0.52152,     0.52252,     0.52352,     0.52452,     0.52553,     0.52653,     0.52753,\n",
              "           0.52853,     0.52953,     0.53053,     0.53153,     0.53253,     0.53353,     0.53453,     0.53554,     0.53654,     0.53754,     0.53854,     0.53954,     0.54054,     0.54154,     0.54254,     0.54354,     0.54454,     0.54555,     0.54655,     0.54755,     0.54855,     0.54955,     0.55055,     0.55155,\n",
              "           0.55255,     0.55355,     0.55455,     0.55556,     0.55656,     0.55756,     0.55856,     0.55956,     0.56056,     0.56156,     0.56256,     0.56356,     0.56456,     0.56557,     0.56657,     0.56757,     0.56857,     0.56957,     0.57057,     0.57157,     0.57257,     0.57357,     0.57457,     0.57558,\n",
              "           0.57658,     0.57758,     0.57858,     0.57958,     0.58058,     0.58158,     0.58258,     0.58358,     0.58458,     0.58559,     0.58659,     0.58759,     0.58859,     0.58959,     0.59059,     0.59159,     0.59259,     0.59359,     0.59459,      0.5956,      0.5966,      0.5976,      0.5986,      0.5996,\n",
              "            0.6006,      0.6016,      0.6026,      0.6036,      0.6046,     0.60561,     0.60661,     0.60761,     0.60861,     0.60961,     0.61061,     0.61161,     0.61261,     0.61361,     0.61461,     0.61562,     0.61662,     0.61762,     0.61862,     0.61962,     0.62062,     0.62162,     0.62262,     0.62362,\n",
              "           0.62462,     0.62563,     0.62663,     0.62763,     0.62863,     0.62963,     0.63063,     0.63163,     0.63263,     0.63363,     0.63463,     0.63564,     0.63664,     0.63764,     0.63864,     0.63964,     0.64064,     0.64164,     0.64264,     0.64364,     0.64464,     0.64565,     0.64665,     0.64765,\n",
              "           0.64865,     0.64965,     0.65065,     0.65165,     0.65265,     0.65365,     0.65465,     0.65566,     0.65666,     0.65766,     0.65866,     0.65966,     0.66066,     0.66166,     0.66266,     0.66366,     0.66466,     0.66567,     0.66667,     0.66767,     0.66867,     0.66967,     0.67067,     0.67167,\n",
              "           0.67267,     0.67367,     0.67467,     0.67568,     0.67668,     0.67768,     0.67868,     0.67968,     0.68068,     0.68168,     0.68268,     0.68368,     0.68468,     0.68569,     0.68669,     0.68769,     0.68869,     0.68969,     0.69069,     0.69169,     0.69269,     0.69369,     0.69469,      0.6957,\n",
              "            0.6967,      0.6977,      0.6987,      0.6997,      0.7007,      0.7017,      0.7027,      0.7037,      0.7047,     0.70571,     0.70671,     0.70771,     0.70871,     0.70971,     0.71071,     0.71171,     0.71271,     0.71371,     0.71471,     0.71572,     0.71672,     0.71772,     0.71872,     0.71972,\n",
              "           0.72072,     0.72172,     0.72272,     0.72372,     0.72472,     0.72573,     0.72673,     0.72773,     0.72873,     0.72973,     0.73073,     0.73173,     0.73273,     0.73373,     0.73473,     0.73574,     0.73674,     0.73774,     0.73874,     0.73974,     0.74074,     0.74174,     0.74274,     0.74374,\n",
              "           0.74474,     0.74575,     0.74675,     0.74775,     0.74875,     0.74975,     0.75075,     0.75175,     0.75275,     0.75375,     0.75475,     0.75576,     0.75676,     0.75776,     0.75876,     0.75976,     0.76076,     0.76176,     0.76276,     0.76376,     0.76476,     0.76577,     0.76677,     0.76777,\n",
              "           0.76877,     0.76977,     0.77077,     0.77177,     0.77277,     0.77377,     0.77477,     0.77578,     0.77678,     0.77778,     0.77878,     0.77978,     0.78078,     0.78178,     0.78278,     0.78378,     0.78478,     0.78579,     0.78679,     0.78779,     0.78879,     0.78979,     0.79079,     0.79179,\n",
              "           0.79279,     0.79379,     0.79479,      0.7958,      0.7968,      0.7978,      0.7988,      0.7998,      0.8008,      0.8018,      0.8028,      0.8038,      0.8048,     0.80581,     0.80681,     0.80781,     0.80881,     0.80981,     0.81081,     0.81181,     0.81281,     0.81381,     0.81481,     0.81582,\n",
              "           0.81682,     0.81782,     0.81882,     0.81982,     0.82082,     0.82182,     0.82282,     0.82382,     0.82482,     0.82583,     0.82683,     0.82783,     0.82883,     0.82983,     0.83083,     0.83183,     0.83283,     0.83383,     0.83483,     0.83584,     0.83684,     0.83784,     0.83884,     0.83984,\n",
              "           0.84084,     0.84184,     0.84284,     0.84384,     0.84484,     0.84585,     0.84685,     0.84785,     0.84885,     0.84985,     0.85085,     0.85185,     0.85285,     0.85385,     0.85485,     0.85586,     0.85686,     0.85786,     0.85886,     0.85986,     0.86086,     0.86186,     0.86286,     0.86386,\n",
              "           0.86486,     0.86587,     0.86687,     0.86787,     0.86887,     0.86987,     0.87087,     0.87187,     0.87287,     0.87387,     0.87487,     0.87588,     0.87688,     0.87788,     0.87888,     0.87988,     0.88088,     0.88188,     0.88288,     0.88388,     0.88488,     0.88589,     0.88689,     0.88789,\n",
              "           0.88889,     0.88989,     0.89089,     0.89189,     0.89289,     0.89389,     0.89489,      0.8959,      0.8969,      0.8979,      0.8989,      0.8999,      0.9009,      0.9019,      0.9029,      0.9039,      0.9049,     0.90591,     0.90691,     0.90791,     0.90891,     0.90991,     0.91091,     0.91191,\n",
              "           0.91291,     0.91391,     0.91491,     0.91592,     0.91692,     0.91792,     0.91892,     0.91992,     0.92092,     0.92192,     0.92292,     0.92392,     0.92492,     0.92593,     0.92693,     0.92793,     0.92893,     0.92993,     0.93093,     0.93193,     0.93293,     0.93393,     0.93493,     0.93594,\n",
              "           0.93694,     0.93794,     0.93894,     0.93994,     0.94094,     0.94194,     0.94294,     0.94394,     0.94494,     0.94595,     0.94695,     0.94795,     0.94895,     0.94995,     0.95095,     0.95195,     0.95295,     0.95395,     0.95495,     0.95596,     0.95696,     0.95796,     0.95896,     0.95996,\n",
              "           0.96096,     0.96196,     0.96296,     0.96396,     0.96496,     0.96597,     0.96697,     0.96797,     0.96897,     0.96997,     0.97097,     0.97197,     0.97297,     0.97397,     0.97497,     0.97598,     0.97698,     0.97798,     0.97898,     0.97998,     0.98098,     0.98198,     0.98298,     0.98398,\n",
              "           0.98498,     0.98599,     0.98699,     0.98799,     0.98899,     0.98999,     0.99099,     0.99199,     0.99299,     0.99399,     0.99499,       0.996,       0.997,       0.998,       0.999,           1]), array([[    0.39161,     0.39161,     0.56102, ...,           0,           0,           0],\n",
              "       [     0.6506,      0.6506,     0.78961, ...,           0,           0,           0]]), 'Confidence', 'F1'], [array([          0,    0.001001,    0.002002,    0.003003,    0.004004,    0.005005,    0.006006,    0.007007,    0.008008,    0.009009,     0.01001,    0.011011,    0.012012,    0.013013,    0.014014,    0.015015,    0.016016,    0.017017,    0.018018,    0.019019,     0.02002,    0.021021,    0.022022,    0.023023,\n",
              "          0.024024,    0.025025,    0.026026,    0.027027,    0.028028,    0.029029,     0.03003,    0.031031,    0.032032,    0.033033,    0.034034,    0.035035,    0.036036,    0.037037,    0.038038,    0.039039,     0.04004,    0.041041,    0.042042,    0.043043,    0.044044,    0.045045,    0.046046,    0.047047,\n",
              "          0.048048,    0.049049,     0.05005,    0.051051,    0.052052,    0.053053,    0.054054,    0.055055,    0.056056,    0.057057,    0.058058,    0.059059,     0.06006,    0.061061,    0.062062,    0.063063,    0.064064,    0.065065,    0.066066,    0.067067,    0.068068,    0.069069,     0.07007,    0.071071,\n",
              "          0.072072,    0.073073,    0.074074,    0.075075,    0.076076,    0.077077,    0.078078,    0.079079,     0.08008,    0.081081,    0.082082,    0.083083,    0.084084,    0.085085,    0.086086,    0.087087,    0.088088,    0.089089,     0.09009,    0.091091,    0.092092,    0.093093,    0.094094,    0.095095,\n",
              "          0.096096,    0.097097,    0.098098,    0.099099,      0.1001,      0.1011,      0.1021,      0.1031,      0.1041,     0.10511,     0.10611,     0.10711,     0.10811,     0.10911,     0.11011,     0.11111,     0.11211,     0.11311,     0.11411,     0.11512,     0.11612,     0.11712,     0.11812,     0.11912,\n",
              "           0.12012,     0.12112,     0.12212,     0.12312,     0.12412,     0.12513,     0.12613,     0.12713,     0.12813,     0.12913,     0.13013,     0.13113,     0.13213,     0.13313,     0.13413,     0.13514,     0.13614,     0.13714,     0.13814,     0.13914,     0.14014,     0.14114,     0.14214,     0.14314,\n",
              "           0.14414,     0.14515,     0.14615,     0.14715,     0.14815,     0.14915,     0.15015,     0.15115,     0.15215,     0.15315,     0.15415,     0.15516,     0.15616,     0.15716,     0.15816,     0.15916,     0.16016,     0.16116,     0.16216,     0.16316,     0.16416,     0.16517,     0.16617,     0.16717,\n",
              "           0.16817,     0.16917,     0.17017,     0.17117,     0.17217,     0.17317,     0.17417,     0.17518,     0.17618,     0.17718,     0.17818,     0.17918,     0.18018,     0.18118,     0.18218,     0.18318,     0.18418,     0.18519,     0.18619,     0.18719,     0.18819,     0.18919,     0.19019,     0.19119,\n",
              "           0.19219,     0.19319,     0.19419,      0.1952,      0.1962,      0.1972,      0.1982,      0.1992,      0.2002,      0.2012,      0.2022,      0.2032,      0.2042,     0.20521,     0.20621,     0.20721,     0.20821,     0.20921,     0.21021,     0.21121,     0.21221,     0.21321,     0.21421,     0.21522,\n",
              "           0.21622,     0.21722,     0.21822,     0.21922,     0.22022,     0.22122,     0.22222,     0.22322,     0.22422,     0.22523,     0.22623,     0.22723,     0.22823,     0.22923,     0.23023,     0.23123,     0.23223,     0.23323,     0.23423,     0.23524,     0.23624,     0.23724,     0.23824,     0.23924,\n",
              "           0.24024,     0.24124,     0.24224,     0.24324,     0.24424,     0.24525,     0.24625,     0.24725,     0.24825,     0.24925,     0.25025,     0.25125,     0.25225,     0.25325,     0.25425,     0.25526,     0.25626,     0.25726,     0.25826,     0.25926,     0.26026,     0.26126,     0.26226,     0.26326,\n",
              "           0.26426,     0.26527,     0.26627,     0.26727,     0.26827,     0.26927,     0.27027,     0.27127,     0.27227,     0.27327,     0.27427,     0.27528,     0.27628,     0.27728,     0.27828,     0.27928,     0.28028,     0.28128,     0.28228,     0.28328,     0.28428,     0.28529,     0.28629,     0.28729,\n",
              "           0.28829,     0.28929,     0.29029,     0.29129,     0.29229,     0.29329,     0.29429,      0.2953,      0.2963,      0.2973,      0.2983,      0.2993,      0.3003,      0.3013,      0.3023,      0.3033,      0.3043,     0.30531,     0.30631,     0.30731,     0.30831,     0.30931,     0.31031,     0.31131,\n",
              "           0.31231,     0.31331,     0.31431,     0.31532,     0.31632,     0.31732,     0.31832,     0.31932,     0.32032,     0.32132,     0.32232,     0.32332,     0.32432,     0.32533,     0.32633,     0.32733,     0.32833,     0.32933,     0.33033,     0.33133,     0.33233,     0.33333,     0.33433,     0.33534,\n",
              "           0.33634,     0.33734,     0.33834,     0.33934,     0.34034,     0.34134,     0.34234,     0.34334,     0.34434,     0.34535,     0.34635,     0.34735,     0.34835,     0.34935,     0.35035,     0.35135,     0.35235,     0.35335,     0.35435,     0.35536,     0.35636,     0.35736,     0.35836,     0.35936,\n",
              "           0.36036,     0.36136,     0.36236,     0.36336,     0.36436,     0.36537,     0.36637,     0.36737,     0.36837,     0.36937,     0.37037,     0.37137,     0.37237,     0.37337,     0.37437,     0.37538,     0.37638,     0.37738,     0.37838,     0.37938,     0.38038,     0.38138,     0.38238,     0.38338,\n",
              "           0.38438,     0.38539,     0.38639,     0.38739,     0.38839,     0.38939,     0.39039,     0.39139,     0.39239,     0.39339,     0.39439,      0.3954,      0.3964,      0.3974,      0.3984,      0.3994,      0.4004,      0.4014,      0.4024,      0.4034,      0.4044,     0.40541,     0.40641,     0.40741,\n",
              "           0.40841,     0.40941,     0.41041,     0.41141,     0.41241,     0.41341,     0.41441,     0.41542,     0.41642,     0.41742,     0.41842,     0.41942,     0.42042,     0.42142,     0.42242,     0.42342,     0.42442,     0.42543,     0.42643,     0.42743,     0.42843,     0.42943,     0.43043,     0.43143,\n",
              "           0.43243,     0.43343,     0.43443,     0.43544,     0.43644,     0.43744,     0.43844,     0.43944,     0.44044,     0.44144,     0.44244,     0.44344,     0.44444,     0.44545,     0.44645,     0.44745,     0.44845,     0.44945,     0.45045,     0.45145,     0.45245,     0.45345,     0.45445,     0.45546,\n",
              "           0.45646,     0.45746,     0.45846,     0.45946,     0.46046,     0.46146,     0.46246,     0.46346,     0.46446,     0.46547,     0.46647,     0.46747,     0.46847,     0.46947,     0.47047,     0.47147,     0.47247,     0.47347,     0.47447,     0.47548,     0.47648,     0.47748,     0.47848,     0.47948,\n",
              "           0.48048,     0.48148,     0.48248,     0.48348,     0.48448,     0.48549,     0.48649,     0.48749,     0.48849,     0.48949,     0.49049,     0.49149,     0.49249,     0.49349,     0.49449,      0.4955,      0.4965,      0.4975,      0.4985,      0.4995,      0.5005,      0.5015,      0.5025,      0.5035,\n",
              "            0.5045,     0.50551,     0.50651,     0.50751,     0.50851,     0.50951,     0.51051,     0.51151,     0.51251,     0.51351,     0.51451,     0.51552,     0.51652,     0.51752,     0.51852,     0.51952,     0.52052,     0.52152,     0.52252,     0.52352,     0.52452,     0.52553,     0.52653,     0.52753,\n",
              "           0.52853,     0.52953,     0.53053,     0.53153,     0.53253,     0.53353,     0.53453,     0.53554,     0.53654,     0.53754,     0.53854,     0.53954,     0.54054,     0.54154,     0.54254,     0.54354,     0.54454,     0.54555,     0.54655,     0.54755,     0.54855,     0.54955,     0.55055,     0.55155,\n",
              "           0.55255,     0.55355,     0.55455,     0.55556,     0.55656,     0.55756,     0.55856,     0.55956,     0.56056,     0.56156,     0.56256,     0.56356,     0.56456,     0.56557,     0.56657,     0.56757,     0.56857,     0.56957,     0.57057,     0.57157,     0.57257,     0.57357,     0.57457,     0.57558,\n",
              "           0.57658,     0.57758,     0.57858,     0.57958,     0.58058,     0.58158,     0.58258,     0.58358,     0.58458,     0.58559,     0.58659,     0.58759,     0.58859,     0.58959,     0.59059,     0.59159,     0.59259,     0.59359,     0.59459,      0.5956,      0.5966,      0.5976,      0.5986,      0.5996,\n",
              "            0.6006,      0.6016,      0.6026,      0.6036,      0.6046,     0.60561,     0.60661,     0.60761,     0.60861,     0.60961,     0.61061,     0.61161,     0.61261,     0.61361,     0.61461,     0.61562,     0.61662,     0.61762,     0.61862,     0.61962,     0.62062,     0.62162,     0.62262,     0.62362,\n",
              "           0.62462,     0.62563,     0.62663,     0.62763,     0.62863,     0.62963,     0.63063,     0.63163,     0.63263,     0.63363,     0.63463,     0.63564,     0.63664,     0.63764,     0.63864,     0.63964,     0.64064,     0.64164,     0.64264,     0.64364,     0.64464,     0.64565,     0.64665,     0.64765,\n",
              "           0.64865,     0.64965,     0.65065,     0.65165,     0.65265,     0.65365,     0.65465,     0.65566,     0.65666,     0.65766,     0.65866,     0.65966,     0.66066,     0.66166,     0.66266,     0.66366,     0.66466,     0.66567,     0.66667,     0.66767,     0.66867,     0.66967,     0.67067,     0.67167,\n",
              "           0.67267,     0.67367,     0.67467,     0.67568,     0.67668,     0.67768,     0.67868,     0.67968,     0.68068,     0.68168,     0.68268,     0.68368,     0.68468,     0.68569,     0.68669,     0.68769,     0.68869,     0.68969,     0.69069,     0.69169,     0.69269,     0.69369,     0.69469,      0.6957,\n",
              "            0.6967,      0.6977,      0.6987,      0.6997,      0.7007,      0.7017,      0.7027,      0.7037,      0.7047,     0.70571,     0.70671,     0.70771,     0.70871,     0.70971,     0.71071,     0.71171,     0.71271,     0.71371,     0.71471,     0.71572,     0.71672,     0.71772,     0.71872,     0.71972,\n",
              "           0.72072,     0.72172,     0.72272,     0.72372,     0.72472,     0.72573,     0.72673,     0.72773,     0.72873,     0.72973,     0.73073,     0.73173,     0.73273,     0.73373,     0.73473,     0.73574,     0.73674,     0.73774,     0.73874,     0.73974,     0.74074,     0.74174,     0.74274,     0.74374,\n",
              "           0.74474,     0.74575,     0.74675,     0.74775,     0.74875,     0.74975,     0.75075,     0.75175,     0.75275,     0.75375,     0.75475,     0.75576,     0.75676,     0.75776,     0.75876,     0.75976,     0.76076,     0.76176,     0.76276,     0.76376,     0.76476,     0.76577,     0.76677,     0.76777,\n",
              "           0.76877,     0.76977,     0.77077,     0.77177,     0.77277,     0.77377,     0.77477,     0.77578,     0.77678,     0.77778,     0.77878,     0.77978,     0.78078,     0.78178,     0.78278,     0.78378,     0.78478,     0.78579,     0.78679,     0.78779,     0.78879,     0.78979,     0.79079,     0.79179,\n",
              "           0.79279,     0.79379,     0.79479,      0.7958,      0.7968,      0.7978,      0.7988,      0.7998,      0.8008,      0.8018,      0.8028,      0.8038,      0.8048,     0.80581,     0.80681,     0.80781,     0.80881,     0.80981,     0.81081,     0.81181,     0.81281,     0.81381,     0.81481,     0.81582,\n",
              "           0.81682,     0.81782,     0.81882,     0.81982,     0.82082,     0.82182,     0.82282,     0.82382,     0.82482,     0.82583,     0.82683,     0.82783,     0.82883,     0.82983,     0.83083,     0.83183,     0.83283,     0.83383,     0.83483,     0.83584,     0.83684,     0.83784,     0.83884,     0.83984,\n",
              "           0.84084,     0.84184,     0.84284,     0.84384,     0.84484,     0.84585,     0.84685,     0.84785,     0.84885,     0.84985,     0.85085,     0.85185,     0.85285,     0.85385,     0.85485,     0.85586,     0.85686,     0.85786,     0.85886,     0.85986,     0.86086,     0.86186,     0.86286,     0.86386,\n",
              "           0.86486,     0.86587,     0.86687,     0.86787,     0.86887,     0.86987,     0.87087,     0.87187,     0.87287,     0.87387,     0.87487,     0.87588,     0.87688,     0.87788,     0.87888,     0.87988,     0.88088,     0.88188,     0.88288,     0.88388,     0.88488,     0.88589,     0.88689,     0.88789,\n",
              "           0.88889,     0.88989,     0.89089,     0.89189,     0.89289,     0.89389,     0.89489,      0.8959,      0.8969,      0.8979,      0.8989,      0.8999,      0.9009,      0.9019,      0.9029,      0.9039,      0.9049,     0.90591,     0.90691,     0.90791,     0.90891,     0.90991,     0.91091,     0.91191,\n",
              "           0.91291,     0.91391,     0.91491,     0.91592,     0.91692,     0.91792,     0.91892,     0.91992,     0.92092,     0.92192,     0.92292,     0.92392,     0.92492,     0.92593,     0.92693,     0.92793,     0.92893,     0.92993,     0.93093,     0.93193,     0.93293,     0.93393,     0.93493,     0.93594,\n",
              "           0.93694,     0.93794,     0.93894,     0.93994,     0.94094,     0.94194,     0.94294,     0.94394,     0.94494,     0.94595,     0.94695,     0.94795,     0.94895,     0.94995,     0.95095,     0.95195,     0.95295,     0.95395,     0.95495,     0.95596,     0.95696,     0.95796,     0.95896,     0.95996,\n",
              "           0.96096,     0.96196,     0.96296,     0.96396,     0.96496,     0.96597,     0.96697,     0.96797,     0.96897,     0.96997,     0.97097,     0.97197,     0.97297,     0.97397,     0.97497,     0.97598,     0.97698,     0.97798,     0.97898,     0.97998,     0.98098,     0.98198,     0.98298,     0.98398,\n",
              "           0.98498,     0.98599,     0.98699,     0.98799,     0.98899,     0.98999,     0.99099,     0.99199,     0.99299,     0.99399,     0.99499,       0.996,       0.997,       0.998,       0.999,           1]), array([[    0.24348,     0.24348,     0.38988, ...,           1,           1,           1],\n",
              "       [    0.48214,     0.48214,     0.65236, ...,           1,           1,           1]]), 'Confidence', 'Precision'], [array([          0,    0.001001,    0.002002,    0.003003,    0.004004,    0.005005,    0.006006,    0.007007,    0.008008,    0.009009,     0.01001,    0.011011,    0.012012,    0.013013,    0.014014,    0.015015,    0.016016,    0.017017,    0.018018,    0.019019,     0.02002,    0.021021,    0.022022,    0.023023,\n",
              "          0.024024,    0.025025,    0.026026,    0.027027,    0.028028,    0.029029,     0.03003,    0.031031,    0.032032,    0.033033,    0.034034,    0.035035,    0.036036,    0.037037,    0.038038,    0.039039,     0.04004,    0.041041,    0.042042,    0.043043,    0.044044,    0.045045,    0.046046,    0.047047,\n",
              "          0.048048,    0.049049,     0.05005,    0.051051,    0.052052,    0.053053,    0.054054,    0.055055,    0.056056,    0.057057,    0.058058,    0.059059,     0.06006,    0.061061,    0.062062,    0.063063,    0.064064,    0.065065,    0.066066,    0.067067,    0.068068,    0.069069,     0.07007,    0.071071,\n",
              "          0.072072,    0.073073,    0.074074,    0.075075,    0.076076,    0.077077,    0.078078,    0.079079,     0.08008,    0.081081,    0.082082,    0.083083,    0.084084,    0.085085,    0.086086,    0.087087,    0.088088,    0.089089,     0.09009,    0.091091,    0.092092,    0.093093,    0.094094,    0.095095,\n",
              "          0.096096,    0.097097,    0.098098,    0.099099,      0.1001,      0.1011,      0.1021,      0.1031,      0.1041,     0.10511,     0.10611,     0.10711,     0.10811,     0.10911,     0.11011,     0.11111,     0.11211,     0.11311,     0.11411,     0.11512,     0.11612,     0.11712,     0.11812,     0.11912,\n",
              "           0.12012,     0.12112,     0.12212,     0.12312,     0.12412,     0.12513,     0.12613,     0.12713,     0.12813,     0.12913,     0.13013,     0.13113,     0.13213,     0.13313,     0.13413,     0.13514,     0.13614,     0.13714,     0.13814,     0.13914,     0.14014,     0.14114,     0.14214,     0.14314,\n",
              "           0.14414,     0.14515,     0.14615,     0.14715,     0.14815,     0.14915,     0.15015,     0.15115,     0.15215,     0.15315,     0.15415,     0.15516,     0.15616,     0.15716,     0.15816,     0.15916,     0.16016,     0.16116,     0.16216,     0.16316,     0.16416,     0.16517,     0.16617,     0.16717,\n",
              "           0.16817,     0.16917,     0.17017,     0.17117,     0.17217,     0.17317,     0.17417,     0.17518,     0.17618,     0.17718,     0.17818,     0.17918,     0.18018,     0.18118,     0.18218,     0.18318,     0.18418,     0.18519,     0.18619,     0.18719,     0.18819,     0.18919,     0.19019,     0.19119,\n",
              "           0.19219,     0.19319,     0.19419,      0.1952,      0.1962,      0.1972,      0.1982,      0.1992,      0.2002,      0.2012,      0.2022,      0.2032,      0.2042,     0.20521,     0.20621,     0.20721,     0.20821,     0.20921,     0.21021,     0.21121,     0.21221,     0.21321,     0.21421,     0.21522,\n",
              "           0.21622,     0.21722,     0.21822,     0.21922,     0.22022,     0.22122,     0.22222,     0.22322,     0.22422,     0.22523,     0.22623,     0.22723,     0.22823,     0.22923,     0.23023,     0.23123,     0.23223,     0.23323,     0.23423,     0.23524,     0.23624,     0.23724,     0.23824,     0.23924,\n",
              "           0.24024,     0.24124,     0.24224,     0.24324,     0.24424,     0.24525,     0.24625,     0.24725,     0.24825,     0.24925,     0.25025,     0.25125,     0.25225,     0.25325,     0.25425,     0.25526,     0.25626,     0.25726,     0.25826,     0.25926,     0.26026,     0.26126,     0.26226,     0.26326,\n",
              "           0.26426,     0.26527,     0.26627,     0.26727,     0.26827,     0.26927,     0.27027,     0.27127,     0.27227,     0.27327,     0.27427,     0.27528,     0.27628,     0.27728,     0.27828,     0.27928,     0.28028,     0.28128,     0.28228,     0.28328,     0.28428,     0.28529,     0.28629,     0.28729,\n",
              "           0.28829,     0.28929,     0.29029,     0.29129,     0.29229,     0.29329,     0.29429,      0.2953,      0.2963,      0.2973,      0.2983,      0.2993,      0.3003,      0.3013,      0.3023,      0.3033,      0.3043,     0.30531,     0.30631,     0.30731,     0.30831,     0.30931,     0.31031,     0.31131,\n",
              "           0.31231,     0.31331,     0.31431,     0.31532,     0.31632,     0.31732,     0.31832,     0.31932,     0.32032,     0.32132,     0.32232,     0.32332,     0.32432,     0.32533,     0.32633,     0.32733,     0.32833,     0.32933,     0.33033,     0.33133,     0.33233,     0.33333,     0.33433,     0.33534,\n",
              "           0.33634,     0.33734,     0.33834,     0.33934,     0.34034,     0.34134,     0.34234,     0.34334,     0.34434,     0.34535,     0.34635,     0.34735,     0.34835,     0.34935,     0.35035,     0.35135,     0.35235,     0.35335,     0.35435,     0.35536,     0.35636,     0.35736,     0.35836,     0.35936,\n",
              "           0.36036,     0.36136,     0.36236,     0.36336,     0.36436,     0.36537,     0.36637,     0.36737,     0.36837,     0.36937,     0.37037,     0.37137,     0.37237,     0.37337,     0.37437,     0.37538,     0.37638,     0.37738,     0.37838,     0.37938,     0.38038,     0.38138,     0.38238,     0.38338,\n",
              "           0.38438,     0.38539,     0.38639,     0.38739,     0.38839,     0.38939,     0.39039,     0.39139,     0.39239,     0.39339,     0.39439,      0.3954,      0.3964,      0.3974,      0.3984,      0.3994,      0.4004,      0.4014,      0.4024,      0.4034,      0.4044,     0.40541,     0.40641,     0.40741,\n",
              "           0.40841,     0.40941,     0.41041,     0.41141,     0.41241,     0.41341,     0.41441,     0.41542,     0.41642,     0.41742,     0.41842,     0.41942,     0.42042,     0.42142,     0.42242,     0.42342,     0.42442,     0.42543,     0.42643,     0.42743,     0.42843,     0.42943,     0.43043,     0.43143,\n",
              "           0.43243,     0.43343,     0.43443,     0.43544,     0.43644,     0.43744,     0.43844,     0.43944,     0.44044,     0.44144,     0.44244,     0.44344,     0.44444,     0.44545,     0.44645,     0.44745,     0.44845,     0.44945,     0.45045,     0.45145,     0.45245,     0.45345,     0.45445,     0.45546,\n",
              "           0.45646,     0.45746,     0.45846,     0.45946,     0.46046,     0.46146,     0.46246,     0.46346,     0.46446,     0.46547,     0.46647,     0.46747,     0.46847,     0.46947,     0.47047,     0.47147,     0.47247,     0.47347,     0.47447,     0.47548,     0.47648,     0.47748,     0.47848,     0.47948,\n",
              "           0.48048,     0.48148,     0.48248,     0.48348,     0.48448,     0.48549,     0.48649,     0.48749,     0.48849,     0.48949,     0.49049,     0.49149,     0.49249,     0.49349,     0.49449,      0.4955,      0.4965,      0.4975,      0.4985,      0.4995,      0.5005,      0.5015,      0.5025,      0.5035,\n",
              "            0.5045,     0.50551,     0.50651,     0.50751,     0.50851,     0.50951,     0.51051,     0.51151,     0.51251,     0.51351,     0.51451,     0.51552,     0.51652,     0.51752,     0.51852,     0.51952,     0.52052,     0.52152,     0.52252,     0.52352,     0.52452,     0.52553,     0.52653,     0.52753,\n",
              "           0.52853,     0.52953,     0.53053,     0.53153,     0.53253,     0.53353,     0.53453,     0.53554,     0.53654,     0.53754,     0.53854,     0.53954,     0.54054,     0.54154,     0.54254,     0.54354,     0.54454,     0.54555,     0.54655,     0.54755,     0.54855,     0.54955,     0.55055,     0.55155,\n",
              "           0.55255,     0.55355,     0.55455,     0.55556,     0.55656,     0.55756,     0.55856,     0.55956,     0.56056,     0.56156,     0.56256,     0.56356,     0.56456,     0.56557,     0.56657,     0.56757,     0.56857,     0.56957,     0.57057,     0.57157,     0.57257,     0.57357,     0.57457,     0.57558,\n",
              "           0.57658,     0.57758,     0.57858,     0.57958,     0.58058,     0.58158,     0.58258,     0.58358,     0.58458,     0.58559,     0.58659,     0.58759,     0.58859,     0.58959,     0.59059,     0.59159,     0.59259,     0.59359,     0.59459,      0.5956,      0.5966,      0.5976,      0.5986,      0.5996,\n",
              "            0.6006,      0.6016,      0.6026,      0.6036,      0.6046,     0.60561,     0.60661,     0.60761,     0.60861,     0.60961,     0.61061,     0.61161,     0.61261,     0.61361,     0.61461,     0.61562,     0.61662,     0.61762,     0.61862,     0.61962,     0.62062,     0.62162,     0.62262,     0.62362,\n",
              "           0.62462,     0.62563,     0.62663,     0.62763,     0.62863,     0.62963,     0.63063,     0.63163,     0.63263,     0.63363,     0.63463,     0.63564,     0.63664,     0.63764,     0.63864,     0.63964,     0.64064,     0.64164,     0.64264,     0.64364,     0.64464,     0.64565,     0.64665,     0.64765,\n",
              "           0.64865,     0.64965,     0.65065,     0.65165,     0.65265,     0.65365,     0.65465,     0.65566,     0.65666,     0.65766,     0.65866,     0.65966,     0.66066,     0.66166,     0.66266,     0.66366,     0.66466,     0.66567,     0.66667,     0.66767,     0.66867,     0.66967,     0.67067,     0.67167,\n",
              "           0.67267,     0.67367,     0.67467,     0.67568,     0.67668,     0.67768,     0.67868,     0.67968,     0.68068,     0.68168,     0.68268,     0.68368,     0.68468,     0.68569,     0.68669,     0.68769,     0.68869,     0.68969,     0.69069,     0.69169,     0.69269,     0.69369,     0.69469,      0.6957,\n",
              "            0.6967,      0.6977,      0.6987,      0.6997,      0.7007,      0.7017,      0.7027,      0.7037,      0.7047,     0.70571,     0.70671,     0.70771,     0.70871,     0.70971,     0.71071,     0.71171,     0.71271,     0.71371,     0.71471,     0.71572,     0.71672,     0.71772,     0.71872,     0.71972,\n",
              "           0.72072,     0.72172,     0.72272,     0.72372,     0.72472,     0.72573,     0.72673,     0.72773,     0.72873,     0.72973,     0.73073,     0.73173,     0.73273,     0.73373,     0.73473,     0.73574,     0.73674,     0.73774,     0.73874,     0.73974,     0.74074,     0.74174,     0.74274,     0.74374,\n",
              "           0.74474,     0.74575,     0.74675,     0.74775,     0.74875,     0.74975,     0.75075,     0.75175,     0.75275,     0.75375,     0.75475,     0.75576,     0.75676,     0.75776,     0.75876,     0.75976,     0.76076,     0.76176,     0.76276,     0.76376,     0.76476,     0.76577,     0.76677,     0.76777,\n",
              "           0.76877,     0.76977,     0.77077,     0.77177,     0.77277,     0.77377,     0.77477,     0.77578,     0.77678,     0.77778,     0.77878,     0.77978,     0.78078,     0.78178,     0.78278,     0.78378,     0.78478,     0.78579,     0.78679,     0.78779,     0.78879,     0.78979,     0.79079,     0.79179,\n",
              "           0.79279,     0.79379,     0.79479,      0.7958,      0.7968,      0.7978,      0.7988,      0.7998,      0.8008,      0.8018,      0.8028,      0.8038,      0.8048,     0.80581,     0.80681,     0.80781,     0.80881,     0.80981,     0.81081,     0.81181,     0.81281,     0.81381,     0.81481,     0.81582,\n",
              "           0.81682,     0.81782,     0.81882,     0.81982,     0.82082,     0.82182,     0.82282,     0.82382,     0.82482,     0.82583,     0.82683,     0.82783,     0.82883,     0.82983,     0.83083,     0.83183,     0.83283,     0.83383,     0.83483,     0.83584,     0.83684,     0.83784,     0.83884,     0.83984,\n",
              "           0.84084,     0.84184,     0.84284,     0.84384,     0.84484,     0.84585,     0.84685,     0.84785,     0.84885,     0.84985,     0.85085,     0.85185,     0.85285,     0.85385,     0.85485,     0.85586,     0.85686,     0.85786,     0.85886,     0.85986,     0.86086,     0.86186,     0.86286,     0.86386,\n",
              "           0.86486,     0.86587,     0.86687,     0.86787,     0.86887,     0.86987,     0.87087,     0.87187,     0.87287,     0.87387,     0.87487,     0.87588,     0.87688,     0.87788,     0.87888,     0.87988,     0.88088,     0.88188,     0.88288,     0.88388,     0.88488,     0.88589,     0.88689,     0.88789,\n",
              "           0.88889,     0.88989,     0.89089,     0.89189,     0.89289,     0.89389,     0.89489,      0.8959,      0.8969,      0.8979,      0.8989,      0.8999,      0.9009,      0.9019,      0.9029,      0.9039,      0.9049,     0.90591,     0.90691,     0.90791,     0.90891,     0.90991,     0.91091,     0.91191,\n",
              "           0.91291,     0.91391,     0.91491,     0.91592,     0.91692,     0.91792,     0.91892,     0.91992,     0.92092,     0.92192,     0.92292,     0.92392,     0.92492,     0.92593,     0.92693,     0.92793,     0.92893,     0.92993,     0.93093,     0.93193,     0.93293,     0.93393,     0.93493,     0.93594,\n",
              "           0.93694,     0.93794,     0.93894,     0.93994,     0.94094,     0.94194,     0.94294,     0.94394,     0.94494,     0.94595,     0.94695,     0.94795,     0.94895,     0.94995,     0.95095,     0.95195,     0.95295,     0.95395,     0.95495,     0.95596,     0.95696,     0.95796,     0.95896,     0.95996,\n",
              "           0.96096,     0.96196,     0.96296,     0.96396,     0.96496,     0.96597,     0.96697,     0.96797,     0.96897,     0.96997,     0.97097,     0.97197,     0.97297,     0.97397,     0.97497,     0.97598,     0.97698,     0.97798,     0.97898,     0.97998,     0.98098,     0.98198,     0.98298,     0.98398,\n",
              "           0.98498,     0.98599,     0.98699,     0.98799,     0.98899,     0.98999,     0.99099,     0.99199,     0.99299,     0.99399,     0.99499,       0.996,       0.997,       0.998,       0.999,           1]), array([[          1,           1,           1, ...,           0,           0,           0],\n",
              "       [          1,           1,           1, ...,           0,           0,           0]]), 'Confidence', 'Recall']]\n",
              "fitness: 0.9940689798715756\n",
              "keys: ['metrics/precision(B)', 'metrics/recall(B)', 'metrics/mAP50(B)', 'metrics/mAP50-95(B)']\n",
              "maps: array([    0.99418,     0.99396,     0.99407])\n",
              "names: {0: 'Drinking', 1: 'SleepyDriving', 2: 'Yawn'}\n",
              "plot: True\n",
              "results_dict: {'metrics/precision(B)': 0.9908270618498228, 'metrics/recall(B)': 0.9839771980975685, 'metrics/mAP50(B)': 0.9940689798715755, 'metrics/mAP50-95(B)': 0.9940689798715756, 'fitness': 0.9940689798715756}\n",
              "save_dir: PosixPath('driver_multitask/multitask_learning')\n",
              "speed: {'preprocess': 0.13696527133747144, 'inference': 0.7340133996461358, 'loss': 0.0003963305724399023, 'postprocess': 0.24980908253934703}\n",
              "task: 'detect'"
            ]
          },
          "metadata": {},
          "execution_count": 10
        }
      ]
    },
    {
      "cell_type": "code",
      "source": [],
      "metadata": {
        "id": "PXppf7QvIwoE"
      },
      "execution_count": null,
      "outputs": []
    }
  ]
}