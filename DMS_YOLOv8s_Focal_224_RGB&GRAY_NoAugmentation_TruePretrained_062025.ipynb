{
  "nbformat": 4,
  "nbformat_minor": 0,
  "metadata": {
    "colab": {
      "provenance": [],
      "gpuType": "L4",
      "authorship_tag": "ABX9TyPbO1hl8mykp8Z0GUOWH3wr",
      "include_colab_link": true
    },
    "kernelspec": {
      "name": "python3",
      "display_name": "Python 3"
    },
    "language_info": {
      "name": "python"
    },
    "accelerator": "GPU"
  },
  "cells": [
    {
      "cell_type": "markdown",
      "metadata": {
        "id": "view-in-github",
        "colab_type": "text"
      },
      "source": [
        "<a href=\"https://colab.research.google.com/github/VesalAhsani/Driver-behavior-detection/blob/main/DMS_YOLOv8s_Focal_224_RGB%26GRAY_NoAugmentation_TruePretrained_062025.ipynb\" target=\"_parent\"><img src=\"https://colab.research.google.com/assets/colab-badge.svg\" alt=\"Open In Colab\"/></a>"
      ]
    },
    {
      "cell_type": "code",
      "execution_count": 1,
      "metadata": {
        "colab": {
          "base_uri": "https://localhost:8080/"
        },
        "id": "ZnmpXgpreTLH",
        "outputId": "e052d188-4b39-474f-946c-2600b2d8b216"
      },
      "outputs": [
        {
          "output_type": "stream",
          "name": "stdout",
          "text": [
            "\u001b[2K   \u001b[90m━━━━━━━━━━━━━━━━━━━━━━━━━━━━━━━━━━━━━━━━\u001b[0m \u001b[32m1.0/1.0 MB\u001b[0m \u001b[31m33.4 MB/s\u001b[0m eta \u001b[36m0:00:00\u001b[0m\n",
            "\u001b[2K   \u001b[90m━━━━━━━━━━━━━━━━━━━━━━━━━━━━━━━━━━━━━━━━\u001b[0m \u001b[32m363.4/363.4 MB\u001b[0m \u001b[31m2.9 MB/s\u001b[0m eta \u001b[36m0:00:00\u001b[0m\n",
            "\u001b[2K   \u001b[90m━━━━━━━━━━━━━━━━━━━━━━━━━━━━━━━━━━━━━━━━\u001b[0m \u001b[32m13.8/13.8 MB\u001b[0m \u001b[31m46.5 MB/s\u001b[0m eta \u001b[36m0:00:00\u001b[0m\n",
            "\u001b[2K   \u001b[90m━━━━━━━━━━━━━━━━━━━━━━━━━━━━━━━━━━━━━━━━\u001b[0m \u001b[32m24.6/24.6 MB\u001b[0m \u001b[31m87.9 MB/s\u001b[0m eta \u001b[36m0:00:00\u001b[0m\n",
            "\u001b[2K   \u001b[90m━━━━━━━━━━━━━━━━━━━━━━━━━━━━━━━━━━━━━━━━\u001b[0m \u001b[32m883.7/883.7 kB\u001b[0m \u001b[31m53.7 MB/s\u001b[0m eta \u001b[36m0:00:00\u001b[0m\n",
            "\u001b[2K   \u001b[90m━━━━━━━━━━━━━━━━━━━━━━━━━━━━━━━━━━━━━━━━\u001b[0m \u001b[32m664.8/664.8 MB\u001b[0m \u001b[31m1.8 MB/s\u001b[0m eta \u001b[36m0:00:00\u001b[0m\n",
            "\u001b[2K   \u001b[90m━━━━━━━━━━━━━━━━━━━━━━━━━━━━━━━━━━━━━━━━\u001b[0m \u001b[32m211.5/211.5 MB\u001b[0m \u001b[31m5.3 MB/s\u001b[0m eta \u001b[36m0:00:00\u001b[0m\n",
            "\u001b[2K   \u001b[90m━━━━━━━━━━━━━━━━━━━━━━━━━━━━━━━━━━━━━━━━\u001b[0m \u001b[32m56.3/56.3 MB\u001b[0m \u001b[31m38.6 MB/s\u001b[0m eta \u001b[36m0:00:00\u001b[0m\n",
            "\u001b[2K   \u001b[90m━━━━━━━━━━━━━━━━━━━━━━━━━━━━━━━━━━━━━━━━\u001b[0m \u001b[32m127.9/127.9 MB\u001b[0m \u001b[31m16.9 MB/s\u001b[0m eta \u001b[36m0:00:00\u001b[0m\n",
            "\u001b[2K   \u001b[90m━━━━━━━━━━━━━━━━━━━━━━━━━━━━━━━━━━━━━━━━\u001b[0m \u001b[32m207.5/207.5 MB\u001b[0m \u001b[31m3.2 MB/s\u001b[0m eta \u001b[36m0:00:00\u001b[0m\n",
            "\u001b[2K   \u001b[90m━━━━━━━━━━━━━━━━━━━━━━━━━━━━━━━━━━━━━━━━\u001b[0m \u001b[32m21.1/21.1 MB\u001b[0m \u001b[31m99.5 MB/s\u001b[0m eta \u001b[36m0:00:00\u001b[0m\n",
            "\u001b[?25h"
          ]
        }
      ],
      "source": [
        "# @title 1️⃣ Install dependencies\n",
        "# Colab comes with torch+cuda preinstalled, but we upgrade ultralytics.\n",
        "!pip install --upgrade ultralytics --quiet"
      ]
    },
    {
      "cell_type": "code",
      "source": [
        "# @title 2️⃣ Mount Google Drive\n",
        "from google.colab import drive\n",
        "drive.mount('/content/drive')"
      ],
      "metadata": {
        "colab": {
          "base_uri": "https://localhost:8080/"
        },
        "id": "j5kGfb44eiRJ",
        "outputId": "6c103cd7-36b0-4abe-b39a-2a6aa4307bfe"
      },
      "execution_count": 2,
      "outputs": [
        {
          "output_type": "stream",
          "name": "stdout",
          "text": [
            "Mounted at /content/drive\n"
          ]
        }
      ]
    },
    {
      "cell_type": "code",
      "source": [
        "# @title 3️⃣ Paths & Unzip Dataset\n",
        "import zipfile, os, glob\n",
        "from pathlib import Path\n",
        "\n",
        "# ── CONFIG ──────────────────────────────────────\n",
        "ZIP_PATH    = \"/content/drive/MyDrive/Split_rgb&gray_NotAugmented_224.zip\"\n",
        "EXTRACT_DIR = Path(\"/content/dataset224\")\n",
        "DATA_DIR    = EXTRACT_DIR / \"Split224\"   # <-- must contain train/ & val/\n",
        "# ────────────────────────────────────────────────\n",
        "\n",
        "# 3.1 Unzip if needed\n",
        "if not DATA_DIR.exists():\n",
        "    print(\"📦 Unzipping dataset…\")\n",
        "    EXTRACT_DIR.mkdir(exist_ok=True)\n",
        "    with zipfile.ZipFile(ZIP_PATH, 'r') as zf:\n",
        "        zf.extractall(EXTRACT_DIR)\n",
        "    print(\"✅ Unzipped to\", EXTRACT_DIR)\n",
        "\n",
        "# 3.2 Print counts per class\n",
        "print(\"\\n🧾 Dataset composition:\")\n",
        "for split in (\"train\", \"val\"):\n",
        "    print(f\"\\n– {split.upper()}:\")\n",
        "    for cls in sorted((DATA_DIR/split).iterdir()):\n",
        "        if cls.is_dir():\n",
        "            imgs = list(cls.glob(\"*.*\"))\n",
        "            print(f\"  {cls.name:<20s} {len(imgs):5d}\")"
      ],
      "metadata": {
        "colab": {
          "base_uri": "https://localhost:8080/"
        },
        "id": "a6zi_4MIeiOC",
        "outputId": "d4bfaae8-1fe6-42ce-81d9-d090a261a281"
      },
      "execution_count": 3,
      "outputs": [
        {
          "output_type": "stream",
          "name": "stdout",
          "text": [
            "📦 Unzipping dataset…\n",
            "✅ Unzipped to /content/dataset224\n",
            "\n",
            "🧾 Dataset composition:\n",
            "\n",
            "– TRAIN:\n",
            "  Control_Panel         8341\n",
            "  Drinking              7823\n",
            "  Eating                2114\n",
            "  Look_Down             3761\n",
            "  Makeup                6219\n",
            "  Normal                8167\n",
            "  Phone_Call_(Left)     7125\n",
            "  Phone_Call_(Right)    7459\n",
            "  Reaching_Behind       4634\n",
            "  Sleep                 4039\n",
            "  Smoking_Left          4126\n",
            "  Smoking_Mouth         4169\n",
            "  Smoking_Right         4060\n",
            "  Talk_to_passengers    5137\n",
            "  Text_(Left)           5106\n",
            "  Text_(Right)          5130\n",
            "  Yawning               3206\n",
            "\n",
            "– VAL:\n",
            "  Control_Panel          927\n",
            "  Drinking               870\n",
            "  Eating                 235\n",
            "  Look_Down              418\n",
            "  Makeup                 691\n",
            "  Normal                 908\n",
            "  Phone_Call_(Left)      792\n",
            "  Phone_Call_(Right)     829\n",
            "  Reaching_Behind        515\n",
            "  Sleep                  449\n",
            "  Smoking_Left           459\n",
            "  Smoking_Mouth          464\n",
            "  Smoking_Right          452\n",
            "  Talk_to_passengers     571\n",
            "  Text_(Left)            568\n",
            "  Text_(Right)           571\n",
            "  Yawning                357\n"
          ]
        }
      ]
    },
    {
      "cell_type": "code",
      "source": [
        "# @title 4️⃣ Compute α (class imbalance) for focal loss\n",
        "\n",
        "import torch\n",
        "\n",
        "# count images per class\n",
        "train_root = DATA_DIR / \"train\"\n",
        "class_counts = {\n",
        "    cls.name: len(list((train_root/cls.name).glob(\"*.*\")))\n",
        "    for cls in sorted(train_root.iterdir()) if cls.is_dir()\n",
        "}\n",
        "\n",
        "# compute inverse-frequency weights, cap at 2.2\n",
        "max_n     = max(class_counts.values())\n",
        "raw_alpha = torch.tensor([max_n / class_counts[c] for c in class_counts],\n",
        "                         dtype=torch.float32)\n",
        "alpha     = torch.minimum(raw_alpha, torch.tensor(2.2)).cuda()\n",
        "\n",
        "print(\"\\n🎯 α weights (per class, clipped):\")\n",
        "for name, w in zip(class_counts.keys(), alpha):\n",
        "    print(f\"  {name:<20s} {w:.3f}\")"
      ],
      "metadata": {
        "colab": {
          "base_uri": "https://localhost:8080/"
        },
        "id": "4G1d-ftBgi2L",
        "outputId": "57f63828-da4f-4b00-df86-e068f8e6a1e0"
      },
      "execution_count": 4,
      "outputs": [
        {
          "output_type": "stream",
          "name": "stdout",
          "text": [
            "\n",
            "🎯 α weights (per class, clipped):\n",
            "  Control_Panel        1.000\n",
            "  Drinking             1.066\n",
            "  Eating               2.200\n",
            "  Look_Down            2.200\n",
            "  Makeup               1.341\n",
            "  Normal               1.021\n",
            "  Phone_Call_(Left)    1.171\n",
            "  Phone_Call_(Right)   1.118\n",
            "  Reaching_Behind      1.800\n",
            "  Sleep                2.065\n",
            "  Smoking_Left         2.022\n",
            "  Smoking_Mouth        2.001\n",
            "  Smoking_Right        2.054\n",
            "  Talk_to_passengers   1.624\n",
            "  Text_(Left)          1.634\n",
            "  Text_(Right)         1.626\n",
            "  Yawning              2.200\n"
          ]
        }
      ]
    },
    {
      "cell_type": "code",
      "source": [
        "# @title 5️⃣ Define FocalLoss & Train YOLOv8-s-cls\n",
        "\n",
        "import torch\n",
        "import torch.nn as nn\n",
        "import shutil\n",
        "from pathlib import Path\n",
        "from ultralytics import YOLO\n",
        "\n",
        "# ─── Focal Loss ───────────────────────────────\n",
        "class FocalLoss(nn.Module):\n",
        "    def __init__(self, gamma=1.5, alpha=None, reduction='mean'):\n",
        "        super().__init__()\n",
        "        self.gamma, self.alpha, self.reduction = gamma, alpha, reduction\n",
        "\n",
        "    def forward(self, inputs, targets):\n",
        "        logp = torch.nn.functional.log_softmax(inputs, dim=-1)\n",
        "        p    = torch.exp(logp)\n",
        "        t    = targets.long()\n",
        "        pt   = p.gather(-1, t.unsqueeze(-1)).squeeze(-1)\n",
        "        focal = (1 - pt) ** self.gamma\n",
        "        loss = -focal * logp.gather(-1, t.unsqueeze(-1)).squeeze(-1)\n",
        "        if self.alpha is not None:\n",
        "            loss = loss * self.alpha[t]\n",
        "        return loss.mean() if self.reduction=='mean' else loss.sum()\n",
        "\n",
        "# ─── Load model & override loss ─────────────────\n",
        "print(\"🚀 Loading YOLOv8s-cls pretrained weights…\")\n",
        "model = YOLO(\"yolov8s-cls.pt\")\n",
        "model.model.loss_fn = FocalLoss(gamma=1.5, alpha=alpha)\n",
        "print(\"🔍 Active loss_fn:\", model.model.loss_fn)\n",
        "\n",
        "# ─── Train ────────────────────────────────────\n",
        "print(\"\\n📚 Starting training…\")\n",
        "model.train(\n",
        "    data=str(DATA_DIR),     # expects train/ & val/ inside\n",
        "    epochs=50,\n",
        "    batch=32,\n",
        "    imgsz=224,\n",
        "    lr0=5e-4,\n",
        "    optimizer=\"Adam\",\n",
        "    project=\"/content/drive/MyDrive/yolov8s_cls_224_results\",\n",
        "    name=\"run_focal224\",\n",
        "    pretrained=True,\n",
        "    # no horizontal flips unless you want mirror invariance\n",
        "    fliplr=0,\n",
        "    flipud=0,\n",
        ")\n",
        "\n",
        "\n",
        "# ─── Validate & copy best.pt ──────────────────\n",
        "print(\"\\n📊 Running final validation…\")\n",
        "metrics = model.val()\n",
        "\n",
        "src = os.path.join(model.trainer.save_dir, \"weights\", \"best.pt\")\n",
        "dst = os.path.join(RESULTS_DIR, run_name, \"weights\", \"best.pt\")\n",
        "os.makedirs(os.path.dirname(dst), exist_ok=True)\n",
        "os.system(f\"cp {src} {dst}\")\n",
        "\n",
        "print(\"✅ Best weights saved to:\", dst)"
      ],
      "metadata": {
        "colab": {
          "base_uri": "https://localhost:8080/",
          "height": 1000
        },
        "id": "A-b5ExJneiIL",
        "outputId": "b46a2a9f-ba4f-4f87-8355-8e46eafd0870"
      },
      "execution_count": 5,
      "outputs": [
        {
          "output_type": "stream",
          "name": "stdout",
          "text": [
            "Creating new Ultralytics Settings v0.0.6 file ✅ \n",
            "View Ultralytics Settings with 'yolo settings' or at '/root/.config/Ultralytics/settings.json'\n",
            "Update Settings with 'yolo settings key=value', i.e. 'yolo settings runs_dir=path/to/dir'. For help see https://docs.ultralytics.com/quickstart/#ultralytics-settings.\n",
            "🚀 Loading YOLOv8s-cls pretrained weights…\n",
            "Downloading https://github.com/ultralytics/assets/releases/download/v8.3.0/yolov8s-cls.pt to 'yolov8s-cls.pt'...\n"
          ]
        },
        {
          "output_type": "stream",
          "name": "stderr",
          "text": [
            "100%|██████████| 12.3M/12.3M [00:00<00:00, 398MB/s]\n"
          ]
        },
        {
          "output_type": "stream",
          "name": "stdout",
          "text": [
            "🔍 Active loss_fn: FocalLoss()\n",
            "\n",
            "📚 Starting training…\n",
            "Ultralytics 8.3.146 🚀 Python-3.11.12 torch-2.6.0+cu124 CUDA:0 (NVIDIA L4, 22693MiB)\n",
            "\u001b[34m\u001b[1mengine/trainer: \u001b[0magnostic_nms=False, amp=True, augment=False, auto_augment=randaugment, batch=32, bgr=0.0, box=7.5, cache=False, cfg=None, classes=None, close_mosaic=10, cls=0.5, conf=None, copy_paste=0.0, copy_paste_mode=flip, cos_lr=False, cutmix=0.0, data=/content/dataset224/Split224, degrees=0.0, deterministic=True, device=None, dfl=1.5, dnn=False, dropout=0.0, dynamic=False, embed=None, epochs=50, erasing=0.4, exist_ok=False, fliplr=0, flipud=0, format=torchscript, fraction=1.0, freeze=None, half=False, hsv_h=0.015, hsv_s=0.7, hsv_v=0.4, imgsz=224, int8=False, iou=0.7, keras=False, kobj=1.0, line_width=None, lr0=0.0005, lrf=0.01, mask_ratio=4, max_det=300, mixup=0.0, mode=train, model=yolov8s-cls.pt, momentum=0.937, mosaic=1.0, multi_scale=False, name=run_focal224, nbs=64, nms=False, opset=None, optimize=False, optimizer=Adam, overlap_mask=True, patience=100, perspective=0.0, plots=True, pose=12.0, pretrained=True, profile=False, project=/content/drive/MyDrive/yolov8s_cls_224_results, rect=False, resume=False, retina_masks=False, save=True, save_conf=False, save_crop=False, save_dir=/content/drive/MyDrive/yolov8s_cls_224_results/run_focal224, save_frames=False, save_json=False, save_period=-1, save_txt=False, scale=0.5, seed=0, shear=0.0, show=False, show_boxes=True, show_conf=True, show_labels=True, simplify=True, single_cls=False, source=None, split=val, stream_buffer=False, task=classify, time=None, tracker=botsort.yaml, translate=0.1, val=True, verbose=True, vid_stride=1, visualize=False, warmup_bias_lr=0.1, warmup_epochs=3.0, warmup_momentum=0.8, weight_decay=0.0005, workers=8, workspace=None\n",
            "\u001b[34m\u001b[1mtrain:\u001b[0m /content/dataset224/Split224/train... found 90616 images in 17 classes ✅ \n",
            "\u001b[34m\u001b[1mval:\u001b[0m /content/dataset224/Split224/val... found 10076 images in 17 classes ✅ \n",
            "\u001b[34m\u001b[1mtest:\u001b[0m None...\n",
            "Overriding model.yaml nc=1000 with nc=17\n",
            "\n",
            "                   from  n    params  module                                       arguments                     \n",
            "  0                  -1  1       928  ultralytics.nn.modules.conv.Conv             [3, 32, 3, 2]                 \n",
            "  1                  -1  1     18560  ultralytics.nn.modules.conv.Conv             [32, 64, 3, 2]                \n",
            "  2                  -1  1     29056  ultralytics.nn.modules.block.C2f             [64, 64, 1, True]             \n",
            "  3                  -1  1     73984  ultralytics.nn.modules.conv.Conv             [64, 128, 3, 2]               \n",
            "  4                  -1  2    197632  ultralytics.nn.modules.block.C2f             [128, 128, 2, True]           \n",
            "  5                  -1  1    295424  ultralytics.nn.modules.conv.Conv             [128, 256, 3, 2]              \n",
            "  6                  -1  2    788480  ultralytics.nn.modules.block.C2f             [256, 256, 2, True]           \n",
            "  7                  -1  1   1180672  ultralytics.nn.modules.conv.Conv             [256, 512, 3, 2]              \n",
            "  8                  -1  1   1838080  ultralytics.nn.modules.block.C2f             [512, 512, 1, True]           \n",
            "  9                  -1  1    679697  ultralytics.nn.modules.head.Classify         [512, 17]                     \n",
            "YOLOv8s-cls summary: 56 layers, 5,102,513 parameters, 5,102,513 gradients, 12.6 GFLOPs\n",
            "Transferred 156/158 items from pretrained weights\n",
            "\u001b[34m\u001b[1mAMP: \u001b[0mrunning Automatic Mixed Precision (AMP) checks...\n",
            "Downloading https://github.com/ultralytics/assets/releases/download/v8.3.0/yolo11n.pt to 'yolo11n.pt'...\n"
          ]
        },
        {
          "output_type": "stream",
          "name": "stderr",
          "text": [
            "100%|██████████| 5.35M/5.35M [00:00<00:00, 78.8MB/s]\n"
          ]
        },
        {
          "output_type": "stream",
          "name": "stdout",
          "text": [
            "\u001b[34m\u001b[1mAMP: \u001b[0mchecks passed ✅\n",
            "\u001b[34m\u001b[1mtrain: \u001b[0mFast image access ✅ (ping: 0.0±0.0 ms, read: 631.1±243.6 MB/s, size: 14.1 KB)\n"
          ]
        },
        {
          "output_type": "stream",
          "name": "stderr",
          "text": [
            "\u001b[34m\u001b[1mtrain: \u001b[0mScanning /content/dataset224/Split224/train... 90616 images, 0 corrupt: 100%|██████████| 90616/90616 [00:27<00:00, 3330.86it/s]\n"
          ]
        },
        {
          "output_type": "stream",
          "name": "stdout",
          "text": [
            "\u001b[34m\u001b[1mtrain: \u001b[0mNew cache created: /content/dataset224/Split224/train.cache\n",
            "\u001b[34m\u001b[1mval: \u001b[0mFast image access ✅ (ping: 0.0±0.0 ms, read: 578.8±272.4 MB/s, size: 14.1 KB)\n"
          ]
        },
        {
          "output_type": "stream",
          "name": "stderr",
          "text": [
            "\u001b[34m\u001b[1mval: \u001b[0mScanning /content/dataset224/Split224/val... 10076 images, 0 corrupt: 100%|██████████| 10076/10076 [00:03<00:00, 3238.64it/s]"
          ]
        },
        {
          "output_type": "stream",
          "name": "stdout",
          "text": [
            "\u001b[34m\u001b[1mval: \u001b[0mNew cache created: /content/dataset224/Split224/val.cache\n"
          ]
        },
        {
          "output_type": "stream",
          "name": "stderr",
          "text": [
            "\n"
          ]
        },
        {
          "output_type": "stream",
          "name": "stdout",
          "text": [
            "\u001b[34m\u001b[1moptimizer:\u001b[0m Adam(lr=0.0005, momentum=0.937) with parameter groups 26 weight(decay=0.0), 27 weight(decay=0.0005), 27 bias(decay=0.0)\n",
            "Image sizes 224 train, 224 val\n",
            "Using 8 dataloader workers\n",
            "Logging results to \u001b[1m/content/drive/MyDrive/yolov8s_cls_224_results/run_focal224\u001b[0m\n",
            "Starting training for 50 epochs...\n",
            "\n",
            "      Epoch    GPU_mem       loss  Instances       Size\n"
          ]
        },
        {
          "output_type": "stream",
          "name": "stderr",
          "text": [
            "       1/50     0.768G      2.795         32        224:   1%|          | 33/2832 [00:02<02:00, 23.16it/s]"
          ]
        },
        {
          "output_type": "stream",
          "name": "stdout",
          "text": [
            "Downloading https://ultralytics.com/assets/Arial.ttf to '/root/.config/Ultralytics/Arial.ttf'...\n"
          ]
        },
        {
          "output_type": "stream",
          "name": "stderr",
          "text": [
            "       1/50     0.768G      2.783         32        224:   2%|▏         | 48/2832 [00:03<01:52, 24.86it/s]\n",
            "100%|██████████| 755k/755k [00:00<00:00, 101MB/s]\n",
            "       1/50     0.768G      1.335         24        224: 100%|██████████| 2832/2832 [01:55<00:00, 24.59it/s]\n",
            "               classes   top1_acc   top5_acc: 100%|██████████| 158/158 [00:03<00:00, 42.07it/s]"
          ]
        },
        {
          "output_type": "stream",
          "name": "stdout",
          "text": [
            "                   all      0.846      0.989\n"
          ]
        },
        {
          "output_type": "stream",
          "name": "stderr",
          "text": [
            "\n"
          ]
        },
        {
          "output_type": "stream",
          "name": "stdout",
          "text": [
            "\n",
            "      Epoch    GPU_mem       loss  Instances       Size\n"
          ]
        },
        {
          "output_type": "stream",
          "name": "stderr",
          "text": [
            "       2/50     0.883G     0.6338         24        224: 100%|██████████| 2832/2832 [01:51<00:00, 25.34it/s]\n",
            "               classes   top1_acc   top5_acc: 100%|██████████| 158/158 [00:03<00:00, 43.70it/s]\n"
          ]
        },
        {
          "output_type": "stream",
          "name": "stdout",
          "text": [
            "                   all      0.925      0.995\n",
            "\n",
            "      Epoch    GPU_mem       loss  Instances       Size\n"
          ]
        },
        {
          "output_type": "stream",
          "name": "stderr",
          "text": [
            "       3/50     0.895G     0.4767         24        224: 100%|██████████| 2832/2832 [01:45<00:00, 26.74it/s]\n",
            "               classes   top1_acc   top5_acc: 100%|██████████| 158/158 [00:03<00:00, 46.95it/s]"
          ]
        },
        {
          "output_type": "stream",
          "name": "stdout",
          "text": [
            "                   all      0.948      0.997\n"
          ]
        },
        {
          "output_type": "stream",
          "name": "stderr",
          "text": [
            "\n"
          ]
        },
        {
          "output_type": "stream",
          "name": "stdout",
          "text": [
            "\n",
            "      Epoch    GPU_mem       loss  Instances       Size\n"
          ]
        },
        {
          "output_type": "stream",
          "name": "stderr",
          "text": [
            "       4/50     0.906G     0.4213         24        224: 100%|██████████| 2832/2832 [01:45<00:00, 26.77it/s]\n",
            "               classes   top1_acc   top5_acc: 100%|██████████| 158/158 [00:03<00:00, 45.23it/s]"
          ]
        },
        {
          "output_type": "stream",
          "name": "stdout",
          "text": [
            "                   all       0.96      0.998\n"
          ]
        },
        {
          "output_type": "stream",
          "name": "stderr",
          "text": [
            "\n"
          ]
        },
        {
          "output_type": "stream",
          "name": "stdout",
          "text": [
            "\n",
            "      Epoch    GPU_mem       loss  Instances       Size\n"
          ]
        },
        {
          "output_type": "stream",
          "name": "stderr",
          "text": [
            "       5/50     0.918G     0.3803         24        224: 100%|██████████| 2832/2832 [01:46<00:00, 26.67it/s]\n",
            "               classes   top1_acc   top5_acc: 100%|██████████| 158/158 [00:03<00:00, 45.95it/s]"
          ]
        },
        {
          "output_type": "stream",
          "name": "stdout",
          "text": [
            "                   all      0.968      0.998\n"
          ]
        },
        {
          "output_type": "stream",
          "name": "stderr",
          "text": [
            "\n"
          ]
        },
        {
          "output_type": "stream",
          "name": "stdout",
          "text": [
            "\n",
            "      Epoch    GPU_mem       loss  Instances       Size\n"
          ]
        },
        {
          "output_type": "stream",
          "name": "stderr",
          "text": [
            "       6/50      0.93G     0.3532         24        224: 100%|██████████| 2832/2832 [01:46<00:00, 26.70it/s]\n",
            "               classes   top1_acc   top5_acc: 100%|██████████| 158/158 [00:03<00:00, 46.34it/s]\n"
          ]
        },
        {
          "output_type": "stream",
          "name": "stdout",
          "text": [
            "                   all      0.972      0.998\n",
            "\n",
            "      Epoch    GPU_mem       loss  Instances       Size\n"
          ]
        },
        {
          "output_type": "stream",
          "name": "stderr",
          "text": [
            "       7/50     0.941G     0.3397         24        224: 100%|██████████| 2832/2832 [01:45<00:00, 26.91it/s]\n",
            "               classes   top1_acc   top5_acc: 100%|██████████| 158/158 [00:03<00:00, 48.09it/s]"
          ]
        },
        {
          "output_type": "stream",
          "name": "stdout",
          "text": [
            "                   all      0.977      0.998\n"
          ]
        },
        {
          "output_type": "stream",
          "name": "stderr",
          "text": [
            "\n"
          ]
        },
        {
          "output_type": "stream",
          "name": "stdout",
          "text": [
            "\n",
            "      Epoch    GPU_mem       loss  Instances       Size\n"
          ]
        },
        {
          "output_type": "stream",
          "name": "stderr",
          "text": [
            "       8/50     0.953G     0.3184         24        224: 100%|██████████| 2832/2832 [01:45<00:00, 26.73it/s]\n",
            "               classes   top1_acc   top5_acc: 100%|██████████| 158/158 [00:03<00:00, 47.75it/s]"
          ]
        },
        {
          "output_type": "stream",
          "name": "stdout",
          "text": [
            "                   all      0.978      0.999\n"
          ]
        },
        {
          "output_type": "stream",
          "name": "stderr",
          "text": [
            "\n"
          ]
        },
        {
          "output_type": "stream",
          "name": "stdout",
          "text": [
            "\n",
            "      Epoch    GPU_mem       loss  Instances       Size\n"
          ]
        },
        {
          "output_type": "stream",
          "name": "stderr",
          "text": [
            "       9/50     0.965G     0.3088         24        224: 100%|██████████| 2832/2832 [01:46<00:00, 26.65it/s]\n",
            "               classes   top1_acc   top5_acc: 100%|██████████| 158/158 [00:03<00:00, 47.86it/s]"
          ]
        },
        {
          "output_type": "stream",
          "name": "stdout",
          "text": [
            "                   all       0.98      0.999\n"
          ]
        },
        {
          "output_type": "stream",
          "name": "stderr",
          "text": [
            "\n"
          ]
        },
        {
          "output_type": "stream",
          "name": "stdout",
          "text": [
            "\n",
            "      Epoch    GPU_mem       loss  Instances       Size\n"
          ]
        },
        {
          "output_type": "stream",
          "name": "stderr",
          "text": [
            "      10/50     0.977G     0.3061         24        224: 100%|██████████| 2832/2832 [01:47<00:00, 26.27it/s]\n",
            "               classes   top1_acc   top5_acc: 100%|██████████| 158/158 [00:03<00:00, 43.69it/s]\n"
          ]
        },
        {
          "output_type": "stream",
          "name": "stdout",
          "text": [
            "                   all      0.983      0.999\n",
            "\n",
            "      Epoch    GPU_mem       loss  Instances       Size\n"
          ]
        },
        {
          "output_type": "stream",
          "name": "stderr",
          "text": [
            "      11/50     0.988G     0.2932         24        224: 100%|██████████| 2832/2832 [01:48<00:00, 26.16it/s]\n",
            "               classes   top1_acc   top5_acc: 100%|██████████| 158/158 [00:03<00:00, 45.56it/s]"
          ]
        },
        {
          "output_type": "stream",
          "name": "stdout",
          "text": [
            "                   all      0.983      0.999\n"
          ]
        },
        {
          "output_type": "stream",
          "name": "stderr",
          "text": [
            "\n"
          ]
        },
        {
          "output_type": "stream",
          "name": "stdout",
          "text": [
            "\n",
            "      Epoch    GPU_mem       loss  Instances       Size\n"
          ]
        },
        {
          "output_type": "stream",
          "name": "stderr",
          "text": [
            "      12/50         1G     0.2896         24        224: 100%|██████████| 2832/2832 [01:47<00:00, 26.33it/s]\n",
            "               classes   top1_acc   top5_acc: 100%|██████████| 158/158 [00:03<00:00, 42.93it/s]\n"
          ]
        },
        {
          "output_type": "stream",
          "name": "stdout",
          "text": [
            "                   all      0.983      0.999\n",
            "\n",
            "      Epoch    GPU_mem       loss  Instances       Size\n"
          ]
        },
        {
          "output_type": "stream",
          "name": "stderr",
          "text": [
            "      13/50      1.04G     0.2809         24        224: 100%|██████████| 2832/2832 [01:46<00:00, 26.63it/s]\n",
            "               classes   top1_acc   top5_acc: 100%|██████████| 158/158 [00:03<00:00, 45.57it/s]"
          ]
        },
        {
          "output_type": "stream",
          "name": "stdout",
          "text": [
            "                   all      0.983      0.999\n"
          ]
        },
        {
          "output_type": "stream",
          "name": "stderr",
          "text": [
            "\n"
          ]
        },
        {
          "output_type": "stream",
          "name": "stdout",
          "text": [
            "\n",
            "      Epoch    GPU_mem       loss  Instances       Size\n"
          ]
        },
        {
          "output_type": "stream",
          "name": "stderr",
          "text": [
            "      14/50      1.05G     0.2699         24        224: 100%|██████████| 2832/2832 [01:46<00:00, 26.62it/s]\n",
            "               classes   top1_acc   top5_acc: 100%|██████████| 158/158 [00:03<00:00, 43.28it/s]"
          ]
        },
        {
          "output_type": "stream",
          "name": "stdout",
          "text": [
            "                   all      0.984      0.999\n"
          ]
        },
        {
          "output_type": "stream",
          "name": "stderr",
          "text": [
            "\n"
          ]
        },
        {
          "output_type": "stream",
          "name": "stdout",
          "text": [
            "\n",
            "      Epoch    GPU_mem       loss  Instances       Size\n"
          ]
        },
        {
          "output_type": "stream",
          "name": "stderr",
          "text": [
            "      15/50      1.12G     0.2674         24        224: 100%|██████████| 2832/2832 [01:45<00:00, 26.78it/s]\n",
            "               classes   top1_acc   top5_acc: 100%|██████████| 158/158 [00:03<00:00, 45.16it/s]"
          ]
        },
        {
          "output_type": "stream",
          "name": "stdout",
          "text": [
            "                   all      0.984      0.999\n"
          ]
        },
        {
          "output_type": "stream",
          "name": "stderr",
          "text": [
            "\n"
          ]
        },
        {
          "output_type": "stream",
          "name": "stdout",
          "text": [
            "\n",
            "      Epoch    GPU_mem       loss  Instances       Size\n"
          ]
        },
        {
          "output_type": "stream",
          "name": "stderr",
          "text": [
            "      16/50      1.13G     0.2569         24        224: 100%|██████████| 2832/2832 [01:46<00:00, 26.60it/s]\n",
            "               classes   top1_acc   top5_acc: 100%|██████████| 158/158 [00:03<00:00, 44.62it/s]"
          ]
        },
        {
          "output_type": "stream",
          "name": "stdout",
          "text": [
            "                   all      0.984      0.999\n"
          ]
        },
        {
          "output_type": "stream",
          "name": "stderr",
          "text": [
            "\n"
          ]
        },
        {
          "output_type": "stream",
          "name": "stdout",
          "text": [
            "\n",
            "      Epoch    GPU_mem       loss  Instances       Size\n"
          ]
        },
        {
          "output_type": "stream",
          "name": "stderr",
          "text": [
            "      17/50      1.14G     0.2559         24        224: 100%|██████████| 2832/2832 [01:46<00:00, 26.56it/s]\n",
            "               classes   top1_acc   top5_acc: 100%|██████████| 158/158 [00:03<00:00, 44.25it/s]"
          ]
        },
        {
          "output_type": "stream",
          "name": "stdout",
          "text": [
            "                   all      0.984      0.999\n"
          ]
        },
        {
          "output_type": "stream",
          "name": "stderr",
          "text": [
            "\n"
          ]
        },
        {
          "output_type": "stream",
          "name": "stdout",
          "text": [
            "\n",
            "      Epoch    GPU_mem       loss  Instances       Size\n"
          ]
        },
        {
          "output_type": "stream",
          "name": "stderr",
          "text": [
            "      18/50       1.2G     0.2458         24        224: 100%|██████████| 2832/2832 [01:45<00:00, 26.75it/s]\n",
            "               classes   top1_acc   top5_acc: 100%|██████████| 158/158 [00:03<00:00, 44.67it/s]"
          ]
        },
        {
          "output_type": "stream",
          "name": "stdout",
          "text": [
            "                   all      0.985      0.999\n"
          ]
        },
        {
          "output_type": "stream",
          "name": "stderr",
          "text": [
            "\n"
          ]
        },
        {
          "output_type": "stream",
          "name": "stdout",
          "text": [
            "\n",
            "      Epoch    GPU_mem       loss  Instances       Size\n"
          ]
        },
        {
          "output_type": "stream",
          "name": "stderr",
          "text": [
            "      19/50      1.21G     0.2413         24        224: 100%|██████████| 2832/2832 [01:46<00:00, 26.64it/s]\n",
            "               classes   top1_acc   top5_acc: 100%|██████████| 158/158 [00:03<00:00, 45.55it/s]\n"
          ]
        },
        {
          "output_type": "stream",
          "name": "stdout",
          "text": [
            "                   all      0.985      0.999\n",
            "\n",
            "      Epoch    GPU_mem       loss  Instances       Size\n"
          ]
        },
        {
          "output_type": "stream",
          "name": "stderr",
          "text": [
            "      20/50      1.23G     0.2391         24        224: 100%|██████████| 2832/2832 [01:46<00:00, 26.57it/s]\n",
            "               classes   top1_acc   top5_acc: 100%|██████████| 158/158 [00:03<00:00, 46.39it/s]"
          ]
        },
        {
          "output_type": "stream",
          "name": "stdout",
          "text": [
            "                   all      0.985      0.999\n"
          ]
        },
        {
          "output_type": "stream",
          "name": "stderr",
          "text": [
            "\n"
          ]
        },
        {
          "output_type": "stream",
          "name": "stdout",
          "text": [
            "\n",
            "      Epoch    GPU_mem       loss  Instances       Size\n"
          ]
        },
        {
          "output_type": "stream",
          "name": "stderr",
          "text": [
            "      21/50      1.29G     0.2329         24        224: 100%|██████████| 2832/2832 [01:47<00:00, 26.33it/s]\n",
            "               classes   top1_acc   top5_acc: 100%|██████████| 158/158 [00:03<00:00, 43.78it/s]"
          ]
        },
        {
          "output_type": "stream",
          "name": "stdout",
          "text": [
            "                   all      0.986      0.999\n"
          ]
        },
        {
          "output_type": "stream",
          "name": "stderr",
          "text": [
            "\n"
          ]
        },
        {
          "output_type": "stream",
          "name": "stdout",
          "text": [
            "\n",
            "      Epoch    GPU_mem       loss  Instances       Size\n"
          ]
        },
        {
          "output_type": "stream",
          "name": "stderr",
          "text": [
            "      22/50       1.3G     0.2278         24        224: 100%|██████████| 2832/2832 [01:48<00:00, 26.11it/s]\n",
            "               classes   top1_acc   top5_acc: 100%|██████████| 158/158 [00:03<00:00, 43.98it/s]\n"
          ]
        },
        {
          "output_type": "stream",
          "name": "stdout",
          "text": [
            "                   all      0.986      0.999\n",
            "\n",
            "      Epoch    GPU_mem       loss  Instances       Size\n"
          ]
        },
        {
          "output_type": "stream",
          "name": "stderr",
          "text": [
            "      23/50      1.34G     0.2242         24        224: 100%|██████████| 2832/2832 [01:48<00:00, 26.10it/s]\n",
            "               classes   top1_acc   top5_acc: 100%|██████████| 158/158 [00:03<00:00, 43.06it/s]\n"
          ]
        },
        {
          "output_type": "stream",
          "name": "stdout",
          "text": [
            "                   all      0.986      0.999\n",
            "\n",
            "      Epoch    GPU_mem       loss  Instances       Size\n"
          ]
        },
        {
          "output_type": "stream",
          "name": "stderr",
          "text": [
            "      24/50      1.36G     0.2149         24        224: 100%|██████████| 2832/2832 [01:47<00:00, 26.28it/s]\n",
            "               classes   top1_acc   top5_acc: 100%|██████████| 158/158 [00:03<00:00, 44.03it/s]"
          ]
        },
        {
          "output_type": "stream",
          "name": "stdout",
          "text": [
            "                   all      0.987      0.999\n"
          ]
        },
        {
          "output_type": "stream",
          "name": "stderr",
          "text": [
            "\n"
          ]
        },
        {
          "output_type": "stream",
          "name": "stdout",
          "text": [
            "\n",
            "      Epoch    GPU_mem       loss  Instances       Size\n"
          ]
        },
        {
          "output_type": "stream",
          "name": "stderr",
          "text": [
            "      25/50      1.42G     0.2122         24        224: 100%|██████████| 2832/2832 [01:47<00:00, 26.29it/s]\n",
            "               classes   top1_acc   top5_acc: 100%|██████████| 158/158 [00:03<00:00, 43.08it/s]"
          ]
        },
        {
          "output_type": "stream",
          "name": "stdout",
          "text": [
            "                   all      0.987      0.999\n"
          ]
        },
        {
          "output_type": "stream",
          "name": "stderr",
          "text": [
            "\n"
          ]
        },
        {
          "output_type": "stream",
          "name": "stdout",
          "text": [
            "\n",
            "      Epoch    GPU_mem       loss  Instances       Size\n"
          ]
        },
        {
          "output_type": "stream",
          "name": "stderr",
          "text": [
            "      26/50      1.43G      0.204         24        224: 100%|██████████| 2832/2832 [01:47<00:00, 26.29it/s]\n",
            "               classes   top1_acc   top5_acc: 100%|██████████| 158/158 [00:03<00:00, 45.56it/s]"
          ]
        },
        {
          "output_type": "stream",
          "name": "stdout",
          "text": [
            "                   all      0.987      0.999\n"
          ]
        },
        {
          "output_type": "stream",
          "name": "stderr",
          "text": [
            "\n"
          ]
        },
        {
          "output_type": "stream",
          "name": "stdout",
          "text": [
            "\n",
            "      Epoch    GPU_mem       loss  Instances       Size\n"
          ]
        },
        {
          "output_type": "stream",
          "name": "stderr",
          "text": [
            "      27/50      1.44G     0.2006         24        224: 100%|██████████| 2832/2832 [01:48<00:00, 26.17it/s]\n",
            "               classes   top1_acc   top5_acc: 100%|██████████| 158/158 [00:03<00:00, 45.77it/s]\n"
          ]
        },
        {
          "output_type": "stream",
          "name": "stdout",
          "text": [
            "                   all      0.987          1\n",
            "\n",
            "      Epoch    GPU_mem       loss  Instances       Size\n"
          ]
        },
        {
          "output_type": "stream",
          "name": "stderr",
          "text": [
            "      28/50      1.48G     0.1956         24        224: 100%|██████████| 2832/2832 [01:46<00:00, 26.53it/s]\n",
            "               classes   top1_acc   top5_acc: 100%|██████████| 158/158 [00:03<00:00, 44.39it/s]"
          ]
        },
        {
          "output_type": "stream",
          "name": "stdout",
          "text": [
            "                   all      0.988          1\n"
          ]
        },
        {
          "output_type": "stream",
          "name": "stderr",
          "text": [
            "\n"
          ]
        },
        {
          "output_type": "stream",
          "name": "stdout",
          "text": [
            "\n",
            "      Epoch    GPU_mem       loss  Instances       Size\n"
          ]
        },
        {
          "output_type": "stream",
          "name": "stderr",
          "text": [
            "      29/50      1.49G     0.1907         24        224: 100%|██████████| 2832/2832 [01:45<00:00, 26.81it/s]\n",
            "               classes   top1_acc   top5_acc: 100%|██████████| 158/158 [00:03<00:00, 45.16it/s]\n"
          ]
        },
        {
          "output_type": "stream",
          "name": "stdout",
          "text": [
            "                   all      0.988          1\n",
            "\n",
            "      Epoch    GPU_mem       loss  Instances       Size\n"
          ]
        },
        {
          "output_type": "stream",
          "name": "stderr",
          "text": [
            "      30/50      1.56G     0.1854         24        224: 100%|██████████| 2832/2832 [01:45<00:00, 26.85it/s]\n",
            "               classes   top1_acc   top5_acc: 100%|██████████| 158/158 [00:03<00:00, 44.48it/s]"
          ]
        },
        {
          "output_type": "stream",
          "name": "stdout",
          "text": [
            "                   all      0.989          1\n"
          ]
        },
        {
          "output_type": "stream",
          "name": "stderr",
          "text": [
            "\n"
          ]
        },
        {
          "output_type": "stream",
          "name": "stdout",
          "text": [
            "\n",
            "      Epoch    GPU_mem       loss  Instances       Size\n"
          ]
        },
        {
          "output_type": "stream",
          "name": "stderr",
          "text": [
            "      31/50      1.57G     0.1859         24        224: 100%|██████████| 2832/2832 [01:45<00:00, 26.81it/s]\n",
            "               classes   top1_acc   top5_acc: 100%|██████████| 158/158 [00:03<00:00, 45.93it/s]"
          ]
        },
        {
          "output_type": "stream",
          "name": "stdout",
          "text": [
            "                   all      0.989          1\n"
          ]
        },
        {
          "output_type": "stream",
          "name": "stderr",
          "text": [
            "\n"
          ]
        },
        {
          "output_type": "stream",
          "name": "stdout",
          "text": [
            "\n",
            "      Epoch    GPU_mem       loss  Instances       Size\n"
          ]
        },
        {
          "output_type": "stream",
          "name": "stderr",
          "text": [
            "      32/50      1.61G     0.1774         24        224: 100%|██████████| 2832/2832 [01:45<00:00, 26.76it/s]\n",
            "               classes   top1_acc   top5_acc: 100%|██████████| 158/158 [00:03<00:00, 43.69it/s]\n"
          ]
        },
        {
          "output_type": "stream",
          "name": "stdout",
          "text": [
            "                   all       0.99      0.999\n",
            "\n",
            "      Epoch    GPU_mem       loss  Instances       Size\n"
          ]
        },
        {
          "output_type": "stream",
          "name": "stderr",
          "text": [
            "      33/50      1.62G     0.1717         24        224: 100%|██████████| 2832/2832 [01:45<00:00, 26.82it/s]\n",
            "               classes   top1_acc   top5_acc: 100%|██████████| 158/158 [00:03<00:00, 46.86it/s]"
          ]
        },
        {
          "output_type": "stream",
          "name": "stdout",
          "text": [
            "                   all       0.99      0.999\n"
          ]
        },
        {
          "output_type": "stream",
          "name": "stderr",
          "text": [
            "\n"
          ]
        },
        {
          "output_type": "stream",
          "name": "stdout",
          "text": [
            "\n",
            "      Epoch    GPU_mem       loss  Instances       Size\n"
          ]
        },
        {
          "output_type": "stream",
          "name": "stderr",
          "text": [
            "      34/50      1.67G     0.1674         24        224: 100%|██████████| 2832/2832 [01:45<00:00, 26.80it/s]\n",
            "               classes   top1_acc   top5_acc: 100%|██████████| 158/158 [00:03<00:00, 43.69it/s]"
          ]
        },
        {
          "output_type": "stream",
          "name": "stdout",
          "text": [
            "                   all       0.99      0.999\n"
          ]
        },
        {
          "output_type": "stream",
          "name": "stderr",
          "text": [
            "\n"
          ]
        },
        {
          "output_type": "stream",
          "name": "stdout",
          "text": [
            "\n",
            "      Epoch    GPU_mem       loss  Instances       Size\n"
          ]
        },
        {
          "output_type": "stream",
          "name": "stderr",
          "text": [
            "      35/50      1.68G     0.1655         24        224: 100%|██████████| 2832/2832 [01:45<00:00, 26.81it/s]\n",
            "               classes   top1_acc   top5_acc: 100%|██████████| 158/158 [00:03<00:00, 44.96it/s]"
          ]
        },
        {
          "output_type": "stream",
          "name": "stdout",
          "text": [
            "                   all       0.99      0.999\n"
          ]
        },
        {
          "output_type": "stream",
          "name": "stderr",
          "text": [
            "\n"
          ]
        },
        {
          "output_type": "stream",
          "name": "stdout",
          "text": [
            "\n",
            "      Epoch    GPU_mem       loss  Instances       Size\n"
          ]
        },
        {
          "output_type": "stream",
          "name": "stderr",
          "text": [
            "      36/50      1.74G     0.1625         24        224: 100%|██████████| 2832/2832 [01:46<00:00, 26.71it/s]\n",
            "               classes   top1_acc   top5_acc: 100%|██████████| 158/158 [00:03<00:00, 43.53it/s]"
          ]
        },
        {
          "output_type": "stream",
          "name": "stdout",
          "text": [
            "                   all       0.99      0.999\n"
          ]
        },
        {
          "output_type": "stream",
          "name": "stderr",
          "text": [
            "\n"
          ]
        },
        {
          "output_type": "stream",
          "name": "stdout",
          "text": [
            "\n",
            "      Epoch    GPU_mem       loss  Instances       Size\n"
          ]
        },
        {
          "output_type": "stream",
          "name": "stderr",
          "text": [
            "      37/50      1.75G     0.1538         24        224: 100%|██████████| 2832/2832 [01:45<00:00, 26.80it/s]\n",
            "               classes   top1_acc   top5_acc: 100%|██████████| 158/158 [00:03<00:00, 45.39it/s]"
          ]
        },
        {
          "output_type": "stream",
          "name": "stdout",
          "text": [
            "                   all       0.99      0.999\n"
          ]
        },
        {
          "output_type": "stream",
          "name": "stderr",
          "text": [
            "\n"
          ]
        },
        {
          "output_type": "stream",
          "name": "stdout",
          "text": [
            "\n",
            "      Epoch    GPU_mem       loss  Instances       Size\n"
          ]
        },
        {
          "output_type": "stream",
          "name": "stderr",
          "text": [
            "      38/50      1.76G     0.1498         24        224: 100%|██████████| 2832/2832 [01:45<00:00, 26.88it/s]\n",
            "               classes   top1_acc   top5_acc: 100%|██████████| 158/158 [00:03<00:00, 44.66it/s]"
          ]
        },
        {
          "output_type": "stream",
          "name": "stdout",
          "text": [
            "                   all       0.99      0.999\n"
          ]
        },
        {
          "output_type": "stream",
          "name": "stderr",
          "text": [
            "\n"
          ]
        },
        {
          "output_type": "stream",
          "name": "stdout",
          "text": [
            "\n",
            "      Epoch    GPU_mem       loss  Instances       Size\n"
          ]
        },
        {
          "output_type": "stream",
          "name": "stderr",
          "text": [
            "      39/50      1.83G      0.147         24        224: 100%|██████████| 2832/2832 [01:45<00:00, 26.81it/s]\n",
            "               classes   top1_acc   top5_acc: 100%|██████████| 158/158 [00:03<00:00, 44.76it/s]"
          ]
        },
        {
          "output_type": "stream",
          "name": "stdout",
          "text": [
            "                   all      0.991      0.999\n"
          ]
        },
        {
          "output_type": "stream",
          "name": "stderr",
          "text": [
            "\n"
          ]
        },
        {
          "output_type": "stream",
          "name": "stdout",
          "text": [
            "\n",
            "      Epoch    GPU_mem       loss  Instances       Size\n"
          ]
        },
        {
          "output_type": "stream",
          "name": "stderr",
          "text": [
            "      40/50      1.84G     0.1401         24        224: 100%|██████████| 2832/2832 [01:45<00:00, 26.79it/s]\n",
            "               classes   top1_acc   top5_acc: 100%|██████████| 158/158 [00:03<00:00, 45.42it/s]\n"
          ]
        },
        {
          "output_type": "stream",
          "name": "stdout",
          "text": [
            "                   all      0.991      0.999\n",
            "\n",
            "      Epoch    GPU_mem       loss  Instances       Size\n"
          ]
        },
        {
          "output_type": "stream",
          "name": "stderr",
          "text": [
            "      41/50      1.88G      0.137         24        224: 100%|██████████| 2832/2832 [01:45<00:00, 26.78it/s]\n",
            "               classes   top1_acc   top5_acc: 100%|██████████| 158/158 [00:03<00:00, 45.03it/s]"
          ]
        },
        {
          "output_type": "stream",
          "name": "stdout",
          "text": [
            "                   all      0.991      0.999\n"
          ]
        },
        {
          "output_type": "stream",
          "name": "stderr",
          "text": [
            "\n"
          ]
        },
        {
          "output_type": "stream",
          "name": "stdout",
          "text": [
            "\n",
            "      Epoch    GPU_mem       loss  Instances       Size\n"
          ]
        },
        {
          "output_type": "stream",
          "name": "stderr",
          "text": [
            "      42/50      1.89G     0.1293         24        224: 100%|██████████| 2832/2832 [01:46<00:00, 26.69it/s]\n",
            "               classes   top1_acc   top5_acc: 100%|██████████| 158/158 [00:03<00:00, 44.65it/s]\n"
          ]
        },
        {
          "output_type": "stream",
          "name": "stdout",
          "text": [
            "                   all      0.991      0.999\n",
            "\n",
            "      Epoch    GPU_mem       loss  Instances       Size\n"
          ]
        },
        {
          "output_type": "stream",
          "name": "stderr",
          "text": [
            "      43/50      1.94G     0.1224         24        224: 100%|██████████| 2832/2832 [01:45<00:00, 26.80it/s]\n",
            "               classes   top1_acc   top5_acc: 100%|██████████| 158/158 [00:03<00:00, 46.09it/s]"
          ]
        },
        {
          "output_type": "stream",
          "name": "stdout",
          "text": [
            "                   all      0.992      0.999\n"
          ]
        },
        {
          "output_type": "stream",
          "name": "stderr",
          "text": [
            "\n"
          ]
        },
        {
          "output_type": "stream",
          "name": "stdout",
          "text": [
            "\n",
            "      Epoch    GPU_mem       loss  Instances       Size\n"
          ]
        },
        {
          "output_type": "stream",
          "name": "stderr",
          "text": [
            "      44/50      1.95G     0.1201         24        224: 100%|██████████| 2832/2832 [01:45<00:00, 26.77it/s]\n",
            "               classes   top1_acc   top5_acc: 100%|██████████| 158/158 [00:03<00:00, 44.10it/s]\n"
          ]
        },
        {
          "output_type": "stream",
          "name": "stdout",
          "text": [
            "                   all      0.992          1\n",
            "\n",
            "      Epoch    GPU_mem       loss  Instances       Size\n"
          ]
        },
        {
          "output_type": "stream",
          "name": "stderr",
          "text": [
            "      45/50      2.01G     0.1196         24        224: 100%|██████████| 2832/2832 [01:46<00:00, 26.67it/s]\n",
            "               classes   top1_acc   top5_acc: 100%|██████████| 158/158 [00:03<00:00, 43.67it/s]"
          ]
        },
        {
          "output_type": "stream",
          "name": "stdout",
          "text": [
            "                   all      0.992      0.999\n"
          ]
        },
        {
          "output_type": "stream",
          "name": "stderr",
          "text": [
            "\n"
          ]
        },
        {
          "output_type": "stream",
          "name": "stdout",
          "text": [
            "\n",
            "      Epoch    GPU_mem       loss  Instances       Size\n"
          ]
        },
        {
          "output_type": "stream",
          "name": "stderr",
          "text": [
            "      46/50      2.02G     0.1105         24        224: 100%|██████████| 2832/2832 [01:46<00:00, 26.70it/s]\n",
            "               classes   top1_acc   top5_acc: 100%|██████████| 158/158 [00:03<00:00, 44.55it/s]"
          ]
        },
        {
          "output_type": "stream",
          "name": "stdout",
          "text": [
            "                   all      0.992      0.999\n"
          ]
        },
        {
          "output_type": "stream",
          "name": "stderr",
          "text": [
            "\n"
          ]
        },
        {
          "output_type": "stream",
          "name": "stdout",
          "text": [
            "\n",
            "      Epoch    GPU_mem       loss  Instances       Size\n"
          ]
        },
        {
          "output_type": "stream",
          "name": "stderr",
          "text": [
            "      47/50      2.04G     0.1049         24        224: 100%|██████████| 2832/2832 [01:46<00:00, 26.69it/s]\n",
            "               classes   top1_acc   top5_acc: 100%|██████████| 158/158 [00:03<00:00, 44.68it/s]"
          ]
        },
        {
          "output_type": "stream",
          "name": "stdout",
          "text": [
            "                   all      0.992      0.999\n"
          ]
        },
        {
          "output_type": "stream",
          "name": "stderr",
          "text": [
            "\n"
          ]
        },
        {
          "output_type": "stream",
          "name": "stdout",
          "text": [
            "\n",
            "      Epoch    GPU_mem       loss  Instances       Size\n"
          ]
        },
        {
          "output_type": "stream",
          "name": "stderr",
          "text": [
            "      48/50       2.1G     0.1007         24        224: 100%|██████████| 2832/2832 [01:46<00:00, 26.58it/s]\n",
            "               classes   top1_acc   top5_acc: 100%|██████████| 158/158 [00:03<00:00, 45.79it/s]"
          ]
        },
        {
          "output_type": "stream",
          "name": "stdout",
          "text": [
            "                   all      0.992      0.999\n"
          ]
        },
        {
          "output_type": "stream",
          "name": "stderr",
          "text": [
            "\n"
          ]
        },
        {
          "output_type": "stream",
          "name": "stdout",
          "text": [
            "\n",
            "      Epoch    GPU_mem       loss  Instances       Size\n"
          ]
        },
        {
          "output_type": "stream",
          "name": "stderr",
          "text": [
            "      49/50      2.11G    0.09587         24        224: 100%|██████████| 2832/2832 [01:45<00:00, 26.85it/s]\n",
            "               classes   top1_acc   top5_acc: 100%|██████████| 158/158 [00:03<00:00, 45.39it/s]"
          ]
        },
        {
          "output_type": "stream",
          "name": "stdout",
          "text": [
            "                   all      0.992      0.999\n"
          ]
        },
        {
          "output_type": "stream",
          "name": "stderr",
          "text": [
            "\n"
          ]
        },
        {
          "output_type": "stream",
          "name": "stdout",
          "text": [
            "\n",
            "      Epoch    GPU_mem       loss  Instances       Size\n"
          ]
        },
        {
          "output_type": "stream",
          "name": "stderr",
          "text": [
            "      50/50      2.15G    0.09492         24        224: 100%|██████████| 2832/2832 [01:45<00:00, 26.75it/s]\n",
            "               classes   top1_acc   top5_acc: 100%|██████████| 158/158 [00:03<00:00, 44.68it/s]"
          ]
        },
        {
          "output_type": "stream",
          "name": "stdout",
          "text": [
            "                   all      0.992          1\n"
          ]
        },
        {
          "output_type": "stream",
          "name": "stderr",
          "text": [
            "\n"
          ]
        },
        {
          "output_type": "stream",
          "name": "stdout",
          "text": [
            "\n",
            "50 epochs completed in 1.535 hours.\n",
            "Optimizer stripped from /content/drive/MyDrive/yolov8s_cls_224_results/run_focal224/weights/last.pt, 10.3MB\n",
            "Optimizer stripped from /content/drive/MyDrive/yolov8s_cls_224_results/run_focal224/weights/best.pt, 10.3MB\n",
            "\n",
            "Validating /content/drive/MyDrive/yolov8s_cls_224_results/run_focal224/weights/best.pt...\n",
            "Ultralytics 8.3.146 🚀 Python-3.11.12 torch-2.6.0+cu124 CUDA:0 (NVIDIA L4, 22693MiB)\n",
            "YOLOv8s-cls summary (fused): 30 layers, 5,096,977 parameters, 0 gradients, 12.5 GFLOPs\n",
            "\u001b[34m\u001b[1mtrain:\u001b[0m /content/dataset224/Split224/train... found 90616 images in 17 classes ✅ \n",
            "\u001b[34m\u001b[1mval:\u001b[0m /content/dataset224/Split224/val... found 10076 images in 17 classes ✅ \n",
            "\u001b[34m\u001b[1mtest:\u001b[0m None...\n"
          ]
        },
        {
          "output_type": "stream",
          "name": "stderr",
          "text": [
            "               classes   top1_acc   top5_acc: 100%|██████████| 158/158 [00:03<00:00, 43.65it/s]\n"
          ]
        },
        {
          "output_type": "stream",
          "name": "stdout",
          "text": [
            "                   all      0.992          1\n",
            "Speed: 0.1ms preprocess, 0.1ms inference, 0.0ms loss, 0.0ms postprocess per image\n",
            "Results saved to \u001b[1m/content/drive/MyDrive/yolov8s_cls_224_results/run_focal224\u001b[0m\n",
            "\n",
            "📊 Running final validation…\n",
            "Ultralytics 8.3.146 🚀 Python-3.11.12 torch-2.6.0+cu124 CUDA:0 (NVIDIA L4, 22693MiB)\n",
            "YOLOv8s-cls summary (fused): 30 layers, 5,096,977 parameters, 0 gradients, 12.5 GFLOPs\n",
            "\u001b[34m\u001b[1mtrain:\u001b[0m /content/dataset224/Split224/train... found 90616 images in 17 classes ✅ \n",
            "\u001b[34m\u001b[1mval:\u001b[0m /content/dataset224/Split224/val... found 10076 images in 17 classes ✅ \n",
            "\u001b[34m\u001b[1mtest:\u001b[0m None...\n",
            "\u001b[34m\u001b[1mval: \u001b[0mFast image access ✅ (ping: 0.0±0.0 ms, read: 565.9±235.0 MB/s, size: 14.1 KB)\n"
          ]
        },
        {
          "output_type": "stream",
          "name": "stderr",
          "text": [
            "\u001b[34m\u001b[1mval: \u001b[0mScanning /content/dataset224/Split224/val... 10076 images, 0 corrupt: 100%|██████████| 10076/10076 [00:00<?, ?it/s]\n",
            "               classes   top1_acc   top5_acc: 100%|██████████| 315/315 [00:04<00:00, 78.15it/s]\n"
          ]
        },
        {
          "output_type": "stream",
          "name": "stdout",
          "text": [
            "                   all      0.992      0.999\n",
            "Speed: 0.1ms preprocess, 0.2ms inference, 0.0ms loss, 0.0ms postprocess per image\n",
            "Results saved to \u001b[1m/content/drive/MyDrive/yolov8s_cls_224_results/run_focal2242\u001b[0m\n"
          ]
        },
        {
          "output_type": "error",
          "ename": "AttributeError",
          "evalue": "'dict' object has no attribute 'project'",
          "traceback": [
            "\u001b[0;31m---------------------------------------------------------------------------\u001b[0m",
            "\u001b[0;31mAttributeError\u001b[0m                            Traceback (most recent call last)",
            "\u001b[0;32m<ipython-input-5-f26fbeccbd2f>\u001b[0m in \u001b[0;36m<cell line: 0>\u001b[0;34m()\u001b[0m\n\u001b[1;32m     52\u001b[0m \u001b[0;34m\u001b[0m\u001b[0m\n\u001b[1;32m     53\u001b[0m \u001b[0mbest_pt\u001b[0m \u001b[0;34m=\u001b[0m \u001b[0mmodel\u001b[0m\u001b[0;34m.\u001b[0m\u001b[0mtrainer\u001b[0m\u001b[0;34m.\u001b[0m\u001b[0msave_dir\u001b[0m \u001b[0;34m/\u001b[0m \u001b[0;34m\"weights\"\u001b[0m \u001b[0;34m/\u001b[0m \u001b[0;34m\"best.pt\"\u001b[0m\u001b[0;34m\u001b[0m\u001b[0;34m\u001b[0m\u001b[0m\n\u001b[0;32m---> 54\u001b[0;31m \u001b[0mdest\u001b[0m   \u001b[0;34m=\u001b[0m \u001b[0mPath\u001b[0m\u001b[0;34m(\u001b[0m\u001b[0mmodel\u001b[0m\u001b[0;34m.\u001b[0m\u001b[0margs\u001b[0m\u001b[0;34m.\u001b[0m\u001b[0mproject\u001b[0m\u001b[0;34m)\u001b[0m \u001b[0;34m/\u001b[0m \u001b[0mmodel\u001b[0m\u001b[0;34m.\u001b[0m\u001b[0margs\u001b[0m\u001b[0;34m.\u001b[0m\u001b[0mname\u001b[0m \u001b[0;34m/\u001b[0m \u001b[0;34m\"weights\"\u001b[0m \u001b[0;34m/\u001b[0m \u001b[0;34m\"best.pt\"\u001b[0m\u001b[0;34m\u001b[0m\u001b[0;34m\u001b[0m\u001b[0m\n\u001b[0m\u001b[1;32m     55\u001b[0m \u001b[0mdest\u001b[0m\u001b[0;34m.\u001b[0m\u001b[0mparent\u001b[0m\u001b[0;34m.\u001b[0m\u001b[0mmkdir\u001b[0m\u001b[0;34m(\u001b[0m\u001b[0mexist_ok\u001b[0m\u001b[0;34m=\u001b[0m\u001b[0;32mTrue\u001b[0m\u001b[0;34m,\u001b[0m \u001b[0mparents\u001b[0m\u001b[0;34m=\u001b[0m\u001b[0;32mTrue\u001b[0m\u001b[0;34m)\u001b[0m\u001b[0;34m\u001b[0m\u001b[0;34m\u001b[0m\u001b[0m\n\u001b[1;32m     56\u001b[0m \u001b[0mshutil\u001b[0m\u001b[0;34m.\u001b[0m\u001b[0mcopy\u001b[0m\u001b[0;34m(\u001b[0m\u001b[0mbest_pt\u001b[0m\u001b[0;34m,\u001b[0m \u001b[0mdest\u001b[0m\u001b[0;34m)\u001b[0m\u001b[0;34m\u001b[0m\u001b[0;34m\u001b[0m\u001b[0m\n",
            "\u001b[0;31mAttributeError\u001b[0m: 'dict' object has no attribute 'project'"
          ]
        }
      ]
    },
    {
      "cell_type": "code",
      "source": [
        "import os\n",
        "import time\n",
        "from google.colab import runtime\n",
        "\n",
        "# Wait for training to complete before disconnecting\n",
        "print(\"Training completed! Releasing GPU resources...\")\n",
        "time.sleep(20)  # Give some time for final processing\n",
        "\n",
        "# Automatically disconnect the Colab session\n",
        "runtime.unassign()\n",
        "os._exit(0)"
      ],
      "metadata": {
        "id": "fCsE30LReiEl"
      },
      "execution_count": null,
      "outputs": []
    }
  ]
}