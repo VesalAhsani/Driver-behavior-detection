{
  "nbformat": 4,
  "nbformat_minor": 0,
  "metadata": {
    "colab": {
      "provenance": [],
      "gpuType": "L4",
      "authorship_tag": "ABX9TyPAAXefzZeLVF3YYOENHNiy",
      "include_colab_link": true
    },
    "kernelspec": {
      "name": "python3",
      "display_name": "Python 3"
    },
    "language_info": {
      "name": "python"
    },
    "accelerator": "GPU"
  },
  "cells": [
    {
      "cell_type": "markdown",
      "metadata": {
        "id": "view-in-github",
        "colab_type": "text"
      },
      "source": [
        "<a href=\"https://colab.research.google.com/github/VesalAhsani/Driver-behavior-detection/blob/main/DMS_YOLOv8s_Focal_224_RGB%26GRAY_mergedclasses_TruePretrained_062025.ipynb\" target=\"_parent\"><img src=\"https://colab.research.google.com/assets/colab-badge.svg\" alt=\"Open In Colab\"/></a>"
      ]
    },
    {
      "cell_type": "markdown",
      "source": [
        "# YOLOv8-s Classification @ 224px on Colab\n",
        "No Augmentation!\n",
        "\n",
        "REAL Focal with alpha cap and higher gamma!!\n",
        "\n",
        "Pretrained = True..\n",
        "\n",
        "Some of the classes are merged here for training rather than mapping in inference !"
      ],
      "metadata": {
        "id": "fTcClMYK4BT6"
      }
    },
    {
      "cell_type": "code",
      "execution_count": null,
      "metadata": {
        "colab": {
          "base_uri": "https://localhost:8080/"
        },
        "id": "6GwyU1hF3c5Q",
        "outputId": "0f248d49-cb26-4f6a-8a13-caf360d0d502"
      },
      "outputs": [
        {
          "output_type": "stream",
          "name": "stdout",
          "text": [
            "\u001b[2K   \u001b[90m━━━━━━━━━━━━━━━━━━━━━━━━━━━━━━━━━━━━━━━━\u001b[0m \u001b[32m1.0/1.0 MB\u001b[0m \u001b[31m69.4 MB/s\u001b[0m eta \u001b[36m0:00:00\u001b[0m\n",
            "\u001b[2K   \u001b[90m━━━━━━━━━━━━━━━━━━━━━━━━━━━━━━━━━━━━━━━━\u001b[0m \u001b[32m363.4/363.4 MB\u001b[0m \u001b[31m3.3 MB/s\u001b[0m eta \u001b[36m0:00:00\u001b[0m\n",
            "\u001b[2K   \u001b[90m━━━━━━━━━━━━━━━━━━━━━━━━━━━━━━━━━━━━━━━━\u001b[0m \u001b[32m13.8/13.8 MB\u001b[0m \u001b[31m129.0 MB/s\u001b[0m eta \u001b[36m0:00:00\u001b[0m\n",
            "\u001b[2K   \u001b[90m━━━━━━━━━━━━━━━━━━━━━━━━━━━━━━━━━━━━━━━━\u001b[0m \u001b[32m24.6/24.6 MB\u001b[0m \u001b[31m95.1 MB/s\u001b[0m eta \u001b[36m0:00:00\u001b[0m\n",
            "\u001b[2K   \u001b[90m━━━━━━━━━━━━━━━━━━━━━━━━━━━━━━━━━━━━━━━━\u001b[0m \u001b[32m883.7/883.7 kB\u001b[0m \u001b[31m57.8 MB/s\u001b[0m eta \u001b[36m0:00:00\u001b[0m\n",
            "\u001b[2K   \u001b[90m━━━━━━━━━━━━━━━━━━━━━━━━━━━━━━━━━━━━━━━━\u001b[0m \u001b[32m664.8/664.8 MB\u001b[0m \u001b[31m1.6 MB/s\u001b[0m eta \u001b[36m0:00:00\u001b[0m\n",
            "\u001b[2K   \u001b[90m━━━━━━━━━━━━━━━━━━━━━━━━━━━━━━━━━━━━━━━━\u001b[0m \u001b[32m211.5/211.5 MB\u001b[0m \u001b[31m4.1 MB/s\u001b[0m eta \u001b[36m0:00:00\u001b[0m\n",
            "\u001b[2K   \u001b[90m━━━━━━━━━━━━━━━━━━━━━━━━━━━━━━━━━━━━━━━━\u001b[0m \u001b[32m56.3/56.3 MB\u001b[0m \u001b[31m39.3 MB/s\u001b[0m eta \u001b[36m0:00:00\u001b[0m\n",
            "\u001b[2K   \u001b[90m━━━━━━━━━━━━━━━━━━━━━━━━━━━━━━━━━━━━━━━━\u001b[0m \u001b[32m127.9/127.9 MB\u001b[0m \u001b[31m17.2 MB/s\u001b[0m eta \u001b[36m0:00:00\u001b[0m\n",
            "\u001b[2K   \u001b[90m━━━━━━━━━━━━━━━━━━━━━━━━━━━━━━━━━━━━━━━━\u001b[0m \u001b[32m207.5/207.5 MB\u001b[0m \u001b[31m4.2 MB/s\u001b[0m eta \u001b[36m0:00:00\u001b[0m\n",
            "\u001b[2K   \u001b[90m━━━━━━━━━━━━━━━━━━━━━━━━━━━━━━━━━━━━━━━━\u001b[0m \u001b[32m21.1/21.1 MB\u001b[0m \u001b[31m111.7 MB/s\u001b[0m eta \u001b[36m0:00:00\u001b[0m\n",
            "\u001b[?25h"
          ]
        }
      ],
      "source": [
        "# @title 1️⃣ Install dependencies\n",
        "# Colab comes with torch+cuda preinstalled, but we upgrade ultralytics.\n",
        "!pip install --upgrade ultralytics --quiet"
      ]
    },
    {
      "cell_type": "code",
      "source": [
        "# @title 2️⃣ Mount Google Drive\n",
        "from google.colab import drive\n",
        "drive.mount('/content/drive')"
      ],
      "metadata": {
        "colab": {
          "base_uri": "https://localhost:8080/"
        },
        "id": "wI1T2CHH4Arc",
        "outputId": "1972393f-2dcf-4493-b760-828a64cfdbe2"
      },
      "execution_count": null,
      "outputs": [
        {
          "output_type": "stream",
          "name": "stdout",
          "text": [
            "Mounted at /content/drive\n"
          ]
        }
      ]
    },
    {
      "cell_type": "code",
      "source": [
        "# @title 3️⃣ Paths & Unzip Dataset\n",
        "import zipfile, os, glob\n",
        "from pathlib import Path\n",
        "\n",
        "# ── CONFIG ──────────────────────────────────────\n",
        "ZIP_PATH    = \"/content/drive/MyDrive/Split224_rgbgray_mergedclasses.zip\"\n",
        "EXTRACT_DIR = Path(\"/content/dataset224\")\n",
        "DATA_DIR    = EXTRACT_DIR / \"Split224_rgbgray_mergedclasses\"   # <-- must contain train/ & val/\n",
        "# ────────────────────────────────────────────────\n",
        "\n",
        "# 3.1 Unzip if needed\n",
        "if not DATA_DIR.exists():\n",
        "    print(\"📦 Unzipping dataset…\")\n",
        "    EXTRACT_DIR.mkdir(exist_ok=True)\n",
        "    with zipfile.ZipFile(ZIP_PATH, 'r') as zf:\n",
        "        zf.extractall(EXTRACT_DIR)\n",
        "    print(\"✅ Unzipped to\", EXTRACT_DIR)\n",
        "\n",
        "# 3.2 Print counts per class\n",
        "print(\"\\n🧾 Dataset composition:\")\n",
        "for split in (\"train\", \"val\"):\n",
        "    print(f\"\\n– {split.upper()}:\")\n",
        "    for cls in sorted((DATA_DIR/split).iterdir()):\n",
        "        if cls.is_dir():\n",
        "            imgs = list(cls.glob(\"*.*\"))\n",
        "            print(f\"  {cls.name:<20s} {len(imgs):5d}\")"
      ],
      "metadata": {
        "colab": {
          "base_uri": "https://localhost:8080/"
        },
        "id": "JW7XtgUc4AmY",
        "outputId": "d108e4f7-bbf5-4f90-f4d2-13e6464ccb4b"
      },
      "execution_count": null,
      "outputs": [
        {
          "output_type": "stream",
          "name": "stdout",
          "text": [
            "📦 Unzipping dataset…\n",
            "✅ Unzipped to /content/dataset224\n",
            "\n",
            "🧾 Dataset composition:\n",
            "\n",
            "– TRAIN:\n",
            "  Control_Panel         8341\n",
            "  Eating:Drinking       9937\n",
            "  Look_Down             3761\n",
            "  Look_Side            11988\n",
            "  Makeup                6219\n",
            "  Normal                8167\n",
            "  Phone_Usage          24820\n",
            "  Reaching_Behind       4634\n",
            "  Sleep                 4039\n",
            "  Smoking              12355\n",
            "  Yawning               3206\n",
            "\n",
            "– VAL:\n",
            "  Control_Panel          927\n",
            "  Eating:Drinking       1105\n",
            "  Look_Down              418\n",
            "  Look_Side             1334\n",
            "  Makeup                 691\n",
            "  Normal                 908\n",
            "  Phone_Usage           2760\n",
            "  Reaching_Behind        515\n",
            "  Sleep                  449\n",
            "  Smoking               1375\n",
            "  Yawning                357\n"
          ]
        }
      ]
    },
    {
      "cell_type": "code",
      "source": [
        "# @title 4️⃣ Compute α (class imbalance) for focal loss\n",
        "\n",
        "import torch\n",
        "\n",
        "# count images per class\n",
        "train_root = DATA_DIR / \"train\"\n",
        "class_counts = {\n",
        "    cls.name: len(list((train_root/cls.name).glob(\"*.*\")))\n",
        "    for cls in sorted(train_root.iterdir()) if cls.is_dir()\n",
        "}\n",
        "\n",
        "# compute inverse-frequency weights, cap at 2.0\n",
        "max_n     = max(class_counts.values())\n",
        "raw_alpha = torch.tensor([max_n / class_counts[c] for c in class_counts],\n",
        "                         dtype=torch.float32)\n",
        "alpha     = torch.minimum(raw_alpha, torch.tensor(2.0)).cuda()\n",
        "\n",
        "print(\"\\n🎯 α weights (per class, clipped):\")\n",
        "for name, w in zip(class_counts.keys(), alpha):\n",
        "    print(f\"  {name:<20s} {w:.3f}\")"
      ],
      "metadata": {
        "colab": {
          "base_uri": "https://localhost:8080/"
        },
        "id": "xWREMDue4Aic",
        "outputId": "80be4d93-8af2-4413-8389-7c6e46ffb830"
      },
      "execution_count": null,
      "outputs": [
        {
          "output_type": "stream",
          "name": "stdout",
          "text": [
            "\n",
            "🎯 α weights (per class, clipped):\n",
            "  Control_Panel        2.000\n",
            "  Eating:Drinking      2.000\n",
            "  Look_Down            2.000\n",
            "  Look_Side            2.000\n",
            "  Makeup               2.000\n",
            "  Normal               2.000\n",
            "  Phone_Usage          1.000\n",
            "  Reaching_Behind      2.000\n",
            "  Sleep                2.000\n",
            "  Smoking              2.000\n",
            "  Yawning              2.000\n"
          ]
        }
      ]
    },
    {
      "cell_type": "code",
      "source": [
        "# @title 5️⃣ Define FocalLoss & Train YOLOv8-s-cls\n",
        "\n",
        "import torch\n",
        "import torch.nn as nn\n",
        "import shutil\n",
        "from pathlib import Path\n",
        "from ultralytics import YOLO\n",
        "\n",
        "# ─── Focal Loss ───────────────────────────────\n",
        "class FocalLoss(nn.Module):\n",
        "    def __init__(self, gamma=2.0, alpha=None, reduction='mean'):\n",
        "        super().__init__()\n",
        "        self.gamma, self.alpha, self.reduction = gamma, alpha, reduction\n",
        "\n",
        "    def forward(self, inputs, targets):\n",
        "        logp = torch.nn.functional.log_softmax(inputs, dim=-1)\n",
        "        p    = torch.exp(logp)\n",
        "        t    = targets.long()\n",
        "        pt   = p.gather(-1, t.unsqueeze(-1)).squeeze(-1)\n",
        "        focal = (1 - pt) ** self.gamma\n",
        "        loss = -focal * logp.gather(-1, t.unsqueeze(-1)).squeeze(-1)\n",
        "        if self.alpha is not None:\n",
        "            loss = loss * self.alpha[t]\n",
        "        return loss.mean() if self.reduction=='mean' else loss.sum()\n",
        "\n",
        "\n",
        "\n",
        "# ── paths for results ---------------------------------------------------\n",
        "run_name    = \"yolov8s_focal224\"\n",
        "RESULTS_DIR = \"/content/drive/MyDrive/yolov8s_cls_224_mergedclasses_results\"\n",
        "\n",
        "# ─── Load model & override loss ─────────────────\n",
        "print(\"🚀 Loading YOLOv8s-cls pretrained weights…\")\n",
        "model = YOLO(\"yolov8s-cls.pt\")\n",
        "alpha = alpha.to(model.device)\n",
        "model.model.loss_fn = FocalLoss(gamma=2.0, alpha=alpha)\n",
        "print(\"🔍 Active loss_fn:\", model.model.loss_fn)\n",
        "\n",
        "# ─── Train ────────────────────────────────────\n",
        "print(\"\\n📚 Starting training…\")\n",
        "model.train(\n",
        "    data=str(DATA_DIR),     # expects train/ & val/ inside\n",
        "    epochs=75,\n",
        "    batch=32,\n",
        "    imgsz=224,\n",
        "    lr0=5e-4,\n",
        "    optimizer=\"Adam\",\n",
        "    project=RESULTS_DIR,\n",
        "    name=run_name,\n",
        "    pretrained=True,\n",
        "    fliplr=0.5,\n",
        "    flipud=0,\n",
        ")\n",
        "\n",
        "\n",
        "# ─── Validate & copy best.pt ──────────────────\n",
        "print(\"\\n📊 Running final validation…\")\n",
        "metrics = model.val()\n",
        "\n",
        "src = os.path.join(model.trainer.save_dir, \"weights\", \"best.pt\")\n",
        "dst = os.path.join(RESULTS_DIR, run_name, \"weights\", \"best.pt\")\n",
        "os.makedirs(os.path.dirname(dst), exist_ok=True)\n",
        "os.system(f\"cp {src} {dst}\")\n",
        "\n",
        "print(\"✅ Best weights saved to:\", dst)"
      ],
      "metadata": {
        "colab": {
          "base_uri": "https://localhost:8080/"
        },
        "id": "2-NfvCee4AdU",
        "outputId": "d3abd2a0-15d0-44d7-af83-c86850dbf853"
      },
      "execution_count": null,
      "outputs": [
        {
          "output_type": "stream",
          "name": "stdout",
          "text": [
            "Creating new Ultralytics Settings v0.0.6 file ✅ \n",
            "View Ultralytics Settings with 'yolo settings' or at '/root/.config/Ultralytics/settings.json'\n",
            "Update Settings with 'yolo settings key=value', i.e. 'yolo settings runs_dir=path/to/dir'. For help see https://docs.ultralytics.com/quickstart/#ultralytics-settings.\n",
            "🚀 Loading YOLOv8s-cls pretrained weights…\n",
            "Downloading https://github.com/ultralytics/assets/releases/download/v8.3.0/yolov8s-cls.pt to 'yolov8s-cls.pt'...\n"
          ]
        },
        {
          "output_type": "stream",
          "name": "stderr",
          "text": [
            "100%|██████████| 12.3M/12.3M [00:00<00:00, 493MB/s]\n"
          ]
        },
        {
          "output_type": "stream",
          "name": "stdout",
          "text": [
            "🔍 Active loss_fn: FocalLoss()\n",
            "\n",
            "📚 Starting training…\n",
            "Ultralytics 8.3.146 🚀 Python-3.11.12 torch-2.6.0+cu124 CUDA:0 (NVIDIA L4, 22693MiB)\n",
            "\u001b[34m\u001b[1mengine/trainer: \u001b[0magnostic_nms=False, amp=True, augment=False, auto_augment=randaugment, batch=32, bgr=0.0, box=7.5, cache=False, cfg=None, classes=None, close_mosaic=10, cls=0.5, conf=None, copy_paste=0.0, copy_paste_mode=flip, cos_lr=False, cutmix=0.0, data=/content/dataset224/Split224_rgbgray_mergedclasses, degrees=0.0, deterministic=True, device=None, dfl=1.5, dnn=False, dropout=0.0, dynamic=False, embed=None, epochs=75, erasing=0.4, exist_ok=False, fliplr=0.5, flipud=0, format=torchscript, fraction=1.0, freeze=None, half=False, hsv_h=0.015, hsv_s=0.7, hsv_v=0.4, imgsz=224, int8=False, iou=0.7, keras=False, kobj=1.0, line_width=None, lr0=0.0005, lrf=0.01, mask_ratio=4, max_det=300, mixup=0.0, mode=train, model=yolov8s-cls.pt, momentum=0.937, mosaic=1.0, multi_scale=False, name=yolov8s_focal224, nbs=64, nms=False, opset=None, optimize=False, optimizer=Adam, overlap_mask=True, patience=100, perspective=0.0, plots=True, pose=12.0, pretrained=True, profile=False, project=/content/drive/MyDrive/yolov8s_cls_224_mergedclasses_results, rect=False, resume=False, retina_masks=False, save=True, save_conf=False, save_crop=False, save_dir=/content/drive/MyDrive/yolov8s_cls_224_mergedclasses_results/yolov8s_focal224, save_frames=False, save_json=False, save_period=-1, save_txt=False, scale=0.5, seed=0, shear=0.0, show=False, show_boxes=True, show_conf=True, show_labels=True, simplify=True, single_cls=False, source=None, split=val, stream_buffer=False, task=classify, time=None, tracker=botsort.yaml, translate=0.1, val=True, verbose=True, vid_stride=1, visualize=False, warmup_bias_lr=0.1, warmup_epochs=3.0, warmup_momentum=0.8, weight_decay=0.0005, workers=8, workspace=None\n",
            "\u001b[34m\u001b[1mtrain:\u001b[0m /content/dataset224/Split224_rgbgray_mergedclasses/train... found 97467 images in 11 classes ✅ \n",
            "\u001b[34m\u001b[1mval:\u001b[0m /content/dataset224/Split224_rgbgray_mergedclasses/val... found 10839 images in 11 classes ✅ \n",
            "\u001b[34m\u001b[1mtest:\u001b[0m None...\n",
            "Overriding model.yaml nc=1000 with nc=11\n",
            "\n",
            "                   from  n    params  module                                       arguments                     \n",
            "  0                  -1  1       928  ultralytics.nn.modules.conv.Conv             [3, 32, 3, 2]                 \n",
            "  1                  -1  1     18560  ultralytics.nn.modules.conv.Conv             [32, 64, 3, 2]                \n",
            "  2                  -1  1     29056  ultralytics.nn.modules.block.C2f             [64, 64, 1, True]             \n",
            "  3                  -1  1     73984  ultralytics.nn.modules.conv.Conv             [64, 128, 3, 2]               \n",
            "  4                  -1  2    197632  ultralytics.nn.modules.block.C2f             [128, 128, 2, True]           \n",
            "  5                  -1  1    295424  ultralytics.nn.modules.conv.Conv             [128, 256, 3, 2]              \n",
            "  6                  -1  2    788480  ultralytics.nn.modules.block.C2f             [256, 256, 2, True]           \n",
            "  7                  -1  1   1180672  ultralytics.nn.modules.conv.Conv             [256, 512, 3, 2]              \n",
            "  8                  -1  1   1838080  ultralytics.nn.modules.block.C2f             [512, 512, 1, True]           \n",
            "  9                  -1  1    672011  ultralytics.nn.modules.head.Classify         [512, 11]                     \n",
            "YOLOv8s-cls summary: 56 layers, 5,094,827 parameters, 5,094,827 gradients, 12.6 GFLOPs\n",
            "Transferred 156/158 items from pretrained weights\n",
            "\u001b[34m\u001b[1mAMP: \u001b[0mrunning Automatic Mixed Precision (AMP) checks...\n",
            "Downloading https://github.com/ultralytics/assets/releases/download/v8.3.0/yolo11n.pt to 'yolo11n.pt'...\n"
          ]
        },
        {
          "output_type": "stream",
          "name": "stderr",
          "text": [
            "100%|██████████| 5.35M/5.35M [00:00<00:00, 446MB/s]\n"
          ]
        },
        {
          "output_type": "stream",
          "name": "stdout",
          "text": [
            "\u001b[34m\u001b[1mAMP: \u001b[0mchecks passed ✅\n",
            "\u001b[34m\u001b[1mtrain: \u001b[0mFast image access ✅ (ping: 0.0±0.0 ms, read: 539.9±244.3 MB/s, size: 14.1 KB)\n"
          ]
        },
        {
          "output_type": "stream",
          "name": "stderr",
          "text": [
            "\u001b[34m\u001b[1mtrain: \u001b[0mScanning /content/dataset224/Split224_rgbgray_mergedclasses/train... 97467 images, 0 corrupt: 100%|██████████| 97467/97467 [00:29<00:00, 3273.44it/s]\n"
          ]
        },
        {
          "output_type": "stream",
          "name": "stdout",
          "text": [
            "\u001b[34m\u001b[1mtrain: \u001b[0mNew cache created: /content/dataset224/Split224_rgbgray_mergedclasses/train.cache\n",
            "\u001b[34m\u001b[1mval: \u001b[0mFast image access ✅ (ping: 0.0±0.0 ms, read: 533.9±285.4 MB/s, size: 14.1 KB)\n"
          ]
        },
        {
          "output_type": "stream",
          "name": "stderr",
          "text": [
            "\u001b[34m\u001b[1mval: \u001b[0mScanning /content/dataset224/Split224_rgbgray_mergedclasses/val... 10839 images, 0 corrupt: 100%|██████████| 10839/10839 [00:03<00:00, 3322.88it/s]\n"
          ]
        },
        {
          "output_type": "stream",
          "name": "stdout",
          "text": [
            "\u001b[34m\u001b[1mval: \u001b[0mNew cache created: /content/dataset224/Split224_rgbgray_mergedclasses/val.cache\n",
            "\u001b[34m\u001b[1moptimizer:\u001b[0m Adam(lr=0.0005, momentum=0.937) with parameter groups 26 weight(decay=0.0), 27 weight(decay=0.0005), 27 bias(decay=0.0)\n",
            "Image sizes 224 train, 224 val\n",
            "Using 8 dataloader workers\n",
            "Logging results to \u001b[1m/content/drive/MyDrive/yolov8s_cls_224_mergedclasses_results/yolov8s_focal224\u001b[0m\n",
            "Starting training for 75 epochs...\n",
            "\n",
            "      Epoch    GPU_mem       loss  Instances       Size\n"
          ]
        },
        {
          "output_type": "stream",
          "name": "stderr",
          "text": [
            "       1/75     0.768G      2.273         32        224:   1%|          | 25/3046 [00:02<02:16, 22.16it/s]"
          ]
        },
        {
          "output_type": "stream",
          "name": "stdout",
          "text": [
            "Downloading https://ultralytics.com/assets/Arial.ttf to '/root/.config/Ultralytics/Arial.ttf'...\n"
          ]
        },
        {
          "output_type": "stream",
          "name": "stderr",
          "text": [
            "       1/75     0.768G      2.267         32        224:   1%|          | 31/3046 [00:02<02:09, 23.25it/s]\n",
            "100%|██████████| 755k/755k [00:00<00:00, 101MB/s]\n",
            "       1/75     0.768G      1.199         27        224: 100%|██████████| 3046/3046 [02:04<00:00, 24.54it/s]\n",
            "               classes   top1_acc   top5_acc: 100%|██████████| 170/170 [00:03<00:00, 46.93it/s]\n"
          ]
        },
        {
          "output_type": "stream",
          "name": "stdout",
          "text": [
            "                   all      0.806      0.991\n",
            "\n",
            "      Epoch    GPU_mem       loss  Instances       Size\n"
          ]
        },
        {
          "output_type": "stream",
          "name": "stderr",
          "text": [
            "       2/75     0.932G     0.6663         27        224: 100%|██████████| 3046/3046 [01:59<00:00, 25.56it/s]\n",
            "               classes   top1_acc   top5_acc: 100%|██████████| 170/170 [00:03<00:00, 46.31it/s]\n"
          ]
        },
        {
          "output_type": "stream",
          "name": "stdout",
          "text": [
            "                   all      0.891      0.998\n",
            "\n",
            "      Epoch    GPU_mem       loss  Instances       Size\n"
          ]
        },
        {
          "output_type": "stream",
          "name": "stderr",
          "text": [
            "       3/75     0.943G      0.519         27        224: 100%|██████████| 3046/3046 [01:53<00:00, 26.84it/s]\n",
            "               classes   top1_acc   top5_acc: 100%|██████████| 170/170 [00:03<00:00, 47.23it/s]\n"
          ]
        },
        {
          "output_type": "stream",
          "name": "stdout",
          "text": [
            "                   all      0.929      0.998\n",
            "\n",
            "      Epoch    GPU_mem       loss  Instances       Size\n"
          ]
        },
        {
          "output_type": "stream",
          "name": "stderr",
          "text": [
            "       4/75     0.955G     0.4585         27        224: 100%|██████████| 3046/3046 [01:53<00:00, 26.95it/s]\n",
            "               classes   top1_acc   top5_acc: 100%|██████████| 170/170 [00:03<00:00, 49.07it/s]\n"
          ]
        },
        {
          "output_type": "stream",
          "name": "stdout",
          "text": [
            "                   all       0.95      0.999\n",
            "\n",
            "      Epoch    GPU_mem       loss  Instances       Size\n"
          ]
        },
        {
          "output_type": "stream",
          "name": "stderr",
          "text": [
            "       5/75     0.965G     0.4202         27        224: 100%|██████████| 3046/3046 [01:53<00:00, 26.89it/s]\n",
            "               classes   top1_acc   top5_acc: 100%|██████████| 170/170 [00:03<00:00, 48.50it/s]\n"
          ]
        },
        {
          "output_type": "stream",
          "name": "stdout",
          "text": [
            "                   all      0.959      0.999\n",
            "\n",
            "      Epoch    GPU_mem       loss  Instances       Size\n"
          ]
        },
        {
          "output_type": "stream",
          "name": "stderr",
          "text": [
            "       6/75     0.979G     0.3981         27        224: 100%|██████████| 3046/3046 [01:53<00:00, 26.85it/s]\n",
            "               classes   top1_acc   top5_acc: 100%|██████████| 170/170 [00:03<00:00, 48.13it/s]"
          ]
        },
        {
          "output_type": "stream",
          "name": "stdout",
          "text": [
            "                   all      0.965      0.999\n"
          ]
        },
        {
          "output_type": "stream",
          "name": "stderr",
          "text": [
            "\n"
          ]
        },
        {
          "output_type": "stream",
          "name": "stdout",
          "text": [
            "\n",
            "      Epoch    GPU_mem       loss  Instances       Size\n"
          ]
        },
        {
          "output_type": "stream",
          "name": "stderr",
          "text": [
            "       7/75      0.99G     0.3757         27        224: 100%|██████████| 3046/3046 [01:53<00:00, 26.83it/s]\n",
            "               classes   top1_acc   top5_acc: 100%|██████████| 170/170 [00:03<00:00, 48.17it/s]\n"
          ]
        },
        {
          "output_type": "stream",
          "name": "stdout",
          "text": [
            "                   all      0.968      0.999\n",
            "\n",
            "      Epoch    GPU_mem       loss  Instances       Size\n"
          ]
        },
        {
          "output_type": "stream",
          "name": "stderr",
          "text": [
            "       8/75         1G     0.3676         27        224: 100%|██████████| 3046/3046 [01:53<00:00, 26.79it/s]\n",
            "               classes   top1_acc   top5_acc: 100%|██████████| 170/170 [00:03<00:00, 47.39it/s]\n"
          ]
        },
        {
          "output_type": "stream",
          "name": "stdout",
          "text": [
            "                   all      0.973      0.999\n",
            "\n",
            "      Epoch    GPU_mem       loss  Instances       Size\n"
          ]
        },
        {
          "output_type": "stream",
          "name": "stderr",
          "text": [
            "       9/75      1.01G      0.358         27        224: 100%|██████████| 3046/3046 [01:53<00:00, 26.84it/s]\n",
            "               classes   top1_acc   top5_acc: 100%|██████████| 170/170 [00:03<00:00, 47.73it/s]\n"
          ]
        },
        {
          "output_type": "stream",
          "name": "stdout",
          "text": [
            "                   all      0.975      0.999\n",
            "\n",
            "      Epoch    GPU_mem       loss  Instances       Size\n"
          ]
        },
        {
          "output_type": "stream",
          "name": "stderr",
          "text": [
            "      10/75      1.03G     0.3466         27        224: 100%|██████████| 3046/3046 [01:53<00:00, 26.77it/s]\n",
            "               classes   top1_acc   top5_acc: 100%|██████████| 170/170 [00:03<00:00, 46.93it/s]\n"
          ]
        },
        {
          "output_type": "stream",
          "name": "stdout",
          "text": [
            "                   all      0.978          1\n",
            "\n",
            "      Epoch    GPU_mem       loss  Instances       Size\n"
          ]
        },
        {
          "output_type": "stream",
          "name": "stderr",
          "text": [
            "      11/75      1.04G     0.3381         27        224: 100%|██████████| 3046/3046 [01:53<00:00, 26.73it/s]\n",
            "               classes   top1_acc   top5_acc: 100%|██████████| 170/170 [00:03<00:00, 48.47it/s]"
          ]
        },
        {
          "output_type": "stream",
          "name": "stdout",
          "text": [
            "                   all      0.978      0.999\n"
          ]
        },
        {
          "output_type": "stream",
          "name": "stderr",
          "text": [
            "\n"
          ]
        },
        {
          "output_type": "stream",
          "name": "stdout",
          "text": [
            "\n",
            "      Epoch    GPU_mem       loss  Instances       Size\n"
          ]
        },
        {
          "output_type": "stream",
          "name": "stderr",
          "text": [
            "      12/75      1.05G     0.3321         27        224: 100%|██████████| 3046/3046 [01:53<00:00, 26.75it/s]\n",
            "               classes   top1_acc   top5_acc: 100%|██████████| 170/170 [00:03<00:00, 48.30it/s]\n"
          ]
        },
        {
          "output_type": "stream",
          "name": "stdout",
          "text": [
            "                   all      0.978      0.999\n",
            "\n",
            "      Epoch    GPU_mem       loss  Instances       Size\n"
          ]
        },
        {
          "output_type": "stream",
          "name": "stderr",
          "text": [
            "      13/75      1.14G     0.3252         27        224: 100%|██████████| 3046/3046 [01:54<00:00, 26.67it/s]\n",
            "               classes   top1_acc   top5_acc: 100%|██████████| 170/170 [00:03<00:00, 47.96it/s]"
          ]
        },
        {
          "output_type": "stream",
          "name": "stdout",
          "text": [
            "                   all      0.979          1\n"
          ]
        },
        {
          "output_type": "stream",
          "name": "stderr",
          "text": [
            "\n"
          ]
        },
        {
          "output_type": "stream",
          "name": "stdout",
          "text": [
            "\n",
            "      Epoch    GPU_mem       loss  Instances       Size\n"
          ]
        },
        {
          "output_type": "stream",
          "name": "stderr",
          "text": [
            "      14/75      1.15G     0.3245         27        224: 100%|██████████| 3046/3046 [01:53<00:00, 26.77it/s]\n",
            "               classes   top1_acc   top5_acc: 100%|██████████| 170/170 [00:03<00:00, 48.45it/s]\n"
          ]
        },
        {
          "output_type": "stream",
          "name": "stdout",
          "text": [
            "                   all       0.98          1\n",
            "\n",
            "      Epoch    GPU_mem       loss  Instances       Size\n"
          ]
        },
        {
          "output_type": "stream",
          "name": "stderr",
          "text": [
            "      15/75      1.16G     0.3118         27        224: 100%|██████████| 3046/3046 [01:53<00:00, 26.85it/s]\n",
            "               classes   top1_acc   top5_acc: 100%|██████████| 170/170 [00:03<00:00, 47.89it/s]"
          ]
        },
        {
          "output_type": "stream",
          "name": "stdout",
          "text": [
            "                   all       0.98          1\n"
          ]
        },
        {
          "output_type": "stream",
          "name": "stderr",
          "text": [
            "\n"
          ]
        },
        {
          "output_type": "stream",
          "name": "stdout",
          "text": [
            "\n",
            "      Epoch    GPU_mem       loss  Instances       Size\n"
          ]
        },
        {
          "output_type": "stream",
          "name": "stderr",
          "text": [
            "      16/75      1.17G     0.3119         27        224: 100%|██████████| 3046/3046 [01:53<00:00, 26.76it/s]\n",
            "               classes   top1_acc   top5_acc: 100%|██████████| 170/170 [00:03<00:00, 46.77it/s]\n"
          ]
        },
        {
          "output_type": "stream",
          "name": "stdout",
          "text": [
            "                   all       0.98          1\n",
            "\n",
            "      Epoch    GPU_mem       loss  Instances       Size\n"
          ]
        },
        {
          "output_type": "stream",
          "name": "stderr",
          "text": [
            "      17/75      1.22G     0.3062         27        224: 100%|██████████| 3046/3046 [01:54<00:00, 26.64it/s]\n",
            "               classes   top1_acc   top5_acc: 100%|██████████| 170/170 [00:03<00:00, 47.96it/s]"
          ]
        },
        {
          "output_type": "stream",
          "name": "stdout",
          "text": [
            "                   all      0.981          1\n"
          ]
        },
        {
          "output_type": "stream",
          "name": "stderr",
          "text": [
            "\n"
          ]
        },
        {
          "output_type": "stream",
          "name": "stdout",
          "text": [
            "\n",
            "      Epoch    GPU_mem       loss  Instances       Size\n"
          ]
        },
        {
          "output_type": "stream",
          "name": "stderr",
          "text": [
            "      18/75      1.23G     0.3006         27        224: 100%|██████████| 3046/3046 [01:54<00:00, 26.68it/s]\n",
            "               classes   top1_acc   top5_acc: 100%|██████████| 170/170 [00:03<00:00, 48.01it/s]"
          ]
        },
        {
          "output_type": "stream",
          "name": "stdout",
          "text": [
            "                   all      0.982          1\n"
          ]
        },
        {
          "output_type": "stream",
          "name": "stderr",
          "text": [
            "\n"
          ]
        },
        {
          "output_type": "stream",
          "name": "stdout",
          "text": [
            "\n",
            "      Epoch    GPU_mem       loss  Instances       Size\n"
          ]
        },
        {
          "output_type": "stream",
          "name": "stderr",
          "text": [
            "      19/75      1.32G     0.2962         27        224: 100%|██████████| 3046/3046 [01:54<00:00, 26.70it/s]\n",
            "               classes   top1_acc   top5_acc: 100%|██████████| 170/170 [00:03<00:00, 47.78it/s]"
          ]
        },
        {
          "output_type": "stream",
          "name": "stdout",
          "text": [
            "                   all      0.982          1\n"
          ]
        },
        {
          "output_type": "stream",
          "name": "stderr",
          "text": [
            "\n"
          ]
        },
        {
          "output_type": "stream",
          "name": "stdout",
          "text": [
            "\n",
            "      Epoch    GPU_mem       loss  Instances       Size\n"
          ]
        },
        {
          "output_type": "stream",
          "name": "stderr",
          "text": [
            "      20/75      1.34G     0.2944         27        224: 100%|██████████| 3046/3046 [01:53<00:00, 26.77it/s]\n",
            "               classes   top1_acc   top5_acc: 100%|██████████| 170/170 [00:03<00:00, 48.33it/s]"
          ]
        },
        {
          "output_type": "stream",
          "name": "stdout",
          "text": [
            "                   all      0.982          1\n"
          ]
        },
        {
          "output_type": "stream",
          "name": "stderr",
          "text": [
            "\n"
          ]
        },
        {
          "output_type": "stream",
          "name": "stdout",
          "text": [
            "\n",
            "      Epoch    GPU_mem       loss  Instances       Size\n"
          ]
        },
        {
          "output_type": "stream",
          "name": "stderr",
          "text": [
            "      21/75      1.35G     0.2904         27        224: 100%|██████████| 3046/3046 [01:54<00:00, 26.71it/s]\n",
            "               classes   top1_acc   top5_acc: 100%|██████████| 170/170 [00:03<00:00, 46.84it/s]"
          ]
        },
        {
          "output_type": "stream",
          "name": "stdout",
          "text": [
            "                   all      0.982          1\n"
          ]
        },
        {
          "output_type": "stream",
          "name": "stderr",
          "text": [
            "\n"
          ]
        },
        {
          "output_type": "stream",
          "name": "stdout",
          "text": [
            "\n",
            "      Epoch    GPU_mem       loss  Instances       Size\n"
          ]
        },
        {
          "output_type": "stream",
          "name": "stderr",
          "text": [
            "      22/75      1.36G     0.2832         27        224: 100%|██████████| 3046/3046 [01:54<00:00, 26.68it/s]\n",
            "               classes   top1_acc   top5_acc: 100%|██████████| 170/170 [00:03<00:00, 46.82it/s]"
          ]
        },
        {
          "output_type": "stream",
          "name": "stdout",
          "text": [
            "                   all      0.983          1\n"
          ]
        },
        {
          "output_type": "stream",
          "name": "stderr",
          "text": [
            "\n"
          ]
        },
        {
          "output_type": "stream",
          "name": "stdout",
          "text": [
            "\n",
            "      Epoch    GPU_mem       loss  Instances       Size\n"
          ]
        },
        {
          "output_type": "stream",
          "name": "stderr",
          "text": [
            "      23/75      1.45G     0.2776         27        224: 100%|██████████| 3046/3046 [01:53<00:00, 26.83it/s]\n",
            "               classes   top1_acc   top5_acc: 100%|██████████| 170/170 [00:03<00:00, 46.45it/s]"
          ]
        },
        {
          "output_type": "stream",
          "name": "stdout",
          "text": [
            "                   all      0.983          1\n"
          ]
        },
        {
          "output_type": "stream",
          "name": "stderr",
          "text": [
            "\n"
          ]
        },
        {
          "output_type": "stream",
          "name": "stdout",
          "text": [
            "\n",
            "      Epoch    GPU_mem       loss  Instances       Size\n"
          ]
        },
        {
          "output_type": "stream",
          "name": "stderr",
          "text": [
            "      24/75      1.46G     0.2784         27        224: 100%|██████████| 3046/3046 [01:54<00:00, 26.70it/s]\n",
            "               classes   top1_acc   top5_acc: 100%|██████████| 170/170 [00:03<00:00, 48.70it/s]\n"
          ]
        },
        {
          "output_type": "stream",
          "name": "stdout",
          "text": [
            "                   all      0.984          1\n",
            "\n",
            "      Epoch    GPU_mem       loss  Instances       Size\n"
          ]
        },
        {
          "output_type": "stream",
          "name": "stderr",
          "text": [
            "      25/75      1.47G     0.2721         27        224: 100%|██████████| 3046/3046 [01:54<00:00, 26.70it/s]\n",
            "               classes   top1_acc   top5_acc: 100%|██████████| 170/170 [00:03<00:00, 47.58it/s]\n"
          ]
        },
        {
          "output_type": "stream",
          "name": "stdout",
          "text": [
            "                   all      0.983          1\n",
            "\n",
            "      Epoch    GPU_mem       loss  Instances       Size\n"
          ]
        },
        {
          "output_type": "stream",
          "name": "stderr",
          "text": [
            "      26/75      1.48G     0.2687         27        224: 100%|██████████| 3046/3046 [01:53<00:00, 26.74it/s]\n",
            "               classes   top1_acc   top5_acc: 100%|██████████| 170/170 [00:03<00:00, 48.98it/s]\n"
          ]
        },
        {
          "output_type": "stream",
          "name": "stdout",
          "text": [
            "                   all      0.984          1\n",
            "\n",
            "      Epoch    GPU_mem       loss  Instances       Size\n"
          ]
        },
        {
          "output_type": "stream",
          "name": "stderr",
          "text": [
            "      27/75      1.57G     0.2624         27        224: 100%|██████████| 3046/3046 [01:54<00:00, 26.70it/s]\n",
            "               classes   top1_acc   top5_acc: 100%|██████████| 170/170 [00:03<00:00, 47.06it/s]"
          ]
        },
        {
          "output_type": "stream",
          "name": "stdout",
          "text": [
            "                   all      0.985          1\n"
          ]
        },
        {
          "output_type": "stream",
          "name": "stderr",
          "text": [
            "\n"
          ]
        },
        {
          "output_type": "stream",
          "name": "stdout",
          "text": [
            "\n",
            "      Epoch    GPU_mem       loss  Instances       Size\n"
          ]
        },
        {
          "output_type": "stream",
          "name": "stderr",
          "text": [
            "      28/75      1.59G     0.2602         27        224: 100%|██████████| 3046/3046 [01:53<00:00, 26.75it/s]\n",
            "               classes   top1_acc   top5_acc: 100%|██████████| 170/170 [00:03<00:00, 46.91it/s]\n"
          ]
        },
        {
          "output_type": "stream",
          "name": "stdout",
          "text": [
            "                   all      0.985          1\n",
            "\n",
            "      Epoch    GPU_mem       loss  Instances       Size\n"
          ]
        },
        {
          "output_type": "stream",
          "name": "stderr",
          "text": [
            "      29/75       1.6G     0.2606         27        224: 100%|██████████| 3046/3046 [01:53<00:00, 26.73it/s]\n",
            "               classes   top1_acc   top5_acc: 100%|██████████| 170/170 [00:03<00:00, 46.84it/s]"
          ]
        },
        {
          "output_type": "stream",
          "name": "stdout",
          "text": [
            "                   all      0.985          1\n"
          ]
        },
        {
          "output_type": "stream",
          "name": "stderr",
          "text": [
            "\n"
          ]
        },
        {
          "output_type": "stream",
          "name": "stdout",
          "text": [
            "\n",
            "      Epoch    GPU_mem       loss  Instances       Size\n"
          ]
        },
        {
          "output_type": "stream",
          "name": "stderr",
          "text": [
            "      30/75      1.61G     0.2548         27        224: 100%|██████████| 3046/3046 [01:54<00:00, 26.64it/s]\n",
            "               classes   top1_acc   top5_acc: 100%|██████████| 170/170 [00:03<00:00, 47.82it/s]\n"
          ]
        },
        {
          "output_type": "stream",
          "name": "stdout",
          "text": [
            "                   all      0.985          1\n",
            "\n",
            "      Epoch    GPU_mem       loss  Instances       Size\n"
          ]
        },
        {
          "output_type": "stream",
          "name": "stderr",
          "text": [
            "      31/75       1.7G     0.2506         27        224: 100%|██████████| 3046/3046 [01:54<00:00, 26.71it/s]\n",
            "               classes   top1_acc   top5_acc: 100%|██████████| 170/170 [00:03<00:00, 48.98it/s]"
          ]
        },
        {
          "output_type": "stream",
          "name": "stdout",
          "text": [
            "                   all      0.986          1\n"
          ]
        },
        {
          "output_type": "stream",
          "name": "stderr",
          "text": [
            "\n"
          ]
        },
        {
          "output_type": "stream",
          "name": "stdout",
          "text": [
            "\n",
            "      Epoch    GPU_mem       loss  Instances       Size\n"
          ]
        },
        {
          "output_type": "stream",
          "name": "stderr",
          "text": [
            "      32/75      1.71G     0.2441         27        224: 100%|██████████| 3046/3046 [01:54<00:00, 26.57it/s]\n",
            "               classes   top1_acc   top5_acc: 100%|██████████| 170/170 [00:03<00:00, 48.51it/s]"
          ]
        },
        {
          "output_type": "stream",
          "name": "stdout",
          "text": [
            "                   all      0.986          1\n"
          ]
        },
        {
          "output_type": "stream",
          "name": "stderr",
          "text": [
            "\n"
          ]
        },
        {
          "output_type": "stream",
          "name": "stdout",
          "text": [
            "\n",
            "      Epoch    GPU_mem       loss  Instances       Size\n"
          ]
        },
        {
          "output_type": "stream",
          "name": "stderr",
          "text": [
            "      33/75      1.76G     0.2446         27        224: 100%|██████████| 3046/3046 [01:54<00:00, 26.59it/s]\n",
            "               classes   top1_acc   top5_acc: 100%|██████████| 170/170 [00:03<00:00, 46.35it/s]\n"
          ]
        },
        {
          "output_type": "stream",
          "name": "stdout",
          "text": [
            "                   all      0.986          1\n",
            "\n",
            "      Epoch    GPU_mem       loss  Instances       Size\n"
          ]
        },
        {
          "output_type": "stream",
          "name": "stderr",
          "text": [
            "      34/75      1.77G      0.245         27        224: 100%|██████████| 3046/3046 [01:54<00:00, 26.64it/s]\n",
            "               classes   top1_acc   top5_acc: 100%|██████████| 170/170 [00:03<00:00, 47.82it/s]"
          ]
        },
        {
          "output_type": "stream",
          "name": "stdout",
          "text": [
            "                   all      0.987          1\n"
          ]
        },
        {
          "output_type": "stream",
          "name": "stderr",
          "text": [
            "\n"
          ]
        },
        {
          "output_type": "stream",
          "name": "stdout",
          "text": [
            "\n",
            "      Epoch    GPU_mem       loss  Instances       Size\n"
          ]
        },
        {
          "output_type": "stream",
          "name": "stderr",
          "text": [
            "      35/75      1.78G     0.2402         27        224: 100%|██████████| 3046/3046 [01:54<00:00, 26.61it/s]\n",
            "               classes   top1_acc   top5_acc: 100%|██████████| 170/170 [00:03<00:00, 48.27it/s]\n"
          ]
        },
        {
          "output_type": "stream",
          "name": "stdout",
          "text": [
            "                   all      0.987          1\n",
            "\n",
            "      Epoch    GPU_mem       loss  Instances       Size\n"
          ]
        },
        {
          "output_type": "stream",
          "name": "stderr",
          "text": [
            "      36/75      1.79G     0.2353         27        224: 100%|██████████| 3046/3046 [01:54<00:00, 26.64it/s]\n",
            "               classes   top1_acc   top5_acc: 100%|██████████| 170/170 [00:03<00:00, 47.73it/s]"
          ]
        },
        {
          "output_type": "stream",
          "name": "stdout",
          "text": [
            "                   all      0.988          1\n"
          ]
        },
        {
          "output_type": "stream",
          "name": "stderr",
          "text": [
            "\n"
          ]
        },
        {
          "output_type": "stream",
          "name": "stdout",
          "text": [
            "\n",
            "      Epoch    GPU_mem       loss  Instances       Size\n"
          ]
        },
        {
          "output_type": "stream",
          "name": "stderr",
          "text": [
            "      37/75      1.88G     0.2297         27        224: 100%|██████████| 3046/3046 [01:54<00:00, 26.57it/s]\n",
            "               classes   top1_acc   top5_acc: 100%|██████████| 170/170 [00:03<00:00, 46.84it/s]"
          ]
        },
        {
          "output_type": "stream",
          "name": "stdout",
          "text": [
            "                   all      0.988          1\n"
          ]
        },
        {
          "output_type": "stream",
          "name": "stderr",
          "text": [
            "\n"
          ]
        },
        {
          "output_type": "stream",
          "name": "stdout",
          "text": [
            "\n",
            "      Epoch    GPU_mem       loss  Instances       Size\n"
          ]
        },
        {
          "output_type": "stream",
          "name": "stderr",
          "text": [
            "      38/75      1.89G     0.2281         27        224: 100%|██████████| 3046/3046 [01:54<00:00, 26.61it/s]\n",
            "               classes   top1_acc   top5_acc: 100%|██████████| 170/170 [00:03<00:00, 47.30it/s]"
          ]
        },
        {
          "output_type": "stream",
          "name": "stdout",
          "text": [
            "                   all      0.988          1\n"
          ]
        },
        {
          "output_type": "stream",
          "name": "stderr",
          "text": [
            "\n"
          ]
        },
        {
          "output_type": "stream",
          "name": "stdout",
          "text": [
            "\n",
            "      Epoch    GPU_mem       loss  Instances       Size\n"
          ]
        },
        {
          "output_type": "stream",
          "name": "stderr",
          "text": [
            "      39/75      1.91G     0.2229         27        224: 100%|██████████| 3046/3046 [01:54<00:00, 26.59it/s]\n",
            "               classes   top1_acc   top5_acc: 100%|██████████| 170/170 [00:03<00:00, 46.71it/s]"
          ]
        },
        {
          "output_type": "stream",
          "name": "stdout",
          "text": [
            "                   all      0.988          1\n"
          ]
        },
        {
          "output_type": "stream",
          "name": "stderr",
          "text": [
            "\n"
          ]
        },
        {
          "output_type": "stream",
          "name": "stdout",
          "text": [
            "\n",
            "      Epoch    GPU_mem       loss  Instances       Size\n"
          ]
        },
        {
          "output_type": "stream",
          "name": "stderr",
          "text": [
            "      40/75      1.92G     0.2231         27        224: 100%|██████████| 3046/3046 [01:54<00:00, 26.64it/s]\n",
            "               classes   top1_acc   top5_acc: 100%|██████████| 170/170 [00:03<00:00, 48.23it/s]"
          ]
        },
        {
          "output_type": "stream",
          "name": "stdout",
          "text": [
            "                   all      0.988          1\n"
          ]
        },
        {
          "output_type": "stream",
          "name": "stderr",
          "text": [
            "\n"
          ]
        },
        {
          "output_type": "stream",
          "name": "stdout",
          "text": [
            "\n",
            "      Epoch    GPU_mem       loss  Instances       Size\n"
          ]
        },
        {
          "output_type": "stream",
          "name": "stderr",
          "text": [
            "      41/75      2.01G     0.2203         27        224: 100%|██████████| 3046/3046 [01:54<00:00, 26.57it/s]\n",
            "               classes   top1_acc   top5_acc: 100%|██████████| 170/170 [00:03<00:00, 48.20it/s]"
          ]
        },
        {
          "output_type": "stream",
          "name": "stdout",
          "text": [
            "                   all      0.989          1\n"
          ]
        },
        {
          "output_type": "stream",
          "name": "stderr",
          "text": [
            "\n"
          ]
        },
        {
          "output_type": "stream",
          "name": "stdout",
          "text": [
            "\n",
            "      Epoch    GPU_mem       loss  Instances       Size\n"
          ]
        },
        {
          "output_type": "stream",
          "name": "stderr",
          "text": [
            "      42/75      2.02G     0.2127         27        224: 100%|██████████| 3046/3046 [01:54<00:00, 26.64it/s]\n",
            "               classes   top1_acc   top5_acc: 100%|██████████| 170/170 [00:03<00:00, 48.21it/s]\n"
          ]
        },
        {
          "output_type": "stream",
          "name": "stdout",
          "text": [
            "                   all      0.989          1\n",
            "\n",
            "      Epoch    GPU_mem       loss  Instances       Size\n"
          ]
        },
        {
          "output_type": "stream",
          "name": "stderr",
          "text": [
            "      43/75      2.03G     0.2132         27        224: 100%|██████████| 3046/3046 [01:54<00:00, 26.64it/s]\n",
            "               classes   top1_acc   top5_acc: 100%|██████████| 170/170 [00:03<00:00, 46.52it/s]\n"
          ]
        },
        {
          "output_type": "stream",
          "name": "stdout",
          "text": [
            "                   all      0.989          1\n",
            "\n",
            "      Epoch    GPU_mem       loss  Instances       Size\n"
          ]
        },
        {
          "output_type": "stream",
          "name": "stderr",
          "text": [
            "      44/75      2.04G     0.2102         27        224: 100%|██████████| 3046/3046 [01:55<00:00, 26.48it/s]\n",
            "               classes   top1_acc   top5_acc: 100%|██████████| 170/170 [00:03<00:00, 47.76it/s]"
          ]
        },
        {
          "output_type": "stream",
          "name": "stdout",
          "text": [
            "                   all      0.989          1\n"
          ]
        },
        {
          "output_type": "stream",
          "name": "stderr",
          "text": [
            "\n"
          ]
        },
        {
          "output_type": "stream",
          "name": "stdout",
          "text": [
            "\n",
            "      Epoch    GPU_mem       loss  Instances       Size\n"
          ]
        },
        {
          "output_type": "stream",
          "name": "stderr",
          "text": [
            "      45/75      2.13G     0.2045         27        224: 100%|██████████| 3046/3046 [01:54<00:00, 26.59it/s]\n",
            "               classes   top1_acc   top5_acc: 100%|██████████| 170/170 [00:03<00:00, 49.13it/s]\n"
          ]
        },
        {
          "output_type": "stream",
          "name": "stdout",
          "text": [
            "                   all       0.99          1\n",
            "\n",
            "      Epoch    GPU_mem       loss  Instances       Size\n"
          ]
        },
        {
          "output_type": "stream",
          "name": "stderr",
          "text": [
            "      46/75      2.14G     0.2008         27        224: 100%|██████████| 3046/3046 [01:54<00:00, 26.56it/s]\n",
            "               classes   top1_acc   top5_acc: 100%|██████████| 170/170 [00:03<00:00, 48.73it/s]\n"
          ]
        },
        {
          "output_type": "stream",
          "name": "stdout",
          "text": [
            "                   all      0.989          1\n",
            "\n",
            "      Epoch    GPU_mem       loss  Instances       Size\n"
          ]
        },
        {
          "output_type": "stream",
          "name": "stderr",
          "text": [
            "      47/75      2.16G     0.1982         27        224: 100%|██████████| 3046/3046 [01:54<00:00, 26.55it/s]\n",
            "               classes   top1_acc   top5_acc: 100%|██████████| 170/170 [00:03<00:00, 47.47it/s]\n"
          ]
        },
        {
          "output_type": "stream",
          "name": "stdout",
          "text": [
            "                   all       0.99          1\n",
            "\n",
            "      Epoch    GPU_mem       loss  Instances       Size\n"
          ]
        },
        {
          "output_type": "stream",
          "name": "stderr",
          "text": [
            "      48/75      2.17G     0.1926         27        224: 100%|██████████| 3046/3046 [01:54<00:00, 26.59it/s]\n",
            "               classes   top1_acc   top5_acc: 100%|██████████| 170/170 [00:03<00:00, 47.03it/s]"
          ]
        },
        {
          "output_type": "stream",
          "name": "stdout",
          "text": [
            "                   all       0.99          1\n"
          ]
        },
        {
          "output_type": "stream",
          "name": "stderr",
          "text": [
            "\n"
          ]
        },
        {
          "output_type": "stream",
          "name": "stdout",
          "text": [
            "\n",
            "      Epoch    GPU_mem       loss  Instances       Size\n"
          ]
        },
        {
          "output_type": "stream",
          "name": "stderr",
          "text": [
            "      49/75      2.26G     0.1892         27        224: 100%|██████████| 3046/3046 [01:54<00:00, 26.58it/s]\n",
            "               classes   top1_acc   top5_acc: 100%|██████████| 170/170 [00:03<00:00, 48.74it/s]\n"
          ]
        },
        {
          "output_type": "stream",
          "name": "stdout",
          "text": [
            "                   all       0.99          1\n",
            "\n",
            "      Epoch    GPU_mem       loss  Instances       Size\n"
          ]
        },
        {
          "output_type": "stream",
          "name": "stderr",
          "text": [
            "      50/75      2.27G     0.1863         27        224: 100%|██████████| 3046/3046 [01:54<00:00, 26.63it/s]\n",
            "               classes   top1_acc   top5_acc: 100%|██████████| 170/170 [00:03<00:00, 47.36it/s]"
          ]
        },
        {
          "output_type": "stream",
          "name": "stdout",
          "text": [
            "                   all      0.991          1\n"
          ]
        },
        {
          "output_type": "stream",
          "name": "stderr",
          "text": [
            "\n"
          ]
        },
        {
          "output_type": "stream",
          "name": "stdout",
          "text": [
            "\n",
            "      Epoch    GPU_mem       loss  Instances       Size\n"
          ]
        },
        {
          "output_type": "stream",
          "name": "stderr",
          "text": [
            "      51/75      2.28G     0.1827         27        224: 100%|██████████| 3046/3046 [01:54<00:00, 26.67it/s]\n",
            "               classes   top1_acc   top5_acc: 100%|██████████| 170/170 [00:03<00:00, 48.68it/s]"
          ]
        },
        {
          "output_type": "stream",
          "name": "stdout",
          "text": [
            "                   all      0.991          1\n"
          ]
        },
        {
          "output_type": "stream",
          "name": "stderr",
          "text": [
            "\n"
          ]
        },
        {
          "output_type": "stream",
          "name": "stdout",
          "text": [
            "\n",
            "      Epoch    GPU_mem       loss  Instances       Size\n"
          ]
        },
        {
          "output_type": "stream",
          "name": "stderr",
          "text": [
            "      52/75      2.29G     0.1822         27        224: 100%|██████████| 3046/3046 [01:54<00:00, 26.59it/s]\n",
            "               classes   top1_acc   top5_acc: 100%|██████████| 170/170 [00:03<00:00, 46.90it/s]\n"
          ]
        },
        {
          "output_type": "stream",
          "name": "stdout",
          "text": [
            "                   all      0.991          1\n",
            "\n",
            "      Epoch    GPU_mem       loss  Instances       Size\n"
          ]
        },
        {
          "output_type": "stream",
          "name": "stderr",
          "text": [
            "      53/75      2.38G     0.1772         27        224: 100%|██████████| 3046/3046 [01:54<00:00, 26.69it/s]\n",
            "               classes   top1_acc   top5_acc: 100%|██████████| 170/170 [00:03<00:00, 46.90it/s]"
          ]
        },
        {
          "output_type": "stream",
          "name": "stdout",
          "text": [
            "                   all      0.991          1\n"
          ]
        },
        {
          "output_type": "stream",
          "name": "stderr",
          "text": [
            "\n"
          ]
        },
        {
          "output_type": "stream",
          "name": "stdout",
          "text": [
            "\n",
            "      Epoch    GPU_mem       loss  Instances       Size\n"
          ]
        },
        {
          "output_type": "stream",
          "name": "stderr",
          "text": [
            "      54/75      2.39G     0.1757         27        224: 100%|██████████| 3046/3046 [01:54<00:00, 26.58it/s]\n",
            "               classes   top1_acc   top5_acc: 100%|██████████| 170/170 [00:03<00:00, 47.81it/s]"
          ]
        },
        {
          "output_type": "stream",
          "name": "stdout",
          "text": [
            "                   all      0.991          1\n"
          ]
        },
        {
          "output_type": "stream",
          "name": "stderr",
          "text": [
            "\n"
          ]
        },
        {
          "output_type": "stream",
          "name": "stdout",
          "text": [
            "\n",
            "      Epoch    GPU_mem       loss  Instances       Size\n"
          ]
        },
        {
          "output_type": "stream",
          "name": "stderr",
          "text": [
            "      55/75      2.41G     0.1717         27        224: 100%|██████████| 3046/3046 [01:54<00:00, 26.55it/s]\n",
            "               classes   top1_acc   top5_acc: 100%|██████████| 170/170 [00:03<00:00, 47.67it/s]\n"
          ]
        },
        {
          "output_type": "stream",
          "name": "stdout",
          "text": [
            "                   all      0.992          1\n",
            "\n",
            "      Epoch    GPU_mem       loss  Instances       Size\n"
          ]
        },
        {
          "output_type": "stream",
          "name": "stderr",
          "text": [
            "      56/75      2.42G     0.1658         27        224: 100%|██████████| 3046/3046 [01:55<00:00, 26.48it/s]\n",
            "               classes   top1_acc   top5_acc: 100%|██████████| 170/170 [00:03<00:00, 47.42it/s]\n"
          ]
        },
        {
          "output_type": "stream",
          "name": "stdout",
          "text": [
            "                   all      0.992          1\n",
            "\n",
            "      Epoch    GPU_mem       loss  Instances       Size\n"
          ]
        },
        {
          "output_type": "stream",
          "name": "stderr",
          "text": [
            "      57/75      2.51G     0.1639         27        224: 100%|██████████| 3046/3046 [01:55<00:00, 26.36it/s]\n",
            "               classes   top1_acc   top5_acc: 100%|██████████| 170/170 [00:03<00:00, 46.78it/s]"
          ]
        },
        {
          "output_type": "stream",
          "name": "stdout",
          "text": [
            "                   all      0.992          1\n"
          ]
        },
        {
          "output_type": "stream",
          "name": "stderr",
          "text": [
            "\n"
          ]
        },
        {
          "output_type": "stream",
          "name": "stdout",
          "text": [
            "\n",
            "      Epoch    GPU_mem       loss  Instances       Size\n"
          ]
        },
        {
          "output_type": "stream",
          "name": "stderr",
          "text": [
            "      58/75      2.52G     0.1621         27        224: 100%|██████████| 3046/3046 [01:54<00:00, 26.56it/s]\n",
            "               classes   top1_acc   top5_acc: 100%|██████████| 170/170 [00:03<00:00, 48.56it/s]\n"
          ]
        },
        {
          "output_type": "stream",
          "name": "stdout",
          "text": [
            "                   all      0.992          1\n",
            "\n",
            "      Epoch    GPU_mem       loss  Instances       Size\n"
          ]
        },
        {
          "output_type": "stream",
          "name": "stderr",
          "text": [
            "      59/75      2.53G     0.1582         27        224: 100%|██████████| 3046/3046 [01:55<00:00, 26.44it/s]\n",
            "               classes   top1_acc   top5_acc: 100%|██████████| 170/170 [00:03<00:00, 47.98it/s]"
          ]
        },
        {
          "output_type": "stream",
          "name": "stdout",
          "text": [
            "                   all      0.992          1\n"
          ]
        },
        {
          "output_type": "stream",
          "name": "stderr",
          "text": [
            "\n"
          ]
        },
        {
          "output_type": "stream",
          "name": "stdout",
          "text": [
            "\n",
            "      Epoch    GPU_mem       loss  Instances       Size\n"
          ]
        },
        {
          "output_type": "stream",
          "name": "stderr",
          "text": [
            "      60/75      2.54G     0.1525         27        224: 100%|██████████| 3046/3046 [01:54<00:00, 26.51it/s]\n",
            "               classes   top1_acc   top5_acc: 100%|██████████| 170/170 [00:03<00:00, 49.33it/s]\n"
          ]
        },
        {
          "output_type": "stream",
          "name": "stdout",
          "text": [
            "                   all      0.992          1\n",
            "\n",
            "      Epoch    GPU_mem       loss  Instances       Size\n"
          ]
        },
        {
          "output_type": "stream",
          "name": "stderr",
          "text": [
            "      61/75      2.63G      0.148         27        224: 100%|██████████| 3046/3046 [01:54<00:00, 26.52it/s]\n",
            "               classes   top1_acc   top5_acc: 100%|██████████| 170/170 [00:03<00:00, 46.33it/s]"
          ]
        },
        {
          "output_type": "stream",
          "name": "stdout",
          "text": [
            "                   all      0.992          1\n"
          ]
        },
        {
          "output_type": "stream",
          "name": "stderr",
          "text": [
            "\n"
          ]
        },
        {
          "output_type": "stream",
          "name": "stdout",
          "text": [
            "\n",
            "      Epoch    GPU_mem       loss  Instances       Size\n"
          ]
        },
        {
          "output_type": "stream",
          "name": "stderr",
          "text": [
            "      62/75      2.65G     0.1458         27        224: 100%|██████████| 3046/3046 [01:55<00:00, 26.32it/s]\n",
            "               classes   top1_acc   top5_acc: 100%|██████████| 170/170 [00:03<00:00, 48.47it/s]"
          ]
        },
        {
          "output_type": "stream",
          "name": "stdout",
          "text": [
            "                   all      0.992          1\n"
          ]
        },
        {
          "output_type": "stream",
          "name": "stderr",
          "text": [
            "\n"
          ]
        },
        {
          "output_type": "stream",
          "name": "stdout",
          "text": [
            "\n",
            "      Epoch    GPU_mem       loss  Instances       Size\n"
          ]
        },
        {
          "output_type": "stream",
          "name": "stderr",
          "text": [
            "      63/75      2.66G     0.1461         27        224: 100%|██████████| 3046/3046 [01:55<00:00, 26.46it/s]\n",
            "               classes   top1_acc   top5_acc: 100%|██████████| 170/170 [00:03<00:00, 48.32it/s]"
          ]
        },
        {
          "output_type": "stream",
          "name": "stdout",
          "text": [
            "                   all      0.993          1\n"
          ]
        },
        {
          "output_type": "stream",
          "name": "stderr",
          "text": [
            "\n"
          ]
        },
        {
          "output_type": "stream",
          "name": "stdout",
          "text": [
            "\n",
            "      Epoch    GPU_mem       loss  Instances       Size\n"
          ]
        },
        {
          "output_type": "stream",
          "name": "stderr",
          "text": [
            "      64/75      2.67G     0.1409         27        224: 100%|██████████| 3046/3046 [01:55<00:00, 26.38it/s]\n",
            "               classes   top1_acc   top5_acc: 100%|██████████| 170/170 [00:03<00:00, 49.00it/s]\n"
          ]
        },
        {
          "output_type": "stream",
          "name": "stdout",
          "text": [
            "                   all      0.993          1\n",
            "\n",
            "      Epoch    GPU_mem       loss  Instances       Size\n"
          ]
        },
        {
          "output_type": "stream",
          "name": "stderr",
          "text": [
            "      65/75      2.76G     0.1337         27        224: 100%|██████████| 3046/3046 [01:55<00:00, 26.39it/s]\n",
            "               classes   top1_acc   top5_acc: 100%|██████████| 170/170 [00:03<00:00, 46.52it/s]"
          ]
        },
        {
          "output_type": "stream",
          "name": "stdout",
          "text": [
            "                   all      0.993          1\n"
          ]
        },
        {
          "output_type": "stream",
          "name": "stderr",
          "text": [
            "\n"
          ]
        },
        {
          "output_type": "stream",
          "name": "stdout",
          "text": [
            "\n",
            "      Epoch    GPU_mem       loss  Instances       Size\n"
          ]
        },
        {
          "output_type": "stream",
          "name": "stderr",
          "text": [
            "      66/75      2.77G     0.1316         27        224: 100%|██████████| 3046/3046 [01:55<00:00, 26.32it/s]\n",
            "               classes   top1_acc   top5_acc: 100%|██████████| 170/170 [00:03<00:00, 48.36it/s]\n"
          ]
        },
        {
          "output_type": "stream",
          "name": "stdout",
          "text": [
            "                   all      0.993          1\n",
            "\n",
            "      Epoch    GPU_mem       loss  Instances       Size\n"
          ]
        },
        {
          "output_type": "stream",
          "name": "stderr",
          "text": [
            "      67/75      2.78G      0.127         27        224: 100%|██████████| 3046/3046 [01:55<00:00, 26.46it/s]\n",
            "               classes   top1_acc   top5_acc: 100%|██████████| 170/170 [00:03<00:00, 49.02it/s]"
          ]
        },
        {
          "output_type": "stream",
          "name": "stdout",
          "text": [
            "                   all      0.993          1\n"
          ]
        },
        {
          "output_type": "stream",
          "name": "stderr",
          "text": [
            "\n"
          ]
        },
        {
          "output_type": "stream",
          "name": "stdout",
          "text": [
            "\n",
            "      Epoch    GPU_mem       loss  Instances       Size\n"
          ]
        },
        {
          "output_type": "stream",
          "name": "stderr",
          "text": [
            "      68/75      2.79G     0.1234         27        224: 100%|██████████| 3046/3046 [01:54<00:00, 26.54it/s]\n",
            "               classes   top1_acc   top5_acc: 100%|██████████| 170/170 [00:03<00:00, 47.90it/s]\n"
          ]
        },
        {
          "output_type": "stream",
          "name": "stdout",
          "text": [
            "                   all      0.993          1\n",
            "\n",
            "      Epoch    GPU_mem       loss  Instances       Size\n"
          ]
        },
        {
          "output_type": "stream",
          "name": "stderr",
          "text": [
            "      69/75      2.88G     0.1215         27        224: 100%|██████████| 3046/3046 [01:55<00:00, 26.45it/s]\n",
            "               classes   top1_acc   top5_acc: 100%|██████████| 170/170 [00:03<00:00, 47.28it/s]\n"
          ]
        },
        {
          "output_type": "stream",
          "name": "stdout",
          "text": [
            "                   all      0.993          1\n",
            "\n",
            "      Epoch    GPU_mem       loss  Instances       Size\n"
          ]
        },
        {
          "output_type": "stream",
          "name": "stderr",
          "text": [
            "      70/75      2.89G     0.1175         27        224: 100%|██████████| 3046/3046 [01:55<00:00, 26.33it/s]\n",
            "               classes   top1_acc   top5_acc: 100%|██████████| 170/170 [00:03<00:00, 49.95it/s]\n"
          ]
        },
        {
          "output_type": "stream",
          "name": "stdout",
          "text": [
            "                   all      0.994          1\n",
            "\n",
            "      Epoch    GPU_mem       loss  Instances       Size\n"
          ]
        },
        {
          "output_type": "stream",
          "name": "stderr",
          "text": [
            "      71/75      2.91G     0.1141         27        224: 100%|██████████| 3046/3046 [01:55<00:00, 26.44it/s]\n",
            "               classes   top1_acc   top5_acc: 100%|██████████| 170/170 [00:03<00:00, 48.96it/s]"
          ]
        },
        {
          "output_type": "stream",
          "name": "stdout",
          "text": [
            "                   all      0.994          1\n"
          ]
        },
        {
          "output_type": "stream",
          "name": "stderr",
          "text": [
            "\n"
          ]
        },
        {
          "output_type": "stream",
          "name": "stdout",
          "text": [
            "\n",
            "      Epoch    GPU_mem       loss  Instances       Size\n"
          ]
        },
        {
          "output_type": "stream",
          "name": "stderr",
          "text": [
            "      72/75      2.92G      0.111         27        224: 100%|██████████| 3046/3046 [01:55<00:00, 26.43it/s]\n",
            "               classes   top1_acc   top5_acc: 100%|██████████| 170/170 [00:03<00:00, 47.52it/s]"
          ]
        },
        {
          "output_type": "stream",
          "name": "stdout",
          "text": [
            "                   all      0.994          1\n"
          ]
        },
        {
          "output_type": "stream",
          "name": "stderr",
          "text": [
            "\n"
          ]
        },
        {
          "output_type": "stream",
          "name": "stdout",
          "text": [
            "\n",
            "      Epoch    GPU_mem       loss  Instances       Size\n"
          ]
        },
        {
          "output_type": "stream",
          "name": "stderr",
          "text": [
            "      73/75      3.01G     0.1069         27        224: 100%|██████████| 3046/3046 [01:54<00:00, 26.55it/s]\n",
            "               classes   top1_acc   top5_acc: 100%|██████████| 170/170 [00:03<00:00, 48.40it/s]"
          ]
        },
        {
          "output_type": "stream",
          "name": "stdout",
          "text": [
            "                   all      0.994          1\n"
          ]
        },
        {
          "output_type": "stream",
          "name": "stderr",
          "text": [
            "\n"
          ]
        },
        {
          "output_type": "stream",
          "name": "stdout",
          "text": [
            "\n",
            "      Epoch    GPU_mem       loss  Instances       Size\n"
          ]
        },
        {
          "output_type": "stream",
          "name": "stderr",
          "text": [
            "      74/75      3.02G     0.1076         27        224: 100%|██████████| 3046/3046 [01:55<00:00, 26.41it/s]\n",
            "               classes   top1_acc   top5_acc: 100%|██████████| 170/170 [00:03<00:00, 48.55it/s]"
          ]
        },
        {
          "output_type": "stream",
          "name": "stdout",
          "text": [
            "                   all      0.994          1\n"
          ]
        },
        {
          "output_type": "stream",
          "name": "stderr",
          "text": [
            "\n"
          ]
        },
        {
          "output_type": "stream",
          "name": "stdout",
          "text": [
            "\n",
            "      Epoch    GPU_mem       loss  Instances       Size\n"
          ]
        },
        {
          "output_type": "stream",
          "name": "stderr",
          "text": [
            "      75/75      3.03G     0.1024         27        224: 100%|██████████| 3046/3046 [01:55<00:00, 26.41it/s]\n",
            "               classes   top1_acc   top5_acc: 100%|██████████| 170/170 [00:03<00:00, 47.84it/s]"
          ]
        },
        {
          "output_type": "stream",
          "name": "stdout",
          "text": [
            "                   all      0.994          1\n"
          ]
        },
        {
          "output_type": "stream",
          "name": "stderr",
          "text": [
            "\n"
          ]
        },
        {
          "output_type": "stream",
          "name": "stdout",
          "text": [
            "\n",
            "75 epochs completed in 2.469 hours.\n",
            "Optimizer stripped from /content/drive/MyDrive/yolov8s_cls_224_mergedclasses_results/yolov8s_focal224/weights/last.pt, 10.3MB\n",
            "Optimizer stripped from /content/drive/MyDrive/yolov8s_cls_224_mergedclasses_results/yolov8s_focal224/weights/best.pt, 10.3MB\n",
            "\n",
            "Validating /content/drive/MyDrive/yolov8s_cls_224_mergedclasses_results/yolov8s_focal224/weights/best.pt...\n",
            "Ultralytics 8.3.146 🚀 Python-3.11.12 torch-2.6.0+cu124 CUDA:0 (NVIDIA L4, 22693MiB)\n",
            "YOLOv8s-cls summary (fused): 30 layers, 5,089,291 parameters, 0 gradients, 12.5 GFLOPs\n",
            "\u001b[34m\u001b[1mtrain:\u001b[0m /content/dataset224/Split224_rgbgray_mergedclasses/train... found 97467 images in 11 classes ✅ \n",
            "\u001b[34m\u001b[1mval:\u001b[0m /content/dataset224/Split224_rgbgray_mergedclasses/val... found 10839 images in 11 classes ✅ \n",
            "\u001b[34m\u001b[1mtest:\u001b[0m None...\n"
          ]
        },
        {
          "output_type": "stream",
          "name": "stderr",
          "text": [
            "               classes   top1_acc   top5_acc: 100%|██████████| 170/170 [00:03<00:00, 45.17it/s]\n"
          ]
        },
        {
          "output_type": "stream",
          "name": "stdout",
          "text": [
            "                   all      0.994          1\n",
            "Speed: 0.1ms preprocess, 0.1ms inference, 0.0ms loss, 0.0ms postprocess per image\n",
            "Results saved to \u001b[1m/content/drive/MyDrive/yolov8s_cls_224_mergedclasses_results/yolov8s_focal224\u001b[0m\n",
            "\n",
            "📊 Running final validation…\n",
            "Ultralytics 8.3.146 🚀 Python-3.11.12 torch-2.6.0+cu124 CUDA:0 (NVIDIA L4, 22693MiB)\n",
            "YOLOv8s-cls summary (fused): 30 layers, 5,089,291 parameters, 0 gradients, 12.5 GFLOPs\n",
            "\u001b[34m\u001b[1mtrain:\u001b[0m /content/dataset224/Split224_rgbgray_mergedclasses/train... found 97467 images in 11 classes ✅ \n",
            "\u001b[34m\u001b[1mval:\u001b[0m /content/dataset224/Split224_rgbgray_mergedclasses/val... found 10839 images in 11 classes ✅ \n",
            "\u001b[34m\u001b[1mtest:\u001b[0m None...\n",
            "\u001b[34m\u001b[1mval: \u001b[0mFast image access ✅ (ping: 0.0±0.0 ms, read: 538.5±234.1 MB/s, size: 14.1 KB)\n"
          ]
        },
        {
          "output_type": "stream",
          "name": "stderr",
          "text": [
            "\u001b[34m\u001b[1mval: \u001b[0mScanning /content/dataset224/Split224_rgbgray_mergedclasses/val... 10839 images, 0 corrupt: 100%|██████████| 10839/10839 [00:00<?, ?it/s]\n",
            "               classes   top1_acc   top5_acc: 100%|██████████| 339/339 [00:04<00:00, 75.62it/s]\n"
          ]
        },
        {
          "output_type": "stream",
          "name": "stdout",
          "text": [
            "                   all      0.994          1\n",
            "Speed: 0.1ms preprocess, 0.2ms inference, 0.0ms loss, 0.0ms postprocess per image\n",
            "Results saved to \u001b[1m/content/drive/MyDrive/yolov8s_cls_224_mergedclasses_results/yolov8s_focal2242\u001b[0m\n",
            "✅ Best weights saved to: /content/drive/MyDrive/yolov8s_cls_224_mergedclasses_results/yolov8s_focal224/weights/best.pt\n"
          ]
        }
      ]
    },
    {
      "cell_type": "code",
      "source": [
        "import os\n",
        "import time\n",
        "from google.colab import runtime\n",
        "\n",
        "# Wait for training to complete before disconnecting\n",
        "print(\"Training completed! Releasing GPU resources...\")\n",
        "time.sleep(20)  # Give some time for final processing\n",
        "\n",
        "# Automatically disconnect the Colab session\n",
        "runtime.unassign()\n",
        "os._exit(0)"
      ],
      "metadata": {
        "colab": {
          "base_uri": "https://localhost:8080/"
        },
        "id": "vbPSxOy84AVC",
        "outputId": "9550a647-a4f7-4738-899c-0cbd1b091ecc"
      },
      "execution_count": null,
      "outputs": [
        {
          "output_type": "stream",
          "name": "stdout",
          "text": [
            "Training completed! Releasing GPU resources...\n"
          ]
        }
      ]
    }
  ]
}